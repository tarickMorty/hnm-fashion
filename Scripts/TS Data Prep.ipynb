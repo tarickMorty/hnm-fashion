{
 "cells": [
  {
   "cell_type": "code",
   "execution_count": 1,
   "id": "bfbf20d2",
   "metadata": {},
   "outputs": [],
   "source": [
    "import numpy as np\n",
    "import pandas as pd\n",
    "import os\n",
    "import glob\n",
    "from tqdm import tqdm\n",
    "import datetime\n",
    "import gc\n",
    "import random\n",
    "pd.set_option(\"display.max_columns\", 500)\n",
    "pd.set_option(\"display.max_rows\", 500)"
   ]
  },
  {
   "cell_type": "code",
   "execution_count": 2,
   "id": "f6e19c50",
   "metadata": {},
   "outputs": [],
   "source": [
    "data = pd.read_csv(\"trn_art_agg_cust_ywk.csv\")"
   ]
  },
  {
   "cell_type": "code",
   "execution_count": 4,
   "id": "3cc0a31f",
   "metadata": {},
   "outputs": [],
   "source": [
    "fix_weeks = {20181:201801, 20191:201901, 20192:201902, 20193:201903, 20194:201904, 20195:201905, 20196:201906, \n",
    "             20197:201907, 20198:201908, 20199:201909, 20201:202001, 20202:202002, \n",
    "             20203:202003, 20204:202004, 20205:202005, 20206:202006, 20207:202007, 20208:202008, 20209:202009}\n",
    "\n",
    "data['YearWeek'] = data['YearWeek'].replace(fix_weeks)"
   ]
  },
  {
   "cell_type": "code",
   "execution_count": 5,
   "id": "4aa43735",
   "metadata": {},
   "outputs": [],
   "source": [
    "data['customer_id'] = data['customer_id'].apply(lambda x: int(x[-16:],16) ).astype('int64')"
   ]
  },
  {
   "cell_type": "code",
   "execution_count": 6,
   "id": "18932cc4",
   "metadata": {},
   "outputs": [
    {
     "data": {
      "text/plain": [
       "(77332413, 77332413)"
      ]
     },
     "execution_count": 6,
     "metadata": {},
     "output_type": "execute_result"
    }
   ],
   "source": [
    "new_df = pd.DataFrame()\n",
    "\n",
    "week_list = []\n",
    "cust_week_list = []\n",
    "\n",
    "cust_list = data.customer_id.unique().tolist()\n",
    "all_weeks = [i for i in range(201934, 201953)] + [i for i in range(202001, data.YearWeek.max()+1)]\n",
    "# all_weeks = [i for i in range(data.YearWeek.min(), 201853)] + [i for i in range(201901, 201953)] + [i for i in range(202001, data.YearWeek.max()+1)]\n",
    "\n",
    "for customer in cust_list:\n",
    "    cust_week_list.extend([customer]*len(all_weeks))\n",
    "    week_list.extend(all_weeks)\n",
    "\n",
    "len(week_list), len(cust_week_list)"
   ]
  },
  {
   "cell_type": "code",
   "execution_count": 7,
   "id": "9cc49f05",
   "metadata": {},
   "outputs": [],
   "source": [
    "new_df['customer_id'] = cust_week_list\n",
    "new_df['YearWeek'] = week_list\n",
    "\n",
    "del week_list, cust_week_list"
   ]
  },
  {
   "cell_type": "code",
   "execution_count": 8,
   "id": "f326c94f",
   "metadata": {},
   "outputs": [
    {
     "data": {
      "text/plain": [
       "0"
      ]
     },
     "execution_count": 8,
     "metadata": {},
     "output_type": "execute_result"
    }
   ],
   "source": [
    "new_df = new_df.merge(data, on=['customer_id', 'YearWeek'], how='left').fillna(0)\n",
    "\n",
    "del data\n",
    "gc.collect()"
   ]
  },
  {
   "cell_type": "code",
   "execution_count": 9,
   "id": "ad01ee3d",
   "metadata": {},
   "outputs": [],
   "source": [
    "# new_df.to_csv('trn_art_agg_cust_ywk_ts_1933.csv', index=False)"
   ]
  },
  {
   "cell_type": "code",
   "execution_count": 10,
   "id": "ce7912bc",
   "metadata": {},
   "outputs": [],
   "source": [
    "# Lag and rolling feature engineering based on number of days of the weekly model\n",
    "\n",
    "def simple_feat_revenue(data, days, target):\n",
    "\n",
    "    df = data[['customer_id', 'YearWeek', target]].copy()\n",
    "    sdays = days\n",
    "    group = df.groupby('customer_id')[target]\n",
    "\n",
    "    df['lag_ts0'] = group.transform(lambda x: x.shift(sdays))\n",
    "    df['lag_ts1'] = group.transform(lambda x: x.shift(sdays+1))\n",
    "    df['lag_ts2'] = group.transform(lambda x: x.shift(sdays+2))\n",
    "    print('Lag FE Finished.')\n",
    "\n",
    "    df['rolling_mean_t4'] = group.transform(lambda x: x.shift(sdays).rolling(4).mean())\n",
    "    df['rolling_mean_t8'] = group.transform(lambda x: x.shift(sdays).rolling(8).mean())\n",
    "    df['rolling_mean_t16'] = group.transform(lambda x: x.shift(sdays).rolling(16).mean())\n",
    "    df['rolling_mean_t32'] = group.transform(lambda x: x.shift(sdays).rolling(32).mean())\n",
    "    print('Rolling FE Finished.')\n",
    "\n",
    "#     df['rolling_std_t4'] = group.transform(lambda x: x.shift(sdays).rolling(4).std())\n",
    "#     df['rolling_std_t8'] = group.transform(lambda x: x.shift(sdays).rolling(8).std())\n",
    "#     df['rolling_std_t16'] = group.transform(lambda x: x.shift(sdays).rolling(16).std())\n",
    "#     df['rolling_std_t32'] = group.transform(lambda x: x.shift(sdays).rolling(32).std())\n",
    "    \n",
    "#     df['rolling_skew_t3'] = group.transform(lambda x: x.shift(sdays).rolling(3).skew())\n",
    "#     df['rolling_skew_t6'] = group.transform(lambda x: x.shift(sdays).rolling(6).skew())\n",
    "#     df['rolling_skew_t12'] = group.transform(lambda x: x.shift(sdays).rolling(12).skew())\n",
    "#     df['rolling_skew_t24'] = group.transform(lambda x: x.shift(sdays).rolling(24).skew())\n",
    "#     print('SD FE Finished.')\n",
    "\n",
    "#     df['rolling_max_t5'] = group.transform(lambda x: x.shift(sdays).rolling(5).max())\n",
    "#     df['rolling_max_t10'] = group.transform(lambda x: x.shift(sdays).rolling(10).max())\n",
    "#     df['rolling_max_t15'] = group.transform(lambda x: x.shift(sdays).rolling(15).max())\n",
    "\n",
    "    del group \n",
    "    print('Feature Engineering Finished.')\n",
    "\n",
    "    return df"
   ]
  },
  {
   "cell_type": "code",
   "execution_count": 11,
   "id": "824be233",
   "metadata": {},
   "outputs": [
    {
     "name": "stdout",
     "output_type": "stream",
     "text": [
      "<class 'pandas.core.frame.DataFrame'>\n",
      "Int64Index: 77332413 entries, 0 to 77332412\n",
      "Data columns (total 11 columns):\n",
      " #   Column                          Non-Null Count     Dtype  \n",
      "---  ------                          --------------     -----  \n",
      " 0   customer_id                     77332413 non-null  int64  \n",
      " 1   YearWeek                        77332413 non-null  int64  \n",
      " 2   Children Accessories, Swimwear  77332413 non-null  float64\n",
      " 3   Children Sizes 134-170          77332413 non-null  float64\n",
      " 4   Children Sizes 92-140           77332413 non-null  float64\n",
      " 5   Divided                         77332413 non-null  float64\n",
      " 6   Ladies Accessories              77332413 non-null  float64\n",
      " 7   Ladieswear                      77332413 non-null  float64\n",
      " 8   Lingeries/Tights                77332413 non-null  float64\n",
      " 9   Menswear                        77332413 non-null  float64\n",
      " 10  Sport                           77332413 non-null  float64\n",
      "dtypes: float64(9), int64(2)\n",
      "memory usage: 6.9 GB\n"
     ]
    }
   ],
   "source": [
    "new_df.info(null_counts=True)"
   ]
  },
  {
   "cell_type": "code",
   "execution_count": 12,
   "id": "e3321400",
   "metadata": {},
   "outputs": [],
   "source": [
    "def reduce_mem_usage(df, verbose=True):\n",
    "    numerics = ['int16', 'int32', 'int64', 'float16', 'float32', 'float64']\n",
    "    start_mem = df.memory_usage().sum() / 1024**2    \n",
    "    for col in df.columns:\n",
    "        col_type = df[col].dtypes\n",
    "        if col_type in numerics:\n",
    "            c_min = df[col].min()\n",
    "            c_max = df[col].max()\n",
    "            if str(col_type)[:3] == 'int':\n",
    "                if c_min > np.iinfo(np.int8).min and c_max < np.iinfo(np.int8).max:\n",
    "                    df[col] = df[col].astype(np.int8)\n",
    "                elif c_min > np.iinfo(np.int16).min and c_max < np.iinfo(np.int16).max:\n",
    "                    df[col] = df[col].astype(np.int16)\n",
    "                elif c_min > np.iinfo(np.int32).min and c_max < np.iinfo(np.int32).max:\n",
    "                    df[col] = df[col].astype(np.int32)\n",
    "                elif c_min > np.iinfo(np.int64).min and c_max < np.iinfo(np.int64).max:\n",
    "                    df[col] = df[col].astype(np.int64)  \n",
    "            else:\n",
    "                if c_min > np.finfo(np.float16).min and c_max < np.finfo(np.float16).max:\n",
    "                    df[col] = df[col].astype(np.float16)\n",
    "                elif c_min > np.finfo(np.float32).min and c_max < np.finfo(np.float32).max:\n",
    "                    df[col] = df[col].astype(np.float32)\n",
    "                else:\n",
    "                    df[col] = df[col].astype(np.float64)    \n",
    "    end_mem = df.memory_usage().sum() / 1024**2\n",
    "    if verbose: print('Mem. usage decreased to {:5.2f} Mb ({:.1f}% reduction)'\n",
    "                      .format(end_mem, 100 * (start_mem - end_mem) / start_mem))\n",
    "    return df"
   ]
  },
  {
   "cell_type": "code",
   "execution_count": 13,
   "id": "8b4d8144",
   "metadata": {},
   "outputs": [
    {
     "name": "stdout",
     "output_type": "stream",
     "text": [
      "Mem. usage decreased to 2802.50 Mb (60.4% reduction)\n"
     ]
    }
   ],
   "source": [
    "# new_df = reduce_mem_usage(new_df, verbose=True)"
   ]
  },
  {
   "cell_type": "code",
   "execution_count": 13,
   "id": "e73f72e1",
   "metadata": {
    "scrolled": true
   },
   "outputs": [],
   "source": [
    "target_list = ['Children Accessories, Swimwear',\n",
    "                'Children Sizes 134-170', 'Children Sizes 92-140', 'Divided',\n",
    "                'Ladies Accessories', 'Ladieswear', 'Lingeries/Tights', 'Menswear',\n",
    "                'Sport']"
   ]
  },
  {
   "cell_type": "code",
   "execution_count": null,
   "id": "34eda0d1",
   "metadata": {},
   "outputs": [],
   "source": [
    "t1_df = simple_feat_revenue(new_df, 1, 'Children Accessories, Swimwear')"
   ]
  },
  {
   "cell_type": "code",
   "execution_count": null,
   "id": "a3ebedce",
   "metadata": {},
   "outputs": [],
   "source": [
    "t1_df.info(null_counts=True)"
   ]
  },
  {
   "cell_type": "code",
   "execution_count": null,
   "id": "f11ed0e4",
   "metadata": {},
   "outputs": [],
   "source": []
  },
  {
   "cell_type": "code",
   "execution_count": null,
   "id": "17381367",
   "metadata": {},
   "outputs": [],
   "source": []
  },
  {
   "cell_type": "code",
   "execution_count": null,
   "id": "2513b412",
   "metadata": {},
   "outputs": [],
   "source": []
  },
  {
   "cell_type": "code",
   "execution_count": null,
   "id": "4c6fb3ca",
   "metadata": {},
   "outputs": [],
   "source": []
  },
  {
   "cell_type": "code",
   "execution_count": null,
   "id": "48725a29",
   "metadata": {},
   "outputs": [],
   "source": []
  },
  {
   "cell_type": "code",
   "execution_count": null,
   "id": "025182a3",
   "metadata": {},
   "outputs": [],
   "source": []
  },
  {
   "cell_type": "code",
   "execution_count": null,
   "id": "bc371265",
   "metadata": {},
   "outputs": [],
   "source": []
  }
 ],
 "metadata": {
  "kernelspec": {
   "display_name": "Python 3",
   "language": "python",
   "name": "python3"
  },
  "language_info": {
   "codemirror_mode": {
    "name": "ipython",
    "version": 3
   },
   "file_extension": ".py",
   "mimetype": "text/x-python",
   "name": "python",
   "nbconvert_exporter": "python",
   "pygments_lexer": "ipython3",
   "version": "3.6.13"
  }
 },
 "nbformat": 4,
 "nbformat_minor": 5
}
