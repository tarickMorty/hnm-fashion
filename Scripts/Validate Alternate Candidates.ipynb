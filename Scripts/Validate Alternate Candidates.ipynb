{
 "cells": [
  {
   "cell_type": "code",
   "execution_count": 1,
   "id": "517f615f",
   "metadata": {},
   "outputs": [],
   "source": [
    "from sklearn.base import BaseEstimator, TransformerMixin\n",
    "import numpy as np\n",
    "import pandas as pd"
   ]
  },
  {
   "cell_type": "code",
   "execution_count": 2,
   "id": "8fa87c4e",
   "metadata": {},
   "outputs": [
    {
     "name": "stdout",
     "output_type": "stream",
     "text": [
      "CPU times: user 2.88 s, sys: 1.83 s, total: 4.71 s\n",
      "Wall time: 1.65 s\n"
     ]
    }
   ],
   "source": [
    "%%time\n",
    "\n",
    "transactions = pd.read_parquet('transactions_train.parquet')\n",
    "customers = pd.read_parquet('customers.parquet')\n",
    "articles = pd.read_parquet('articles.parquet')"
   ]
  },
  {
   "cell_type": "code",
   "execution_count": 3,
   "id": "e6dbd1fb",
   "metadata": {},
   "outputs": [],
   "source": [
    "customers['age_bucket'] = pd.cut(customers['age'].fillna(22), [15, 24, 35, 50, 100], \n",
    "                                    labels=['16-24', '25-35', '36-50', '51-100'])"
   ]
  },
  {
   "cell_type": "code",
   "execution_count": 4,
   "id": "a602d5b0",
   "metadata": {},
   "outputs": [],
   "source": [
    "VALID = True\n",
    "\n",
    "if VALID:\n",
    "    valid_df = transactions[transactions.t_dat>='2020-09-16']\n",
    "    transactions = transactions[transactions.t_dat<'2020-09-16']"
   ]
  },
  {
   "cell_type": "code",
   "execution_count": 5,
   "id": "149204a1",
   "metadata": {},
   "outputs": [],
   "source": [
    "test_week = transactions.week.max() + 1\n",
    "transactions = transactions[transactions.week > transactions.week.max() - 10]"
   ]
  },
  {
   "cell_type": "code",
   "execution_count": 6,
   "id": "f9ab0211",
   "metadata": {
    "scrolled": true
   },
   "outputs": [],
   "source": [
    "weekly_purchases = transactions[['customer_id', 'week', 'article_id']].drop_duplicates()"
   ]
  },
  {
   "cell_type": "code",
   "execution_count": 7,
   "id": "555e6381",
   "metadata": {
    "scrolled": true
   },
   "outputs": [],
   "source": [
    "purchase_count = transactions[['customer_id','week',\n",
    "                               'article_id'\n",
    "                              ]].groupby(['week','customer_id'\n",
    "                                         ])['article_id'].value_counts().reset_index(name='ArticleCount')\n",
    "\n",
    "weekly_purchases = weekly_purchases.merge(purchase_count, on=['week','customer_id','article_id'])"
   ]
  },
  {
   "cell_type": "code",
   "execution_count": 8,
   "id": "7ae221e7",
   "metadata": {},
   "outputs": [],
   "source": [
    "weekly_purchases = weekly_purchases.merge(weekly_purchases[['week','article_id']].groupby( \\\n",
    "    ['week'])['article_id'].value_counts().reset_index(name='ArticleCountGlobal'), \n",
    "                                          on=['week','article_id'])"
   ]
  },
  {
   "cell_type": "code",
   "execution_count": 9,
   "id": "68f889f5",
   "metadata": {},
   "outputs": [],
   "source": [
    "last_week_purchases = weekly_purchases.copy()\n",
    "last_week_purchases = last_week_purchases.drop('ArticleCount', axis=1)\n",
    "last_week_purchases['week'] = last_week_purchases['week'] + 1"
   ]
  },
  {
   "cell_type": "code",
   "execution_count": 10,
   "id": "3438ee15",
   "metadata": {
    "scrolled": true
   },
   "outputs": [],
   "source": [
    "k = last_week_purchases[last_week_purchases.week==104][['article_id','ArticleCountGlobal']].drop_duplicates(). \\\n",
    "sort_values(['ArticleCountGlobal']).tail(100)['article_id'].tolist()"
   ]
  },
  {
   "cell_type": "code",
   "execution_count": 11,
   "id": "6a8ec37a",
   "metadata": {},
   "outputs": [],
   "source": [
    "def score_and_best(actual, predict, Lookback):\n",
    "    \n",
    "    n_cust = actual['customer_id'].nunique()\n",
    "    n_article_reco = predict['article_id'].nunique()\n",
    "    \n",
    "    act_tot = len(actual)\n",
    "    pre_tot = len(predict)\n",
    "    df = actual.merge(predict, on=['customer_id', 'article_id'], how='inner')\n",
    "    correct = df.shape[0]\n",
    "    \n",
    "    print(f\"[+] Recall = {correct/act_tot*100:.1f}% ({correct}/{act_tot})\")\n",
    "    print(f\"[+] Multiple Factor = {pre_tot//correct} ({pre_tot}/{correct})\")\n",
    "    \n",
    "#     df = df.groupby('article_id')['customer_id'].count().rank(\n",
    "#         method='dense').sort_values(ascending=False).reset_index(name='BestSellerRank').iloc[:int(n_article_reco/4)]\n",
    "    \n",
    "#     df['BestSellerRank'] = [i for i in range(1, int(n_article_reco/4)+1)]\n",
    "#     df['WeeksLookback'] = [Lookback]*int(n_article_reco/4)\n",
    "    \n",
    "#     return df"
   ]
  },
  {
   "cell_type": "code",
   "execution_count": 12,
   "id": "6ef5eb33",
   "metadata": {},
   "outputs": [
    {
     "name": "stdout",
     "output_type": "stream",
     "text": [
      "[+] Recall = 0.3% (673/240311)\n",
      "[+] Multiple Factor = 44 (30187/673)\n"
     ]
    }
   ],
   "source": [
    "score_and_best(valid_df, last_week_purchases[(last_week_purchases.week==104) &(last_week_purchases.article_id.isin(k))], \n",
    "               'Lookback')"
   ]
  },
  {
   "cell_type": "code",
   "execution_count": 21,
   "id": "6cdd91d1",
   "metadata": {},
   "outputs": [],
   "source": [
    "art_orig = pd.read_csv('articles.csv')"
   ]
  },
  {
   "cell_type": "code",
   "execution_count": 23,
   "id": "77425608",
   "metadata": {
    "scrolled": true
   },
   "outputs": [
    {
     "data": {
      "text/plain": [
       "array(['Vest top', 'Bra', 'Underwear Tights', 'Socks', 'Leggings/Tights',\n",
       "       'Sweater', 'Top', 'Trousers', 'Hair clip', 'Umbrella',\n",
       "       'Pyjama jumpsuit/playsuit', 'Bodysuit', 'Hair string', 'Unknown',\n",
       "       'Hoodie', 'Sleep Bag', 'Hair/alice band', 'Belt', 'Boots',\n",
       "       'Bikini top', 'Swimwear bottom', 'Underwear bottom', 'Swimsuit',\n",
       "       'Skirt', 'T-shirt', 'Dress', 'Hat/beanie', 'Kids Underwear top',\n",
       "       'Shorts', 'Shirt', 'Cap/peaked', 'Pyjama set', 'Sneakers',\n",
       "       'Sunglasses', 'Cardigan', 'Gloves', 'Earring', 'Bag', 'Blazer',\n",
       "       'Other shoe', 'Jumpsuit/Playsuit', 'Sandals', 'Jacket', 'Costumes',\n",
       "       'Robe', 'Scarf', 'Coat', 'Other accessories', 'Polo shirt',\n",
       "       'Slippers', 'Night gown', 'Alice band', 'Straw hat', 'Hat/brim',\n",
       "       'Tailored Waistcoat', 'Necklace', 'Ballerinas', 'Tie',\n",
       "       'Pyjama bottom', 'Felt hat', 'Bracelet', 'Blouse',\n",
       "       'Outdoor overall', 'Watch', 'Underwear body', 'Beanie', 'Giftbox',\n",
       "       'Sleeping sack', 'Dungarees', 'Outdoor trousers', 'Wallet',\n",
       "       'Swimwear set', 'Swimwear top', 'Flat shoe', 'Garment Set', 'Ring',\n",
       "       'Waterbottle', 'Wedge', 'Long John', 'Outdoor Waistcoat', 'Pumps',\n",
       "       'Flip flop', 'Braces', 'Bootie', 'Fine cosmetics',\n",
       "       'Heeled sandals', 'Nipple covers', 'Chem. cosmetics', 'Soft Toys',\n",
       "       'Hair ties', 'Underwear corset', 'Bra extender', 'Underdress',\n",
       "       'Underwear set', 'Sarong', 'Leg warmers', 'Blanket', 'Hairband',\n",
       "       'Tote bag', 'Weekend/Gym bag', 'Cushion', 'Backpack', 'Earrings',\n",
       "       'Bucket hat', 'Flat shoes', 'Heels', 'Cap', 'Shoulder bag',\n",
       "       'Side table', 'Accessories set', 'Headband', 'Baby Bib',\n",
       "       'Keychain', 'Dog Wear', 'Washing bag', 'Sewing kit',\n",
       "       'Cross-body bag', 'Moccasins', 'Towel', 'Wood balls',\n",
       "       'Zipper head', 'Mobile case', 'Pre-walkers', 'Toy', 'Marker pen',\n",
       "       'Bumbag', 'Dog wear', 'Eyeglasses', 'Wireless earphone case',\n",
       "       'Stain remover spray', 'Clothing mist'], dtype=object)"
      ]
     },
     "execution_count": 23,
     "metadata": {},
     "output_type": "execute_result"
    }
   ],
   "source": [
    "art_orig.product_type_name.unique()"
   ]
  },
  {
   "cell_type": "code",
   "execution_count": 26,
   "id": "c330154c",
   "metadata": {},
   "outputs": [],
   "source": [
    "art_new = pd.read_parquet('articles_new.parquet')"
   ]
  },
  {
   "cell_type": "code",
   "execution_count": 31,
   "id": "97d18e64",
   "metadata": {},
   "outputs": [
    {
     "data": {
      "text/html": [
       "<div>\n",
       "<style scoped>\n",
       "    .dataframe tbody tr th:only-of-type {\n",
       "        vertical-align: middle;\n",
       "    }\n",
       "\n",
       "    .dataframe tbody tr th {\n",
       "        vertical-align: top;\n",
       "    }\n",
       "\n",
       "    .dataframe thead th {\n",
       "        text-align: right;\n",
       "    }\n",
       "</style>\n",
       "<table border=\"1\" class=\"dataframe\">\n",
       "  <thead>\n",
       "    <tr style=\"text-align: right;\">\n",
       "      <th></th>\n",
       "      <th>article_id</th>\n",
       "      <th>product_code</th>\n",
       "      <th>prod_name</th>\n",
       "      <th>product_type_no</th>\n",
       "      <th>product_type_name</th>\n",
       "      <th>product_group_name</th>\n",
       "      <th>graphical_appearance_no</th>\n",
       "      <th>graphical_appearance_name</th>\n",
       "      <th>colour_group_code</th>\n",
       "      <th>colour_group_name</th>\n",
       "      <th>...</th>\n",
       "      <th>department_name</th>\n",
       "      <th>index_code</th>\n",
       "      <th>index_name</th>\n",
       "      <th>index_group_no</th>\n",
       "      <th>index_group_name</th>\n",
       "      <th>section_no</th>\n",
       "      <th>section_name</th>\n",
       "      <th>garment_group_no</th>\n",
       "      <th>garment_group_name</th>\n",
       "      <th>detail_desc</th>\n",
       "    </tr>\n",
       "  </thead>\n",
       "  <tbody>\n",
       "    <tr>\n",
       "      <th>3520</th>\n",
       "      <td>456163086</td>\n",
       "      <td>456163</td>\n",
       "      <td>Woody(1)</td>\n",
       "      <td>308</td>\n",
       "      <td>Hoodie</td>\n",
       "      <td>Garment Upper body</td>\n",
       "      <td>1010016</td>\n",
       "      <td>Solid</td>\n",
       "      <td>93</td>\n",
       "      <td>Dark Green</td>\n",
       "      <td>...</td>\n",
       "      <td>Jersey Basic</td>\n",
       "      <td>A</td>\n",
       "      <td>Ladieswear</td>\n",
       "      <td>1</td>\n",
       "      <td>Ladieswear</td>\n",
       "      <td>16</td>\n",
       "      <td>Womens Everyday Basics</td>\n",
       "      <td>1002</td>\n",
       "      <td>Jersey Basic</td>\n",
       "      <td>Wide top in sweatshirt fabric with a lined dra...</td>\n",
       "    </tr>\n",
       "  </tbody>\n",
       "</table>\n",
       "<p>1 rows × 25 columns</p>\n",
       "</div>"
      ],
      "text/plain": [
       "      article_id  product_code prod_name  product_type_no product_type_name  \\\n",
       "3520   456163086        456163  Woody(1)              308            Hoodie   \n",
       "\n",
       "      product_group_name  graphical_appearance_no graphical_appearance_name  \\\n",
       "3520  Garment Upper body                  1010016                     Solid   \n",
       "\n",
       "      colour_group_code colour_group_name  ...  department_name index_code  \\\n",
       "3520                 93        Dark Green  ...     Jersey Basic          A   \n",
       "\n",
       "      index_name index_group_no  index_group_name section_no  \\\n",
       "3520  Ladieswear              1        Ladieswear         16   \n",
       "\n",
       "                section_name garment_group_no  garment_group_name  \\\n",
       "3520  Womens Everyday Basics             1002        Jersey Basic   \n",
       "\n",
       "                                            detail_desc  \n",
       "3520  Wide top in sweatshirt fabric with a lined dra...  \n",
       "\n",
       "[1 rows x 25 columns]"
      ]
     },
     "execution_count": 31,
     "metadata": {},
     "output_type": "execute_result"
    }
   ],
   "source": [
    "art_orig[art_orig.article_id==456163086]"
   ]
  },
  {
   "cell_type": "code",
   "execution_count": 32,
   "id": "743777a4",
   "metadata": {},
   "outputs": [
    {
     "data": {
      "text/html": [
       "<div>\n",
       "<style scoped>\n",
       "    .dataframe tbody tr th:only-of-type {\n",
       "        vertical-align: middle;\n",
       "    }\n",
       "\n",
       "    .dataframe tbody tr th {\n",
       "        vertical-align: top;\n",
       "    }\n",
       "\n",
       "    .dataframe thead th {\n",
       "        text-align: right;\n",
       "    }\n",
       "</style>\n",
       "<table border=\"1\" class=\"dataframe\">\n",
       "  <thead>\n",
       "    <tr style=\"text-align: right;\">\n",
       "      <th></th>\n",
       "      <th>article_id</th>\n",
       "      <th>product_code</th>\n",
       "      <th>prod_name</th>\n",
       "      <th>product_type_no</th>\n",
       "      <th>product_type_name</th>\n",
       "      <th>product_group_name</th>\n",
       "      <th>graphical_appearance_no</th>\n",
       "      <th>graphical_appearance_name</th>\n",
       "      <th>colour_group_code</th>\n",
       "      <th>colour_group_name</th>\n",
       "      <th>...</th>\n",
       "      <th>department_name</th>\n",
       "      <th>index_code</th>\n",
       "      <th>index_name</th>\n",
       "      <th>index_group_no</th>\n",
       "      <th>index_group_name</th>\n",
       "      <th>section_no</th>\n",
       "      <th>section_name</th>\n",
       "      <th>garment_group_no</th>\n",
       "      <th>garment_group_name</th>\n",
       "      <th>detail_desc</th>\n",
       "    </tr>\n",
       "  </thead>\n",
       "  <tbody>\n",
       "    <tr>\n",
       "      <th>830</th>\n",
       "      <td>295873004</td>\n",
       "      <td>295873</td>\n",
       "      <td>Sune leather glove</td>\n",
       "      <td>71</td>\n",
       "      <td>Gloves</td>\n",
       "      <td>Accessories</td>\n",
       "      <td>1010016</td>\n",
       "      <td>Solid</td>\n",
       "      <td>23</td>\n",
       "      <td>Dark Yellow</td>\n",
       "      <td>...</td>\n",
       "      <td>Accessories</td>\n",
       "      <td>F</td>\n",
       "      <td>Menswear</td>\n",
       "      <td>3</td>\n",
       "      <td>Menswear</td>\n",
       "      <td>25</td>\n",
       "      <td>Men Accessories</td>\n",
       "      <td>1019</td>\n",
       "      <td>Accessories</td>\n",
       "      <td>Leather gloves with decorative stitching on th...</td>\n",
       "    </tr>\n",
       "  </tbody>\n",
       "</table>\n",
       "<p>1 rows × 25 columns</p>\n",
       "</div>"
      ],
      "text/plain": [
       "     article_id  product_code           prod_name  product_type_no  \\\n",
       "830   295873004        295873  Sune leather glove               71   \n",
       "\n",
       "    product_type_name product_group_name  graphical_appearance_no  \\\n",
       "830            Gloves        Accessories                  1010016   \n",
       "\n",
       "    graphical_appearance_name  colour_group_code colour_group_name  ...  \\\n",
       "830                     Solid                 23       Dark Yellow  ...   \n",
       "\n",
       "     department_name index_code  index_name index_group_no  index_group_name  \\\n",
       "830      Accessories          F    Menswear              3          Menswear   \n",
       "\n",
       "    section_no     section_name garment_group_no  garment_group_name  \\\n",
       "830         25  Men Accessories             1019         Accessories   \n",
       "\n",
       "                                           detail_desc  \n",
       "830  Leather gloves with decorative stitching on th...  \n",
       "\n",
       "[1 rows x 25 columns]"
      ]
     },
     "execution_count": 32,
     "metadata": {},
     "output_type": "execute_result"
    }
   ],
   "source": [
    "art_orig[art_orig.article_id==295873004]"
   ]
  },
  {
   "cell_type": "code",
   "execution_count": 30,
   "id": "478b3a89",
   "metadata": {},
   "outputs": [
    {
     "data": {
      "text/html": [
       "<div>\n",
       "<style scoped>\n",
       "    .dataframe tbody tr th:only-of-type {\n",
       "        vertical-align: middle;\n",
       "    }\n",
       "\n",
       "    .dataframe tbody tr th {\n",
       "        vertical-align: top;\n",
       "    }\n",
       "\n",
       "    .dataframe thead th {\n",
       "        text-align: right;\n",
       "    }\n",
       "</style>\n",
       "<table border=\"1\" class=\"dataframe\">\n",
       "  <thead>\n",
       "    <tr style=\"text-align: right;\">\n",
       "      <th></th>\n",
       "      <th>article_id</th>\n",
       "      <th>prod_name_cat_cat_code</th>\n",
       "      <th>product_code</th>\n",
       "      <th>department_no</th>\n",
       "      <th>colour_group_name_cat_cat_code</th>\n",
       "      <th>ct</th>\n",
       "      <th>clusters</th>\n",
       "    </tr>\n",
       "  </thead>\n",
       "  <tbody>\n",
       "    <tr>\n",
       "      <th>0</th>\n",
       "      <td>456163086.0</td>\n",
       "      <td>45144</td>\n",
       "      <td>456163.0</td>\n",
       "      <td>1676.0</td>\n",
       "      <td>6</td>\n",
       "      <td>1287.0</td>\n",
       "      <td>2</td>\n",
       "    </tr>\n",
       "    <tr>\n",
       "      <th>1</th>\n",
       "      <td>457039006.0</td>\n",
       "      <td>5002</td>\n",
       "      <td>457039.0</td>\n",
       "      <td>1919.0</td>\n",
       "      <td>24</td>\n",
       "      <td>3.0</td>\n",
       "      <td>2</td>\n",
       "    </tr>\n",
       "    <tr>\n",
       "      <th>2</th>\n",
       "      <td>456641003.0</td>\n",
       "      <td>9091</td>\n",
       "      <td>456641.0</td>\n",
       "      <td>1338.0</td>\n",
       "      <td>1</td>\n",
       "      <td>1.0</td>\n",
       "      <td>2</td>\n",
       "    </tr>\n",
       "    <tr>\n",
       "      <th>3</th>\n",
       "      <td>457292020.0</td>\n",
       "      <td>8695</td>\n",
       "      <td>457292.0</td>\n",
       "      <td>1344.0</td>\n",
       "      <td>5</td>\n",
       "      <td>377.0</td>\n",
       "      <td>2</td>\n",
       "    </tr>\n",
       "    <tr>\n",
       "      <th>4</th>\n",
       "      <td>456163087.0</td>\n",
       "      <td>45144</td>\n",
       "      <td>456163.0</td>\n",
       "      <td>1676.0</td>\n",
       "      <td>0</td>\n",
       "      <td>522.0</td>\n",
       "      <td>2</td>\n",
       "    </tr>\n",
       "    <tr>\n",
       "      <th>...</th>\n",
       "      <td>...</td>\n",
       "      <td>...</td>\n",
       "      <td>...</td>\n",
       "      <td>...</td>\n",
       "      <td>...</td>\n",
       "      <td>...</td>\n",
       "      <td>...</td>\n",
       "    </tr>\n",
       "    <tr>\n",
       "      <th>100705</th>\n",
       "      <td>295873004.0</td>\n",
       "      <td>40932</td>\n",
       "      <td>295873.0</td>\n",
       "      <td>9985.0</td>\n",
       "      <td>13</td>\n",
       "      <td>16.0</td>\n",
       "      <td>2</td>\n",
       "    </tr>\n",
       "    <tr>\n",
       "      <th>100706</th>\n",
       "      <td>293510007.0</td>\n",
       "      <td>258</td>\n",
       "      <td>293510.0</td>\n",
       "      <td>7931.0</td>\n",
       "      <td>5</td>\n",
       "      <td>109.0</td>\n",
       "      <td>2</td>\n",
       "    </tr>\n",
       "    <tr>\n",
       "      <th>100707</th>\n",
       "      <td>294008056.0</td>\n",
       "      <td>18379</td>\n",
       "      <td>294008.0</td>\n",
       "      <td>1919.0</td>\n",
       "      <td>16</td>\n",
       "      <td>190.0</td>\n",
       "      <td>2</td>\n",
       "    </tr>\n",
       "    <tr>\n",
       "      <th>100708</th>\n",
       "      <td>294008005.0</td>\n",
       "      <td>18379</td>\n",
       "      <td>294008.0</td>\n",
       "      <td>1919.0</td>\n",
       "      <td>47</td>\n",
       "      <td>2497.0</td>\n",
       "      <td>2</td>\n",
       "    </tr>\n",
       "    <tr>\n",
       "      <th>100709</th>\n",
       "      <td>296366006.0</td>\n",
       "      <td>15999</td>\n",
       "      <td>296366.0</td>\n",
       "      <td>4343.0</td>\n",
       "      <td>29</td>\n",
       "      <td>544.0</td>\n",
       "      <td>2</td>\n",
       "    </tr>\n",
       "  </tbody>\n",
       "</table>\n",
       "<p>4013 rows × 7 columns</p>\n",
       "</div>"
      ],
      "text/plain": [
       "         article_id  prod_name_cat_cat_code  product_code  department_no  \\\n",
       "0       456163086.0                   45144      456163.0         1676.0   \n",
       "1       457039006.0                    5002      457039.0         1919.0   \n",
       "2       456641003.0                    9091      456641.0         1338.0   \n",
       "3       457292020.0                    8695      457292.0         1344.0   \n",
       "4       456163087.0                   45144      456163.0         1676.0   \n",
       "...             ...                     ...           ...            ...   \n",
       "100705  295873004.0                   40932      295873.0         9985.0   \n",
       "100706  293510007.0                     258      293510.0         7931.0   \n",
       "100707  294008056.0                   18379      294008.0         1919.0   \n",
       "100708  294008005.0                   18379      294008.0         1919.0   \n",
       "100709  296366006.0                   15999      296366.0         4343.0   \n",
       "\n",
       "        colour_group_name_cat_cat_code      ct  clusters  \n",
       "0                                    6  1287.0         2  \n",
       "1                                   24     3.0         2  \n",
       "2                                    1     1.0         2  \n",
       "3                                    5   377.0         2  \n",
       "4                                    0   522.0         2  \n",
       "...                                ...     ...       ...  \n",
       "100705                              13    16.0         2  \n",
       "100706                               5   109.0         2  \n",
       "100707                              16   190.0         2  \n",
       "100708                              47  2497.0         2  \n",
       "100709                              29   544.0         2  \n",
       "\n",
       "[4013 rows x 7 columns]"
      ]
     },
     "execution_count": 30,
     "metadata": {},
     "output_type": "execute_result"
    }
   ],
   "source": [
    "art_new[art_new.clusters==2]"
   ]
  },
  {
   "cell_type": "code",
   "execution_count": null,
   "id": "5d8153b3",
   "metadata": {},
   "outputs": [],
   "source": []
  },
  {
   "cell_type": "code",
   "execution_count": null,
   "id": "46ed3d8e",
   "metadata": {},
   "outputs": [],
   "source": []
  },
  {
   "cell_type": "code",
   "execution_count": 13,
   "id": "e9266c72",
   "metadata": {},
   "outputs": [],
   "source": [
    "def find_alternate_items_all(base_itm, base_wk, base_prod):\n",
    "\n",
    "    item_1 = base_itm\n",
    "    wk_num = base_wk\n",
    "    prod_nm = base_prod\n",
    "    \n",
    "    item_2 = ''\n",
    "    item_3 = ''\n",
    "    item_4 = ''\n",
    "    item_5 = ''\n",
    "\n",
    "    color_1 = articles[articles.article_id==item_1]['colour_group_name'].iloc[0]\n",
    "    g_1 = articles[articles.article_id==item_1]['graphical_appearance_name'].iloc[0]\n",
    "\n",
    "    p1 = transactions[(transactions.article_id==item_1) & \n",
    "                 (transactions.prod_name==prod_nm) & \n",
    "                 (transactions.week==wk_num)]['price'].mean()\n",
    "\n",
    "    filter_df = transactions[(transactions.article_id!=item_1) & \n",
    "                 (transactions.prod_name==prod_nm) & \n",
    "                 (transactions.week==wk_num)]\n",
    "\n",
    "    if len(filter_df)>0:\n",
    "\n",
    "        item_2 = filter_df.groupby('week')['article_id'].value_counts().head(1).index.values[0][1]\n",
    "        color_2 = articles[articles.article_id==item_2]['colour_group_name'].iloc[0]\n",
    "        g_2 = articles[articles.article_id==item_2]['graphical_appearance_name'].iloc[0]\n",
    "\n",
    "        p2 = transactions[(transactions.article_id==item_2) & \n",
    "                 (transactions.prod_name==prod_nm) & \n",
    "                 (transactions.week==wk_num)]['price'].mean()\n",
    "\n",
    "        p_low = min(p1, p2)\n",
    "        filter_df_2 = transactions[~(transactions.article_id.isin([item_1, item_2])) & \n",
    "                 (transactions.prod_name==prod_nm) & \n",
    "                 (transactions.week==wk_num) & \n",
    "                 (transactions.price < p_low)]\n",
    "\n",
    "        if len(filter_df_2)>0:\n",
    "\n",
    "            item_3 = filter_df_2.groupby('week')['article_id'].value_counts().head(1).index.values[0][1]\n",
    "            color_3 = articles[articles.article_id==item_3]['colour_group_name'].iloc[0]\n",
    "            g_3 = articles[articles.article_id==item_3]['graphical_appearance_name'].iloc[0]\n",
    "\n",
    "            filter_df_3 = transactions[~(transactions.article_id.isin([item_1, item_2, item_3])) & \n",
    "                     (transactions.prod_name==prod_nm) & \n",
    "                     (transactions.week==wk_num) & \n",
    "                     ~ (transactions.colour_group_name.isin([color_1, color_2, color_3]))]\n",
    "\n",
    "            if len(filter_df_3)>0:\n",
    "                item_4 = filter_df_3.groupby('week')['article_id'].value_counts().head(1).index.values[0][1]\n",
    "                color_4 = articles[articles.article_id==item_4]['colour_group_name'].iloc[0]\n",
    "                g_4 = articles[articles.article_id==item_4]['graphical_appearance_name'].iloc[0]\n",
    "\n",
    "                filter_df_4 = transactions[~(transactions.article_id.isin([item_1, item_2, item_3, item_4])) & \n",
    "                     (transactions.prod_name==prod_nm) & \n",
    "                     (transactions.week==wk_num) & \n",
    "                     ~ (transactions.graphical_appearance_name.isin([g_1, g_2, g_3, g_4]))]\n",
    "\n",
    "                if len(filter_df_4)>0:\n",
    "                    item_5 = filter_df_4.groupby('week')['article_id'].value_counts().head(1).index.values[0][1]            \n",
    "\n",
    "            else:\n",
    "                filter_df_3_1 = transactions[~(transactions.article_id.isin([item_1, item_2, item_3])) & \n",
    "                 (transactions.prod_name==prod_nm) & \n",
    "                 (transactions.week==wk_num) & \n",
    "                 ~ (transactions.graphical_appearance_name.isin([g_1, g_2, g_3]))]\n",
    "\n",
    "                if len(filter_df_3_1)>0:\n",
    "                    item_4 = filter_df_3_1.groupby('week')['article_id'].value_counts().head(1).index.values[0][1]\n",
    "\n",
    "        else:\n",
    "            filter_df_2_1 = transactions[~(transactions.article_id.isin([item_1, item_2])) & \n",
    "                 (transactions.prod_name==prod_nm) & \n",
    "                 (transactions.week==wk_num) & \n",
    "                 ~ (transactions.colour_group_name.isin([color_1, color_2]))]\n",
    "\n",
    "            if len(filter_df_2_1)>0:\n",
    "                item_3 = filter_df_2_1.groupby('week')['article_id'].value_counts().head(1).index.values[0][1]\n",
    "                color_3 = articles[articles.article_id==item_3]['colour_group_name'].iloc[0]\n",
    "                g_3 = articles[articles.article_id==item_3]['graphical_appearance_name'].iloc[0]\n",
    "\n",
    "            else:\n",
    "                filter_df_2_2 = transactions[~(transactions.article_id.isin([item_1, item_2])) & \n",
    "                     (transactions.prod_name==prod_nm) & \n",
    "                     (transactions.week==wk_num) & \n",
    "                     ~ (transactions.graphical_appearance_name.isin([g_1, g_2]))]\n",
    "\n",
    "                if len(filter_df_2_2)>0:\n",
    "                    item_3 = filter_df_2_2.groupby('week')['article_id'].value_counts().head(1).index.values[0][1]\n",
    "\n",
    "    return item_2, item_3, item_4, item_5\n"
   ]
  },
  {
   "cell_type": "code",
   "execution_count": 14,
   "id": "c0be65ca",
   "metadata": {},
   "outputs": [],
   "source": [
    "transactions = pd.read_parquet('transactions_train.parquet')\n",
    "transactions = transactions.merge(articles[['article_id','prod_name',\n",
    "                                            'colour_group_name','graphical_appearance_name']], on='article_id')"
   ]
  },
  {
   "cell_type": "code",
   "execution_count": 15,
   "id": "f14a8b72",
   "metadata": {},
   "outputs": [],
   "source": [
    "best_sell_df = pd.DataFrame({'article_id':k})\n",
    "best_sell_df['week'] = 104\n",
    "best_sell_df = best_sell_df.merge(articles[['article_id','prod_name']], on='article_id')"
   ]
  },
  {
   "cell_type": "code",
   "execution_count": 16,
   "id": "30c01280",
   "metadata": {
    "scrolled": true
   },
   "outputs": [],
   "source": [
    "alternate_best_sell_df_all = pd.DataFrame(columns = best_sell_df.columns)\n",
    "\n",
    "wk_list = []\n",
    "art_list = []\n",
    "bs_list = []\n",
    "rt_list = []\n",
    "\n",
    "for i in range(0, len(best_sell_df)):\n",
    "    \n",
    "    bs_itm = best_sell_df['article_id'][i]\n",
    "    bs_wk = best_sell_df['week'][i]\n",
    "    bs_prod = best_sell_df['prod_name'][i]\n",
    "    \n",
    "    a,b,c,d = find_alternate_items_all(bs_itm, bs_wk, bs_prod)\n",
    "\n",
    "    wk_list.extend([bs_wk]*4)\n",
    "    art_list.extend([a,b,c,d])\n",
    "    rt_list.extend(['SecondMost', 'LowerPrice', 'AnotherColor', 'AnotherAppearance'])"
   ]
  },
  {
   "cell_type": "code",
   "execution_count": 17,
   "id": "44883c28",
   "metadata": {},
   "outputs": [],
   "source": [
    "alternate_best_sell_df_all['week'] = wk_list\n",
    "alternate_best_sell_df_all['article_id'] = art_list\n",
    "alternate_best_sell_df_all['RankType'] = rt_list\n",
    "\n",
    "del wk_list, art_list, rt_list\n",
    "\n",
    "best_sell_df = pd.concat([best_sell_df.drop('prod_name', axis=1), \n",
    "                          alternate_best_sell_df_all.drop('prod_name', axis=1)], axis=0)\n",
    "\n",
    "best_sell_df = best_sell_df[~(best_sell_df.article_id=='')]"
   ]
  },
  {
   "cell_type": "code",
   "execution_count": 18,
   "id": "f7b18c6f",
   "metadata": {},
   "outputs": [
    {
     "name": "stdout",
     "output_type": "stream",
     "text": [
      "[+] Recall = 0.4% (850/240311)\n",
      "[+] Multiple Factor = 46 (39767/850)\n"
     ]
    }
   ],
   "source": [
    "k1 = best_sell_df.article_id.tolist()\n",
    "\n",
    "score_and_best(valid_df,\n",
    "               last_week_purchases[(last_week_purchases.week==104) &(last_week_purchases.article_id.isin(k1))], \n",
    "               'Lookback')"
   ]
  },
  {
   "cell_type": "code",
   "execution_count": null,
   "id": "38b432f0",
   "metadata": {},
   "outputs": [],
   "source": []
  },
  {
   "cell_type": "code",
   "execution_count": null,
   "id": "87103aa0",
   "metadata": {},
   "outputs": [],
   "source": []
  },
  {
   "cell_type": "code",
   "execution_count": null,
   "id": "56b7b8bb",
   "metadata": {},
   "outputs": [],
   "source": []
  },
  {
   "cell_type": "code",
   "execution_count": null,
   "id": "8e26e5ee",
   "metadata": {},
   "outputs": [],
   "source": []
  },
  {
   "cell_type": "code",
   "execution_count": null,
   "id": "330c19ee",
   "metadata": {},
   "outputs": [],
   "source": []
  }
 ],
 "metadata": {
  "kernelspec": {
   "display_name": "Python 3",
   "language": "python",
   "name": "python3"
  },
  "language_info": {
   "codemirror_mode": {
    "name": "ipython",
    "version": 3
   },
   "file_extension": ".py",
   "mimetype": "text/x-python",
   "name": "python",
   "nbconvert_exporter": "python",
   "pygments_lexer": "ipython3",
   "version": "3.6.13"
  }
 },
 "nbformat": 4,
 "nbformat_minor": 5
}
