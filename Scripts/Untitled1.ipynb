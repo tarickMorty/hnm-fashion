{
 "cells": [
  {
   "cell_type": "code",
   "execution_count": 1,
   "id": "42c3a997",
   "metadata": {},
   "outputs": [],
   "source": [
    "import numpy as np\n",
    "import pandas as pd\n",
    "import os\n",
    "import glob\n",
    "from tqdm import tqdm\n",
    "import datetime\n",
    "import gc\n",
    "import random\n",
    "pd.set_option(\"display.max_columns\", 500)\n",
    "pd.set_option(\"display.max_rows\", 500)"
   ]
  },
  {
   "cell_type": "code",
   "execution_count": 2,
   "id": "4dec32c9",
   "metadata": {},
   "outputs": [],
   "source": [
    "new_df = pd.read_csv(\"candidate_groups.csv\")"
   ]
  },
  {
   "cell_type": "code",
   "execution_count": 3,
   "id": "7f6a7b85",
   "metadata": {},
   "outputs": [],
   "source": [
    "data = pd.read_csv(\"transactions_train.csv\", \n",
    "                   dtype={'article_id':str}\n",
    "                  )\n",
    "\n",
    "# data = data[data.t_dat>='2020-06-22'].reset_index(drop=True)  # for submission\n",
    "data = data[data.t_dat>='2020-06-15'].reset_index(drop=True)  # for validation\n",
    "data['customer_id'] = data['customer_id'].apply(lambda x: int(x[-16:],16) ).astype('int64')"
   ]
  },
  {
   "cell_type": "code",
   "execution_count": 4,
   "id": "9a644364",
   "metadata": {},
   "outputs": [],
   "source": [
    "articles_df = pd.read_csv('articles.csv', dtype={'article_id':str})\n",
    "customers_df = pd.read_csv('customers.csv')"
   ]
  },
  {
   "cell_type": "code",
   "execution_count": 5,
   "id": "45238bba",
   "metadata": {},
   "outputs": [],
   "source": [
    "customers_df['customer_id_old'] = customers_df['customer_id']\n",
    "customers_df['customer_id'] = customers_df['customer_id'].apply(lambda x: int(x[-16:],16) ).astype('int64')"
   ]
  },
  {
   "cell_type": "code",
   "execution_count": 6,
   "id": "2f2c97d5",
   "metadata": {},
   "outputs": [],
   "source": [
    "customers_df['fashion_news_frequency'] = customers_df['fashion_news_frequency'].replace('NONE', 'None')\n",
    "customers_df['age_bucket'] = pd.cut(customers_df['age'].fillna(36), [15, 24, 35, 50, 100], \n",
    "                                    labels=['16-24', '25-35', '36-50', '51-100'])"
   ]
  },
  {
   "cell_type": "code",
   "execution_count": 7,
   "id": "274dbc1b",
   "metadata": {},
   "outputs": [],
   "source": [
    "data = data.merge(articles_df[['article_id','index_code','prod_name']], on='article_id', how='left')"
   ]
  },
  {
   "cell_type": "code",
   "execution_count": 8,
   "id": "4b241052",
   "metadata": {},
   "outputs": [],
   "source": [
    "data = data.merge(customers_df[['age_bucket', 'customer_id']], on='customer_id', how='left')"
   ]
  },
  {
   "cell_type": "code",
   "execution_count": 9,
   "id": "4029da42",
   "metadata": {},
   "outputs": [],
   "source": [
    "new_df = new_df.merge(customers_df[['age_bucket', 'customer_id']], on='customer_id', how='left')"
   ]
  },
  {
   "cell_type": "code",
   "execution_count": 10,
   "id": "f22c6197",
   "metadata": {},
   "outputs": [],
   "source": [
    "# last_bought = data[['customer_id','index_code',\n",
    "#                     'article_id']].groupby(['customer_id','index_code'])['article_id'].last().reset_index()\n",
    "\n",
    "last_bought = data[data.t_dat<='2020-09-15'][['customer_id','index_code',\n",
    "                    'article_id']].groupby(['customer_id','index_code'])['article_id'].last().reset_index()"
   ]
  },
  {
   "cell_type": "code",
   "execution_count": 11,
   "id": "b43c6aa5",
   "metadata": {},
   "outputs": [
    {
     "data": {
      "text/html": [
       "<div>\n",
       "<style scoped>\n",
       "    .dataframe tbody tr th:only-of-type {\n",
       "        vertical-align: middle;\n",
       "    }\n",
       "\n",
       "    .dataframe tbody tr th {\n",
       "        vertical-align: top;\n",
       "    }\n",
       "\n",
       "    .dataframe thead th {\n",
       "        text-align: right;\n",
       "    }\n",
       "</style>\n",
       "<table border=\"1\" class=\"dataframe\">\n",
       "  <thead>\n",
       "    <tr style=\"text-align: right;\">\n",
       "      <th></th>\n",
       "      <th>customer_id</th>\n",
       "      <th>index_code</th>\n",
       "      <th>article_id</th>\n",
       "    </tr>\n",
       "  </thead>\n",
       "  <tbody>\n",
       "    <tr>\n",
       "      <th>0</th>\n",
       "      <td>-9223352921020755230</td>\n",
       "      <td>A</td>\n",
       "      <td>0812167004</td>\n",
       "    </tr>\n",
       "    <tr>\n",
       "      <th>1</th>\n",
       "      <td>-9223352921020755230</td>\n",
       "      <td>C</td>\n",
       "      <td>0673396002</td>\n",
       "    </tr>\n",
       "    <tr>\n",
       "      <th>2</th>\n",
       "      <td>-9223343869995384291</td>\n",
       "      <td>A</td>\n",
       "      <td>0910601003</td>\n",
       "    </tr>\n",
       "    <tr>\n",
       "      <th>3</th>\n",
       "      <td>-9223343869995384291</td>\n",
       "      <td>S</td>\n",
       "      <td>0849886010</td>\n",
       "    </tr>\n",
       "    <tr>\n",
       "      <th>4</th>\n",
       "      <td>-9223293121067732640</td>\n",
       "      <td>A</td>\n",
       "      <td>0835008005</td>\n",
       "    </tr>\n",
       "    <tr>\n",
       "      <th>...</th>\n",
       "      <td>...</td>\n",
       "      <td>...</td>\n",
       "      <td>...</td>\n",
       "    </tr>\n",
       "    <tr>\n",
       "      <th>1217155</th>\n",
       "      <td>9223099843213569889</td>\n",
       "      <td>D</td>\n",
       "      <td>0903062001</td>\n",
       "    </tr>\n",
       "    <tr>\n",
       "      <th>1217156</th>\n",
       "      <td>9223144259947635662</td>\n",
       "      <td>A</td>\n",
       "      <td>0839464002</td>\n",
       "    </tr>\n",
       "    <tr>\n",
       "      <th>1217157</th>\n",
       "      <td>9223144259947635662</td>\n",
       "      <td>F</td>\n",
       "      <td>0720504008</td>\n",
       "    </tr>\n",
       "    <tr>\n",
       "      <th>1217158</th>\n",
       "      <td>9223148401910457466</td>\n",
       "      <td>A</td>\n",
       "      <td>0851110002</td>\n",
       "    </tr>\n",
       "    <tr>\n",
       "      <th>1217159</th>\n",
       "      <td>9223148401910457466</td>\n",
       "      <td>D</td>\n",
       "      <td>0859101009</td>\n",
       "    </tr>\n",
       "  </tbody>\n",
       "</table>\n",
       "<p>1217160 rows × 3 columns</p>\n",
       "</div>"
      ],
      "text/plain": [
       "                 customer_id index_code  article_id\n",
       "0       -9223352921020755230          A  0812167004\n",
       "1       -9223352921020755230          C  0673396002\n",
       "2       -9223343869995384291          A  0910601003\n",
       "3       -9223343869995384291          S  0849886010\n",
       "4       -9223293121067732640          A  0835008005\n",
       "...                      ...        ...         ...\n",
       "1217155  9223099843213569889          D  0903062001\n",
       "1217156  9223144259947635662          A  0839464002\n",
       "1217157  9223144259947635662          F  0720504008\n",
       "1217158  9223148401910457466          A  0851110002\n",
       "1217159  9223148401910457466          D  0859101009\n",
       "\n",
       "[1217160 rows x 3 columns]"
      ]
     },
     "execution_count": 11,
     "metadata": {},
     "output_type": "execute_result"
    }
   ],
   "source": [
    "last_bought"
   ]
  },
  {
   "cell_type": "code",
   "execution_count": 12,
   "id": "8525fa82",
   "metadata": {
    "scrolled": true
   },
   "outputs": [],
   "source": [
    "index_dict = {}\n",
    "\n",
    "for indx_cd in data.index_code.unique():\n",
    "    for age_bkt in data.age_bucket.unique():\n",
    "\n",
    "        index_dict[indx_cd + '_' + age_bkt] = data[(data.t_dat>'2020-08-22') \n",
    "                                   & (data.index_code==indx_cd) \n",
    "                                   & (data.age_bucket==age_bkt)]['article_id'].value_counts().head(12).index.tolist()\n",
    "        \n",
    "for age_bkt in data.age_bucket.unique():\n",
    "    index_dict['_' + age_bkt] = data[(data.t_dat>'2020-08-22') \n",
    "                               & (data.age_bucket==age_bkt)]['article_id'].value_counts().head(12).index.tolist()"
   ]
  },
  {
   "cell_type": "code",
   "execution_count": 13,
   "id": "15ed8032",
   "metadata": {},
   "outputs": [],
   "source": [
    "last_bought = last_bought.set_index('customer_id')"
   ]
  },
  {
   "cell_type": "code",
   "execution_count": 14,
   "id": "3c1011e4",
   "metadata": {
    "scrolled": true
   },
   "outputs": [
    {
     "name": "stderr",
     "output_type": "stream",
     "text": [
      "100%|██████████| 1217160/1217160 [02:53<00:00, 7024.80it/s]\n"
     ]
    }
   ],
   "source": [
    "n_list = []\n",
    "articles = []\n",
    "\n",
    "for cust in tqdm(last_bought.index.tolist()):\n",
    "    \n",
    "    k = last_bought.loc[cust]['article_id']    \n",
    "    if type(k) is str:\n",
    "        n_list.append(1)\n",
    "        articles.append(' '.join(['0'+str(int(k))]))\n",
    "    else:\n",
    "        n_list.append(len(k.tolist()))\n",
    "        articles.append(' '.join(k.tolist()))"
   ]
  },
  {
   "cell_type": "code",
   "execution_count": 15,
   "id": "3efcb169",
   "metadata": {},
   "outputs": [],
   "source": [
    "b = last_bought.reset_index()\n",
    "b['number_of_articles_last_purchased'] = n_list\n",
    "b['article_list'] = articles"
   ]
  },
  {
   "cell_type": "code",
   "execution_count": 16,
   "id": "b98b37a7",
   "metadata": {},
   "outputs": [],
   "source": [
    "last_bought = b[['customer_id','number_of_articles_last_purchased',\n",
    "                 'article_list']].drop_duplicates().reset_index(drop=True)"
   ]
  },
  {
   "cell_type": "code",
   "execution_count": 17,
   "id": "75b3c8ea",
   "metadata": {},
   "outputs": [],
   "source": [
    "del b"
   ]
  },
  {
   "cell_type": "code",
   "execution_count": 18,
   "id": "bb8ff986",
   "metadata": {},
   "outputs": [],
   "source": [
    "last_bought = last_bought.merge(customers_df[['customer_id', 'customer_id_old']], \n",
    "                 left_on='customer_id', right_on='customer_id', \n",
    "                 how='left')\n",
    "\n",
    "last_bought = last_bought.drop(['customer_id'], axis=1)\n",
    "last_bought = last_bought.rename(columns={'customer_id_old':'customer_id'})"
   ]
  },
  {
   "cell_type": "code",
   "execution_count": null,
   "id": "4c0f4d72",
   "metadata": {},
   "outputs": [],
   "source": [
    "# last_bought.to_csv('last_bought.csv', index=False)"
   ]
  },
  {
   "cell_type": "code",
   "execution_count": 20,
   "id": "07ad6a95",
   "metadata": {},
   "outputs": [],
   "source": [
    "last_bought.to_csv('last_bought_valid.csv', index=False)"
   ]
  },
  {
   "cell_type": "code",
   "execution_count": 53,
   "id": "e5962380",
   "metadata": {},
   "outputs": [],
   "source": [
    "def check_dict(indx_cd, age_bkt, dict_index_article):\n",
    "    return dict_index_article[indx_cd + '_' + age_bkt]"
   ]
  },
  {
   "cell_type": "markdown",
   "id": "2af037ad",
   "metadata": {},
   "source": [
    "<!-- if l1==10:\n",
    "\ttake age based\n",
    "\n",
    "if l1!=10 and l2==0 and l3==(10-l1):\n",
    "\t\n",
    "\ttake everything from p1\n",
    "\n",
    "if l1!=10 and l2==0 and l3!=(10-l1):\n",
    "\t\n",
    "\ttake 85% from p1 and 15% from p3\n",
    "\n",
    "if l1!=10 and l2==(10-l1):\n",
    "\n",
    "\ttake everything from p1\n",
    "\n",
    "if l1!=10 and l2!=(10-l1) and l3==(10-l1-l2):\n",
    "\n",
    "\ttake 70% from p1 and 30% from p2\n",
    "\n",
    "if l1!=10 and l2!=(10-l1) and l3!=(10-l1-l2):\n",
    "\t\n",
    "\ttake 67 % from p1 and 22% from p2 and 11 % from p3 -->"
   ]
  },
  {
   "cell_type": "code",
   "execution_count": 83,
   "id": "f52e9a70",
   "metadata": {},
   "outputs": [],
   "source": [
    "sample_sub = pd.read_csv('sample_submission.csv')\n",
    "\n",
    "sample_sub = sample_sub.merge(customers_df[['age_bucket', 'customer_id_old']], \n",
    "                 left_on='customer_id', right_on='customer_id_old', \n",
    "                 how='left')\n",
    "\n",
    "sample_sub = sample_sub.drop(['customer_id','prediction'], axis=1)"
   ]
  },
  {
   "cell_type": "code",
   "execution_count": 111,
   "id": "8937a4c1",
   "metadata": {
    "scrolled": true
   },
   "outputs": [],
   "source": [
    "a = 'index_code__A, index_code__C, index_code__B, index_code__D, index_code__F, index_code__G, \\\n",
    "index_code__H, index_code__I, index_code__J, index_code__S'\n",
    "\n",
    "all_df = sample_sub.merge(new_df.drop(['customer_id','age_bucket'], axis=1), \n",
    "                 on='customer_id_old', how='left')\n",
    "\n",
    "all_df['P1Column'] = all_df['P1Column'].fillna(a)\n",
    "all_df = all_df.rename(columns={'customer_id_old':'customer_id'})"
   ]
  },
  {
   "cell_type": "code",
   "execution_count": 133,
   "id": "7c04bbbd",
   "metadata": {},
   "outputs": [],
   "source": [
    "age_bkt = ['16-24', '25-35', '36-50', '51-100']\n",
    "age_preds = []\n",
    "\n",
    "for ab in age_bkt:\n",
    "    ab = '_'+ab\n",
    "    age_preds.append(' '.join(pd.DataFrame.from_dict(index_dict)[ab].tolist()))\n",
    "\n",
    "age_based = pd.DataFrame({'age_bucket':age_bkt, 'prediction':age_preds})"
   ]
  },
  {
   "cell_type": "code",
   "execution_count": 138,
   "id": "b7b5d3c0",
   "metadata": {
    "collapsed": true
   },
   "outputs": [
    {
     "data": {
      "text/html": [
       "<div>\n",
       "<style scoped>\n",
       "    .dataframe tbody tr th:only-of-type {\n",
       "        vertical-align: middle;\n",
       "    }\n",
       "\n",
       "    .dataframe tbody tr th {\n",
       "        vertical-align: top;\n",
       "    }\n",
       "\n",
       "    .dataframe thead th {\n",
       "        text-align: right;\n",
       "    }\n",
       "</style>\n",
       "<table border=\"1\" class=\"dataframe\">\n",
       "  <thead>\n",
       "    <tr style=\"text-align: right;\">\n",
       "      <th></th>\n",
       "      <th>customer_id</th>\n",
       "      <th>prediction</th>\n",
       "    </tr>\n",
       "  </thead>\n",
       "  <tbody>\n",
       "    <tr>\n",
       "      <th>0</th>\n",
       "      <td>00005ca1c9ed5f5146b52ac8639a40ca9d57aeff4d1bd2...</td>\n",
       "      <td>0751471043 0751471001 0896152002 0896169002 09...</td>\n",
       "    </tr>\n",
       "    <tr>\n",
       "      <th>1</th>\n",
       "      <td>0000b7a134c3ec0d8842fad1fd4ca28517424c14fc4848...</td>\n",
       "      <td>0751471043 0751471001 0896152002 0896169002 09...</td>\n",
       "    </tr>\n",
       "    <tr>\n",
       "      <th>2</th>\n",
       "      <td>00018385675844f7a6babbed41b5655b5727fb16483b6e...</td>\n",
       "      <td>0751471043 0751471001 0896152002 0896169002 09...</td>\n",
       "    </tr>\n",
       "    <tr>\n",
       "      <th>3</th>\n",
       "      <td>00019d6c20e0fbb551af18c57149af4707ec016bb0decd...</td>\n",
       "      <td>0751471043 0751471001 0896152002 0896169002 09...</td>\n",
       "    </tr>\n",
       "    <tr>\n",
       "      <th>4</th>\n",
       "      <td>0001bc8e81a72aaf228a103a85d2ac530c09defffbc6ab...</td>\n",
       "      <td>0751471043 0751471001 0896152002 0896169002 09...</td>\n",
       "    </tr>\n",
       "    <tr>\n",
       "      <th>...</th>\n",
       "      <td>...</td>\n",
       "      <td>...</td>\n",
       "    </tr>\n",
       "    <tr>\n",
       "      <th>836558</th>\n",
       "      <td>ffff01710b4f0d558ff62d7dc00f0641065b37e840bb43...</td>\n",
       "      <td>0915526001 0448509014 0706016001 0918292001 07...</td>\n",
       "    </tr>\n",
       "    <tr>\n",
       "      <th>836559</th>\n",
       "      <td>ffff25c78688e1c34e48a4e34b9a953bde663cf937e715...</td>\n",
       "      <td>0915526001 0448509014 0706016001 0918292001 07...</td>\n",
       "    </tr>\n",
       "    <tr>\n",
       "      <th>836560</th>\n",
       "      <td>ffff7d65748db4d52e48b74c8f83ccb0029fc3bbafa511...</td>\n",
       "      <td>0915526001 0448509014 0706016001 0918292001 07...</td>\n",
       "    </tr>\n",
       "    <tr>\n",
       "      <th>836561</th>\n",
       "      <td>ffffa28cd7ab5d1cbbbfe7b582b1c419270cc0539f3dae...</td>\n",
       "      <td>0915526001 0448509014 0706016001 0918292001 07...</td>\n",
       "    </tr>\n",
       "    <tr>\n",
       "      <th>836562</th>\n",
       "      <td>ffffaff3905b803d1c7e153a1378a5151e1f34f236ba54...</td>\n",
       "      <td>0915526001 0448509014 0706016001 0918292001 07...</td>\n",
       "    </tr>\n",
       "  </tbody>\n",
       "</table>\n",
       "<p>836563 rows × 2 columns</p>\n",
       "</div>"
      ],
      "text/plain": [
       "                                              customer_id  \\\n",
       "0       00005ca1c9ed5f5146b52ac8639a40ca9d57aeff4d1bd2...   \n",
       "1       0000b7a134c3ec0d8842fad1fd4ca28517424c14fc4848...   \n",
       "2       00018385675844f7a6babbed41b5655b5727fb16483b6e...   \n",
       "3       00019d6c20e0fbb551af18c57149af4707ec016bb0decd...   \n",
       "4       0001bc8e81a72aaf228a103a85d2ac530c09defffbc6ab...   \n",
       "...                                                   ...   \n",
       "836558  ffff01710b4f0d558ff62d7dc00f0641065b37e840bb43...   \n",
       "836559  ffff25c78688e1c34e48a4e34b9a953bde663cf937e715...   \n",
       "836560  ffff7d65748db4d52e48b74c8f83ccb0029fc3bbafa511...   \n",
       "836561  ffffa28cd7ab5d1cbbbfe7b582b1c419270cc0539f3dae...   \n",
       "836562  ffffaff3905b803d1c7e153a1378a5151e1f34f236ba54...   \n",
       "\n",
       "                                               prediction  \n",
       "0       0751471043 0751471001 0896152002 0896169002 09...  \n",
       "1       0751471043 0751471001 0896152002 0896169002 09...  \n",
       "2       0751471043 0751471001 0896152002 0896169002 09...  \n",
       "3       0751471043 0751471001 0896152002 0896169002 09...  \n",
       "4       0751471043 0751471001 0896152002 0896169002 09...  \n",
       "...                                                   ...  \n",
       "836558  0915526001 0448509014 0706016001 0918292001 07...  \n",
       "836559  0915526001 0448509014 0706016001 0918292001 07...  \n",
       "836560  0915526001 0448509014 0706016001 0918292001 07...  \n",
       "836561  0915526001 0448509014 0706016001 0918292001 07...  \n",
       "836562  0915526001 0448509014 0706016001 0918292001 07...  \n",
       "\n",
       "[836563 rows x 2 columns]"
      ]
     },
     "execution_count": 138,
     "metadata": {},
     "output_type": "execute_result"
    }
   ],
   "source": [
    "no_shop = all_df[all_df.P1Column==a].copy()\n",
    "no_shop = no_shop.merge(age_based, on='age_bucket')[['customer_id', 'prediction']]"
   ]
  },
  {
   "cell_type": "code",
   "execution_count": 247,
   "id": "8f9c61e3",
   "metadata": {},
   "outputs": [],
   "source": [
    "shoppers = all_df[all_df.P1Column!=a].copy()"
   ]
  },
  {
   "cell_type": "code",
   "execution_count": 248,
   "id": "9208d577",
   "metadata": {},
   "outputs": [],
   "source": [
    "# if l1==10:\n",
    "#     take age based\n",
    "\n",
    "# if l1!=10 and l2==0 and l3==(10-l1):\n",
    "\n",
    "#     take everything from p1\n",
    "\n",
    "# if l1!=10 and l2==0 and l3!=(10-l1):\n",
    "\n",
    "#     take 85% from p1 and 15% from p3\n",
    "\n",
    "# if l1!=10 and l2==(10-l1):\n",
    "\n",
    "#     take everything from p1\n",
    "\n",
    "# if l1!=10 and l2!=(10-l1) and l3==(10-l1-l2):\n",
    "\n",
    "#     take 70% from p1 and 30% from p2\n",
    "\n",
    "# if l1!=10 and l2!=(10-l1) and l3!=(10-l1-l2):\n",
    "\n",
    "#     take 67 % from p1 and 22% from p2 and 11 % from p3"
   ]
  },
  {
   "cell_type": "code",
   "execution_count": 244,
   "id": "bbfb1473",
   "metadata": {},
   "outputs": [],
   "source": [
    "b = last_bought.set_index('customer_id')"
   ]
  },
  {
   "cell_type": "code",
   "execution_count": 249,
   "id": "e687b7f7",
   "metadata": {},
   "outputs": [],
   "source": [
    "shoppers.set_index('customer_id', inplace=True)"
   ]
  },
  {
   "cell_type": "code",
   "execution_count": 256,
   "id": "66f9032c",
   "metadata": {
    "scrolled": true
   },
   "outputs": [
    {
     "name": "stderr",
     "output_type": "stream",
     "text": [
      "100%|██████████| 535417/535417 [06:33<00:00, 1362.38it/s]\n"
     ]
    }
   ],
   "source": [
    "prediction_store = []\n",
    "\n",
    "for cust in tqdm(shoppers.index.tolist()):\n",
    "    \n",
    "    candidate_list = []\n",
    "\n",
    "    filter_df = shoppers.loc[cust].copy()\n",
    "    cust_age = filter_df['age_bucket']\n",
    "    \n",
    "    filter_2 = b.loc[cust].copy()\n",
    "    n_items = filter_2['number_of_articles_last_purchased']\n",
    "    prev_purchase = filter_2['article_list']\n",
    "    \n",
    "    if filter_df['P1Column'] is not np.nan:\n",
    "        p1 = filter_df['P1Column'].replace('index_code__','').replace(' ','').split(',')\n",
    "    else: p1 = filter_df['P1Column']\n",
    "\n",
    "    if filter_df['P1Column'] is not np.nan:\n",
    "        p1 = filter_df['P1Column'].replace('index_code__','').replace(' ','').split(',')\n",
    "    else: p1 = filter_df['P1Column']\n",
    "\n",
    "    if filter_df['P1Column'] is not np.nan:\n",
    "        p1 = filter_df['P1Column'].replace('index_code__','').replace(' ','').split(',')\n",
    "    else: p1 = filter_df['P1Column']\n",
    "        \n",
    "    if p1 is not np.nan: l1 = len(p1)\n",
    "    else: l1=0\n",
    "   \n",
    "    if p2 is not np.nan: l2 = len(p2)\n",
    "    else: l2=0\n",
    "        \n",
    "    if p3 is not np.nan: l3 = len(p3)\n",
    "    else: l3=0    \n",
    "    \n",
    "    search_n = 12 - n_items\n",
    "    \n",
    "    if l2==0: \n",
    "        if l3==(10-l1):\n",
    "            fact = int(search_n/l1)\n",
    "            for indx in p1:\n",
    "                candidate_list.extend(check_dict(indx, cust_age, index_dict)[:fact])\n",
    "        elif l3!=(10-l1):\n",
    "            pr1 = 0.85\n",
    "            fact_1 = int(search_n*pr1/l1)\n",
    "            fact_3 = int(search_n*(1-pr1)/l3)\n",
    "\n",
    "            for indx in p1:\n",
    "                candidate_list.extend(check_dict(indx, cust_age, index_dict)[:fact_1])\n",
    "            for indx in p3:\n",
    "                candidate_list.extend(check_dict(indx, cust_age, index_dict)[:fact_3])\n",
    "\n",
    "    if l2==(10-l1):\n",
    "\n",
    "        fact = int(search_n/l1)\n",
    "        for indx in p1:\n",
    "            candidate_list.extend(check_dict(indx, cust_age, index_dict)[:fact])\n",
    "\n",
    "    if l2!=(10-l1) and l2!=0:\n",
    "        if l3==(10-l1-l2):\n",
    "            pr1 = 0.70\n",
    "            fact_1 = int(search_n*pr1/l1)\n",
    "            fact_2 = int(search_n*(1-pr1)/l2)\n",
    "\n",
    "            for indx in p1:\n",
    "                candidate_list.extend(check_dict(indx, cust_age, index_dict)[:fact_1])\n",
    "            for indx in p2:\n",
    "                candidate_list.extend(check_dict(indx, cust_age, index_dict)[:fact_2])\n",
    "\n",
    "        elif l3!=(10-l1-l2) and l3!=0:\n",
    "            pr1 = 0.67\n",
    "            pr2 = 0.22\n",
    "            fact_1 = int(search_n*pr1/l1)\n",
    "            fact_2 = int(search_n*(1-pr1)/l2)\n",
    "            fact_3 = int(search_n*(1-pr1-pr2)/l3)\n",
    "\n",
    "            for indx in p1:\n",
    "                candidate_list.extend(check_dict(indx, cust_age, index_dict)[:fact_1])\n",
    "            for indx in p2:\n",
    "                candidate_list.extend(check_dict(indx, cust_age, index_dict)[:fact_2])\n",
    "            for indx in p3:\n",
    "                candidate_list.extend(check_dict(indx, cust_age, index_dict)[:fact_3])\n",
    "\n",
    "    candidate_list.extend(check_dict('', cust_age, index_dict))\n",
    "        \n",
    "    prediction_store.append(prev_purchase+' '+' '.join(candidate_list[:search_n]))"
   ]
  },
  {
   "cell_type": "code",
   "execution_count": 258,
   "id": "770a8834",
   "metadata": {},
   "outputs": [],
   "source": [
    "# prediction_store = []\n",
    "\n",
    "# for cust in tqdm(shoppers.index.tolist()):\n",
    "    \n",
    "#     candidate_list = []\n",
    "\n",
    "#     filter_df = shoppers.loc[cust].copy()\n",
    "#     cust_age = filter_df['age_bucket']\n",
    "    \n",
    "#     filter_2 = b.loc[cust].copy()\n",
    "#     n_items = filter_2['number_of_articles_last_purchased']\n",
    "#     prev_purchase = filter_2['article_list']\n",
    "    \n",
    "#     if filter_df['P1Column'] is not np.nan:\n",
    "#         p1 = filter_df['P1Column'].replace('index_code__','').replace(' ','').split(',')\n",
    "#     else: p1 = filter_df['P1Column']\n",
    "\n",
    "#     if filter_df['P1Column'] is not np.nan:\n",
    "#         p1 = filter_df['P1Column'].replace('index_code__','').replace(' ','').split(',')\n",
    "#     else: p1 = filter_df['P1Column']\n",
    "\n",
    "#     if filter_df['P1Column'] is not np.nan:\n",
    "#         p1 = filter_df['P1Column'].replace('index_code__','').replace(' ','').split(',')\n",
    "#     else: p1 = filter_df['P1Column']\n",
    "        \n",
    "#     if p1 is not np.nan: l1 = len(p1)\n",
    "#     else: l1=0\n",
    "   \n",
    "#     if p2 is not np.nan: l2 = len(p2)\n",
    "#     else: l2=0\n",
    "        \n",
    "#     if p3 is not np.nan: l3 = len(p3)\n",
    "#     else: l3=0    \n",
    "    \n",
    "#     search_n = 12 - n_items\n",
    "    \n",
    "#     if l2==0: \n",
    "#         if l3==(10-l1):\n",
    "#             fact = int(search_n/l1)\n",
    "#             for indx in p1:\n",
    "#                 candidate_list.extend(check_dict(indx, cust_age, index_dict)[:fact])\n",
    "#         elif l3!=(10-l1):\n",
    "#             pr1 = 0.85\n",
    "#             fact_1 = int(search_n*pr1/l1)\n",
    "#             fact_3 = int(search_n*(1-pr1)/l3)\n",
    "\n",
    "#             for indx in p1:\n",
    "#                 candidate_list.extend(check_dict(indx, cust_age, index_dict)[:fact_1])\n",
    "#             for indx in p3:\n",
    "#                 candidate_list.extend(check_dict(indx, cust_age, index_dict)[:fact_3])\n",
    "\n",
    "#     if l2==(10-l1):\n",
    "\n",
    "#         fact = int(search_n/l1)\n",
    "#         for indx in p1:\n",
    "#             candidate_list.extend(check_dict(indx, cust_age, index_dict)[:fact])\n",
    "\n",
    "#     if l2!=(10-l1) and l2!=0:\n",
    "#         if l3==(10-l1-l2):\n",
    "#             pr1 = 0.70\n",
    "#             fact_1 = int(search_n*pr1/l1)\n",
    "#             fact_2 = int(search_n*(1-pr1)/l2)\n",
    "\n",
    "#             for indx in p1:\n",
    "#                 candidate_list.extend(check_dict(indx, cust_age, index_dict)[:fact_1])\n",
    "#             for indx in p2:\n",
    "#                 candidate_list.extend(check_dict(indx, cust_age, index_dict)[:fact_2])\n",
    "\n",
    "#         elif l3!=(10-l1-l2) and l3!=0:\n",
    "#             pr1 = 0.67\n",
    "#             pr2 = 0.22\n",
    "#             fact_1 = int(search_n*pr1/l1)\n",
    "#             fact_2 = int(search_n*(1-pr1)/l2)\n",
    "#             fact_3 = int(search_n*(1-pr1-pr2)/l3)\n",
    "\n",
    "#             for indx in p1:\n",
    "#                 candidate_list.extend(check_dict(indx, cust_age, index_dict)[:fact_1])\n",
    "#             for indx in p2:\n",
    "#                 candidate_list.extend(check_dict(indx, cust_age, index_dict)[:fact_2])\n",
    "#             for indx in p3:\n",
    "#                 candidate_list.extend(check_dict(indx, cust_age, index_dict)[:fact_3])\n",
    "\n",
    "#     candidate_list.extend(check_dict('', cust_age, index_dict))\n",
    "        \n",
    "#     prediction_store.append(prev_purchase+' '.join(candidate_list[:search_n]))"
   ]
  },
  {
   "cell_type": "code",
   "execution_count": 259,
   "id": "028bf9ce",
   "metadata": {},
   "outputs": [],
   "source": [
    "shoppers['prediction'] = prediction_store\n",
    "shoppers_pred = shoppers[['prediction']].reset_index().copy()"
   ]
  },
  {
   "cell_type": "code",
   "execution_count": 260,
   "id": "c9a8ded9",
   "metadata": {},
   "outputs": [
    {
     "data": {
      "text/plain": [
       "(1371980, 2)"
      ]
     },
     "execution_count": 260,
     "metadata": {},
     "output_type": "execute_result"
    }
   ],
   "source": [
    "sub = pd.concat([no_shop, shoppers_pred], axis=0).reset_index(drop=True)\n",
    "sub.shape"
   ]
  },
  {
   "cell_type": "code",
   "execution_count": 261,
   "id": "c735196a",
   "metadata": {},
   "outputs": [
    {
     "data": {
      "text/html": [
       "<div>\n",
       "<style scoped>\n",
       "    .dataframe tbody tr th:only-of-type {\n",
       "        vertical-align: middle;\n",
       "    }\n",
       "\n",
       "    .dataframe tbody tr th {\n",
       "        vertical-align: top;\n",
       "    }\n",
       "\n",
       "    .dataframe thead th {\n",
       "        text-align: right;\n",
       "    }\n",
       "</style>\n",
       "<table border=\"1\" class=\"dataframe\">\n",
       "  <thead>\n",
       "    <tr style=\"text-align: right;\">\n",
       "      <th></th>\n",
       "      <th>customer_id</th>\n",
       "      <th>prediction</th>\n",
       "    </tr>\n",
       "  </thead>\n",
       "  <tbody>\n",
       "    <tr>\n",
       "      <th>0</th>\n",
       "      <td>00005ca1c9ed5f5146b52ac8639a40ca9d57aeff4d1bd2...</td>\n",
       "      <td>0751471043 0751471001 0896152002 0896169002 09...</td>\n",
       "    </tr>\n",
       "    <tr>\n",
       "      <th>1</th>\n",
       "      <td>0000b7a134c3ec0d8842fad1fd4ca28517424c14fc4848...</td>\n",
       "      <td>0751471043 0751471001 0896152002 0896169002 09...</td>\n",
       "    </tr>\n",
       "    <tr>\n",
       "      <th>2</th>\n",
       "      <td>00018385675844f7a6babbed41b5655b5727fb16483b6e...</td>\n",
       "      <td>0751471043 0751471001 0896152002 0896169002 09...</td>\n",
       "    </tr>\n",
       "    <tr>\n",
       "      <th>3</th>\n",
       "      <td>00019d6c20e0fbb551af18c57149af4707ec016bb0decd...</td>\n",
       "      <td>0751471043 0751471001 0896152002 0896169002 09...</td>\n",
       "    </tr>\n",
       "    <tr>\n",
       "      <th>4</th>\n",
       "      <td>0001bc8e81a72aaf228a103a85d2ac530c09defffbc6ab...</td>\n",
       "      <td>0751471043 0751471001 0896152002 0896169002 09...</td>\n",
       "    </tr>\n",
       "    <tr>\n",
       "      <th>...</th>\n",
       "      <td>...</td>\n",
       "      <td>...</td>\n",
       "    </tr>\n",
       "    <tr>\n",
       "      <th>1371975</th>\n",
       "      <td>ffff61677073258d461e043cc9ed4ed97be5617a920640...</td>\n",
       "      <td>0810746001 0846782002 0158340001 0885951001 07...</td>\n",
       "    </tr>\n",
       "    <tr>\n",
       "      <th>1371976</th>\n",
       "      <td>ffffbbf78b6eaac697a8a5dfbfd2bfa8113ee5b403e474...</td>\n",
       "      <td>0557599022 0713997002 0804992033 0372860002 03...</td>\n",
       "    </tr>\n",
       "    <tr>\n",
       "      <th>1371977</th>\n",
       "      <td>ffffcd5046a6143d29a04fb8c424ce494a76e5cdf4fab5...</td>\n",
       "      <td>0762846031 0759871030 0685816044 0668012013 04...</td>\n",
       "    </tr>\n",
       "    <tr>\n",
       "      <th>1371978</th>\n",
       "      <td>ffffcf35913a0bee60e8741cb2b4e78b8a98ee5ff2e6a1...</td>\n",
       "      <td>0762846027 0689365050 0570004009 0915526001 07...</td>\n",
       "    </tr>\n",
       "    <tr>\n",
       "      <th>1371979</th>\n",
       "      <td>ffffd7744cebcf3aca44ae7049d2a94b87074c3d4ffe38...</td>\n",
       "      <td>0882810001 0372860002 0372860001 0885951001 07...</td>\n",
       "    </tr>\n",
       "  </tbody>\n",
       "</table>\n",
       "<p>1371980 rows × 2 columns</p>\n",
       "</div>"
      ],
      "text/plain": [
       "                                               customer_id  \\\n",
       "0        00005ca1c9ed5f5146b52ac8639a40ca9d57aeff4d1bd2...   \n",
       "1        0000b7a134c3ec0d8842fad1fd4ca28517424c14fc4848...   \n",
       "2        00018385675844f7a6babbed41b5655b5727fb16483b6e...   \n",
       "3        00019d6c20e0fbb551af18c57149af4707ec016bb0decd...   \n",
       "4        0001bc8e81a72aaf228a103a85d2ac530c09defffbc6ab...   \n",
       "...                                                    ...   \n",
       "1371975  ffff61677073258d461e043cc9ed4ed97be5617a920640...   \n",
       "1371976  ffffbbf78b6eaac697a8a5dfbfd2bfa8113ee5b403e474...   \n",
       "1371977  ffffcd5046a6143d29a04fb8c424ce494a76e5cdf4fab5...   \n",
       "1371978  ffffcf35913a0bee60e8741cb2b4e78b8a98ee5ff2e6a1...   \n",
       "1371979  ffffd7744cebcf3aca44ae7049d2a94b87074c3d4ffe38...   \n",
       "\n",
       "                                                prediction  \n",
       "0        0751471043 0751471001 0896152002 0896169002 09...  \n",
       "1        0751471043 0751471001 0896152002 0896169002 09...  \n",
       "2        0751471043 0751471001 0896152002 0896169002 09...  \n",
       "3        0751471043 0751471001 0896152002 0896169002 09...  \n",
       "4        0751471043 0751471001 0896152002 0896169002 09...  \n",
       "...                                                    ...  \n",
       "1371975  0810746001 0846782002 0158340001 0885951001 07...  \n",
       "1371976  0557599022 0713997002 0804992033 0372860002 03...  \n",
       "1371977  0762846031 0759871030 0685816044 0668012013 04...  \n",
       "1371978  0762846027 0689365050 0570004009 0915526001 07...  \n",
       "1371979  0882810001 0372860002 0372860001 0885951001 07...  \n",
       "\n",
       "[1371980 rows x 2 columns]"
      ]
     },
     "execution_count": 261,
     "metadata": {},
     "output_type": "execute_result"
    }
   ],
   "source": [
    "sub"
   ]
  },
  {
   "cell_type": "code",
   "execution_count": 262,
   "id": "7dd9d642",
   "metadata": {},
   "outputs": [],
   "source": [
    "sub.to_csv('sub_pp_idxcd_age.csv', index = False)"
   ]
  },
  {
   "cell_type": "code",
   "execution_count": 263,
   "id": "db1b8ea1",
   "metadata": {},
   "outputs": [
    {
     "name": "stdout",
     "output_type": "stream",
     "text": [
      "Warning: Looks like you're using an outdated API Version, please consider updating (server 1.5.12 / client 1.5.6)\n",
      "100%|########################################| 258M/258M [00:06<00:00, 44.4MB/s]\n",
      "Successfully submitted to H&M Personalized Fashion Recommendations"
     ]
    }
   ],
   "source": [
    "!kaggle competitions submit -c h-and-m-personalized-fashion-recommendations -f \\\n",
    "\"sub_pp_idxcd_age.csv\" -m \"Last purchased with index code and age based grouping from last 3 months\""
   ]
  },
  {
   "cell_type": "code",
   "execution_count": 267,
   "id": "29c8d80c",
   "metadata": {},
   "outputs": [
    {
     "data": {
      "text/plain": [
       "'0568601043 0751471001 0915529003 0751471043 0863595006 0884319001 0865929003 0803757001 0850917001 0768912001 0783346001 0673677002'"
      ]
     },
     "execution_count": 267,
     "metadata": {},
     "output_type": "execute_result"
    }
   ],
   "source": [
    "sub[sub.customer_id=='00000dbacae5abe5e23885899a1fa44253a17956c6d1c3d25f88aa139fdfc657']['prediction'].iloc[0]"
   ]
  },
  {
   "cell_type": "code",
   "execution_count": null,
   "id": "a45a3172",
   "metadata": {},
   "outputs": [],
   "source": [
    "'0568601043 0568601006 0751471001 0924243002 0924243001 0448509014 0745232001 0656719005 0923758001'"
   ]
  },
  {
   "cell_type": "code",
   "execution_count": null,
   "id": "b7dbb9e3",
   "metadata": {},
   "outputs": [],
   "source": []
  }
 ],
 "metadata": {
  "kernelspec": {
   "display_name": "Python 3",
   "language": "python",
   "name": "python3"
  },
  "language_info": {
   "codemirror_mode": {
    "name": "ipython",
    "version": 3
   },
   "file_extension": ".py",
   "mimetype": "text/x-python",
   "name": "python",
   "nbconvert_exporter": "python",
   "pygments_lexer": "ipython3",
   "version": "3.6.13"
  }
 },
 "nbformat": 4,
 "nbformat_minor": 5
}
