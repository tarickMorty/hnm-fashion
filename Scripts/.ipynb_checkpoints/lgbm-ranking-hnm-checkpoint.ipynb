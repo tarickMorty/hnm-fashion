{
 "cells": [
  {
   "cell_type": "markdown",
   "metadata": {
    "id": "70bkjrfStDfM"
   },
   "source": [
    "This notebook provides ranking baseline that uses item, user features and lightgbm as the ranker model. Code for preparing item features [this](https://www.kaggle.com/alexvishnevskiy/ranking-item-features), code for preparing user features [this](https://www.kaggle.com/alexvishnevskiy/ranking-user-features). Some code is taken from [this repo](https://github.com/radekosmulski/personalized_fashion_recs)."
   ]
  },
  {
   "cell_type": "code",
   "execution_count": 1,
   "metadata": {
    "execution": {
     "iopub.execute_input": "2022-04-25T13:46:03.966248Z",
     "iopub.status.busy": "2022-04-25T13:46:03.965884Z",
     "iopub.status.idle": "2022-04-25T13:46:05.979990Z",
     "shell.execute_reply": "2022-04-25T13:46:05.979172Z",
     "shell.execute_reply.started": "2022-04-25T13:46:03.966140Z"
    },
    "id": "bU6vwaTcDBVB"
   },
   "outputs": [],
   "source": [
    "from lightgbm.sklearn import LGBMRanker\n",
    "from datetime import timedelta\n",
    "import pandas as pd\n",
    "import numpy as np\n",
    "from pathlib import Path\n",
    "from tqdm import tqdm"
   ]
  },
  {
   "cell_type": "markdown",
   "metadata": {},
   "source": [
    "### Load all data"
   ]
  },
  {
   "cell_type": "code",
   "execution_count": 2,
   "metadata": {
    "execution": {
     "iopub.execute_input": "2022-04-25T13:46:05.982213Z",
     "iopub.status.busy": "2022-04-25T13:46:05.981598Z",
     "iopub.status.idle": "2022-04-25T13:47:22.777644Z",
     "shell.execute_reply": "2022-04-25T13:47:22.776305Z",
     "shell.execute_reply.started": "2022-04-25T13:46:05.982145Z"
    },
    "id": "wcdV4WcbDP_e"
   },
   "outputs": [],
   "source": [
    "# user_features = pd.read_parquet('../input/ranking-features/user_features.parquet')\n",
    "# item_features = pd.read_parquet('../input/ranking-features/item_features.parquet')\n",
    "\n",
    "user_features = pd.read_parquet('../input/ranking-user-features-attempt-at-ranker/user_features.parquet')\n",
    "item_features = pd.read_parquet('../input/ranking-item-features-attempt-at-ranker/item_features.parquet')\n",
    "\n",
    "transactions_df = pd.read_csv('../input/h-and-m-personalized-fashion-recommendations/transactions_train.csv')\n",
    "transactions_df.t_dat = pd.to_datetime( transactions_df.t_dat )"
   ]
  },
  {
   "cell_type": "markdown",
   "metadata": {
    "id": "hckIzN4qswV2"
   },
   "source": [
    "Last 4 weeks of transactions will be used as a baseline.\n",
    "\n",
    "過去4週間のトランザクションをベースラインとして使用します。"
   ]
  },
  {
   "cell_type": "code",
   "execution_count": 3,
   "metadata": {
    "execution": {
     "iopub.execute_input": "2022-04-25T13:47:22.779981Z",
     "iopub.status.busy": "2022-04-25T13:47:22.779549Z",
     "iopub.status.idle": "2022-04-25T13:47:22.814007Z",
     "shell.execute_reply": "2022-04-25T13:47:22.813233Z",
     "shell.execute_reply.started": "2022-04-25T13:47:22.779939Z"
    }
   },
   "outputs": [],
   "source": [
    "user_features.head()"
   ]
  },
  {
   "cell_type": "code",
   "execution_count": 4,
   "metadata": {
    "execution": {
     "iopub.execute_input": "2022-04-25T13:47:22.817442Z",
     "iopub.status.busy": "2022-04-25T13:47:22.816596Z",
     "iopub.status.idle": "2022-04-25T13:47:22.837277Z",
     "shell.execute_reply": "2022-04-25T13:47:22.836254Z",
     "shell.execute_reply.started": "2022-04-25T13:47:22.817396Z"
    }
   },
   "outputs": [],
   "source": [
    "item_features.head()"
   ]
  },
  {
   "cell_type": "code",
   "execution_count": 5,
   "metadata": {
    "execution": {
     "iopub.execute_input": "2022-04-25T13:47:22.838848Z",
     "iopub.status.busy": "2022-04-25T13:47:22.838566Z",
     "iopub.status.idle": "2022-04-25T13:47:23.495504Z",
     "shell.execute_reply": "2022-04-25T13:47:23.494594Z",
     "shell.execute_reply.started": "2022-04-25T13:47:22.838815Z"
    },
    "id": "IYyTDVwLdaTr"
   },
   "outputs": [],
   "source": [
    "df_4w = transactions_df[transactions_df['t_dat'] >= pd.to_datetime('2020-08-24')].copy()\n",
    "df_3w = transactions_df[transactions_df['t_dat'] >= pd.to_datetime('2020-08-31')].copy()\n",
    "df_2w = transactions_df[transactions_df['t_dat'] >= pd.to_datetime('2020-09-07')].copy()\n",
    "df_1w = transactions_df[transactions_df['t_dat'] >= pd.to_datetime('2020-09-15')].copy()"
   ]
  },
  {
   "cell_type": "markdown",
   "metadata": {
    "id": "p1OGJZ4us24-"
   },
   "source": [
    "Factorize all categorical features\n",
    "\n",
    "すべてのカテゴリ特徴量を因数分解(数値情報に置き換える)する"
   ]
  },
  {
   "cell_type": "code",
   "execution_count": 6,
   "metadata": {
    "execution": {
     "iopub.execute_input": "2022-04-25T13:47:23.497069Z",
     "iopub.status.busy": "2022-04-25T13:47:23.496818Z",
     "iopub.status.idle": "2022-04-25T13:47:23.522505Z",
     "shell.execute_reply": "2022-04-25T13:47:23.521626Z",
     "shell.execute_reply.started": "2022-04-25T13:47:23.497039Z"
    }
   },
   "outputs": [],
   "source": [
    "user_features[['club_member_status', 'fashion_news_frequency']]"
   ]
  },
  {
   "cell_type": "code",
   "execution_count": 7,
   "metadata": {
    "execution": {
     "iopub.execute_input": "2022-04-25T13:47:23.524059Z",
     "iopub.status.busy": "2022-04-25T13:47:23.523826Z",
     "iopub.status.idle": "2022-04-25T13:47:23.629148Z",
     "shell.execute_reply": "2022-04-25T13:47:23.628257Z",
     "shell.execute_reply.started": "2022-04-25T13:47:23.524030Z"
    },
    "id": "ZHnAsBk1HNNu"
   },
   "outputs": [],
   "source": [
    "user_features[['club_member_status', 'fashion_news_frequency']] = (\n",
    "                   user_features[['club_member_status', 'fashion_news_frequency']]\n",
    "                   .apply(lambda x: pd.factorize(x)[0])\n",
    ").astype('int8')"
   ]
  },
  {
   "cell_type": "markdown",
   "metadata": {
    "id": "hLGSgcccs9zr"
   },
   "source": [
    "Merge user, item features to transactions."
   ]
  },
  {
   "cell_type": "code",
   "execution_count": null,
   "metadata": {},
   "outputs": [],
   "source": [
    "transactions_df = (\n",
    "    transactions_df\n",
    "    .merge(user_features, on = ('customer_id'))\n",
    "    .merge(item_features, on = ('article_id'))\n",
    ")"
   ]
  },
  {
   "cell_type": "code",
   "execution_count": 10,
   "metadata": {
    "execution": {
     "iopub.execute_input": "2022-04-25T13:49:31.323857Z",
     "iopub.status.busy": "2022-04-25T13:49:31.323546Z",
     "iopub.status.idle": "2022-04-25T13:50:09.324983Z",
     "shell.execute_reply": "2022-04-25T13:50:09.323869Z",
     "shell.execute_reply.started": "2022-04-25T13:49:31.323813Z"
    },
    "id": "Jf0_LM-JHrUR"
   },
   "outputs": [],
   "source": [
    "transactions_df.sort_values(['t_dat', 'customer_id'], inplace=True)"
   ]
  },
  {
   "cell_type": "code",
   "execution_count": 11,
   "metadata": {
    "execution": {
     "iopub.execute_input": "2022-04-25T13:50:27.407646Z",
     "iopub.status.busy": "2022-04-25T13:50:27.407352Z",
     "iopub.status.idle": "2022-04-25T13:50:27.431630Z",
     "shell.execute_reply": "2022-04-25T13:50:27.430514Z",
     "shell.execute_reply.started": "2022-04-25T13:50:27.407613Z"
    }
   },
   "outputs": [],
   "source": [
    "transactions_df.info()"
   ]
  },
  {
   "cell_type": "code",
   "execution_count": 13,
   "metadata": {
    "execution": {
     "iopub.execute_input": "2022-04-25T13:50:58.834398Z",
     "iopub.status.busy": "2022-04-25T13:50:58.833707Z",
     "iopub.status.idle": "2022-04-25T13:51:04.497261Z",
     "shell.execute_reply": "2022-04-25T13:51:04.496360Z",
     "shell.execute_reply.started": "2022-04-25T13:50:58.834351Z"
    },
    "id": "anyNkYukDQB1"
   },
   "outputs": [],
   "source": [
    "# N_ROWS = 1_000_000\n",
    "\n",
    "# train = transactions_df.loc[ transactions_df.t_dat <= pd.to_datetime('2020-09-15') ].iloc[:N_ROWS]\n",
    "# valid = transactions_df.loc[ transactions_df.t_dat >= pd.to_datetime('2020-09-16') ]\n",
    "\n",
    "N_ROWS = 4_057_000\n",
    "\n",
    "train = transactions_df.loc[ transactions_df.t_dat <= pd.to_datetime('2020-09-22') ].iloc[-N_ROWS:]"
   ]
  },
  {
   "cell_type": "code",
   "execution_count": 14,
   "metadata": {
    "execution": {
     "iopub.execute_input": "2022-04-25T13:51:04.498932Z",
     "iopub.status.busy": "2022-04-25T13:51:04.498722Z",
     "iopub.status.idle": "2022-04-25T13:51:04.502910Z",
     "shell.execute_reply": "2022-04-25T13:51:04.502289Z",
     "shell.execute_reply.started": "2022-04-25T13:51:04.498906Z"
    },
    "id": "B--Vk-g3dvfc"
   },
   "outputs": [],
   "source": [
    "#delete transactions to save memory\n",
    "del transactions_df"
   ]
  },
  {
   "cell_type": "code",
   "execution_count": 15,
   "metadata": {
    "execution": {
     "iopub.execute_input": "2022-04-25T13:51:04.504431Z",
     "iopub.status.busy": "2022-04-25T13:51:04.503871Z",
     "iopub.status.idle": "2022-04-25T13:51:04.516968Z",
     "shell.execute_reply": "2022-04-25T13:51:04.516168Z",
     "shell.execute_reply.started": "2022-04-25T13:51:04.504394Z"
    },
    "id": "so86O-mCE4M_",
    "outputId": "c9fdad26-c63d-452e-cd7f-ad17d7fd44b6"
   },
   "outputs": [],
   "source": [
    "# train.shape, valid.shape\n",
    "\n",
    "train.shape"
   ]
  },
  {
   "cell_type": "markdown",
   "metadata": {
    "id": "iQpAr_iNfkNi"
   },
   "source": [
    "### Prepare candidates"
   ]
  },
  {
   "cell_type": "code",
   "execution_count": 16,
   "metadata": {
    "execution": {
     "iopub.execute_input": "2022-04-25T13:51:04.519466Z",
     "iopub.status.busy": "2022-04-25T13:51:04.518504Z",
     "iopub.status.idle": "2022-04-25T13:51:06.176012Z",
     "shell.execute_reply": "2022-04-25T13:51:06.175419Z",
     "shell.execute_reply.started": "2022-04-25T13:51:04.519424Z"
    },
    "id": "b12XmH1SfoPR"
   },
   "outputs": [],
   "source": [
    "purchase_dict_4w = {}\n",
    "\n",
    "for i,x in enumerate(zip(df_4w['customer_id'], df_4w['article_id'])):\n",
    "    cust_id, art_id = x\n",
    "    if cust_id not in purchase_dict_4w:\n",
    "        purchase_dict_4w[cust_id] = {}\n",
    "    \n",
    "    if art_id not in purchase_dict_4w[cust_id]:\n",
    "        purchase_dict_4w[cust_id][art_id] = 0\n",
    "    \n",
    "    purchase_dict_4w[cust_id][art_id] += 1\n",
    "\n",
    "dummy_list_4w = list((df_4w['article_id'].value_counts()).index)[:12]"
   ]
  },
  {
   "cell_type": "markdown",
   "metadata": {},
   "source": [
    "週ごとに誰が、何回同じ商品を買ったのかチェック\n",
    "\n",
    "以下のような形式で保存される\n",
    "\n",
    "> `{'顧客ID(誰が？)': {商品ID(何を？): 購入回数(何回？)}}`\n"
   ]
  },
  {
   "cell_type": "code",
   "execution_count": 17,
   "metadata": {
    "execution": {
     "iopub.execute_input": "2022-04-25T13:51:11.403884Z",
     "iopub.status.busy": "2022-04-25T13:51:11.403215Z",
     "iopub.status.idle": "2022-04-25T13:51:11.415940Z",
     "shell.execute_reply": "2022-04-25T13:51:11.415268Z",
     "shell.execute_reply.started": "2022-04-25T13:51:11.403839Z"
    }
   },
   "outputs": [],
   "source": [
    "#検証用アルゴリズム\n",
    "names = ['Alice', 'Bob', 'Charlie','Alice']\n",
    "ages = [24, 50, 18,24]\n",
    "test_dict = {}\n",
    "\n",
    "for i, (name, age) in enumerate(zip(names, ages)):\n",
    "    print(i, name, age)\n",
    "    if name not in test_dict:\n",
    "        test_dict[name] = {}\n",
    "    \n",
    "    if age not in test_dict[name]:\n",
    "        test_dict[name][age] = 0\n",
    "    \n",
    "    test_dict[name][age] += 1\n",
    "test_dict"
   ]
  },
  {
   "cell_type": "code",
   "execution_count": 18,
   "metadata": {
    "execution": {
     "iopub.execute_input": "2022-04-25T13:51:12.705817Z",
     "iopub.status.busy": "2022-04-25T13:51:12.705023Z",
     "iopub.status.idle": "2022-04-25T13:51:13.944807Z",
     "shell.execute_reply": "2022-04-25T13:51:13.943857Z",
     "shell.execute_reply.started": "2022-04-25T13:51:12.705774Z"
    },
    "id": "yc4T0JnWf-2Z"
   },
   "outputs": [],
   "source": [
    "purchase_dict_3w = {}\n",
    "\n",
    "for i,x in enumerate(zip(df_3w['customer_id'], df_3w['article_id'])):\n",
    "    cust_id, art_id = x\n",
    "    if cust_id not in purchase_dict_3w:\n",
    "        purchase_dict_3w[cust_id] = {}\n",
    "    \n",
    "    if art_id not in purchase_dict_3w[cust_id]:\n",
    "        purchase_dict_3w[cust_id][art_id] = 0\n",
    "    \n",
    "    purchase_dict_3w[cust_id][art_id] += 1\n",
    "\n",
    "dummy_list_3w = list((df_3w['article_id'].value_counts()).index)[:12]"
   ]
  },
  {
   "cell_type": "code",
   "execution_count": 19,
   "metadata": {
    "execution": {
     "iopub.execute_input": "2022-04-25T13:51:13.946669Z",
     "iopub.status.busy": "2022-04-25T13:51:13.946450Z",
     "iopub.status.idle": "2022-04-25T13:51:14.789964Z",
     "shell.execute_reply": "2022-04-25T13:51:14.789114Z",
     "shell.execute_reply.started": "2022-04-25T13:51:13.946643Z"
    },
    "id": "xuxrxnnrgE4M"
   },
   "outputs": [],
   "source": [
    "purchase_dict_2w = {}\n",
    "\n",
    "for i,x in enumerate(zip(df_2w['customer_id'], df_2w['article_id'])):\n",
    "    cust_id, art_id = x\n",
    "    if cust_id not in purchase_dict_2w:\n",
    "        purchase_dict_2w[cust_id] = {}\n",
    "    \n",
    "    if art_id not in purchase_dict_2w[cust_id]:\n",
    "        purchase_dict_2w[cust_id][art_id] = 0\n",
    "    \n",
    "    purchase_dict_2w[cust_id][art_id] += 1\n",
    "\n",
    "dummy_list_2w = list((df_2w['article_id'].value_counts()).index)[:12]"
   ]
  },
  {
   "cell_type": "code",
   "execution_count": 20,
   "metadata": {
    "execution": {
     "iopub.execute_input": "2022-04-25T13:51:17.151311Z",
     "iopub.status.busy": "2022-04-25T13:51:17.151006Z",
     "iopub.status.idle": "2022-04-25T13:51:17.543007Z",
     "shell.execute_reply": "2022-04-25T13:51:17.542081Z",
     "shell.execute_reply.started": "2022-04-25T13:51:17.151277Z"
    },
    "id": "maxlwdZIgNEJ"
   },
   "outputs": [],
   "source": [
    "purchase_dict_1w = {}\n",
    "\n",
    "for i,x in enumerate(zip(df_1w['customer_id'], df_1w['article_id'])):\n",
    "    cust_id, art_id = x\n",
    "    if cust_id not in purchase_dict_1w:\n",
    "        purchase_dict_1w[cust_id] = {}\n",
    "    \n",
    "    if art_id not in purchase_dict_1w[cust_id]:\n",
    "        purchase_dict_1w[cust_id][art_id] = 0\n",
    "    \n",
    "    purchase_dict_1w[cust_id][art_id] += 1\n",
    "\n",
    "dummy_list_1w = list((df_1w['article_id'].value_counts()).index)[:12]"
   ]
  },
  {
   "cell_type": "markdown",
   "metadata": {},
   "source": [
    "prepare_candidatesでやっていること\n",
    "\n",
    "- 顧客が特定の週で最も購入している商品(特定顧客ベース)上位12をトレーニングデータに設定\n",
    "- 12の商品がなかった場合、特定の週で最も購入された商品(特定の週の全取引情報ベース)上位12のデータで不足を保管"
   ]
  },
  {
   "cell_type": "code",
   "execution_count": 21,
   "metadata": {
    "execution": {
     "iopub.execute_input": "2022-04-25T13:51:19.159937Z",
     "iopub.status.busy": "2022-04-25T13:51:19.159477Z",
     "iopub.status.idle": "2022-04-25T13:51:19.181797Z",
     "shell.execute_reply": "2022-04-25T13:51:19.180373Z",
     "shell.execute_reply.started": "2022-04-25T13:51:19.159888Z"
    },
    "id": "YQaMpMKKghRG"
   },
   "outputs": [],
   "source": [
    "def prepare_candidates(customers_id, n_candidates = 12):\n",
    "  \"\"\"\n",
    "  df - basically, dataframe with customers(customers should be unique)\n",
    "  \"\"\"\n",
    "  prediction_dict = {}\n",
    "  dummy_list = list((df_2w['article_id'].value_counts()).index)[:n_candidates]\n",
    "\n",
    "  for i, cust_id in tqdm(enumerate(customers_id)):\n",
    "    # comment this for validation\n",
    "    if cust_id in purchase_dict_1w:\n",
    "        # 顧客が購入したアイテムの回数のデータを参照して、降順に並び替える\n",
    "        l = sorted((purchase_dict_1w[cust_id]).items(), key=lambda x: x[1], reverse=True)\n",
    "        # 降順に並び替えたリストから、アイテムIDを配列で取得\n",
    "        l = [y[0] for y in l]\n",
    "        # 予測アイテム数の上限よりもアイテムID数が多かった場合、予測アイテム数の上限までのアイテムIDのリスト要素を取得\n",
    "        if len(l)>n_candidates:\n",
    "            s = l[:n_candidates]\n",
    "            # 予測アイテム数の上限よりもアイテムID数が少なかった場合、ダミーの値で保管\n",
    "            # ダミーの値の中身は、その週に最も購入された上位12の商品\n",
    "        else:\n",
    "            s = l+dummy_list_1w[:(n_candidates-len(l))]\n",
    "    elif cust_id in purchase_dict_2w:\n",
    "        l = sorted((purchase_dict_2w[cust_id]).items(), key=lambda x: x[1], reverse=True)\n",
    "        l = [y[0] for y in l]\n",
    "        if len(l)>n_candidates:\n",
    "            s = l[:n_candidates]\n",
    "        else:\n",
    "            s = l+dummy_list_2w[:(n_candidates-len(l))]\n",
    "    elif cust_id in purchase_dict_3w:\n",
    "        l = sorted((purchase_dict_3w[cust_id]).items(), key=lambda x: x[1], reverse=True)\n",
    "        l = [y[0] for y in l]\n",
    "        if len(l)>n_candidates:\n",
    "            s = l[:n_candidates]\n",
    "        else:\n",
    "            s = l+dummy_list_3w[:(n_candidates-len(l))]\n",
    "    elif cust_id in purchase_dict_4w:\n",
    "        l = sorted((purchase_dict_4w[cust_id]).items(), key=lambda x: x[1], reverse=True)\n",
    "        l = [y[0] for y in l]\n",
    "        if len(l)>n_candidates:\n",
    "            s = l[:n_candidates]\n",
    "        else:\n",
    "            s = l+dummy_list_4w[:(n_candidates-len(l))]\n",
    "    else:\n",
    "        s = dummy_list\n",
    "    prediction_dict[cust_id] = s\n",
    "\n",
    "  k = list(map(lambda x: x[0], prediction_dict.items()))\n",
    "  v = list(map(lambda x: x[1], prediction_dict.items()))\n",
    "  negatives_df = pd.DataFrame({'customer_id': k, 'negatives': v})\n",
    "  negatives_df = (\n",
    "      negatives_df\n",
    "      .explode('negatives')\n",
    "      .rename(columns = {'negatives': 'article_id'})\n",
    "  )\n",
    "  return negatives_df"
   ]
  },
  {
   "cell_type": "markdown",
   "metadata": {
    "id": "67_UFufELEoZ"
   },
   "source": [
    "### Train model"
   ]
  },
  {
   "cell_type": "code",
   "execution_count": 22,
   "metadata": {
    "execution": {
     "iopub.execute_input": "2022-04-25T13:51:20.751853Z",
     "iopub.status.busy": "2022-04-25T13:51:20.751577Z",
     "iopub.status.idle": "2022-04-25T13:51:24.508238Z",
     "shell.execute_reply": "2022-04-25T13:51:24.507388Z",
     "shell.execute_reply.started": "2022-04-25T13:51:20.751822Z"
    }
   },
   "outputs": [],
   "source": [
    "train['rank'] = range(len(train))\n",
    "train.assign(rn = train.groupby(['customer_id'])['rank'].rank(method='first', ascending=False))"
   ]
  },
  {
   "cell_type": "code",
   "execution_count": 23,
   "metadata": {
    "execution": {
     "iopub.execute_input": "2022-04-25T13:51:35.625309Z",
     "iopub.status.busy": "2022-04-25T13:51:35.625017Z",
     "iopub.status.idle": "2022-04-25T13:51:43.850982Z",
     "shell.execute_reply": "2022-04-25T13:51:43.850128Z",
     "shell.execute_reply.started": "2022-04-25T13:51:35.625276Z"
    },
    "id": "BvwlJ4qqkOxK"
   },
   "outputs": [],
   "source": [
    "#take only last 15 transactions\n",
    "#トレーニングデータの長さ分の数値を格納\n",
    "train['rank'] = range(len(train))\n",
    "#カスタマーごとに最新の15のトランザクションをトレーニングデータとして扱う\n",
    "train = (\n",
    "    train\n",
    "    .assign(\n",
    "        rn = train.groupby(['customer_id'])['rank']\n",
    "                  .rank(method='first', ascending=False))\n",
    "    .query(\"rn <= 15\")\n",
    "    .drop(columns = ['price', 'sales_channel_id'])\n",
    "    .sort_values(['t_dat', 'customer_id'])\n",
    ")\n",
    "train['label'] = 1\n",
    "\n",
    "del train['rank']\n",
    "del train['rn']\n",
    "\n",
    "# valid.sort_values(['t_dat', 'customer_id'], inplace = True)"
   ]
  },
  {
   "cell_type": "markdown",
   "metadata": {
    "id": "gnKSsWUvt7iR"
   },
   "source": [
    "Append negatives to positives using last dates from train"
   ]
  },
  {
   "cell_type": "code",
   "execution_count": 24,
   "metadata": {
    "execution": {
     "iopub.execute_input": "2022-04-25T13:51:43.852841Z",
     "iopub.status.busy": "2022-04-25T13:51:43.852622Z",
     "iopub.status.idle": "2022-04-25T13:52:06.835979Z",
     "shell.execute_reply": "2022-04-25T13:52:06.835067Z",
     "shell.execute_reply.started": "2022-04-25T13:51:43.852815Z"
    },
    "id": "UG4znc_dyLAZ",
    "outputId": "b41aaa1c-862a-4322-87d4-805e48ca4abc"
   },
   "outputs": [],
   "source": [
    "#カスタマーごとに最新の購入日を取得\n",
    "last_dates = (\n",
    "    train\n",
    "    .groupby('customer_id')['t_dat']\n",
    "    .max()\n",
    "    .to_dict()\n",
    ")\n",
    "\n",
    "# \n",
    "negatives = prepare_candidates(train['customer_id'].unique(), 15)\n",
    "negatives['t_dat'] = negatives['customer_id'].map(last_dates)\n",
    "\n",
    "negatives = (\n",
    "    negatives\n",
    "    .merge(user_features, on = ('customer_id'))\n",
    "    .merge(item_features, on = ('article_id'))\n",
    ")\n",
    "negatives['label'] = 0"
   ]
  },
  {
   "cell_type": "code",
   "execution_count": 25,
   "metadata": {
    "execution": {
     "iopub.execute_input": "2022-04-25T13:52:14.149222Z",
     "iopub.status.busy": "2022-04-25T13:52:14.148873Z",
     "iopub.status.idle": "2022-04-25T13:52:16.873239Z",
     "shell.execute_reply": "2022-04-25T13:52:16.872315Z",
     "shell.execute_reply.started": "2022-04-25T13:52:14.149176Z"
    }
   },
   "outputs": [],
   "source": [
    "negatives"
   ]
  },
  {
   "cell_type": "code",
   "execution_count": 26,
   "metadata": {
    "execution": {
     "iopub.execute_input": "2022-04-25T13:52:25.842427Z",
     "iopub.status.busy": "2022-04-25T13:52:25.842107Z",
     "iopub.status.idle": "2022-04-25T13:52:40.846987Z",
     "shell.execute_reply": "2022-04-25T13:52:40.845990Z",
     "shell.execute_reply.started": "2022-04-25T13:52:25.842395Z"
    },
    "id": "YGHNpUPiC6lg"
   },
   "outputs": [],
   "source": [
    "train = pd.concat([train, negatives])\n",
    "train.sort_values(['customer_id', 't_dat'], inplace = True)"
   ]
  },
  {
   "cell_type": "markdown",
   "metadata": {},
   "source": [
    "LGBMRankerは、groupプロパティに「どこからどこまでの配列が一人の顧客がどの商品購入したトランザクションデータなのか」を伝える必要があるので上記で、カスタマーIDでソートして、以下の処理で各カスタマーIDがどの商品を何回購入したかの回数を取得する\n",
    "\n",
    "その回数を配列にすることにより、「どこからどこまでの配列が一人の顧客がどの商品購入したトランザクションデータなのか」のデータ形式を満たすことができる。\n"
   ]
  },
  {
   "cell_type": "code",
   "execution_count": 27,
   "metadata": {
    "execution": {
     "iopub.execute_input": "2022-04-25T13:52:40.849156Z",
     "iopub.status.busy": "2022-04-25T13:52:40.848837Z",
     "iopub.status.idle": "2022-04-25T13:52:45.036224Z",
     "shell.execute_reply": "2022-04-25T13:52:45.035419Z",
     "shell.execute_reply.started": "2022-04-25T13:52:40.849115Z"
    },
    "id": "ALBMwMkhJbdz"
   },
   "outputs": [],
   "source": [
    "# train_baskets = train.groupby(['customer_id'])['article_id'].count().values\n",
    "# valid_baskets = valid.groupby(['customer_id'])['article_id'].count().values\n",
    "train_baskets = train.groupby(['customer_id'])['article_id'].count().values"
   ]
  },
  {
   "cell_type": "code",
   "execution_count": 28,
   "metadata": {
    "execution": {
     "iopub.execute_input": "2022-04-25T13:52:47.387782Z",
     "iopub.status.busy": "2022-04-25T13:52:47.387175Z",
     "iopub.status.idle": "2022-04-25T13:52:47.394000Z",
     "shell.execute_reply": "2022-04-25T13:52:47.393122Z",
     "shell.execute_reply.started": "2022-04-25T13:52:47.387741Z"
    }
   },
   "outputs": [],
   "source": [
    "train_baskets"
   ]
  },
  {
   "cell_type": "markdown",
   "metadata": {},
   "source": [
    "Fit lightgbm ranker model"
   ]
  },
  {
   "cell_type": "code",
   "execution_count": 29,
   "metadata": {
    "execution": {
     "iopub.execute_input": "2022-04-25T13:52:50.013440Z",
     "iopub.status.busy": "2022-04-25T13:52:50.013106Z",
     "iopub.status.idle": "2022-04-25T13:52:50.018814Z",
     "shell.execute_reply": "2022-04-25T13:52:50.018069Z",
     "shell.execute_reply.started": "2022-04-25T13:52:50.013405Z"
    },
    "id": "QlhmAP7NJbYu"
   },
   "outputs": [],
   "source": [
    "ranker = LGBMRanker(\n",
    "    objective=\"lambdarank\",\n",
    "    metric=\"ndcg\",\n",
    "    boosting_type=\"dart\",\n",
    "    max_depth=7,\n",
    "    n_estimators=300,\n",
    "    importance_type='gain',\n",
    "    verbose=10\n",
    ")"
   ]
  },
  {
   "cell_type": "code",
   "execution_count": null,
   "metadata": {
    "execution": {
     "iopub.execute_input": "2022-04-25T13:52:53.118185Z",
     "iopub.status.busy": "2022-04-25T13:52:53.117899Z"
    },
    "id": "kQViiprFJbbM"
   },
   "outputs": [],
   "source": [
    "ranker = ranker.fit(\n",
    "    train.drop(columns = ['t_dat', 'customer_id', 'article_id', 'label']),\n",
    "    train.pop('label'),\n",
    "    group=train_baskets,\n",
    ")"
   ]
  },
  {
   "cell_type": "code",
   "execution_count": null,
   "metadata": {
    "execution": {
     "iopub.status.busy": "2022-04-25T13:48:28.025084Z",
     "iopub.status.idle": "2022-04-25T13:48:28.025675Z",
     "shell.execute_reply": "2022-04-25T13:48:28.025525Z",
     "shell.execute_reply.started": "2022-04-25T13:48:28.025506Z"
    }
   },
   "outputs": [],
   "source": [
    "ranker"
   ]
  },
  {
   "cell_type": "markdown",
   "metadata": {
    "id": "LaluyLlbJJJh"
   },
   "source": [
    "### Predictions"
   ]
  },
  {
   "cell_type": "code",
   "execution_count": null,
   "metadata": {
    "execution": {
     "iopub.status.busy": "2022-04-25T13:48:28.026711Z",
     "iopub.status.idle": "2022-04-25T13:48:28.027272Z",
     "shell.execute_reply": "2022-04-25T13:48:28.027077Z",
     "shell.execute_reply.started": "2022-04-25T13:48:28.027057Z"
    },
    "id": "x-y7Xym7MPvy"
   },
   "outputs": [],
   "source": [
    "sample_sub = pd.read_csv('../input/h-and-m-personalized-fashion-recommendations/sample_submission.csv')"
   ]
  },
  {
   "cell_type": "code",
   "execution_count": null,
   "metadata": {
    "execution": {
     "iopub.status.busy": "2022-04-25T13:48:28.028301Z",
     "iopub.status.idle": "2022-04-25T13:48:28.028853Z",
     "shell.execute_reply": "2022-04-25T13:48:28.028690Z",
     "shell.execute_reply.started": "2022-04-25T13:48:28.028670Z"
    },
    "id": "trc0JD7BVTBA",
    "outputId": "ab4dcff3-9061-4d35-991e-e4182022aa51"
   },
   "outputs": [],
   "source": [
    "candidates = prepare_candidates(sample_sub.customer_id.unique(), 12)\n",
    "candidates = (\n",
    "    candidates\n",
    "    .merge(user_features, on = ('customer_id'))\n",
    "    .merge(item_features, on = ('article_id'))\n",
    ")"
   ]
  },
  {
   "cell_type": "markdown",
   "metadata": {},
   "source": [
    "Predict using batches, otherwise doesn't fit into memory."
   ]
  },
  {
   "cell_type": "code",
   "execution_count": null,
   "metadata": {
    "execution": {
     "iopub.status.busy": "2022-04-25T13:48:28.029954Z",
     "iopub.status.idle": "2022-04-25T13:48:28.030641Z",
     "shell.execute_reply": "2022-04-25T13:48:28.030466Z",
     "shell.execute_reply.started": "2022-04-25T13:48:28.030444Z"
    }
   },
   "outputs": [],
   "source": [
    "batch_size = 1_000_000\n",
    "for bucket in tqdm(range(0, len(candidates), batch_size)):\n",
    "    print(bucket)\n",
    "    print(batch_size)\n",
    "    print(bucket+batch_size)\n",
    "    #candidates.iloc[bucket: bucket+batch_size]"
   ]
  },
  {
   "cell_type": "code",
   "execution_count": null,
   "metadata": {
    "execution": {
     "iopub.status.busy": "2022-04-25T13:48:28.031452Z",
     "iopub.status.idle": "2022-04-25T13:48:28.032166Z",
     "shell.execute_reply": "2022-04-25T13:48:28.031990Z",
     "shell.execute_reply.started": "2022-04-25T13:48:28.031968Z"
    },
    "id": "e9gndzGxV8Ld",
    "outputId": "9739426b-d7ff-4c56-c73a-2e2d91602bad"
   },
   "outputs": [],
   "source": [
    "preds = []\n",
    "batch_size = 1_000_000\n",
    "# 1_000_000行ごとにcandidatesを取り出し予測\n",
    "# 予測結果はpredsに格納\n",
    "for bucket in tqdm(range(0, len(candidates), batch_size)):\n",
    "  outputs = ranker.predict(\n",
    "      candidates.iloc[bucket: bucket+batch_size]\n",
    "      .drop(columns = ['customer_id', 'article_id'])\n",
    "      )\n",
    "  preds.append(outputs)"
   ]
  },
  {
   "cell_type": "code",
   "execution_count": null,
   "metadata": {
    "execution": {
     "iopub.status.busy": "2022-04-25T13:48:28.033367Z",
     "iopub.status.idle": "2022-04-25T13:48:28.034136Z",
     "shell.execute_reply": "2022-04-25T13:48:28.033950Z",
     "shell.execute_reply.started": "2022-04-25T13:48:28.033926Z"
    }
   },
   "outputs": [],
   "source": [
    "preds"
   ]
  },
  {
   "cell_type": "code",
   "execution_count": null,
   "metadata": {
    "execution": {
     "iopub.status.busy": "2022-04-25T13:48:28.034982Z",
     "iopub.status.idle": "2022-04-25T13:48:28.035712Z",
     "shell.execute_reply": "2022-04-25T13:48:28.035551Z",
     "shell.execute_reply.started": "2022-04-25T13:48:28.035531Z"
    }
   },
   "outputs": [],
   "source": [
    "preds = np.concatenate(preds)\n",
    "preds"
   ]
  },
  {
   "cell_type": "code",
   "execution_count": null,
   "metadata": {
    "execution": {
     "iopub.status.busy": "2022-04-25T13:48:28.036532Z",
     "iopub.status.idle": "2022-04-25T13:48:28.037270Z",
     "shell.execute_reply": "2022-04-25T13:48:28.037063Z",
     "shell.execute_reply.started": "2022-04-25T13:48:28.037041Z"
    }
   },
   "outputs": [],
   "source": [
    "candidates['preds'] = preds\n",
    "candidates['preds']"
   ]
  },
  {
   "cell_type": "code",
   "execution_count": null,
   "metadata": {
    "execution": {
     "iopub.status.busy": "2022-04-25T13:48:28.038149Z",
     "iopub.status.idle": "2022-04-25T13:48:28.038693Z",
     "shell.execute_reply": "2022-04-25T13:48:28.038541Z",
     "shell.execute_reply.started": "2022-04-25T13:48:28.038522Z"
    }
   },
   "outputs": [],
   "source": [
    "preds = candidates[['customer_id', 'article_id', 'preds']]\n",
    "preds"
   ]
  },
  {
   "cell_type": "code",
   "execution_count": null,
   "metadata": {
    "execution": {
     "iopub.status.busy": "2022-04-25T13:48:28.039908Z",
     "iopub.status.idle": "2022-04-25T13:48:28.040261Z",
     "shell.execute_reply": "2022-04-25T13:48:28.040089Z",
     "shell.execute_reply.started": "2022-04-25T13:48:28.040065Z"
    }
   },
   "outputs": [],
   "source": [
    "preds.sort_values(['customer_id', 'preds'], ascending=False, inplace = True)\n",
    "preds"
   ]
  },
  {
   "cell_type": "code",
   "execution_count": null,
   "metadata": {
    "execution": {
     "iopub.status.busy": "2022-04-25T13:48:28.041622Z",
     "iopub.status.idle": "2022-04-25T13:48:28.042154Z",
     "shell.execute_reply": "2022-04-25T13:48:28.041973Z",
     "shell.execute_reply.started": "2022-04-25T13:48:28.041947Z"
    }
   },
   "outputs": [],
   "source": [
    "preds = (\n",
    "    preds\n",
    "    .groupby('customer_id')[['article_id']]\n",
    "    .aggregate(lambda x: x.tolist())\n",
    ")\n",
    "preds"
   ]
  },
  {
   "cell_type": "code",
   "execution_count": null,
   "metadata": {
    "execution": {
     "iopub.status.busy": "2022-04-25T13:48:28.043117Z",
     "iopub.status.idle": "2022-04-25T13:48:28.043685Z",
     "shell.execute_reply": "2022-04-25T13:48:28.043536Z",
     "shell.execute_reply.started": "2022-04-25T13:48:28.043516Z"
    },
    "id": "PoIe_dn5J7mO"
   },
   "outputs": [],
   "source": [
    "preds['article_id'] = preds['article_id'].apply(lambda x: ' '.join(['0'+str(k) for k in x]))\n",
    "preds['article_id'] "
   ]
  },
  {
   "cell_type": "markdown",
   "metadata": {},
   "source": [
    "Join with sample submission and fillna with articles from dummy_list_2w"
   ]
  },
  {
   "cell_type": "code",
   "execution_count": null,
   "metadata": {
    "execution": {
     "iopub.status.busy": "2022-04-25T13:48:28.044397Z",
     "iopub.status.idle": "2022-04-25T13:48:28.044923Z",
     "shell.execute_reply": "2022-04-25T13:48:28.044777Z",
     "shell.execute_reply.started": "2022-04-25T13:48:28.044759Z"
    },
    "id": "LQffjz8_LG5q"
   },
   "outputs": [],
   "source": [
    "preds = sample_sub[['customer_id']].merge(\n",
    "    preds\n",
    "    .reset_index()\n",
    "    .rename(columns = {'article_id': 'prediction'}), how = 'left')\n",
    "preds['prediction'].fillna(' '.join(['0'+str(art) for art in dummy_list_2w]), inplace = True)"
   ]
  },
  {
   "cell_type": "code",
   "execution_count": null,
   "metadata": {
    "execution": {
     "iopub.status.busy": "2022-04-25T13:48:28.045628Z",
     "iopub.status.idle": "2022-04-25T13:48:28.046137Z",
     "shell.execute_reply": "2022-04-25T13:48:28.045993Z",
     "shell.execute_reply.started": "2022-04-25T13:48:28.045975Z"
    },
    "id": "DiDaFSGkMJds"
   },
   "outputs": [],
   "source": [
    "preds.to_csv('submisssion.csv', index = False)"
   ]
  },
  {
   "cell_type": "code",
   "execution_count": null,
   "metadata": {},
   "outputs": [],
   "source": []
  }
 ],
 "metadata": {
  "kernelspec": {
   "display_name": "Python 3",
   "language": "python",
   "name": "python3"
  },
  "language_info": {
   "codemirror_mode": {
    "name": "ipython",
    "version": 3
   },
   "file_extension": ".py",
   "mimetype": "text/x-python",
   "name": "python",
   "nbconvert_exporter": "python",
   "pygments_lexer": "ipython3",
   "version": "3.7.12"
  }
 },
 "nbformat": 4,
 "nbformat_minor": 4
}
