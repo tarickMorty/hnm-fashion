{
 "cells": [
  {
   "cell_type": "code",
   "execution_count": 1,
   "id": "8e19da79",
   "metadata": {},
   "outputs": [],
   "source": [
    "import pandas as pd\n",
    "import numpy as np\n",
    "import kaggle"
   ]
  },
  {
   "cell_type": "code",
   "execution_count": 9,
   "id": "b4d1ec9f",
   "metadata": {},
   "outputs": [
    {
     "name": "stdout",
     "output_type": "stream",
     "text": [
      "Downloading transactions_train.csv.zip to /home/tarique/Misc/HnM\n",
      "100%|#######################################9| 583M/584M [00:12<00:00, 48.1MB/s]\n",
      "100%|########################################| 584M/584M [00:12<00:00, 49.8MB/s]\n"
     ]
    }
   ],
   "source": [
    "# !kaggle competitions download -c h-and-m-personalized-fashion-recommendations -f transactions_train.csv"
   ]
  },
  {
   "cell_type": "code",
   "execution_count": 3,
   "id": "f11520a0",
   "metadata": {},
   "outputs": [
    {
     "name": "stdout",
     "output_type": "stream",
     "text": [
      "Warning: Looks like you're using an outdated API Version, please consider updating (server 1.5.12 / client 1.5.6)\n",
      "Output file downloaded to ./user_features.parquet\n",
      "'ascii' codec can't encode characters in position 434-436: ordinal not in range(128)\n"
     ]
    }
   ],
   "source": [
    "!kaggle kernels output tarique7/ranking-user-features-attempt-at-ranker -p ."
   ]
  },
  {
   "cell_type": "code",
   "execution_count": 4,
   "id": "70a0a4e8",
   "metadata": {},
   "outputs": [
    {
     "name": "stdout",
     "output_type": "stream",
     "text": [
      "Warning: Looks like you're using an outdated API Version, please consider updating (server 1.5.12 / client 1.5.6)\n",
      "Output file downloaded to ./item_features.parquet\n",
      "'ascii' codec can't encode characters in position 433-436: ordinal not in range(128)\n"
     ]
    }
   ],
   "source": [
    "!kaggle kernels output tarique7/ranking-item-features-attempt-at-ranker -p ."
   ]
  },
  {
   "cell_type": "code",
   "execution_count": 13,
   "id": "e0682b49",
   "metadata": {},
   "outputs": [
    {
     "name": "stdout",
     "output_type": "stream",
     "text": [
      "Archive:  sample_submission.csv.zip\n",
      "  inflating: sample_submission.csv   \n"
     ]
    }
   ],
   "source": [
    "!unzip sample_submission.csv.zip"
   ]
  },
  {
   "cell_type": "code",
   "execution_count": null,
   "id": "c107e8be",
   "metadata": {},
   "outputs": [],
   "source": []
  }
 ],
 "metadata": {
  "kernelspec": {
   "display_name": "Python 3",
   "language": "python",
   "name": "python3"
  },
  "language_info": {
   "codemirror_mode": {
    "name": "ipython",
    "version": 3
   },
   "file_extension": ".py",
   "mimetype": "text/x-python",
   "name": "python",
   "nbconvert_exporter": "python",
   "pygments_lexer": "ipython3",
   "version": "3.6.13"
  }
 },
 "nbformat": 4,
 "nbformat_minor": 5
}
