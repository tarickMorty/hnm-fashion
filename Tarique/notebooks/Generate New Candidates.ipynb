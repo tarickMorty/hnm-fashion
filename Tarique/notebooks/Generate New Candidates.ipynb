{
 "cells": [
  {
   "cell_type": "code",
   "execution_count": 1,
   "metadata": {
    "executionInfo": {
     "elapsed": 2162,
     "status": "ok",
     "timestamp": 1650813104317,
     "user": {
      "displayName": "WP Zhang",
      "userId": "08181056311681578219"
     },
     "user_tz": 240
    },
    "id": "gboISq82XUN1"
   },
   "outputs": [],
   "source": [
    "import pandas as pd\n",
    "pd.set_option('display.max_rows', 500)\n",
    "pd.set_option('display.max_columns', 500)\n",
    "\n",
    "from pandas.api.types import CategoricalDtype\n",
    "import numpy as np\n",
    "import seaborn as sns\n",
    "import matplotlib.pyplot as plt\n",
    "import lightgbm as lgb\n",
    "\n",
    "import pickle\n",
    "from tqdm import tqdm\n",
    "import gc\n",
    "from pathlib import Path\n",
    "from sklearn.preprocessing import MinMaxScaler"
   ]
  },
  {
   "cell_type": "code",
   "execution_count": 2,
   "metadata": {
    "executionInfo": {
     "elapsed": 6,
     "status": "ok",
     "timestamp": 1650813104318,
     "user": {
      "displayName": "WP Zhang",
      "userId": "08181056311681578219"
     },
     "user_tz": 240
    },
    "id": "F6WO2VtEXefj"
   },
   "outputs": [],
   "source": [
    "import warnings\n",
    "import sys\n",
    "from IPython.core.interactiveshell import InteractiveShell\n",
    "\n",
    "warnings.filterwarnings(\"ignore\")\n",
    "sys.path.append(\"../\") # path to the `src`` folder\n",
    "InteractiveShell.ast_node_interactivity = \"all\"\n",
    "tqdm.pandas()"
   ]
  },
  {
   "cell_type": "code",
   "execution_count": 3,
   "metadata": {},
   "outputs": [],
   "source": [
    "from src.data import DataHelper\n",
    "from src.data.metrics import map_at_k, hr_at_k, recall_at_k\n",
    "\n",
    "from src.retrieval.rules import (\n",
    "    OrderHistory,\n",
    "    OrderHistoryDecay,\n",
    "    ItemPair,\n",
    "    UserGroupTimeHistory,\n",
    "    UserGroupSaleTrend,\n",
    "    TimeHistoryDecay,\n",
    "    TimeHistory,\n",
    "    ItemCF,\n",
    "    UserGroupItemCF\n",
    ")\n",
    "\n",
    "from src.retrieval.collector import RuleCollector\n",
    "\n",
    "from src.features import cum_sale, week_sale, repurchase_ratio, purchased_before, popularity\n",
    "\n",
    "from src.utils import (\n",
    "    calc_valid_date,\n",
    "    merge_week_data,\n",
    "    reduce_mem_usage,\n",
    "    calc_embd_similarity\n",
    ")"
   ]
  },
  {
   "cell_type": "code",
   "execution_count": 4,
   "metadata": {},
   "outputs": [],
   "source": [
    "data_dir = Path(\"../src/data/\")"
   ]
  },
  {
   "cell_type": "code",
   "execution_count": 5,
   "metadata": {},
   "outputs": [],
   "source": [
    "TRAIN_WEEK_NUM = 4\n",
    "WEEK_NUM = TRAIN_WEEK_NUM + 2\n",
    "VERSION_NAME = \"Large_Recall\""
   ]
  },
  {
   "cell_type": "code",
   "execution_count": 6,
   "metadata": {},
   "outputs": [],
   "source": [
    "import os\n",
    "if not os.path.exists(data_dir/\"interim\"/VERSION_NAME):\n",
    "    os.mkdir(data_dir/\"interim\"/VERSION_NAME)"
   ]
  },
  {
   "cell_type": "code",
   "execution_count": 7,
   "metadata": {},
   "outputs": [],
   "source": [
    "TEST = False # * Set as `False` when do local experiments to save time"
   ]
  },
  {
   "cell_type": "markdown",
   "metadata": {},
   "source": [
    "Pepare data: encoding ids and preprocessing"
   ]
  },
  {
   "cell_type": "code",
   "execution_count": 8,
   "metadata": {
    "executionInfo": {
     "elapsed": 5,
     "status": "ok",
     "timestamp": 1650813104318,
     "user": {
      "displayName": "WP Zhang",
      "userId": "08181056311681578219"
     },
     "user_tz": 240
    },
    "id": "2BPv2lcWGGQJ"
   },
   "outputs": [],
   "source": [
    "dh = DataHelper(data_dir)"
   ]
  },
  {
   "cell_type": "code",
   "execution_count": 9,
   "metadata": {},
   "outputs": [],
   "source": [
    "# data = dh.preprocess_data(save=True, name=\"encoded_full\") # * run only once, processed data will be saved"
   ]
  },
  {
   "cell_type": "code",
   "execution_count": 10,
   "metadata": {
    "executionInfo": {
     "elapsed": 7841,
     "status": "ok",
     "timestamp": 1650813112154,
     "user": {
      "displayName": "WP Zhang",
      "userId": "08181056311681578219"
     },
     "user_tz": 240
    },
    "id": "i3ngtb7NUGbH"
   },
   "outputs": [],
   "source": [
    "data = dh.load_data(name=\"encoded_full\")"
   ]
  },
  {
   "cell_type": "code",
   "execution_count": 11,
   "metadata": {},
   "outputs": [],
   "source": [
    "uid2idx = pickle.load(open(data_dir/\"index_id_map/user_id2index.pkl\", \"rb\"))\n",
    "submission = pd.read_csv(data_dir/\"raw\"/'sample_submission.csv')\n",
    "submission['customer_id'] = submission['customer_id'].map(uid2idx)"
   ]
  },
  {
   "cell_type": "markdown",
   "metadata": {
    "id": "LX4M190s4pxo"
   },
   "source": [
    "## Retrieval\n"
   ]
  },
  {
   "cell_type": "markdown",
   "metadata": {},
   "source": [
    "Generate candidates for each week"
   ]
  },
  {
   "cell_type": "code",
   "execution_count": 12,
   "metadata": {},
   "outputs": [],
   "source": [
    "user_info = data[\"inter\"].groupby(['customer_id'])['price'].mean().reset_index(name='mean_price')\n",
    "user_info['purchase_ability'] = pd.qcut(user_info['mean_price'],5,labels=False)\n",
    "del user_info['mean_price']"
   ]
  },
  {
   "cell_type": "code",
   "execution_count": 13,
   "metadata": {},
   "outputs": [],
   "source": [
    "listBin = [-1, 19, 29, 39, 49, 59, 69, 119]\n",
    "data['user']['age_bins'] = pd.cut(data['user']['age'].fillna(22), listBin, labels=[0, 1, 2, 3, 4, 5, 6])\n",
    "data['user']['age_bins'] = data['user']['age_bins'].astype(int)\n",
    "data['user'] = data['user'].merge(user_info, on='customer_id', how='left')"
   ]
  },
  {
   "cell_type": "code",
   "execution_count": 14,
   "metadata": {
    "scrolled": true
   },
   "outputs": [],
   "source": [
    "# for week in range(2, WEEK_NUM):\n",
    "#     # * use sliding window to generate candidates\n",
    "#     if week == 0 and not TEST:\n",
    "#         continue\n",
    "#     trans = data[\"inter\"]\n",
    "\n",
    "#     start_date, end_date = calc_valid_date(week)\n",
    "#     print(f\"Week {week}: [{start_date}, {end_date})\")\n",
    "\n",
    "#     train, valid = dh.split_data(trans, start_date, end_date)\n",
    "#     train = train.merge(data['user'][['customer_id','age_bins','user_gender']], on='customer_id', how='left')\n",
    "#     train = train.merge(user_info, on='customer_id', how='left')\n",
    "\n",
    "#     train['t_dat'] = pd.to_datetime(train['t_dat'])\n",
    "#     last_week = train[train['t_dat']>train['t_dat'].max()-pd.Timedelta(days=7)]\n",
    "#     last_2week = train[train['t_dat']>train['t_dat'].max()-pd.Timedelta(days=14)]\n",
    "#     last_24day = train[train['t_dat']>train['t_dat'].max()-pd.Timedelta(days=24)]\n",
    "\n",
    "#     if week != 0:\n",
    "#         customer_list = valid[\"customer_id\"].values\n",
    "#     else:\n",
    "#         customer_list = submission['customer_id'].values\n",
    "\n",
    "#     # * ========================== Retrieval Strategies ==========================\n",
    "\n",
    "#     candidates = RuleCollector().collect(\n",
    "#         week_num = week,\n",
    "#         trans_df = trans,\n",
    "#         customer_list=customer_list,\n",
    "#         rules=[\n",
    "#             OrderHistory(train, days=14, n=100),\n",
    "#             OrderHistoryDecay(train, days=7, n=150),\n",
    "#             OrderHistoryDecay(train, days=3, n=200),\n",
    "#             UserGroupTimeHistory(data, customer_list, last_week, ['age_bins'], n=200, scale=True, name='1'),\n",
    "#             UserGroupTimeHistory(data, customer_list, last_week, ['user_gender'], n=200, scale=True, name='3'),\n",
    "#             TimeHistory(customer_list, last_week, n=200),\n",
    "#             ItemCF(last_24day, last_2week, top_k=10, name='2'),\n",
    "#             ItemCF(last_2week, last_2week, top_k=10, name='3'),\n",
    "#             ItemCF(last_week, last_2week, top_k=10, name='4'),            \n",
    "#             ItemPair(OrderHistory(train, 3).retrieve(), name='1'),\n",
    "#             ItemPair(OrderHistory(train, 7).retrieve(), name='2'),\n",
    "#             ItemPair(OrderHistoryDecay(train, 3, n=200).retrieve(), name='3'),\n",
    "#             ItemPair(OrderHistoryDecay(train, 7, n=150).retrieve(), name='4'),\n",
    "#             UserGroupItemCF(last_24day, last_2week, 'age_bins', top_k=10, name='2'),\n",
    "#             UserGroupItemCF(last_2week, last_2week, 'age_bins', top_k=10, name='3'),\n",
    "#             UserGroupItemCF(last_week, last_2week, 'age_bins', top_k=10, name='4'),\n",
    "#             UserGroupItemCF(last_24day, last_2week, 'purchase_ability', top_k=10, name='5'),\n",
    "#             UserGroupItemCF(last_2week, last_2week, 'purchase_ability', top_k=10, name='6'),\n",
    "#             UserGroupItemCF(last_week, last_2week, 'purchase_ability', top_k=10, name='4'),\n",
    "#         ],\n",
    "#         min_pos_rate=0.0,\n",
    "#         norm=False,\n",
    "#         compress=False,\n",
    "#     )\n",
    "\n",
    "#     candidates, _ = reduce_mem_usage(candidates)\n",
    "#     candidates = (\n",
    "#         pd.pivot_table(\n",
    "#             candidates,\n",
    "#             values=\"score\",\n",
    "#             index=[\"customer_id\", \"article_id\"],\n",
    "#             columns=[\"method\"],\n",
    "#             aggfunc=np.sum,\n",
    "#         )\n",
    "#         .reset_index()\n",
    "#     )\n",
    "#     rule_names = [x for x in candidates.columns if x not in [\"customer_id\", \"article_id\"]]\n",
    "#     tmp = candidates[rule_names]\n",
    "#     for f in rule_names:\n",
    "#         tmp[f] = MinMaxScaler().fit_transform(tmp[f].values.reshape(-1, 1))\n",
    "#     candidates['score'] = tmp[rule_names].sum(axis=1)\n",
    "#     del tmp\n",
    "#     gc.collect()\n",
    "#     candidates['rank'] = candidates.groupby(['customer_id'])['score'].rank(ascending=False)\n",
    "#     candidates = candidates[candidates['rank']<=200]\n",
    "    \n",
    "#     print(candidates.shape)\n",
    "#     candidates.to_parquet(data_dir/\"interim\"/VERSION_NAME/f\"week{week}_candidate.pqt\")\n",
    "#     valid.to_parquet(data_dir/\"processed\"/VERSION_NAME/f\"week{week}_label.pqt\")"
   ]
  },
  {
   "cell_type": "code",
   "execution_count": 15,
   "metadata": {},
   "outputs": [],
   "source": [
    "# del train, valid, last_week, last_2week, last_24day\n",
    "# del customer_list, candidates\n",
    "# gc.collect()"
   ]
  },
  {
   "cell_type": "code",
   "execution_count": 16,
   "metadata": {},
   "outputs": [],
   "source": [
    "# for week in range(1):\n",
    "\n",
    "#     trans = data[\"inter\"]\n",
    "\n",
    "#     start_date, end_date = calc_valid_date(week)\n",
    "#     print(f\"Week {week}: [{start_date}, {end_date})\")\n",
    "\n",
    "#     train, valid = dh.split_data(trans, start_date, end_date)\n",
    "#     train = train.merge(data['user'][['customer_id','age_bins','user_gender']], on='customer_id', how='left')\n",
    "#     train = train.merge(user_info, on='customer_id', how='left')\n",
    "\n",
    "#     train['t_dat'] = pd.to_datetime(train['t_dat'])\n",
    "#     last_week = train[train['t_dat']>train['t_dat'].max()-pd.Timedelta(days=7)]\n",
    "#     last_2week = train[train['t_dat']>train['t_dat'].max()-pd.Timedelta(days=14)]\n",
    "#     last_24day = train[train['t_dat']>train['t_dat'].max()-pd.Timedelta(days=24)]\n",
    "\n",
    "#     if week != 0:\n",
    "#         customer_list = valid[\"customer_id\"].values\n",
    "#     else:\n",
    "#         customer_list = submission['customer_id'].values\n",
    "\n",
    "#     # * ========================== Retrieval Strategies ==========================\n",
    "\n",
    "#     candidates = RuleCollector().collect(\n",
    "#         week_num = week,\n",
    "#         trans_df = trans,\n",
    "#         customer_list=customer_list,\n",
    "#         rules=[\n",
    "#             OrderHistory(train, days=14, n=100),\n",
    "#             OrderHistoryDecay(train, days=7, n=150),\n",
    "#             OrderHistoryDecay(train, days=3, n=200),\n",
    "#             UserGroupTimeHistory(data, customer_list, last_week, ['age_bins'], n=200, scale=True, name='1'),\n",
    "#             UserGroupTimeHistory(data, customer_list, last_week, ['user_gender'], n=200, scale=True, name='3'),\n",
    "#             TimeHistory(customer_list, last_week, n=200),\n",
    "#             ItemCF(last_24day, last_2week, top_k=10, name='2'),\n",
    "#             ItemCF(last_2week, last_2week, top_k=10, name='3'),\n",
    "#             ItemCF(last_week, last_2week, top_k=10, name='4'),            \n",
    "#             ItemPair(OrderHistory(train, 3).retrieve(), name='1'),\n",
    "#             ItemPair(OrderHistory(train, 7).retrieve(), name='2'),\n",
    "#             ItemPair(OrderHistoryDecay(train, 3, n=200).retrieve(), name='3'),\n",
    "#             ItemPair(OrderHistoryDecay(train, 7, n=150).retrieve(), name='4'),\n",
    "#             UserGroupItemCF(last_24day, last_2week, 'age_bins', top_k=10, name='2'),\n",
    "#             UserGroupItemCF(last_2week, last_2week, 'age_bins', top_k=10, name='3'),\n",
    "#             UserGroupItemCF(last_week, last_2week, 'age_bins', top_k=10, name='4'),\n",
    "#             UserGroupItemCF(last_24day, last_2week, 'purchase_ability', top_k=10, name='5'),\n",
    "#             UserGroupItemCF(last_2week, last_2week, 'purchase_ability', top_k=10, name='6'),\n",
    "#             UserGroupItemCF(last_week, last_2week, 'purchase_ability', top_k=10, name='4'),\n",
    "#         ],\n",
    "#         min_pos_rate=0.0,\n",
    "#         norm=False,\n",
    "#         compress=False,\n",
    "#     )\n",
    "\n",
    "#     candidates, _ = reduce_mem_usage(candidates)\n",
    "#     candidates = (\n",
    "#         pd.pivot_table(\n",
    "#             candidates,\n",
    "#             values=\"score\",\n",
    "#             index=[\"customer_id\", \"article_id\"],\n",
    "#             columns=[\"method\"],\n",
    "#             aggfunc=np.sum,\n",
    "#         )\n",
    "#         .reset_index()\n",
    "#     )\n",
    "#     rule_names = [x for x in candidates.columns if x not in [\"customer_id\", \"article_id\"]]\n",
    "#     tmp = candidates[rule_names]\n",
    "#     for f in rule_names:\n",
    "#         tmp[f] = MinMaxScaler().fit_transform(tmp[f].values.reshape(-1, 1))\n",
    "#     candidates['score'] = tmp[rule_names].sum(axis=1)\n",
    "#     del tmp\n",
    "#     gc.collect()\n",
    "#     candidates['rank'] = candidates.groupby(['customer_id'])['score'].rank(ascending=False)\n",
    "#     candidates = candidates[candidates['rank']<=200]\n",
    "    \n",
    "#     print(candidates.shape)\n",
    "#     candidates.to_parquet(data_dir/\"interim\"/VERSION_NAME/f\"week{week}_candidate.pqt\")\n",
    "#     valid.to_parquet(data_dir/\"processed\"/VERSION_NAME/f\"week{week}_label.pqt\")"
   ]
  },
  {
   "cell_type": "code",
   "execution_count": 17,
   "metadata": {},
   "outputs": [],
   "source": [
    "# del train, valid, last_week, last_2week, last_24day\n",
    "# del customer_list, candidates\n",
    "# gc.collect()"
   ]
  },
  {
   "cell_type": "markdown",
   "metadata": {
    "id": "TBIrKxhRGGQR"
   },
   "source": [
    "## Feature engineering\n"
   ]
  },
  {
   "cell_type": "code",
   "execution_count": 18,
   "metadata": {
    "executionInfo": {
     "elapsed": 15,
     "status": "ok",
     "timestamp": 1650813116461,
     "user": {
      "displayName": "WP Zhang",
      "userId": "08181056311681578219"
     },
     "user_tz": 240
    },
    "id": "9pF-sOMSGGQP"
   },
   "outputs": [],
   "source": [
    "user = data[\"user\"]\n",
    "item = data[\"item\"]\n",
    "inter = data[\"inter\"]"
   ]
  },
  {
   "cell_type": "code",
   "execution_count": 19,
   "metadata": {
    "executionInfo": {
     "elapsed": 12313,
     "status": "ok",
     "timestamp": 1650811966923,
     "user": {
      "displayName": "WP Zhang",
      "userId": "08181056311681578219"
     },
     "user_tz": 240
    },
    "id": "heKIAtoRdtIk"
   },
   "outputs": [],
   "source": [
    "# # merge `product_code`\n",
    "# data['user']['age_bucket'] = pd.cut(data['user']['age'].fillna(22), [-1, 19, 29, 39, 49, 59, 69, 119],\n",
    "#                                     labels=[0, 1, 2, 3, 4, 5, 6])\n",
    "# inter = inter.merge(item[[\"article_id\", \"product_code\", \"department_no\"]], on=\"article_id\", how=\"left\")\n",
    "# inter = inter.merge(user[[\"customer_id\", \"age_bucket\"]], on=\"customer_id\", how=\"left\")\n",
    "# inter[\"age_bucket\"] = inter[\"age_bucket\"].astype(int)\n",
    "# # calculate week number\n",
    "# inter['week'] = (pd.to_datetime('2020-09-29') - pd.to_datetime(inter['t_dat'])).dt.days // 7\n",
    "# inter = inter.sort_values([\"customer_id\", \"t_dat\"]).reset_index(drop=True)"
   ]
  },
  {
   "cell_type": "code",
   "execution_count": 20,
   "metadata": {
    "executionInfo": {
     "elapsed": 82982,
     "status": "ok",
     "timestamp": 1650812194568,
     "user": {
      "displayName": "WP Zhang",
      "userId": "08181056311681578219"
     },
     "user_tz": 240
    },
    "id": "IXXxyMmndtIm"
   },
   "outputs": [],
   "source": [
    "# inter[\"i_sale\"] = week_sale(inter, [\"article_id\"])\n",
    "# inter[\"p_sale\"] = week_sale(inter, [\"product_code\"])\n",
    "# inter[\"i_sale_uni\"] = week_sale(inter, [\"article_id\"], True)\n",
    "# inter[\"p_sale_uni\"] = week_sale(inter, [\"product_code\"], True)\n",
    "# inter[\"lw_i_sale\"] = week_sale(inter, [\"article_id\"], step=1) # * last week sale\n",
    "# inter[\"lw_p_sale\"] = week_sale(inter, [\"product_code\"], step=1)\n",
    "# inter[\"lw_i_sale_uni\"] = week_sale(inter, [\"article_id\"], True, step=1)\n",
    "# inter[\"lw_p_sale_uni\"] = week_sale(inter, [\"product_code\"], True, step=1)\n",
    "\n",
    "# inter[\"i_sale_by_channel\"] = week_sale(inter, [\"article_id\",\"sales_channel_id\"])\n",
    "# inter[\"p_sale_by_channel\"] = week_sale(inter, [\"product_code\",\"sales_channel_id\"])\n",
    "# inter[\"i_sale_uni_by_channel\"] = week_sale(inter, [\"article_id\",\"sales_channel_id\"], True)\n",
    "# inter[\"p_sale_uni_by_channel\"] = week_sale(inter, [\"product_code\",\"sales_channel_id\"], True)\n",
    "\n",
    "# inter[\"i_sale_by_age\"] = week_sale(inter, [\"article_id\",\"age_bins\"])\n",
    "# inter[\"p_sale_by_age\"] = week_sale(inter, [\"product_code\",\"age_bins\"])\n",
    "# inter[\"i_sale_by_dept\"] = week_sale(inter, [\"article_id\",\"department_no\"])\n",
    "# inter[\"p_sale_by_dept\"] = week_sale(inter, [\"product_code\",\"department_no\"])\n",
    "# inter[\"i_sale_by_dept_channel\"] = week_sale(inter, [\"article_id\",\"department_no\",\"sales_channel_id\"])\n",
    "# inter[\"p_sale_by_dept_channel\"] = week_sale(inter, [\"product_code\",\"department_no\",\"sales_channel_id\"])\n",
    "\n",
    "# inter[\"i_sale_uni_by_age\"] = week_sale(inter, [\"article_id\",\"age_bucket\"], True)\n",
    "# inter[\"p_sale_uni_by_age\"] = week_sale(inter, [\"product_code\",\"age_bucket\"], True)\n",
    "# inter[\"lw_i_sale_by_age\"] = week_sale(inter, [\"article_id\",\"age_bucket\"], step=1)\n",
    "# inter[\"lw_p_sale_by_age\"] = week_sale(inter, [\"product_code\",\"age_bucket\"], step=1)\n",
    "\n",
    "# inter[\"i_sale_by_channel_age\"] = week_sale(inter, [\"article_id\",\"sales_channel_id\",\"age_bucket\"])\n",
    "# inter[\"p_sale_by_channel_age\"] = week_sale(inter, [\"product_code\",\"sales_channel_id\",\"age_bucket\"])\n",
    "# inter[\"i_sale_uni_by_channel_age\"] = week_sale(inter, [\"article_id\",\"sales_channel_id\",\"age_bucket\"], True)\n",
    "# inter[\"p_sale_uni_by_channel_age\"] = week_sale(inter, [\"product_code\",\"sales_channel_id\",\"age_bucket\"], True)\n",
    "# inter[\"i_sale_by_dept_age\"] = week_sale(inter, [\"article_id\",\"department_no\",\"age_bucket\"])\n",
    "# inter[\"p_sale_by_dept_age\"] = week_sale(inter, [\"product_code\",\"department_no\",\"age_bucket\"])\n",
    "\n",
    "# inter[\"lw_i_sale_by_channel\"] = week_sale(inter, [\"article_id\",\"sales_channel_id\"], step=1)\n",
    "# inter[\"lw_p_sale_by_channel\"] = week_sale(inter, [\"product_code\",\"sales_channel_id\"], step=1)\n",
    "\n",
    "# inter[\"i_sale_ratio\"] = inter[\"i_sale\"] / (inter[\"p_sale\"] + 1e-6)\n",
    "# inter[\"i_sale_uni_ratio\"] = inter[\"i_sale_uni\"] / (inter[\"p_sale_uni\"] + 1e-6)\n",
    "# inter[\"lw_i_sale_ratio\"] = inter[\"lw_i_sale\"] / (inter[\"lw_p_sale\"] + 1e-6)\n",
    "# inter[\"lw_i_sale_uni_ratio\"] = inter[\"lw_i_sale_uni\"] / (inter[\"lw_p_sale_uni\"] + 1e-6)\n",
    "\n",
    "# inter[\"i_uni_ratio\"] = inter[\"i_sale\"] / (inter[\"i_sale_uni\"] + 1e-6)\n",
    "# inter[\"p_uni_ratio\"] = inter[\"p_sale\"] / (inter[\"p_sale_uni\"] + 1e-6)\n",
    "# inter[\"lw_i_uni_ratio\"] = inter[\"lw_i_sale\"] / (inter[\"lw_i_sale_uni\"] + 1e-6)\n",
    "# inter[\"lw_p_uni_ratio\"] = inter[\"lw_p_sale\"] / (inter[\"lw_p_sale_uni\"] + 1e-6)\n",
    "\n",
    "# inter[\"i_sale_trend\"] = (inter[\"i_sale\"] - inter[\"lw_i_sale\"]) / (inter[\"lw_i_sale\"] + 1e-6)\n",
    "# inter[\"p_sale_trend\"] = (inter[\"p_sale\"] - inter[\"lw_p_sale\"]) / (inter[\"lw_p_sale\"] + 1e-6)\n",
    "\n",
    "# item_feats = [\n",
    "#     \"product_type_no\",\n",
    "#     \"product_group_name\",\n",
    "#     \"graphical_appearance_no\",\n",
    "#     \"colour_group_code\",\n",
    "#     \"perceived_colour_value_id\",\n",
    "#     \"perceived_colour_master_id\",\n",
    "# ]\n",
    "# inter = inter.merge(item[[\"article_id\", *item_feats]], on=\"article_id\", how=\"left\")\n",
    "\n",
    "# for f in tqdm(item_feats):\n",
    "#     inter[f\"{f}_sale\"] = week_sale(inter, [f], f\"{f}_sale\")\n",
    "#     inter[f\"lw_{f}_sale\"] = week_sale(inter, [f], f\"{f}_sale\", step=1)\n",
    "#     inter[f\"{f}_sale_trend\"] = (inter[f\"{f}_sale\"] - inter[f\"lw_{f}_sale\"]) / (inter[f\"lw_{f}_sale\"] + 1e-6)\n",
    "    \n",
    "# inter = inter.drop(columns=item_feats)"
   ]
  },
  {
   "cell_type": "markdown",
   "metadata": {},
   "source": [
    "Repurchase Ratio"
   ]
  },
  {
   "cell_type": "code",
   "execution_count": 21,
   "metadata": {
    "id": "pnZzbv2JNUB1"
   },
   "outputs": [],
   "source": [
    "# inter['i_repurchase_ratio'] = repurchase_ratio(inter, ['article_id'])\n",
    "# inter['p_repurchase_ratio'] = repurchase_ratio(inter, ['product_code'])\n",
    "\n",
    "# inter['i_pop'] = popularity(inter, 'article_id', week_num=WEEK_NUM)\n",
    "# inter['p_pop'] = popularity(inter, 'product_code', week_num=WEEK_NUM)\n",
    "\n",
    "# inter[\"purchased_item\"] = purchased_before(inter, [\"article_id\"])\n",
    "# inter[\"purchased_pro\"] = purchased_before(inter, [\"product_code\"])"
   ]
  },
  {
   "cell_type": "markdown",
   "metadata": {},
   "source": [
    "Save data"
   ]
  },
  {
   "cell_type": "code",
   "execution_count": 22,
   "metadata": {
    "executionInfo": {
     "elapsed": 45421,
     "status": "ok",
     "timestamp": 1650813026679,
     "user": {
      "displayName": "WP Zhang",
      "userId": "08181056311681578219"
     },
     "user_tz": 240
    },
    "id": "dv55insCdtIo"
   },
   "outputs": [],
   "source": [
    "# inter.to_parquet(data_dir / \"interim/processed_inter.pqt\")\n",
    "# inter.to_parquet(data_dir / \"interim/processed_inter_v2.pqt\")\n",
    "# inter.to_parquet(data_dir / \"interim/processed_inter_v3.pqt\")"
   ]
  },
  {
   "cell_type": "code",
   "execution_count": 23,
   "metadata": {},
   "outputs": [],
   "source": [
    "inter = pd.read_parquet(data_dir / \"interim/processed_inter_v3.pqt\")\n",
    "data[\"inter\"] = inter\n",
    "\n",
    "article_cluster = pd.read_parquet(data_dir/'articles_new.parquet')\n",
    "# https://www.kaggle.com/code/beezus666/k-means-and-feature-importance-for-articles/notebook?scriptVersionId=94269787\n",
    "\n",
    "itemid2idx = pickle.load(open(data_dir/\"index_id_map/item_id2index.pkl\", \"rb\"))\n",
    "article_cluster['article_id'] = article_cluster['article_id'].map(itemid2idx)\n",
    "article_cluster = article_cluster.rename(columns={'department_no':'department_no_cluster', 'ct':'cluster'})"
   ]
  },
  {
   "cell_type": "code",
   "execution_count": 24,
   "metadata": {
    "scrolled": true
   },
   "outputs": [],
   "source": [
    "# #* embeddings from DSSM model\n",
    "# dssm_user_embd = np.load(data_dir / \"external/dssm_user_embd.npy\", allow_pickle=True)\n",
    "# dssm_item_embd = np.load(data_dir / \"external/dssm_item_embd.npy\", allow_pickle=True)\\\n",
    "# # * embeddings from YouTubeDNN model\n",
    "# yt_user_embd = np.load(data_dir / \"external/yt_user_embd.npy\", allow_pickle=True)\n",
    "# yt_item_embd = np.load(data_dir / \"external/yt_item_embd.npy\", allow_pickle=True)\n",
    "\n",
    "# for i in tqdm(range(1, WEEK_NUM)):\n",
    "        \n",
    "#     candidate = pd.read_parquet(data_dir/\"interim\"/VERSION_NAME/f\"week{i}_candidate.pqt\")\n",
    "#     # * merge features\n",
    "#     candidate = merge_week_data(data, i, candidate)\n",
    "#     candidate = candidate.merge(article_cluster[['article_id','colour_group_name_cat_cat_code', 'cluster',\n",
    "#                                                          'department_no_cluster']],  on='article_id', how='left')\n",
    "    \n",
    "#     candidate[\"dssm_similarity\"] = calc_embd_similarity(candidate, dssm_user_embd, dssm_item_embd)\n",
    "#     candidate[\"yt_similarity\"] = calc_embd_similarity(candidate, yt_user_embd, yt_item_embd)\n",
    "#     candidate.to_parquet(data_dir/\"processed\"/VERSION_NAME/f\"week{i}_candidate_full.pqt\")\n",
    "    \n",
    "# del dssm_user_embd, dssm_item_embd, yt_user_embd, yt_item_embd, itemid2idx"
   ]
  },
  {
   "cell_type": "code",
   "execution_count": 25,
   "metadata": {},
   "outputs": [],
   "source": [
    "# article_cluster = pd.read_parquet(data_dir/'articles_new.parquet')\n",
    "# # https://www.kaggle.com/code/beezus666/k-means-and-feature-importance-for-articles/notebook?scriptVersionId=94269787\n",
    "\n",
    "# itemid2idx = pickle.load(open(data_dir/\"index_id_map/item_id2index.pkl\", \"rb\"))\n",
    "# article_cluster['article_id'] = article_cluster['article_id'].map(itemid2idx)\n",
    "# article_cluster = article_cluster.rename(columns={'department_no':'department_no_cluster', 'ct':'cluster'})\n",
    "\n",
    "# #* embeddings from DSSM model\n",
    "# dssm_user_embd = np.load(data_dir / \"external/dssm_user_embd.npy\", allow_pickle=True)\n",
    "# dssm_item_embd = np.load(data_dir / \"external/dssm_item_embd.npy\", allow_pickle=True)\\\n",
    "# # * embeddings from YouTubeDNN model\n",
    "# yt_user_embd = np.load(data_dir / \"external/yt_user_embd.npy\", allow_pickle=True)\n",
    "# yt_item_embd = np.load(data_dir / \"external/yt_item_embd.npy\", allow_pickle=True)\n",
    "\n",
    "# for i in tqdm(range(1)):\n",
    "        \n",
    "#     candidate = pd.read_parquet(data_dir/\"interim\"/VERSION_NAME/f\"week{i}_candidate.pqt\")\n",
    "#     # * merge features\n",
    "#     candidate = merge_week_data(data, i, candidate)\n",
    "#     candidate = candidate.merge(article_cluster[['article_id','colour_group_name_cat_cat_code', 'cluster',\n",
    "#                                                          'department_no_cluster']],  on='article_id', how='left')\n",
    "    \n",
    "#     candidate[\"dssm_similarity\"] = calc_embd_similarity(candidate, dssm_user_embd, dssm_item_embd)\n",
    "#     candidate[\"yt_similarity\"] = calc_embd_similarity(candidate, yt_user_embd, yt_item_embd)\n",
    "#     candidate.to_parquet(data_dir/\"processed\"/VERSION_NAME/f\"week{i}_candidate_full.pqt\")\n",
    "    \n",
    "# del dssm_user_embd, dssm_item_embd, yt_user_embd, yt_item_embd, itemid2idx\n"
   ]
  },
  {
   "cell_type": "markdown",
   "metadata": {
    "id": "7Zml-cxryoU_"
   },
   "source": [
    "## Ranking\n"
   ]
  },
  {
   "cell_type": "code",
   "execution_count": 26,
   "metadata": {
    "scrolled": true
   },
   "outputs": [
    {
     "name": "stderr",
     "output_type": "stream",
     "text": [
      "100%|██████████| 5/5 [00:33<00:00,  6.64s/it]\n"
     ]
    }
   ],
   "source": [
    "candidates = {}\n",
    "labels = {}\n",
    "for i in tqdm(range(1, WEEK_NUM)):\n",
    "    candidates[i] = pd.read_parquet(data_dir/\"processed\"/VERSION_NAME/f\"week{i}_candidate_full.pqt\")\n",
    "    labels[i] = pd.read_parquet(data_dir/\"processed\"/VERSION_NAME/f\"week{i}_label.pqt\")"
   ]
  },
  {
   "cell_type": "code",
   "execution_count": 27,
   "metadata": {},
   "outputs": [
    {
     "data": {
      "text/plain": [
       "['customer_id',\n",
       " 'article_id',\n",
       " 'ItemCF_2',\n",
       " 'ItemCF_3',\n",
       " 'ItemCF_4',\n",
       " 'ItemPairRetrieve_1',\n",
       " 'ItemPairRetrieve_2',\n",
       " 'ItemPairRetrieve_3',\n",
       " 'ItemPairRetrieve_4',\n",
       " 'OrderHistoryDecay_1',\n",
       " 'OrderHistory_1',\n",
       " 'TimeHistory_1',\n",
       " 'UGItemCF_2',\n",
       " 'UGItemCF_3',\n",
       " 'UGItemCF_4',\n",
       " 'UGItemCF_5',\n",
       " 'UGItemCF_6',\n",
       " 'UGTimeHistory_1',\n",
       " 'UGTimeHistory_3',\n",
       " 'score',\n",
       " 'rank',\n",
       " 'label',\n",
       " 'week',\n",
       " 't_dat',\n",
       " 'price',\n",
       " 'sales_channel_id',\n",
       " 'product_code',\n",
       " 'department_no',\n",
       " 'i_sale',\n",
       " 'p_sale',\n",
       " 'i_sale_uni',\n",
       " 'p_sale_uni',\n",
       " 'lw_i_sale',\n",
       " 'lw_p_sale',\n",
       " 'lw_i_sale_uni',\n",
       " 'lw_p_sale_uni',\n",
       " 'i_sale_by_channel',\n",
       " 'p_sale_by_channel',\n",
       " 'i_sale_uni_by_channel',\n",
       " 'p_sale_uni_by_channel',\n",
       " 'i_sale_by_age',\n",
       " 'p_sale_by_age',\n",
       " 'i_sale_by_dept',\n",
       " 'p_sale_by_dept',\n",
       " 'i_sale_by_dept_channel',\n",
       " 'p_sale_by_dept_channel',\n",
       " 'lw_i_sale_by_channel',\n",
       " 'lw_p_sale_by_channel',\n",
       " 'i_sale_ratio',\n",
       " 'i_sale_uni_ratio',\n",
       " 'lw_i_sale_ratio',\n",
       " 'lw_i_sale_uni_ratio',\n",
       " 'i_uni_ratio',\n",
       " 'p_uni_ratio',\n",
       " 'lw_i_uni_ratio',\n",
       " 'lw_p_uni_ratio',\n",
       " 'i_sale_trend',\n",
       " 'p_sale_trend',\n",
       " 'product_type_no_sale',\n",
       " 'lw_product_type_no_sale',\n",
       " 'product_type_no_sale_trend',\n",
       " 'product_group_name_sale',\n",
       " 'lw_product_group_name_sale',\n",
       " 'product_group_name_sale_trend',\n",
       " 'graphical_appearance_no_sale',\n",
       " 'lw_graphical_appearance_no_sale',\n",
       " 'graphical_appearance_no_sale_trend',\n",
       " 'colour_group_code_sale',\n",
       " 'lw_colour_group_code_sale',\n",
       " 'colour_group_code_sale_trend',\n",
       " 'perceived_colour_value_id_sale',\n",
       " 'lw_perceived_colour_value_id_sale',\n",
       " 'perceived_colour_value_id_sale_trend',\n",
       " 'perceived_colour_master_id_sale',\n",
       " 'lw_perceived_colour_master_id_sale',\n",
       " 'perceived_colour_master_id_sale_trend',\n",
       " 'age_bucket',\n",
       " 'i_sale_uni_by_age',\n",
       " 'p_sale_uni_by_age',\n",
       " 'lw_i_sale_by_age',\n",
       " 'lw_p_sale_by_age',\n",
       " 'i_sale_by_channel_age',\n",
       " 'p_sale_by_channel_age',\n",
       " 'i_sale_uni_by_channel_age',\n",
       " 'p_sale_uni_by_channel_age',\n",
       " 'i_sale_by_dept_age',\n",
       " 'p_sale_by_dept_age',\n",
       " 'i_repurchase_ratio',\n",
       " 'p_repurchase_ratio',\n",
       " 'i_pop',\n",
       " 'p_pop',\n",
       " 'purchased_item',\n",
       " 'purchased_pro',\n",
       " 'FN',\n",
       " 'Active',\n",
       " 'club_member_status',\n",
       " 'fashion_news_frequency',\n",
       " 'age',\n",
       " 'user_gender',\n",
       " 'product_type_no',\n",
       " 'product_group_name',\n",
       " 'graphical_appearance_no',\n",
       " 'colour_group_code',\n",
       " 'perceived_colour_value_id',\n",
       " 'perceived_colour_master_id',\n",
       " 'article_gender',\n",
       " 'season_type',\n",
       " 'colour_group_name_cat_cat_code',\n",
       " 'cluster',\n",
       " 'department_no_cluster',\n",
       " 'dssm_similarity',\n",
       " 'yt_similarity']"
      ]
     },
     "execution_count": 27,
     "metadata": {},
     "output_type": "execute_result"
    }
   ],
   "source": [
    "candidates[1].columns.tolist()"
   ]
  },
  {
   "cell_type": "code",
   "execution_count": 28,
   "metadata": {
    "executionInfo": {
     "elapsed": 368,
     "status": "ok",
     "timestamp": 1650814211010,
     "user": {
      "displayName": "WP Zhang",
      "userId": "08181056311681578219"
     },
     "user_tz": 240
    },
    "id": "xWqYwCbsdtIr"
   },
   "outputs": [],
   "source": [
    "feats = [\n",
    "    x\n",
    "    for x in candidates[1].columns\n",
    "    if x\n",
    "    not in [\n",
    "        \"label\",\n",
    "        \"sales_channel_id\",\n",
    "        \"t_dat\",\n",
    "        \"week\",\n",
    "        \"rank\",\n",
    "        \"score\",\n",
    "        \"prob\"\n",
    "    ]\n",
    "]\n",
    "\n",
    "cat_features = [\n",
    "    \"customer_id\",\n",
    "    \"article_id\",\n",
    "    \"product_code\",\n",
    "    \"FN\",\n",
    "    \"Active\",\n",
    "    \"club_member_status\",\n",
    "    \"fashion_news_frequency\",\n",
    "    \"age\",\n",
    "    \"product_type_no\",\n",
    "    \"product_group_name\",\n",
    "    \"graphical_appearance_no\",\n",
    "    \"colour_group_code\",\n",
    "    \"perceived_colour_value_id\",\n",
    "    \"perceived_colour_master_id\",\n",
    "    \"user_gender\",\n",
    "    \"article_gender\",\n",
    "    'age_bucket',\n",
    "    \"season_type\",\n",
    "    'colour_group_name_cat_cat_code',\n",
    "    'cluster',\n",
    "    'department_no_cluster'\n",
    "]"
   ]
  },
  {
   "cell_type": "code",
   "execution_count": 29,
   "metadata": {
    "colab": {
     "base_uri": "https://localhost:8080/"
    },
    "executionInfo": {
     "elapsed": 2111,
     "status": "ok",
     "timestamp": 1650813561263,
     "user": {
      "displayName": "WP Zhang",
      "userId": "08181056311681578219"
     },
     "user_tz": 240
    },
    "id": "ypTW4qegdtIr",
    "outputId": "87be50cb-e296-41f8-8548-2f2f30bcf654"
   },
   "outputs": [
    {
     "name": "stderr",
     "output_type": "stream",
     "text": [
      "100%|██████████| 21/21 [00:01<00:00, 19.27it/s]\n"
     ]
    }
   ],
   "source": [
    "# * convert categorical featues as `CategoricalDtype`\n",
    "cate_dict = {}        \n",
    "for feat in tqdm(cat_features):\n",
    "    if feat in data['user'].columns:\n",
    "        value_set = set(data['user'][feat].unique())\n",
    "    elif feat in data['item'].columns:\n",
    "        value_set = set(data['item'][feat].unique())\n",
    "    elif feat in article_cluster.columns:\n",
    "        value_set = set(article_cluster[feat].unique())\n",
    "    else:\n",
    "        value_set = set(data['inter'][feat].unique())\n",
    "    cate_dict[feat] = CategoricalDtype(categories=value_set)"
   ]
  },
  {
   "cell_type": "markdown",
   "metadata": {
    "id": "3RojtbK9GGQU"
   },
   "source": [
    "### Train\n"
   ]
  },
  {
   "cell_type": "code",
   "execution_count": 30,
   "metadata": {},
   "outputs": [],
   "source": [
    "full_data = pd.concat(candidates[i] for i in range(1, WEEK_NUM))"
   ]
  },
  {
   "cell_type": "code",
   "execution_count": 31,
   "metadata": {
    "executionInfo": {
     "elapsed": 556,
     "status": "ok",
     "timestamp": 1650813561816,
     "user": {
      "displayName": "WP Zhang",
      "userId": "08181056311681578219"
     },
     "user_tz": 240
    },
    "id": "PDttjG9-dtIs"
   },
   "outputs": [],
   "source": [
    "train = full_data[full_data[\"week\"] != 1]\n",
    "valid = full_data[full_data[\"week\"] == 1]\n",
    "\n",
    "del full_data"
   ]
  },
  {
   "cell_type": "code",
   "execution_count": 32,
   "metadata": {},
   "outputs": [],
   "source": [
    "sum(train['label']==0) / len(train)\n",
    "\n",
    "# 0.994541076811467 4-week \n",
    "# 0.997188698975969 6-week \n",
    "# 0.9970660423670532 4 week"
   ]
  },
  {
   "cell_type": "code",
   "execution_count": 33,
   "metadata": {},
   "outputs": [],
   "source": [
    "train = train.sort_values(by=['week', 'customer_id'],ascending=True).reset_index(drop=True)\n",
    "valid = valid.sort_values(by=['customer_id'],ascending=True).reset_index(drop=True)"
   ]
  },
  {
   "cell_type": "code",
   "execution_count": 34,
   "metadata": {
    "executionInfo": {
     "elapsed": 491,
     "status": "ok",
     "timestamp": 1650813562305,
     "user": {
      "displayName": "WP Zhang",
      "userId": "08181056311681578219"
     },
     "user_tz": 240
    },
    "id": "aOKvE9WZdtIt"
   },
   "outputs": [],
   "source": [
    "train_group = train[[\"customer_id\", \"article_id\", \"week\"]]\n",
    "train_group = train_group.astype(\"int\")\n",
    "train_group = train_group.groupby([\"week\",\"customer_id\"])['article_id'].count().values\n",
    "\n",
    "valid_group = valid[[\"customer_id\", \"article_id\"]]\n",
    "valid_group = valid_group.astype(\"int\")\n",
    "valid_group = valid_group.groupby([\"customer_id\"])['article_id'].count().values"
   ]
  },
  {
   "cell_type": "code",
   "execution_count": 35,
   "metadata": {
    "executionInfo": {
     "elapsed": 5,
     "status": "ok",
     "timestamp": 1650813561264,
     "user": {
      "displayName": "WP Zhang",
      "userId": "08181056311681578219"
     },
     "user_tz": 240
    },
    "id": "nTm9bz6vR6T4"
   },
   "outputs": [],
   "source": [
    "params = {\n",
    "    \"objective\": \"lambdarank\",\n",
    "    \"boosting_type\": \"gbdt\",\n",
    "    \"metric\": \"map\",\n",
    "    \"max_depth\": 8,\n",
    "    \"num_leaves\": 128,\n",
    "    \"learning_rate\": 0.0123,\n",
    "    \"verbose\": -1,\n",
    "    \"eval_at\": 12,\n",
    "}\n",
    "\n",
    "# params = {\n",
    "#     \"objective\": \"binary\",\n",
    "#     \"boosting_type\": \"gbdt\",\n",
    "#     \"metric\": \"auc\",\n",
    "#     \"max_depth\": -1,\n",
    "#     \"num_leaves\": 128,\n",
    "#     \"learning_rate\": 0.03,\n",
    "#     \"verbose\": -1,\n",
    "# }"
   ]
  },
  {
   "cell_type": "code",
   "execution_count": 36,
   "metadata": {},
   "outputs": [],
   "source": [
    "train_set = lgb.Dataset(\n",
    "    data=train[feats],\n",
    "    label=train[\"label\"],\n",
    "    group=train_group,\n",
    "    feature_name=feats,\n",
    "    categorical_feature=cat_features,\n",
    "    params=params,\n",
    ")\n",
    "\n",
    "valid_set = lgb.Dataset(\n",
    "    data=valid[feats],\n",
    "    label=valid[\"label\"],\n",
    "    group=valid_group,\n",
    "    feature_name=feats,\n",
    "    categorical_feature=cat_features,\n",
    "    params=params,\n",
    ")"
   ]
  },
  {
   "cell_type": "code",
   "execution_count": 37,
   "metadata": {},
   "outputs": [
    {
     "name": "stdout",
     "output_type": "stream",
     "text": [
      "Training until validation scores don't improve for 30 rounds\n",
      "[10]\tvalid_0's map@12: 0.70002\n",
      "[20]\tvalid_0's map@12: 0.7007\n",
      "[30]\tvalid_0's map@12: 0.700784\n",
      "[40]\tvalid_0's map@12: 0.701253\n",
      "[50]\tvalid_0's map@12: 0.701172\n",
      "[60]\tvalid_0's map@12: 0.701025\n",
      "[70]\tvalid_0's map@12: 0.700967\n",
      "Early stopping, best iteration is:\n",
      "[46]\tvalid_0's map@12: 0.701304\n"
     ]
    },
    {
     "data": {
      "text/plain": [
       "<lightgbm.basic.Booster at 0x7f6689f40e10>"
      ]
     },
     "execution_count": 37,
     "metadata": {},
     "output_type": "execute_result"
    }
   ],
   "source": [
    "ranker = lgb.train(\n",
    "    params,\n",
    "    train_set,\n",
    "    num_boost_round=300,\n",
    "    valid_sets=[valid_set],\n",
    "    early_stopping_rounds=30,\n",
    "    verbose_eval=10\n",
    ")\n",
    "\n",
    "ranker.save_model(data_dir / \"interim/lgbranker_md8_wk4.model\", num_iteration=ranker.best_iteration)\n",
    "\n",
    "# 0.766223 6-week\n",
    "# [139]\tvalid_0's map@12: 0.766937 6-week"
   ]
  },
  {
   "cell_type": "code",
   "execution_count": 51,
   "metadata": {},
   "outputs": [
    {
     "name": "stdout",
     "output_type": "stream",
     "text": [
      "Training until validation scores don't improve for 30 rounds\n",
      "[10]\tvalid_0's map@12: 0.76505\n",
      "[20]\tvalid_0's map@12: 0.765355\n",
      "[30]\tvalid_0's map@12: 0.765275\n",
      "[40]\tvalid_0's map@12: 0.765944\n",
      "[50]\tvalid_0's map@12: 0.766044\n",
      "[60]\tvalid_0's map@12: 0.766384\n",
      "[70]\tvalid_0's map@12: 0.766173\n",
      "[80]\tvalid_0's map@12: 0.76643\n",
      "[90]\tvalid_0's map@12: 0.76658\n",
      "[100]\tvalid_0's map@12: 0.766594\n",
      "[110]\tvalid_0's map@12: 0.766346\n",
      "[120]\tvalid_0's map@12: 0.766337\n",
      "[130]\tvalid_0's map@12: 0.766628\n",
      "[140]\tvalid_0's map@12: 0.766887\n",
      "[150]\tvalid_0's map@12: 0.766415\n",
      "[160]\tvalid_0's map@12: 0.766348\n",
      "Early stopping, best iteration is:\n",
      "[139]\tvalid_0's map@12: 0.766937\n"
     ]
    }
   ],
   "source": []
  },
  {
   "cell_type": "code",
   "execution_count": 49,
   "metadata": {},
   "outputs": [
    {
     "data": {
      "text/plain": [
       "<Figure size 576x1152 with 0 Axes>"
      ]
     },
     "execution_count": 49,
     "metadata": {},
     "output_type": "execute_result"
    },
    {
     "data": {
      "text/plain": [
       "<AxesSubplot:xlabel='importance', ylabel='feature'>"
      ]
     },
     "execution_count": 49,
     "metadata": {},
     "output_type": "execute_result"
    },
    {
     "data": {
      "image/png": "[encoded data removed]",
      "text/plain": [
       "<Figure size 576x1152 with 1 Axes>"
      ]
     },
     "metadata": {
      "needs_background": "light"
     },
     "output_type": "display_data"
    }
   ],
   "source": [
    "feat_importance = pd.DataFrame(\n",
    "    {\"feature\": feats, \"importance\": ranker.feature_importance()}\n",
    ").sort_values(by=\"importance\", ascending=False)\n",
    "plt.figure(figsize=(8, 16))\n",
    "sns.barplot(y=\"feature\", x=\"importance\", data=feat_importance)"
   ]
  },
  {
   "cell_type": "code",
   "execution_count": 52,
   "metadata": {
    "scrolled": true
   },
   "outputs": [
    {
     "data": {
      "text/plain": [
       "<Figure size 576x864 with 0 Axes>"
      ]
     },
     "execution_count": 52,
     "metadata": {},
     "output_type": "execute_result"
    },
    {
     "data": {
      "text/plain": [
       "<AxesSubplot:xlabel='importance', ylabel='feature'>"
      ]
     },
     "execution_count": 52,
     "metadata": {},
     "output_type": "execute_result"
    },
    {
     "data": {
      "image/png": "[encoded data removed]",
      "text/plain": [
       "<Figure size 576x864 with 1 Axes>"
      ]
     },
     "metadata": {
      "needs_background": "light"
     },
     "output_type": "display_data"
    }
   ],
   "source": []
  },
  {
   "cell_type": "code",
   "execution_count": null,
   "metadata": {
    "executionInfo": {
     "elapsed": 321,
     "status": "ok",
     "timestamp": 1650814242111,
     "user": {
      "displayName": "WP Zhang",
      "userId": "08181056311681578219"
     },
     "user_tz": 240
    },
    "id": "hl3DPTaBGGQV"
   },
   "outputs": [],
   "source": [
    "# ranker = lgb.Booster(model_file=data_dir / \"interim/lgb_ranker_new.model\")"
   ]
  },
  {
   "cell_type": "markdown",
   "metadata": {
    "id": "KbFdGrYRdtIt"
   },
   "source": [
    "### Inference"
   ]
  },
  {
   "cell_type": "markdown",
   "metadata": {
    "id": "lLWs-Z5CGGQV"
   },
   "source": [
    "### Validate"
   ]
  },
  {
   "cell_type": "code",
   "execution_count": 39,
   "metadata": {
    "executionInfo": {
     "elapsed": 617,
     "status": "ok",
     "timestamp": 1650814266776,
     "user": {
      "displayName": "WP Zhang",
      "userId": "08181056311681578219"
     },
     "user_tz": 240
    },
    "id": "SSpgfI0mdtIv"
   },
   "outputs": [],
   "source": [
    "val_candidates = valid.reset_index(drop=True)"
   ]
  },
  {
   "cell_type": "code",
   "execution_count": 40,
   "metadata": {
    "colab": {
     "base_uri": "https://localhost:8080/"
    },
    "executionInfo": {
     "elapsed": 26907,
     "status": "ok",
     "timestamp": 1650814293681,
     "user": {
      "displayName": "WP Zhang",
      "userId": "08181056311681578219"
     },
     "user_tz": 240
    },
    "id": "G3kDW_-BGGQV",
    "outputId": "493c337e-062a-4fda-f209-4eae217902e9"
   },
   "outputs": [
    {
     "name": "stderr",
     "output_type": "stream",
     "text": [
      "100%|██████████| 3/3 [00:18<00:00,  6.11s/it]\n"
     ]
    }
   ],
   "source": [
    "probs = np.zeros(val_candidates.shape[0])\n",
    "batch_size = 5_000_000\n",
    "for batch in tqdm(range(0, val_candidates.shape[0], batch_size)):\n",
    "    outputs = ranker.predict(val_candidates.loc[batch : batch + batch_size - 1, feats])\n",
    "    probs[batch : batch + batch_size] = outputs"
   ]
  },
  {
   "cell_type": "code",
   "execution_count": 41,
   "metadata": {
    "executionInfo": {
     "elapsed": 16,
     "status": "ok",
     "timestamp": 1650814293681,
     "user": {
      "displayName": "WP Zhang",
      "userId": "08181056311681578219"
     },
     "user_tz": 240
    },
    "id": "6y8vqdyrGGQW"
   },
   "outputs": [],
   "source": [
    "val_candidates[\"prob\"] = probs"
   ]
  },
  {
   "cell_type": "code",
   "execution_count": 42,
   "metadata": {
    "executionInfo": {
     "elapsed": 497,
     "status": "ok",
     "timestamp": 1650814294163,
     "user": {
      "displayName": "WP Zhang",
      "userId": "08181056311681578219"
     },
     "user_tz": 240
    },
    "id": "Tbjp5JrcMUVa"
   },
   "outputs": [],
   "source": [
    "pred_lgb = val_candidates[['customer_id','article_id','prob']]\n",
    "pred_lgb = pred_lgb.sort_values(by=[\"customer_id\",\"prob\"], ascending=False).reset_index(drop=True)\n",
    "pred_lgb.rename(columns={'article_id':'prediction'}, inplace=True)"
   ]
  },
  {
   "cell_type": "code",
   "execution_count": 43,
   "metadata": {},
   "outputs": [],
   "source": [
    "pred_lgb = pred_lgb.drop_duplicates(['customer_id', 'prediction'], keep='first')"
   ]
  },
  {
   "cell_type": "code",
   "execution_count": 44,
   "metadata": {
    "executionInfo": {
     "elapsed": 1598,
     "status": "ok",
     "timestamp": 1650814295756,
     "user": {
      "displayName": "WP Zhang",
      "userId": "08181056311681578219"
     },
     "user_tz": 240
    },
    "id": "ylrFuWBvdtIv"
   },
   "outputs": [
    {
     "name": "stderr",
     "output_type": "stream",
     "text": [
      "100%|██████████| 84775/84775 [00:05<00:00, 15417.98it/s]\n"
     ]
    }
   ],
   "source": [
    "pred_lgb = pred_lgb.groupby(\"customer_id\")[\"prediction\"].progress_apply(list).reset_index()"
   ]
  },
  {
   "cell_type": "code",
   "execution_count": 45,
   "metadata": {
    "executionInfo": {
     "elapsed": 4,
     "status": "ok",
     "timestamp": 1650814295757,
     "user": {
      "displayName": "WP Zhang",
      "userId": "08181056311681578219"
     },
     "user_tz": 240
    },
    "id": "G1Qh3k2aGGQW"
   },
   "outputs": [],
   "source": [
    "label = labels[1]\n",
    "label = pd.merge(label, pred_lgb, on=\"customer_id\", how=\"left\")"
   ]
  },
  {
   "cell_type": "code",
   "execution_count": 46,
   "metadata": {
    "colab": {
     "base_uri": "https://localhost:8080/"
    },
    "executionInfo": {
     "elapsed": 3024,
     "status": "ok",
     "timestamp": 1650814298777,
     "user": {
      "displayName": "WP Zhang",
      "userId": "08181056311681578219"
     },
     "user_tz": 240
    },
    "id": "XrFnQ2evGGQW",
    "outputId": "d0109654-6060-47b5-d3fc-d60814d95243"
   },
   "outputs": [
    {
     "data": {
      "text/plain": [
       "0.026542230103839166"
      ]
     },
     "execution_count": 46,
     "metadata": {},
     "output_type": "execute_result"
    }
   ],
   "source": [
    "map_at_k(label[\"article_id\"], label[\"prediction\"], k=12)\n",
    "\n",
    "# 0.026745268910027542 4 week\n",
    "# 0.02820525160663368 1-week add normalization\n",
    "# 0.028936597823123886 4-week 0.0274\n",
    "# 0.029111989281461418 4-week drop full-negative customer\n",
    "# 0.029165419468984943 3-week 0.0270\n",
    "# 0.028297597743100006 6 week 0.0250\n",
    "\n",
    "# 0.02863472423766257 4 week\n",
    "# 0.02882844782917304 4 week\n",
    "# 0.028909064246733205 4 week\n",
    "# 0.029366338019601947 4 week # 0.0268\n",
    "\n",
    "# 0.029402247883421353 6 week"
   ]
  },
  {
   "cell_type": "code",
   "execution_count": null,
   "metadata": {},
   "outputs": [],
   "source": []
  },
  {
   "cell_type": "markdown",
   "metadata": {},
   "source": [
    "### Test"
   ]
  },
  {
   "cell_type": "code",
   "execution_count": 62,
   "metadata": {
    "executionInfo": {
     "elapsed": 617,
     "status": "ok",
     "timestamp": 1650814266776,
     "user": {
      "displayName": "WP Zhang",
      "userId": "08181056311681578219"
     },
     "user_tz": 240
    },
    "id": "SSpgfI0mdtIv"
   },
   "outputs": [],
   "source": [
    "test_candidates = candidates[0].reset_index(drop=True)"
   ]
  },
  {
   "cell_type": "code",
   "execution_count": 63,
   "metadata": {},
   "outputs": [],
   "source": [
    "# As the threshold is set mannually when generating candidates for test set, we need to change the name of the columns\n",
    "test_candidates.rename(columns = {\n",
    "    'SaleTrend_7_top4':'SaleTrend_7_top50', \n",
    "    'TimeHistoryDecay_3_top31':'TimeHistoryDecay_3_top50',\n",
    "    'TimeHistoryDecay_7_top24':'TimeHistoryDecay_7_top50',\n",
    "    'TimeHistory_25_1':'TimeHistory_50_1', \n",
    "    'TimeHistory_30_2':'TimeHistory_50_2', \n",
    "    'UGSaleTrend_3_top2':'UGSaleTrend_7_top50', \n",
    "    'UGTimeHistory_age_bins_351':'UGTimeHistory_age_bins_501',\n",
    "    'UGTimeHistory_age_bins_38.52':'UGTimeHistory_age_bins_502'\n",
    "},inplace=True)"
   ]
  },
  {
   "cell_type": "code",
   "execution_count": 64,
   "metadata": {
    "colab": {
     "base_uri": "https://localhost:8080/"
    },
    "executionInfo": {
     "elapsed": 26907,
     "status": "ok",
     "timestamp": 1650814293681,
     "user": {
      "displayName": "WP Zhang",
      "userId": "08181056311681578219"
     },
     "user_tz": 240
    },
    "id": "G3kDW_-BGGQV",
    "outputId": "493c337e-062a-4fda-f209-4eae217902e9"
   },
   "outputs": [
    {
     "name": "stderr",
     "output_type": "stream",
     "text": [
      "100%|██████████| 20/20 [04:12<00:00, 12.61s/it]\n"
     ]
    }
   ],
   "source": [
    "probs = np.zeros(test_candidates.shape[0])\n",
    "batch_size = 5_000_000\n",
    "for batch in tqdm(range(0, test_candidates.shape[0], batch_size)):\n",
    "    outputs = ranker.predict(test_candidates.loc[batch : batch + batch_size - 1, feats])\n",
    "    probs[batch : batch + batch_size] = outputs"
   ]
  },
  {
   "cell_type": "code",
   "execution_count": 65,
   "metadata": {
    "executionInfo": {
     "elapsed": 16,
     "status": "ok",
     "timestamp": 1650814293681,
     "user": {
      "displayName": "WP Zhang",
      "userId": "08181056311681578219"
     },
     "user_tz": 240
    },
    "id": "6y8vqdyrGGQW"
   },
   "outputs": [],
   "source": [
    "test_candidates[\"prob\"] = probs"
   ]
  },
  {
   "cell_type": "code",
   "execution_count": 66,
   "metadata": {
    "executionInfo": {
     "elapsed": 497,
     "status": "ok",
     "timestamp": 1650814294163,
     "user": {
      "displayName": "WP Zhang",
      "userId": "08181056311681578219"
     },
     "user_tz": 240
    },
    "id": "Tbjp5JrcMUVa"
   },
   "outputs": [],
   "source": [
    "pred_lgb = test_candidates[['customer_id','article_id','prob']]\n",
    "pred_lgb = pred_lgb.sort_values(by=[\"customer_id\",\"prob\"], ascending=False).reset_index(drop=True)\n",
    "pred_lgb.rename(columns={'article_id':'prediction'}, inplace=True)"
   ]
  },
  {
   "cell_type": "code",
   "execution_count": 67,
   "metadata": {},
   "outputs": [],
   "source": [
    "idx2uid = pickle.load(open(data_dir/\"index_id_map/user_index2id.pkl\", \"rb\"))\n",
    "idx2iid = pickle.load(open(data_dir/\"index_id_map/item_index2id.pkl\", \"rb\"))"
   ]
  },
  {
   "cell_type": "code",
   "execution_count": 68,
   "metadata": {},
   "outputs": [
    {
     "name": "stderr",
     "output_type": "stream",
     "text": [
      "  0%|          | 77597/99187505 [00:00<10:52, 151829.88it/s]\n",
      "100%|██████████| 1371980/1371980 [02:49<00:00, 8110.56it/s]\n",
      "100%|██████████| 1371980/1371980 [00:02<00:00, 474615.61it/s]\n"
     ]
    }
   ],
   "source": [
    "pred_lgb['prediction'] = pred_lgb['prediction'].map(idx2iid).progress_apply(lambda x:'0'+str(x))\n",
    "pred_lgb = pred_lgb.groupby('customer_id')['prediction'].progress_apply(list).reset_index()\n",
    "pred_lgb['prediction'] = pred_lgb['prediction'].progress_apply(lambda x: ' '.join(x[:12]))"
   ]
  },
  {
   "cell_type": "code",
   "execution_count": 69,
   "metadata": {},
   "outputs": [],
   "source": [
    "uid2idx = pickle.load(open(data_dir/\"index_id_map/user_id2index.pkl\", \"rb\"))\n",
    "submission = pd.read_csv(data_dir/\"raw\"/'sample_submission.csv')\n",
    "submission['customer_id'] = submission['customer_id'].map(uid2idx)"
   ]
  },
  {
   "cell_type": "code",
   "execution_count": 70,
   "metadata": {},
   "outputs": [],
   "source": [
    "del submission['prediction']\n",
    "submission = submission.merge(pred_lgb, on='customer_id', how='left')\n",
    "submission['customer_id'] = submission['customer_id'].map(idx2uid)"
   ]
  },
  {
   "cell_type": "code",
   "execution_count": 71,
   "metadata": {},
   "outputs": [],
   "source": [
    "submission.to_csv('submission.csv.gz', index=False)"
   ]
  },
  {
   "cell_type": "code",
   "execution_count": 72,
   "metadata": {},
   "outputs": [
    {
     "data": {
      "text/html": [
       "<div>\n",
       "<style scoped>\n",
       "    .dataframe tbody tr th:only-of-type {\n",
       "        vertical-align: middle;\n",
       "    }\n",
       "\n",
       "    .dataframe tbody tr th {\n",
       "        vertical-align: top;\n",
       "    }\n",
       "\n",
       "    .dataframe thead th {\n",
       "        text-align: right;\n",
       "    }\n",
       "</style>\n",
       "<table border=\"1\" class=\"dataframe\">\n",
       "  <thead>\n",
       "    <tr style=\"text-align: right;\">\n",
       "      <th></th>\n",
       "      <th>customer_id</th>\n",
       "      <th>prediction</th>\n",
       "    </tr>\n",
       "  </thead>\n",
       "  <tbody>\n",
       "    <tr>\n",
       "      <th>0</th>\n",
       "      <td>00000dbacae5abe5e23885899a1fa44253a17956c6d1c3...</td>\n",
       "      <td>0568601043 0779781015 0158340001 0918522001 05...</td>\n",
       "    </tr>\n",
       "    <tr>\n",
       "      <th>1</th>\n",
       "      <td>0000423b00ade91418cceaf3b26c6af3dd342b51fd051e...</td>\n",
       "      <td>0918522001 0448509014 0918292001 0866731001 09...</td>\n",
       "    </tr>\n",
       "    <tr>\n",
       "      <th>2</th>\n",
       "      <td>000058a12d5b43e67d225668fa1f8d618c13dc232df0ca...</td>\n",
       "      <td>0794321007 0805000001 0918522001 0448509014 06...</td>\n",
       "    </tr>\n",
       "    <tr>\n",
       "      <th>3</th>\n",
       "      <td>00005ca1c9ed5f5146b52ac8639a40ca9d57aeff4d1bd2...</td>\n",
       "      <td>0918522001 0158340001 0751471043 0915529003 07...</td>\n",
       "    </tr>\n",
       "    <tr>\n",
       "      <th>4</th>\n",
       "      <td>00006413d8573cd20ed7128e53b7b13819fe5cfc2d801f...</td>\n",
       "      <td>0896152001 0791587001 0927530006 0852584001 07...</td>\n",
       "    </tr>\n",
       "  </tbody>\n",
       "</table>\n",
       "</div>"
      ],
      "text/plain": [
       "                                         customer_id  \\\n",
       "0  00000dbacae5abe5e23885899a1fa44253a17956c6d1c3...   \n",
       "1  0000423b00ade91418cceaf3b26c6af3dd342b51fd051e...   \n",
       "2  000058a12d5b43e67d225668fa1f8d618c13dc232df0ca...   \n",
       "3  00005ca1c9ed5f5146b52ac8639a40ca9d57aeff4d1bd2...   \n",
       "4  00006413d8573cd20ed7128e53b7b13819fe5cfc2d801f...   \n",
       "\n",
       "                                          prediction  \n",
       "0  0568601043 0779781015 0158340001 0918522001 05...  \n",
       "1  0918522001 0448509014 0918292001 0866731001 09...  \n",
       "2  0794321007 0805000001 0918522001 0448509014 06...  \n",
       "3  0918522001 0158340001 0751471043 0915529003 07...  \n",
       "4  0896152001 0791587001 0927530006 0852584001 07...  "
      ]
     },
     "execution_count": 72,
     "metadata": {},
     "output_type": "execute_result"
    }
   ],
   "source": [
    "submission.head()"
   ]
  },
  {
   "cell_type": "markdown",
   "metadata": {},
   "source": [
    "### Submit"
   ]
  },
  {
   "cell_type": "code",
   "execution_count": 73,
   "metadata": {},
   "outputs": [],
   "source": [
    "submit_msg = \"\"\"\n",
    "0.029402247883421353 6-week\n",
    "---\n",
    "OrderHistory(train, 3),\n",
    "OrderHistory(train, 7),\n",
    "OrderHistoryDecay(train, 3, n=50),\n",
    "OrderHistoryDecay(train, 7, n=50),\n",
    "ItemPair(OrderHistory(train, 3).retrieve(), name='1'),\n",
    "ItemPair(OrderHistory(train, 7).retrieve(), name='2'),\n",
    "ItemPair(OrderHistoryDecay(train, 3, n=50).retrieve(), name='3'),\n",
    "ItemPair(OrderHistoryDecay(train, 7, n=50).retrieve(), name='4'),\n",
    "UserGroupTimeHistory(data, customer_list, last_week, ['age_bins'], n=50 if week!=0 else 15, name='1'),\n",
    "UserGroupTimeHistory(data, customer_list, last_3days, ['age_bins'], n=50 if week!=0 else 20.5, name='2'),\n",
    "UserGroupSaleTrend(data, customer_list, train, ['age_bins'], 7, n=50 if week!=0 else 2),\n",
    "TimeHistory(customer_list, last_week, n=50 if week!=0 else 9, name='1'),\n",
    "TimeHistory(customer_list, last_3days, n=50 if week!=0 else 16, name='2'),\n",
    "TimeHistoryDecay(customer_list, train, 3, n=50 if week!=0 else 12),\n",
    "TimeHistoryDecay(customer_list, train, 7, n=50 if week!=0 else 8),\n",
    "SaleTrend(customer_list, train, 7, n=50 if week!=0 else 2)\n",
    "---\n",
    "min_pos_rate = 0.005 new features\n",
    "pivot\n",
    "\"\"\""
   ]
  },
  {
   "cell_type": "code",
   "execution_count": 74,
   "metadata": {},
   "outputs": [
    {
     "data": {
      "text/plain": [
       "\"\\n0.029402247883421353 6-week\\n---\\nOrderHistory(train, 3),\\nOrderHistory(train, 7),\\nOrderHistoryDecay(train, 3, n=50),\\nOrderHistoryDecay(train, 7, n=50),\\nItemPair(OrderHistory(train, 3).retrieve(), name='1'),\\nItemPair(OrderHistory(train, 7).retrieve(), name='2'),\\nItemPair(OrderHistoryDecay(train, 3, n=50).retrieve(), name='3'),\\nItemPair(OrderHistoryDecay(train, 7, n=50).retrieve(), name='4'),\\nUserGroupTimeHistory(data, customer_list, last_week, ['age_bins'], n=50 if week!=0 else 15, name='1'),\\nUserGroupTimeHistory(data, customer_list, last_3days, ['age_bins'], n=50 if week!=0 else 20.5, name='2'),\\nUserGroupSaleTrend(data, customer_list, train, ['age_bins'], 7, n=50 if week!=0 else 2),\\nTimeHistory(customer_list, last_week, n=50 if week!=0 else 9, name='1'),\\nTimeHistory(customer_list, last_3days, n=50 if week!=0 else 16, name='2'),\\nTimeHistoryDecay(customer_list, train, 3, n=50 if week!=0 else 12),\\nTimeHistoryDecay(customer_list, train, 7, n=50 if week!=0 else 8),\\nSaleTrend(customer_list, train, 7, n=50 if week!=0 else 2)\\n---\\nmin_pos_rate = 0.005 new features\\npivot\\n\""
      ]
     },
     "execution_count": 74,
     "metadata": {},
     "output_type": "execute_result"
    }
   ],
   "source": [
    "submit_msg"
   ]
  },
  {
   "cell_type": "code",
   "execution_count": 75,
   "metadata": {},
   "outputs": [
    {
     "name": "stdout",
     "output_type": "stream",
     "text": [
      "Warning: Looks like you're using an outdated API Version, please consider updating (server 1.5.12 / client 1.5.6)\n",
      "100%|######################################| 69.4M/69.4M [00:03<00:00, 19.2MB/s]\n",
      "Successfully submitted to H&M Personalized Fashion Recommendations"
     ]
    }
   ],
   "source": [
    "! kaggle competitions submit -c h-and-m-personalized-fashion-recommendations -f \"submission.csv.gz\" -m '\\n0.029111989281461418 4-week drop full negative user\\n---\\nOrderHistory(train, 3),\\nOrderHistory(train, 7),\\nOrderHistoryDecay(train, 3, n=50),\\nOrderHistoryDecay(train, 7, n=50),\\nItemPair(OrderHistory(train, 3).retrieve(), name='1'),\\nItemPair(OrderHistory(train, 7).retrieve(), name='2'),\\nItemPair(OrderHistoryDecay(train, 3, n=50).retrieve(), name='3'),\\nItemPair(OrderHistoryDecay(train, 7, n=50).retrieve(), name='4'),\\nUserGroupTimeHistory(data, customer_list, last_week, ['age_bins'], n=50 if week!=0 else 15, name='1'),\\nUserGroupTimeHistory(data, customer_list, last_3days, ['age_bins'], n=50 if week!=0 else 20.5, name='2'),\\nUserGroupSaleTrend(data, customer_list, train, ['age_bins'], 7, n=50 if week!=0 else 2),\\nTimeHistory(customer_list, last_week, n=50 if week!=0 else 9, name='1'),\\nTimeHistory(customer_list, last_3days, n=50 if week!=0 else 16, name='2'),\\nTimeHistoryDecay(customer_list, train, 3, n=50 if week!=0 else 12),\\nTimeHistoryDecay(customer_list, train, 7, n=50 if week!=0 else 8),\\nSaleTrend(customer_list, train, 7, n=50 if week!=0 else 2)\\n---\\nmin_pos_rate = 0.006\\npivot\\n'\n"
   ]
  },
  {
   "cell_type": "code",
   "execution_count": null,
   "metadata": {},
   "outputs": [],
   "source": []
  }
 ],
 "metadata": {
  "colab": {
   "collapsed_sections": [
    "LX4M190s4pxo"
   ],
   "machine_shape": "hm",
   "name": "HandyRec_Seq_LGB_Week.ipynb",
   "provenance": []
  },
  "kernelspec": {
   "display_name": "Python 3",
   "language": "python",
   "name": "python3"
  },
  "language_info": {
   "codemirror_mode": {
    "name": "ipython",
    "version": 3
   },
   "file_extension": ".py",
   "mimetype": "text/x-python",
   "name": "python",
   "nbconvert_exporter": "python",
   "pygments_lexer": "ipython3",
   "version": "3.6.13"
  }
 },
 "nbformat": 4,
 "nbformat_minor": 1
}
