{
 "cells": [
  {
   "cell_type": "code",
   "execution_count": 1,
   "metadata": {
    "id": "Ej-kIjP5d_zw"
   },
   "outputs": [],
   "source": [
    "# %pip install -U lightgbm==3.3.2"
   ]
  },
  {
   "cell_type": "code",
   "execution_count": 2,
   "metadata": {
    "id": "9ncUF1TT6uDA"
   },
   "outputs": [],
   "source": [
    "# !git clone 'https://github.com/Wp-Zhang/H-M-Fashion-RecSys.git'"
   ]
  },
  {
   "cell_type": "code",
   "execution_count": null,
   "metadata": {
    "id": "HbkUc8rZ6v-Z"
   },
   "outputs": [],
   "source": [
    "# !unzip /content/H-M-Fashion-RecSys-main.zip\n",
    "# !mv ./H-M-Fashion-RecSys-main/* ./"
   ]
  },
  {
   "cell_type": "code",
   "execution_count": null,
   "metadata": {
    "id": "kKJELCR37WKR"
   },
   "outputs": [],
   "source": [
    ""
   ]
  },
  {
   "cell_type": "code",
   "execution_count": 1,
   "metadata": {
    "id": "gboISq82XUN1"
   },
   "outputs": [],
   "source": [
    "import pandas as pd\n",
    "from pandas.api.types import CategoricalDtype\n",
    "import numpy as np\n",
    "import seaborn as sns\n",
    "import matplotlib.pyplot as plt\n",
    "import lightgbm as lgb\n",
    "\n",
    "import pickle\n",
    "from tqdm import tqdm\n",
    "import gc\n",
    "from pathlib import Path\n",
    "\n",
    "import warnings\n",
    "import sys\n",
    "from IPython.core.interactiveshell import InteractiveShell\n",
    "\n",
    "warnings.filterwarnings(\"ignore\")\n",
    "sys.path.append(\"./\") # path to the `src`` folder\n",
    "InteractiveShell.ast_node_interactivity = \"all\"\n",
    "tqdm.pandas()"
   ]
  },
  {
   "cell_type": "code",
   "execution_count": 2,
   "metadata": {
    "id": "Rdt7FKjA6ovy"
   },
   "outputs": [],
   "source": [
    "from src.data import DataHelper\n",
    "from src.data.metrics import map_at_k, hr_at_k, recall_at_k\n",
    "\n",
    "from src.retrieval.rules import (\n",
    "    OrderHistory,\n",
    "    OrderHistoryDecay,\n",
    "    ItemPair,\n",
    "    UserGroupTimeHistory,\n",
    "    UserGroupSaleTrend,\n",
    "    TimeHistory,\n",
    "    TimeHistoryDecay,\n",
    "    SaleTrend,\n",
    "    OutOfStock,\n",
    ")\n",
    "from src.retrieval.collector import RuleCollector\n",
    "\n",
    "from src.features import cum_sale, week_sale, repurchase_ratio, purchased_before\n",
    "\n",
    "from src.utils import (\n",
    "    calc_valid_date,\n",
    "    merge_week_data,\n",
    "    reduce_mem_usage,\n",
    "    calc_embd_similarity,\n",
    ")\n",
    "\n",
    "data_dir = Path(\"/content/data/\")\n",
    "model_dir = Path(\"/content/models/\")\n",
    "\n",
    "TRAIN_WEEK_NUM = 4\n",
    "WEEK_NUM = TRAIN_WEEK_NUM + 2\n",
    "\n",
    "VERSION_NAME = \"pivot\"\n",
    "TEST = False # * Set as `False` when do local experiments to save time\n",
    "\n",
    "import os\n",
    "if not os.path.exists(data_dir/\"interim\"/VERSION_NAME):\n",
    "    os.mkdir(data_dir/\"interim\")\n",
    "    os.mkdir(data_dir/\"interim\"/VERSION_NAME)\n",
    "if not os.path.exists(data_dir/\"processed\"/VERSION_NAME):\n",
    "    os.mkdir(data_dir/\"processed\")\n",
    "    os.mkdir(data_dir/\"processed\"/VERSION_NAME)\n",
    "\n",
    "dh = DataHelper(data_dir)\n",
    "\n",
    "# data = dh.preprocess_data(save=True, name=\"encoded_full\") # * run only once, processed data will be saved\n",
    "\n",
    "data = dh.load_data(name=\"encoded_full\")\n",
    "uid2idx = pickle.load(open(data_dir/\"index_id_map/user_id2index.pkl\", \"rb\"))\n",
    "submission = pd.read_csv(data_dir/\"raw\"/'sample_submission.csv')\n",
    "submission['customer_id'] = submission['customer_id'].map(uid2idx)"
   ]
  },
  {
   "cell_type": "markdown",
   "metadata": {
    "id": "LX4M190s4pxo"
   },
   "source": [
    "## Retrieval\n"
   ]
  },
  {
   "cell_type": "markdown",
   "metadata": {
    "id": "QzngWBxM6ov4"
   },
   "source": [
    "Generate candidates for each week"
   ]
  },
  {
   "cell_type": "code",
   "execution_count": 5,
   "metadata": {
    "id": "1Mf2W5sG6ov4"
   },
   "outputs": [],
   "source": [
    "# listBin = [-1, 19, 29, 39, 49, 59, 69, 119]\n",
    "# data['user']['age_bins'] = pd.cut(data['user']['age'], listBin)"
   ]
  },
  {
   "cell_type": "code",
   "execution_count": null,
   "metadata": {
    "id": "k495mN8p6ov5"
   },
   "outputs": [],
   "source": [
    "# # * WEEK_NUM = 0: test\n",
    "# # * WEEK_NUM = 1: valid\n",
    "# # * WEEK_NUM > 1: train\n",
    "# for week in range(1,WEEK_NUM):\n",
    "#     # * use sliding window to generate candidates\n",
    "#     if week == 0 and not TEST:\n",
    "#         continue\n",
    "#     trans = data[\"inter\"]\n",
    "\n",
    "#     start_date, end_date = calc_valid_date(week)\n",
    "#     print(f\"Week {week}: [{start_date}, {end_date})\")\n",
    "    \n",
    "#     train, valid = dh.split_data(trans, start_date, end_date)\n",
    "#     train = train.merge(data['user'][['customer_id','age_bins']], on='customer_id', how='left')\n",
    "\n",
    "#     last_week_start = pd.to_datetime(start_date) - pd.Timedelta(days=7)\n",
    "#     last_week_start = last_week_start.strftime(\"%Y-%m-%d\")\n",
    "#     last_week = train.loc[train.t_dat >= last_week_start]\n",
    "    \n",
    "#     last_3day_start = pd.to_datetime(start_date) - pd.Timedelta(days=3)\n",
    "#     last_3day_start = last_3day_start.strftime(\"%Y-%m-%d\")\n",
    "#     last_3days = train.loc[train.t_dat >= last_3day_start]\n",
    "\n",
    "#     if week != 0:\n",
    "#         customer_list = valid[\"customer_id\"].values\n",
    "#     else:\n",
    "#         customer_list = submission['customer_id'].values\n",
    "\n",
    "#     # * ========================== Retrieval Strategies ==========================\n",
    "\n",
    "#     candidates = RuleCollector().collect(\n",
    "#         week_num = week,\n",
    "#         trans_df = trans,\n",
    "#         customer_list=customer_list,\n",
    "#         rules=[\n",
    "#             OrderHistory(train, days=3, name='1'),\n",
    "#             OrderHistory(train, days=7, name='2'),\n",
    "#             OrderHistoryDecay(train, days=3, n=50, name='1'),\n",
    "#             OrderHistoryDecay(train, days=7, n=50, name='2'),\n",
    "#             ItemPair(OrderHistory(train, days=3).retrieve(), name='1'),\n",
    "#             ItemPair(OrderHistory(train, days=7).retrieve(), name='2'),\n",
    "#             ItemPair(OrderHistoryDecay(train, days=3, n=50).retrieve(), name='3'),\n",
    "#             ItemPair(OrderHistoryDecay(train, days=7, n=50).retrieve(), name='4'),\n",
    "#             UserGroupTimeHistory(data, customer_list, last_week, ['age_bins'], n=50, name='1'),\n",
    "#             UserGroupTimeHistory(data, customer_list, last_3days, ['age_bins'], n=50, name='2'),\n",
    "#             UserGroupSaleTrend(data, customer_list, train, ['age_bins'], days=7, n=50),\n",
    "#             TimeHistory(customer_list, last_week, n=50, name='1'),\n",
    "#             TimeHistory(customer_list, last_3days, n=50, name='2'),\n",
    "#             TimeHistoryDecay(customer_list, train, days=3, n=50, name='1'),\n",
    "#             TimeHistoryDecay(customer_list, train, days=7, n=50, name='2'),\n",
    "#             SaleTrend(customer_list, train, days=7, n=50),\n",
    "#         ],\n",
    "#         filters=[OutOfStock(trans)],\n",
    "#         min_pos_rate=0.006,\n",
    "#         compress=False,\n",
    "#     )\n",
    "    \n",
    "#     candidates = (\n",
    "#         pd.pivot_table(\n",
    "#             candidates,\n",
    "#             values=\"score\",\n",
    "#             index=[\"customer_id\", \"article_id\"],\n",
    "#             columns=[\"method\"],\n",
    "#             aggfunc=np.sum,\n",
    "#         )\n",
    "#         .reset_index()\n",
    "#     )\n",
    "\n",
    "#     candidates.to_parquet(data_dir/\"interim\"/VERSION_NAME/f\"week{week}_candidate.pqt\")\n",
    "#     valid.to_parquet(data_dir/\"processed\"/VERSION_NAME/f\"week{week}_label.pqt\")"
   ]
  },
  {
   "cell_type": "code",
   "execution_count": 7,
   "metadata": {
    "id": "WOM8ldxO6ov7"
   },
   "outputs": [],
   "source": [
    "# # * use the threshold in week 1 to generate candidates for test data, see the log in the upper cell \n",
    "# if TEST:\n",
    "#     week = 0\n",
    "#     trans = data[\"inter\"]\n",
    "    \n",
    "#     start_date, end_date = calc_valid_date(week)\n",
    "#     print(f\"Week {week}: [{start_date}, {end_date})\")\n",
    "    \n",
    "#     train, valid = dh.split_data(trans, start_date, end_date)\n",
    "#     train = train.merge(data['user'][['customer_id','age_bins']], on='customer_id', how='left')\n",
    "\n",
    "#     last_week_start = pd.to_datetime(start_date) - pd.Timedelta(days=7)\n",
    "#     last_week_start = last_week_start.strftime(\"%Y-%m-%d\")\n",
    "#     last_week = train.loc[train.t_dat >= last_week_start]\n",
    "    \n",
    "#     last_3day_start = pd.to_datetime(start_date) - pd.Timedelta(days=3)\n",
    "#     last_3day_start = last_3day_start.strftime(\"%Y-%m-%d\")\n",
    "#     last_3days = train.loc[train.t_dat >= last_3day_start]\n",
    "\n",
    "#     customer_list = submission['customer_id'].values\n",
    "\n",
    "#     # * ========================== Retrieval Strategies ==========================\n",
    "\n",
    "#     candidates = RuleCollector().collect(\n",
    "#         week_num = week,\n",
    "#         trans_df = trans,\n",
    "#         customer_list=customer_list,\n",
    "#         rules=[\n",
    "#             OrderHistory(train, days=3, name='1'),\n",
    "#             OrderHistory(train, days=7, name='2'),\n",
    "#             OrderHistoryDecay(train, days=3, n=50, name='1'),\n",
    "#             OrderHistoryDecay(train, days=7, n=50, name='2'),\n",
    "#             ItemPair(OrderHistory(train, days=3).retrieve(), name='1'),\n",
    "#             ItemPair(OrderHistory(train, days=7).retrieve(), name='2'),\n",
    "#             ItemPair(OrderHistoryDecay(train, 3, n=50).retrieve(), name='3'),\n",
    "#             ItemPair(OrderHistoryDecay(train, 7, n=50).retrieve(), name='4'),\n",
    "#             UserGroupTimeHistory(data, customer_list, last_week, ['age_bins'], n=15, name='1'),\n",
    "#             UserGroupTimeHistory(data, customer_list, last_3days, ['age_bins'], n=20.5, name='2'),\n",
    "#             UserGroupSaleTrend(data, customer_list, train, ['age_bins'], days=7, n=2),\n",
    "#             TimeHistory(customer_list, last_week, n=9, name='1'),\n",
    "#             TimeHistory(customer_list, last_3days, n=16, name='2'),\n",
    "#             TimeHistoryDecay(customer_list, train, days=3, n=12, name='1'),\n",
    "#             TimeHistoryDecay(customer_list, train, days=7, n=8, name='2'),\n",
    "#             SaleTrend(customer_list, train, days=7, n=2),\n",
    "#         ],\n",
    "#         filters=[OutOfStock(trans)],\n",
    "#         min_pos_rate=0.006,\n",
    "#         compress=False,\n",
    "#     )\n",
    "    \n",
    "#     candidates, _ = reduce_mem_usage(candidates)\n",
    "#     candidates = (\n",
    "#         pd.pivot_table(\n",
    "#             candidates,\n",
    "#             values=\"score\",\n",
    "#             index=[\"customer_id\", \"article_id\"],\n",
    "#             columns=[\"method\"],\n",
    "#             aggfunc=np.sum,\n",
    "#         )\n",
    "#         .reset_index()\n",
    "#     )\n",
    "\n",
    "#     candidates.to_parquet(data_dir/\"interim\"/VERSION_NAME/f\"week{week}_candidate.pqt\")\n",
    "#     valid.to_parquet(data_dir/\"processed\"/VERSION_NAME/f\"week{week}_label.pqt\")"
   ]
  },
  {
   "cell_type": "code",
   "execution_count": 8,
   "metadata": {
    "colab": {
     "base_uri": "https://localhost:8080/"
    },
    "id": "r3ULm4Zb6ov8",
    "outputId": "94225d52-7d68-43f4-f53f-f47bcec04456"
   },
   "outputs": [
    {
     "data": {
      "text/plain": [
       "73"
      ]
     },
     "execution_count": 8,
     "metadata": {},
     "output_type": "execute_result"
    }
   ],
   "source": [
    "# del train, valid, last_week, customer_list, candidates\n",
    "# gc.collect()"
   ]
  },
  {
   "cell_type": "markdown",
   "metadata": {
    "id": "TBIrKxhRGGQR"
   },
   "source": [
    "## Feature engineering\n"
   ]
  },
  {
   "cell_type": "code",
   "execution_count": 9,
   "metadata": {
    "colab": {
     "base_uri": "https://localhost:8080/"
    },
    "id": "9pF-sOMSGGQP",
    "outputId": "1ece910f-afb9-4726-d88b-34224457c5c7"
   },
   "outputs": [
    {
     "data": {
      "text/plain": [
       "67"
      ]
     },
     "execution_count": 9,
     "metadata": {},
     "output_type": "execute_result"
    }
   ],
   "source": [
    "user = data[\"user\"]\n",
    "item = data[\"item\"]\n",
    "inter = data[\"inter\"].copy()\n",
    "\n",
    "# merge `product_code`\n",
    "# inter = inter.merge(item[[\"article_id\", \"product_code\"]], on=\"article_id\", how=\"left\")\n",
    "\n",
    "# calculate week number\n",
    "inter['week'] = (pd.to_datetime('2020-09-29') - pd.to_datetime(inter['t_dat'])).dt.days // 7\n",
    "\n",
    "inter = inter.sort_values([\"customer_id\", \"t_dat\"]).reset_index(drop=True)\n",
    "\n",
    "import gc \n",
    "gc.collect()"
   ]
  },
  {
   "cell_type": "code",
   "execution_count": 10,
   "metadata": {
    "id": "FNM0i22zidHT"
   },
   "outputs": [],
   "source": [
    "# inter_make_feature = inter.copy()\n",
    "\n",
    "# inter_make_feature['t_dat'] = pd.to_datetime(inter_make_feature['t_dat'])\n",
    "# last_week_start = pd.to_datetime(\"2020-09-01\")\n",
    "# last_week_end = pd.to_datetime(\"2020-06-01\")\n",
    "\n",
    "# inter_make_feature = inter_make_feature.loc[(inter_make_feature.t_dat <= last_week_start)]\n",
    "\n",
    "# inter_make_feature = inter_make_feature.merge(user, on=\"customer_id\", how=\"left\")\n",
    "# inter_make_feature = inter_make_feature.merge(item, on=\"article_id\", how=\"left\")"
   ]
  },
  {
   "cell_type": "code",
   "execution_count": 11,
   "metadata": {
    "id": "rMnyipKtfmTd"
   },
   "outputs": [],
   "source": [
    "# inter_make_feature"
   ]
  },
  {
   "cell_type": "code",
   "execution_count": 12,
   "metadata": {
    "id": "eGAr7wKVqz5R"
   },
   "outputs": [],
   "source": [
    "# to_delete_list = []\n",
    "\n",
    "\n",
    "# for col in ['price', 'sales_channel_id', 'age']:\n",
    "#   AGGs =  ['mean', 'std',]\n",
    "#   if col =='price':\n",
    "#     AGGs =  ['mean', 'std', 'sum', 'max', 'min']\n",
    "#   for AGG in AGGs:\n",
    "#     dict_agg = inter_make_feature.groupby('customer_id')[col].agg(AGG)\n",
    "#     inter[f'aggfeatures_customer_{col}_{AGG}_all'] = inter['customer_id'].map(dict_agg).fillna(-999)\n",
    "#     to_delete_list.append(f'aggfeatures_customer_{col}_{AGG}_all')\n",
    "\n",
    "#   for AGG in AGGs:\n",
    "#     dict_agg = inter_make_feature.groupby('article_id')[col].agg(AGG)\n",
    "#     inter[f'aggfeatures_article_{col}_{AGG}_all'] = inter['customer_id'].map(dict_agg).fillna(-999)\n",
    "#     to_delete_list.append(f'aggfeatures_article_{col}_{AGG}_all')"
   ]
  },
  {
   "cell_type": "code",
   "execution_count": 13,
   "metadata": {
    "id": "5GqyjgjQfyd5"
   },
   "outputs": [],
   "source": [
    "# last_week_end = pd.to_datetime(\"2020-06-01\")\n",
    "\n",
    "# inter_make_feature = inter_make_feature.loc[(inter_make_feature.t_dat > last_week_end)]\n",
    "\n",
    "\n",
    "# for col in ['price', 'sales_channel_id', 'age']:\n",
    "#   AGGs =  ['mean', 'std',]\n",
    "#   if col =='price':\n",
    "#     AGGs =  ['mean', 'std', 'sum', 'max', 'min']\n",
    "#   for AGG in AGGs:\n",
    "#     dict_agg = inter_make_feature.groupby('customer_id')[col].agg(AGG)\n",
    "#     inter[f'aggfeatures_customer_{col}_{AGG}_3'] = inter['customer_id'].map(dict_agg).fillna(-999)\n",
    "#     to_delete_list.append(f'aggfeatures_customer_{col}_{AGG}_3')\n",
    "\n",
    "#   for AGG in AGGs:\n",
    "#     dict_agg = inter_make_feature.groupby('article_id')[col].agg(AGG)\n",
    "#     inter[f'aggfeatures_article_{col}_{AGG}_3'] = inter['customer_id'].map(dict_agg).fillna(-999)\n",
    "#     to_delete_list.append(f'aggfeatures_article_{col}_{AGG}_3')\n",
    "\n",
    "# del inter_make_feature \n",
    "# import gc \n",
    "# gc.collect()"
   ]
  },
  {
   "cell_type": "code",
   "execution_count": 14,
   "metadata": {
    "id": "tQg7lVnhqzwo"
   },
   "outputs": [],
   "source": [
    "# inter['diff_price_customer'] = inter[f'aggfeatures_article_price_mean_all']/inter[f'aggfeatures_customer_price_mean_all']\n",
    "# inter['diff_channel_customer'] = inter[f'aggfeatures_article_sales_channel_id_mean_all']-inter[f'aggfeatures_customer_sales_channel_id_mean_all']\n",
    "\n",
    "\n",
    "# inter['diff_price_customer'].fillna(-999, inplace=True)\n",
    "# inter['diff_channel_customer'].fillna(-999, inplace=True)"
   ]
  },
  {
   "cell_type": "code",
   "execution_count": 15,
   "metadata": {
    "id": "BjnOpTNf4uDL"
   },
   "outputs": [],
   "source": [
    "# for col in to_delete_list:\n",
    "#   del inter[col]"
   ]
  },
  {
   "cell_type": "code",
   "execution_count": 16,
   "metadata": {
    "colab": {
     "base_uri": "https://localhost:8080/",
     "height": 401
    },
    "id": "IXXxyMmndtIm",
    "outputId": "7f66b974-f763-44e0-fc24-e2dc27bb7cdb"
   },
   "outputs": [
    {
     "name": "stderr",
     "output_type": "stream",
     "text": [
      "100%|██████████| 6/6 [00:51<00:00,  8.59s/it]\n"
     ]
    },
    {
     "name": "stdout",
     "output_type": "stream",
     "text": [
      "(31788324, 23)\n"
     ]
    },
    {
     "data": {
      "text/html": [
       "\n",
       "  <div id=\"df-e02a0039-0153-464d-ab39-e7c6cadbfbd5\">\n",
       "    <div class=\"colab-df-container\">\n",
       "      <div>\n",
       "<style scoped>\n",
       "    .dataframe tbody tr th:only-of-type {\n",
       "        vertical-align: middle;\n",
       "    }\n",
       "\n",
       "    .dataframe tbody tr th {\n",
       "        vertical-align: top;\n",
       "    }\n",
       "\n",
       "    .dataframe thead th {\n",
       "        text-align: right;\n",
       "    }\n",
       "</style>\n",
       "<table border=\"1\" class=\"dataframe\">\n",
       "  <thead>\n",
       "    <tr style=\"text-align: right;\">\n",
       "      <th></th>\n",
       "      <th>t_dat</th>\n",
       "      <th>customer_id</th>\n",
       "      <th>article_id</th>\n",
       "      <th>price</th>\n",
       "      <th>sales_channel_id</th>\n",
       "      <th>week</th>\n",
       "      <th>product_code</th>\n",
       "      <th>item_sale</th>\n",
       "      <th>pro_sale</th>\n",
       "      <th>item_sale_uni</th>\n",
       "      <th>...</th>\n",
       "      <th>product_type_no_sale</th>\n",
       "      <th>product_group_name_sale</th>\n",
       "      <th>graphical_appearance_no_sale</th>\n",
       "      <th>colour_group_code_sale</th>\n",
       "      <th>perceived_colour_value_id_sale</th>\n",
       "      <th>perceived_colour_master_id_sale</th>\n",
       "      <th>i_repurchase_ratio</th>\n",
       "      <th>p_repurchase_ratio</th>\n",
       "      <th>purchased_item</th>\n",
       "      <th>purchased_pro</th>\n",
       "    </tr>\n",
       "  </thead>\n",
       "  <tbody>\n",
       "    <tr>\n",
       "      <th>0</th>\n",
       "      <td>2018-12-27</td>\n",
       "      <td>1</td>\n",
       "      <td>29517</td>\n",
       "      <td>0.044051</td>\n",
       "      <td>1</td>\n",
       "      <td>91</td>\n",
       "      <td>11547</td>\n",
       "      <td>10</td>\n",
       "      <td>16</td>\n",
       "      <td>7</td>\n",
       "      <td>...</td>\n",
       "      <td>3201</td>\n",
       "      <td>13090</td>\n",
       "      <td>13932</td>\n",
       "      <td>8525</td>\n",
       "      <td>14427</td>\n",
       "      <td>10582</td>\n",
       "      <td>0.126904</td>\n",
       "      <td>0.141921</td>\n",
       "      <td>0.0</td>\n",
       "      <td>0.0</td>\n",
       "    </tr>\n",
       "    <tr>\n",
       "      <th>1</th>\n",
       "      <td>2018-12-27</td>\n",
       "      <td>1</td>\n",
       "      <td>100</td>\n",
       "      <td>0.035576</td>\n",
       "      <td>1</td>\n",
       "      <td>91</td>\n",
       "      <td>37</td>\n",
       "      <td>17</td>\n",
       "      <td>84</td>\n",
       "      <td>16</td>\n",
       "      <td>...</td>\n",
       "      <td>3146</td>\n",
       "      <td>13090</td>\n",
       "      <td>13932</td>\n",
       "      <td>13323</td>\n",
       "      <td>14427</td>\n",
       "      <td>13281</td>\n",
       "      <td>0.098616</td>\n",
       "      <td>0.129139</td>\n",
       "      <td>0.0</td>\n",
       "      <td>0.0</td>\n",
       "    </tr>\n",
       "    <tr>\n",
       "      <th>2</th>\n",
       "      <td>2018-12-27</td>\n",
       "      <td>1</td>\n",
       "      <td>30328</td>\n",
       "      <td>0.030492</td>\n",
       "      <td>1</td>\n",
       "      <td>91</td>\n",
       "      <td>11823</td>\n",
       "      <td>3</td>\n",
       "      <td>15</td>\n",
       "      <td>2</td>\n",
       "      <td>...</td>\n",
       "      <td>3201</td>\n",
       "      <td>13090</td>\n",
       "      <td>13932</td>\n",
       "      <td>8525</td>\n",
       "      <td>14427</td>\n",
       "      <td>10582</td>\n",
       "      <td>0.166667</td>\n",
       "      <td>0.158940</td>\n",
       "      <td>0.0</td>\n",
       "      <td>0.0</td>\n",
       "    </tr>\n",
       "    <tr>\n",
       "      <th>3</th>\n",
       "      <td>2019-05-02</td>\n",
       "      <td>1</td>\n",
       "      <td>50725</td>\n",
       "      <td>0.010153</td>\n",
       "      <td>2</td>\n",
       "      <td>73</td>\n",
       "      <td>20579</td>\n",
       "      <td>1</td>\n",
       "      <td>5</td>\n",
       "      <td>1</td>\n",
       "      <td>...</td>\n",
       "      <td>2381</td>\n",
       "      <td>10972</td>\n",
       "      <td>12895</td>\n",
       "      <td>4407</td>\n",
       "      <td>10953</td>\n",
       "      <td>5609</td>\n",
       "      <td>NaN</td>\n",
       "      <td>0.169014</td>\n",
       "      <td>0.0</td>\n",
       "      <td>0.0</td>\n",
       "    </tr>\n",
       "    <tr>\n",
       "      <th>4</th>\n",
       "      <td>2019-05-25</td>\n",
       "      <td>1</td>\n",
       "      <td>16004</td>\n",
       "      <td>0.050831</td>\n",
       "      <td>2</td>\n",
       "      <td>70</td>\n",
       "      <td>5599</td>\n",
       "      <td>160</td>\n",
       "      <td>351</td>\n",
       "      <td>129</td>\n",
       "      <td>...</td>\n",
       "      <td>2145</td>\n",
       "      <td>8706</td>\n",
       "      <td>11189</td>\n",
       "      <td>9805</td>\n",
       "      <td>10172</td>\n",
       "      <td>9739</td>\n",
       "      <td>0.189273</td>\n",
       "      <td>0.281260</td>\n",
       "      <td>0.0</td>\n",
       "      <td>0.0</td>\n",
       "    </tr>\n",
       "  </tbody>\n",
       "</table>\n",
       "<p>5 rows × 23 columns</p>\n",
       "</div>\n",
       "      <button class=\"colab-df-convert\" onclick=\"convertToInteractive('df-e02a0039-0153-464d-ab39-e7c6cadbfbd5')\"\n",
       "              title=\"Convert this dataframe to an interactive table.\"\n",
       "              style=\"display:none;\">\n",
       "        \n",
       "  <svg xmlns=\"http://www.w3.org/2000/svg\" height=\"24px\"viewBox=\"0 0 24 24\"\n",
       "       width=\"24px\">\n",
       "    <path d=\"M0 0h24v24H0V0z\" fill=\"none\"/>\n",
       "    <path d=\"M18.56 5.44l.94 2.06.94-2.06 2.06-.94-2.06-.94-.94-2.06-.94 2.06-2.06.94zm-11 1L8.5 8.5l.94-2.06 2.06-.94-2.06-.94L8.5 2.5l-.94 2.06-2.06.94zm10 10l.94 2.06.94-2.06 2.06-.94-2.06-.94-.94-2.06-.94 2.06-2.06.94z\"/><path d=\"M17.41 7.96l-1.37-1.37c-.4-.4-.92-.59-1.43-.59-.52 0-1.04.2-1.43.59L10.3 9.45l-7.72 7.72c-.78.78-.78 2.05 0 2.83L4 21.41c.39.39.9.59 1.41.59.51 0 1.02-.2 1.41-.59l7.78-7.78 2.81-2.81c.8-.78.8-2.07 0-2.86zM5.41 20L4 18.59l7.72-7.72 1.47 1.35L5.41 20z\"/>\n",
       "  </svg>\n",
       "      </button>\n",
       "      \n",
       "  <style>\n",
       "    .colab-df-container {\n",
       "      display:flex;\n",
       "      flex-wrap:wrap;\n",
       "      gap: 12px;\n",
       "    }\n",
       "\n",
       "    .colab-df-convert {\n",
       "      background-color: #E8F0FE;\n",
       "      border: none;\n",
       "      border-radius: 50%;\n",
       "      cursor: pointer;\n",
       "      display: none;\n",
       "      fill: #1967D2;\n",
       "      height: 32px;\n",
       "      padding: 0 0 0 0;\n",
       "      width: 32px;\n",
       "    }\n",
       "\n",
       "    .colab-df-convert:hover {\n",
       "      background-color: #E2EBFA;\n",
       "      box-shadow: 0px 1px 2px rgba(60, 64, 67, 0.3), 0px 1px 3px 1px rgba(60, 64, 67, 0.15);\n",
       "      fill: #174EA6;\n",
       "    }\n",
       "\n",
       "    [theme=dark] .colab-df-convert {\n",
       "      background-color: #3B4455;\n",
       "      fill: #D2E3FC;\n",
       "    }\n",
       "\n",
       "    [theme=dark] .colab-df-convert:hover {\n",
       "      background-color: #434B5C;\n",
       "      box-shadow: 0px 1px 3px 1px rgba(0, 0, 0, 0.15);\n",
       "      filter: drop-shadow(0px 1px 2px rgba(0, 0, 0, 0.3));\n",
       "      fill: #FFFFFF;\n",
       "    }\n",
       "  </style>\n",
       "\n",
       "      <script>\n",
       "        const buttonEl =\n",
       "          document.querySelector('#df-e02a0039-0153-464d-ab39-e7c6cadbfbd5 button.colab-df-convert');\n",
       "        buttonEl.style.display =\n",
       "          google.colab.kernel.accessAllowed ? 'block' : 'none';\n",
       "\n",
       "        async function convertToInteractive(key) {\n",
       "          const element = document.querySelector('#df-e02a0039-0153-464d-ab39-e7c6cadbfbd5');\n",
       "          const dataTable =\n",
       "            await google.colab.kernel.invokeFunction('convertToInteractive',\n",
       "                                                     [key], {});\n",
       "          if (!dataTable) return;\n",
       "\n",
       "          const docLinkHtml = 'Like what you see? Visit the ' +\n",
       "            '<a target=\"_blank\" href=https://colab.research.google.com/notebooks/data_table.ipynb>data table notebook</a>'\n",
       "            + ' to learn more about interactive tables.';\n",
       "          element.innerHTML = '';\n",
       "          dataTable['output_type'] = 'display_data';\n",
       "          await google.colab.output.renderOutput(dataTable, element);\n",
       "          const docLink = document.createElement('div');\n",
       "          docLink.innerHTML = docLinkHtml;\n",
       "          element.appendChild(docLink);\n",
       "        }\n",
       "      </script>\n",
       "    </div>\n",
       "  </div>\n",
       "  "
      ],
      "text/plain": [
       "        t_dat  customer_id  article_id     price  sales_channel_id  week  \\\n",
       "0  2018-12-27            1       29517  0.044051                 1    91   \n",
       "1  2018-12-27            1         100  0.035576                 1    91   \n",
       "2  2018-12-27            1       30328  0.030492                 1    91   \n",
       "3  2019-05-02            1       50725  0.010153                 2    73   \n",
       "4  2019-05-25            1       16004  0.050831                 2    70   \n",
       "\n",
       "   product_code  item_sale  pro_sale  item_sale_uni  ...  \\\n",
       "0         11547         10        16              7  ...   \n",
       "1            37         17        84             16  ...   \n",
       "2         11823          3        15              2  ...   \n",
       "3         20579          1         5              1  ...   \n",
       "4          5599        160       351            129  ...   \n",
       "\n",
       "   product_type_no_sale  product_group_name_sale  \\\n",
       "0                  3201                    13090   \n",
       "1                  3146                    13090   \n",
       "2                  3201                    13090   \n",
       "3                  2381                    10972   \n",
       "4                  2145                     8706   \n",
       "\n",
       "   graphical_appearance_no_sale  colour_group_code_sale  \\\n",
       "0                         13932                    8525   \n",
       "1                         13932                   13323   \n",
       "2                         13932                    8525   \n",
       "3                         12895                    4407   \n",
       "4                         11189                    9805   \n",
       "\n",
       "   perceived_colour_value_id_sale  perceived_colour_master_id_sale  \\\n",
       "0                           14427                            10582   \n",
       "1                           14427                            13281   \n",
       "2                           14427                            10582   \n",
       "3                           10953                             5609   \n",
       "4                           10172                             9739   \n",
       "\n",
       "   i_repurchase_ratio  p_repurchase_ratio  purchased_item  purchased_pro  \n",
       "0            0.126904            0.141921             0.0            0.0  \n",
       "1            0.098616            0.129139             0.0            0.0  \n",
       "2            0.166667            0.158940             0.0            0.0  \n",
       "3                 NaN            0.169014             0.0            0.0  \n",
       "4            0.189273            0.281260             0.0            0.0  \n",
       "\n",
       "[5 rows x 23 columns]"
      ]
     },
     "execution_count": 16,
     "metadata": {},
     "output_type": "execute_result"
    }
   ],
   "source": [
    "inter = inter.merge(item[[\"article_id\", \"product_code\"]], on=\"article_id\", how=\"left\")\n",
    "\n",
    "\n",
    "inter[\"item_sale\"] = week_sale(inter, [\"article_id\"])\n",
    "inter[\"pro_sale\"] = week_sale(inter, [\"product_code\"])\n",
    "inter[\"item_sale_uni\"] = week_sale(inter, [\"article_id\"], True)\n",
    "inter[\"pro_sale_uni\"] = week_sale(inter, [\"product_code\"], True)\n",
    "\n",
    "inter[\"item_sale_ratio\"] = inter[\"item_sale\"] / (inter[\"pro_sale\"] + 1e-6)\n",
    "inter[\"item_sale_uni_ratio\"] = inter[\"pro_sale_uni\"] / (inter[\"pro_sale_uni\"] + 1e-6)\n",
    "\n",
    "item_feats = [\n",
    "    \"product_type_no\",\n",
    "    \"product_group_name\",\n",
    "    \"graphical_appearance_no\",\n",
    "    \"colour_group_code\",\n",
    "    \"perceived_colour_value_id\",\n",
    "    \"perceived_colour_master_id\",\n",
    "]\n",
    "inter = inter.merge(item[[\"article_id\", *item_feats]], on=\"article_id\", how=\"left\")\n",
    "\n",
    "for feat in tqdm(item_feats):\n",
    "    inter[f\"{feat}_sale\"] = week_sale(inter, [feat], f\"{feat}_sale\")\n",
    "\n",
    "inter = inter.drop(columns=item_feats)\n",
    "\n",
    "inter['i_repurchase_ratio'] = repurchase_ratio(inter, ['article_id'])\n",
    "inter['p_repurchase_ratio'] = repurchase_ratio(inter, ['product_code'])\n",
    "\n",
    "inter[\"purchased_item\"] = purchased_before(inter, [\"article_id\"])\n",
    "inter[\"purchased_pro\"] = purchased_before(inter, [\"product_code\"])\n",
    "\n",
    "print(inter.shape)\n",
    "inter.head()\n",
    "\n",
    "inter.to_parquet(data_dir / \"processed/processed_inter.pqt\")"
   ]
  },
  {
   "cell_type": "markdown",
   "metadata": {
    "id": "jywhBCAGGGQS"
   },
   "source": [
    "## Merge Features\n"
   ]
  },
  {
   "cell_type": "code",
   "execution_count": 3,
   "metadata": {
    "colab": {
     "base_uri": "https://localhost:8080/",
     "height": 396
    },
    "id": "cxSNgWvVuv2A",
    "outputId": "3bae10c5-cf5e-4760-e759-250322cae129"
   },
   "outputs": [
    {
     "ename": "KeyboardInterrupt",
     "evalue": "ignored",
     "output_type": "error",
     "traceback": [
      "\u001b[0;31m---------------------------------------------------------------------------\u001b[0m",
      "\u001b[0;31mKeyboardInterrupt\u001b[0m                         Traceback (most recent call last)",
      "\u001b[0;32m<ipython-input-3-0df393d6a67c>\u001b[0m in \u001b[0;36m<module>\u001b[0;34m()\u001b[0m\n\u001b[0;32m----> 1\u001b[0;31m \u001b[0minter\u001b[0m \u001b[0;34m=\u001b[0m \u001b[0mpd\u001b[0m\u001b[0;34m.\u001b[0m\u001b[0mread_parquet\u001b[0m\u001b[0;34m(\u001b[0m\u001b[0mdata_dir\u001b[0m \u001b[0;34m/\u001b[0m \u001b[0;34m\"processed/processed_inter.pqt\"\u001b[0m\u001b[0;34m)\u001b[0m\u001b[0;34m\u001b[0m\u001b[0;34m\u001b[0m\u001b[0m\n\u001b[0m\u001b[1;32m      2\u001b[0m \u001b[0mdata\u001b[0m\u001b[0;34m[\u001b[0m\u001b[0;34m\"inter\"\u001b[0m\u001b[0;34m]\u001b[0m \u001b[0;34m=\u001b[0m \u001b[0minter\u001b[0m\u001b[0;34m\u001b[0m\u001b[0;34m\u001b[0m\u001b[0m\n\u001b[1;32m      3\u001b[0m \u001b[0;34m\u001b[0m\u001b[0m\n\u001b[1;32m      4\u001b[0m \u001b[0;31m# #* embeddings from DSSM model\u001b[0m\u001b[0;34m\u001b[0m\u001b[0;34m\u001b[0m\u001b[0;34m\u001b[0m\u001b[0m\n\u001b[1;32m      5\u001b[0m \u001b[0;31m# dssm_user_embd = np.load(data_dir / \"external/dssm_user_embd.npy\", allow_pickle=True)\u001b[0m\u001b[0;34m\u001b[0m\u001b[0;34m\u001b[0m\u001b[0;34m\u001b[0m\u001b[0m\n",
      "\u001b[0;32m/usr/local/lib/python3.7/dist-packages/pandas/io/parquet.py\u001b[0m in \u001b[0;36mread_parquet\u001b[0;34m(path, engine, columns, storage_options, use_nullable_dtypes, **kwargs)\u001b[0m\n\u001b[1;32m    498\u001b[0m         \u001b[0mstorage_options\u001b[0m\u001b[0;34m=\u001b[0m\u001b[0mstorage_options\u001b[0m\u001b[0;34m,\u001b[0m\u001b[0;34m\u001b[0m\u001b[0;34m\u001b[0m\u001b[0m\n\u001b[1;32m    499\u001b[0m         \u001b[0muse_nullable_dtypes\u001b[0m\u001b[0;34m=\u001b[0m\u001b[0muse_nullable_dtypes\u001b[0m\u001b[0;34m,\u001b[0m\u001b[0;34m\u001b[0m\u001b[0;34m\u001b[0m\u001b[0m\n\u001b[0;32m--> 500\u001b[0;31m         \u001b[0;34m**\u001b[0m\u001b[0mkwargs\u001b[0m\u001b[0;34m,\u001b[0m\u001b[0;34m\u001b[0m\u001b[0;34m\u001b[0m\u001b[0m\n\u001b[0m\u001b[1;32m    501\u001b[0m     )\n",
      "\u001b[0;32m/usr/local/lib/python3.7/dist-packages/pandas/io/parquet.py\u001b[0m in \u001b[0;36mread\u001b[0;34m(self, path, columns, use_nullable_dtypes, storage_options, **kwargs)\u001b[0m\n\u001b[1;32m    238\u001b[0m         \u001b[0;32mtry\u001b[0m\u001b[0;34m:\u001b[0m\u001b[0;34m\u001b[0m\u001b[0;34m\u001b[0m\u001b[0m\n\u001b[1;32m    239\u001b[0m             result = self.api.parquet.read_table(\n\u001b[0;32m--> 240\u001b[0;31m                 \u001b[0mpath_or_handle\u001b[0m\u001b[0;34m,\u001b[0m \u001b[0mcolumns\u001b[0m\u001b[0;34m=\u001b[0m\u001b[0mcolumns\u001b[0m\u001b[0;34m,\u001b[0m \u001b[0;34m**\u001b[0m\u001b[0mkwargs\u001b[0m\u001b[0;34m\u001b[0m\u001b[0;34m\u001b[0m\u001b[0m\n\u001b[0m\u001b[1;32m    241\u001b[0m             ).to_pandas(**to_pandas_kwargs)\n\u001b[1;32m    242\u001b[0m             \u001b[0;32mif\u001b[0m \u001b[0mmanager\u001b[0m \u001b[0;34m==\u001b[0m \u001b[0;34m\"array\"\u001b[0m\u001b[0;34m:\u001b[0m\u001b[0;34m\u001b[0m\u001b[0;34m\u001b[0m\u001b[0m\n",
      "\u001b[0;32m/usr/local/lib/python3.7/dist-packages/pyarrow/parquet.py\u001b[0m in \u001b[0;36mread_table\u001b[0;34m(source, columns, use_threads, metadata, use_pandas_metadata, memory_map, read_dictionary, filesystem, filters, buffer_size, partitioning, use_legacy_dataset, ignore_prefixes, pre_buffer, coerce_int96_timestamp_unit)\u001b[0m\n\u001b[1;32m   1940\u001b[0m \u001b[0;34m\u001b[0m\u001b[0m\n\u001b[1;32m   1941\u001b[0m         return dataset.read(columns=columns, use_threads=use_threads,\n\u001b[0;32m-> 1942\u001b[0;31m                             use_pandas_metadata=use_pandas_metadata)\n\u001b[0m\u001b[1;32m   1943\u001b[0m \u001b[0;34m\u001b[0m\u001b[0m\n\u001b[1;32m   1944\u001b[0m     \u001b[0;32mif\u001b[0m \u001b[0mignore_prefixes\u001b[0m \u001b[0;32mis\u001b[0m \u001b[0;32mnot\u001b[0m \u001b[0;32mNone\u001b[0m\u001b[0;34m:\u001b[0m\u001b[0;34m\u001b[0m\u001b[0;34m\u001b[0m\u001b[0m\n",
      "\u001b[0;32m/usr/local/lib/python3.7/dist-packages/pyarrow/parquet.py\u001b[0m in \u001b[0;36mread\u001b[0;34m(self, columns, use_threads, use_pandas_metadata)\u001b[0m\n\u001b[1;32m   1776\u001b[0m         table = self._dataset.to_table(\n\u001b[1;32m   1777\u001b[0m             \u001b[0mcolumns\u001b[0m\u001b[0;34m=\u001b[0m\u001b[0mcolumns\u001b[0m\u001b[0;34m,\u001b[0m \u001b[0mfilter\u001b[0m\u001b[0;34m=\u001b[0m\u001b[0mself\u001b[0m\u001b[0;34m.\u001b[0m\u001b[0m_filter_expression\u001b[0m\u001b[0;34m,\u001b[0m\u001b[0;34m\u001b[0m\u001b[0;34m\u001b[0m\u001b[0m\n\u001b[0;32m-> 1778\u001b[0;31m             \u001b[0muse_threads\u001b[0m\u001b[0;34m=\u001b[0m\u001b[0muse_threads\u001b[0m\u001b[0;34m\u001b[0m\u001b[0;34m\u001b[0m\u001b[0m\n\u001b[0m\u001b[1;32m   1779\u001b[0m         )\n\u001b[1;32m   1780\u001b[0m \u001b[0;34m\u001b[0m\u001b[0m\n",
      "\u001b[0;31mKeyboardInterrupt\u001b[0m: "
     ]
    }
   ],
   "source": [
    "inter = pd.read_parquet(data_dir / \"processed/processed_inter.pqt\")\n",
    "data[\"inter\"] = inter\n",
    "\n",
    "# #* embeddings from DSSM model\n",
    "# dssm_user_embd = np.load(data_dir / \"external/dssm_user_embd.npy\", allow_pickle=True)\n",
    "# dssm_item_embd = np.load(data_dir / \"external/dssm_item_embd.npy\", allow_pickle=True)\n",
    "# # * embeddings from YouTubeDNN model\n",
    "# yt_user_embd = np.load(data_dir / \"external/yt_user_embd.npy\", allow_pickle=True)\n",
    "# yt_item_embd = np.load(data_dir / \"external/yt_item_embd.npy\", allow_pickle=True)\n",
    "\n",
    "for i in tqdm(range(WEEK_NUM)):\n",
    "    if i == 0 and not TEST:\n",
    "        continue\n",
    "        \n",
    "    candidate = pd.read_parquet(data_dir/\"interim\"/VERSION_NAME/f\"week{i}_candidate.pqt\")\n",
    "    # * merge features\n",
    "    candidate = merge_week_data(data, i, candidate)\n",
    "    # # * merge DSSM user and item embeddings\n",
    "    # candidate[\"dssm_similarity\"] = calc_embd_similarity(candidate, dssm_user_embd, dssm_item_embd)\n",
    "    # # * merge YouTubeDNN user and item embeddings\n",
    "    # candidate[\"yt_similarity\"] = calc_embd_similarity(candidate, yt_user_embd, yt_item_embd)\n",
    "\n",
    "    candidate.to_parquet(data_dir/\"processed\"/VERSION_NAME/f\"week{i}_candidate.pqt\")\n",
    "\n",
    "# del dssm_user_embd, dssm_item_embd, yt_user_embd, yt_item_embd\n",
    "# gc.collect()"
   ]
  },
  {
   "cell_type": "markdown",
   "metadata": {
    "id": "7Zml-cxryoU_"
   },
   "source": [
    "## Ranking\n"
   ]
  },
  {
   "cell_type": "code",
   "execution_count": 3,
   "metadata": {
    "colab": {
     "base_uri": "https://localhost:8080/"
    },
    "id": "xWqYwCbsdtIr",
    "outputId": "2359bb0c-5314-4e84-8e02-a64879d557cb"
   },
   "outputs": [
    {
     "name": "stderr",
     "output_type": "stream",
     "text": [
      "100%|██████████| 5/5 [00:03<00:00,  1.42it/s]\n",
      "100%|██████████| 14/14 [00:00<00:00, 15.53it/s]\n",
      "100%|██████████| 5/5 [00:07<00:00,  1.58s/it]\n"
     ]
    }
   ],
   "source": [
    "candidates = {}\n",
    "labels = {}\n",
    "for i in tqdm(range(1, WEEK_NUM)):\n",
    "    candidates[i] = pd.read_parquet(data_dir/\"processed\"/VERSION_NAME/f\"week{i}_candidate.pqt\")\n",
    "    labels[i] = pd.read_parquet(data_dir/\"processed\"/VERSION_NAME/f\"week{i}_label.pqt\")\n",
    "\n",
    "feats = [\n",
    "    x\n",
    "    for x in candidates[1].columns\n",
    "    if x\n",
    "    not in [\n",
    "        \"label\",\n",
    "        \"sales_channel_id\",\n",
    "        \"t_dat\",\n",
    "        \"week\",\n",
    "        \"WeekSaleTrend_item\",\n",
    "        \"WeekSaleTrend_pro\",\n",
    "        \"ThreeDaySaleTrend_item\",\n",
    "        \"ThreeDaySaleTrend_pro\",\n",
    "    ]\n",
    "]\n",
    "cat_features = [\n",
    "    \"customer_id\",\n",
    "    \"article_id\",\n",
    "    \"product_code\",\n",
    "    \"FN\",\n",
    "    \"Active\",\n",
    "    \"club_member_status\",\n",
    "    \"fashion_news_frequency\",\n",
    "    \"age\",\n",
    "    \"product_type_no\",\n",
    "    \"product_group_name\",\n",
    "    \"graphical_appearance_no\",\n",
    "    \"colour_group_code\",\n",
    "    \"perceived_colour_value_id\",\n",
    "    \"perceived_colour_master_id\",\n",
    "]\n",
    "\n",
    "# * Convert categorical featues as `CategoricalDtype`\n",
    "cate_dict = {}        \n",
    "for feat in tqdm(cat_features):\n",
    "    if feat in data['user'].columns:\n",
    "        value_set = set(data['user'][feat].unique())\n",
    "    elif feat in data['item'].columns:\n",
    "        value_set = set(data['item'][feat].unique())\n",
    "    else:\n",
    "        value_set = set(data['inter'][feat].unique())\n",
    "    cate_dict[feat] = CategoricalDtype(categories=value_set)\n",
    "\n",
    "for i in tqdm(range(1,WEEK_NUM)):\n",
    "    for feat in cat_features:\n",
    "        candidates[i][feat] = candidates[i][feat].astype(cate_dict[feat])"
   ]
  },
  {
   "cell_type": "markdown",
   "metadata": {
    "id": "3RojtbK9GGQU"
   },
   "source": [
    "### Train\n"
   ]
  },
  {
   "cell_type": "code",
   "execution_count": 33,
   "metadata": {
    "colab": {
     "base_uri": "https://localhost:8080/",
     "height": 388
    },
    "id": "V57TB_ol9Rsd",
    "outputId": "f5705382-3211-433d-a9a9-67edf17ec926"
   },
   "outputs": [
    {
     "data": {
      "text/html": [
       "\n",
       "  <div id=\"df-d2beb39a-3f14-4939-96c7-39fae7cad7c7\">\n",
       "    <div class=\"colab-df-container\">\n",
       "      <div>\n",
       "<style scoped>\n",
       "    .dataframe tbody tr th:only-of-type {\n",
       "        vertical-align: middle;\n",
       "    }\n",
       "\n",
       "    .dataframe tbody tr th {\n",
       "        vertical-align: top;\n",
       "    }\n",
       "\n",
       "    .dataframe thead th {\n",
       "        text-align: right;\n",
       "    }\n",
       "</style>\n",
       "<table border=\"1\" class=\"dataframe\">\n",
       "  <thead>\n",
       "    <tr style=\"text-align: right;\">\n",
       "      <th></th>\n",
       "      <th>customer_id</th>\n",
       "      <th>FN</th>\n",
       "      <th>Active</th>\n",
       "      <th>club_member_status</th>\n",
       "      <th>fashion_news_frequency</th>\n",
       "      <th>age</th>\n",
       "      <th>postal_code</th>\n",
       "    </tr>\n",
       "  </thead>\n",
       "  <tbody>\n",
       "    <tr>\n",
       "      <th>0</th>\n",
       "      <td>1</td>\n",
       "      <td>1</td>\n",
       "      <td>1</td>\n",
       "      <td>2</td>\n",
       "      <td>3</td>\n",
       "      <td>49</td>\n",
       "      <td>112979</td>\n",
       "    </tr>\n",
       "    <tr>\n",
       "      <th>1</th>\n",
       "      <td>2</td>\n",
       "      <td>1</td>\n",
       "      <td>1</td>\n",
       "      <td>2</td>\n",
       "      <td>3</td>\n",
       "      <td>25</td>\n",
       "      <td>57313</td>\n",
       "    </tr>\n",
       "    <tr>\n",
       "      <th>2</th>\n",
       "      <td>3</td>\n",
       "      <td>1</td>\n",
       "      <td>1</td>\n",
       "      <td>2</td>\n",
       "      <td>3</td>\n",
       "      <td>24</td>\n",
       "      <td>139157</td>\n",
       "    </tr>\n",
       "    <tr>\n",
       "      <th>3</th>\n",
       "      <td>4</td>\n",
       "      <td>1</td>\n",
       "      <td>1</td>\n",
       "      <td>2</td>\n",
       "      <td>3</td>\n",
       "      <td>54</td>\n",
       "      <td>128530</td>\n",
       "    </tr>\n",
       "    <tr>\n",
       "      <th>4</th>\n",
       "      <td>5</td>\n",
       "      <td>2</td>\n",
       "      <td>2</td>\n",
       "      <td>2</td>\n",
       "      <td>5</td>\n",
       "      <td>52</td>\n",
       "      <td>52372</td>\n",
       "    </tr>\n",
       "    <tr>\n",
       "      <th>...</th>\n",
       "      <td>...</td>\n",
       "      <td>...</td>\n",
       "      <td>...</td>\n",
       "      <td>...</td>\n",
       "      <td>...</td>\n",
       "      <td>...</td>\n",
       "      <td>...</td>\n",
       "    </tr>\n",
       "    <tr>\n",
       "      <th>1371975</th>\n",
       "      <td>1371976</td>\n",
       "      <td>1</td>\n",
       "      <td>1</td>\n",
       "      <td>2</td>\n",
       "      <td>3</td>\n",
       "      <td>24</td>\n",
       "      <td>169172</td>\n",
       "    </tr>\n",
       "    <tr>\n",
       "      <th>1371976</th>\n",
       "      <td>1371977</td>\n",
       "      <td>1</td>\n",
       "      <td>1</td>\n",
       "      <td>2</td>\n",
       "      <td>3</td>\n",
       "      <td>21</td>\n",
       "      <td>87256</td>\n",
       "    </tr>\n",
       "    <tr>\n",
       "      <th>1371977</th>\n",
       "      <td>1371978</td>\n",
       "      <td>2</td>\n",
       "      <td>2</td>\n",
       "      <td>2</td>\n",
       "      <td>5</td>\n",
       "      <td>21</td>\n",
       "      <td>95708</td>\n",
       "    </tr>\n",
       "    <tr>\n",
       "      <th>1371978</th>\n",
       "      <td>1371979</td>\n",
       "      <td>2</td>\n",
       "      <td>2</td>\n",
       "      <td>2</td>\n",
       "      <td>5</td>\n",
       "      <td>18</td>\n",
       "      <td>188280</td>\n",
       "    </tr>\n",
       "    <tr>\n",
       "      <th>1371979</th>\n",
       "      <td>1371980</td>\n",
       "      <td>1</td>\n",
       "      <td>1</td>\n",
       "      <td>4</td>\n",
       "      <td>3</td>\n",
       "      <td>65</td>\n",
       "      <td>13928</td>\n",
       "    </tr>\n",
       "  </tbody>\n",
       "</table>\n",
       "<p>1371980 rows × 7 columns</p>\n",
       "</div>\n",
       "      <button class=\"colab-df-convert\" onclick=\"convertToInteractive('df-d2beb39a-3f14-4939-96c7-39fae7cad7c7')\"\n",
       "              title=\"Convert this dataframe to an interactive table.\"\n",
       "              style=\"display:none;\">\n",
       "        \n",
       "  <svg xmlns=\"http://www.w3.org/2000/svg\" height=\"24px\"viewBox=\"0 0 24 24\"\n",
       "       width=\"24px\">\n",
       "    <path d=\"M0 0h24v24H0V0z\" fill=\"none\"/>\n",
       "    <path d=\"M18.56 5.44l.94 2.06.94-2.06 2.06-.94-2.06-.94-.94-2.06-.94 2.06-2.06.94zm-11 1L8.5 8.5l.94-2.06 2.06-.94-2.06-.94L8.5 2.5l-.94 2.06-2.06.94zm10 10l.94 2.06.94-2.06 2.06-.94-2.06-.94-.94-2.06-.94 2.06-2.06.94z\"/><path d=\"M17.41 7.96l-1.37-1.37c-.4-.4-.92-.59-1.43-.59-.52 0-1.04.2-1.43.59L10.3 9.45l-7.72 7.72c-.78.78-.78 2.05 0 2.83L4 21.41c.39.39.9.59 1.41.59.51 0 1.02-.2 1.41-.59l7.78-7.78 2.81-2.81c.8-.78.8-2.07 0-2.86zM5.41 20L4 18.59l7.72-7.72 1.47 1.35L5.41 20z\"/>\n",
       "  </svg>\n",
       "      </button>\n",
       "      \n",
       "  <style>\n",
       "    .colab-df-container {\n",
       "      display:flex;\n",
       "      flex-wrap:wrap;\n",
       "      gap: 12px;\n",
       "    }\n",
       "\n",
       "    .colab-df-convert {\n",
       "      background-color: #E8F0FE;\n",
       "      border: none;\n",
       "      border-radius: 50%;\n",
       "      cursor: pointer;\n",
       "      display: none;\n",
       "      fill: #1967D2;\n",
       "      height: 32px;\n",
       "      padding: 0 0 0 0;\n",
       "      width: 32px;\n",
       "    }\n",
       "\n",
       "    .colab-df-convert:hover {\n",
       "      background-color: #E2EBFA;\n",
       "      box-shadow: 0px 1px 2px rgba(60, 64, 67, 0.3), 0px 1px 3px 1px rgba(60, 64, 67, 0.15);\n",
       "      fill: #174EA6;\n",
       "    }\n",
       "\n",
       "    [theme=dark] .colab-df-convert {\n",
       "      background-color: #3B4455;\n",
       "      fill: #D2E3FC;\n",
       "    }\n",
       "\n",
       "    [theme=dark] .colab-df-convert:hover {\n",
       "      background-color: #434B5C;\n",
       "      box-shadow: 0px 1px 3px 1px rgba(0, 0, 0, 0.15);\n",
       "      filter: drop-shadow(0px 1px 2px rgba(0, 0, 0, 0.3));\n",
       "      fill: #FFFFFF;\n",
       "    }\n",
       "  </style>\n",
       "\n",
       "      <script>\n",
       "        const buttonEl =\n",
       "          document.querySelector('#df-d2beb39a-3f14-4939-96c7-39fae7cad7c7 button.colab-df-convert');\n",
       "        buttonEl.style.display =\n",
       "          google.colab.kernel.accessAllowed ? 'block' : 'none';\n",
       "\n",
       "        async function convertToInteractive(key) {\n",
       "          const element = document.querySelector('#df-d2beb39a-3f14-4939-96c7-39fae7cad7c7');\n",
       "          const dataTable =\n",
       "            await google.colab.kernel.invokeFunction('convertToInteractive',\n",
       "                                                     [key], {});\n",
       "          if (!dataTable) return;\n",
       "\n",
       "          const docLinkHtml = 'Like what you see? Visit the ' +\n",
       "            '<a target=\"_blank\" href=https://colab.research.google.com/notebooks/data_table.ipynb>data table notebook</a>'\n",
       "            + ' to learn more about interactive tables.';\n",
       "          element.innerHTML = '';\n",
       "          dataTable['output_type'] = 'display_data';\n",
       "          await google.colab.output.renderOutput(dataTable, element);\n",
       "          const docLink = document.createElement('div');\n",
       "          docLink.innerHTML = docLinkHtml;\n",
       "          element.appendChild(docLink);\n",
       "        }\n",
       "      </script>\n",
       "    </div>\n",
       "  </div>\n",
       "  "
      ],
      "text/plain": [
       "         customer_id  FN  Active  club_member_status  fashion_news_frequency  \\\n",
       "0                  1   1       1                   2                       3   \n",
       "1                  2   1       1                   2                       3   \n",
       "2                  3   1       1                   2                       3   \n",
       "3                  4   1       1                   2                       3   \n",
       "4                  5   2       2                   2                       5   \n",
       "...              ...  ..     ...                 ...                     ...   \n",
       "1371975      1371976   1       1                   2                       3   \n",
       "1371976      1371977   1       1                   2                       3   \n",
       "1371977      1371978   2       2                   2                       5   \n",
       "1371978      1371979   2       2                   2                       5   \n",
       "1371979      1371980   1       1                   4                       3   \n",
       "\n",
       "         age  postal_code  \n",
       "0         49       112979  \n",
       "1         25        57313  \n",
       "2         24       139157  \n",
       "3         54       128530  \n",
       "4         52        52372  \n",
       "...      ...          ...  \n",
       "1371975   24       169172  \n",
       "1371976   21        87256  \n",
       "1371977   21        95708  \n",
       "1371978   18       188280  \n",
       "1371979   65        13928  \n",
       "\n",
       "[1371980 rows x 7 columns]"
      ]
     },
     "execution_count": 33,
     "metadata": {},
     "output_type": "execute_result"
    }
   ],
   "source": [
    "data['user']"
   ]
  },
  {
   "cell_type": "code",
   "execution_count": 4,
   "metadata": {
    "colab": {
     "base_uri": "https://localhost:8080/",
     "height": 189
    },
    "id": "JZMt_s4P5mo3",
    "outputId": "118ca282-6484-48d9-da07-063c560b5c60"
   },
   "outputs": [
    {
     "data": {
      "text/html": [
       "\n",
       "  <div id=\"df-15f113ed-9c1a-4fc9-8439-8e9678f8231b\">\n",
       "    <div class=\"colab-df-container\">\n",
       "      <div>\n",
       "<style scoped>\n",
       "    .dataframe tbody tr th:only-of-type {\n",
       "        vertical-align: middle;\n",
       "    }\n",
       "\n",
       "    .dataframe tbody tr th {\n",
       "        vertical-align: top;\n",
       "    }\n",
       "\n",
       "    .dataframe thead th {\n",
       "        text-align: right;\n",
       "    }\n",
       "</style>\n",
       "<table border=\"1\" class=\"dataframe\">\n",
       "  <thead>\n",
       "    <tr style=\"text-align: right;\">\n",
       "      <th></th>\n",
       "      <th>t_dat</th>\n",
       "      <th>customer_id</th>\n",
       "      <th>article_id</th>\n",
       "      <th>price</th>\n",
       "      <th>sales_channel_id</th>\n",
       "    </tr>\n",
       "  </thead>\n",
       "  <tbody>\n",
       "    <tr>\n",
       "      <th>0</th>\n",
       "      <td>2018-09-20</td>\n",
       "      <td>3</td>\n",
       "      <td>40180</td>\n",
       "      <td>0.050831</td>\n",
       "      <td>2</td>\n",
       "    </tr>\n",
       "    <tr>\n",
       "      <th>1</th>\n",
       "      <td>2018-09-20</td>\n",
       "      <td>3</td>\n",
       "      <td>10521</td>\n",
       "      <td>0.030492</td>\n",
       "      <td>2</td>\n",
       "    </tr>\n",
       "    <tr>\n",
       "      <th>2</th>\n",
       "      <td>2018-09-20</td>\n",
       "      <td>8</td>\n",
       "      <td>6388</td>\n",
       "      <td>0.015237</td>\n",
       "      <td>2</td>\n",
       "    </tr>\n",
       "    <tr>\n",
       "      <th>3</th>\n",
       "      <td>2018-09-20</td>\n",
       "      <td>8</td>\n",
       "      <td>46305</td>\n",
       "      <td>0.016932</td>\n",
       "      <td>2</td>\n",
       "    </tr>\n",
       "    <tr>\n",
       "      <th>4</th>\n",
       "      <td>2018-09-20</td>\n",
       "      <td>8</td>\n",
       "      <td>46306</td>\n",
       "      <td>0.016932</td>\n",
       "      <td>2</td>\n",
       "    </tr>\n",
       "  </tbody>\n",
       "</table>\n",
       "</div>\n",
       "      <button class=\"colab-df-convert\" onclick=\"convertToInteractive('df-15f113ed-9c1a-4fc9-8439-8e9678f8231b')\"\n",
       "              title=\"Convert this dataframe to an interactive table.\"\n",
       "              style=\"display:none;\">\n",
       "        \n",
       "  <svg xmlns=\"http://www.w3.org/2000/svg\" height=\"24px\"viewBox=\"0 0 24 24\"\n",
       "       width=\"24px\">\n",
       "    <path d=\"M0 0h24v24H0V0z\" fill=\"none\"/>\n",
       "    <path d=\"M18.56 5.44l.94 2.06.94-2.06 2.06-.94-2.06-.94-.94-2.06-.94 2.06-2.06.94zm-11 1L8.5 8.5l.94-2.06 2.06-.94-2.06-.94L8.5 2.5l-.94 2.06-2.06.94zm10 10l.94 2.06.94-2.06 2.06-.94-2.06-.94-.94-2.06-.94 2.06-2.06.94z\"/><path d=\"M17.41 7.96l-1.37-1.37c-.4-.4-.92-.59-1.43-.59-.52 0-1.04.2-1.43.59L10.3 9.45l-7.72 7.72c-.78.78-.78 2.05 0 2.83L4 21.41c.39.39.9.59 1.41.59.51 0 1.02-.2 1.41-.59l7.78-7.78 2.81-2.81c.8-.78.8-2.07 0-2.86zM5.41 20L4 18.59l7.72-7.72 1.47 1.35L5.41 20z\"/>\n",
       "  </svg>\n",
       "      </button>\n",
       "      \n",
       "  <style>\n",
       "    .colab-df-container {\n",
       "      display:flex;\n",
       "      flex-wrap:wrap;\n",
       "      gap: 12px;\n",
       "    }\n",
       "\n",
       "    .colab-df-convert {\n",
       "      background-color: #E8F0FE;\n",
       "      border: none;\n",
       "      border-radius: 50%;\n",
       "      cursor: pointer;\n",
       "      display: none;\n",
       "      fill: #1967D2;\n",
       "      height: 32px;\n",
       "      padding: 0 0 0 0;\n",
       "      width: 32px;\n",
       "    }\n",
       "\n",
       "    .colab-df-convert:hover {\n",
       "      background-color: #E2EBFA;\n",
       "      box-shadow: 0px 1px 2px rgba(60, 64, 67, 0.3), 0px 1px 3px 1px rgba(60, 64, 67, 0.15);\n",
       "      fill: #174EA6;\n",
       "    }\n",
       "\n",
       "    [theme=dark] .colab-df-convert {\n",
       "      background-color: #3B4455;\n",
       "      fill: #D2E3FC;\n",
       "    }\n",
       "\n",
       "    [theme=dark] .colab-df-convert:hover {\n",
       "      background-color: #434B5C;\n",
       "      box-shadow: 0px 1px 3px 1px rgba(0, 0, 0, 0.15);\n",
       "      filter: drop-shadow(0px 1px 2px rgba(0, 0, 0, 0.3));\n",
       "      fill: #FFFFFF;\n",
       "    }\n",
       "  </style>\n",
       "\n",
       "      <script>\n",
       "        const buttonEl =\n",
       "          document.querySelector('#df-15f113ed-9c1a-4fc9-8439-8e9678f8231b button.colab-df-convert');\n",
       "        buttonEl.style.display =\n",
       "          google.colab.kernel.accessAllowed ? 'block' : 'none';\n",
       "\n",
       "        async function convertToInteractive(key) {\n",
       "          const element = document.querySelector('#df-15f113ed-9c1a-4fc9-8439-8e9678f8231b');\n",
       "          const dataTable =\n",
       "            await google.colab.kernel.invokeFunction('convertToInteractive',\n",
       "                                                     [key], {});\n",
       "          if (!dataTable) return;\n",
       "\n",
       "          const docLinkHtml = 'Like what you see? Visit the ' +\n",
       "            '<a target=\"_blank\" href=https://colab.research.google.com/notebooks/data_table.ipynb>data table notebook</a>'\n",
       "            + ' to learn more about interactive tables.';\n",
       "          element.innerHTML = '';\n",
       "          dataTable['output_type'] = 'display_data';\n",
       "          await google.colab.output.renderOutput(dataTable, element);\n",
       "          const docLink = document.createElement('div');\n",
       "          docLink.innerHTML = docLinkHtml;\n",
       "          element.appendChild(docLink);\n",
       "        }\n",
       "      </script>\n",
       "    </div>\n",
       "  </div>\n",
       "  "
      ],
      "text/plain": [
       "        t_dat  customer_id  article_id     price  sales_channel_id\n",
       "0  2018-09-20            3       40180  0.050831                 2\n",
       "1  2018-09-20            3       10521  0.030492                 2\n",
       "2  2018-09-20            8        6388  0.015237                 2\n",
       "3  2018-09-20            8       46305  0.016932                 2\n",
       "4  2018-09-20            8       46306  0.016932                 2"
      ]
     },
     "execution_count": 4,
     "metadata": {},
     "output_type": "execute_result"
    }
   ],
   "source": [
    "inter = data['inter']\n",
    "inter.head()"
   ]
  },
  {
   "cell_type": "code",
   "execution_count": 35,
   "metadata": {
    "colab": {
     "base_uri": "https://localhost:8080/"
    },
    "id": "XmI-moMK-P0h",
    "outputId": "fb2a6506-1dee-4b6f-f462-e2a29f47e79c"
   },
   "outputs": [
    {
     "name": "stdout",
     "output_type": "stream",
     "text": [
      "Mounted at /content/drive\n"
     ]
    }
   ],
   "source": [
    "from google.colab import drive\n",
    "drive.mount('/content/drive')"
   ]
  },
  {
   "cell_type": "code",
   "execution_count": 5,
   "metadata": {
    "id": "_obyQP1gia3-"
   },
   "outputs": [],
   "source": [
    "inter['t_dat'] = pd.to_datetime(inter['t_dat'])\n",
    "last_week_start = pd.to_datetime(\"2020-09-14\")\n",
    "last_week_end = pd.to_datetime(\"2020-06-01\")\n",
    "\n",
    "inter = inter.loc[(inter.t_dat <= last_week_start)]\n"
   ]
  },
  {
   "cell_type": "code",
   "execution_count": 37,
   "metadata": {
    "id": "Qc3sLdTq5jwv"
   },
   "outputs": [],
   "source": [
    "from gensim.models import Word2Vec\n",
    "from gensim.models import KeyedVectors\n",
    "import os\n",
    "\n",
    "if os.path.exists('./articleid_model_cbow.model'):\n",
    "    model_sg = Word2Vec.load('./articleid_model_cbow.model')\n",
    "else:\n",
    "    feedid_seq_list = inter.groupby(['customer_id']).article_id.apply(lambda x: [str(id) for id in x] ).values\n",
    "    \n",
    "    model_sg = Word2Vec(feedid_seq_list,  size=64, window=32, min_count=1, sg=0, sample=1e-3, negative=15, workers=32, seed=1, iter=10)\n",
    "    model_sg.save('./articleid_model_cbow.model')"
   ]
  },
  {
   "cell_type": "code",
   "execution_count": 38,
   "metadata": {
    "id": "5CPdZW1IC-87"
   },
   "outputs": [],
   "source": [
    "feedid_seq_list = inter.groupby('customer_id').article_id.apply(lambda x: [str(id) for id in x] )\n",
    "feedid_seq_list = feedid_seq_list.reset_index()"
   ]
  },
  {
   "cell_type": "code",
   "execution_count": 39,
   "metadata": {
    "colab": {
     "base_uri": "https://localhost:8080/"
    },
    "id": "KoUofXyRFkdr",
    "outputId": "24a8d34f-aba0-4240-fff7-b2f3528105d0"
   },
   "outputs": [
    {
     "name": "stderr",
     "output_type": "stream",
     "text": [
      "100%|██████████| 1356132/1356132 [03:25<00:00, 6591.36it/s]\n"
     ]
    }
   ],
   "source": [
    "from collections import defaultdict\n",
    "\n",
    "dict_customer_id_vec = defaultdict(lambda : np.ones(64)/64)\n",
    "\n",
    "for item in tqdm(feedid_seq_list.values):\n",
    "  if len(item[1])>1:\n",
    "    vec = np.mean(list(map(lambda x: model_sg[x], item[1])), axis=0)\n",
    "  else:\n",
    "    vec = model_sg[item[1][0]]\n",
    "  \n",
    "  dict_customer_id_vec[item[0]] = vec/np.sqrt(np.sum(vec**2))\n",
    "  "
   ]
  },
  {
   "cell_type": "code",
   "execution_count": 40,
   "metadata": {
    "id": "XrwIdDnQ6owD"
   },
   "outputs": [],
   "source": [
    "# * some rules are skipped for some weeks, we need to concat them together\n",
    "# * to merge the columns\n",
    "full_data = pd.concat([candidates[i] for i in range(1, WEEK_NUM)], ignore_index=True)"
   ]
  },
  {
   "cell_type": "code",
   "execution_count": 42,
   "metadata": {
    "colab": {
     "base_uri": "https://localhost:8080/"
    },
    "id": "2InGELn93-Ly",
    "outputId": "86a36c42-b0df-4413-a2a4-7af96f8cccf8"
   },
   "outputs": [
    {
     "name": "stderr",
     "output_type": "stream",
     "text": [
      "100%|██████████| 12845149/12845149 [00:07<00:00, 1778392.57it/s]\n"
     ]
    },
    {
     "data": {
      "text/plain": [
       "226"
      ]
     },
     "execution_count": 42,
     "metadata": {},
     "output_type": "execute_result"
    }
   ],
   "source": [
    "dict_v = {}\n",
    "def get_embedding(x):\n",
    "  try:\n",
    "    return dict_v[x]\n",
    "  except:\n",
    "    try:\n",
    "      vec = model_sg[str(x)].astype('float32')\n",
    "    except:\n",
    "      vec = np.ones(64).astype('float32')/64\n",
    "    dict_v[x] = vec/np.sqrt(np.sum(vec**2))\n",
    "    return dict_v[x]\n",
    "\n",
    "article_embedding = np.vstack(list(map(get_embedding, tqdm(full_data.article_id.values)))).astype('float32')\n",
    "\n",
    "del dict_v\n",
    "import gc  \n",
    "gc.collect()"
   ]
  },
  {
   "cell_type": "code",
   "execution_count": 43,
   "metadata": {
    "colab": {
     "base_uri": "https://localhost:8080/"
    },
    "id": "NityJ40EGnbz",
    "outputId": "588baa0b-ea5f-47ce-bd31-83ed9477ed52"
   },
   "outputs": [
    {
     "name": "stderr",
     "output_type": "stream",
     "text": [
      "100%|██████████| 12845149/12845149 [00:14<00:00, 906678.98it/s]\n"
     ]
    }
   ],
   "source": [
    "customer_embedding = np.vstack(list(map(lambda x: dict_customer_id_vec[x].astype('float32'), tqdm(full_data.customer_id.values)))).astype('float32')"
   ]
  },
  {
   "cell_type": "code",
   "execution_count": 44,
   "metadata": {
    "id": "8r4x_nS5Gv9d"
   },
   "outputs": [],
   "source": [
    "from scipy.stats import skew, kurtosis\n",
    "from scipy.spatial.distance import cosine, cityblock, jaccard, canberra, euclidean, minkowski, braycurtis\n",
    "\n",
    "question1_vec = article_embedding\n",
    "question2_vec = customer_embedding\n",
    "\n",
    "full_data['cosine']     = (article_embedding * customer_embedding).sum(axis=-1) #[cosine(x, y)       for (x, y) in tqdm(zip(question1_vec, question2_vec))]\n",
    "\n",
    "# full_data['cityblock']  = [cityblock(x, y)    for (x, y) in tqdm(zip(question1_vec, question2_vec))]\n",
    "# full_data['canberra']   = [canberra(x, y)     for (x, y) in tqdm(zip(question1_vec, question2_vec))]\n",
    "# full_data['euclidean']  = [euclidean(x, y)    for (x, y) in tqdm(zip(question1_vec, question2_vec))]\n",
    "# full_data['minkowski']  = [minkowski(x, y, 3) for (x, y) in tqdm(zip(question1_vec, question2_vec))]\n",
    "# full_data['braycurtis'] = [braycurtis(x, y)   for (x, y) in tqdm(zip(question1_vec, question2_vec))]\n",
    "\n",
    "# full_data['skew_q1'] = [skew(x) for x in question1_vec]\n",
    "# full_data['skew_q2'] = [skew(x) for x in question2_vec]\n",
    "# full_data['kur_q1']  = [kurtosis(x) for x in question1_vec]\n",
    "# full_data['kur_q2']  = [kurtosis(x) for x in question2_vec]\n",
    "\n",
    "# full_data['skew_diff'] = np.abs(data['skew_q1'] - data['skew_q2'])\n",
    "# full_data['kur_diff']  = np.abs(data['kur_q1'] - data['kur_q2'])"
   ]
  },
  {
   "cell_type": "code",
   "execution_count": 24,
   "metadata": {
    "id": "0r--rOA4TRvs"
   },
   "outputs": [],
   "source": [
    "# extra_feats = ['cosine', 'cityblock', 'canberra', 'euclidean', 'minkowski', 'braycurtis']"
   ]
  },
  {
   "cell_type": "code",
   "execution_count": 45,
   "metadata": {
    "id": "XZ_CBOPi737i"
   },
   "outputs": [],
   "source": [
    "for AGG in ['sum', 'mean']:\n",
    "  dictmap = inter.groupby('customer_id').price.agg(AGG)\n",
    "  full_data[f'customer_id_price_{AGG}'] = full_data['customer_id'].map(dictmap)\n",
    "\n",
    "for AGG in ['sum', 'mean']:\n",
    "  dictmap = inter.groupby('article_id').price.agg(AGG)\n",
    "  full_data[f'article_id_price_{AGG}'] = full_data['article_id'].map(dictmap)\n",
    "\n",
    "for AGG in ['mean']:\n",
    "  dictmap = inter.groupby('article_id').sales_channel_id.agg(AGG)\n",
    "  full_data[f'article_id_sales_channel_id_{AGG}'] = full_data['article_id'].map(dictmap)\n",
    "\n",
    "  dictmap = inter.groupby('customer_id').sales_channel_id.agg(AGG)\n",
    "  full_data[f'customer_id_sales_channel_id_{AGG}'] = full_data['customer_id'].map(dictmap)\n",
    "\n",
    "full_data['diff_price'] = full_data['customer_id_price_mean']/full_data['article_id_price_mean']\n",
    "full_data['diff_channel'] = full_data['article_id_sales_channel_id_mean']-full_data['customer_id_sales_channel_id_mean']\n"
   ]
  },
  {
   "cell_type": "code",
   "execution_count": 51,
   "metadata": {
    "id": "GPv2fQrc73t2"
   },
   "outputs": [],
   "source": [
    "extra_feats = ['cosine', ] "
   ]
  },
  {
   "cell_type": "code",
   "execution_count": 26,
   "metadata": {
    "id": "4nLE-RJo73o7"
   },
   "outputs": [],
   "source": [
    ""
   ]
  },
  {
   "cell_type": "code",
   "execution_count": 27,
   "metadata": {
    "id": "O5FvC0IS3-Rc"
   },
   "outputs": [],
   "source": [
    "# for i in range(64):\n",
    "#   full_data[f'extra_feat{i}'] = article_embedding[:,i].astype('float16')\n",
    "#   full_data[f'extra_feat{i}'] = full_data[f'extra_feat{i}'].astype('float16')"
   ]
  },
  {
   "cell_type": "code",
   "execution_count": 28,
   "metadata": {
    "id": "9LyNw4rjHoNh"
   },
   "outputs": [],
   "source": [
    "# for i in range(64):\n",
    "#   full_data[f'extra_feat_{i}'] = customer_embedding[:,i].astype('float16')\n",
    "#   full_data[f'extra_feat_{i}'] = full_data[f'extra_feat_{i}'].astype('float16')"
   ]
  },
  {
   "cell_type": "code",
   "execution_count": 13,
   "metadata": {
    "id": "Dugs6iU85GMt"
   },
   "outputs": [],
   "source": [
    "# extra_feats = [f'extra_feat{i}' for i in range(64)] + [f'extra_feat_{i}' for i in range(64)]"
   ]
  },
  {
   "cell_type": "code",
   "execution_count": null,
   "metadata": {
    "id": "quqsohIw4Qq0"
   },
   "outputs": [],
   "source": [
    ""
   ]
  },
  {
   "cell_type": "code",
   "execution_count": null,
   "metadata": {
    "colab": {
     "base_uri": "https://localhost:8080/"
    },
    "id": "o_97QhS56owD",
    "outputId": "60e5715d-6d40-4d23-e175-d72f0d2807f9"
   },
   "outputs": [
    {
     "name": "stdout",
     "output_type": "stream",
     "text": [
      "Validating week: 1\n",
      "Train positive rate: 0.0067018773363074985\n",
      "Training until validation scores don't improve for 100 rounds.\n",
      "[10]\tvalid_0's map@12: 0.826219\n",
      "[20]\tvalid_0's map@12: 0.827753\n",
      "[30]\tvalid_0's map@12: 0.828029\n",
      "[40]\tvalid_0's map@12: 0.828277\n",
      "[50]\tvalid_0's map@12: 0.8281\n"
     ]
    }
   ],
   "source": [
    "def train_model(full_data, valid_week_num, train_week_num=4):\n",
    "    print(\"Validating week:\", valid_week_num)\n",
    "    train = full_data[\n",
    "        (valid_week_num < full_data[\"week\"])\n",
    "        & (full_data[\"week\"] <= valid_week_num + train_week_num)\n",
    "    ]\n",
    "    valid = full_data[full_data[\"week\"] == valid_week_num]\n",
    "    train = train.sort_values(by=[\"week\", \"customer_id\"], ascending=True).reset_index(\n",
    "        drop=True\n",
    "    )\n",
    "    valid = valid.sort_values(by=[\"customer_id\"], ascending=True).reset_index(drop=True)\n",
    "    print(\"Train positive rate:\", train.label.mean())  # 0.9946384702188372 4-week\n",
    "\n",
    "    train_group = train[[\"customer_id\", \"article_id\", \"week\"]]\n",
    "    train_group = train_group.astype(\n",
    "        \"int\"\n",
    "    )  # * convert to int to avoid `0` in groupby count result\n",
    "    train_group = (\n",
    "        train_group.groupby([\"week\", \"customer_id\"])[\"article_id\"].count().values\n",
    "    )\n",
    "\n",
    "    valid_group = valid[[\"customer_id\", \"article_id\"]]\n",
    "    valid_group = valid_group.astype(\n",
    "        \"int\"\n",
    "    )  # * convert to int to avoid `0` in groupby count result\n",
    "    valid_group = valid_group.groupby([\"customer_id\"])[\"article_id\"].count().values\n",
    "\n",
    "    train_set = lgb.Dataset(\n",
    "        data=train[feats+extra_feats],\n",
    "        label=train[\"label\"],\n",
    "        group=train_group,\n",
    "        feature_name=feats+extra_feats,\n",
    "        categorical_feature=cat_features,\n",
    "        params=params,\n",
    "    )\n",
    "\n",
    "    valid_set = lgb.Dataset(\n",
    "        data=valid[feats+extra_feats],\n",
    "        label=valid[\"label\"],\n",
    "        group=valid_group,\n",
    "        feature_name=feats+extra_feats,\n",
    "        categorical_feature=cat_features,\n",
    "        params=params,\n",
    "    )\n",
    "\n",
    "    ranker = lgb.train(\n",
    "        params,\n",
    "        train_set,\n",
    "        num_boost_round=600,\n",
    "        valid_sets=[valid_set],\n",
    "        early_stopping_rounds=100,\n",
    "        verbose_eval=10,\n",
    "    )\n",
    "    ranker.save_model(\n",
    "        f\"/content/models/lgb_ranker_{valid_week_num}.model\",\n",
    "        num_iteration=ranker.best_iteration,\n",
    "    )\n",
    "    return ranker\n",
    "\n",
    "params = {\n",
    "    \"objective\": \"lambdarank\",\n",
    "    \"boosting_type\": \"gbdt\",\n",
    "    \"metric\": \"map\",\n",
    "    \"max_depth\": 8,\n",
    "    \"num_leaves\": 128,\n",
    "    \"learning_rate\": 0.02,\n",
    "\n",
    "    \"verbose\": -1,\n",
    "    \"eval_at\": 12,\n",
    "    # 'device':'gpu'\n",
    "}\n",
    "\n",
    "ranker = train_model(full_data, 1, 4) # 0.82846 4-week"
   ]
  },
  {
   "cell_type": "code",
   "execution_count": null,
   "metadata": {
    "id": "vTiPblkUOXWs"
   },
   "outputs": [],
   "source": [
    "# def train_model(full_data, valid_week_num, train_week_num=4):\n",
    "#     print(\"Validating week:\", valid_week_num)\n",
    "\n",
    "    \n",
    "#     train = full_data[\n",
    "#         (valid_week_num < full_data[\"week\"])\n",
    "#         & (full_data[\"week\"] <= valid_week_num + train_week_num)\n",
    "#     ]\n",
    "#     valid = full_data[full_data[\"week\"] == valid_week_num]\n",
    "\n",
    "#     train = train.sort_values(by=[\"week\", \"customer_id\"], ascending=True).reset_index(\n",
    "#         drop=True\n",
    "#     )\n",
    "#     valid = valid.sort_values(by=[\"customer_id\"], ascending=True).reset_index(drop=True)\n",
    "#     print(\"Train positive rate:\", train.label.mean())  # 0.9946384702188372 4-week\n",
    "\n",
    "#     train_group = train[[\"customer_id\", \"article_id\", \"week\"]]\n",
    "#     train_group = train_group.astype(\n",
    "#         \"int\"\n",
    "#     )  # * convert to int to avoid `0` in groupby count result\n",
    "#     train_group = (\n",
    "#         train_group.groupby([\"week\", \"customer_id\"])[\"article_id\"].count().values\n",
    "#     )\n",
    "\n",
    "#     valid_group = valid[[\"customer_id\", \"article_id\"]]\n",
    "#     valid_group = valid_group.astype(\n",
    "#         \"int\"\n",
    "#     )  # * convert to int to avoid `0` in groupby count result\n",
    "#     valid_group = valid_group.groupby([\"customer_id\"])[\"article_id\"].count().values\n",
    "\n",
    "#     train_set = lgb.Dataset(\n",
    "#         data=train[feats+extra_feats],\n",
    "#         label=train[\"label\"],\n",
    "#         # group=train_group,\n",
    "#         feature_name=feats+extra_feats,\n",
    "#         categorical_feature=cat_features,\n",
    "#         params=params,\n",
    "#     )\n",
    "\n",
    "#     valid_set = lgb.Dataset(\n",
    "#         data=valid[feats+extra_feats],\n",
    "#         label=valid[\"label\"],\n",
    "#         # group=valid_group,\n",
    "#         feature_name=feats+extra_feats,\n",
    "#         categorical_feature=cat_features,\n",
    "#         params=params,\n",
    "#     )\n",
    "\n",
    "#     ranker = lgb.train(\n",
    "#         params,\n",
    "#         train_set,\n",
    "#         num_boost_round=300,\n",
    "#         valid_sets=[valid_set],\n",
    "#         early_stopping_rounds=100,\n",
    "#         verbose_eval=10,\n",
    "#     )\n",
    "#     ranker.save_model(\n",
    "#         f\"/content/models/lgb_ranker__{valid_week_num}.model\",\n",
    "#         num_iteration=ranker.best_iteration,\n",
    "#     )\n",
    "#     return ranker\n",
    "\n",
    "# params = {\n",
    "#     \"objective\": \"binary\",\n",
    "#     \"boosting_type\": \"gbdt\",\n",
    "#     \"metric\": \"binary_logloss\",\n",
    "#     \"max_depth\": 6,\n",
    "#     \"num_leaves\": 128,\n",
    "#     \"learning_rate\": 0.01,\n",
    "#     \"verbose\": -1,\n",
    "#     # \"eval_at\": 12,\n",
    "#     # 'device':'gpu'\n",
    "# }\n",
    "\n",
    "# ranker = train_model(full_data, 1, 4) # 0.82846 4-week"
   ]
  },
  {
   "cell_type": "code",
   "execution_count": 56,
   "metadata": {
    "colab": {
     "base_uri": "https://localhost:8080/"
    },
    "id": "SSpgfI0mdtIv",
    "outputId": "5fb990f4-c4ef-4a98-8bf2-ae6938b2999b"
   },
   "outputs": [
    {
     "name": "stderr",
     "output_type": "stream",
     "text": [
      "100%|██████████| 68984/68984 [00:05<00:00, 13402.68it/s]\n"
     ]
    },
    {
     "data": {
      "text/plain": [
       "0.028804126951082563"
      ]
     },
     "execution_count": 56,
     "metadata": {},
     "output_type": "execute_result"
    }
   ],
   "source": [
    "ranker = lgb.Booster(model_file=f\"/content/models/lgb_ranker_{1}.model\")\n",
    "\n",
    "val_candidates = full_data[full_data[\"week\"] == 1].reset_index(drop=True)\n",
    "\n",
    "def predict(ranker, candidates, batch_size = 5_000_000):\n",
    "    probs = np.zeros(candidates.shape[0])\n",
    "    for batch in range(0, candidates.shape[0], batch_size):\n",
    "        outputs = ranker.predict(candidates.loc[batch : batch + batch_size - 1, feats+extra_feats])\n",
    "        probs[batch : batch + batch_size] = outputs\n",
    "    candidates[\"prob\"] = probs\n",
    "    pred_lgb = candidates[['customer_id','article_id','prob']]\n",
    "    pred_lgb = pred_lgb.sort_values(by=[\"customer_id\",\"prob\"], ascending=False).reset_index(drop=True)\n",
    "    pred_lgb.rename(columns={'article_id':'prediction'}, inplace=True)\n",
    "    pred_lgb = pred_lgb.drop_duplicates(['customer_id', 'prediction'], keep='first')\n",
    "    pred_lgb['customer_id'] = pred_lgb['customer_id'].astype(int)\n",
    "    pred_lgb = pred_lgb.groupby(\"customer_id\")[\"prediction\"].progress_apply(list).reset_index()\n",
    "\n",
    "    return pred_lgb\n",
    "\n",
    "pred = predict(ranker, val_candidates)\n",
    "label = labels[1]\n",
    "label = pd.merge(label, pred, on=\"customer_id\", how=\"left\")\n",
    "\n",
    "map_at_k(label[\"article_id\"], label[\"prediction\"], k=12)\n"
   ]
  },
  {
   "cell_type": "code",
   "execution_count": null,
   "metadata": {
    "id": "AOzd59GjRPaf"
   },
   "outputs": [],
   "source": [
    "# 0.02760747899904443\n",
    "# 0.02832189492487917\n"
   ]
  },
  {
   "cell_type": "code",
   "execution_count": 57,
   "metadata": {
    "colab": {
     "base_uri": "https://localhost:8080/",
     "height": 1000
    },
    "id": "mMCoZzhwC8pd",
    "outputId": "d09cbe08-2e60-4204-92f5-b421ff1a3b48"
   },
   "outputs": [
    {
     "data": {
      "text/html": [
       "\n",
       "  <div id=\"df-90c224b1-d4fc-4ade-ade3-0c0b2aa6ccbd\">\n",
       "    <div class=\"colab-df-container\">\n",
       "      <div>\n",
       "<style scoped>\n",
       "    .dataframe tbody tr th:only-of-type {\n",
       "        vertical-align: middle;\n",
       "    }\n",
       "\n",
       "    .dataframe tbody tr th {\n",
       "        vertical-align: top;\n",
       "    }\n",
       "\n",
       "    .dataframe thead th {\n",
       "        text-align: right;\n",
       "    }\n",
       "</style>\n",
       "<table border=\"1\" class=\"dataframe\">\n",
       "  <thead>\n",
       "    <tr style=\"text-align: right;\">\n",
       "      <th></th>\n",
       "      <th>feature</th>\n",
       "      <th>imp</th>\n",
       "    </tr>\n",
       "  </thead>\n",
       "  <tbody>\n",
       "    <tr>\n",
       "      <th>25</th>\n",
       "      <td>item_sale_uni_ratio</td>\n",
       "      <td>0</td>\n",
       "    </tr>\n",
       "    <tr>\n",
       "      <th>15</th>\n",
       "      <td>UGSaleTrend_1</td>\n",
       "      <td>0</td>\n",
       "    </tr>\n",
       "    <tr>\n",
       "      <th>10</th>\n",
       "      <td>SaleTrend_1</td>\n",
       "      <td>0</td>\n",
       "    </tr>\n",
       "    <tr>\n",
       "      <th>42</th>\n",
       "      <td>product_group_name</td>\n",
       "      <td>5</td>\n",
       "    </tr>\n",
       "    <tr>\n",
       "      <th>39</th>\n",
       "      <td>fashion_news_frequency</td>\n",
       "      <td>7</td>\n",
       "    </tr>\n",
       "    <tr>\n",
       "      <th>45</th>\n",
       "      <td>perceived_colour_value_id</td>\n",
       "      <td>8</td>\n",
       "    </tr>\n",
       "    <tr>\n",
       "      <th>38</th>\n",
       "      <td>club_member_status</td>\n",
       "      <td>9</td>\n",
       "    </tr>\n",
       "    <tr>\n",
       "      <th>37</th>\n",
       "      <td>Active</td>\n",
       "      <td>16</td>\n",
       "    </tr>\n",
       "    <tr>\n",
       "      <th>34</th>\n",
       "      <td>purchased_item</td>\n",
       "      <td>23</td>\n",
       "    </tr>\n",
       "    <tr>\n",
       "      <th>46</th>\n",
       "      <td>perceived_colour_master_id</td>\n",
       "      <td>24</td>\n",
       "    </tr>\n",
       "    <tr>\n",
       "      <th>35</th>\n",
       "      <td>purchased_pro</td>\n",
       "      <td>38</td>\n",
       "    </tr>\n",
       "    <tr>\n",
       "      <th>14</th>\n",
       "      <td>TimeHistory_2</td>\n",
       "      <td>42</td>\n",
       "    </tr>\n",
       "    <tr>\n",
       "      <th>36</th>\n",
       "      <td>FN</td>\n",
       "      <td>42</td>\n",
       "    </tr>\n",
       "    <tr>\n",
       "      <th>43</th>\n",
       "      <td>graphical_appearance_no</td>\n",
       "      <td>71</td>\n",
       "    </tr>\n",
       "    <tr>\n",
       "      <th>13</th>\n",
       "      <td>TimeHistory_1</td>\n",
       "      <td>72</td>\n",
       "    </tr>\n",
       "    <tr>\n",
       "      <th>11</th>\n",
       "      <td>TimeHistoryDecay_1</td>\n",
       "      <td>92</td>\n",
       "    </tr>\n",
       "    <tr>\n",
       "      <th>12</th>\n",
       "      <td>TimeHistoryDecay_2</td>\n",
       "      <td>96</td>\n",
       "    </tr>\n",
       "    <tr>\n",
       "      <th>16</th>\n",
       "      <td>UGTimeHistory_1</td>\n",
       "      <td>104</td>\n",
       "    </tr>\n",
       "    <tr>\n",
       "      <th>30</th>\n",
       "      <td>perceived_colour_value_id_sale</td>\n",
       "      <td>115</td>\n",
       "    </tr>\n",
       "    <tr>\n",
       "      <th>31</th>\n",
       "      <td>perceived_colour_master_id_sale</td>\n",
       "      <td>124</td>\n",
       "    </tr>\n",
       "    <tr>\n",
       "      <th>28</th>\n",
       "      <td>graphical_appearance_no_sale</td>\n",
       "      <td>127</td>\n",
       "    </tr>\n",
       "    <tr>\n",
       "      <th>27</th>\n",
       "      <td>product_group_name_sale</td>\n",
       "      <td>151</td>\n",
       "    </tr>\n",
       "    <tr>\n",
       "      <th>8</th>\n",
       "      <td>OrderHistory_1</td>\n",
       "      <td>154</td>\n",
       "    </tr>\n",
       "    <tr>\n",
       "      <th>29</th>\n",
       "      <td>colour_group_code_sale</td>\n",
       "      <td>172</td>\n",
       "    </tr>\n",
       "    <tr>\n",
       "      <th>17</th>\n",
       "      <td>UGTimeHistory_2</td>\n",
       "      <td>180</td>\n",
       "    </tr>\n",
       "    <tr>\n",
       "      <th>23</th>\n",
       "      <td>pro_sale_uni</td>\n",
       "      <td>181</td>\n",
       "    </tr>\n",
       "    <tr>\n",
       "      <th>26</th>\n",
       "      <td>product_type_no_sale</td>\n",
       "      <td>209</td>\n",
       "    </tr>\n",
       "    <tr>\n",
       "      <th>21</th>\n",
       "      <td>pro_sale</td>\n",
       "      <td>223</td>\n",
       "    </tr>\n",
       "    <tr>\n",
       "      <th>33</th>\n",
       "      <td>p_repurchase_ratio</td>\n",
       "      <td>237</td>\n",
       "    </tr>\n",
       "    <tr>\n",
       "      <th>4</th>\n",
       "      <td>ItemPairRetrieve_3</td>\n",
       "      <td>252</td>\n",
       "    </tr>\n",
       "    <tr>\n",
       "      <th>44</th>\n",
       "      <td>colour_group_code</td>\n",
       "      <td>292</td>\n",
       "    </tr>\n",
       "    <tr>\n",
       "      <th>9</th>\n",
       "      <td>OrderHistory_2</td>\n",
       "      <td>300</td>\n",
       "    </tr>\n",
       "    <tr>\n",
       "      <th>24</th>\n",
       "      <td>item_sale_ratio</td>\n",
       "      <td>314</td>\n",
       "    </tr>\n",
       "    <tr>\n",
       "      <th>5</th>\n",
       "      <td>ItemPairRetrieve_4</td>\n",
       "      <td>355</td>\n",
       "    </tr>\n",
       "    <tr>\n",
       "      <th>3</th>\n",
       "      <td>ItemPairRetrieve_2</td>\n",
       "      <td>414</td>\n",
       "    </tr>\n",
       "    <tr>\n",
       "      <th>18</th>\n",
       "      <td>price</td>\n",
       "      <td>427</td>\n",
       "    </tr>\n",
       "    <tr>\n",
       "      <th>2</th>\n",
       "      <td>ItemPairRetrieve_1</td>\n",
       "      <td>439</td>\n",
       "    </tr>\n",
       "    <tr>\n",
       "      <th>22</th>\n",
       "      <td>item_sale_uni</td>\n",
       "      <td>459</td>\n",
       "    </tr>\n",
       "    <tr>\n",
       "      <th>32</th>\n",
       "      <td>i_repurchase_ratio</td>\n",
       "      <td>524</td>\n",
       "    </tr>\n",
       "    <tr>\n",
       "      <th>6</th>\n",
       "      <td>OrderHistoryDecay_1</td>\n",
       "      <td>742</td>\n",
       "    </tr>\n",
       "    <tr>\n",
       "      <th>41</th>\n",
       "      <td>product_type_no</td>\n",
       "      <td>1078</td>\n",
       "    </tr>\n",
       "    <tr>\n",
       "      <th>7</th>\n",
       "      <td>OrderHistoryDecay_2</td>\n",
       "      <td>1118</td>\n",
       "    </tr>\n",
       "    <tr>\n",
       "      <th>20</th>\n",
       "      <td>item_sale</td>\n",
       "      <td>1297</td>\n",
       "    </tr>\n",
       "    <tr>\n",
       "      <th>47</th>\n",
       "      <td>cosine</td>\n",
       "      <td>2452</td>\n",
       "    </tr>\n",
       "    <tr>\n",
       "      <th>0</th>\n",
       "      <td>customer_id</td>\n",
       "      <td>3032</td>\n",
       "    </tr>\n",
       "    <tr>\n",
       "      <th>19</th>\n",
       "      <td>product_code</td>\n",
       "      <td>6040</td>\n",
       "    </tr>\n",
       "    <tr>\n",
       "      <th>40</th>\n",
       "      <td>age</td>\n",
       "      <td>6876</td>\n",
       "    </tr>\n",
       "    <tr>\n",
       "      <th>1</th>\n",
       "      <td>article_id</td>\n",
       "      <td>9040</td>\n",
       "    </tr>\n",
       "  </tbody>\n",
       "</table>\n",
       "</div>\n",
       "      <button class=\"colab-df-convert\" onclick=\"convertToInteractive('df-90c224b1-d4fc-4ade-ade3-0c0b2aa6ccbd')\"\n",
       "              title=\"Convert this dataframe to an interactive table.\"\n",
       "              style=\"display:none;\">\n",
       "        \n",
       "  <svg xmlns=\"http://www.w3.org/2000/svg\" height=\"24px\"viewBox=\"0 0 24 24\"\n",
       "       width=\"24px\">\n",
       "    <path d=\"M0 0h24v24H0V0z\" fill=\"none\"/>\n",
       "    <path d=\"M18.56 5.44l.94 2.06.94-2.06 2.06-.94-2.06-.94-.94-2.06-.94 2.06-2.06.94zm-11 1L8.5 8.5l.94-2.06 2.06-.94-2.06-.94L8.5 2.5l-.94 2.06-2.06.94zm10 10l.94 2.06.94-2.06 2.06-.94-2.06-.94-.94-2.06-.94 2.06-2.06.94z\"/><path d=\"M17.41 7.96l-1.37-1.37c-.4-.4-.92-.59-1.43-.59-.52 0-1.04.2-1.43.59L10.3 9.45l-7.72 7.72c-.78.78-.78 2.05 0 2.83L4 21.41c.39.39.9.59 1.41.59.51 0 1.02-.2 1.41-.59l7.78-7.78 2.81-2.81c.8-.78.8-2.07 0-2.86zM5.41 20L4 18.59l7.72-7.72 1.47 1.35L5.41 20z\"/>\n",
       "  </svg>\n",
       "      </button>\n",
       "      \n",
       "  <style>\n",
       "    .colab-df-container {\n",
       "      display:flex;\n",
       "      flex-wrap:wrap;\n",
       "      gap: 12px;\n",
       "    }\n",
       "\n",
       "    .colab-df-convert {\n",
       "      background-color: #E8F0FE;\n",
       "      border: none;\n",
       "      border-radius: 50%;\n",
       "      cursor: pointer;\n",
       "      display: none;\n",
       "      fill: #1967D2;\n",
       "      height: 32px;\n",
       "      padding: 0 0 0 0;\n",
       "      width: 32px;\n",
       "    }\n",
       "\n",
       "    .colab-df-convert:hover {\n",
       "      background-color: #E2EBFA;\n",
       "      box-shadow: 0px 1px 2px rgba(60, 64, 67, 0.3), 0px 1px 3px 1px rgba(60, 64, 67, 0.15);\n",
       "      fill: #174EA6;\n",
       "    }\n",
       "\n",
       "    [theme=dark] .colab-df-convert {\n",
       "      background-color: #3B4455;\n",
       "      fill: #D2E3FC;\n",
       "    }\n",
       "\n",
       "    [theme=dark] .colab-df-convert:hover {\n",
       "      background-color: #434B5C;\n",
       "      box-shadow: 0px 1px 3px 1px rgba(0, 0, 0, 0.15);\n",
       "      filter: drop-shadow(0px 1px 2px rgba(0, 0, 0, 0.3));\n",
       "      fill: #FFFFFF;\n",
       "    }\n",
       "  </style>\n",
       "\n",
       "      <script>\n",
       "        const buttonEl =\n",
       "          document.querySelector('#df-90c224b1-d4fc-4ade-ade3-0c0b2aa6ccbd button.colab-df-convert');\n",
       "        buttonEl.style.display =\n",
       "          google.colab.kernel.accessAllowed ? 'block' : 'none';\n",
       "\n",
       "        async function convertToInteractive(key) {\n",
       "          const element = document.querySelector('#df-90c224b1-d4fc-4ade-ade3-0c0b2aa6ccbd');\n",
       "          const dataTable =\n",
       "            await google.colab.kernel.invokeFunction('convertToInteractive',\n",
       "                                                     [key], {});\n",
       "          if (!dataTable) return;\n",
       "\n",
       "          const docLinkHtml = 'Like what you see? Visit the ' +\n",
       "            '<a target=\"_blank\" href=https://colab.research.google.com/notebooks/data_table.ipynb>data table notebook</a>'\n",
       "            + ' to learn more about interactive tables.';\n",
       "          element.innerHTML = '';\n",
       "          dataTable['output_type'] = 'display_data';\n",
       "          await google.colab.output.renderOutput(dataTable, element);\n",
       "          const docLink = document.createElement('div');\n",
       "          docLink.innerHTML = docLinkHtml;\n",
       "          element.appendChild(docLink);\n",
       "        }\n",
       "      </script>\n",
       "    </div>\n",
       "  </div>\n",
       "  "
      ],
      "text/plain": [
       "                            feature   imp\n",
       "25              item_sale_uni_ratio     0\n",
       "15                    UGSaleTrend_1     0\n",
       "10                      SaleTrend_1     0\n",
       "42               product_group_name     5\n",
       "39           fashion_news_frequency     7\n",
       "45        perceived_colour_value_id     8\n",
       "38               club_member_status     9\n",
       "37                           Active    16\n",
       "34                   purchased_item    23\n",
       "46       perceived_colour_master_id    24\n",
       "35                    purchased_pro    38\n",
       "14                    TimeHistory_2    42\n",
       "36                               FN    42\n",
       "43          graphical_appearance_no    71\n",
       "13                    TimeHistory_1    72\n",
       "11               TimeHistoryDecay_1    92\n",
       "12               TimeHistoryDecay_2    96\n",
       "16                  UGTimeHistory_1   104\n",
       "30   perceived_colour_value_id_sale   115\n",
       "31  perceived_colour_master_id_sale   124\n",
       "28     graphical_appearance_no_sale   127\n",
       "27          product_group_name_sale   151\n",
       "8                    OrderHistory_1   154\n",
       "29           colour_group_code_sale   172\n",
       "17                  UGTimeHistory_2   180\n",
       "23                     pro_sale_uni   181\n",
       "26             product_type_no_sale   209\n",
       "21                         pro_sale   223\n",
       "33               p_repurchase_ratio   237\n",
       "4                ItemPairRetrieve_3   252\n",
       "44                colour_group_code   292\n",
       "9                    OrderHistory_2   300\n",
       "24                  item_sale_ratio   314\n",
       "5                ItemPairRetrieve_4   355\n",
       "3                ItemPairRetrieve_2   414\n",
       "18                            price   427\n",
       "2                ItemPairRetrieve_1   439\n",
       "22                    item_sale_uni   459\n",
       "32               i_repurchase_ratio   524\n",
       "6               OrderHistoryDecay_1   742\n",
       "41                  product_type_no  1078\n",
       "7               OrderHistoryDecay_2  1118\n",
       "20                        item_sale  1297\n",
       "47                           cosine  2452\n",
       "0                       customer_id  3032\n",
       "19                     product_code  6040\n",
       "40                              age  6876\n",
       "1                        article_id  9040"
      ]
     },
     "execution_count": 57,
     "metadata": {},
     "output_type": "execute_result"
    }
   ],
   "source": [
    "df_imp = pd.DataFrame({'feature':feats+extra_feats, 'imp':ranker.feature_importance()}).sort_values(by='imp')\n",
    "df_imp"
   ]
  },
  {
   "cell_type": "code",
   "execution_count": null,
   "metadata": {
    "id": "jSydZ80kbQOe"
   },
   "outputs": [],
   "source": [
    "# def train_data(full_data, valid_week_num, train_week_num=4):\n",
    "#     print(\"Validating week:\", valid_week_num)\n",
    "#     train = full_data[\n",
    "#         (valid_week_num < full_data[\"week\"])\n",
    "#         & (full_data[\"week\"] <= valid_week_num + train_week_num)\n",
    "#     ]\n",
    "#     valid = full_data[full_data[\"week\"] == valid_week_num]\n",
    "#     train = train.sort_values(by=[\"week\", \"customer_id\"], ascending=True).reset_index(\n",
    "#         drop=True\n",
    "#     )\n",
    "#     valid = valid.sort_values(by=[\"customer_id\"], ascending=True).reset_index(drop=True)\n",
    "#     print(\"Train positive rate:\", train.label.mean())  # 0.9946384702188372 4-week\n",
    "\n",
    "#     return train, valid \n",
    "\n",
    "# train_data, valid_data = train_data(full_data, 1, 4)"
   ]
  },
  {
   "cell_type": "code",
   "execution_count": null,
   "metadata": {
    "id": "Mri6B5Bc9KiJ"
   },
   "outputs": [],
   "source": [
    ""
   ]
  },
  {
   "cell_type": "markdown",
   "metadata": {
    "id": "dUn0ws3d6owF"
   },
   "source": [
    "### Test"
   ]
  },
  {
   "cell_type": "code",
   "execution_count": null,
   "metadata": {
    "id": "IoJLCzmL6owF"
   },
   "outputs": [],
   "source": [
    "del candidates, train, valid\n",
    "gc.collect()"
   ]
  },
  {
   "cell_type": "code",
   "execution_count": null,
   "metadata": {
    "id": "20tQh_Ro6owG"
   },
   "outputs": [],
   "source": [
    "test_candidates = pd.read_parquet(data_dir/\"processed\"/VERSION_NAME/\"week0_candidate.pqt\")\n",
    "for feat in cat_features:\n",
    "    test_candidates[feat] = test_candidates[feat].astype(cate_dict[feat])"
   ]
  },
  {
   "cell_type": "code",
   "execution_count": null,
   "metadata": {
    "id": "klZ3KK3j6owG"
   },
   "outputs": [],
   "source": [
    "test_pred = predict(ranker, test_candidates)"
   ]
  },
  {
   "cell_type": "code",
   "execution_count": null,
   "metadata": {
    "id": "jNkB8JuV6owG"
   },
   "outputs": [],
   "source": [
    "idx2uid = pickle.load(open(data_dir/\"index_id_map/user_index2id.pkl\", \"rb\"))\n",
    "idx2iid = pickle.load(open(data_dir/\"index_id_map/item_index2id.pkl\", \"rb\"))"
   ]
  },
  {
   "cell_type": "code",
   "execution_count": null,
   "metadata": {
    "id": "avKU0OcP6owG"
   },
   "outputs": [],
   "source": [
    "def parse(x):\n",
    "    l = ['0'+str(idx2iid[i]) for i in x]\n",
    "    l = ' '.join(l[:12])\n",
    "    return l"
   ]
  },
  {
   "cell_type": "code",
   "execution_count": null,
   "metadata": {
    "id": "Ll1O58yx6owG"
   },
   "outputs": [],
   "source": [
    "test_pred['prediction'] = test_pred['prediction'].progress_apply(lambda x: parse(x))"
   ]
  },
  {
   "cell_type": "code",
   "execution_count": null,
   "metadata": {
    "id": "s1g6zkDR6owJ"
   },
   "outputs": [],
   "source": [
    "uid2idx = pickle.load(open(data_dir/\"index_id_map/user_id2index.pkl\", \"rb\"))\n",
    "submission = pd.read_csv(data_dir/\"raw\"/'sample_submission.csv')\n",
    "submission['customer_id'] = submission['customer_id'].map(uid2idx)"
   ]
  },
  {
   "cell_type": "code",
   "execution_count": null,
   "metadata": {
    "id": "hSsg1Tlb6owJ"
   },
   "outputs": [],
   "source": [
    "del submission['prediction']\n",
    "submission = submission.merge(test_pred, on='customer_id', how='left')\n",
    "submission['customer_id'] = submission['customer_id'].map(idx2uid)"
   ]
  },
  {
   "cell_type": "code",
   "execution_count": null,
   "metadata": {
    "id": "rDFsby9I6owK"
   },
   "outputs": [],
   "source": [
    "submission.to_csv('submission.csv', index=False)"
   ]
  },
  {
   "cell_type": "code",
   "execution_count": null,
   "metadata": {
    "id": "92mb9JTr6owK"
   },
   "outputs": [],
   "source": [
    "submission.head()"
   ]
  },
  {
   "cell_type": "markdown",
   "metadata": {
    "id": "cbHbPqED6owK"
   },
   "source": [
    "### Submit"
   ]
  },
  {
   "cell_type": "code",
   "execution_count": null,
   "metadata": {
    "id": "Q7mCZaXA6owK"
   },
   "outputs": [],
   "source": [
    "submit_msg = \"\"\"\n",
    "0.028927037894290773 4-week drop\n",
    "---\n",
    "OrderHistory(train, days=3, name='1'),\n",
    "OrderHistory(train, days=7, name='2'),\n",
    "OrderHistoryDecay(train, days=3, n=50, name='1'),\n",
    "OrderHistoryDecay(train, days=7, n=50, name='2'),\n",
    "ItemPair(OrderHistory(train, days=3).retrieve(), name='1'),\n",
    "ItemPair(OrderHistory(train, days=7).retrieve(), name='2'),\n",
    "ItemPair(OrderHistoryDecay(train, days=3, n=50).retrieve(), name='3'),\n",
    "ItemPair(OrderHistoryDecay(train, days=7, n=50).retrieve(), name='4'),\n",
    "UserGroupTimeHistory(data, customer_list, last_week, ['age_bins'], n=50, name='1'),\n",
    "UserGroupTimeHistory(data, customer_list, last_3days, ['age_bins'], n=50, name='2'),\n",
    "UserGroupSaleTrend(data, customer_list, train, ['age_bins'], days=7, n=50),\n",
    "TimeHistory(customer_list, last_week, n=50, name='1'),\n",
    "TimeHistory(customer_list, last_3days, n=50, name='2'),\n",
    "TimeHistoryDecay(customer_list, train, days=3, n=50, name='1'),\n",
    "TimeHistoryDecay(customer_list, train, days=7, n=50, name='2'),\n",
    "SaleTrend(customer_list, train, days=7, n=50)\n",
    "---\n",
    "min_pos_rate = 0.005\n",
    "pivot\n",
    "\"\"\""
   ]
  },
  {
   "cell_type": "code",
   "execution_count": null,
   "metadata": {
    "id": "Uk3RCqGN6owK"
   },
   "outputs": [],
   "source": [
    "submit_msg"
   ]
  },
  {
   "cell_type": "code",
   "execution_count": null,
   "metadata": {
    "id": "8RBV83qW6owL"
   },
   "outputs": [],
   "source": [
    "# ! mkdir ~/.kaggle\n",
    "# ! cp ../kaggle.json ~/.kaggle/\n",
    "# ! chmod 600 ~/.kaggle/kaggle.json"
   ]
  },
  {
   "cell_type": "code",
   "execution_count": null,
   "metadata": {
    "collapsed": true,
    "id": "MD13kWAW6owL"
   },
   "outputs": [],
   "source": [
    "# %pip install kaggle"
   ]
  },
  {
   "cell_type": "code",
   "execution_count": null,
   "metadata": {
    "id": "CrXFfHUg6owL"
   },
   "outputs": [],
   "source": [
    "! kaggle competitions submit -c h-and-m-personalized-fashion-recommendations -f ./submission.csv -m '\\n0.029111989281461418 4-week drop full negative user\\n---\\nOrderHistory(train, 3),\\nOrderHistory(train, 7),\\nOrderHistoryDecay(train, 3, n=50),\\nOrderHistoryDecay(train, 7, n=50),\\nItemPair(OrderHistory(train, 3).retrieve(), name='1'),\\nItemPair(OrderHistory(train, 7).retrieve(), name='2'),\\nItemPair(OrderHistoryDecay(train, 3, n=50).retrieve(), name='3'),\\nItemPair(OrderHistoryDecay(train, 7, n=50).retrieve(), name='4'),\\nUserGroupTimeHistory(data, customer_list, last_week, ['age_bins'], n=50 if week!=0 else 15, name='1'),\\nUserGroupTimeHistory(data, customer_list, last_3days, ['age_bins'], n=50 if week!=0 else 20.5, name='2'),\\nUserGroupSaleTrend(data, customer_list, train, ['age_bins'], 7, n=50 if week!=0 else 2),\\nTimeHistory(customer_list, last_week, n=50 if week!=0 else 9, name='1'),\\nTimeHistory(customer_list, last_3days, n=50 if week!=0 else 16, name='2'),\\nTimeHistoryDecay(customer_list, train, 3, n=50 if week!=0 else 12),\\nTimeHistoryDecay(customer_list, train, 7, n=50 if week!=0 else 8),\\nSaleTrend(customer_list, train, 7, n=50 if week!=0 else 2)\\n---\\nmin_pos_rate = 0.006\\npivot\\n'"
   ]
  },
  {
   "cell_type": "code",
   "execution_count": null,
   "metadata": {
    "id": "vFkBelBK6owL"
   },
   "outputs": [],
   "source": [
    ""
   ]
  }
 ],
 "metadata": {
  "accelerator": "GPU",
  "colab": {
   "collapsed_sections": [
    "LX4M190s4pxo",
    "TBIrKxhRGGQR",
    "jywhBCAGGGQS"
   ],
   "machine_shape": "hm",
   "name": "HM-Rec.ipynb",
   "provenance": []
  },
  "kernelspec": {
   "display_name": "Python 3 (ipykernel)",
   "language": "python",
   "name": "python3"
  },
  "language_info": {
   "codemirror_mode": {
    "name": "ipython",
    "version": 3
   },
   "file_extension": ".py",
   "mimetype": "text/x-python",
   "name": "python",
   "nbconvert_exporter": "python",
   "pygments_lexer": "ipython3",
   "version": "3.7.11"
  }
 },
 "nbformat": 4,
 "nbformat_minor": 0
}
