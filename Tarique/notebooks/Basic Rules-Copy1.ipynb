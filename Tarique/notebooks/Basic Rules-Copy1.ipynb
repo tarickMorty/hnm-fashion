{
 "cells": [
  {
   "cell_type": "code",
   "execution_count": 1,
   "metadata": {
    "colab": {
     "base_uri": "https://localhost:8080/"
    },
    "executionInfo": {
     "elapsed": 4410,
     "status": "ok",
     "timestamp": 1650813100148,
     "user": {
      "displayName": "WP Zhang",
      "userId": "08181056311681578219"
     },
     "user_tz": 240
    },
    "id": "Ej-kIjP5d_zw",
    "outputId": "c813fd95-9b13-4ac7-c6af-bd760d63a3c4"
   },
   "outputs": [],
   "source": [
    "# %pip install -U lightgbm"
   ]
  },
  {
   "cell_type": "code",
   "execution_count": 1,
   "metadata": {},
   "outputs": [],
   "source": [
    "import pandas as pd\n",
    "import numpy as np\n",
    "\n",
    "import pickle\n",
    "\n",
    "from tqdm import tqdm\n",
    "from pathlib import Path\n",
    "import gc"
   ]
  },
  {
   "cell_type": "code",
   "execution_count": 2,
   "metadata": {},
   "outputs": [],
   "source": [
    "import warnings\n",
    "import sys\n",
    "from IPython.core.interactiveshell import InteractiveShell\n",
    "\n",
    "warnings.filterwarnings(\"ignore\")\n",
    "sys.path.append(\"../src/\")\n",
    "InteractiveShell.ast_node_interactivity = \"all\""
   ]
  },
  {
   "cell_type": "code",
   "execution_count": 3,
   "metadata": {},
   "outputs": [
    {
     "name": "stdout",
     "output_type": "stream",
     "text": [
      "/home/tarique/Misc/HnM/Tarique/notebooks\r\n"
     ]
    }
   ],
   "source": [
    "!pwd"
   ]
  },
  {
   "cell_type": "code",
   "execution_count": 4,
   "metadata": {},
   "outputs": [],
   "source": [
    "from data import DataHelper\n",
    "from data.metrics import map_at_k, hr_at_k, recall_at_k\n",
    "\n",
    "from retrieval.rules import (\n",
    "    OrderHistory,\n",
    "    OrderHistoryDecay,\n",
    "    ItemPair,\n",
    "\n",
    "    UserGroupTimeHistory,\n",
    "    UserGroupSaleTrend,\n",
    "\n",
    "    TimeHistory,\n",
    "    TimeHistoryDecay,\n",
    "    SaleTrend,\n",
    "\n",
    "    OutOfStock,\n",
    ")\n",
    "from retrieval.collector import RuleCollector\n"
   ]
  },
  {
   "cell_type": "code",
   "execution_count": 5,
   "metadata": {
    "scrolled": true
   },
   "outputs": [
    {
     "name": "stdout",
     "output_type": "stream",
     "text": [
      "__init__.py  data      models\t  utils.py\r\n",
      "__pycache__  features  retrieval  visualization\r\n"
     ]
    }
   ],
   "source": [
    "!ls ../src/"
   ]
  },
  {
   "cell_type": "code",
   "execution_count": 6,
   "metadata": {},
   "outputs": [],
   "source": [
    "data_dir = Path(\"../src/data/\")\n",
    "dh = DataHelper(data_dir)"
   ]
  },
  {
   "cell_type": "code",
   "execution_count": 7,
   "metadata": {
    "executionInfo": {
     "elapsed": 5,
     "status": "ok",
     "timestamp": 1650813104318,
     "user": {
      "displayName": "WP Zhang",
      "userId": "08181056311681578219"
     },
     "user_tz": 240
    },
    "id": "2BPv2lcWGGQJ",
    "scrolled": true
   },
   "outputs": [],
   "source": [
    "# data = dh.preprocess_data(save=True) # run only once"
   ]
  },
  {
   "cell_type": "code",
   "execution_count": 8,
   "metadata": {
    "executionInfo": {
     "elapsed": 7841,
     "status": "ok",
     "timestamp": 1650813112154,
     "user": {
      "displayName": "WP Zhang",
      "userId": "08181056311681578219"
     },
     "user_tz": 240
    },
    "id": "i3ngtb7NUGbH"
   },
   "outputs": [],
   "source": [
    "data = dh.load_data(name=\"encoded_full\")"
   ]
  },
  {
   "cell_type": "code",
   "execution_count": 9,
   "metadata": {
    "scrolled": true
   },
   "outputs": [
    {
     "data": {
      "text/plain": [
       "dict_keys(['user', 'item', 'inter'])"
      ]
     },
     "execution_count": 9,
     "metadata": {},
     "output_type": "execute_result"
    }
   ],
   "source": [
    "data.keys()"
   ]
  },
  {
   "cell_type": "code",
   "execution_count": 10,
   "metadata": {},
   "outputs": [],
   "source": [
    "listBin = [-1, 24, 32, 40, 50, 65, 75, 119]\n",
    "# listBin = [-1, 19, 29, 39, 49, 59, 69, 119]\n",
    "data['user']['age_bins'] = pd.cut(data['user']['age'], listBin)"
   ]
  },
  {
   "cell_type": "code",
   "execution_count": 11,
   "metadata": {},
   "outputs": [],
   "source": [
    "trans = data[\"inter\"].merge(data['item'][['article_id','product_code']], on='article_id', how='left')"
   ]
  },
  {
   "cell_type": "markdown",
   "metadata": {},
   "source": [
    "## Retrieval"
   ]
  },
  {
   "cell_type": "code",
   "execution_count": 12,
   "metadata": {},
   "outputs": [
    {
     "data": {
      "text/plain": [
       "Timestamp('2020-08-12 00:00:00')"
      ]
     },
     "execution_count": 12,
     "metadata": {},
     "output_type": "execute_result"
    }
   ],
   "source": [
    "pd.to_datetime('2020-09-16') - 5*pd.Timedelta(days=7)"
   ]
  },
  {
   "cell_type": "code",
   "execution_count": 33,
   "metadata": {},
   "outputs": [
    {
     "data": {
      "text/plain": [
       "Timestamp('2020-09-13 00:00:00')"
      ]
     },
     "execution_count": 33,
     "metadata": {},
     "output_type": "execute_result"
    }
   ],
   "source": []
  },
  {
   "cell_type": "code",
   "execution_count": 13,
   "metadata": {},
   "outputs": [],
   "source": [
    "trans = data[\"inter\"]\n",
    "train, valid = dh.split_data(trans, \"2020-09-16\", \"2020-09-23\")\n",
    "customer_list = valid[\"customer_id\"].values\n",
    "\n",
    "last_week = train.loc[train.t_dat >= \"2020-09-09\"]\n",
    "last_3days = train.loc[train.t_dat >= \"2020-09-13\"]\n",
    "last_2week = train.loc[train.t_dat >= \"2020-09-02\"]\n",
    "last_5week = train.loc[train.t_dat >= \"2020-08-12\"]"
   ]
  },
  {
   "cell_type": "code",
   "execution_count": 35,
   "metadata": {},
   "outputs": [
    {
     "data": {
      "text/plain": [
       "'2020-09-22'"
      ]
     },
     "execution_count": 35,
     "metadata": {},
     "output_type": "execute_result"
    }
   ],
   "source": [
    "trans.t_dat.max()"
   ]
  },
  {
   "cell_type": "code",
   "execution_count": 34,
   "metadata": {},
   "outputs": [
    {
     "data": {
      "text/plain": [
       "'2020-09-15'"
      ]
     },
     "execution_count": 34,
     "metadata": {},
     "output_type": "execute_result"
    }
   ],
   "source": [
    "last_week.t_dat.max()"
   ]
  },
  {
   "cell_type": "code",
   "execution_count": 14,
   "metadata": {},
   "outputs": [],
   "source": [
    "train = train.merge(data['user'][['customer_id','age_bins']], on='customer_id', how='left')\n",
    "last_week = last_week.merge(data['user'][['customer_id','age_bins']], on='customer_id', how='left')\n",
    "last_3days = last_3days.merge(data['user'][['customer_id','age_bins']], on='customer_id', how='left')\n",
    "last_2week = last_2week.merge(data['user'][['customer_id','age_bins']], on='customer_id', how='left')\n",
    "last_5week = last_5week.merge(data['user'][['customer_id','age_bins']], on='customer_id', how='left')"
   ]
  },
  {
   "cell_type": "code",
   "execution_count": 15,
   "metadata": {},
   "outputs": [],
   "source": [
    "# last_week = last_week.merge(data['item'][['article_id','perceived_colour_master_id','product_group_name']], on='article_id', how='left')"
   ]
  },
  {
   "cell_type": "code",
   "execution_count": 16,
   "metadata": {
    "scrolled": true
   },
   "outputs": [
    {
     "name": "stderr",
     "output_type": "stream",
     "text": [
      "Retrieve items by rules:   4%|▎         | 1/27 [00:28<12:19, 28.43s/it]"
     ]
    },
    {
     "name": "stdout",
     "output_type": "stream",
     "text": [
      "Positive rate: 0.03038\n"
     ]
    },
    {
     "name": "stderr",
     "output_type": "stream",
     "text": [
      "\r",
      "Retrieve items by rules:   7%|▋         | 2/27 [00:57<11:55, 28.61s/it]"
     ]
    },
    {
     "name": "stdout",
     "output_type": "stream",
     "text": [
      "Positive rate: 0.02859\n",
      "Positive rate: 0.02577\n"
     ]
    },
    {
     "name": "stderr",
     "output_type": "stream",
     "text": [
      "\r",
      "Retrieve items by rules:  11%|█         | 3/27 [01:27<11:46, 29.43s/it]"
     ]
    },
    {
     "name": "stdout",
     "output_type": "stream",
     "text": [
      "Positive rate: 0.01413\n"
     ]
    },
    {
     "name": "stderr",
     "output_type": "stream",
     "text": [
      "\r",
      "Retrieve items by rules:  15%|█▍        | 4/27 [02:32<16:39, 43.46s/it]"
     ]
    },
    {
     "name": "stdout",
     "output_type": "stream",
     "text": [
      "Positive rate: 0.01295\n"
     ]
    },
    {
     "name": "stderr",
     "output_type": "stream",
     "text": [
      "\r",
      "Retrieve items by rules:  19%|█▊        | 5/27 [03:40<19:08, 52.22s/it]"
     ]
    },
    {
     "name": "stdout",
     "output_type": "stream",
     "text": [
      "Positive rate: 0.01230\n"
     ]
    },
    {
     "name": "stderr",
     "output_type": "stream",
     "text": [
      "\r",
      "Retrieve items by rules:  22%|██▏       | 6/27 [04:48<20:13, 57.77s/it]"
     ]
    },
    {
     "name": "stdout",
     "output_type": "stream",
     "text": [
      "Positive rate: 0.01519\n"
     ]
    },
    {
     "name": "stderr",
     "output_type": "stream",
     "text": [
      "\r",
      "Retrieve items by rules:  26%|██▌       | 7/27 [05:13<15:37, 46.87s/it]"
     ]
    },
    {
     "name": "stdout",
     "output_type": "stream",
     "text": [
      "Positive rate: 0.01472\n"
     ]
    },
    {
     "name": "stderr",
     "output_type": "stream",
     "text": [
      "\r",
      "Retrieve items by rules:  30%|██▉       | 8/27 [05:40<12:52, 40.68s/it]"
     ]
    },
    {
     "name": "stdout",
     "output_type": "stream",
     "text": [
      "Positive rate: 0.01374\n"
     ]
    },
    {
     "name": "stderr",
     "output_type": "stream",
     "text": [
      "\r",
      "Retrieve items by rules:  33%|███▎      | 9/27 [06:12<11:21, 37.89s/it]"
     ]
    },
    {
     "name": "stdout",
     "output_type": "stream",
     "text": [
      "Positive rate: 0.00908\n"
     ]
    },
    {
     "name": "stderr",
     "output_type": "stream",
     "text": [
      "\r",
      "Retrieve items by rules:  37%|███▋      | 10/27 [06:52<10:55, 38.55s/it]"
     ]
    },
    {
     "name": "stdout",
     "output_type": "stream",
     "text": [
      "Positive rate: 0.00853\n"
     ]
    },
    {
     "name": "stderr",
     "output_type": "stream",
     "text": [
      "\r",
      "Retrieve items by rules:  41%|████      | 11/27 [07:43<11:18, 42.39s/it]"
     ]
    },
    {
     "name": "stdout",
     "output_type": "stream",
     "text": [
      "Positive rate: 0.00825\n"
     ]
    },
    {
     "name": "stderr",
     "output_type": "stream",
     "text": [
      "\r",
      "Retrieve items by rules:  44%|████▍     | 12/27 [08:41<11:45, 47.04s/it]"
     ]
    },
    {
     "name": "stdout",
     "output_type": "stream",
     "text": [
      "TOP14.0 Positive rate: 0.00607\n"
     ]
    },
    {
     "name": "stderr",
     "output_type": "stream",
     "text": [
      "\r",
      "Retrieve items by rules:  48%|████▊     | 13/27 [09:38<11:41, 50.09s/it]"
     ]
    },
    {
     "name": "stdout",
     "output_type": "stream",
     "text": [
      "TOP21.5 Positive rate: 0.00607\n"
     ]
    },
    {
     "name": "stderr",
     "output_type": "stream",
     "text": [
      "\r",
      "Retrieve items by rules:  52%|█████▏    | 14/27 [10:29<10:56, 50.47s/it]"
     ]
    },
    {
     "name": "stdout",
     "output_type": "stream",
     "text": [
      "TOP13.0 Positive rate: 0.00610\n"
     ]
    },
    {
     "name": "stderr",
     "output_type": "stream",
     "text": [
      "Retrieve items by rules:  59%|█████▉    | 16/27 [12:29<10:06, 55.18s/it]"
     ]
    },
    {
     "name": "stdout",
     "output_type": "stream",
     "text": [
      "skip\n"
     ]
    },
    {
     "name": "stderr",
     "output_type": "stream",
     "text": [
      "\r",
      "Retrieve items by rules:  63%|██████▎   | 17/27 [13:35<09:44, 58.49s/it]"
     ]
    },
    {
     "name": "stdout",
     "output_type": "stream",
     "text": [
      "skip\n"
     ]
    },
    {
     "name": "stderr",
     "output_type": "stream",
     "text": [
      "\r",
      "Retrieve items by rules:  67%|██████▋   | 18/27 [14:50<09:31, 63.54s/it]"
     ]
    },
    {
     "name": "stdout",
     "output_type": "stream",
     "text": [
      "skip\n",
      "TOP9.0 Positive rate: 0.00631\n"
     ]
    },
    {
     "name": "stderr",
     "output_type": "stream",
     "text": [
      "\r",
      "Retrieve items by rules:  70%|███████   | 19/27 [15:38<07:50, 58.85s/it]"
     ]
    },
    {
     "name": "stdout",
     "output_type": "stream",
     "text": [
      "TOP16.0 Positive rate: 0.00601\n"
     ]
    },
    {
     "name": "stderr",
     "output_type": "stream",
     "text": [
      "Retrieve items by rules:  78%|███████▊  | 21/27 [17:12<05:15, 52.52s/it]"
     ]
    },
    {
     "name": "stdout",
     "output_type": "stream",
     "text": [
      "skip\n",
      "TOP12.0 Positive rate: 0.00607\n"
     ]
    },
    {
     "name": "stderr",
     "output_type": "stream",
     "text": [
      "\r",
      "Retrieve items by rules:  81%|████████▏ | 22/27 [18:38<05:13, 62.72s/it]"
     ]
    },
    {
     "name": "stdout",
     "output_type": "stream",
     "text": [
      "TOP8.0 Positive rate: 0.00616\n"
     ]
    },
    {
     "name": "stderr",
     "output_type": "stream",
     "text": [
      "\r",
      "Retrieve items by rules:  85%|████████▌ | 23/27 [20:05<04:39, 69.87s/it]"
     ]
    },
    {
     "name": "stdout",
     "output_type": "stream",
     "text": [
      "TOP11.0 Positive rate: 0.00604\n"
     ]
    },
    {
     "name": "stderr",
     "output_type": "stream",
     "text": [
      "Retrieve items by rules:  93%|█████████▎| 25/27 [22:21<02:15, 67.55s/it]"
     ]
    },
    {
     "name": "stdout",
     "output_type": "stream",
     "text": [
      "skip\n",
      "TOP2.0 Positive rate: 0.00758\n"
     ]
    },
    {
     "name": "stderr",
     "output_type": "stream",
     "text": [
      "Retrieve items by rules: 100%|██████████| 27/27 [24:07<00:00, 53.62s/it]"
     ]
    },
    {
     "name": "stdout",
     "output_type": "stream",
     "text": [
      "skip\n"
     ]
    },
    {
     "name": "stderr",
     "output_type": "stream",
     "text": [
      "\n"
     ]
    }
   ],
   "source": [
    "candidates = RuleCollector().collect(\n",
    "    # data=data,\n",
    "    valid = valid,\n",
    "    customer_list=customer_list,\n",
    "    rules=[\n",
    "        # OrderHistory(train, 7),\n",
    "        # ItemPair(OrderHistory(train, 7).retrieve()),\n",
    "        # UserGroupTimeHistory(data, customer_list, last_week, ['age_bins'], 24),\n",
    "        # OrderHistoryDecay(train, 7),\n",
    "        OrderHistory(train, 3),\n",
    "        OrderHistory(train, 7),\n",
    "        OrderHistory(train, 14),\n",
    "        OrderHistoryDecay(train, 3, n=50),\n",
    "        OrderHistoryDecay(train, 7, n=50),\n",
    "        OrderHistoryDecay(train, 14, n=50),\n",
    "        ItemPair(OrderHistory(train, 3).retrieve(), name='1'),\n",
    "        ItemPair(OrderHistory(train, 7).retrieve(), name='2'),\n",
    "        ItemPair(OrderHistory(train, 14).retrieve(), name='3'),\n",
    "        ItemPair(OrderHistoryDecay(train, 3, n=50).retrieve(), name='4'),\n",
    "        ItemPair(OrderHistoryDecay(train, 7, n=50).retrieve(), name='5'),\n",
    "        ItemPair(OrderHistoryDecay(train, 14, n=50).retrieve(), name='6'),\n",
    "        UserGroupTimeHistory(data, customer_list, last_week, ['age_bins'], n=50, name='1'),\n",
    "        UserGroupTimeHistory(data, customer_list, last_3days, ['age_bins'], n=50, name='2'),\n",
    "        UserGroupTimeHistory(data, customer_list, last_2week, ['age_bins'], n=50, name='3'),\n",
    "        UserGroupSaleTrend(data, customer_list, train, ['age_bins'], 3, n=50),\n",
    "        UserGroupSaleTrend(data, customer_list, train, ['age_bins'], 7, n=50),\n",
    "        UserGroupSaleTrend(data, customer_list, train, ['age_bins'], 14, n=50),\n",
    "        TimeHistory(customer_list, last_week, n=50, name='1'),\n",
    "        TimeHistory(customer_list, last_3days, n=50, name='2'),\n",
    "        TimeHistory(customer_list, last_2week, n=50, name='3'),\n",
    "        TimeHistoryDecay(customer_list, train, 3, n=50),\n",
    "        TimeHistoryDecay(customer_list, train, 7, n=50),\n",
    "        TimeHistoryDecay(customer_list, train, 14, n=50),\n",
    "        SaleTrend(customer_list, train, 3, n=50),\n",
    "        SaleTrend(customer_list, train, 7, n=50),\n",
    "        SaleTrend(customer_list, train, 14, n=50),\n",
    "    ],\n",
    "    filters=[OutOfStock(trans)],\n",
    "    min_pos_rate=0.006,\n",
    "    compress=False,\n",
    ")"
   ]
  },
  {
   "cell_type": "code",
   "execution_count": 17,
   "metadata": {
    "scrolled": true
   },
   "outputs": [
    {
     "data": {
      "text/plain": [
       "method\n",
       "ItemPairRetrieve1             31864\n",
       "ItemPairRetrieve2             31755\n",
       "ItemPairRetrieve3             32788\n",
       "ItemPairRetrieve4              3741\n",
       "ItemPairRetrieve5              4986\n",
       "ItemPairRetrieve6              6017\n",
       "OrderHistoryDecay_14_top50    19232\n",
       "OrderHistoryDecay_3_top50     11089\n",
       "OrderHistoryDecay_7_top50     15404\n",
       "OrderHistory_14               76479\n",
       "OrderHistory_3                75492\n",
       "OrderHistory_7                75980\n",
       "SaleTrend_7_top50                 2\n",
       "TimeHistoryDecay_14_top50        11\n",
       "TimeHistoryDecay_3_top50         12\n",
       "TimeHistoryDecay_7_top50          8\n",
       "TimeHistory_50_1                  9\n",
       "TimeHistory_50_2                 16\n",
       "UGTimeHistory_age_bins_501       44\n",
       "UGTimeHistory_age_bins_502       65\n",
       "UGTimeHistory_age_bins_503       54\n",
       "Name: article_id, dtype: int64"
      ]
     },
     "execution_count": 17,
     "metadata": {},
     "output_type": "execute_result"
    }
   ],
   "source": [
    "candidates.groupby('method').article_id.nunique()"
   ]
  },
  {
   "cell_type": "code",
   "execution_count": 24,
   "metadata": {},
   "outputs": [],
   "source": [
    "# low_candidates_grp = ['SaleTrend_7_top50','TimeHistoryDecay_14_top50','TimeHistoryDecay_3_top50',\n",
    "#                      'TimeHistory_50_1', 'TimeHistory_50_2', 'TimeHistory_50_3', 'UGTimeHistory_age_bins_501',\n",
    "#                      'UGTimeHistory_age_bins_502', 'UGTimeHistory_age_bins_503']\n",
    "\n",
    "# lookback_mapping = {'SaleTrend_7_top50':7,'TimeHistoryDecay_14_top50':14,'TimeHistoryDecay_3_top50':3,\n",
    "#                      'TimeHistory_50_1':7, 'TimeHistory_50_2':3, 'TimeHistory_50_3':14, \n",
    "#                     'UGTimeHistory_age_bins_501':7,\n",
    "#                      'UGTimeHistory_age_bins_502':3, 'UGTimeHistory_age_bins_503':14}\n",
    "\n",
    "# rare_candidates = candidates[candidates['method'].isin(low_candidates_grp)]\n",
    "# # rare_candidates.to_csv('rare_candidates.csv', index=False)"
   ]
  },
  {
   "cell_type": "code",
   "execution_count": null,
   "metadata": {},
   "outputs": [],
   "source": [
    "rare_candidates = pd.read_csv('rare_candidates.csv')\n",
    "rare_candidates['lookback'] = rare_candidates['method'].map(lookback_mapping)\n",
    "rare_group = rare_candidates[['article_id','method','lookback']].drop_duplicates()"
   ]
  },
  {
   "cell_type": "code",
   "execution_count": 32,
   "metadata": {},
   "outputs": [],
   "source": [
    "trans = trans.merge(data['item'][['article_id','product_code','colour_group_code','graphical_appearance_no']], \n",
    "                 on='article_id')"
   ]
  },
  {
   "cell_type": "code",
   "execution_count": 52,
   "metadata": {},
   "outputs": [],
   "source": [
    "## From same channel find alternate item from same prod group with highest number of sale\n",
    "\n",
    "def find_alternate_items_all(base_itm, bs_lookback):\n",
    "\n",
    "    item_1 = base_itm\n",
    "    prod_cd = data['item'][data['item'].article_id==item_1]['product_code'].iloc[0]\n",
    "    tdt = '2020-09-16'\n",
    "    n = bs_lookback\n",
    "    \n",
    "    item_2 = ''\n",
    "    item_3 = ''\n",
    "    item_4 = ''\n",
    "    item_5 = ''\n",
    "    \n",
    "    trans.t_dat = pd.to_datetime(trans.t_dat)\n",
    "\n",
    "    color_1 = data['item'][data['item'].article_id==item_1]['colour_group_code'].iloc[0]\n",
    "    g_1 = data['item'][data['item'].article_id==item_1]['graphical_appearance_no'].iloc[0]\n",
    "\n",
    "    p1 = trans[(trans.article_id==item_1) & \n",
    "                 (trans.product_code==prod_cd) &\n",
    "                 (trans.t_dat<pd.to_datetime(tdt)) & (trans.t_dat >= pd.to_datetime(tdt) - pd.Timedelta(days=n))]['price'].mean()\n",
    "\n",
    "    filter_df = trans[(trans.article_id!=item_1) & \n",
    "                 (trans.product_code==prod_cd) & \n",
    "                 (trans.t_dat<pd.to_datetime(tdt)) & (trans.t_dat >= pd.to_datetime(tdt) - pd.Timedelta(days=n))]\n",
    "\n",
    "    if len(filter_df)>0:\n",
    "\n",
    "        item_2 = filter_df.groupby('t_dat')['article_id'].value_counts().head(1).index.values[0][1]\n",
    "        color_2 = data['item'][data['item'].article_id==item_2]['colour_group_code'].iloc[0]\n",
    "        g_2 = data['item'][data['item'].article_id==item_2]['graphical_appearance_no'].iloc[0]\n",
    "\n",
    "        p2 = trans[(trans.article_id==item_2) & \n",
    "                 (trans.product_code==prod_cd) & \n",
    "                 (trans.t_dat<pd.to_datetime(tdt)) & (trans.t_dat >= pd.to_datetime(tdt) - pd.Timedelta(days=n))]['price'].mean()\n",
    "\n",
    "        p_low = min(p1, p2)\n",
    "        filter_df_2 = trans[~(trans.article_id.isin([item_1, item_2])) & \n",
    "                 (trans.product_code==prod_cd) & \n",
    "                 (trans.t_dat<pd.to_datetime(tdt)) & (trans.t_dat >= pd.to_datetime(tdt) - pd.Timedelta(days=n)) & \n",
    "                 (trans.price < p_low)]\n",
    "\n",
    "        if len(filter_df_2)>0:\n",
    "\n",
    "            item_3 = filter_df_2.groupby('t_dat')['article_id'].value_counts().head(1).index.values[0][1]\n",
    "            color_3 = data['item'][data['item'].article_id==item_3]['colour_group_code'].iloc[0]\n",
    "            g_3 = data['item'][data['item'].article_id==item_3]['graphical_appearance_no'].iloc[0]\n",
    "\n",
    "            filter_df_3 = trans[~(trans.article_id.isin([item_1, item_2, item_3])) & \n",
    "                     (trans.product_code==prod_cd) & \n",
    "                     (trans.t_dat<pd.to_datetime(tdt)) & (trans.t_dat >= pd.to_datetime(tdt) - pd.Timedelta(days=n)) & \n",
    "                     ~ (trans.colour_group_code.isin([color_1, color_2, color_3]))]\n",
    "\n",
    "            if len(filter_df_3)>0:\n",
    "                item_4 = filter_df_3.groupby('t_dat')['article_id'].value_counts().head(1).index.values[0][1]\n",
    "                color_4 = data['item'][data['item'].article_id==item_4]['colour_group_code'].iloc[0]\n",
    "                g_4 = data['item'][data['item'].article_id==item_4]['graphical_appearance_no'].iloc[0]\n",
    "\n",
    "                filter_df_4 = trans[~(trans.article_id.isin([item_1, item_2, item_3, item_4])) & \n",
    "                     (trans.product_code==prod_cd) & \n",
    "                     (trans.t_dat<pd.to_datetime(tdt)) & (trans.t_dat >= pd.to_datetime(tdt) - pd.Timedelta(days=n)) & \n",
    "                     ~ (trans.graphical_appearance_no.isin([g_1, g_2, g_3, g_4]))]\n",
    "\n",
    "                if len(filter_df_4)>0:\n",
    "                    item_5 = filter_df_4.groupby('t_dat')['article_id'].value_counts().head(1).index.values[0][1]            \n",
    "\n",
    "            else:\n",
    "                filter_df_3_1 = trans[~(trans.article_id.isin([item_1, item_2, item_3])) & \n",
    "                 (trans.product_code==prod_cd) & \n",
    "                 (trans.t_dat<pd.to_datetime(tdt)) & (trans.t_dat >= pd.to_datetime(tdt) - pd.Timedelta(days=n)) & \n",
    "                 ~ (trans.graphical_appearance_no.isin([g_1, g_2, g_3]))]\n",
    "\n",
    "                if len(filter_df_3_1)>0:\n",
    "                    item_4 = filter_df_3_1.groupby('t_dat')['article_id'].value_counts().head(1).index.values[0][1]\n",
    "\n",
    "        else:\n",
    "            filter_df_2_1 = trans[~(trans.article_id.isin([item_1, item_2])) & \n",
    "                 (trans.product_code==prod_cd) & \n",
    "                 (trans.t_dat<pd.to_datetime(tdt)) & (trans.t_dat >= pd.to_datetime(tdt) - pd.Timedelta(days=n)) & \n",
    "                 ~ (trans.colour_group_code.isin([color_1, color_2]))]\n",
    "\n",
    "            if len(filter_df_2_1)>0:\n",
    "                item_3 = filter_df_2_1.groupby('t_dat')['article_id'].value_counts().head(1).index.values[0][1]\n",
    "                color_3 = data['item'][data['item'].article_id==item_3]['colour_group_code'].iloc[0]\n",
    "                g_3 = data['item'][data['item'].article_id==item_3]['graphical_appearance_no'].iloc[0]\n",
    "\n",
    "            else:\n",
    "                filter_df_2_2 = trans[~(trans.article_id.isin([item_1, item_2])) & \n",
    "                     (trans.product_code==prod_cd) & \n",
    "                     (trans.t_dat<pd.to_datetime(tdt)) & (trans.t_dat >= pd.to_datetime(tdt) - pd.Timedelta(days=n)) & \n",
    "                     ~ (trans.graphical_appearance_no.isin([g_1, g_2]))]\n",
    "\n",
    "                if len(filter_df_2_2)>0:\n",
    "                    item_3 = filter_df_2_2.groupby('t_dat')['article_id'].value_counts().head(1).index.values[0][1]\n",
    "\n",
    "    return item_2, item_3, item_4, item_5\n"
   ]
  },
  {
   "cell_type": "code",
   "execution_count": 43,
   "metadata": {},
   "outputs": [],
   "source": [
    "rare_group = rare_group.merge(candidates[candidates.article_id.isin(rare_group.article_id.unique())] \\\n",
    "                              .groupby(['article_id','method']).agg({'score':'mean', 'hit_rate':'mean'}), \n",
    "                              on=['article_id','method'])"
   ]
  },
  {
   "cell_type": "code",
   "execution_count": 53,
   "metadata": {},
   "outputs": [],
   "source": [
    "alternate_best_sells = pd.DataFrame(columns = rare_group.columns)\n",
    "\n",
    "lb_list = []\n",
    "art_list = []\n",
    "score_list = []\n",
    "hr_list = []\n",
    "method_list = []\n",
    "\n",
    "for i in range(0, len(rare_group)):\n",
    "    \n",
    "    bs_itm = rare_group['article_id'][i]\n",
    "    bs_lb = rare_group['lookback'][i]\n",
    "    bs_score = rare_group['score'][i]\n",
    "    bs_hr = rare_group['hit_rate'][i]\n",
    "    bs_method = rare_group['method'][i]\n",
    "    \n",
    "    a,b,c,d = find_alternate_items_all(bs_itm, bs_lb)\n",
    "\n",
    "    art_list.extend([a,b,c,d])\n",
    "    method_list.extend([bs_method]*4)\n",
    "    lb_list.extend([bs_lb]*4)\n",
    "    score_list.extend([bs_score]*4)\n",
    "    hr_list.extend([bs_hr]*4)"
   ]
  },
  {
   "cell_type": "code",
   "execution_count": 54,
   "metadata": {},
   "outputs": [],
   "source": [
    "alternate_best_sells['article_id'] = art_list\n",
    "alternate_best_sells['method'] = method_list\n",
    "alternate_best_sells['lookback'] = lb_list\n",
    "alternate_best_sells['score'] = score_list\n",
    "alternate_best_sells['hit_rate'] = hr_list\n",
    "\n",
    "alternate_best_sells = alternate_best_sells[alternate_best_sells.article_id!='']"
   ]
  },
  {
   "cell_type": "code",
   "execution_count": 60,
   "metadata": {
    "collapsed": true
   },
   "outputs": [
    {
     "data": {
      "text/html": [
       "<div>\n",
       "<style scoped>\n",
       "    .dataframe tbody tr th:only-of-type {\n",
       "        vertical-align: middle;\n",
       "    }\n",
       "\n",
       "    .dataframe tbody tr th {\n",
       "        vertical-align: top;\n",
       "    }\n",
       "\n",
       "    .dataframe thead th {\n",
       "        text-align: right;\n",
       "    }\n",
       "</style>\n",
       "<table border=\"1\" class=\"dataframe\">\n",
       "  <thead>\n",
       "    <tr style=\"text-align: right;\">\n",
       "      <th></th>\n",
       "      <th>customer_id</th>\n",
       "      <th>article_id</th>\n",
       "      <th>score</th>\n",
       "      <th>method</th>\n",
       "      <th>hit_rate</th>\n",
       "    </tr>\n",
       "  </thead>\n",
       "  <tbody>\n",
       "    <tr>\n",
       "      <th>0</th>\n",
       "      <td>1371767</td>\n",
       "      <td>60325</td>\n",
       "      <td>5.199338</td>\n",
       "      <td>OrderHistory_3</td>\n",
       "      <td>1.0</td>\n",
       "    </tr>\n",
       "    <tr>\n",
       "      <th>1</th>\n",
       "      <td>66507</td>\n",
       "      <td>42631</td>\n",
       "      <td>5.199338</td>\n",
       "      <td>OrderHistory_3</td>\n",
       "      <td>1.0</td>\n",
       "    </tr>\n",
       "    <tr>\n",
       "      <th>2</th>\n",
       "      <td>77078</td>\n",
       "      <td>63326</td>\n",
       "      <td>5.199338</td>\n",
       "      <td>OrderHistory_3</td>\n",
       "      <td>1.0</td>\n",
       "    </tr>\n",
       "    <tr>\n",
       "      <th>3</th>\n",
       "      <td>73718</td>\n",
       "      <td>70920</td>\n",
       "      <td>5.199338</td>\n",
       "      <td>OrderHistory_3</td>\n",
       "      <td>1.0</td>\n",
       "    </tr>\n",
       "    <tr>\n",
       "      <th>4</th>\n",
       "      <td>73123</td>\n",
       "      <td>80609</td>\n",
       "      <td>5.199338</td>\n",
       "      <td>OrderHistory_3</td>\n",
       "      <td>1.0</td>\n",
       "    </tr>\n",
       "    <tr>\n",
       "      <th>...</th>\n",
       "      <td>...</td>\n",
       "      <td>...</td>\n",
       "      <td>...</td>\n",
       "      <td>...</td>\n",
       "      <td>...</td>\n",
       "    </tr>\n",
       "    <tr>\n",
       "      <th>49617858</th>\n",
       "      <td>191894</td>\n",
       "      <td>104555</td>\n",
       "      <td>1.887753</td>\n",
       "      <td>SaleTrend_7_top50</td>\n",
       "      <td>0.0</td>\n",
       "    </tr>\n",
       "    <tr>\n",
       "      <th>49617859</th>\n",
       "      <td>1198812</td>\n",
       "      <td>104555</td>\n",
       "      <td>1.887753</td>\n",
       "      <td>SaleTrend_7_top50</td>\n",
       "      <td>0.0</td>\n",
       "    </tr>\n",
       "    <tr>\n",
       "      <th>49617860</th>\n",
       "      <td>425976</td>\n",
       "      <td>104555</td>\n",
       "      <td>1.887753</td>\n",
       "      <td>SaleTrend_7_top50</td>\n",
       "      <td>0.0</td>\n",
       "    </tr>\n",
       "    <tr>\n",
       "      <th>49617861</th>\n",
       "      <td>361074</td>\n",
       "      <td>104555</td>\n",
       "      <td>1.887753</td>\n",
       "      <td>SaleTrend_7_top50</td>\n",
       "      <td>0.0</td>\n",
       "    </tr>\n",
       "    <tr>\n",
       "      <th>49617862</th>\n",
       "      <td>838066</td>\n",
       "      <td>104555</td>\n",
       "      <td>1.887753</td>\n",
       "      <td>SaleTrend_7_top50</td>\n",
       "      <td>0.0</td>\n",
       "    </tr>\n",
       "  </tbody>\n",
       "</table>\n",
       "<p>49617863 rows × 5 columns</p>\n",
       "</div>"
      ],
      "text/plain": [
       "          customer_id  article_id     score             method  hit_rate\n",
       "0             1371767       60325  5.199338     OrderHistory_3       1.0\n",
       "1               66507       42631  5.199338     OrderHistory_3       1.0\n",
       "2               77078       63326  5.199338     OrderHistory_3       1.0\n",
       "3               73718       70920  5.199338     OrderHistory_3       1.0\n",
       "4               73123       80609  5.199338     OrderHistory_3       1.0\n",
       "...               ...         ...       ...                ...       ...\n",
       "49617858       191894      104555  1.887753  SaleTrend_7_top50       0.0\n",
       "49617859      1198812      104555  1.887753  SaleTrend_7_top50       0.0\n",
       "49617860       425976      104555  1.887753  SaleTrend_7_top50       0.0\n",
       "49617861       361074      104555  1.887753  SaleTrend_7_top50       0.0\n",
       "49617862       838066      104555  1.887753  SaleTrend_7_top50       0.0\n",
       "\n",
       "[49617863 rows x 5 columns]"
      ]
     },
     "execution_count": 60,
     "metadata": {},
     "output_type": "execute_result"
    }
   ],
   "source": [
    "additional_candidates = alternate_best_sells.drop('lookback', axis=1).merge(\n",
    "    candidates[['article_id','method','customer_id']], on=['article_id','method'])\n",
    "\n",
    "additional_candidates = additional_candidates[candidates.columns]"
   ]
  },
  {
   "cell_type": "code",
   "execution_count": 73,
   "metadata": {},
   "outputs": [],
   "source": [
    "del alternate_best_sells, rare_group, art_list,method_list,lb_list,score_list,hr_list\n",
    "del rare_candidates\n",
    "\n",
    "del trans['product_code']\n",
    "del trans['colour_group_code']\n",
    "del trans['graphical_appearance_no']"
   ]
  },
  {
   "cell_type": "code",
   "execution_count": 70,
   "metadata": {},
   "outputs": [],
   "source": [
    "# additional_candidates.to_parquet('additional_candidates.parquet')\n",
    "additional_candidates = pd.read_parquet('additional_candidates.parquet')"
   ]
  },
  {
   "cell_type": "code",
   "execution_count": 69,
   "metadata": {},
   "outputs": [],
   "source": [
    "candidates = pd.concat([candidates, additional_candidates], axis=0)"
   ]
  },
  {
   "cell_type": "code",
   "execution_count": 74,
   "metadata": {},
   "outputs": [
    {
     "data": {
      "text/plain": [
       "(51441976, 5)"
      ]
     },
     "execution_count": 74,
     "metadata": {},
     "output_type": "execute_result"
    }
   ],
   "source": [
    "candidates.shape"
   ]
  },
  {
   "cell_type": "code",
   "execution_count": 75,
   "metadata": {},
   "outputs": [],
   "source": [
    "candidates = (\n",
    "    pd.pivot_table(\n",
    "        candidates,\n",
    "        values=\"score\",\n",
    "        index=[\"customer_id\", \"article_id\"],\n",
    "        columns=[\"method\"],\n",
    "        aggfunc=np.sum,\n",
    "    )\n",
    "    .reset_index()\n",
    ")"
   ]
  },
  {
   "cell_type": "code",
   "execution_count": 76,
   "metadata": {},
   "outputs": [
    {
     "data": {
      "text/plain": [
       "(15709261, 23)"
      ]
     },
     "execution_count": 76,
     "metadata": {},
     "output_type": "execute_result"
    }
   ],
   "source": [
    "candidates.shape\n",
    "\n",
    "# (15630864, 24)"
   ]
  },
  {
   "cell_type": "code",
   "execution_count": 77,
   "metadata": {},
   "outputs": [
    {
     "data": {
      "text/plain": [
       "0.006208012290656241"
      ]
     },
     "execution_count": 77,
     "metadata": {},
     "output_type": "execute_result"
    }
   ],
   "source": [
    "label = valid[[\"customer_id\", \"article_id\"]]\n",
    "label.columns = [\"customer_id\", \"label_item\"]\n",
    "tmp_items = candidates.merge(label, on=[\"customer_id\"], how=\"left\")\n",
    "tmp_items = tmp_items[tmp_items[\"label_item\"].notnull()]\n",
    "tmp_items[\"label\"] = tmp_items.apply(lambda x: 1 if x[\"article_id\"] in x[\"label_item\"] else 0, axis=1)\n",
    "pos_rate = tmp_items[\"label\"].mean()\n",
    "pos_rate\n",
    "# 0.007686350632672472\n",
    "# 0.0056985812619375735\n",
    "# 0.0062356084250075995\n",
    "\n",
    "# 0.0062356084250075995"
   ]
  },
  {
   "cell_type": "code",
   "execution_count": 78,
   "metadata": {},
   "outputs": [],
   "source": [
    "candidates = candidates.drop_duplicates(['customer_id','article_id'])"
   ]
  },
  {
   "cell_type": "code",
   "execution_count": 79,
   "metadata": {},
   "outputs": [],
   "source": [
    "candidates = candidates.groupby('customer_id')['article_id'].apply(list).reset_index()"
   ]
  },
  {
   "cell_type": "code",
   "execution_count": 80,
   "metadata": {},
   "outputs": [],
   "source": [
    "candidates.rename(columns={'article_id': 'prediction'}, inplace=True)\n",
    "valid2 = pd.merge(valid, candidates, on=\"customer_id\", how=\"left\")"
   ]
  },
  {
   "cell_type": "code",
   "execution_count": 184,
   "metadata": {
    "scrolled": true
   },
   "outputs": [],
   "source": [
    "from typing import Iterable\n",
    "import numpy as np\n",
    "\n",
    "def _ap_at_kk(actual, predicted, k=10):\n",
    "    if len(predicted) > k:\n",
    "        predicted = predicted[:k]\n",
    "\n",
    "    score = 0.0\n",
    "    num_hits = 0.0\n",
    "\n",
    "    for i, p in enumerate(predicted):\n",
    "        if p in actual and p not in predicted[:i]:\n",
    "            num_hits += 1.0\n",
    "            score += num_hits / (i + 1.0)\n",
    "\n",
    "    if actual is None:\n",
    "        return 0.0\n",
    "\n",
    "    return score / min(len(actual), k)\n",
    "\n",
    "def map_at_kk(actual: Iterable, predicted: Iterable, k: int = 12) -> float:\n",
    "    return [_ap_at_kk(a,p,k) for a, p in zip(actual, predicted) if a is not None], \\\n",
    "            [list(set(a).intersection(p)) for a,p in zip(actual,predicted) if a is not None]\n",
    "\n",
    "map_list, matched_articles = map_at_kk(valid2[\"article_id\"], valid2[\"prediction\"], k=12)\n",
    "valid_df = pd.DataFrame({\"article_id\":valid2[\"article_id\"], 'prediction':valid2[\"prediction\"],\n",
    "                         'MAPall':map_list, 'MatchedArticles':matched_articles})\n",
    "\n",
    "valid_df.to_parquet('validation.parquet')"
   ]
  },
  {
   "cell_type": "code",
   "execution_count": 185,
   "metadata": {
    "scrolled": true
   },
   "outputs": [
    {
     "data": {
      "text/html": [
       "<div>\n",
       "<style scoped>\n",
       "    .dataframe tbody tr th:only-of-type {\n",
       "        vertical-align: middle;\n",
       "    }\n",
       "\n",
       "    .dataframe tbody tr th {\n",
       "        vertical-align: top;\n",
       "    }\n",
       "\n",
       "    .dataframe thead th {\n",
       "        text-align: right;\n",
       "    }\n",
       "</style>\n",
       "<table border=\"1\" class=\"dataframe\">\n",
       "  <thead>\n",
       "    <tr style=\"text-align: right;\">\n",
       "      <th></th>\n",
       "      <th>article_id</th>\n",
       "      <th>prediction</th>\n",
       "      <th>MAPall</th>\n",
       "      <th>MatchedArticles</th>\n",
       "    </tr>\n",
       "  </thead>\n",
       "  <tbody>\n",
       "    <tr>\n",
       "      <th>226</th>\n",
       "      <td>[3092]</td>\n",
       "      <td>[3092, 42627, 46383, 46385, 53893, 53894, 5669...</td>\n",
       "      <td>1.0</td>\n",
       "      <td>[3092]</td>\n",
       "    </tr>\n",
       "    <tr>\n",
       "      <th>363</th>\n",
       "      <td>[3092]</td>\n",
       "      <td>[3092, 3521, 13122, 13125, 17164, 20922, 42627...</td>\n",
       "      <td>1.0</td>\n",
       "      <td>[3092]</td>\n",
       "    </tr>\n",
       "    <tr>\n",
       "      <th>1668</th>\n",
       "      <td>[75]</td>\n",
       "      <td>[75, 78, 1714, 1731, 1733, 2196, 2197, 2200, 2...</td>\n",
       "      <td>1.0</td>\n",
       "      <td>[75]</td>\n",
       "    </tr>\n",
       "    <tr>\n",
       "      <th>2340</th>\n",
       "      <td>[2253]</td>\n",
       "      <td>[2253, 2254, 2261, 2864, 3092, 3521, 8106, 171...</td>\n",
       "      <td>1.0</td>\n",
       "      <td>[2253]</td>\n",
       "    </tr>\n",
       "    <tr>\n",
       "      <th>2682</th>\n",
       "      <td>[75]</td>\n",
       "      <td>[75, 76, 3092, 42627, 53893, 56695, 67523, 675...</td>\n",
       "      <td>1.0</td>\n",
       "      <td>[75]</td>\n",
       "    </tr>\n",
       "    <tr>\n",
       "      <th>2895</th>\n",
       "      <td>[75]</td>\n",
       "      <td>[75, 76, 507, 620, 1068, 1069, 1715, 3092, 127...</td>\n",
       "      <td>1.0</td>\n",
       "      <td>[75]</td>\n",
       "    </tr>\n",
       "    <tr>\n",
       "      <th>3752</th>\n",
       "      <td>[76, 75]</td>\n",
       "      <td>[75, 76, 78, 1714, 3092, 25191, 46352, 53893, ...</td>\n",
       "      <td>1.0</td>\n",
       "      <td>[75, 76]</td>\n",
       "    </tr>\n",
       "    <tr>\n",
       "      <th>3871</th>\n",
       "      <td>[2235]</td>\n",
       "      <td>[2235, 3092, 42627, 53893, 56606, 56608, 56695...</td>\n",
       "      <td>1.0</td>\n",
       "      <td>[2235]</td>\n",
       "    </tr>\n",
       "    <tr>\n",
       "      <th>4614</th>\n",
       "      <td>[1715]</td>\n",
       "      <td>[1715, 3092, 42627, 46352, 46371, 46383, 46385...</td>\n",
       "      <td>1.0</td>\n",
       "      <td>[1715]</td>\n",
       "    </tr>\n",
       "    <tr>\n",
       "      <th>4822</th>\n",
       "      <td>[1714]</td>\n",
       "      <td>[1714, 1715, 3092, 13339, 15989, 15990, 16004,...</td>\n",
       "      <td>1.0</td>\n",
       "      <td>[1714]</td>\n",
       "    </tr>\n",
       "    <tr>\n",
       "      <th>6117</th>\n",
       "      <td>[68]</td>\n",
       "      <td>[68, 1714, 3092, 24837, 24838, 33642, 39768, 4...</td>\n",
       "      <td>1.0</td>\n",
       "      <td>[68]</td>\n",
       "    </tr>\n",
       "    <tr>\n",
       "      <th>6847</th>\n",
       "      <td>[2253]</td>\n",
       "      <td>[2253, 3092, 12609, 17415, 17417, 18814, 18815...</td>\n",
       "      <td>1.0</td>\n",
       "      <td>[2253]</td>\n",
       "    </tr>\n",
       "    <tr>\n",
       "      <th>8001</th>\n",
       "      <td>[975]</td>\n",
       "      <td>[975, 3092, 17044, 17045, 29677, 41014, 53893,...</td>\n",
       "      <td>1.0</td>\n",
       "      <td>[975]</td>\n",
       "    </tr>\n",
       "    <tr>\n",
       "      <th>10627</th>\n",
       "      <td>[3089]</td>\n",
       "      <td>[3089, 3092, 3521, 17164, 42627, 53893, 56695,...</td>\n",
       "      <td>1.0</td>\n",
       "      <td>[3089]</td>\n",
       "    </tr>\n",
       "    <tr>\n",
       "      <th>11286</th>\n",
       "      <td>[3089, 3092]</td>\n",
       "      <td>[3089, 3092, 42627, 46383, 46385, 53893, 53894...</td>\n",
       "      <td>1.0</td>\n",
       "      <td>[3089, 3092]</td>\n",
       "    </tr>\n",
       "    <tr>\n",
       "      <th>11836</th>\n",
       "      <td>[3092]</td>\n",
       "      <td>[3092, 3521, 17164, 42627, 53893, 56695, 57064...</td>\n",
       "      <td>1.0</td>\n",
       "      <td>[3092]</td>\n",
       "    </tr>\n",
       "    <tr>\n",
       "      <th>13004</th>\n",
       "      <td>[1714]</td>\n",
       "      <td>[1714, 1715, 3089, 3092, 9774, 14245, 14247, 2...</td>\n",
       "      <td>1.0</td>\n",
       "      <td>[1714]</td>\n",
       "    </tr>\n",
       "    <tr>\n",
       "      <th>18820</th>\n",
       "      <td>[3092]</td>\n",
       "      <td>[3092, 24837, 24838, 42627, 46383, 46385, 5389...</td>\n",
       "      <td>1.0</td>\n",
       "      <td>[3092]</td>\n",
       "    </tr>\n",
       "    <tr>\n",
       "      <th>21593</th>\n",
       "      <td>[1714]</td>\n",
       "      <td>[1714, 3092, 3521, 9295, 15989, 16004, 17164, ...</td>\n",
       "      <td>1.0</td>\n",
       "      <td>[1714]</td>\n",
       "    </tr>\n",
       "    <tr>\n",
       "      <th>22147</th>\n",
       "      <td>[3092]</td>\n",
       "      <td>[3092, 42627, 46383, 46385, 53893, 53894, 5669...</td>\n",
       "      <td>1.0</td>\n",
       "      <td>[3092]</td>\n",
       "    </tr>\n",
       "    <tr>\n",
       "      <th>23958</th>\n",
       "      <td>[1714]</td>\n",
       "      <td>[1714, 3092, 24838, 42934, 53893, 56695, 60747...</td>\n",
       "      <td>1.0</td>\n",
       "      <td>[1714]</td>\n",
       "    </tr>\n",
       "    <tr>\n",
       "      <th>24660</th>\n",
       "      <td>[3092]</td>\n",
       "      <td>[3092, 53893, 56695, 58377, 67523, 67544, 7110...</td>\n",
       "      <td>1.0</td>\n",
       "      <td>[3092]</td>\n",
       "    </tr>\n",
       "    <tr>\n",
       "      <th>25919</th>\n",
       "      <td>[3092]</td>\n",
       "      <td>[3092, 20851, 53893, 54339, 54342, 56695, 6752...</td>\n",
       "      <td>1.0</td>\n",
       "      <td>[3092]</td>\n",
       "    </tr>\n",
       "    <tr>\n",
       "      <th>27454</th>\n",
       "      <td>[3092]</td>\n",
       "      <td>[3092, 3521, 17164, 42627, 53893, 56695, 57064...</td>\n",
       "      <td>1.0</td>\n",
       "      <td>[3092]</td>\n",
       "    </tr>\n",
       "    <tr>\n",
       "      <th>27547</th>\n",
       "      <td>[11]</td>\n",
       "      <td>[11, 118, 1180, 3092, 3521, 14792, 17164, 4262...</td>\n",
       "      <td>1.0</td>\n",
       "      <td>[11]</td>\n",
       "    </tr>\n",
       "    <tr>\n",
       "      <th>28893</th>\n",
       "      <td>[3092]</td>\n",
       "      <td>[3092, 42627, 46383, 46385, 53893, 53894, 5669...</td>\n",
       "      <td>1.0</td>\n",
       "      <td>[3092]</td>\n",
       "    </tr>\n",
       "    <tr>\n",
       "      <th>30780</th>\n",
       "      <td>[3092]</td>\n",
       "      <td>[3092, 42627, 46383, 46385, 53893, 53894, 5669...</td>\n",
       "      <td>1.0</td>\n",
       "      <td>[3092]</td>\n",
       "    </tr>\n",
       "    <tr>\n",
       "      <th>32286</th>\n",
       "      <td>[1715, 1714]</td>\n",
       "      <td>[1714, 1715, 3092, 42627, 46383, 46385, 53893,...</td>\n",
       "      <td>1.0</td>\n",
       "      <td>[1714, 1715]</td>\n",
       "    </tr>\n",
       "    <tr>\n",
       "      <th>33049</th>\n",
       "      <td>[3092]</td>\n",
       "      <td>[3092, 42627, 46383, 46385, 53893, 53894, 5669...</td>\n",
       "      <td>1.0</td>\n",
       "      <td>[3092]</td>\n",
       "    </tr>\n",
       "    <tr>\n",
       "      <th>33159</th>\n",
       "      <td>[75]</td>\n",
       "      <td>[75, 78, 1714, 3092, 5214, 17670, 17675, 53893...</td>\n",
       "      <td>1.0</td>\n",
       "      <td>[75]</td>\n",
       "    </tr>\n",
       "    <tr>\n",
       "      <th>34101</th>\n",
       "      <td>[3089]</td>\n",
       "      <td>[3089, 3092, 16453, 16454, 17165, 17168, 25552...</td>\n",
       "      <td>1.0</td>\n",
       "      <td>[3089]</td>\n",
       "    </tr>\n",
       "    <tr>\n",
       "      <th>34786</th>\n",
       "      <td>[2253]</td>\n",
       "      <td>[2253, 3092, 3521, 17164, 22466, 22467, 32723,...</td>\n",
       "      <td>1.0</td>\n",
       "      <td>[2253]</td>\n",
       "    </tr>\n",
       "    <tr>\n",
       "      <th>35519</th>\n",
       "      <td>[232, 854, 852]</td>\n",
       "      <td>[232, 852, 854, 855, 1355, 1425, 3092, 3281, 3...</td>\n",
       "      <td>1.0</td>\n",
       "      <td>[232, 852, 854]</td>\n",
       "    </tr>\n",
       "    <tr>\n",
       "      <th>39085</th>\n",
       "      <td>[975]</td>\n",
       "      <td>[975, 3092, 3521, 17164, 32724, 41415, 42627, ...</td>\n",
       "      <td>1.0</td>\n",
       "      <td>[975]</td>\n",
       "    </tr>\n",
       "    <tr>\n",
       "      <th>40104</th>\n",
       "      <td>[3092]</td>\n",
       "      <td>[3092, 3521, 17164, 42627, 53893, 56695, 57064...</td>\n",
       "      <td>1.0</td>\n",
       "      <td>[3092]</td>\n",
       "    </tr>\n",
       "    <tr>\n",
       "      <th>40204</th>\n",
       "      <td>[68]</td>\n",
       "      <td>[68, 1714, 1715, 3092, 12725, 12727, 12745, 16...</td>\n",
       "      <td>1.0</td>\n",
       "      <td>[68]</td>\n",
       "    </tr>\n",
       "    <tr>\n",
       "      <th>42363</th>\n",
       "      <td>[3089]</td>\n",
       "      <td>[3089, 3092, 3099, 3521, 6459, 17126, 17164, 4...</td>\n",
       "      <td>1.0</td>\n",
       "      <td>[3089]</td>\n",
       "    </tr>\n",
       "    <tr>\n",
       "      <th>42510</th>\n",
       "      <td>[505]</td>\n",
       "      <td>[505, 507, 1714, 3092, 3941, 6458, 6459, 25800...</td>\n",
       "      <td>1.0</td>\n",
       "      <td>[505]</td>\n",
       "    </tr>\n",
       "    <tr>\n",
       "      <th>43677</th>\n",
       "      <td>[3092]</td>\n",
       "      <td>[3092, 3521, 13597, 15119, 17164, 23470, 23471...</td>\n",
       "      <td>1.0</td>\n",
       "      <td>[3092]</td>\n",
       "    </tr>\n",
       "    <tr>\n",
       "      <th>44043</th>\n",
       "      <td>[3092]</td>\n",
       "      <td>[3092, 53893, 56695, 67523, 67544, 71108, 8155...</td>\n",
       "      <td>1.0</td>\n",
       "      <td>[3092]</td>\n",
       "    </tr>\n",
       "    <tr>\n",
       "      <th>47147</th>\n",
       "      <td>[3089]</td>\n",
       "      <td>[3089, 3092, 17126, 17131, 17133, 17156, 27906...</td>\n",
       "      <td>1.0</td>\n",
       "      <td>[3089]</td>\n",
       "    </tr>\n",
       "    <tr>\n",
       "      <th>48681</th>\n",
       "      <td>[2253]</td>\n",
       "      <td>[2253, 3092, 9774, 10817, 10818, 26741, 28398,...</td>\n",
       "      <td>1.0</td>\n",
       "      <td>[2253]</td>\n",
       "    </tr>\n",
       "    <tr>\n",
       "      <th>52551</th>\n",
       "      <td>[975]</td>\n",
       "      <td>[975, 1714, 3092, 3521, 4746, 16619, 17164, 32...</td>\n",
       "      <td>1.0</td>\n",
       "      <td>[975]</td>\n",
       "    </tr>\n",
       "    <tr>\n",
       "      <th>52950</th>\n",
       "      <td>[1714]</td>\n",
       "      <td>[1714, 1715, 3092, 45358, 53893, 56695, 58377,...</td>\n",
       "      <td>1.0</td>\n",
       "      <td>[1714]</td>\n",
       "    </tr>\n",
       "    <tr>\n",
       "      <th>54652</th>\n",
       "      <td>[3092]</td>\n",
       "      <td>[3092, 53893, 56695, 61398, 61401, 67523, 6754...</td>\n",
       "      <td>1.0</td>\n",
       "      <td>[3092]</td>\n",
       "    </tr>\n",
       "    <tr>\n",
       "      <th>54660</th>\n",
       "      <td>[2253]</td>\n",
       "      <td>[2253, 2259, 2261, 3092, 16004, 32743, 42627, ...</td>\n",
       "      <td>1.0</td>\n",
       "      <td>[2253]</td>\n",
       "    </tr>\n",
       "    <tr>\n",
       "      <th>55025</th>\n",
       "      <td>[3092]</td>\n",
       "      <td>[3092, 6446, 33868, 42627, 46383, 46385, 52144...</td>\n",
       "      <td>1.0</td>\n",
       "      <td>[3092]</td>\n",
       "    </tr>\n",
       "    <tr>\n",
       "      <th>55934</th>\n",
       "      <td>[3092]</td>\n",
       "      <td>[3092, 42627, 42629, 53893, 53894, 56695, 5850...</td>\n",
       "      <td>1.0</td>\n",
       "      <td>[3092]</td>\n",
       "    </tr>\n",
       "    <tr>\n",
       "      <th>55954</th>\n",
       "      <td>[3092]</td>\n",
       "      <td>[3092, 42627, 46383, 46385, 53893, 53894, 5669...</td>\n",
       "      <td>1.0</td>\n",
       "      <td>[3092]</td>\n",
       "    </tr>\n",
       "    <tr>\n",
       "      <th>58908</th>\n",
       "      <td>[1714]</td>\n",
       "      <td>[1714, 3092, 9295, 22466, 42198, 42627, 53893,...</td>\n",
       "      <td>1.0</td>\n",
       "      <td>[1714]</td>\n",
       "    </tr>\n",
       "    <tr>\n",
       "      <th>59727</th>\n",
       "      <td>[3092]</td>\n",
       "      <td>[3092, 3602, 3603, 3605, 6277, 6279, 39229, 39...</td>\n",
       "      <td>1.0</td>\n",
       "      <td>[3092]</td>\n",
       "    </tr>\n",
       "    <tr>\n",
       "      <th>60555</th>\n",
       "      <td>[1714]</td>\n",
       "      <td>[1714, 3092, 3941, 12725, 12727, 12757, 13339,...</td>\n",
       "      <td>1.0</td>\n",
       "      <td>[1714]</td>\n",
       "    </tr>\n",
       "    <tr>\n",
       "      <th>61307</th>\n",
       "      <td>[75]</td>\n",
       "      <td>[75, 76, 78, 1714, 3092, 8485, 13849, 24837, 2...</td>\n",
       "      <td>1.0</td>\n",
       "      <td>[75]</td>\n",
       "    </tr>\n",
       "    <tr>\n",
       "      <th>61499</th>\n",
       "      <td>[3092]</td>\n",
       "      <td>[3092, 3521, 7726, 9774, 17044, 17045, 17164, ...</td>\n",
       "      <td>1.0</td>\n",
       "      <td>[3092]</td>\n",
       "    </tr>\n",
       "    <tr>\n",
       "      <th>61626</th>\n",
       "      <td>[3092]</td>\n",
       "      <td>[3092, 42627, 46383, 46385, 53893, 53894, 5669...</td>\n",
       "      <td>1.0</td>\n",
       "      <td>[3092]</td>\n",
       "    </tr>\n",
       "    <tr>\n",
       "      <th>64445</th>\n",
       "      <td>[3092]</td>\n",
       "      <td>[3092, 42627, 46383, 46385, 53893, 53894, 5669...</td>\n",
       "      <td>1.0</td>\n",
       "      <td>[3092]</td>\n",
       "    </tr>\n",
       "    <tr>\n",
       "      <th>64754</th>\n",
       "      <td>[1714]</td>\n",
       "      <td>[1714, 1715, 3092, 3521, 6446, 17164, 38614, 4...</td>\n",
       "      <td>1.0</td>\n",
       "      <td>[1714]</td>\n",
       "    </tr>\n",
       "    <tr>\n",
       "      <th>67341</th>\n",
       "      <td>[1714]</td>\n",
       "      <td>[1714, 3092, 17156, 25800, 41921, 41927, 42627...</td>\n",
       "      <td>1.0</td>\n",
       "      <td>[1714]</td>\n",
       "    </tr>\n",
       "    <tr>\n",
       "      <th>68059</th>\n",
       "      <td>[3092]</td>\n",
       "      <td>[3092, 42627, 46383, 46385, 53893, 53894, 5669...</td>\n",
       "      <td>1.0</td>\n",
       "      <td>[3092]</td>\n",
       "    </tr>\n",
       "    <tr>\n",
       "      <th>68606</th>\n",
       "      <td>[68]</td>\n",
       "      <td>[68, 1714, 3092, 36353, 42558, 42627, 46352, 4...</td>\n",
       "      <td>1.0</td>\n",
       "      <td>[68]</td>\n",
       "    </tr>\n",
       "  </tbody>\n",
       "</table>\n",
       "</div>"
      ],
      "text/plain": [
       "            article_id                                         prediction  \\\n",
       "226             [3092]  [3092, 42627, 46383, 46385, 53893, 53894, 5669...   \n",
       "363             [3092]  [3092, 3521, 13122, 13125, 17164, 20922, 42627...   \n",
       "1668              [75]  [75, 78, 1714, 1731, 1733, 2196, 2197, 2200, 2...   \n",
       "2340            [2253]  [2253, 2254, 2261, 2864, 3092, 3521, 8106, 171...   \n",
       "2682              [75]  [75, 76, 3092, 42627, 53893, 56695, 67523, 675...   \n",
       "2895              [75]  [75, 76, 507, 620, 1068, 1069, 1715, 3092, 127...   \n",
       "3752          [76, 75]  [75, 76, 78, 1714, 3092, 25191, 46352, 53893, ...   \n",
       "3871            [2235]  [2235, 3092, 42627, 53893, 56606, 56608, 56695...   \n",
       "4614            [1715]  [1715, 3092, 42627, 46352, 46371, 46383, 46385...   \n",
       "4822            [1714]  [1714, 1715, 3092, 13339, 15989, 15990, 16004,...   \n",
       "6117              [68]  [68, 1714, 3092, 24837, 24838, 33642, 39768, 4...   \n",
       "6847            [2253]  [2253, 3092, 12609, 17415, 17417, 18814, 18815...   \n",
       "8001             [975]  [975, 3092, 17044, 17045, 29677, 41014, 53893,...   \n",
       "10627           [3089]  [3089, 3092, 3521, 17164, 42627, 53893, 56695,...   \n",
       "11286     [3089, 3092]  [3089, 3092, 42627, 46383, 46385, 53893, 53894...   \n",
       "11836           [3092]  [3092, 3521, 17164, 42627, 53893, 56695, 57064...   \n",
       "13004           [1714]  [1714, 1715, 3089, 3092, 9774, 14245, 14247, 2...   \n",
       "18820           [3092]  [3092, 24837, 24838, 42627, 46383, 46385, 5389...   \n",
       "21593           [1714]  [1714, 3092, 3521, 9295, 15989, 16004, 17164, ...   \n",
       "22147           [3092]  [3092, 42627, 46383, 46385, 53893, 53894, 5669...   \n",
       "23958           [1714]  [1714, 3092, 24838, 42934, 53893, 56695, 60747...   \n",
       "24660           [3092]  [3092, 53893, 56695, 58377, 67523, 67544, 7110...   \n",
       "25919           [3092]  [3092, 20851, 53893, 54339, 54342, 56695, 6752...   \n",
       "27454           [3092]  [3092, 3521, 17164, 42627, 53893, 56695, 57064...   \n",
       "27547             [11]  [11, 118, 1180, 3092, 3521, 14792, 17164, 4262...   \n",
       "28893           [3092]  [3092, 42627, 46383, 46385, 53893, 53894, 5669...   \n",
       "30780           [3092]  [3092, 42627, 46383, 46385, 53893, 53894, 5669...   \n",
       "32286     [1715, 1714]  [1714, 1715, 3092, 42627, 46383, 46385, 53893,...   \n",
       "33049           [3092]  [3092, 42627, 46383, 46385, 53893, 53894, 5669...   \n",
       "33159             [75]  [75, 78, 1714, 3092, 5214, 17670, 17675, 53893...   \n",
       "34101           [3089]  [3089, 3092, 16453, 16454, 17165, 17168, 25552...   \n",
       "34786           [2253]  [2253, 3092, 3521, 17164, 22466, 22467, 32723,...   \n",
       "35519  [232, 854, 852]  [232, 852, 854, 855, 1355, 1425, 3092, 3281, 3...   \n",
       "39085            [975]  [975, 3092, 3521, 17164, 32724, 41415, 42627, ...   \n",
       "40104           [3092]  [3092, 3521, 17164, 42627, 53893, 56695, 57064...   \n",
       "40204             [68]  [68, 1714, 1715, 3092, 12725, 12727, 12745, 16...   \n",
       "42363           [3089]  [3089, 3092, 3099, 3521, 6459, 17126, 17164, 4...   \n",
       "42510            [505]  [505, 507, 1714, 3092, 3941, 6458, 6459, 25800...   \n",
       "43677           [3092]  [3092, 3521, 13597, 15119, 17164, 23470, 23471...   \n",
       "44043           [3092]  [3092, 53893, 56695, 67523, 67544, 71108, 8155...   \n",
       "47147           [3089]  [3089, 3092, 17126, 17131, 17133, 17156, 27906...   \n",
       "48681           [2253]  [2253, 3092, 9774, 10817, 10818, 26741, 28398,...   \n",
       "52551            [975]  [975, 1714, 3092, 3521, 4746, 16619, 17164, 32...   \n",
       "52950           [1714]  [1714, 1715, 3092, 45358, 53893, 56695, 58377,...   \n",
       "54652           [3092]  [3092, 53893, 56695, 61398, 61401, 67523, 6754...   \n",
       "54660           [2253]  [2253, 2259, 2261, 3092, 16004, 32743, 42627, ...   \n",
       "55025           [3092]  [3092, 6446, 33868, 42627, 46383, 46385, 52144...   \n",
       "55934           [3092]  [3092, 42627, 42629, 53893, 53894, 56695, 5850...   \n",
       "55954           [3092]  [3092, 42627, 46383, 46385, 53893, 53894, 5669...   \n",
       "58908           [1714]  [1714, 3092, 9295, 22466, 42198, 42627, 53893,...   \n",
       "59727           [3092]  [3092, 3602, 3603, 3605, 6277, 6279, 39229, 39...   \n",
       "60555           [1714]  [1714, 3092, 3941, 12725, 12727, 12757, 13339,...   \n",
       "61307             [75]  [75, 76, 78, 1714, 3092, 8485, 13849, 24837, 2...   \n",
       "61499           [3092]  [3092, 3521, 7726, 9774, 17044, 17045, 17164, ...   \n",
       "61626           [3092]  [3092, 42627, 46383, 46385, 53893, 53894, 5669...   \n",
       "64445           [3092]  [3092, 42627, 46383, 46385, 53893, 53894, 5669...   \n",
       "64754           [1714]  [1714, 1715, 3092, 3521, 6446, 17164, 38614, 4...   \n",
       "67341           [1714]  [1714, 3092, 17156, 25800, 41921, 41927, 42627...   \n",
       "68059           [3092]  [3092, 42627, 46383, 46385, 53893, 53894, 5669...   \n",
       "68606             [68]  [68, 1714, 3092, 36353, 42558, 42627, 46352, 4...   \n",
       "\n",
       "       MAPall  MatchedArticles  \n",
       "226       1.0           [3092]  \n",
       "363       1.0           [3092]  \n",
       "1668      1.0             [75]  \n",
       "2340      1.0           [2253]  \n",
       "2682      1.0             [75]  \n",
       "2895      1.0             [75]  \n",
       "3752      1.0         [75, 76]  \n",
       "3871      1.0           [2235]  \n",
       "4614      1.0           [1715]  \n",
       "4822      1.0           [1714]  \n",
       "6117      1.0             [68]  \n",
       "6847      1.0           [2253]  \n",
       "8001      1.0            [975]  \n",
       "10627     1.0           [3089]  \n",
       "11286     1.0     [3089, 3092]  \n",
       "11836     1.0           [3092]  \n",
       "13004     1.0           [1714]  \n",
       "18820     1.0           [3092]  \n",
       "21593     1.0           [1714]  \n",
       "22147     1.0           [3092]  \n",
       "23958     1.0           [1714]  \n",
       "24660     1.0           [3092]  \n",
       "25919     1.0           [3092]  \n",
       "27454     1.0           [3092]  \n",
       "27547     1.0             [11]  \n",
       "28893     1.0           [3092]  \n",
       "30780     1.0           [3092]  \n",
       "32286     1.0     [1714, 1715]  \n",
       "33049     1.0           [3092]  \n",
       "33159     1.0             [75]  \n",
       "34101     1.0           [3089]  \n",
       "34786     1.0           [2253]  \n",
       "35519     1.0  [232, 852, 854]  \n",
       "39085     1.0            [975]  \n",
       "40104     1.0           [3092]  \n",
       "40204     1.0             [68]  \n",
       "42363     1.0           [3089]  \n",
       "42510     1.0            [505]  \n",
       "43677     1.0           [3092]  \n",
       "44043     1.0           [3092]  \n",
       "47147     1.0           [3089]  \n",
       "48681     1.0           [2253]  \n",
       "52551     1.0            [975]  \n",
       "52950     1.0           [1714]  \n",
       "54652     1.0           [3092]  \n",
       "54660     1.0           [2253]  \n",
       "55025     1.0           [3092]  \n",
       "55934     1.0           [3092]  \n",
       "55954     1.0           [3092]  \n",
       "58908     1.0           [1714]  \n",
       "59727     1.0           [3092]  \n",
       "60555     1.0           [1714]  \n",
       "61307     1.0             [75]  \n",
       "61499     1.0           [3092]  \n",
       "61626     1.0           [3092]  \n",
       "64445     1.0           [3092]  \n",
       "64754     1.0           [1714]  \n",
       "67341     1.0           [1714]  \n",
       "68059     1.0           [3092]  \n",
       "68606     1.0             [68]  "
      ]
     },
     "execution_count": 185,
     "metadata": {},
     "output_type": "execute_result"
    }
   ],
   "source": [
    "valid_df[valid_df.MAPall==valid_df.MAPall.max()]"
   ]
  },
  {
   "cell_type": "code",
   "execution_count": 229,
   "metadata": {},
   "outputs": [
    {
     "data": {
      "text/html": [
       "<div>\n",
       "<style scoped>\n",
       "    .dataframe tbody tr th:only-of-type {\n",
       "        vertical-align: middle;\n",
       "    }\n",
       "\n",
       "    .dataframe tbody tr th {\n",
       "        vertical-align: top;\n",
       "    }\n",
       "\n",
       "    .dataframe thead th {\n",
       "        text-align: right;\n",
       "    }\n",
       "</style>\n",
       "<table border=\"1\" class=\"dataframe\">\n",
       "  <thead>\n",
       "    <tr style=\"text-align: right;\">\n",
       "      <th></th>\n",
       "      <th>article_id</th>\n",
       "      <th>prediction</th>\n",
       "      <th>MAPall</th>\n",
       "      <th>MatchedArticles</th>\n",
       "    </tr>\n",
       "  </thead>\n",
       "  <tbody>\n",
       "    <tr>\n",
       "      <th>6</th>\n",
       "      <td>[76696, 103576, 100335, 103576, 100335, 96767,...</td>\n",
       "      <td>[7, 9, 54, 74, 122, 123, 124, 1714, 1715, 2433...</td>\n",
       "      <td>0.0</td>\n",
       "      <td>[104150]</td>\n",
       "    </tr>\n",
       "    <tr>\n",
       "      <th>9</th>\n",
       "      <td>[54340, 54340, 96071]</td>\n",
       "      <td>[1483, 1715, 3092, 42627, 46383, 46385, 53893,...</td>\n",
       "      <td>0.0</td>\n",
       "      <td>[96071]</td>\n",
       "    </tr>\n",
       "    <tr>\n",
       "      <th>17</th>\n",
       "      <td>[53894, 97850, 90580, 83497]</td>\n",
       "      <td>[1714, 1715, 3092, 3281, 17670, 24838, 25800, ...</td>\n",
       "      <td>0.0</td>\n",
       "      <td>[53894]</td>\n",
       "    </tr>\n",
       "    <tr>\n",
       "      <th>19</th>\n",
       "      <td>[102446, 103105]</td>\n",
       "      <td>[910, 975, 3092, 3521, 9774, 15989, 16004, 171...</td>\n",
       "      <td>0.0</td>\n",
       "      <td>[102446]</td>\n",
       "    </tr>\n",
       "    <tr>\n",
       "      <th>23</th>\n",
       "      <td>[104073]</td>\n",
       "      <td>[899, 1301, 1393, 1714, 2030, 2060, 2913, 2914...</td>\n",
       "      <td>0.0</td>\n",
       "      <td>[104073]</td>\n",
       "    </tr>\n",
       "    <tr>\n",
       "      <th>...</th>\n",
       "      <td>...</td>\n",
       "      <td>...</td>\n",
       "      <td>...</td>\n",
       "      <td>...</td>\n",
       "    </tr>\n",
       "    <tr>\n",
       "      <th>68958</th>\n",
       "      <td>[102183, 102183, 81558]</td>\n",
       "      <td>[3092, 6145, 42627, 50670, 53893, 55589, 56695...</td>\n",
       "      <td>0.0</td>\n",
       "      <td>[102183]</td>\n",
       "    </tr>\n",
       "    <tr>\n",
       "      <th>68966</th>\n",
       "      <td>[104554, 97323, 103304]</td>\n",
       "      <td>[68, 1714, 1715, 3092, 6459, 42627, 53893, 566...</td>\n",
       "      <td>0.0</td>\n",
       "      <td>[103304, 104554]</td>\n",
       "    </tr>\n",
       "    <tr>\n",
       "      <th>68968</th>\n",
       "      <td>[76004, 83764, 97252, 103705, 103794, 104932, ...</td>\n",
       "      <td>[1714, 2209, 2220, 2235, 3089, 3092, 3941, 395...</td>\n",
       "      <td>0.0</td>\n",
       "      <td>[104073, 103794]</td>\n",
       "    </tr>\n",
       "    <tr>\n",
       "      <th>68975</th>\n",
       "      <td>[104554]</td>\n",
       "      <td>[3092, 42627, 53893, 56695, 67523, 67540, 6754...</td>\n",
       "      <td>0.0</td>\n",
       "      <td>[104554]</td>\n",
       "    </tr>\n",
       "    <tr>\n",
       "      <th>68981</th>\n",
       "      <td>[2119, 84995, 57079, 84992, 101100, 104037, 87...</td>\n",
       "      <td>[9, 74, 2237, 2864, 3092, 3744, 3745, 6459, 64...</td>\n",
       "      <td>0.0</td>\n",
       "      <td>[79469]</td>\n",
       "    </tr>\n",
       "  </tbody>\n",
       "</table>\n",
       "<p>12207 rows × 4 columns</p>\n",
       "</div>"
      ],
      "text/plain": [
       "                                              article_id  \\\n",
       "6      [76696, 103576, 100335, 103576, 100335, 96767,...   \n",
       "9                                  [54340, 54340, 96071]   \n",
       "17                          [53894, 97850, 90580, 83497]   \n",
       "19                                      [102446, 103105]   \n",
       "23                                              [104073]   \n",
       "...                                                  ...   \n",
       "68958                            [102183, 102183, 81558]   \n",
       "68966                            [104554, 97323, 103304]   \n",
       "68968  [76004, 83764, 97252, 103705, 103794, 104932, ...   \n",
       "68975                                           [104554]   \n",
       "68981  [2119, 84995, 57079, 84992, 101100, 104037, 87...   \n",
       "\n",
       "                                              prediction  MAPall  \\\n",
       "6      [7, 9, 54, 74, 122, 123, 124, 1714, 1715, 2433...     0.0   \n",
       "9      [1483, 1715, 3092, 42627, 46383, 46385, 53893,...     0.0   \n",
       "17     [1714, 1715, 3092, 3281, 17670, 24838, 25800, ...     0.0   \n",
       "19     [910, 975, 3092, 3521, 9774, 15989, 16004, 171...     0.0   \n",
       "23     [899, 1301, 1393, 1714, 2030, 2060, 2913, 2914...     0.0   \n",
       "...                                                  ...     ...   \n",
       "68958  [3092, 6145, 42627, 50670, 53893, 55589, 56695...     0.0   \n",
       "68966  [68, 1714, 1715, 3092, 6459, 42627, 53893, 566...     0.0   \n",
       "68968  [1714, 2209, 2220, 2235, 3089, 3092, 3941, 395...     0.0   \n",
       "68975  [3092, 42627, 53893, 56695, 67523, 67540, 6754...     0.0   \n",
       "68981  [9, 74, 2237, 2864, 3092, 3744, 3745, 6459, 64...     0.0   \n",
       "\n",
       "        MatchedArticles  \n",
       "6              [104150]  \n",
       "9               [96071]  \n",
       "17              [53894]  \n",
       "19             [102446]  \n",
       "23             [104073]  \n",
       "...                 ...  \n",
       "68958          [102183]  \n",
       "68966  [103304, 104554]  \n",
       "68968  [104073, 103794]  \n",
       "68975          [104554]  \n",
       "68981           [79469]  \n",
       "\n",
       "[12207 rows x 4 columns]"
      ]
     },
     "execution_count": 229,
     "metadata": {},
     "output_type": "execute_result"
    }
   ],
   "source": [
    "valid_df[(valid_df.MAPall==0) & (valid_df.MatchedArticles.astype(str)!='[]')]"
   ]
  },
  {
   "cell_type": "code",
   "execution_count": 195,
   "metadata": {
    "scrolled": true
   },
   "outputs": [],
   "source": [
    "item_focus = valid_df[(valid_df.MAPall==0) & \n",
    "                      (valid_df.MatchedArticles.astype(str)!='[]')]['MatchedArticles'].tolist()"
   ]
  },
  {
   "cell_type": "code",
   "execution_count": 197,
   "metadata": {},
   "outputs": [],
   "source": [
    "flat_list = [item for sublist in item_focus for item in sublist]\n",
    "flat_list = list(set(flat_list))"
   ]
  },
  {
   "cell_type": "code",
   "execution_count": 204,
   "metadata": {},
   "outputs": [],
   "source": [
    "item_index2id = pickle.load(open(data_dir/\"index_id_map/item_index2id.pkl\", \"rb\"))"
   ]
  },
  {
   "cell_type": "code",
   "execution_count": 215,
   "metadata": {},
   "outputs": [],
   "source": [
    "with open('bring_to_top12.pkl', 'wb') as f:\n",
    "    pickle.dump(flat_list, f)"
   ]
  },
  {
   "cell_type": "code",
   "execution_count": 212,
   "metadata": {},
   "outputs": [],
   "source": [
    "flat_list_id = [item_index2id[i] for i in flat_list]"
   ]
  },
  {
   "cell_type": "code",
   "execution_count": 232,
   "metadata": {
    "scrolled": true
   },
   "outputs": [
    {
     "name": "stdout",
     "output_type": "stream",
     "text": [
      "[7, 9, 54, 74, 122, 123, 124, 1714, 1715, 2433, 3092, 3521, 12727, 12757, 14241, 14254, 17044, 17045, 17164, 24838, 25069, 25086, 25114, 25129, 40284, 40289, 42627, 46814, 53893, 53894, 55589, 56695, 57064, 57130, 57659, 57660, 60764, 62704, 62708, 62709, 64157, 67052, 67053, 67523, 67544, 70195, 70556, 71102, 71104, 71107, 71108, 72966, 72967, 77474, 77886, 79488, 79489, 80057, 80058, 80247, 81609, 82629, 82632, 83673, 85193, 85194, 85195, 86193, 86640, 87468, 87471, 88141, 88142, 88246, 88270, 89960, 89961, 90083, 90084, 91738, 92136, 93826, 93827, 94675, 94697, 95001, 95003, 95218, 95252, 95790, 99395, 99397, 99399, 99400, 99499, 100938, 101352, 101471, 101993, 101994, 102084, 102233, 102241, 102290, 102444, 103109, 103110, 103130, 103305, 103390, 103704, 103794, 103796, 103797, 103798, 104046, 104073, 104074, 104149, 104150, 104276, 104277, 104334, 104528, 104554, 104555, 104643, 104758, 104759, 104840, 104841, 104948, 105078, 105079] 134\n",
      "[3092, 95252, 95790, 70195, 99395, 99397, 99399, 99400, 100938, 88142, 104528, 91738, 101993, 104554, 104555, 104046, 105078, 105079, 79489, 42627, 93827, 53893, 53894, 104073, 104074, 17045, 64157, 99499, 88246, 80057, 80058, 104643, 82629, 103109, 103110, 82632, 81609, 85194, 85195, 88270, 104149, 104150, 103130, 57064, 62708, 24838, 72966, 72967, 17164, 103704, 95001, 95003, 55589, 57130, 104758, 57659, 104276, 102233, 60764, 40284, 102241, 103794, 103796, 103797, 103798, 56695, 104840, 103305, 104841, 104334, 102290, 87468, 14254, 87471, 71102, 71104, 67523, 71107, 71108, 94675, 67544, 90083, 90084, 92136, 94697, 101352, 67052, 67053, 95218, 104948, 25086]\n",
      "[7, 9, 54, 74, 122, 123, 124, 1714, 1715, 2433, 3092, 3521]\n"
     ]
    }
   ],
   "source": [
    "for p in valid2[\"prediction\"][6:7]:\n",
    "    k = len(p)\n",
    "    print(p, k)\n",
    "\n",
    "    print(list(set(flat_list).intersection(p)))\n",
    "    \n",
    "    print(p[:12])"
   ]
  },
  {
   "cell_type": "code",
   "execution_count": 233,
   "metadata": {},
   "outputs": [
    {
     "name": "stdout",
     "output_type": "stream",
     "text": [
      "[3092, 42627, 46383, 46385, 53893, 53894, 56695, 57064, 67523, 67544, 70696, 71108, 75439, 82629, 82632, 91738, 95218, 103109, 103794, 103797, 103798, 104046, 104073, 104074, 104149, 104158, 104528, 104554, 104555] 29\n",
      "[42627, 53893, 53894, 104073, 104074, 3092, 70696, 46383, 75439, 46385, 67523, 71108, 82629, 103109, 82632, 104528, 104149, 67544, 91738, 104158, 57064, 104554, 104555, 104046, 95218, 103794, 103797, 103798, 56695]\n",
      "[3092, 42627, 46383, 46385, 53893, 53894, 56695, 57064, 67523, 67544, 70696, 71108]\n"
     ]
    }
   ],
   "source": [
    "for p in valid2[\"prediction\"][226:227]:\n",
    "    k = len(p)\n",
    "    print(p, k)\n",
    "\n",
    "    print(list(set(flat_list).intersection(p)))\n",
    "    \n",
    "    print(p[:12])"
   ]
  },
  {
   "cell_type": "code",
   "execution_count": null,
   "metadata": {},
   "outputs": [],
   "source": []
  },
  {
   "cell_type": "code",
   "execution_count": null,
   "metadata": {},
   "outputs": [],
   "source": []
  },
  {
   "cell_type": "code",
   "execution_count": 110,
   "metadata": {},
   "outputs": [
    {
     "data": {
      "text/plain": [
       "0.007019627177185514"
      ]
     },
     "execution_count": 110,
     "metadata": {},
     "output_type": "execute_result"
    },
    {
     "data": {
      "text/plain": [
       "0.06349298388032007"
      ]
     },
     "execution_count": 110,
     "metadata": {},
     "output_type": "execute_result"
    },
    {
     "data": {
      "text/plain": [
       "0.027707398480994898"
      ]
     },
     "execution_count": 110,
     "metadata": {},
     "output_type": "execute_result"
    }
   ],
   "source": [
    "map_at_k(valid2[\"article_id\"], valid2[\"prediction\"], k=12)\n",
    "hr_at_k(valid2[\"article_id\"], valid2[\"prediction\"], k=12)\n",
    "recall_at_k(valid2[\"article_id\"], valid2[\"prediction\"], k=12)\n",
    "# 0.025620866741013788\n",
    "\n",
    "# 0.007122429128294375\n",
    "# 0.06400034790676098\n",
    "# 0.028341529076267406"
   ]
  },
  {
   "cell_type": "code",
   "execution_count": 82,
   "metadata": {},
   "outputs": [
    {
     "data": {
      "text/plain": [
       "50.87640612315899"
      ]
     },
     "execution_count": 82,
     "metadata": {},
     "output_type": "execute_result"
    }
   ],
   "source": [
    "valid2['prediction'].apply(len).mean()\n",
    "# 31.335150179751828 0.09236951948783895\n",
    "# 56.68628957439406 0.1210664822292757\n",
    "\n",
    "# 49.73995419227647 0.11656190014664647"
   ]
  },
  {
   "cell_type": "code",
   "execution_count": 111,
   "metadata": {},
   "outputs": [
    {
     "data": {
      "text/plain": [
       "0.11855617258364239"
      ]
     },
     "execution_count": 111,
     "metadata": {},
     "output_type": "execute_result"
    }
   ],
   "source": [
    "recall_at_k(valid2[\"article_id\"], valid2[\"prediction\"], k=200)\n",
    "\n",
    "# 0.11656190014664647"
   ]
  },
  {
   "cell_type": "code",
   "execution_count": 112,
   "metadata": {},
   "outputs": [
    {
     "data": {
      "text/plain": [
       "0.002330278052593725"
      ]
     },
     "execution_count": 112,
     "metadata": {},
     "output_type": "execute_result"
    }
   ],
   "source": [
    "recall_at_k(valid2[\"article_id\"], valid2[\"prediction\"], k=200) / valid2['prediction'].apply(len).mean()\n",
    "# 0.002504861238505555\n",
    "# 0.0029477924617551813\n",
    "\n",
    "# 0.0023434259648905343"
   ]
  },
  {
   "cell_type": "code",
   "execution_count": null,
   "metadata": {},
   "outputs": [],
   "source": []
  }
 ],
 "metadata": {
  "colab": {
   "collapsed_sections": [
    "LX4M190s4pxo"
   ],
   "machine_shape": "hm",
   "name": "HandyRec_Seq_LGB_Week.ipynb",
   "provenance": []
  },
  "kernelspec": {
   "display_name": "Python 3",
   "language": "python",
   "name": "python3"
  },
  "language_info": {
   "codemirror_mode": {
    "name": "ipython",
    "version": 3
   },
   "file_extension": ".py",
   "mimetype": "text/x-python",
   "name": "python",
   "nbconvert_exporter": "python",
   "pygments_lexer": "ipython3",
   "version": "3.6.13"
  }
 },
 "nbformat": 4,
 "nbformat_minor": 1
}
