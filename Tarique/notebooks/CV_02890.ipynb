{
 "cells": [
  {
   "cell_type": "code",
   "execution_count": 1,
   "metadata": {
    "colab": {
     "base_uri": "https://localhost:8080/"
    },
    "executionInfo": {
     "elapsed": 4410,
     "status": "ok",
     "timestamp": 1650813100148,
     "user": {
      "displayName": "WP Zhang",
      "userId": "08181056311681578219"
     },
     "user_tz": 240
    },
    "id": "Ej-kIjP5d_zw",
    "outputId": "c813fd95-9b13-4ac7-c6af-bd760d63a3c4"
   },
   "outputs": [],
   "source": [
    "# %pip install -U lightgbm==3.3.2"
   ]
  },
  {
   "cell_type": "code",
   "execution_count": 1,
   "metadata": {
    "executionInfo": {
     "elapsed": 2162,
     "status": "ok",
     "timestamp": 1650813104317,
     "user": {
      "displayName": "WP Zhang",
      "userId": "08181056311681578219"
     },
     "user_tz": 240
    },
    "id": "gboISq82XUN1"
   },
   "outputs": [],
   "source": [
    "import pandas as pd\n",
    "from pandas.api.types import CategoricalDtype\n",
    "import numpy as np\n",
    "import seaborn as sns\n",
    "import matplotlib.pyplot as plt\n",
    "import lightgbm as lgb\n",
    "\n",
    "import pickle\n",
    "from tqdm import tqdm\n",
    "import gc\n",
    "from pathlib import Path"
   ]
  },
  {
   "cell_type": "code",
   "execution_count": 2,
   "metadata": {
    "executionInfo": {
     "elapsed": 6,
     "status": "ok",
     "timestamp": 1650813104318,
     "user": {
      "displayName": "WP Zhang",
      "userId": "08181056311681578219"
     },
     "user_tz": 240
    },
    "id": "F6WO2VtEXefj"
   },
   "outputs": [],
   "source": [
    "import warnings\n",
    "import sys\n",
    "from IPython.core.interactiveshell import InteractiveShell\n",
    "\n",
    "warnings.filterwarnings(\"ignore\")\n",
    "sys.path.append(\"../src/\") # path to the `src`` folder\n",
    "InteractiveShell.ast_node_interactivity = \"all\"\n",
    "tqdm.pandas()"
   ]
  },
  {
   "cell_type": "code",
   "execution_count": 3,
   "metadata": {},
   "outputs": [],
   "source": [
    "from data import DataHelper\n",
    "from data.metrics import map_at_k, hr_at_k, recall_at_k\n",
    "\n",
    "from retrieval.rules import (\n",
    "    OrderHistory,\n",
    "    OrderHistoryDecay,\n",
    "    ItemPair,\n",
    "\n",
    "    UserGroupTimeHistory,\n",
    "    UserGroupSaleTrend,\n",
    "\n",
    "    TimeHistory,\n",
    "    TimeHistoryDecay,\n",
    "    SaleTrend,\n",
    "\n",
    "    OutOfStock,\n",
    ")\n",
    "from retrieval.collector import RuleCollector\n",
    "\n",
    "from features import cum_sale, week_sale, repurchase_ratio, purchased_before\n",
    "\n",
    "from utils import calc_valid_date, merge_week_data, reduce_mem_usage, merge_new_groupings\n"
   ]
  },
  {
   "cell_type": "code",
   "execution_count": 4,
   "metadata": {},
   "outputs": [],
   "source": [
    "data_dir = Path(\"../src/data/\")"
   ]
  },
  {
   "cell_type": "code",
   "execution_count": 5,
   "metadata": {},
   "outputs": [],
   "source": [
    "TRAIN_WEEK_NUM = 4\n",
    "WEEK_NUM = TRAIN_WEEK_NUM + 2\n",
    "VERSION_NAME = \"pivot\"# \"v1\""
   ]
  },
  {
   "cell_type": "code",
   "execution_count": 6,
   "metadata": {},
   "outputs": [],
   "source": [
    "import os\n",
    "if not os.path.exists(data_dir/\"interim\"/VERSION_NAME):\n",
    "    os.mkdir(data_dir/\"interim\"/VERSION_NAME)"
   ]
  },
  {
   "cell_type": "code",
   "execution_count": 7,
   "metadata": {},
   "outputs": [],
   "source": [
    "TEST = True # * Set as `False` when do local experiments to save time"
   ]
  },
  {
   "cell_type": "markdown",
   "metadata": {},
   "source": [
    "Pepare data: encoding ids and preprocessing"
   ]
  },
  {
   "cell_type": "code",
   "execution_count": 8,
   "metadata": {
    "executionInfo": {
     "elapsed": 5,
     "status": "ok",
     "timestamp": 1650813104318,
     "user": {
      "displayName": "WP Zhang",
      "userId": "08181056311681578219"
     },
     "user_tz": 240
    },
    "id": "2BPv2lcWGGQJ"
   },
   "outputs": [],
   "source": [
    "dh = DataHelper(data_dir)"
   ]
  },
  {
   "cell_type": "code",
   "execution_count": 9,
   "metadata": {},
   "outputs": [],
   "source": [
    "# data = dh.preprocess_data(save=True, name=\"encoded_full\") # * run only once, processed data will be saved"
   ]
  },
  {
   "cell_type": "code",
   "execution_count": 10,
   "metadata": {
    "executionInfo": {
     "elapsed": 7841,
     "status": "ok",
     "timestamp": 1650813112154,
     "user": {
      "displayName": "WP Zhang",
      "userId": "08181056311681578219"
     },
     "user_tz": 240
    },
    "id": "i3ngtb7NUGbH"
   },
   "outputs": [],
   "source": [
    "data = dh.load_data(name=\"encoded_full\")"
   ]
  },
  {
   "cell_type": "code",
   "execution_count": 11,
   "metadata": {},
   "outputs": [],
   "source": [
    "uid2idx = pickle.load(open(data_dir/\"index_id_map/user_id2index.pkl\", \"rb\"))\n",
    "submission = pd.read_csv(data_dir/\"raw\"/'sample_submission.csv')\n",
    "submission['customer_id'] = submission['customer_id'].map(uid2idx)"
   ]
  },
  {
   "cell_type": "markdown",
   "metadata": {
    "id": "LX4M190s4pxo"
   },
   "source": [
    "## Retrieval\n"
   ]
  },
  {
   "cell_type": "markdown",
   "metadata": {},
   "source": [
    "Generate candidates for each week"
   ]
  },
  {
   "cell_type": "code",
   "execution_count": 12,
   "metadata": {},
   "outputs": [],
   "source": [
    "listBin = [-1, 19, 29, 39, 49, 59, 69, 119]\n",
    "data['user']['age_bins'] = pd.cut(data['user']['age'], listBin)"
   ]
  },
  {
   "cell_type": "code",
   "execution_count": 13,
   "metadata": {},
   "outputs": [],
   "source": [
    "data['user']['age_bucket'] = pd.cut(data['user']['age'].fillna(22), [15, 24, 35, 50, 100], labels=[0, 1, 2, 3])"
   ]
  },
  {
   "cell_type": "code",
   "execution_count": 14,
   "metadata": {
    "scrolled": true
   },
   "outputs": [],
   "source": [
    "# # * WEEK_NUM = 0: test\n",
    "# # * WEEK_NUM = 1: valid\n",
    "# # * WEEK_NUM > 1: train\n",
    "\n",
    "# for week in range(1, WEEK_NUM):\n",
    "#     # * use sliding window to generate candidates\n",
    "#     if week == 0 and not TEST:\n",
    "#         continue\n",
    "#     trans = data[\"inter\"]\n",
    "\n",
    "#     start_date, end_date = calc_valid_date(week)\n",
    "#     print(f\"Week {week}: [{start_date}, {end_date})\")\n",
    "    \n",
    "#     last_week_start = pd.to_datetime(start_date) - pd.Timedelta(days=7)\n",
    "#     last_week_start = last_week_start.strftime(\"%Y-%m-%d\")\n",
    "    \n",
    "#     last_3day_start = pd.to_datetime(start_date) - pd.Timedelta(days=3)\n",
    "#     last_3day_start = last_3day_start.strftime(\"%Y-%m-%d\")\n",
    "\n",
    "#     train, valid = dh.split_data(trans, start_date, end_date)\n",
    "\n",
    "#     last_week = train.loc[train.t_dat >= last_week_start]\n",
    "#     last_week = last_week.merge(data['user'][['customer_id','age_bins']], on='customer_id', how='left')\n",
    "    \n",
    "#     last_3days = train.loc[train.t_dat >= last_3day_start]\n",
    "#     last_3days = last_3days.merge(data['user'][['customer_id','age_bins']], on='customer_id', how='left')\n",
    "    \n",
    "#     train = train.merge(data['user'][['customer_id','age_bins']], on='customer_id', how='left')\n",
    "\n",
    "#     if week != 0:\n",
    "#         customer_list = valid[\"customer_id\"].values\n",
    "#     else:\n",
    "#         customer_list = submission['customer_id'].values\n",
    "\n",
    "#     # * ========================== Retrieval Strategies ==========================\n",
    "\n",
    "#     candidates = RuleCollector().collect(\n",
    "#         valid = valid,\n",
    "#         customer_list=customer_list,\n",
    "#         rules=[\n",
    "#             OrderHistory(train, 3),\n",
    "#             OrderHistory(train, 7),\n",
    "#             OrderHistoryDecay(train, 3, n=50),\n",
    "#             OrderHistoryDecay(train, 7, n=50),\n",
    "#             ItemPair(OrderHistory(train, 3).retrieve(), name='1'),\n",
    "#             ItemPair(OrderHistory(train, 7).retrieve(), name='2'),\n",
    "#             ItemPair(OrderHistoryDecay(train, 3, n=50).retrieve(), name='3'),\n",
    "#             ItemPair(OrderHistoryDecay(train, 7, n=50).retrieve(), name='4'),\n",
    "#             UserGroupTimeHistory(data, customer_list, last_week, ['age_bins'], n=50, name='1'),\n",
    "#             UserGroupTimeHistory(data, customer_list, last_3days, ['age_bins'], n=50, name='2'),\n",
    "#             UserGroupSaleTrend(data, customer_list, train, ['age_bins'], 7, n=50),\n",
    "#             TimeHistory(customer_list, last_week, n=50, name='1'),\n",
    "#             TimeHistory(customer_list, last_3days, n=50, name='2'),\n",
    "#             TimeHistoryDecay(customer_list, train, 3, n=50),\n",
    "#             TimeHistoryDecay(customer_list, train, 7, n=50),\n",
    "#             SaleTrend(customer_list, train, 7, n=50),\n",
    "#         ],\n",
    "#         filters=[OutOfStock(trans)],\n",
    "#         min_pos_rate=0.005,\n",
    "#         compress=False,\n",
    "#     )\n",
    "    \n",
    "#     candidates = (\n",
    "#         pd.pivot_table(\n",
    "#             candidates,\n",
    "#             values=\"score\",\n",
    "#             index=[\"customer_id\", \"article_id\"],\n",
    "#             columns=[\"method\"],\n",
    "#             aggfunc=np.sum,\n",
    "#         )\n",
    "#         .reset_index()\n",
    "#         # .fillna(0)\n",
    "#     )\n",
    "\n",
    "#     candidates.to_parquet(data_dir/\"interim\"/VERSION_NAME/f\"week{week}_candidate.pqt\")\n",
    "#     if WEEK_NUM != 0:\n",
    "#         valid.to_parquet(data_dir/\"interim\"/VERSION_NAME/f\"week{week}_label.pqt\")"
   ]
  },
  {
   "cell_type": "code",
   "execution_count": 15,
   "metadata": {},
   "outputs": [],
   "source": [
    "# # * use the threshold in week 1 to generate candidates for test data, see the log in the upper cell \n",
    "\n",
    "# for week in range(1):\n",
    "#     if week == 0 and not TEST:\n",
    "#         continue\n",
    "#     trans = data[\"inter\"]\n",
    "\n",
    "#     start_date, end_date = calc_valid_date(week)\n",
    "#     print(f\"Week {week}: [{start_date}, {end_date})\")\n",
    "    \n",
    "#     last_5week_start = pd.to_datetime(start_date) - 5*pd.Timedelta(days=7)\n",
    "#     last_5week_start = last_5week_start.strftime(\"%Y-%m-%d\")\n",
    "    \n",
    "#     last_week_start = pd.to_datetime(start_date) - pd.Timedelta(days=7)\n",
    "#     last_week_start = last_week_start.strftime(\"%Y-%m-%d\")\n",
    "    \n",
    "#     last_3day_start = pd.to_datetime(start_date) - pd.Timedelta(days=3)\n",
    "#     last_3day_start = last_3day_start.strftime(\"%Y-%m-%d\")\n",
    "\n",
    "#     train, valid = dh.split_data(trans, start_date, end_date)\n",
    "    \n",
    "#     last_5week = train.loc[train.t_dat >= last_5week_start]\n",
    "#     last_5week = last_5week.merge(data['user'][['customer_id','age_bins']], on='customer_id', how='left')\n",
    "\n",
    "#     last_week = train.loc[train.t_dat >= last_week_start]\n",
    "#     last_week = last_week.merge(data['user'][['customer_id','age_bins']], on='customer_id', how='left')\n",
    "    \n",
    "#     last_3days = train.loc[train.t_dat >= last_3day_start]\n",
    "#     last_3days = last_3days.merge(data['user'][['customer_id','age_bins']], on='customer_id', how='left')\n",
    "    \n",
    "#     train = train.merge(data['user'][['customer_id','age_bins']], on='customer_id', how='left')\n",
    "#     last_5week = last_5week.merge(data['user'][['customer_id','age_bins']], on='customer_id', how='left')\n",
    "\n",
    "#     if week != 0:\n",
    "#         customer_list = valid[\"customer_id\"].values\n",
    "#     else:\n",
    "#         customer_list = submission['customer_id'].values\n",
    "\n",
    "#     # * ========================== Retrieval Strategies ==========================\n",
    "\n",
    "#     candidates = RuleCollector().collect(\n",
    "#         valid = valid,\n",
    "#         customer_list=customer_list,\n",
    "#         rules=[\n",
    "#             OrderHistory(train, 3),\n",
    "#             OrderHistory(train, 7),\n",
    "#             OrderHistoryDecay(train, 3, n=50),\n",
    "#             OrderHistoryDecay(train, 7, n=50),\n",
    "#             ItemPair(OrderHistory(train, 3).retrieve(), name='1'),\n",
    "#             ItemPair(OrderHistory(train, 7).retrieve(), name='2'),\n",
    "#             ItemPair(OrderHistoryDecay(train, 3, n=50).retrieve(), name='3'),\n",
    "#             ItemPair(OrderHistoryDecay(train, 7, n=50).retrieve(), name='4'),\n",
    "#             UserGroupTimeHistory(data, customer_list, last_week, ['age_bins'], n=35, name='1'),\n",
    "#             UserGroupTimeHistory(data, customer_list, last_3days, ['age_bins'], n=38.5, name='2'),\n",
    "#             UserGroupSaleTrend(data, customer_list, train, ['age_bins'], 7, n=3),\n",
    "#             TimeHistory(customer_list, last_week, n=25, name='1'),\n",
    "#             TimeHistory(customer_list, last_3days, n=30, name='2'),\n",
    "#             TimeHistoryDecay(customer_list, train, 3, n=31),\n",
    "#             TimeHistoryDecay(customer_list, train, 7, n=24),\n",
    "#             SaleTrend(customer_list, train, 7, n=4),\n",
    "#         ],\n",
    "#         filters=[OutOfStock(trans)],\n",
    "#         min_pos_rate=0.005,\n",
    "#         compress=False,\n",
    "#     )\n",
    "    \n",
    "#     candidates = (\n",
    "#         pd.pivot_table(\n",
    "#             candidates,\n",
    "#             values=\"score\",\n",
    "#             index=[\"customer_id\", \"article_id\"],\n",
    "#             columns=[\"method\"],\n",
    "#             aggfunc=np.sum,\n",
    "#         )\n",
    "#         .reset_index()\n",
    "#         # .fillna(0)\n",
    "#     )\n",
    "\n",
    "#     candidates.to_parquet(data_dir/\"interim\"/VERSION_NAME/f\"week{week}_candidate.pqt\")\n",
    "#     if WEEK_NUM != 0:\n",
    "#         valid.to_parquet(data_dir/\"interim\"/VERSION_NAME/f\"week{week}_label.pqt\")"
   ]
  },
  {
   "cell_type": "code",
   "execution_count": 16,
   "metadata": {},
   "outputs": [],
   "source": [
    "# del train, valid, last_week, customer_list, candidates\n",
    "# gc.collect()"
   ]
  },
  {
   "cell_type": "markdown",
   "metadata": {
    "id": "TBIrKxhRGGQR"
   },
   "source": [
    "## Feature engineering\n"
   ]
  },
  {
   "cell_type": "code",
   "execution_count": 17,
   "metadata": {
    "executionInfo": {
     "elapsed": 15,
     "status": "ok",
     "timestamp": 1650813116461,
     "user": {
      "displayName": "WP Zhang",
      "userId": "08181056311681578219"
     },
     "user_tz": 240
    },
    "id": "9pF-sOMSGGQP"
   },
   "outputs": [],
   "source": [
    "user = data[\"user\"]\n",
    "item = data[\"item\"]\n",
    "inter = data[\"inter\"]"
   ]
  },
  {
   "cell_type": "code",
   "execution_count": 18,
   "metadata": {
    "executionInfo": {
     "elapsed": 12313,
     "status": "ok",
     "timestamp": 1650811966923,
     "user": {
      "displayName": "WP Zhang",
      "userId": "08181056311681578219"
     },
     "user_tz": 240
    },
    "id": "heKIAtoRdtIk"
   },
   "outputs": [],
   "source": [
    "# # merge `product_code`\n",
    "# inter = inter.merge(item[[\"article_id\", \"product_code\"]], on=\"article_id\", how=\"left\")\n",
    "# # calculate week number\n",
    "# inter['week'] = (pd.to_datetime('2020-09-29') - pd.to_datetime(inter['t_dat'])).dt.days // 7"
   ]
  },
  {
   "cell_type": "code",
   "execution_count": 19,
   "metadata": {
    "executionInfo": {
     "elapsed": 12271,
     "status": "ok",
     "timestamp": 1650811979179,
     "user": {
      "displayName": "WP Zhang",
      "userId": "08181056311681578219"
     },
     "user_tz": 240
    },
    "id": "NgfZ9z69GGQR"
   },
   "outputs": [],
   "source": [
    "# inter = inter.sort_values([\"customer_id\", \"t_dat\"]).reset_index(drop=True)"
   ]
  },
  {
   "cell_type": "code",
   "execution_count": 20,
   "metadata": {
    "scrolled": true
   },
   "outputs": [],
   "source": [
    "# inter.head()"
   ]
  },
  {
   "cell_type": "code",
   "execution_count": 21,
   "metadata": {
    "colab": {
     "base_uri": "https://localhost:8080/"
    },
    "executionInfo": {
     "elapsed": 35,
     "status": "ok",
     "timestamp": 1650811979181,
     "user": {
      "displayName": "WP Zhang",
      "userId": "08181056311681578219"
     },
     "user_tz": 240
    },
    "id": "krS1OT4JGGQR",
    "outputId": "e4c0aefe-9eaf-4887-f330-9e7cd13cc9bb"
   },
   "outputs": [],
   "source": [
    "# inter.shape"
   ]
  },
  {
   "cell_type": "markdown",
   "metadata": {},
   "source": [
    "Week Sale"
   ]
  },
  {
   "cell_type": "code",
   "execution_count": 22,
   "metadata": {
    "executionInfo": {
     "elapsed": 82982,
     "status": "ok",
     "timestamp": 1650812194568,
     "user": {
      "displayName": "WP Zhang",
      "userId": "08181056311681578219"
     },
     "user_tz": 240
    },
    "id": "IXXxyMmndtIm"
   },
   "outputs": [],
   "source": [
    "# inter[\"item_sale\"] = week_sale(inter, [\"article_id\"])\n",
    "# inter[\"pro_sale\"] = week_sale(inter, [\"product_code\"])\n",
    "# inter[\"item_sale_uni\"] = week_sale(inter, [\"article_id\"], True)\n",
    "# inter[\"pro_sale_uni\"] = week_sale(inter, [\"product_code\"], True)\n",
    "# inter[\"item_sale_ratio\"] = inter[\"item_sale\"] / (inter[\"pro_sale\"] + 1e-6)\n",
    "# inter[\"item_sale_uni_ratio\"] = inter[\"pro_sale_uni\"] / (inter[\"pro_sale_uni\"] + 1e-6)\n",
    "\n",
    "# inter = inter.merge(user[[\"customer_id\", \"age_bucket\"]], on=\"customer_id\", how=\"left\")\n",
    "\n",
    "# inter[\"item_sale_by_channel\"] = week_sale(inter, [\"article_id\",\"sales_channel_id\"])\n",
    "# inter[\"pro_sale_by_channel\"] = week_sale(inter, [\"product_code\",\"sales_channel_id\"])\n",
    "# inter[\"item_sale_uni_by_channel\"] = week_sale(inter, [\"article_id\",\"sales_channel_id\"], True)\n",
    "# inter[\"pro_sale_uni_by_channel\"] = week_sale(inter, [\"product_code\",\"sales_channel_id\"], True)\n",
    "# inter[\"item_sale_ratio_by_channel\"] = inter[\"item_sale_by_channel\"] / (inter[\"pro_sale_by_channel\"] + 1e-6)\n",
    "# inter[\"item_sale_uni_ratio_by_channel\"] = inter[\"pro_sale_uni_by_channel\"] / (inter[\"pro_sale_uni_by_channel\"] + 1e-6)\n",
    "\n",
    "# inter[\"item_sale_by_age\"] = week_sale(inter, [\"article_id\",\"age_bucket\"])\n",
    "# inter[\"pro_sale_by_age\"] = week_sale(inter, [\"product_code\",\"age_bucket\"])\n",
    "# inter[\"item_sale_uni_by_age\"] = week_sale(inter, [\"article_id\",\"age_bucket\"], True)\n",
    "# inter[\"pro_sale_uni_by_age\"] = week_sale(inter, [\"product_code\",\"age_bucket\"], True)\n",
    "# inter[\"item_sale_ratio_by_age\"] = inter[\"item_sale_by_age\"] / (inter[\"pro_sale_by_age\"] + 1e-6)\n",
    "# inter[\"item_sale_uni_ratio_by_age\"] = inter[\"pro_sale_uni_by_age\"] / (inter[\"pro_sale_uni_by_age\"] + 1e-6)\n",
    "\n",
    "# item_feats = [\n",
    "#     \"product_type_no\",\n",
    "#     \"product_group_name\",\n",
    "#     \"graphical_appearance_no\",\n",
    "#     \"colour_group_code\",\n",
    "#     \"perceived_colour_value_id\",\n",
    "#     \"perceived_colour_master_id\",\n",
    "# ]\n",
    "# inter = inter.merge(item[[\"article_id\", *item_feats]], on=\"article_id\", how=\"left\")\n",
    "\n",
    "# for feat in tqdm(item_feats):\n",
    "#     inter[f\"{feat}_sale\"] = week_sale(inter, [feat], f\"{feat}_sale\")\n",
    "\n",
    "# inter = inter.drop(columns=item_feats)"
   ]
  },
  {
   "cell_type": "markdown",
   "metadata": {},
   "source": [
    "Repurchase Ratio"
   ]
  },
  {
   "cell_type": "code",
   "execution_count": 23,
   "metadata": {
    "id": "pnZzbv2JNUB1"
   },
   "outputs": [],
   "source": [
    "# inter['i_repurchase_ratio'] = repurchase_ratio(inter, ['article_id'])\n",
    "# inter['p_repurchase_ratio'] = repurchase_ratio(inter, ['product_code'])"
   ]
  },
  {
   "cell_type": "markdown",
   "metadata": {},
   "source": [
    "Already Bought Item"
   ]
  },
  {
   "cell_type": "code",
   "execution_count": 24,
   "metadata": {
    "colab": {
     "base_uri": "https://localhost:8080/"
    },
    "executionInfo": {
     "elapsed": 132613,
     "status": "ok",
     "timestamp": 1650812981266,
     "user": {
      "displayName": "WP Zhang",
      "userId": "08181056311681578219"
     },
     "user_tz": 240
    },
    "id": "VmBm3Ka3GGQS",
    "outputId": "01920093-44ae-4c4a-c105-2c55042b0ae1"
   },
   "outputs": [],
   "source": [
    "# inter[\"purchased_item\"] = purchased_before(inter, [\"article_id\"])\n",
    "# inter[\"purchased_pro\"] = purchased_before(inter, [\"product_code\"])"
   ]
  },
  {
   "cell_type": "markdown",
   "metadata": {},
   "source": [
    "Save data"
   ]
  },
  {
   "cell_type": "code",
   "execution_count": 25,
   "metadata": {
    "colab": {
     "base_uri": "https://localhost:8080/"
    },
    "executionInfo": {
     "elapsed": 12,
     "status": "ok",
     "timestamp": 1650812981267,
     "user": {
      "displayName": "WP Zhang",
      "userId": "08181056311681578219"
     },
     "user_tz": 240
    },
    "id": "uB53JEZoGGQS",
    "outputId": "1e178712-b0a2-4f90-fea1-2da452d2a297"
   },
   "outputs": [],
   "source": [
    "# inter.shape"
   ]
  },
  {
   "cell_type": "code",
   "execution_count": 26,
   "metadata": {
    "executionInfo": {
     "elapsed": 45421,
     "status": "ok",
     "timestamp": 1650813026679,
     "user": {
      "displayName": "WP Zhang",
      "userId": "08181056311681578219"
     },
     "user_tz": 240
    },
    "id": "dv55insCdtIo"
   },
   "outputs": [],
   "source": [
    "# inter.to_parquet(data_dir / \"interim/processed_inter.pqt\")\n",
    "# inter.to_parquet(data_dir / \"interim/processed_inter_v2.pqt\")"
   ]
  },
  {
   "cell_type": "markdown",
   "metadata": {
    "id": "jywhBCAGGGQS"
   },
   "source": [
    "## Merge Features\n"
   ]
  },
  {
   "cell_type": "code",
   "execution_count": 27,
   "metadata": {},
   "outputs": [],
   "source": [
    "# candidates = {}\n",
    "# for i in tqdm(range(WEEK_NUM)):\n",
    "#     if i == 0 and not TEST:\n",
    "#         continue\n",
    "        \n",
    "#     tmp_candidate = pd.read_parquet(data_dir/\"interim\"/VERSION_NAME/f\"week{i}_candidate.pqt\")\n",
    "#     candidates[i] = tmp_candidate"
   ]
  },
  {
   "cell_type": "code",
   "execution_count": 28,
   "metadata": {
    "executionInfo": {
     "elapsed": 11212,
     "status": "ok",
     "timestamp": 1650813141038,
     "user": {
      "displayName": "WP Zhang",
      "userId": "08181056311681578219"
     },
     "user_tz": 240
    },
    "id": "cxSNgWvVuv2A"
   },
   "outputs": [],
   "source": [
    "# inter = pd.read_parquet(data_dir / \"interim/processed_inter.pqt\")\n",
    "# inter = pd.read_parquet(data_dir / \"interim/processed_inter_v2.pqt\")"
   ]
  },
  {
   "cell_type": "code",
   "execution_count": 29,
   "metadata": {},
   "outputs": [],
   "source": [
    "# data[\"inter\"] = inter\n",
    "# data[\"inter\"]['age_bucket'] = data[\"inter\"]['age_bucket'].fillna(0).astype(int)"
   ]
  },
  {
   "cell_type": "markdown",
   "metadata": {},
   "source": [
    "Merge features"
   ]
  },
  {
   "cell_type": "code",
   "execution_count": 30,
   "metadata": {},
   "outputs": [],
   "source": [
    "# for i in tqdm(range(WEEK_NUM)):\n",
    "#     if i in candidates:\n",
    "#         candidates[i] = merge_week_data(data, i, candidates[i])"
   ]
  },
  {
   "cell_type": "markdown",
   "metadata": {},
   "source": [
    "Merge user and item embeddings"
   ]
  },
  {
   "cell_type": "code",
   "execution_count": 31,
   "metadata": {},
   "outputs": [],
   "source": [
    "# #* embedding from DSSM model\n",
    "# dssm_user_embd = np.load(data_dir / \"external/dssm_user_embd.npy\", allow_pickle=True)\n",
    "# dssm_item_embd = np.load(data_dir / \"external/dssm_item_embd.npy\", allow_pickle=True)\n",
    "\n",
    "# for i in range(WEEK_NUM):\n",
    "#     if i not in candidates:\n",
    "#         continue\n",
    "#     tmp = candidates[i]\n",
    "#     sim = np.zeros(tmp.shape[0])\n",
    "#     batch_size = 10000\n",
    "#     for batch in tqdm(range(0, tmp.shape[0], batch_size)):\n",
    "#         tmp_users = tmp.loc[batch : batch + batch_size - 1, 'customer_id'].values-1\n",
    "#         tmp_items = tmp.loc[batch : batch + batch_size - 1, 'article_id'].values-1\n",
    "#         tmp_user_embd = np.expand_dims(dssm_user_embd[tmp_users],1) # (batch_size, 1, dim)\n",
    "#         tmp_item_embd = np.expand_dims(dssm_item_embd[tmp_items],2) # (batch_size, dim, 1)\n",
    "#         tmp_sim = np.einsum('ijk,ikj->ij',tmp_user_embd,tmp_item_embd)\n",
    "#         sim[batch : batch + batch_size] = tmp_sim.reshape(-1)\n",
    "        \n",
    "#     tmp[\"dssm_similarity\"] = sim\n",
    "#     candidates[i] = tmp\n",
    "\n",
    "# del dssm_user_embd, dssm_item_embd\n",
    "# gc.collect()"
   ]
  },
  {
   "cell_type": "code",
   "execution_count": 32,
   "metadata": {
    "colab": {
     "base_uri": "https://localhost:8080/"
    },
    "executionInfo": {
     "elapsed": 115102,
     "status": "ok",
     "timestamp": 1650813553563,
     "user": {
      "displayName": "WP Zhang",
      "userId": "08181056311681578219"
     },
     "user_tz": 240
    },
    "id": "sWyKQBAt3x--",
    "outputId": "f37b52b7-ee90-45f7-a24a-68ddaf23b95f"
   },
   "outputs": [],
   "source": [
    "# # * embedding from YouTubeDNN model\n",
    "# yt_user_embd = np.load(data_dir / \"external/yt_user_embd.npy\", allow_pickle=True)\n",
    "# yt_item_embd = np.load(data_dir / \"external/yt_item_embd.npy\", allow_pickle=True)\n",
    "\n",
    "# for i in range(WEEK_NUM):\n",
    "#     if i not in candidates:\n",
    "#         continue\n",
    "#     tmp = candidates[i]\n",
    "#     sim = np.zeros(tmp.shape[0])\n",
    "#     batch_size = 10000\n",
    "#     for batch in tqdm(range(0, tmp.shape[0], batch_size)):\n",
    "#         tmp_users = tmp.loc[batch : batch + batch_size - 1, 'customer_id'].values-1\n",
    "#         tmp_items = tmp.loc[batch : batch + batch_size - 1, 'article_id'].values-1\n",
    "#         tmp_user_embd = np.expand_dims(yt_user_embd[tmp_users],1) # (batch_size, 1, dim)\n",
    "#         tmp_item_embd = np.expand_dims(yt_item_embd[tmp_items],2) # (batch_size, dim, 1)\n",
    "#         tmp_sim = np.einsum('ijk,ikj->ij',tmp_user_embd,tmp_item_embd)\n",
    "#         sim[batch : batch + batch_size] = tmp_sim.reshape(-1)\n",
    "        \n",
    "#     tmp[\"yt_similarity\"] = sim\n",
    "#     # tmp[\"yt_similarity_cos\"] = cos_sim\n",
    "#     candidates[i] = tmp\n",
    "\n",
    "# del yt_user_embd, yt_item_embd\n",
    "# gc.collect()"
   ]
  },
  {
   "cell_type": "code",
   "execution_count": 33,
   "metadata": {
    "scrolled": true
   },
   "outputs": [],
   "source": [
    "# def merge_new_groupings(trans, week_num, candidates):\n",
    "    \n",
    "#     left_cols = ['t_dat', 'week', 'article_id', 'customer_id', 'age_bucket', 'item_sale_by_channel',\n",
    "#                 'pro_sale_by_channel', 'item_sale_uni_by_channel',\n",
    "#                 'pro_sale_uni_by_channel', 'item_sale_ratio_by_channel',\n",
    "#                 'item_sale_uni_ratio_by_channel', 'item_sale_by_age', 'pro_sale_by_age',\n",
    "#                 'item_sale_uni_by_age', 'pro_sale_uni_by_age', 'item_sale_ratio_by_age',\n",
    "#                 'item_sale_uni_ratio_by_age']\n",
    "    \n",
    "#     trans = trans[left_cols].sort_values(by=[\"t_dat\", \"customer_id\"]).reset_index(drop=True)\n",
    "#     trans_info = (\n",
    "#         trans[trans[\"week\"] > week_num]\n",
    "#         .groupby([\"article_id\"], as_index=False)\n",
    "#         .last()\n",
    "#         .drop(columns=[\"customer_id\"])\n",
    "#     )\n",
    "#     trans_info[\"week\"] = week_num\n",
    "#     trans_info, _ = reduce_mem_usage(trans_info)\n",
    "\n",
    "#     candidates = candidates.merge(trans_info.drop(['t_dat', 'week'], axis=1), on=\"article_id\", how=\"left\")\n",
    "    \n",
    "#     candidates, _ = reduce_mem_usage(candidates)\n",
    "\n",
    "#     return candidates"
   ]
  },
  {
   "cell_type": "code",
   "execution_count": 34,
   "metadata": {
    "scrolled": false
   },
   "outputs": [],
   "source": [
    "# for i in tqdm(range(WEEK_NUM)):\n",
    "#     if i in candidates:\n",
    "#         candidates[i] = merge_new_groupings(data[\"inter\"], i, candidates[i])"
   ]
  },
  {
   "cell_type": "markdown",
   "metadata": {},
   "source": [
    "Save results"
   ]
  },
  {
   "cell_type": "code",
   "execution_count": 35,
   "metadata": {
    "scrolled": true
   },
   "outputs": [],
   "source": [
    "## for i in tqdm(range(WEEK_NUM)):\n",
    "##     if i in candidates:\n",
    "##         candidates[i] = candidates[i].drop(['t_dat_y', 'week_y'], axis=1)\n",
    "##         candidates[i] = candidates[i].rename(columns={'t_dat_x':'t_dat', 'week_x':'week'})"
   ]
  },
  {
   "cell_type": "code",
   "execution_count": 36,
   "metadata": {
    "executionInfo": {
     "elapsed": 4989,
     "status": "ok",
     "timestamp": 1650813558538,
     "user": {
      "displayName": "WP Zhang",
      "userId": "08181056311681578219"
     },
     "user_tz": 240
    },
    "id": "GJh5ByW6dtIq"
   },
   "outputs": [],
   "source": [
    "# for i in tqdm(candidates.keys()):\n",
    "#     candidates[i].to_parquet(data_dir/\"interim\"/VERSION_NAME/f\"week{i}_candidate_full.pqt\")"
   ]
  },
  {
   "cell_type": "markdown",
   "metadata": {
    "id": "7Zml-cxryoU_"
   },
   "source": [
    "## Ranking\n"
   ]
  },
  {
   "cell_type": "code",
   "execution_count": 49,
   "metadata": {},
   "outputs": [],
   "source": [
    "article_cluster = pd.read_parquet(data_dir/'articles_new.parquet')\n",
    "# https://www.kaggle.com/code/beezus666/k-means-and-feature-importance-for-articles/notebook?scriptVersionId=94269787\n",
    "\n",
    "itemid2idx = pickle.load(open(data_dir/\"index_id_map/item_id2index.pkl\", \"rb\"))\n",
    "article_cluster['article_id'] = article_cluster['article_id'].map(itemid2idx)"
   ]
  },
  {
   "cell_type": "code",
   "execution_count": 50,
   "metadata": {
    "executionInfo": {
     "elapsed": 630,
     "status": "ok",
     "timestamp": 1650813559155,
     "user": {
      "displayName": "WP Zhang",
      "userId": "08181056311681578219"
     },
     "user_tz": 240
    },
    "id": "PsmE6rgjdtIr"
   },
   "outputs": [
    {
     "name": "stderr",
     "output_type": "stream",
     "text": [
      "100%|██████████| 6/6 [05:19<00:00, 53.29s/it] \n"
     ]
    }
   ],
   "source": [
    "candidates = {}\n",
    "labels = {}\n",
    "for i in tqdm(range(WEEK_NUM)):\n",
    "    if i==0 and not TEST:\n",
    "        continue\n",
    "    candidates[i] = pd.read_parquet(data_dir/\"interim\"/VERSION_NAME/f\"week{i}_candidate_full.pqt\")\n",
    "    candidates[i] = candidates[i].merge(article_cluster[['article_id','colour_group_name_cat_cat_code',\n",
    "                                                         'department_no', 'ct']],  on='article_id', how='left')\n",
    "    \n",
    "    candidates[i]['t_dat'] = pd.to_datetime(candidates[i]['t_dat'])\n",
    "    candidates[i]['year'] = candidates[i]['t_dat'].dt.year\n",
    "    candidates[i]['month'] = candidates[i]['t_dat'].dt.month\n",
    "    candidates[i]['is_month_end'] = candidates[i]['t_dat'].dt.is_month_end\n",
    "    candidates[i]['is_month_start'] = candidates[i]['t_dat'].dt.is_month_start\n",
    "\n",
    "    if i != 0:\n",
    "        tmp_label = pd.read_parquet(data_dir/\"interim\"/VERSION_NAME/f\"week{i}_label.pqt\")\n",
    "        labels[i] = tmp_label\n",
    "    else:\n",
    "        labels[i] = None\n",
    "        \n",
    "del article_cluster, itemid2idx"
   ]
  },
  {
   "cell_type": "code",
   "execution_count": 51,
   "metadata": {
    "executionInfo": {
     "elapsed": 368,
     "status": "ok",
     "timestamp": 1650814211010,
     "user": {
      "displayName": "WP Zhang",
      "userId": "08181056311681578219"
     },
     "user_tz": 240
    },
    "id": "xWqYwCbsdtIr"
   },
   "outputs": [],
   "source": [
    "feats = [\n",
    "    x\n",
    "    for x in candidates[1].columns\n",
    "    if x\n",
    "    not in [\n",
    "        \"label\",\n",
    "#         \"sales_channel_id\",\n",
    "        \"t_dat\",\n",
    "#         \"week\",\n",
    "        \"age\",\n",
    "        \"WeekSaleTrend_item\",\n",
    "        \"WeekSaleTrend_pro\",\n",
    "        \"ThreeDaySaleTrend_item\",\n",
    "        \"ThreeDaySaleTrend_pro\",\n",
    "    ]\n",
    "]\n",
    "\n",
    "cat_features = [\n",
    "    \"customer_id\",\n",
    "    \"article_id\",\n",
    "    \"product_code\",\n",
    "    \"FN\",\n",
    "    \"sales_channel_id\",\n",
    "    \"Active\",\n",
    "    \"club_member_status\",\n",
    "    \"fashion_news_frequency\",\n",
    "#     \"age\",\n",
    "    \"product_type_no\",\n",
    "    \"product_group_name\",\n",
    "    \"graphical_appearance_no\",\n",
    "    \"colour_group_code\",\n",
    "    \"perceived_colour_value_id\",\n",
    "    \"perceived_colour_master_id\",\n",
    "    \"age_bucket\",\n",
    "    \"week\",\n",
    "    \"year\",\n",
    "    \"month\",\n",
    "    \"is_month_end\",\n",
    "    \"is_month_start\"\n",
    "]"
   ]
  },
  {
   "cell_type": "code",
   "execution_count": 52,
   "metadata": {
    "colab": {
     "base_uri": "https://localhost:8080/"
    },
    "executionInfo": {
     "elapsed": 2111,
     "status": "ok",
     "timestamp": 1650813561263,
     "user": {
      "displayName": "WP Zhang",
      "userId": "08181056311681578219"
     },
     "user_tz": 240
    },
    "id": "ypTW4qegdtIr",
    "outputId": "87be50cb-e296-41f8-8548-2f2f30bcf654"
   },
   "outputs": [
    {
     "name": "stderr",
     "output_type": "stream",
     "text": [
      "100%|██████████| 6/6 [00:15<00:00,  2.52s/it]\n",
      "100%|██████████| 6/6 [05:16<00:00, 52.77s/it] \n"
     ]
    }
   ],
   "source": [
    "# * convert categorical featues as `CategoricalDtype`\n",
    "cate_dict = {f:set() for f in cat_features}\n",
    "for i in tqdm(range(WEEK_NUM)):\n",
    "    if i==0 and not TEST:\n",
    "        continue\n",
    "    for feat in cat_features:\n",
    "        cate_dict[feat] = cate_dict[feat] | set(candidates[i][feat].unique())\n",
    "        \n",
    "for feat in cat_features:\n",
    "    cate_dict[feat] = CategoricalDtype(categories=cate_dict[feat])\n",
    "\n",
    "for i in tqdm(range(WEEK_NUM)):\n",
    "    if i == 0 and not TEST:\n",
    "        continue\n",
    "    for feat in cat_features:\n",
    "        candidates[i][feat] = candidates[i][feat].astype(cate_dict[feat])"
   ]
  },
  {
   "cell_type": "markdown",
   "metadata": {
    "id": "3RojtbK9GGQU"
   },
   "source": [
    "### Train\n"
   ]
  },
  {
   "cell_type": "code",
   "execution_count": 53,
   "metadata": {},
   "outputs": [],
   "source": [
    "full_data = pd.concat(candidates[i] for i in range(1, WEEK_NUM))"
   ]
  },
  {
   "cell_type": "code",
   "execution_count": 54,
   "metadata": {
    "executionInfo": {
     "elapsed": 556,
     "status": "ok",
     "timestamp": 1650813561816,
     "user": {
      "displayName": "WP Zhang",
      "userId": "08181056311681578219"
     },
     "user_tz": 240
    },
    "id": "PDttjG9-dtIs"
   },
   "outputs": [],
   "source": [
    "train = full_data[full_data[\"week\"] != 1]\n",
    "valid = full_data[full_data[\"week\"] == 1]\n",
    "del full_data"
   ]
  },
  {
   "cell_type": "code",
   "execution_count": 55,
   "metadata": {},
   "outputs": [],
   "source": [
    "# # * Remove customers with 0 hit_rate\n",
    "# null_candidates = None\n",
    "# for i in tqdm(range(WEEK_NUM)):\n",
    "#     if i==0:\n",
    "#         continue\n",
    "#     tmp = pd.read_parquet(data_dir/\"interim\"/\"v1\"/f\"week{i}_candidate.pqt\")\n",
    "#     tmp = tmp.groupby(\"customer_id\")['hit_rate'].sum().reset_index()\n",
    "#     tmp = tmp.loc[tmp['hit_rate']==0, ['customer_id']]\n",
    "#     tmp['week'] = i\n",
    "#     null_candidates = pd.concat([null_candidates, tmp], ignore_index=True)\n",
    "\n",
    "# null_candidates['remove'] = 1\n",
    "# train = pd.merge(train, null_candidates, on=['customer_id','week'], how='left')\n",
    "# train = train[train['remove']!=1]\n",
    "# del train['remove']\n",
    "# train['customer_id'] = train['customer_id'].astype(cate_dict['customer_id'])"
   ]
  },
  {
   "cell_type": "code",
   "execution_count": 56,
   "metadata": {},
   "outputs": [],
   "source": [
    "train = train.sort_values(by=['week', 'customer_id'],ascending=True).reset_index(drop=True)"
   ]
  },
  {
   "cell_type": "code",
   "execution_count": 57,
   "metadata": {},
   "outputs": [
    {
     "data": {
      "text/plain": [
       "0.9937720095316035"
      ]
     },
     "execution_count": 57,
     "metadata": {},
     "output_type": "execute_result"
    }
   ],
   "source": [
    "sum(train['label']==0) / len(train)\n",
    "# 0.9946384702188372 4-week\n",
    "# 0.994541076811467 4-week remove all-negative customer"
   ]
  },
  {
   "cell_type": "code",
   "execution_count": 58,
   "metadata": {},
   "outputs": [],
   "source": [
    "# valid = candidates[1]\n",
    "valid = valid.sort_values(by=['customer_id'],ascending=True).reset_index(drop=True)"
   ]
  },
  {
   "cell_type": "code",
   "execution_count": 59,
   "metadata": {
    "executionInfo": {
     "elapsed": 491,
     "status": "ok",
     "timestamp": 1650813562305,
     "user": {
      "displayName": "WP Zhang",
      "userId": "08181056311681578219"
     },
     "user_tz": 240
    },
    "id": "aOKvE9WZdtIt"
   },
   "outputs": [],
   "source": [
    "train_group = train[[\"customer_id\", \"article_id\", \"week\"]]\n",
    "train_group = train_group.astype(\"int\")\n",
    "train_group = train_group.groupby([\"week\",\"customer_id\"])['article_id'].count().values\n",
    "\n",
    "valid_group = valid[[\"customer_id\", \"article_id\"]]\n",
    "valid_group = valid_group.astype(\"int\")\n",
    "valid_group = valid_group.groupby([\"customer_id\"])['article_id'].count().values"
   ]
  },
  {
   "cell_type": "code",
   "execution_count": 60,
   "metadata": {
    "executionInfo": {
     "elapsed": 5,
     "status": "ok",
     "timestamp": 1650813561264,
     "user": {
      "displayName": "WP Zhang",
      "userId": "08181056311681578219"
     },
     "user_tz": 240
    },
    "id": "nTm9bz6vR6T4"
   },
   "outputs": [],
   "source": [
    "# params = {\n",
    "#     \"objective\": \"lambdarank\",\n",
    "#     \"boosting_type\": \"gbdt\",\n",
    "#     \"metric\": \"map\",\n",
    "#     \"max_depth\": 8,\n",
    "#     \"num_leaves\": 555,\n",
    "#     \"learning_rate\": 0.01,\n",
    "#     \"verbose\": -1,\n",
    "#     \"eval_at\": 12,\n",
    "#     \"lambdarank_truncation_level\": 36,\n",
    "#     \"min_data_in_leaf\": 63\n",
    "# }\n",
    "\n",
    "params = {\n",
    "    \"objective\": \"lambdarank\",\n",
    "    \"boosting_type\": \"gbdt\",\n",
    "    \"metric\": \"map\",\n",
    "    \"max_depth\": 8,\n",
    "    \"num_leaves\": 128,\n",
    "    \"learning_rate\": 0.03,\n",
    "    \"verbose\": -1,\n",
    "    \"eval_at\": 12,\n",
    "}"
   ]
  },
  {
   "cell_type": "code",
   "execution_count": 61,
   "metadata": {},
   "outputs": [
    {
     "name": "stdout",
     "output_type": "stream",
     "text": [
      "Training until validation scores don't improve for 30 rounds\n",
      "[10]\tvalid_0's map@12: 0.766524\n",
      "[20]\tvalid_0's map@12: 0.767169\n",
      "[30]\tvalid_0's map@12: 0.766978\n",
      "[40]\tvalid_0's map@12: 0.766885\n",
      "[50]\tvalid_0's map@12: 0.767031\n",
      "Early stopping, best iteration is:\n",
      "[20]\tvalid_0's map@12: 0.767169\n"
     ]
    }
   ],
   "source": [
    "train_set = lgb.Dataset(\n",
    "    data=train[feats],\n",
    "    label=train[\"label\"],\n",
    "    group=train_group,\n",
    "    feature_name=feats,\n",
    "    categorical_feature=cat_features,\n",
    "    params=params,\n",
    ")\n",
    "\n",
    "valid_set = lgb.Dataset(\n",
    "    data=valid[feats],\n",
    "    label=valid[\"label\"],\n",
    "    group=valid_group,\n",
    "    feature_name=feats,\n",
    "    categorical_feature=cat_features,\n",
    "    params=params,\n",
    ")\n",
    "\n",
    "ranker = lgb.train(\n",
    "    params,\n",
    "    train_set,\n",
    "    num_boost_round=300,\n",
    "    valid_sets=[valid_set],\n",
    "    early_stopping_rounds=30,\n",
    "    verbose_eval=10\n",
    ")\n",
    "\n",
    "# 0.766223 6-week\n",
    "# 0.828463 4-week\n",
    "# 0.828932 3-week"
   ]
  },
  {
   "cell_type": "code",
   "execution_count": 71,
   "metadata": {},
   "outputs": [
    {
     "data": {
      "text/plain": [
       "<Figure size 576x864 with 0 Axes>"
      ]
     },
     "execution_count": 71,
     "metadata": {},
     "output_type": "execute_result"
    },
    {
     "data": {
      "text/plain": [
       "<AxesSubplot:xlabel='importance', ylabel='feature'>"
      ]
     },
     "execution_count": 71,
     "metadata": {},
     "output_type": "execute_result"
    },
    {
     "data": {
      "image/png": "[encoded data removed]",
      "text/plain": [
       "<Figure size 576x864 with 1 Axes>"
      ]
     },
     "metadata": {
      "needs_background": "light"
     },
     "output_type": "display_data"
    }
   ],
   "source": [
    "feat_importance = pd.DataFrame(\n",
    "    {\"feature\": feats, \"importance\": ranker.feature_importance()}\n",
    ").sort_values(by=\"importance\", ascending=False)\n",
    "plt.figure(figsize=(8, 12))\n",
    "sns.barplot(y=\"feature\", x=\"importance\", data=feat_importance)"
   ]
  },
  {
   "cell_type": "code",
   "execution_count": 46,
   "metadata": {
    "executionInfo": {
     "elapsed": 3,
     "status": "ok",
     "timestamp": 1650814243364,
     "user": {
      "displayName": "WP Zhang",
      "userId": "08181056311681578219"
     },
     "user_tz": 240
    },
    "id": "OG9AwSntGGQV"
   },
   "outputs": [
    {
     "data": {
      "text/plain": [
       "<Figure size 576x864 with 0 Axes>"
      ]
     },
     "execution_count": 46,
     "metadata": {},
     "output_type": "execute_result"
    },
    {
     "data": {
      "text/plain": [
       "<AxesSubplot:xlabel='importance', ylabel='feature'>"
      ]
     },
     "execution_count": 46,
     "metadata": {},
     "output_type": "execute_result"
    },
    {
     "data": {
      "image/png": "[encoded data removed]",
      "text/plain": [
       "<Figure size 576x864 with 1 Axes>"
      ]
     },
     "metadata": {
      "needs_background": "light"
     },
     "output_type": "display_data"
    }
   ],
   "source": []
  },
  {
   "cell_type": "code",
   "execution_count": 44,
   "metadata": {},
   "outputs": [
    {
     "data": {
      "text/plain": [
       "<lightgbm.basic.Booster at 0x7f3d02dcdc88>"
      ]
     },
     "execution_count": 44,
     "metadata": {},
     "output_type": "execute_result"
    }
   ],
   "source": [
    "ranker.save_model(data_dir / \"interim/lgb_ranker.model\", num_iteration=ranker.best_iteration)"
   ]
  },
  {
   "cell_type": "markdown",
   "metadata": {
    "id": "KbFdGrYRdtIt"
   },
   "source": [
    "### Inference"
   ]
  },
  {
   "cell_type": "code",
   "execution_count": 45,
   "metadata": {
    "executionInfo": {
     "elapsed": 321,
     "status": "ok",
     "timestamp": 1650814242111,
     "user": {
      "displayName": "WP Zhang",
      "userId": "08181056311681578219"
     },
     "user_tz": 240
    },
    "id": "hl3DPTaBGGQV"
   },
   "outputs": [],
   "source": [
    "ranker = lgb.Booster(model_file=data_dir / \"interim/lgb_ranker.model\")"
   ]
  },
  {
   "cell_type": "markdown",
   "metadata": {
    "id": "lLWs-Z5CGGQV"
   },
   "source": [
    "### Validate"
   ]
  },
  {
   "cell_type": "code",
   "execution_count": 63,
   "metadata": {
    "executionInfo": {
     "elapsed": 617,
     "status": "ok",
     "timestamp": 1650814266776,
     "user": {
      "displayName": "WP Zhang",
      "userId": "08181056311681578219"
     },
     "user_tz": 240
    },
    "id": "SSpgfI0mdtIv"
   },
   "outputs": [],
   "source": [
    "val_candidates = valid.reset_index(drop=True)"
   ]
  },
  {
   "cell_type": "code",
   "execution_count": 64,
   "metadata": {
    "colab": {
     "base_uri": "https://localhost:8080/"
    },
    "executionInfo": {
     "elapsed": 26907,
     "status": "ok",
     "timestamp": 1650814293681,
     "user": {
      "displayName": "WP Zhang",
      "userId": "08181056311681578219"
     },
     "user_tz": 240
    },
    "id": "G3kDW_-BGGQV",
    "outputId": "493c337e-062a-4fda-f209-4eae217902e9"
   },
   "outputs": [
    {
     "name": "stderr",
     "output_type": "stream",
     "text": [
      "100%|██████████| 2/2 [00:06<00:00,  3.21s/it]\n"
     ]
    }
   ],
   "source": [
    "probs = np.zeros(val_candidates.shape[0])\n",
    "batch_size = 5_000_000\n",
    "for batch in tqdm(range(0, val_candidates.shape[0], batch_size)):\n",
    "    outputs = ranker.predict(val_candidates.loc[batch : batch + batch_size - 1, feats])\n",
    "    probs[batch : batch + batch_size] = outputs"
   ]
  },
  {
   "cell_type": "code",
   "execution_count": 65,
   "metadata": {
    "executionInfo": {
     "elapsed": 16,
     "status": "ok",
     "timestamp": 1650814293681,
     "user": {
      "displayName": "WP Zhang",
      "userId": "08181056311681578219"
     },
     "user_tz": 240
    },
    "id": "6y8vqdyrGGQW"
   },
   "outputs": [],
   "source": [
    "val_candidates[\"prob\"] = probs"
   ]
  },
  {
   "cell_type": "code",
   "execution_count": 66,
   "metadata": {
    "executionInfo": {
     "elapsed": 497,
     "status": "ok",
     "timestamp": 1650814294163,
     "user": {
      "displayName": "WP Zhang",
      "userId": "08181056311681578219"
     },
     "user_tz": 240
    },
    "id": "Tbjp5JrcMUVa"
   },
   "outputs": [],
   "source": [
    "pred_lgb = val_candidates[['customer_id','article_id','prob']]\n",
    "pred_lgb = pred_lgb.sort_values(by=[\"customer_id\",\"prob\"], ascending=False).reset_index(drop=True)\n",
    "pred_lgb.rename(columns={'article_id':'prediction'}, inplace=True)"
   ]
  },
  {
   "cell_type": "code",
   "execution_count": 67,
   "metadata": {},
   "outputs": [],
   "source": [
    "pred_lgb = pred_lgb.drop_duplicates(['customer_id', 'prediction'], keep='first')"
   ]
  },
  {
   "cell_type": "code",
   "execution_count": 68,
   "metadata": {
    "executionInfo": {
     "elapsed": 1598,
     "status": "ok",
     "timestamp": 1650814295756,
     "user": {
      "displayName": "WP Zhang",
      "userId": "08181056311681578219"
     },
     "user_tz": 240
    },
    "id": "ylrFuWBvdtIv"
   },
   "outputs": [
    {
     "name": "stderr",
     "output_type": "stream",
     "text": [
      "100%|██████████| 1371980/1371980 [04:04<00:00, 5604.72it/s]\n"
     ]
    }
   ],
   "source": [
    "pred_lgb = pred_lgb.groupby(\"customer_id\")[\"prediction\"].progress_apply(list).reset_index()"
   ]
  },
  {
   "cell_type": "code",
   "execution_count": 69,
   "metadata": {
    "executionInfo": {
     "elapsed": 4,
     "status": "ok",
     "timestamp": 1650814295757,
     "user": {
      "displayName": "WP Zhang",
      "userId": "08181056311681578219"
     },
     "user_tz": 240
    },
    "id": "G1Qh3k2aGGQW"
   },
   "outputs": [],
   "source": [
    "label = labels[1]\n",
    "label = pd.merge(label, pred_lgb, on=\"customer_id\", how=\"left\")"
   ]
  },
  {
   "cell_type": "code",
   "execution_count": 70,
   "metadata": {
    "colab": {
     "base_uri": "https://localhost:8080/"
    },
    "executionInfo": {
     "elapsed": 3024,
     "status": "ok",
     "timestamp": 1650814298777,
     "user": {
      "displayName": "WP Zhang",
      "userId": "08181056311681578219"
     },
     "user_tz": 240
    },
    "id": "XrFnQ2evGGQW",
    "outputId": "d0109654-6060-47b5-d3fc-d60814d95243"
   },
   "outputs": [
    {
     "data": {
      "text/plain": [
       "0.028909064246733205"
      ]
     },
     "execution_count": 70,
     "metadata": {},
     "output_type": "execute_result"
    }
   ],
   "source": [
    "map_at_k(label[\"article_id\"], label[\"prediction\"], k=12)\n",
    "\n",
    "# 0.02820525160663368 1-week add normalization\n",
    "# 0.028936597823123886 4-week 0.0274\n",
    "# 0.029111989281461418 4-week drop full-negative customer\n",
    "# 0.029165419468984943 3-week 0.0270\n",
    "# 0.028297597743100006 6 week 0.0250\n",
    "\n",
    "# 0.02863472423766257 4 week\n",
    "# 0.02882844782917304 4 week\n",
    "# 0.028909064246733205 4 week"
   ]
  },
  {
   "cell_type": "markdown",
   "metadata": {},
   "source": [
    "### Test"
   ]
  },
  {
   "cell_type": "code",
   "execution_count": 56,
   "metadata": {
    "executionInfo": {
     "elapsed": 617,
     "status": "ok",
     "timestamp": 1650814266776,
     "user": {
      "displayName": "WP Zhang",
      "userId": "08181056311681578219"
     },
     "user_tz": 240
    },
    "id": "SSpgfI0mdtIv"
   },
   "outputs": [],
   "source": [
    "test_candidates = candidates[0].reset_index(drop=True)"
   ]
  },
  {
   "cell_type": "code",
   "execution_count": 57,
   "metadata": {},
   "outputs": [],
   "source": [
    "# As the threshold is set mannually when generating candidates for test set, we need to change the name of the columns\n",
    "test_candidates.rename(columns = {\n",
    "    'SaleTrend_7_top4':'SaleTrend_7_top50', \n",
    "    'TimeHistoryDecay_3_top31':'TimeHistoryDecay_3_top50',\n",
    "    'TimeHistoryDecay_7_top24':'TimeHistoryDecay_7_top50',\n",
    "    'TimeHistory_25_1':'TimeHistory_50_1', \n",
    "    'TimeHistory_30_2':'TimeHistory_50_2', \n",
    "    'UGSaleTrend_3_top2':'UGSaleTrend_7_top50', \n",
    "    'UGTimeHistory_age_bins_351':'UGTimeHistory_age_bins_501',\n",
    "    'UGTimeHistory_age_bins_38.52':'UGTimeHistory_age_bins_502'\n",
    "},inplace=True)"
   ]
  },
  {
   "cell_type": "code",
   "execution_count": 58,
   "metadata": {
    "colab": {
     "base_uri": "https://localhost:8080/"
    },
    "executionInfo": {
     "elapsed": 26907,
     "status": "ok",
     "timestamp": 1650814293681,
     "user": {
      "displayName": "WP Zhang",
      "userId": "08181056311681578219"
     },
     "user_tz": 240
    },
    "id": "G3kDW_-BGGQV",
    "outputId": "493c337e-062a-4fda-f209-4eae217902e9"
   },
   "outputs": [
    {
     "name": "stderr",
     "output_type": "stream",
     "text": [
      "100%|██████████| 20/20 [01:58<00:00,  5.95s/it]\n"
     ]
    }
   ],
   "source": [
    "probs = np.zeros(test_candidates.shape[0])\n",
    "batch_size = 5_000_000\n",
    "for batch in tqdm(range(0, test_candidates.shape[0], batch_size)):\n",
    "    outputs = ranker.predict(test_candidates.loc[batch : batch + batch_size - 1, feats])\n",
    "    probs[batch : batch + batch_size] = outputs"
   ]
  },
  {
   "cell_type": "code",
   "execution_count": 59,
   "metadata": {
    "executionInfo": {
     "elapsed": 16,
     "status": "ok",
     "timestamp": 1650814293681,
     "user": {
      "displayName": "WP Zhang",
      "userId": "08181056311681578219"
     },
     "user_tz": 240
    },
    "id": "6y8vqdyrGGQW"
   },
   "outputs": [],
   "source": [
    "test_candidates[\"prob\"] = probs"
   ]
  },
  {
   "cell_type": "code",
   "execution_count": 60,
   "metadata": {
    "executionInfo": {
     "elapsed": 497,
     "status": "ok",
     "timestamp": 1650814294163,
     "user": {
      "displayName": "WP Zhang",
      "userId": "08181056311681578219"
     },
     "user_tz": 240
    },
    "id": "Tbjp5JrcMUVa"
   },
   "outputs": [],
   "source": [
    "pred_lgb = test_candidates[['customer_id','article_id','prob']]\n",
    "pred_lgb = pred_lgb.sort_values(by=[\"customer_id\",\"prob\"], ascending=False).reset_index(drop=True)\n",
    "pred_lgb.rename(columns={'article_id':'prediction'}, inplace=True)"
   ]
  },
  {
   "cell_type": "code",
   "execution_count": 61,
   "metadata": {},
   "outputs": [],
   "source": [
    "idx2uid = pickle.load(open(data_dir/\"index_id_map/user_index2id.pkl\", \"rb\"))\n",
    "idx2iid = pickle.load(open(data_dir/\"index_id_map/item_index2id.pkl\", \"rb\"))"
   ]
  },
  {
   "cell_type": "code",
   "execution_count": 62,
   "metadata": {},
   "outputs": [
    {
     "name": "stderr",
     "output_type": "stream",
     "text": [
      "  0%|          | 77597/99187505 [00:00<09:36, 171961.54it/s]\n",
      "100%|██████████| 1371980/1371980 [02:49<00:00, 8073.99it/s]\n",
      "100%|██████████| 1371980/1371980 [00:02<00:00, 489983.60it/s]\n"
     ]
    }
   ],
   "source": [
    "pred_lgb['prediction'] = pred_lgb['prediction'].map(idx2iid).progress_apply(lambda x:'0'+str(x))\n",
    "pred_lgb = pred_lgb.groupby('customer_id')['prediction'].progress_apply(list).reset_index()\n",
    "pred_lgb['prediction'] = pred_lgb['prediction'].progress_apply(lambda x: ' '.join(x[:12]))"
   ]
  },
  {
   "cell_type": "code",
   "execution_count": 63,
   "metadata": {},
   "outputs": [],
   "source": [
    "uid2idx = pickle.load(open(data_dir/\"index_id_map/user_id2index.pkl\", \"rb\"))\n",
    "submission = pd.read_csv(data_dir/\"raw\"/'sample_submission.csv')\n",
    "submission['customer_id'] = submission['customer_id'].map(uid2idx)"
   ]
  },
  {
   "cell_type": "code",
   "execution_count": 64,
   "metadata": {},
   "outputs": [],
   "source": [
    "del submission['prediction']\n",
    "submission = submission.merge(pred_lgb, on='customer_id', how='left')\n",
    "submission['customer_id'] = submission['customer_id'].map(idx2uid)"
   ]
  },
  {
   "cell_type": "code",
   "execution_count": 76,
   "metadata": {},
   "outputs": [],
   "source": [
    "submission.to_csv('submission.csv.gz', index=False)"
   ]
  },
  {
   "cell_type": "code",
   "execution_count": 66,
   "metadata": {},
   "outputs": [
    {
     "data": {
      "text/html": [
       "<div>\n",
       "<style scoped>\n",
       "    .dataframe tbody tr th:only-of-type {\n",
       "        vertical-align: middle;\n",
       "    }\n",
       "\n",
       "    .dataframe tbody tr th {\n",
       "        vertical-align: top;\n",
       "    }\n",
       "\n",
       "    .dataframe thead th {\n",
       "        text-align: right;\n",
       "    }\n",
       "</style>\n",
       "<table border=\"1\" class=\"dataframe\">\n",
       "  <thead>\n",
       "    <tr style=\"text-align: right;\">\n",
       "      <th></th>\n",
       "      <th>customer_id</th>\n",
       "      <th>prediction</th>\n",
       "    </tr>\n",
       "  </thead>\n",
       "  <tbody>\n",
       "    <tr>\n",
       "      <th>0</th>\n",
       "      <td>00000dbacae5abe5e23885899a1fa44253a17956c6d1c3...</td>\n",
       "      <td>0762846027 0568601043 0919273002 0918522001 07...</td>\n",
       "    </tr>\n",
       "    <tr>\n",
       "      <th>1</th>\n",
       "      <td>0000423b00ade91418cceaf3b26c6af3dd342b51fd051e...</td>\n",
       "      <td>0762846027 0918522001 0918292001 0158340001 09...</td>\n",
       "    </tr>\n",
       "    <tr>\n",
       "      <th>2</th>\n",
       "      <td>000058a12d5b43e67d225668fa1f8d618c13dc232df0ca...</td>\n",
       "      <td>0794321007 0762846027 0805000001 0918522001 09...</td>\n",
       "    </tr>\n",
       "    <tr>\n",
       "      <th>3</th>\n",
       "      <td>00005ca1c9ed5f5146b52ac8639a40ca9d57aeff4d1bd2...</td>\n",
       "      <td>0762846027 0918522001 0751471001 0751471043 09...</td>\n",
       "    </tr>\n",
       "    <tr>\n",
       "      <th>4</th>\n",
       "      <td>00006413d8573cd20ed7128e53b7b13819fe5cfc2d801f...</td>\n",
       "      <td>0896152001 0762846027 0896152002 0791587001 09...</td>\n",
       "    </tr>\n",
       "  </tbody>\n",
       "</table>\n",
       "</div>"
      ],
      "text/plain": [
       "                                         customer_id  \\\n",
       "0  00000dbacae5abe5e23885899a1fa44253a17956c6d1c3...   \n",
       "1  0000423b00ade91418cceaf3b26c6af3dd342b51fd051e...   \n",
       "2  000058a12d5b43e67d225668fa1f8d618c13dc232df0ca...   \n",
       "3  00005ca1c9ed5f5146b52ac8639a40ca9d57aeff4d1bd2...   \n",
       "4  00006413d8573cd20ed7128e53b7b13819fe5cfc2d801f...   \n",
       "\n",
       "                                          prediction  \n",
       "0  0762846027 0568601043 0919273002 0918522001 07...  \n",
       "1  0762846027 0918522001 0918292001 0158340001 09...  \n",
       "2  0794321007 0762846027 0805000001 0918522001 09...  \n",
       "3  0762846027 0918522001 0751471001 0751471043 09...  \n",
       "4  0896152001 0762846027 0896152002 0791587001 09...  "
      ]
     },
     "execution_count": 66,
     "metadata": {},
     "output_type": "execute_result"
    }
   ],
   "source": [
    "submission.head()"
   ]
  },
  {
   "cell_type": "markdown",
   "metadata": {},
   "source": [
    "### Submit"
   ]
  },
  {
   "cell_type": "code",
   "execution_count": 74,
   "metadata": {},
   "outputs": [],
   "source": [
    "submit_msg = \"\"\"\n",
    "0.028297597743100006 6-week\n",
    "---\n",
    "OrderHistory(train, 3),\n",
    "OrderHistory(train, 7),\n",
    "OrderHistoryDecay(train, 3, n=50),\n",
    "OrderHistoryDecay(train, 7, n=50),\n",
    "ItemPair(OrderHistory(train, 3).retrieve(), name='1'),\n",
    "ItemPair(OrderHistory(train, 7).retrieve(), name='2'),\n",
    "ItemPair(OrderHistoryDecay(train, 3, n=50).retrieve(), name='3'),\n",
    "ItemPair(OrderHistoryDecay(train, 7, n=50).retrieve(), name='4'),\n",
    "UserGroupTimeHistory(data, customer_list, last_week, ['age_bins'], n=50 if week!=0 else 15, name='1'),\n",
    "UserGroupTimeHistory(data, customer_list, last_3days, ['age_bins'], n=50 if week!=0 else 20.5, name='2'),\n",
    "UserGroupSaleTrend(data, customer_list, train, ['age_bins'], 7, n=50 if week!=0 else 2),\n",
    "TimeHistory(customer_list, last_week, n=50 if week!=0 else 9, name='1'),\n",
    "TimeHistory(customer_list, last_3days, n=50 if week!=0 else 16, name='2'),\n",
    "TimeHistoryDecay(customer_list, train, 3, n=50 if week!=0 else 12),\n",
    "TimeHistoryDecay(customer_list, train, 7, n=50 if week!=0 else 8),\n",
    "SaleTrend(customer_list, train, 7, n=50 if week!=0 else 2)\n",
    "---\n",
    "min_pos_rate = 0.005\n",
    "pivot\n",
    "\"\"\""
   ]
  },
  {
   "cell_type": "code",
   "execution_count": 75,
   "metadata": {},
   "outputs": [
    {
     "data": {
      "text/plain": [
       "\"\\n0.028297597743100006 6-week\\n---\\nOrderHistory(train, 3),\\nOrderHistory(train, 7),\\nOrderHistoryDecay(train, 3, n=50),\\nOrderHistoryDecay(train, 7, n=50),\\nItemPair(OrderHistory(train, 3).retrieve(), name='1'),\\nItemPair(OrderHistory(train, 7).retrieve(), name='2'),\\nItemPair(OrderHistoryDecay(train, 3, n=50).retrieve(), name='3'),\\nItemPair(OrderHistoryDecay(train, 7, n=50).retrieve(), name='4'),\\nUserGroupTimeHistory(data, customer_list, last_week, ['age_bins'], n=50 if week!=0 else 15, name='1'),\\nUserGroupTimeHistory(data, customer_list, last_3days, ['age_bins'], n=50 if week!=0 else 20.5, name='2'),\\nUserGroupSaleTrend(data, customer_list, train, ['age_bins'], 7, n=50 if week!=0 else 2),\\nTimeHistory(customer_list, last_week, n=50 if week!=0 else 9, name='1'),\\nTimeHistory(customer_list, last_3days, n=50 if week!=0 else 16, name='2'),\\nTimeHistoryDecay(customer_list, train, 3, n=50 if week!=0 else 12),\\nTimeHistoryDecay(customer_list, train, 7, n=50 if week!=0 else 8),\\nSaleTrend(customer_list, train, 7, n=50 if week!=0 else 2)\\n---\\nmin_pos_rate = 0.005\\npivot\\n\""
      ]
     },
     "execution_count": 75,
     "metadata": {},
     "output_type": "execute_result"
    }
   ],
   "source": [
    "submit_msg"
   ]
  },
  {
   "cell_type": "code",
   "execution_count": 78,
   "metadata": {},
   "outputs": [
    {
     "name": "stdout",
     "output_type": "stream",
     "text": [
      "Warning: Looks like you're using an outdated API Version, please consider updating (server 1.5.12 / client 1.5.6)\n",
      "100%|######################################| 69.6M/69.6M [00:03<00:00, 23.5MB/s]\n",
      "Successfully submitted to H&M Personalized Fashion Recommendations"
     ]
    }
   ],
   "source": [
    "# ! kaggle competitions submit -c h-and-m-personalized-fashion-recommendations -f \"submission.csv.gz\" -m '\\n0.029111989281461418 4-week drop full negative user\\n---\\nOrderHistory(train, 3),\\nOrderHistory(train, 7),\\nOrderHistoryDecay(train, 3, n=50),\\nOrderHistoryDecay(train, 7, n=50),\\nItemPair(OrderHistory(train, 3).retrieve(), name='1'),\\nItemPair(OrderHistory(train, 7).retrieve(), name='2'),\\nItemPair(OrderHistoryDecay(train, 3, n=50).retrieve(), name='3'),\\nItemPair(OrderHistoryDecay(train, 7, n=50).retrieve(), name='4'),\\nUserGroupTimeHistory(data, customer_list, last_week, ['age_bins'], n=50 if week!=0 else 15, name='1'),\\nUserGroupTimeHistory(data, customer_list, last_3days, ['age_bins'], n=50 if week!=0 else 20.5, name='2'),\\nUserGroupSaleTrend(data, customer_list, train, ['age_bins'], 7, n=50 if week!=0 else 2),\\nTimeHistory(customer_list, last_week, n=50 if week!=0 else 9, name='1'),\\nTimeHistory(customer_list, last_3days, n=50 if week!=0 else 16, name='2'),\\nTimeHistoryDecay(customer_list, train, 3, n=50 if week!=0 else 12),\\nTimeHistoryDecay(customer_list, train, 7, n=50 if week!=0 else 8),\\nSaleTrend(customer_list, train, 7, n=50 if week!=0 else 2)\\n---\\nmin_pos_rate = 0.006\\npivot\\n'\n"
   ]
  },
  {
   "cell_type": "code",
   "execution_count": null,
   "metadata": {},
   "outputs": [],
   "source": []
  }
 ],
 "metadata": {
  "colab": {
   "collapsed_sections": [
    "LX4M190s4pxo"
   ],
   "machine_shape": "hm",
   "name": "HandyRec_Seq_LGB_Week.ipynb",
   "provenance": []
  },
  "kernelspec": {
   "display_name": "Python 3",
   "language": "python",
   "name": "python3"
  },
  "language_info": {
   "codemirror_mode": {
    "name": "ipython",
    "version": 3
   },
   "file_extension": ".py",
   "mimetype": "text/x-python",
   "name": "python",
   "nbconvert_exporter": "python",
   "pygments_lexer": "ipython3",
   "version": "3.6.13"
  }
 },
 "nbformat": 4,
 "nbformat_minor": 1
}
