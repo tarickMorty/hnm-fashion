{
 "cells": [
  {
   "cell_type": "code",
   "execution_count": 1,
   "metadata": {
    "colab": {
     "base_uri": "https://localhost:8080/"
    },
    "executionInfo": {
     "elapsed": 4410,
     "status": "ok",
     "timestamp": 1650813100148,
     "user": {
      "displayName": "WP Zhang",
      "userId": "08181056311681578219"
     },
     "user_tz": 240
    },
    "id": "Ej-kIjP5d_zw",
    "outputId": "c813fd95-9b13-4ac7-c6af-bd760d63a3c4"
   },
   "outputs": [],
   "source": [
    "# %pip install -U lightgbm==3.3.2"
   ]
  },
  {
   "cell_type": "code",
   "execution_count": 1,
   "metadata": {
    "executionInfo": {
     "elapsed": 2162,
     "status": "ok",
     "timestamp": 1650813104317,
     "user": {
      "displayName": "WP Zhang",
      "userId": "08181056311681578219"
     },
     "user_tz": 240
    },
    "id": "gboISq82XUN1"
   },
   "outputs": [],
   "source": [
    "import pandas as pd\n",
    "pd.set_option('display.max_rows', 500)\n",
    "pd.set_option('display.max_columns', 500)\n",
    "\n",
    "from pandas.api.types import CategoricalDtype\n",
    "import numpy as np\n",
    "import seaborn as sns\n",
    "import matplotlib.pyplot as plt\n",
    "import lightgbm as lgb\n",
    "\n",
    "import pickle\n",
    "from tqdm import tqdm\n",
    "import gc\n",
    "from pathlib import Path"
   ]
  },
  {
   "cell_type": "code",
   "execution_count": 2,
   "metadata": {
    "executionInfo": {
     "elapsed": 6,
     "status": "ok",
     "timestamp": 1650813104318,
     "user": {
      "displayName": "WP Zhang",
      "userId": "08181056311681578219"
     },
     "user_tz": 240
    },
    "id": "F6WO2VtEXefj"
   },
   "outputs": [],
   "source": [
    "import warnings\n",
    "import sys\n",
    "from IPython.core.interactiveshell import InteractiveShell\n",
    "\n",
    "warnings.filterwarnings(\"ignore\")\n",
    "sys.path.append(\"../\") # path to the `src`` folder\n",
    "InteractiveShell.ast_node_interactivity = \"all\"\n",
    "tqdm.pandas()"
   ]
  },
  {
   "cell_type": "code",
   "execution_count": 3,
   "metadata": {},
   "outputs": [],
   "source": [
    "# !ln -s /home/tarique/myvenv/lib/gcc/x86_64-linux-gnu/5.4.0/libgomp.so /usr/lib/x86_64-linux-gnu/\n",
    "# /home/tarique/myvenv/lib/gcc/x86_64-linux-gnu/5.4.0/libgomp.so"
   ]
  },
  {
   "cell_type": "code",
   "execution_count": 4,
   "metadata": {
    "scrolled": true
   },
   "outputs": [],
   "source": [
    "from src.data import DataHelper\n",
    "from src.data.metrics import map_at_k, hr_at_k, recall_at_k\n",
    "\n",
    "from src.retrieval.rules import (\n",
    "    OrderHistory,\n",
    "    OrderHistoryDecay,\n",
    "    ItemPair,\n",
    "    UserGroupTimeHistory,\n",
    "    UserGroupSaleTrend,\n",
    "    TimeHistory,\n",
    "    TimeHistoryDecay,\n",
    "    SaleTrend,\n",
    "    OutOfStock,\n",
    ")\n",
    "from src.retrieval.collector import RuleCollector\n",
    "\n",
    "from src.features import cum_sale, week_sale, repurchase_ratio, purchased_before, popularity\n",
    "\n",
    "from src.utils import (\n",
    "    calc_valid_date,\n",
    "    merge_week_data,\n",
    "    reduce_mem_usage,\n",
    "    calc_embd_similarity\n",
    ")"
   ]
  },
  {
   "cell_type": "code",
   "execution_count": 5,
   "metadata": {},
   "outputs": [],
   "source": [
    "data_dir = Path(\"../src/data/\")\n",
    "model_dir = Path(\"../src/models/\")"
   ]
  },
  {
   "cell_type": "code",
   "execution_count": 6,
   "metadata": {},
   "outputs": [],
   "source": [
    "TRAIN_WEEK_NUM = 4\n",
    "WEEK_NUM = TRAIN_WEEK_NUM + 2\n",
    "VERSION_NAME = \"pivot\"# \"v1\"\n",
    "# VERSION_NAME = \"Large_Recall\"# \"v1\"\n",
    "\n",
    "valid_week = 1\n",
    "train_n_week = TRAIN_WEEK_NUM"
   ]
  },
  {
   "cell_type": "code",
   "execution_count": 7,
   "metadata": {},
   "outputs": [],
   "source": [
    "import os\n",
    "if not os.path.exists(data_dir/\"interim\"/VERSION_NAME):\n",
    "    os.mkdir(data_dir/\"interim\"/VERSION_NAME)\n",
    "if not os.path.exists(data_dir/\"processed\"/VERSION_NAME):\n",
    "    os.mkdir(data_dir/\"processed\"/VERSION_NAME)"
   ]
  },
  {
   "cell_type": "code",
   "execution_count": 8,
   "metadata": {},
   "outputs": [],
   "source": [
    "TEST = True # * Set as `False` when do local experiments to save time"
   ]
  },
  {
   "cell_type": "markdown",
   "metadata": {},
   "source": [
    "Pepare data: encoding ids and preprocessing"
   ]
  },
  {
   "cell_type": "code",
   "execution_count": 9,
   "metadata": {
    "executionInfo": {
     "elapsed": 5,
     "status": "ok",
     "timestamp": 1650813104318,
     "user": {
      "displayName": "WP Zhang",
      "userId": "08181056311681578219"
     },
     "user_tz": 240
    },
    "id": "2BPv2lcWGGQJ"
   },
   "outputs": [],
   "source": [
    "dh = DataHelper(data_dir)"
   ]
  },
  {
   "cell_type": "code",
   "execution_count": 10,
   "metadata": {},
   "outputs": [],
   "source": [
    "# data = dh.preprocess_data(save=True, name=\"encoded_full\") # * run only once, processed data will be saved"
   ]
  },
  {
   "cell_type": "code",
   "execution_count": 11,
   "metadata": {
    "executionInfo": {
     "elapsed": 7841,
     "status": "ok",
     "timestamp": 1650813112154,
     "user": {
      "displayName": "WP Zhang",
      "userId": "08181056311681578219"
     },
     "user_tz": 240
    },
    "id": "i3ngtb7NUGbH"
   },
   "outputs": [],
   "source": [
    "data = dh.load_data(name=\"encoded_full\")"
   ]
  },
  {
   "cell_type": "code",
   "execution_count": 12,
   "metadata": {},
   "outputs": [],
   "source": [
    "uid2idx = pickle.load(open(data_dir/\"index_id_map/user_id2index.pkl\", \"rb\"))\n",
    "submission = pd.read_csv(data_dir/\"raw\"/'sample_submission.csv')\n",
    "submission['customer_id'] = submission['customer_id'].map(uid2idx)"
   ]
  },
  {
   "cell_type": "markdown",
   "metadata": {
    "id": "LX4M190s4pxo"
   },
   "source": [
    "## Retrieval\n"
   ]
  },
  {
   "cell_type": "markdown",
   "metadata": {},
   "source": [
    "Generate candidates for each week"
   ]
  },
  {
   "cell_type": "code",
   "execution_count": 13,
   "metadata": {},
   "outputs": [],
   "source": [
    "user_info = data[\"inter\"].groupby(['customer_id'])['price'].mean().reset_index(name='mean_price')\n",
    "user_info['purchase_ability'] = pd.qcut(user_info['mean_price'], 5, labels=False)\n",
    "del user_info['mean_price']\n",
    "\n",
    "listBin = [-1, 19, 29, 39, 49, 59, 69, 119]\n",
    "data['user']['age_bins'] = pd.cut(data['user']['age'], listBin)\n",
    "data['user'] = data['user'].merge(user_info, on='customer_id', how='left')"
   ]
  },
  {
   "cell_type": "code",
   "execution_count": 14,
   "metadata": {
    "scrolled": true
   },
   "outputs": [],
   "source": [
    "# # * WEEK_NUM = 0: test\n",
    "# # * WEEK_NUM = 1: valid\n",
    "# # * WEEK_NUM > 1: train\n",
    "\n",
    "# for week in range(1, WEEK_NUM):\n",
    "#     # * use sliding window to generate candidates\n",
    "#     if week == 0 and not TEST:\n",
    "#         continue\n",
    "#     trans = data[\"inter\"]\n",
    "\n",
    "#     start_date, end_date = calc_valid_date(week)\n",
    "#     print(f\"Week {week}: [{start_date}, {end_date})\")\n",
    "    \n",
    "#     last_week_start = pd.to_datetime(start_date) - pd.Timedelta(days=7)\n",
    "#     last_week_start = last_week_start.strftime(\"%Y-%m-%d\")\n",
    "    \n",
    "#     last_3day_start = pd.to_datetime(start_date) - pd.Timedelta(days=3)\n",
    "#     last_3day_start = last_3day_start.strftime(\"%Y-%m-%d\")\n",
    "\n",
    "#     train, valid = dh.split_data(trans, start_date, end_date)\n",
    "\n",
    "#     last_week = train.loc[train.t_dat >= last_week_start]\n",
    "#     last_week = last_week.merge(data['user'][['customer_id','age_bins']], on='customer_id', how='left')\n",
    "    \n",
    "#     last_3days = train.loc[train.t_dat >= last_3day_start]\n",
    "#     last_3days = last_3days.merge(data['user'][['customer_id','age_bins']], on='customer_id', how='left')\n",
    "    \n",
    "#     train = train.merge(data['user'][['customer_id','age_bins']], on='customer_id', how='left')\n",
    "\n",
    "#     if week != 0:\n",
    "#         customer_list = valid[\"customer_id\"].values\n",
    "#     else:\n",
    "#         customer_list = submission['customer_id'].values\n",
    "\n",
    "#     # * ========================== Retrieval Strategies ==========================\n",
    "\n",
    "#     candidates = RuleCollector().collect(\n",
    "#         week_num = week,\n",
    "#         trans_df = trans,\n",
    "#         customer_list=customer_list,\n",
    "#         rules=[\n",
    "#             OrderHistory(train, 3),\n",
    "#             OrderHistory(train, 7),\n",
    "#             OrderHistoryDecay(train, 3, n=50),\n",
    "#             OrderHistoryDecay(train, 7, n=50),\n",
    "#             ItemPair(OrderHistory(train, 3).retrieve(), name='1'),\n",
    "#             ItemPair(OrderHistory(train, 7).retrieve(), name='2'),\n",
    "#             ItemPair(OrderHistoryDecay(train, 3, n=50).retrieve(), name='3'),\n",
    "#             ItemPair(OrderHistoryDecay(train, 7, n=50).retrieve(), name='4'),\n",
    "#             UserGroupTimeHistory(data, customer_list, last_week, ['age_bins'], n=50, name='1'),\n",
    "#             UserGroupTimeHistory(data, customer_list, last_3days, ['age_bins'], n=50, name='2'),\n",
    "#             UserGroupSaleTrend(data, customer_list, train, ['age_bins'], 7, n=50),\n",
    "#             TimeHistory(customer_list, last_week, n=50, name='1'),\n",
    "#             TimeHistory(customer_list, last_3days, n=50, name='2'),\n",
    "#             TimeHistoryDecay(customer_list, train, 3, n=50),\n",
    "#             TimeHistoryDecay(customer_list, train, 7, n=50),\n",
    "#             SaleTrend(customer_list, train, 7, n=50),\n",
    "#         ],\n",
    "#         filters=[OutOfStock(trans)],\n",
    "#         min_pos_rate=0.005,\n",
    "#         compress=False,\n",
    "#     )\n",
    "    \n",
    "#     candidates = (\n",
    "#         pd.pivot_table(\n",
    "#             candidates,\n",
    "#             values=\"score\",\n",
    "#             index=[\"customer_id\", \"article_id\"],\n",
    "#             columns=[\"method\"],\n",
    "#             aggfunc=np.sum,\n",
    "#         )\n",
    "#         .reset_index()\n",
    "#     )\n",
    "\n",
    "#     rule_names = [x for x in candidates.columns if x not in [\"customer_id\", \"article_id\"]]\n",
    "#     candidates['score'] = candidates[rule_names].sum(axis=1)\n",
    "#     candidates['rank'] = candidates.groupby(['customer_id'])['score'].rank(ascending=False)\n",
    "    \n",
    "#     candidates.to_parquet(data_dir/\"interim\"/VERSION_NAME/f\"week{week}_candidate.pqt\")\n",
    "#     if WEEK_NUM != 0:\n",
    "#         valid.to_parquet(data_dir/\"interim\"/VERSION_NAME/f\"week{week}_label.pqt\")"
   ]
  },
  {
   "cell_type": "code",
   "execution_count": 15,
   "metadata": {},
   "outputs": [],
   "source": [
    "# # * use the threshold in week 1 to generate candidates for test data, see the log in the upper cell \n",
    "\n",
    "# for week in range(1):\n",
    "#     if week == 0 and not TEST:\n",
    "#         continue\n",
    "#     trans = data[\"inter\"]\n",
    "\n",
    "#     start_date, end_date = calc_valid_date(week)\n",
    "#     print(f\"Week {week}: [{start_date}, {end_date})\")\n",
    "    \n",
    "#     last_5week_start = pd.to_datetime(start_date) - 5*pd.Timedelta(days=7)\n",
    "#     last_5week_start = last_5week_start.strftime(\"%Y-%m-%d\")\n",
    "    \n",
    "#     last_week_start = pd.to_datetime(start_date) - pd.Timedelta(days=7)\n",
    "#     last_week_start = last_week_start.strftime(\"%Y-%m-%d\")\n",
    "    \n",
    "#     last_3day_start = pd.to_datetime(start_date) - pd.Timedelta(days=3)\n",
    "#     last_3day_start = last_3day_start.strftime(\"%Y-%m-%d\")\n",
    "\n",
    "#     train, valid = dh.split_data(trans, start_date, end_date)\n",
    "    \n",
    "#     last_5week = train.loc[train.t_dat >= last_5week_start]\n",
    "#     last_5week = last_5week.merge(data['user'][['customer_id','age_bins']], on='customer_id', how='left')\n",
    "\n",
    "#     last_week = train.loc[train.t_dat >= last_week_start]\n",
    "#     last_week = last_week.merge(data['user'][['customer_id','age_bins']], on='customer_id', how='left')\n",
    "    \n",
    "#     last_3days = train.loc[train.t_dat >= last_3day_start]\n",
    "#     last_3days = last_3days.merge(data['user'][['customer_id','age_bins']], on='customer_id', how='left')\n",
    "    \n",
    "#     train = train.merge(data['user'][['customer_id','age_bins']], on='customer_id', how='left')\n",
    "#     last_5week = last_5week.merge(data['user'][['customer_id','age_bins']], on='customer_id', how='left')\n",
    "\n",
    "#     if week != 0:\n",
    "#         customer_list = valid[\"customer_id\"].values\n",
    "#     else:\n",
    "#         customer_list = submission['customer_id'].values\n",
    "\n",
    "#     # * ========================== Retrieval Strategies ==========================\n",
    "\n",
    "#     candidates = RuleCollector().collect(\n",
    "#         week_num = week,\n",
    "#         trans_df = trans,\n",
    "#         customer_list=customer_list,\n",
    "#         rules=[\n",
    "#             OrderHistory(train, 3),\n",
    "#             OrderHistory(train, 7),\n",
    "#             OrderHistoryDecay(train, 3, n=50),\n",
    "#             OrderHistoryDecay(train, 7, n=50),\n",
    "#             ItemPair(OrderHistory(train, 3).retrieve(), name='1'),\n",
    "#             ItemPair(OrderHistory(train, 7).retrieve(), name='2'),\n",
    "#             ItemPair(OrderHistoryDecay(train, 3, n=50).retrieve(), name='3'),\n",
    "#             ItemPair(OrderHistoryDecay(train, 7, n=50).retrieve(), name='4'),\n",
    "#             UserGroupTimeHistory(data, customer_list, last_week, ['age_bins'], n=35, name='1'),\n",
    "#             UserGroupTimeHistory(data, customer_list, last_3days, ['age_bins'], n=38.5, name='2'),\n",
    "#             UserGroupSaleTrend(data, customer_list, train, ['age_bins'], 7, n=3),\n",
    "#             TimeHistory(customer_list, last_week, n=25, name='1'),\n",
    "#             TimeHistory(customer_list, last_3days, n=30, name='2'),\n",
    "#             TimeHistoryDecay(customer_list, train, 3, n=31),\n",
    "#             TimeHistoryDecay(customer_list, train, 7, n=24),\n",
    "#             SaleTrend(customer_list, train, 7, n=4),\n",
    "#         ],\n",
    "#         filters=[OutOfStock(trans)],\n",
    "#         min_pos_rate=0.005,\n",
    "#         compress=False,\n",
    "#     )\n",
    "    \n",
    "#     candidates = (\n",
    "#         pd.pivot_table(\n",
    "#             candidates,\n",
    "#             values=\"score\",\n",
    "#             index=[\"customer_id\", \"article_id\"],\n",
    "#             columns=[\"method\"],\n",
    "#             aggfunc=np.sum,\n",
    "#         )\n",
    "#         .reset_index()\n",
    "#     )\n",
    "\n",
    "#     rule_names = [x for x in candidates.columns if x not in [\"customer_id\", \"article_id\"]]\n",
    "#     candidates['score'] = candidates[rule_names].sum(axis=1)\n",
    "#     candidates['rank'] = candidates.groupby(['customer_id'])['score'].rank(ascending=False)\n",
    "\n",
    "#     candidates.to_parquet(data_dir/\"interim\"/VERSION_NAME/f\"week{week}_candidate.pqt\")\n",
    "#     if WEEK_NUM != 0:\n",
    "#         valid.to_parquet(data_dir/\"interim\"/VERSION_NAME/f\"week{week}_label.pqt\")"
   ]
  },
  {
   "cell_type": "code",
   "execution_count": 16,
   "metadata": {},
   "outputs": [],
   "source": [
    "# del train, valid, last_week, customer_list, candidates\n",
    "# gc.collect()"
   ]
  },
  {
   "cell_type": "markdown",
   "metadata": {
    "id": "TBIrKxhRGGQR"
   },
   "source": [
    "## Feature engineering\n"
   ]
  },
  {
   "cell_type": "code",
   "execution_count": 17,
   "metadata": {
    "executionInfo": {
     "elapsed": 15,
     "status": "ok",
     "timestamp": 1650813116461,
     "user": {
      "displayName": "WP Zhang",
      "userId": "08181056311681578219"
     },
     "user_tz": 240
    },
    "id": "9pF-sOMSGGQP"
   },
   "outputs": [],
   "source": [
    "user = data[\"user\"]\n",
    "item = data[\"item\"]\n",
    "inter = data[\"inter\"]"
   ]
  },
  {
   "cell_type": "code",
   "execution_count": 18,
   "metadata": {
    "executionInfo": {
     "elapsed": 12313,
     "status": "ok",
     "timestamp": 1650811966923,
     "user": {
      "displayName": "WP Zhang",
      "userId": "08181056311681578219"
     },
     "user_tz": 240
    },
    "id": "heKIAtoRdtIk"
   },
   "outputs": [],
   "source": [
    "# # merge `product_code`\n",
    "# data['user']['age_bucket'] = pd.cut(data['user']['age'].fillna(22), [-1, 19, 29, 39, 49, 59, 69, 119],\n",
    "#                                     labels=[0, 1, 2, 3, 4, 5, 6])\n",
    "# inter = inter.merge(item[[\"article_id\", \"product_code\", \"department_no\"]], on=\"article_id\", how=\"left\")\n",
    "# inter = inter.merge(user[[\"customer_id\", \"age_bucket\"]], on=\"customer_id\", how=\"left\")\n",
    "# inter[\"age_bucket\"] = inter[\"age_bucket\"].astype(int)\n",
    "# # calculate week number\n",
    "# inter['week'] = (pd.to_datetime('2020-09-29') - pd.to_datetime(inter['t_dat'])).dt.days // 7\n",
    "# inter = inter.sort_values([\"customer_id\", \"t_dat\"]).reset_index(drop=True)"
   ]
  },
  {
   "cell_type": "code",
   "execution_count": 19,
   "metadata": {
    "scrolled": false
   },
   "outputs": [],
   "source": [
    "# inter.head()"
   ]
  },
  {
   "cell_type": "code",
   "execution_count": 20,
   "metadata": {
    "colab": {
     "base_uri": "https://localhost:8080/"
    },
    "executionInfo": {
     "elapsed": 35,
     "status": "ok",
     "timestamp": 1650811979181,
     "user": {
      "displayName": "WP Zhang",
      "userId": "08181056311681578219"
     },
     "user_tz": 240
    },
    "id": "krS1OT4JGGQR",
    "outputId": "e4c0aefe-9eaf-4887-f330-9e7cd13cc9bb"
   },
   "outputs": [],
   "source": [
    "# inter.shape"
   ]
  },
  {
   "cell_type": "markdown",
   "metadata": {},
   "source": [
    "Week Sale"
   ]
  },
  {
   "cell_type": "code",
   "execution_count": 21,
   "metadata": {},
   "outputs": [],
   "source": [
    "# inter[\"i_sale\"] = week_sale(inter, [\"article_id\"])\n",
    "# inter[\"p_sale\"] = week_sale(inter, [\"product_code\"])\n",
    "# inter[\"i_sale_uni\"] = week_sale(inter, [\"article_id\"], True)\n",
    "# inter[\"p_sale_uni\"] = week_sale(inter, [\"product_code\"], True)\n",
    "# inter[\"lw_i_sale\"] = week_sale(inter, [\"article_id\"], step=1) # * last week sale\n",
    "# inter[\"lw_p_sale\"] = week_sale(inter, [\"product_code\"], step=1)\n",
    "# inter[\"lw_i_sale_uni\"] = week_sale(inter, [\"article_id\"], True, step=1)\n",
    "# inter[\"lw_p_sale_uni\"] = week_sale(inter, [\"product_code\"], True, step=1)\n",
    "\n",
    "# inter[\"i_sale_by_channel\"] = week_sale(inter, [\"article_id\",\"sales_channel_id\"])\n",
    "# inter[\"p_sale_by_channel\"] = week_sale(inter, [\"product_code\",\"sales_channel_id\"])\n",
    "# inter[\"i_sale_uni_by_channel\"] = week_sale(inter, [\"article_id\",\"sales_channel_id\"], True)\n",
    "# inter[\"p_sale_uni_by_channel\"] = week_sale(inter, [\"product_code\",\"sales_channel_id\"], True)\n",
    "\n",
    "# inter[\"i_sale_by_age\"] = week_sale(inter, [\"article_id\",\"age_bins\"])\n",
    "# inter[\"p_sale_by_age\"] = week_sale(inter, [\"product_code\",\"age_bins\"])\n",
    "# inter[\"i_sale_by_dept\"] = week_sale(inter, [\"article_id\",\"department_no\"])\n",
    "# inter[\"p_sale_by_dept\"] = week_sale(inter, [\"product_code\",\"department_no\"])\n",
    "# inter[\"i_sale_by_dept_channel\"] = week_sale(inter, [\"article_id\",\"department_no\",\"sales_channel_id\"])\n",
    "# inter[\"p_sale_by_dept_channel\"] = week_sale(inter, [\"product_code\",\"department_no\",\"sales_channel_id\"])\n",
    "\n",
    "# inter[\"i_sale_uni_by_age\"] = week_sale(inter, [\"article_id\",\"age_bucket\"], True)\n",
    "# inter[\"p_sale_uni_by_age\"] = week_sale(inter, [\"product_code\",\"age_bucket\"], True)\n",
    "# inter[\"lw_i_sale_by_age\"] = week_sale(inter, [\"article_id\",\"age_bucket\"], step=1)\n",
    "# inter[\"lw_p_sale_by_age\"] = week_sale(inter, [\"product_code\",\"age_bucket\"], step=1)\n",
    "\n",
    "# inter[\"i_sale_by_channel_age\"] = week_sale(inter, [\"article_id\",\"sales_channel_id\",\"age_bucket\"])\n",
    "# inter[\"p_sale_by_channel_age\"] = week_sale(inter, [\"product_code\",\"sales_channel_id\",\"age_bucket\"])\n",
    "# inter[\"i_sale_uni_by_channel_age\"] = week_sale(inter, [\"article_id\",\"sales_channel_id\",\"age_bucket\"], True)\n",
    "# inter[\"p_sale_uni_by_channel_age\"] = week_sale(inter, [\"product_code\",\"sales_channel_id\",\"age_bucket\"], True)\n",
    "# inter[\"i_sale_by_dept_age\"] = week_sale(inter, [\"article_id\",\"department_no\",\"age_bucket\"])\n",
    "# inter[\"p_sale_by_dept_age\"] = week_sale(inter, [\"product_code\",\"department_no\",\"age_bucket\"])"
   ]
  },
  {
   "cell_type": "code",
   "execution_count": 22,
   "metadata": {},
   "outputs": [],
   "source": [
    "# inter[\"lw_i_sale_by_channel\"] = week_sale(inter, [\"article_id\",\"sales_channel_id\"], step=1)\n",
    "# inter[\"lw_p_sale_by_channel\"] = week_sale(inter, [\"product_code\",\"sales_channel_id\"], step=1)\n",
    "\n",
    "# inter[\"i_sale_ratio\"] = inter[\"i_sale\"] / (inter[\"p_sale\"] + 1e-6)\n",
    "# inter[\"i_sale_uni_ratio\"] = inter[\"i_sale_uni\"] / (inter[\"p_sale_uni\"] + 1e-6)\n",
    "# inter[\"lw_i_sale_ratio\"] = inter[\"lw_i_sale\"] / (inter[\"lw_p_sale\"] + 1e-6)\n",
    "# inter[\"lw_i_sale_uni_ratio\"] = inter[\"lw_i_sale_uni\"] / (inter[\"lw_p_sale_uni\"] + 1e-6)\n",
    "\n",
    "# inter[\"i_uni_ratio\"] = inter[\"i_sale\"] / (inter[\"i_sale_uni\"] + 1e-6)\n",
    "# inter[\"p_uni_ratio\"] = inter[\"p_sale\"] / (inter[\"p_sale_uni\"] + 1e-6)\n",
    "# inter[\"lw_i_uni_ratio\"] = inter[\"lw_i_sale\"] / (inter[\"lw_i_sale_uni\"] + 1e-6)\n",
    "# inter[\"lw_p_uni_ratio\"] = inter[\"lw_p_sale\"] / (inter[\"lw_p_sale_uni\"] + 1e-6)\n",
    "\n",
    "# inter[\"i_sale_trend\"] = (inter[\"i_sale\"] - inter[\"lw_i_sale\"]) / (inter[\"lw_i_sale\"] + 1e-6)\n",
    "# inter[\"p_sale_trend\"] = (inter[\"p_sale\"] - inter[\"lw_p_sale\"]) / (inter[\"lw_p_sale\"] + 1e-6)\n",
    "\n",
    "# item_feats = [\n",
    "#     \"product_type_no\",\n",
    "#     \"product_group_name\",\n",
    "#     \"graphical_appearance_no\",\n",
    "#     \"colour_group_code\",\n",
    "#     \"perceived_colour_value_id\",\n",
    "#     \"perceived_colour_master_id\",\n",
    "# ]\n",
    "# inter = inter.merge(item[[\"article_id\", *item_feats]], on=\"article_id\", how=\"left\")\n",
    "\n",
    "# for f in tqdm(item_feats):\n",
    "#     inter[f\"{f}_sale\"] = week_sale(inter, [f], f\"{f}_sale\")\n",
    "#     inter[f\"lw_{f}_sale\"] = week_sale(inter, [f], f\"{f}_sale\", step=1)\n",
    "#     inter[f\"{f}_sale_trend\"] = (inter[f\"{f}_sale\"] - inter[f\"lw_{f}_sale\"]) / (inter[f\"lw_{f}_sale\"] + 1e-6)\n",
    "    \n",
    "# inter = inter.drop(columns=item_feats)"
   ]
  },
  {
   "cell_type": "code",
   "execution_count": 23,
   "metadata": {
    "id": "pnZzbv2JNUB1"
   },
   "outputs": [],
   "source": [
    "##Repurchase Ratio\n",
    "# inter['i_repurchase_ratio'] = repurchase_ratio(inter, ['article_id'])\n",
    "# inter['p_repurchase_ratio'] = repurchase_ratio(inter, ['product_code'])\n",
    "\n",
    "##Popularity\n",
    "# inter['i_pop'] = popularity(inter, 'article_id', week_num=WEEK_NUM)\n",
    "# inter['p_pop'] = popularity(inter, 'product_code', week_num=WEEK_NUM)\n",
    "\n",
    "##Already Bought Item\n",
    "# inter[\"purchased_item\"] = purchased_before(inter, [\"article_id\"])\n",
    "# inter[\"purchased_pro\"] = purchased_before(inter, [\"product_code\"])"
   ]
  },
  {
   "cell_type": "code",
   "execution_count": 24,
   "metadata": {
    "executionInfo": {
     "elapsed": 45421,
     "status": "ok",
     "timestamp": 1650813026679,
     "user": {
      "displayName": "WP Zhang",
      "userId": "08181056311681578219"
     },
     "user_tz": 240
    },
    "id": "dv55insCdtIo"
   },
   "outputs": [],
   "source": [
    "## inter.to_parquet(data_dir / \"interim/processed_inter.pqt\")\n",
    "### inter.to_parquet(data_dir / \"interim/processed_inter_v2.pqt\")\n",
    "# inter.to_parquet(data_dir / \"interim/processed_inter_v3.pqt\")"
   ]
  },
  {
   "cell_type": "markdown",
   "metadata": {
    "id": "jywhBCAGGGQS"
   },
   "source": [
    "## Merge Features\n"
   ]
  },
  {
   "cell_type": "code",
   "execution_count": 25,
   "metadata": {
    "executionInfo": {
     "elapsed": 11212,
     "status": "ok",
     "timestamp": 1650813141038,
     "user": {
      "displayName": "WP Zhang",
      "userId": "08181056311681578219"
     },
     "user_tz": 240
    },
    "id": "cxSNgWvVuv2A"
   },
   "outputs": [],
   "source": [
    "# inter = pd.read_parquet(data_dir / \"interim/processed_inter.pqt\")\n",
    "# inter = pd.read_parquet(data_dir / \"interim/processed_inter_v2.pqt\")\n",
    "# inter = pd.read_parquet(data_dir / \"interim/processed_inter_v3.pqt\")"
   ]
  },
  {
   "cell_type": "code",
   "execution_count": 26,
   "metadata": {},
   "outputs": [],
   "source": [
    "# data[\"inter\"] = inter"
   ]
  },
  {
   "cell_type": "code",
   "execution_count": 27,
   "metadata": {},
   "outputs": [],
   "source": [
    "# data[\"inter\"]['label'] = 1\n",
    "# data[\"inter\"][['customer_id', 'article_id', 'label']]"
   ]
  },
  {
   "cell_type": "markdown",
   "metadata": {},
   "source": [
    "Merge user and item embeddings"
   ]
  },
  {
   "cell_type": "code",
   "execution_count": 28,
   "metadata": {
    "colab": {
     "base_uri": "https://localhost:8080/"
    },
    "executionInfo": {
     "elapsed": 115102,
     "status": "ok",
     "timestamp": 1650813553563,
     "user": {
      "displayName": "WP Zhang",
      "userId": "08181056311681578219"
     },
     "user_tz": 240
    },
    "id": "sWyKQBAt3x--",
    "outputId": "f37b52b7-ee90-45f7-a24a-68ddaf23b95f"
   },
   "outputs": [],
   "source": [
    "# #* embeddings from DSSM model\n",
    "# dssm_user_embd = np.load(data_dir / \"external/dssm_user_embd.npy\", allow_pickle=True)\n",
    "# dssm_item_embd = np.load(data_dir / \"external/dssm_item_embd.npy\", allow_pickle=True)\\\n",
    "# # * embeddings from YouTubeDNN model\n",
    "# yt_user_embd = np.load(data_dir / \"external/yt_user_embd.npy\", allow_pickle=True)\n",
    "# yt_item_embd = np.load(data_dir / \"external/yt_item_embd.npy\", allow_pickle=True)\n",
    "\n",
    "# for i in tqdm(range(WEEK_NUM)):\n",
    "#     if i == 0 and not TEST:\n",
    "#         continue\n",
    "        \n",
    "#     candidate = pd.read_parquet(data_dir/\"interim\"/VERSION_NAME/f\"week{i}_candidate.pqt\")\n",
    "#     # * merge features\n",
    "#     candidate = merge_week_data(data, i, candidate)\n",
    "#     candidate = candidate.merge(article_cluster[['article_id','colour_group_name_cat_cat_code', 'cluster',\n",
    "#                                                          'department_no_cluster']],  on='article_id', how='left')\n",
    "    \n",
    "#     candidate[\"dssm_similarity\"] = calc_embd_similarity(candidate, dssm_user_embd, dssm_item_embd)\n",
    "#     candidate[\"yt_similarity\"] = calc_embd_similarity(candidate, yt_user_embd, yt_item_embd)\n",
    "#     candidate.to_parquet(data_dir/\"interim\"/VERSION_NAME/f\"week{i}_candidate_full.pqt\")\n",
    "    \n",
    "# del dssm_user_embd, dssm_item_embd, yt_user_embd, yt_item_embd, article_cluster, itemid2idx"
   ]
  },
  {
   "cell_type": "code",
   "execution_count": 29,
   "metadata": {},
   "outputs": [],
   "source": [
    "# def merge_new_groups(trans, week_num, candidates):\n",
    "    \n",
    "#     trans = trans.sort_values(by=[\"t_dat\", \"customer_id\"]).reset_index(drop=True)\n",
    "\n",
    "#     trans_info = (\n",
    "#         trans[trans[\"week\"] == week_num + 1]\n",
    "#         .sort_values(by=[\"t_dat\", \"customer_id\"])\n",
    "#         .reset_index(drop=True)\n",
    "#         .groupby([\"week\", \"article_id\"], as_index=False)\n",
    "#         .last()\n",
    "#         .drop(columns=[\"customer_id\"])\n",
    "#     )\n",
    "\n",
    "#     trans_info[\"week\"] = week_num\n",
    "#     trans_info, _ = reduce_mem_usage(trans_info)\n",
    "\n",
    "#     candidates = candidates.merge(trans_info.drop(['t_dat', 'week'], axis=1), on=\"article_id\", how=\"left\")\n",
    "    \n",
    "#     candidates, _ = reduce_mem_usage(candidates)\n",
    "\n",
    "#     return candidates"
   ]
  },
  {
   "cell_type": "code",
   "execution_count": 30,
   "metadata": {},
   "outputs": [],
   "source": [
    "# candidates = {}\n",
    "# for i in tqdm(range(1, WEEK_NUM)):\n",
    "#     candidates[i] = pd.read_parquet(data_dir/\"interim\"/VERSION_NAME/f\"week{i}_candidate_full.pqt\")"
   ]
  },
  {
   "cell_type": "code",
   "execution_count": 31,
   "metadata": {},
   "outputs": [],
   "source": [
    "# for i in tqdm(range(1, WEEK_NUM)):\n",
    "#     if i in candidates:\n",
    "#         candidates[i] = merge_new_groups(data[\"inter\"], i, candidates[i])\n",
    "#         candidates[i].to_parquet(data_dir/\"interim\"/VERSION_NAME/f\"week{i}_candidate_full.pqt\")"
   ]
  },
  {
   "cell_type": "markdown",
   "metadata": {
    "id": "7Zml-cxryoU_"
   },
   "source": [
    "## Ranking\n"
   ]
  },
  {
   "cell_type": "code",
   "execution_count": 32,
   "metadata": {},
   "outputs": [],
   "source": [
    "article_cluster = pd.read_parquet(data_dir/'articles_new.parquet')\n",
    "# https://www.kaggle.com/code/beezus666/k-means-and-feature-importance-for-articles/notebook?scriptVersionId=94269787\n",
    "\n",
    "itemid2idx = pickle.load(open(data_dir/\"index_id_map/item_id2index.pkl\", \"rb\"))\n",
    "article_cluster['article_id'] = article_cluster['article_id'].map(itemid2idx)\n",
    "article_cluster = article_cluster.rename(columns={'department_no':'department_no_cluster', 'ct':'cluster'})"
   ]
  },
  {
   "cell_type": "code",
   "execution_count": 33,
   "metadata": {},
   "outputs": [
    {
     "name": "stderr",
     "output_type": "stream",
     "text": [
      "100%|██████████| 6/6 [01:51<00:00, 18.63s/it]\n"
     ]
    }
   ],
   "source": [
    "candidates = {}\n",
    "labels = {}\n",
    "for i in tqdm(range(WEEK_NUM)):\n",
    "    \n",
    "#     candidates[i] = pd.read_parquet(data_dir/\"processed\"/VERSION_NAME/f\"week{i}_candidate.pqt\")\n",
    "#     labels[i] = pd.read_parquet(data_dir/\"processed\"/VERSION_NAME/f\"week{i}_label.pqt\")\n",
    "    \n",
    "    candidates[i] = pd.read_parquet(data_dir/\"interim\"/VERSION_NAME/f\"week{i}_candidate_full.pqt\")\n",
    "    labels[i] = pd.read_parquet(data_dir/\"interim\"/VERSION_NAME/f\"week{i}_label.pqt\")"
   ]
  },
  {
   "cell_type": "code",
   "execution_count": 34,
   "metadata": {},
   "outputs": [],
   "source": [
    "feats = [\n",
    "    x\n",
    "    for x in np.intersect1d(candidates[1].columns, candidates[2].columns)\n",
    "    if x\n",
    "    not in [\n",
    "        \"label\",\n",
    "        \"t_dat\",\n",
    "        \"week\",\n",
    "        'rank',\n",
    "        'score'\n",
    "    ]\n",
    "]"
   ]
  },
  {
   "cell_type": "code",
   "execution_count": 35,
   "metadata": {
    "scrolled": true
   },
   "outputs": [
    {
     "data": {
      "text/plain": [
       "['ItemPairRetrieve_1',\n",
       " 'ItemPairRetrieve_2',\n",
       " 'ItemPairRetrieve_3',\n",
       " 'ItemPairRetrieve_4',\n",
       " 'OrderHistoryDecay_1',\n",
       " 'OrderHistory_1',\n",
       " 'TimeHistoryDecay_1',\n",
       " 'TimeHistory_1',\n",
       " 'TimeHistory_2',\n",
       " 'UGTimeHistory_1',\n",
       " 'UGTimeHistory_2',\n",
       " 'age_bucket',\n",
       " 'article_id',\n",
       " 'cluster',\n",
       " 'colour_group_code_sale',\n",
       " 'colour_group_code_sale_trend',\n",
       " 'colour_group_name_cat_cat_code',\n",
       " 'customer_id',\n",
       " 'department_no',\n",
       " 'department_no_cluster',\n",
       " 'dssm_similarity',\n",
       " 'graphical_appearance_no_sale',\n",
       " 'graphical_appearance_no_sale_trend',\n",
       " 'i_pop',\n",
       " 'i_repurchase_ratio',\n",
       " 'i_sale',\n",
       " 'i_sale_by_age',\n",
       " 'i_sale_by_channel',\n",
       " 'i_sale_by_channel_age',\n",
       " 'i_sale_by_dept',\n",
       " 'i_sale_by_dept_age',\n",
       " 'i_sale_by_dept_channel',\n",
       " 'i_sale_ratio',\n",
       " 'i_sale_trend',\n",
       " 'i_sale_uni',\n",
       " 'i_sale_uni_by_age',\n",
       " 'i_sale_uni_by_channel',\n",
       " 'i_sale_uni_by_channel_age',\n",
       " 'i_sale_uni_ratio',\n",
       " 'i_uni_ratio',\n",
       " 'lw_colour_group_code_sale',\n",
       " 'lw_graphical_appearance_no_sale',\n",
       " 'lw_i_sale',\n",
       " 'lw_i_sale_by_age',\n",
       " 'lw_i_sale_by_channel',\n",
       " 'lw_i_sale_ratio',\n",
       " 'lw_i_sale_uni',\n",
       " 'lw_i_sale_uni_ratio',\n",
       " 'lw_i_uni_ratio',\n",
       " 'lw_p_sale',\n",
       " 'lw_p_sale_by_age',\n",
       " 'lw_p_sale_by_channel',\n",
       " 'lw_p_sale_uni',\n",
       " 'lw_p_uni_ratio',\n",
       " 'lw_perceived_colour_master_id_sale',\n",
       " 'lw_perceived_colour_value_id_sale',\n",
       " 'lw_product_group_name_sale',\n",
       " 'lw_product_type_no_sale',\n",
       " 'p_pop',\n",
       " 'p_repurchase_ratio',\n",
       " 'p_sale',\n",
       " 'p_sale_by_age',\n",
       " 'p_sale_by_channel',\n",
       " 'p_sale_by_channel_age',\n",
       " 'p_sale_by_dept',\n",
       " 'p_sale_by_dept_age',\n",
       " 'p_sale_by_dept_channel',\n",
       " 'p_sale_trend',\n",
       " 'p_sale_uni',\n",
       " 'p_sale_uni_by_age',\n",
       " 'p_sale_uni_by_channel',\n",
       " 'p_sale_uni_by_channel_age',\n",
       " 'p_uni_ratio',\n",
       " 'perceived_colour_master_id_sale',\n",
       " 'perceived_colour_master_id_sale_trend',\n",
       " 'perceived_colour_value_id_sale',\n",
       " 'perceived_colour_value_id_sale_trend',\n",
       " 'price',\n",
       " 'product_code',\n",
       " 'product_group_name_sale',\n",
       " 'product_group_name_sale_trend',\n",
       " 'product_type_no_sale',\n",
       " 'product_type_no_sale_trend',\n",
       " 'purchased_item',\n",
       " 'purchased_pro',\n",
       " 'sales_channel_id',\n",
       " 'yt_similarity']"
      ]
     },
     "execution_count": 35,
     "metadata": {},
     "output_type": "execute_result"
    }
   ],
   "source": [
    "feats"
   ]
  },
  {
   "cell_type": "code",
   "execution_count": 36,
   "metadata": {
    "executionInfo": {
     "elapsed": 368,
     "status": "ok",
     "timestamp": 1650814211010,
     "user": {
      "displayName": "WP Zhang",
      "userId": "08181056311681578219"
     },
     "user_tz": 240
    },
    "id": "xWqYwCbsdtIr"
   },
   "outputs": [],
   "source": [
    "cat_features = [\n",
    "#     \"FN\",\n",
    "#     \"Active\",\n",
    "#     \"club_member_status\",\n",
    "#     \"fashion_news_frequency\",\n",
    "#     \"product_type_no\",\n",
    "#     \"product_group_name\",\n",
    "#     \"graphical_appearance_no\",\n",
    "#     \"colour_group_code\",\n",
    "#     \"perceived_colour_value_id\",\n",
    "#     \"perceived_colour_master_id\",\n",
    "#     \"age\",\n",
    "#     \"article_gender\",\n",
    "#     \"season_type\",\n",
    "#     \"user_gender\",\n",
    "    \"customer_id\",\n",
    "    \"article_id\",\n",
    "    \"product_code\",\n",
    "    \"sales_channel_id\",\n",
    "    \"colour_group_name_cat_cat_code\",\n",
    "    \"department_no\",\n",
    "    \"age_bucket\",\n",
    "    \"cluster\",\n",
    "    \"department_no_cluster\"\n",
    "]"
   ]
  },
  {
   "cell_type": "code",
   "execution_count": 37,
   "metadata": {
    "colab": {
     "base_uri": "https://localhost:8080/"
    },
    "executionInfo": {
     "elapsed": 2111,
     "status": "ok",
     "timestamp": 1650813561263,
     "user": {
      "displayName": "WP Zhang",
      "userId": "08181056311681578219"
     },
     "user_tz": 240
    },
    "id": "ypTW4qegdtIr",
    "outputId": "87be50cb-e296-41f8-8548-2f2f30bcf654",
    "scrolled": true
   },
   "outputs": [],
   "source": [
    "# # * Convert categorical featues as `CategoricalDtype`\n",
    "# cate_dict = {}        \n",
    "# for feat in tqdm(cat_features):\n",
    "    \n",
    "#     if feat !='age_bucket':\n",
    "#         if feat in data['user'].columns:\n",
    "#             value_set = set(data['user'][feat].unique())\n",
    "#         elif feat in data['item'].columns:\n",
    "#             value_set = set(data['item'][feat].unique())\n",
    "#         elif feat in article_cluster.columns:\n",
    "#             value_set = set(article_cluster[feat].unique())\n",
    "#         else:\n",
    "#             value_set = set(data['inter'][feat].unique())\n",
    "#         cate_dict[feat] = CategoricalDtype(categories=value_set)\n",
    "    \n",
    "# for i in tqdm(range(WEEK_NUM)):\n",
    "#     for feat in cat_features:\n",
    "#         if feat !='age_bucket':\n",
    "#             candidates[i][feat] = candidates[i][feat].astype(cate_dict[feat])"
   ]
  },
  {
   "cell_type": "code",
   "execution_count": 38,
   "metadata": {
    "scrolled": true
   },
   "outputs": [],
   "source": [
    "# for i in tqdm(range(1, WEEK_NUM)):\n",
    "\n",
    "#     candidate = pd.read_parquet(data_dir/\"interim\"/VERSION_NAME/f\"week{i}_candidate_full.pqt\")\n",
    "\n",
    "#     start_date, end_date = calc_valid_date(i)\n",
    "#     mask = (start_date <= data[\"inter\"][\"t_dat\"]) & (data[\"inter\"][\"t_dat\"] < end_date)\n",
    "#     label = data[\"inter\"].loc[mask, [\"customer_id\", \"article_id\"]]\n",
    "#     label = label.drop_duplicates([\"customer_id\", \"article_id\"])\n",
    "#     label[\"label\"] = 1\n",
    "    \n",
    "#     candidate = candidate.drop('label', axis=1)\n",
    "#     candidate = candidate.merge(label[['customer_id', 'article_id', 'label']], \n",
    "#                                        on=['customer_id', 'article_id'], how='left')\n",
    "#     candidate['label'] = candidate['label'].fillna(0)\n",
    "#     candidate.to_parquet(data_dir/\"interim\"/VERSION_NAME/f\"week{i}_candidate_full.pqt\")"
   ]
  },
  {
   "cell_type": "code",
   "execution_count": 39,
   "metadata": {},
   "outputs": [],
   "source": [
    "# for i in tqdm(range(1, WEEK_NUM)):\n",
    "    \n",
    "#     candidates[i] = candidates[i].merge(data[\"inter\"][['customer_id', 'article_id', 'label']], \n",
    "#                                        on=['customer_id', 'article_id'], how='left')\n",
    "#     candidates[i]['label'] = candidates[i]['label'].fillna(0)\n",
    "#     candidates[i].to_parquet(data_dir/\"interim\"/VERSION_NAME/f\"week{i}_candidate_full.pqt\")"
   ]
  },
  {
   "cell_type": "markdown",
   "metadata": {
    "id": "3RojtbK9GGQU"
   },
   "source": [
    "## Train\n"
   ]
  },
  {
   "cell_type": "code",
   "execution_count": 70,
   "metadata": {},
   "outputs": [],
   "source": [
    "def train_model(valid_week_num, train_week_num=4):\n",
    "    \n",
    "    params = {\n",
    "    \"objective\": \"lambdarank\",\n",
    "    \"boosting_type\": \"gbdt\",\n",
    "    \"metric\": \"map\",\n",
    "    \"max_depth\": 9,\n",
    "    \"num_leaves\": 256,\n",
    "    \"learning_rate\": 0.05,\n",
    "    \"verbose\": -1,\n",
    "    \"eval_at\": 12,\n",
    "    }\n",
    "    \n",
    "    print(\"Validating week:\", valid_week_num)\n",
    "    \n",
    "    full_data = pd.concat(candidates[i] for i in range(1, WEEK_NUM))\n",
    "    \n",
    "    start_date, end_date = calc_valid_date(i)\n",
    "    \n",
    "    train = full_data[(valid_week_num < full_data[\"week\"]) & (full_data[\"week\"] <= valid_week_num + train_week_num)]\n",
    "    valid = full_data[full_data[\"week\"] == valid_week_num]\n",
    "    train = train.sort_values(by=[\"week\", \"customer_id\"], ascending=True).reset_index(drop=True)\n",
    "    valid = valid.sort_values(by=[\"customer_id\"], ascending=True).reset_index(drop=True)\n",
    "    \n",
    "    print(\"Train positive rate:\", train.label.mean())  # 0.9946384702188372 4-week\n",
    "    print(\"Train shape:\", train.shape)\n",
    "\n",
    "    train_group = train[[\"customer_id\", \"article_id\", \"week\"]]\n",
    "    train_group = train_group.astype(\"int\")  # * convert to int to avoid `0` in groupby count result\n",
    "    \n",
    "    train_group = train_group.groupby([\"week\", \"customer_id\"])[\"article_id\"].count().values\n",
    "\n",
    "    valid_group = valid[[\"customer_id\", \"article_id\"]]\n",
    "    valid_group = valid_group.astype(\"int\")  # * convert to int to avoid `0` in groupby count result\n",
    "    \n",
    "    valid_group = valid_group.groupby([\"customer_id\"])[\"article_id\"].count().values\n",
    "\n",
    "    train_set = lgb.Dataset(\n",
    "        data=train[feats],\n",
    "        label=train[\"label\"],\n",
    "        group=train_group,\n",
    "        feature_name=feats,\n",
    "        categorical_feature=cat_features,\n",
    "        params=params,\n",
    "    )\n",
    "\n",
    "    valid_set = lgb.Dataset(\n",
    "        data=valid[feats],\n",
    "        label=valid[\"label\"],\n",
    "        group=valid_group,\n",
    "        feature_name=feats,\n",
    "        categorical_feature=cat_features,\n",
    "        params=params,\n",
    "    )\n",
    "\n",
    "    print(\"Training starts...!\")\n",
    "\n",
    "    ranker = lgb.train(\n",
    "        params,\n",
    "        train_set,\n",
    "        num_boost_round=300,\n",
    "        valid_sets=[valid_set],\n",
    "        early_stopping_rounds=30,\n",
    "        verbose_eval=10,\n",
    "    )\n",
    "    \n",
    "    ranker.save_model(\n",
    "        model_dir / f\"lgb_ranker_{valid_week_num}.model\",\n",
    "        num_iteration=ranker.best_iteration,\n",
    "    )\n",
    "        \n",
    "    return ranker"
   ]
  },
  {
   "cell_type": "code",
   "execution_count": 42,
   "metadata": {},
   "outputs": [],
   "source": [
    "from sklearn.model_selection import KFold, StratifiedKFold\n",
    "\n",
    "def train_binary_model(valid_week_num, train_week_num=1):\n",
    "    \n",
    "    print(\"Validating week:\", valid_week_num)\n",
    "    \n",
    "    f_data = pd.concat(candidates[valid_week_num+j] for j in range(1, train_week_num+1))\n",
    "    \n",
    "    features = [col for col in f_data.columns if col in feats]\n",
    "    \n",
    "    X_train = f_data[features + ['label']].reset_index(drop=True)\n",
    "    y_train = X_train['label']\n",
    "\n",
    "    kf = StratifiedKFold(n_splits = 5, shuffle=True, random_state = 42)      \n",
    "    for n_fold,(train_index, test_index) in tqdm(enumerate(kf.split(X_train, y_train))):\n",
    "        \n",
    "        train = X_train.iloc[train_index].reset_index(drop=True)\n",
    "        valid = X_train.iloc[test_index].reset_index(drop=True)\n",
    "\n",
    "        print(\"Train positive rate:\", train.label.mean())\n",
    "        print(\"Train shape:\", train.shape)\n",
    "        print(\"Validation positive rate:\", valid.label.mean())\n",
    "        print(\"Validation shape:\", valid.shape)\n",
    "\n",
    "        params = {\n",
    "        \"objective\": \"binary\",\n",
    "        \"boosting_type\": \"gbdt\",\n",
    "        \"metric\": [\"binary_logloss\", \"auc\"],\n",
    "        \"max_depth\": 9,\n",
    "        \"num_leaves\": 256,\n",
    "        \"learning_rate\": 0.05,\n",
    "        \"verbose\": -1,\n",
    "        \"first_metric_only\": True\n",
    "        }\n",
    "\n",
    "        train_set = lgb.Dataset(\n",
    "            data=train[features],\n",
    "            label=train[\"label\"],\n",
    "            feature_name=feats,\n",
    "            categorical_feature=cat_features,\n",
    "            params=params,\n",
    "        )\n",
    "\n",
    "        valid_set = lgb.Dataset(\n",
    "            data=valid[features],\n",
    "            label=valid[\"label\"],\n",
    "            feature_name=feats,\n",
    "            categorical_feature=cat_features,\n",
    "            params=params,\n",
    "        )\n",
    "\n",
    "        print(\"Training starts...!\")\n",
    "\n",
    "        ranker = lgb.train(\n",
    "            params,\n",
    "            train_set,\n",
    "            num_boost_round=300,\n",
    "            valid_sets=[valid_set],\n",
    "            early_stopping_rounds=30,\n",
    "            verbose_eval=10,\n",
    "        )\n",
    "\n",
    "        ranker.save_model(\n",
    "            model_dir / f\"lgb_binary_{n_fold}_{valid_week_num}.model\",\n",
    "            num_iteration=ranker.best_iteration,\n",
    "        )\n",
    "\n",
    "    return ranker, features"
   ]
  },
  {
   "cell_type": "code",
   "execution_count": 71,
   "metadata": {},
   "outputs": [
    {
     "name": "stdout",
     "output_type": "stream",
     "text": [
      "Validating week: 1\n"
     ]
    },
    {
     "ename": "KeyError",
     "evalue": "'week'",
     "output_type": "error",
     "traceback": [
      "\u001b[0;31m---------------------------------------------------------------------------\u001b[0m",
      "\u001b[0;31mKeyError\u001b[0m                                  Traceback (most recent call last)",
      "\u001b[0;32m~/myvenv/lib/python3.6/site-packages/pandas/core/indexes/base.py\u001b[0m in \u001b[0;36mget_loc\u001b[0;34m(self, key, method, tolerance)\u001b[0m\n\u001b[1;32m   2897\u001b[0m             \u001b[0;32mtry\u001b[0m\u001b[0;34m:\u001b[0m\u001b[0;34m\u001b[0m\u001b[0;34m\u001b[0m\u001b[0m\n\u001b[0;32m-> 2898\u001b[0;31m                 \u001b[0;32mreturn\u001b[0m \u001b[0mself\u001b[0m\u001b[0;34m.\u001b[0m\u001b[0m_engine\u001b[0m\u001b[0;34m.\u001b[0m\u001b[0mget_loc\u001b[0m\u001b[0;34m(\u001b[0m\u001b[0mcasted_key\u001b[0m\u001b[0;34m)\u001b[0m\u001b[0;34m\u001b[0m\u001b[0;34m\u001b[0m\u001b[0m\n\u001b[0m\u001b[1;32m   2899\u001b[0m             \u001b[0;32mexcept\u001b[0m \u001b[0mKeyError\u001b[0m \u001b[0;32mas\u001b[0m \u001b[0merr\u001b[0m\u001b[0;34m:\u001b[0m\u001b[0;34m\u001b[0m\u001b[0;34m\u001b[0m\u001b[0m\n",
      "\u001b[0;32mpandas/_libs/index.pyx\u001b[0m in \u001b[0;36mpandas._libs.index.IndexEngine.get_loc\u001b[0;34m()\u001b[0m\n",
      "\u001b[0;32mpandas/_libs/index.pyx\u001b[0m in \u001b[0;36mpandas._libs.index.IndexEngine.get_loc\u001b[0;34m()\u001b[0m\n",
      "\u001b[0;32mpandas/_libs/hashtable_class_helper.pxi\u001b[0m in \u001b[0;36mpandas._libs.hashtable.PyObjectHashTable.get_item\u001b[0;34m()\u001b[0m\n",
      "\u001b[0;32mpandas/_libs/hashtable_class_helper.pxi\u001b[0m in \u001b[0;36mpandas._libs.hashtable.PyObjectHashTable.get_item\u001b[0;34m()\u001b[0m\n",
      "\u001b[0;31mKeyError\u001b[0m: 'week'",
      "\nThe above exception was the direct cause of the following exception:\n",
      "\u001b[0;31mKeyError\u001b[0m                                  Traceback (most recent call last)",
      "\u001b[0;32m<ipython-input-71-87bbb66e7a79>\u001b[0m in \u001b[0;36m<module>\u001b[0;34m\u001b[0m\n\u001b[0;32m----> 1\u001b[0;31m \u001b[0mranker\u001b[0m \u001b[0;34m=\u001b[0m \u001b[0mtrain_model\u001b[0m\u001b[0;34m(\u001b[0m\u001b[0mvalid_week\u001b[0m\u001b[0;34m,\u001b[0m \u001b[0mtrain_n_week\u001b[0m\u001b[0;34m)\u001b[0m\u001b[0;34m\u001b[0m\u001b[0;34m\u001b[0m\u001b[0m\n\u001b[0m\u001b[1;32m      2\u001b[0m \u001b[0;31m# 0.82846 4-week\u001b[0m\u001b[0;34m\u001b[0m\u001b[0;34m\u001b[0m\u001b[0;34m\u001b[0m\u001b[0m\n\u001b[1;32m      3\u001b[0m \u001b[0;31m# [35]  valid_0's map@12: 0.705772 3 week\u001b[0m\u001b[0;34m\u001b[0m\u001b[0;34m\u001b[0m\u001b[0;34m\u001b[0m\u001b[0m\n",
      "\u001b[0;32m<ipython-input-70-aaada6d23742>\u001b[0m in \u001b[0;36mtrain_model\u001b[0;34m(valid_week_num, train_week_num)\u001b[0m\n\u001b[1;32m     15\u001b[0m \u001b[0;34m\u001b[0m\u001b[0m\n\u001b[1;32m     16\u001b[0m     \u001b[0mfull_data\u001b[0m \u001b[0;34m=\u001b[0m \u001b[0mpd\u001b[0m\u001b[0;34m.\u001b[0m\u001b[0mconcat\u001b[0m\u001b[0;34m(\u001b[0m\u001b[0mcandidates\u001b[0m\u001b[0;34m[\u001b[0m\u001b[0mi\u001b[0m\u001b[0;34m]\u001b[0m \u001b[0;32mfor\u001b[0m \u001b[0mi\u001b[0m \u001b[0;32min\u001b[0m \u001b[0mrange\u001b[0m\u001b[0;34m(\u001b[0m\u001b[0;36m1\u001b[0m\u001b[0;34m,\u001b[0m \u001b[0mWEEK_NUM\u001b[0m\u001b[0;34m)\u001b[0m\u001b[0;34m)\u001b[0m\u001b[0;34m\u001b[0m\u001b[0;34m\u001b[0m\u001b[0m\n\u001b[0;32m---> 17\u001b[0;31m     \u001b[0mtrain\u001b[0m \u001b[0;34m=\u001b[0m \u001b[0mfull_data\u001b[0m\u001b[0;34m[\u001b[0m\u001b[0;34m(\u001b[0m\u001b[0mvalid_week_num\u001b[0m \u001b[0;34m<\u001b[0m \u001b[0mfull_data\u001b[0m\u001b[0;34m[\u001b[0m\u001b[0;34m\"week\"\u001b[0m\u001b[0;34m]\u001b[0m\u001b[0;34m)\u001b[0m \u001b[0;34m&\u001b[0m \u001b[0;34m(\u001b[0m\u001b[0mfull_data\u001b[0m\u001b[0;34m[\u001b[0m\u001b[0;34m\"week\"\u001b[0m\u001b[0;34m]\u001b[0m \u001b[0;34m<=\u001b[0m \u001b[0mvalid_week_num\u001b[0m \u001b[0;34m+\u001b[0m \u001b[0mtrain_week_num\u001b[0m\u001b[0;34m)\u001b[0m\u001b[0;34m]\u001b[0m\u001b[0;34m\u001b[0m\u001b[0;34m\u001b[0m\u001b[0m\n\u001b[0m\u001b[1;32m     18\u001b[0m     \u001b[0mvalid\u001b[0m \u001b[0;34m=\u001b[0m \u001b[0mfull_data\u001b[0m\u001b[0;34m[\u001b[0m\u001b[0mfull_data\u001b[0m\u001b[0;34m[\u001b[0m\u001b[0;34m\"week\"\u001b[0m\u001b[0;34m]\u001b[0m \u001b[0;34m==\u001b[0m \u001b[0mvalid_week_num\u001b[0m\u001b[0;34m]\u001b[0m\u001b[0;34m\u001b[0m\u001b[0;34m\u001b[0m\u001b[0m\n\u001b[1;32m     19\u001b[0m     \u001b[0mtrain\u001b[0m \u001b[0;34m=\u001b[0m \u001b[0mtrain\u001b[0m\u001b[0;34m.\u001b[0m\u001b[0msort_values\u001b[0m\u001b[0;34m(\u001b[0m\u001b[0mby\u001b[0m\u001b[0;34m=\u001b[0m\u001b[0;34m[\u001b[0m\u001b[0;34m\"week\"\u001b[0m\u001b[0;34m,\u001b[0m \u001b[0;34m\"customer_id\"\u001b[0m\u001b[0;34m]\u001b[0m\u001b[0;34m,\u001b[0m \u001b[0mascending\u001b[0m\u001b[0;34m=\u001b[0m\u001b[0;32mTrue\u001b[0m\u001b[0;34m)\u001b[0m\u001b[0;34m.\u001b[0m\u001b[0mreset_index\u001b[0m\u001b[0;34m(\u001b[0m\u001b[0mdrop\u001b[0m\u001b[0;34m=\u001b[0m\u001b[0;32mTrue\u001b[0m\u001b[0;34m)\u001b[0m\u001b[0;34m\u001b[0m\u001b[0;34m\u001b[0m\u001b[0m\n",
      "\u001b[0;32m~/myvenv/lib/python3.6/site-packages/pandas/core/frame.py\u001b[0m in \u001b[0;36m__getitem__\u001b[0;34m(self, key)\u001b[0m\n\u001b[1;32m   2904\u001b[0m             \u001b[0;32mif\u001b[0m \u001b[0mself\u001b[0m\u001b[0;34m.\u001b[0m\u001b[0mcolumns\u001b[0m\u001b[0;34m.\u001b[0m\u001b[0mnlevels\u001b[0m \u001b[0;34m>\u001b[0m \u001b[0;36m1\u001b[0m\u001b[0;34m:\u001b[0m\u001b[0;34m\u001b[0m\u001b[0;34m\u001b[0m\u001b[0m\n\u001b[1;32m   2905\u001b[0m                 \u001b[0;32mreturn\u001b[0m \u001b[0mself\u001b[0m\u001b[0;34m.\u001b[0m\u001b[0m_getitem_multilevel\u001b[0m\u001b[0;34m(\u001b[0m\u001b[0mkey\u001b[0m\u001b[0;34m)\u001b[0m\u001b[0;34m\u001b[0m\u001b[0;34m\u001b[0m\u001b[0m\n\u001b[0;32m-> 2906\u001b[0;31m             \u001b[0mindexer\u001b[0m \u001b[0;34m=\u001b[0m \u001b[0mself\u001b[0m\u001b[0;34m.\u001b[0m\u001b[0mcolumns\u001b[0m\u001b[0;34m.\u001b[0m\u001b[0mget_loc\u001b[0m\u001b[0;34m(\u001b[0m\u001b[0mkey\u001b[0m\u001b[0;34m)\u001b[0m\u001b[0;34m\u001b[0m\u001b[0;34m\u001b[0m\u001b[0m\n\u001b[0m\u001b[1;32m   2907\u001b[0m             \u001b[0;32mif\u001b[0m \u001b[0mis_integer\u001b[0m\u001b[0;34m(\u001b[0m\u001b[0mindexer\u001b[0m\u001b[0;34m)\u001b[0m\u001b[0;34m:\u001b[0m\u001b[0;34m\u001b[0m\u001b[0;34m\u001b[0m\u001b[0m\n\u001b[1;32m   2908\u001b[0m                 \u001b[0mindexer\u001b[0m \u001b[0;34m=\u001b[0m \u001b[0;34m[\u001b[0m\u001b[0mindexer\u001b[0m\u001b[0;34m]\u001b[0m\u001b[0;34m\u001b[0m\u001b[0;34m\u001b[0m\u001b[0m\n",
      "\u001b[0;32m~/myvenv/lib/python3.6/site-packages/pandas/core/indexes/base.py\u001b[0m in \u001b[0;36mget_loc\u001b[0;34m(self, key, method, tolerance)\u001b[0m\n\u001b[1;32m   2898\u001b[0m                 \u001b[0;32mreturn\u001b[0m \u001b[0mself\u001b[0m\u001b[0;34m.\u001b[0m\u001b[0m_engine\u001b[0m\u001b[0;34m.\u001b[0m\u001b[0mget_loc\u001b[0m\u001b[0;34m(\u001b[0m\u001b[0mcasted_key\u001b[0m\u001b[0;34m)\u001b[0m\u001b[0;34m\u001b[0m\u001b[0;34m\u001b[0m\u001b[0m\n\u001b[1;32m   2899\u001b[0m             \u001b[0;32mexcept\u001b[0m \u001b[0mKeyError\u001b[0m \u001b[0;32mas\u001b[0m \u001b[0merr\u001b[0m\u001b[0;34m:\u001b[0m\u001b[0;34m\u001b[0m\u001b[0;34m\u001b[0m\u001b[0m\n\u001b[0;32m-> 2900\u001b[0;31m                 \u001b[0;32mraise\u001b[0m \u001b[0mKeyError\u001b[0m\u001b[0;34m(\u001b[0m\u001b[0mkey\u001b[0m\u001b[0;34m)\u001b[0m \u001b[0;32mfrom\u001b[0m \u001b[0merr\u001b[0m\u001b[0;34m\u001b[0m\u001b[0;34m\u001b[0m\u001b[0m\n\u001b[0m\u001b[1;32m   2901\u001b[0m \u001b[0;34m\u001b[0m\u001b[0m\n\u001b[1;32m   2902\u001b[0m         \u001b[0;32mif\u001b[0m \u001b[0mtolerance\u001b[0m \u001b[0;32mis\u001b[0m \u001b[0;32mnot\u001b[0m \u001b[0;32mNone\u001b[0m\u001b[0;34m:\u001b[0m\u001b[0;34m\u001b[0m\u001b[0;34m\u001b[0m\u001b[0m\n",
      "\u001b[0;31mKeyError\u001b[0m: 'week'"
     ]
    }
   ],
   "source": [
    "ranker = train_model(valid_week, train_n_week)\n",
    "# 0.82846 4-week\n",
    "# [35]\tvalid_0's map@12: 0.705772 3 week"
   ]
  },
  {
   "cell_type": "code",
   "execution_count": 40,
   "metadata": {
    "scrolled": true
   },
   "outputs": [],
   "source": [
    "# sns.set(rc={'figure.figsize':(8, 18)})\n",
    "# feat_importance = pd.DataFrame(\n",
    "#     {\"feature\": feats, \"importance\": ranker_2.feature_importance()}\n",
    "# ).sort_values(by=\"importance\", ascending=False)\n",
    "# sns.barplot(y=\"feature\", x=\"importance\", data=feat_importance)"
   ]
  },
  {
   "cell_type": "code",
   "execution_count": null,
   "metadata": {},
   "outputs": [],
   "source": [
    "ranker = lgb.Booster(model_file=model_dir / \"lgb_ranker_5_1.model\")"
   ]
  },
  {
   "cell_type": "code",
   "execution_count": null,
   "metadata": {
    "scrolled": true
   },
   "outputs": [
    {
     "name": "stdout",
     "output_type": "stream",
     "text": [
      "Validating week: 1\n"
     ]
    },
    {
     "name": "stderr",
     "output_type": "stream",
     "text": [
      "\r",
      "0it [00:00, ?it/s]"
     ]
    },
    {
     "name": "stdout",
     "output_type": "stream",
     "text": [
      "Train positive rate: 0.002349522671969323\n",
      "Train shape: (50353632, 88)\n",
      "Validation positive rate: 0.002349542344866615\n",
      "Validation shape: (12588409, 88)\n",
      "Training starts...!\n",
      "Training until validation scores don't improve for 30 rounds\n",
      "[10]\tvalid_0's binary_logloss: 0.0146585\tvalid_0's auc: 0.859987\n",
      "[20]\tvalid_0's binary_logloss: 0.01416\tvalid_0's auc: 0.864258\n",
      "[30]\tvalid_0's binary_logloss: 0.0138977\tvalid_0's auc: 0.867357\n",
      "[40]\tvalid_0's binary_logloss: 0.0137381\tvalid_0's auc: 0.869978\n",
      "[50]\tvalid_0's binary_logloss: 0.0136227\tvalid_0's auc: 0.871921\n",
      "[60]\tvalid_0's binary_logloss: 0.0135558\tvalid_0's auc: 0.873596\n",
      "[70]\tvalid_0's binary_logloss: 0.0135099\tvalid_0's auc: 0.875069\n",
      "[80]\tvalid_0's binary_logloss: 0.0134974\tvalid_0's auc: 0.876392\n",
      "[90]\tvalid_0's binary_logloss: 0.0134485\tvalid_0's auc: 0.877354\n",
      "[100]\tvalid_0's binary_logloss: 0.0137661\tvalid_0's auc: 0.878156\n",
      "[110]\tvalid_0's binary_logloss: 0.0136511\tvalid_0's auc: 0.878679\n",
      "[120]\tvalid_0's binary_logloss: 0.013701\tvalid_0's auc: 0.879327\n",
      "Early stopping, best iteration is:\n",
      "[97]\tvalid_0's binary_logloss: 0.013446\tvalid_0's auc: 0.877884\n",
      "Evaluated only: binary_logloss\n"
     ]
    },
    {
     "name": "stderr",
     "output_type": "stream",
     "text": [
      "\r",
      "1it [35:48, 2148.08s/it]"
     ]
    },
    {
     "name": "stdout",
     "output_type": "stream",
     "text": [
      "Train positive rate: 0.002349542484849107\n",
      "Train shape: (50353633, 88)\n",
      "Validation positive rate: 0.002349463093347467\n",
      "Validation shape: (12588408, 88)\n",
      "Training starts...!\n",
      "Training until validation scores don't improve for 30 rounds\n",
      "[10]\tvalid_0's binary_logloss: 0.0146403\tvalid_0's auc: 0.859463\n",
      "[20]\tvalid_0's binary_logloss: 0.0141117\tvalid_0's auc: 0.86462\n",
      "[30]\tvalid_0's binary_logloss: 0.0138376\tvalid_0's auc: 0.868205\n",
      "[40]\tvalid_0's binary_logloss: 0.0136853\tvalid_0's auc: 0.870802\n",
      "[50]\tvalid_0's binary_logloss: 0.0135735\tvalid_0's auc: 0.872945\n",
      "[60]\tvalid_0's binary_logloss: 0.0135159\tvalid_0's auc: 0.874519\n",
      "[70]\tvalid_0's binary_logloss: 0.0134547\tvalid_0's auc: 0.875942\n",
      "[80]\tvalid_0's binary_logloss: 0.0133991\tvalid_0's auc: 0.877367\n",
      "[90]\tvalid_0's binary_logloss: 0.0133592\tvalid_0's auc: 0.878613\n",
      "[100]\tvalid_0's binary_logloss: 0.0133532\tvalid_0's auc: 0.879984\n",
      "[110]\tvalid_0's binary_logloss: 0.0133186\tvalid_0's auc: 0.880915\n",
      "[120]\tvalid_0's binary_logloss: 0.0135011\tvalid_0's auc: 0.881559\n",
      "[130]\tvalid_0's binary_logloss: 0.0134692\tvalid_0's auc: 0.882111\n",
      "[140]\tvalid_0's binary_logloss: 0.0134607\tvalid_0's auc: 0.882579\n",
      "Early stopping, best iteration is:\n",
      "[118]\tvalid_0's binary_logloss: 0.0132975\tvalid_0's auc: 0.881532\n",
      "Evaluated only: binary_logloss\n"
     ]
    },
    {
     "name": "stderr",
     "output_type": "stream",
     "text": [
      "\r",
      "2it [52:01, 1457.13s/it]"
     ]
    },
    {
     "name": "stdout",
     "output_type": "stream",
     "text": [
      "Train positive rate: 0.002349522625308883\n",
      "Train shape: (50353633, 88)\n",
      "Validation positive rate: 0.0023495425315099416\n",
      "Validation shape: (12588408, 88)\n",
      "Training starts...!\n",
      "Training until validation scores don't improve for 30 rounds\n",
      "[10]\tvalid_0's binary_logloss: 0.0146472\tvalid_0's auc: 0.858203\n",
      "[20]\tvalid_0's binary_logloss: 0.0141456\tvalid_0's auc: 0.86393\n",
      "[30]\tvalid_0's binary_logloss: 0.0138789\tvalid_0's auc: 0.867469\n",
      "[40]\tvalid_0's binary_logloss: 0.0137119\tvalid_0's auc: 0.870531\n",
      "[50]\tvalid_0's binary_logloss: 0.0136263\tvalid_0's auc: 0.872695\n",
      "[60]\tvalid_0's binary_logloss: 0.0135342\tvalid_0's auc: 0.874342\n",
      "[70]\tvalid_0's binary_logloss: 0.0134615\tvalid_0's auc: 0.875956\n",
      "[80]\tvalid_0's binary_logloss: 0.0134663\tvalid_0's auc: 0.877329\n",
      "[90]\tvalid_0's binary_logloss: 0.013571\tvalid_0's auc: 0.878541\n",
      "[100]\tvalid_0's binary_logloss: 0.0135142\tvalid_0's auc: 0.879396\n",
      "[110]\tvalid_0's binary_logloss: 0.0136398\tvalid_0's auc: 0.880261\n",
      "[120]\tvalid_0's binary_logloss: 0.0137586\tvalid_0's auc: 0.881022\n",
      "[130]\tvalid_0's binary_logloss: 0.0135491\tvalid_0's auc: 0.881766\n",
      "[140]\tvalid_0's binary_logloss: 0.0136087\tvalid_0's auc: 0.882343\n",
      "Early stopping, best iteration is:\n",
      "[116]\tvalid_0's binary_logloss: 0.0133889\tvalid_0's auc: 0.880814\n",
      "Evaluated only: binary_logloss\n"
     ]
    },
    {
     "name": "stderr",
     "output_type": "stream",
     "text": [
      "\r",
      "3it [1:08:04, 1231.32s/it]"
     ]
    }
   ],
   "source": [
    "ranker, trn_feats = train_binary_model(valid_week, train_n_week)\n",
    "\n",
    "# [204]\tvalid_0's auc: 0.688491  3 week"
   ]
  },
  {
   "cell_type": "code",
   "execution_count": 43,
   "metadata": {
    "scrolled": true
   },
   "outputs": [
    {
     "name": "stdout",
     "output_type": "stream",
     "text": [
      "Validating week: 1\n"
     ]
    },
    {
     "name": "stderr",
     "output_type": "stream",
     "text": [
      "3it [00:13,  3.15s/it]"
     ]
    },
    {
     "name": "stdout",
     "output_type": "stream",
     "text": [
      "Train positive rate: 0.002349522625308883\n",
      "Train shape: (50353633, 88)\n",
      "Validation positive rate: 0.0023495425315099416\n",
      "Validation shape: (12588408, 88)\n",
      "Training starts...!\n",
      "Training until validation scores don't improve for 30 rounds\n",
      "[10]\tvalid_0's binary_logloss: 0.0146849\tvalid_0's auc: 0.857526\n",
      "[20]\tvalid_0's binary_logloss: 0.0141886\tvalid_0's auc: 0.862398\n",
      "[30]\tvalid_0's binary_logloss: 0.0139126\tvalid_0's auc: 0.866612\n",
      "[40]\tvalid_0's binary_logloss: 0.0137495\tvalid_0's auc: 0.869351\n",
      "[50]\tvalid_0's binary_logloss: 0.0136471\tvalid_0's auc: 0.871597\n",
      "[60]\tvalid_0's binary_logloss: 0.0135727\tvalid_0's auc: 0.873278\n",
      "[70]\tvalid_0's binary_logloss: 0.0135268\tvalid_0's auc: 0.874808\n",
      "[80]\tvalid_0's binary_logloss: 0.0134874\tvalid_0's auc: 0.876321\n",
      "[90]\tvalid_0's binary_logloss: 0.0134734\tvalid_0's auc: 0.877116\n",
      "[100]\tvalid_0's binary_logloss: 0.0134651\tvalid_0's auc: 0.878676\n",
      "[110]\tvalid_0's binary_logloss: 0.0135979\tvalid_0's auc: 0.879456\n",
      "[120]\tvalid_0's binary_logloss: 0.0135088\tvalid_0's auc: 0.88035\n",
      "[130]\tvalid_0's binary_logloss: 0.0135379\tvalid_0's auc: 0.881227\n",
      "[140]\tvalid_0's binary_logloss: 0.0134833\tvalid_0's auc: 0.88175\n",
      "[150]\tvalid_0's binary_logloss: 0.0135196\tvalid_0's auc: 0.882248\n",
      "[160]\tvalid_0's binary_logloss: 0.0134811\tvalid_0's auc: 0.882941\n",
      "Early stopping, best iteration is:\n",
      "[136]\tvalid_0's binary_logloss: 0.0133928\tvalid_0's auc: 0.881565\n",
      "Evaluated only: binary_logloss\n"
     ]
    },
    {
     "name": "stderr",
     "output_type": "stream",
     "text": [
      "\r",
      "4it [36:07, 852.44s/it]"
     ]
    },
    {
     "name": "stdout",
     "output_type": "stream",
     "text": [
      "Train positive rate: 0.002349522625308883\n",
      "Train shape: (50353633, 88)\n",
      "Validation positive rate: 0.0023495425315099416\n",
      "Validation shape: (12588408, 88)\n",
      "Training starts...!\n",
      "Training until validation scores don't improve for 30 rounds\n",
      "[10]\tvalid_0's binary_logloss: 0.01466\tvalid_0's auc: 0.857602\n",
      "[20]\tvalid_0's binary_logloss: 0.0141644\tvalid_0's auc: 0.862783\n",
      "[30]\tvalid_0's binary_logloss: 0.0138909\tvalid_0's auc: 0.866712\n",
      "[40]\tvalid_0's binary_logloss: 0.0137379\tvalid_0's auc: 0.869384\n",
      "[50]\tvalid_0's binary_logloss: 0.0136285\tvalid_0's auc: 0.871474\n",
      "[60]\tvalid_0's binary_logloss: 0.0135564\tvalid_0's auc: 0.873041\n",
      "[70]\tvalid_0's binary_logloss: 0.013509\tvalid_0's auc: 0.874618\n",
      "[80]\tvalid_0's binary_logloss: 0.0134667\tvalid_0's auc: 0.875935\n",
      "[90]\tvalid_0's binary_logloss: 0.0135267\tvalid_0's auc: 0.876995\n",
      "[100]\tvalid_0's binary_logloss: 0.0135342\tvalid_0's auc: 0.877913\n",
      "[110]\tvalid_0's binary_logloss: 0.0139758\tvalid_0's auc: 0.878927\n",
      "[120]\tvalid_0's binary_logloss: 0.0136146\tvalid_0's auc: 0.879521\n",
      "Early stopping, best iteration is:\n",
      "[92]\tvalid_0's binary_logloss: 0.0134293\tvalid_0's auc: 0.877197\n",
      "Evaluated only: binary_logloss\n"
     ]
    },
    {
     "name": "stderr",
     "output_type": "stream",
     "text": [
      "5it [54:55, 659.00s/it]\n"
     ]
    }
   ],
   "source": [
    "ranker, trn_feats = train_binary_model(valid_week, train_n_week)"
   ]
  },
  {
   "cell_type": "code",
   "execution_count": 39,
   "metadata": {},
   "outputs": [],
   "source": [
    "# ranker_2 = lgb.Booster(model_file=model_dir / \"lgb_binary_1.model\")"
   ]
  },
  {
   "cell_type": "code",
   "execution_count": 44,
   "metadata": {
    "scrolled": true
   },
   "outputs": [
    {
     "data": {
      "text/plain": [
       "<AxesSubplot:xlabel='importance', ylabel='feature'>"
      ]
     },
     "execution_count": 44,
     "metadata": {},
     "output_type": "execute_result"
    },
    {
     "data": {
      "image/png": "[encoded data removed]",
      "text/plain": [
       "<Figure size 576x1296 with 1 Axes>"
      ]
     },
     "metadata": {},
     "output_type": "display_data"
    }
   ],
   "source": [
    "sns.set(rc={'figure.figsize':(8, 18)})\n",
    "feat_importance = pd.DataFrame(\n",
    "    {\"feature\": feats, \"importance\": ranker.feature_importance()}\n",
    ").sort_values(by=\"importance\", ascending=False)\n",
    "sns.barplot(y=\"feature\", x=\"importance\", data=feat_importance)"
   ]
  },
  {
   "cell_type": "markdown",
   "metadata": {
    "id": "lLWs-Z5CGGQV"
   },
   "source": [
    "## Validate"
   ]
  },
  {
   "cell_type": "code",
   "execution_count": 45,
   "metadata": {
    "executionInfo": {
     "elapsed": 617,
     "status": "ok",
     "timestamp": 1650814266776,
     "user": {
      "displayName": "WP Zhang",
      "userId": "08181056311681578219"
     },
     "user_tz": 240
    },
    "id": "SSpgfI0mdtIv"
   },
   "outputs": [],
   "source": [
    "val_candidates = candidates[1]"
   ]
  },
  {
   "cell_type": "code",
   "execution_count": 46,
   "metadata": {
    "colab": {
     "base_uri": "https://localhost:8080/"
    },
    "executionInfo": {
     "elapsed": 26907,
     "status": "ok",
     "timestamp": 1650814293681,
     "user": {
      "displayName": "WP Zhang",
      "userId": "08181056311681578219"
     },
     "user_tz": 240
    },
    "id": "G3kDW_-BGGQV",
    "outputId": "493c337e-062a-4fda-f209-4eae217902e9"
   },
   "outputs": [],
   "source": [
    "def predict(ranker, candidates, batch_size = 5_000_000):\n",
    "    probs = np.zeros(candidates.shape[0])\n",
    "    for batch in range(0, candidates.shape[0], batch_size):\n",
    "        outputs = ranker.predict(candidates.loc[batch : batch + batch_size - 1, feats])\n",
    "        probs[batch : batch + batch_size] = outputs\n",
    "    candidates[\"prob\"] = probs\n",
    "    pred_lgb = candidates[['customer_id','article_id','prob']]\n",
    "    pred_lgb = pred_lgb.sort_values(by=[\"customer_id\",\"prob\"], ascending=False).reset_index(drop=True)\n",
    "    pred_lgb.rename(columns={'article_id':'prediction'}, inplace=True)\n",
    "    pred_lgb = pred_lgb.drop_duplicates(['customer_id', 'prediction'], keep='first')\n",
    "    pred_lgb['customer_id'] = pred_lgb['customer_id'].astype(int)\n",
    "    pred_lgb = pred_lgb.groupby(\"customer_id\")[\"prediction\"].progress_apply(list).reset_index()\n",
    "    return pred_lgb"
   ]
  },
  {
   "cell_type": "code",
   "execution_count": 68,
   "metadata": {},
   "outputs": [
    {
     "name": "stderr",
     "output_type": "stream",
     "text": [
      "100%|██████████| 1319568/1319568 [00:48<00:00, 27455.70it/s]\n"
     ]
    },
    {
     "data": {
      "text/plain": [
       "0.004870599090334677"
      ]
     },
     "execution_count": 68,
     "metadata": {},
     "output_type": "execute_result"
    }
   ],
   "source": [
    "pred = predict(ranker_list[0], val_candidates)\n",
    "\n",
    "label = labels[1]\n",
    "label = pd.merge(label, pred, on=\"customer_id\", how=\"left\")\n",
    "\n",
    "map_at_k(label[\"article_id\"], label[\"prediction\"], k=12)\n",
    "\n",
    "# 0.028297597743100006 6 week 0.0250\n",
    "\n",
    "# 0.02863472423766257 4 week\n",
    "# 0.02882844782917304 4 week\n",
    "# 0.028909064246733205 4 week\n",
    "# 0.029366338019601947 4 week # 0.0268\n",
    "# 0.029402247883421353 6 week\n",
    "\n",
    "# 0.022458255193628294 3 week binary"
   ]
  },
  {
   "cell_type": "code",
   "execution_count": 69,
   "metadata": {},
   "outputs": [
    {
     "name": "stdout",
     "output_type": "stream",
     "text": [
      "0.14124239528292495\n",
      "0.14123949605991673\n",
      "0.02133036070868707\n"
     ]
    }
   ],
   "source": [
    "print(recall_at_k(label[\"article_id\"], label[\"prediction\"], k=200))\n",
    "print(recall_at_k(label[\"article_id\"], label[\"prediction\"], k=150))\n",
    "print(recall_at_k(label[\"article_id\"], label[\"prediction\"], k=12))"
   ]
  },
  {
   "cell_type": "code",
   "execution_count": 67,
   "metadata": {},
   "outputs": [],
   "source": [
    "def predict_fold(ranker_list, candidates, feats, batch_size = 5_000_000):\n",
    "    \n",
    "    probs = np.zeros(candidates.shape[0])\n",
    "    for batch in range(0, candidates.shape[0], batch_size):\n",
    "        fold_output = []\n",
    "        for lgb_ranker in ranker_list:\n",
    "            fold_output.append(lgb_ranker.predict(candidates.loc[batch : batch + batch_size - 1, feats]))\n",
    "        probs[batch : batch + batch_size] = sum(fold_output)/5 \n",
    "        \n",
    "    candidates[\"prob\"] = probs\n",
    "    pred_lgb = candidates[['customer_id','article_id','prob']]\n",
    "    pred_lgb = pred_lgb.sort_values(by=[\"customer_id\",\"prob\"], ascending=False).reset_index(drop=True)\n",
    "    pred_lgb.rename(columns={'article_id':'prediction'}, inplace=True)\n",
    "    pred_lgb = pred_lgb.drop_duplicates(['customer_id', 'prediction'], keep='first')\n",
    "    pred_lgb['customer_id'] = pred_lgb['customer_id'].astype(int)\n",
    "    pred_lgb = pred_lgb.groupby(\"customer_id\")[\"prediction\"].progress_apply(list).reset_index()\n",
    "    return pred_lgb"
   ]
  },
  {
   "cell_type": "code",
   "execution_count": 51,
   "metadata": {
    "scrolled": true
   },
   "outputs": [],
   "source": [
    "ranker_list = []\n",
    "for i in range(5):\n",
    "    ranker_list.append(lgb.Booster(model_file = model_dir / f\"lgb_binary_{i}_1.model\"))"
   ]
  },
  {
   "cell_type": "code",
   "execution_count": 58,
   "metadata": {},
   "outputs": [
    {
     "data": {
      "text/plain": [
       "17198437"
      ]
     },
     "execution_count": 58,
     "metadata": {},
     "output_type": "execute_result"
    }
   ],
   "source": [
    "val_candidates.shape[0]"
   ]
  },
  {
   "cell_type": "code",
   "execution_count": 53,
   "metadata": {},
   "outputs": [
    {
     "name": "stderr",
     "output_type": "stream",
     "text": [
      "100%|██████████| 1319568/1319568 [00:52<00:00, 25100.71it/s]\n"
     ]
    },
    {
     "data": {
      "text/plain": [
       "0.005755164403391556"
      ]
     },
     "execution_count": 53,
     "metadata": {},
     "output_type": "execute_result"
    }
   ],
   "source": [
    "pred = predict_fold(ranker_list, val_candidates, trn_feats)\n",
    "\n",
    "label = labels[1]\n",
    "label = pd.merge(label, pred, on=\"customer_id\", how=\"left\")\n",
    "\n",
    "map_at_k(label[\"article_id\"], label[\"prediction\"], k=12)"
   ]
  },
  {
   "cell_type": "code",
   "execution_count": 54,
   "metadata": {},
   "outputs": [
    {
     "name": "stdout",
     "output_type": "stream",
     "text": [
      "0.14124239528292495\n",
      "0.1412399792637514\n",
      "0.02236298792467445\n"
     ]
    }
   ],
   "source": [
    "print(recall_at_k(label[\"article_id\"], label[\"prediction\"], k=200))\n",
    "print(recall_at_k(label[\"article_id\"], label[\"prediction\"], k=150))\n",
    "print(recall_at_k(label[\"article_id\"], label[\"prediction\"], k=12))"
   ]
  },
  {
   "cell_type": "code",
   "execution_count": null,
   "metadata": {
    "colab": {
     "base_uri": "https://localhost:8080/"
    },
    "executionInfo": {
     "elapsed": 3024,
     "status": "ok",
     "timestamp": 1650814298777,
     "user": {
      "displayName": "WP Zhang",
      "userId": "08181056311681578219"
     },
     "user_tz": 240
    },
    "id": "XrFnQ2evGGQW",
    "outputId": "d0109654-6060-47b5-d3fc-d60814d95243"
   },
   "outputs": [],
   "source": [
    "# pred = predict(ranker_2, val_candidates)\n",
    "\n",
    "# label = labels[1]\n",
    "# label = pd.merge(label, pred, on=\"customer_id\", how=\"left\")\n",
    "\n",
    "# map_at_k(label[\"article_id\"], label[\"prediction\"], k=12)\n",
    "\n",
    "# # 0.028297597743100006 6 week 0.0250\n",
    "\n",
    "# # 0.02863472423766257 4 week\n",
    "# # 0.02882844782917304 4 week\n",
    "# # 0.028909064246733205 4 week\n",
    "# # 0.029366338019601947 4 week # 0.0268\n",
    "# # 0.029402247883421353 6 week\n",
    "\n",
    "# # 0.022458255193628294 3 week binary"
   ]
  },
  {
   "cell_type": "code",
   "execution_count": null,
   "metadata": {},
   "outputs": [],
   "source": [
    "# print(recall_at_k(label[\"article_id\"], label[\"prediction\"], k=200))\n",
    "# print(recall_at_k(label[\"article_id\"], label[\"prediction\"], k=150))\n",
    "# print(recall_at_k(label[\"article_id\"], label[\"prediction\"], k=12))\n",
    "\n",
    "# # 0.22609381056959738\n",
    "# # 0.20330711927052456\n",
    "# # 0.05715520910553712"
   ]
  },
  {
   "cell_type": "code",
   "execution_count": null,
   "metadata": {},
   "outputs": [],
   "source": [
    "pred = predict(ranker, val_candidates)\n",
    "\n",
    "label = labels[1]\n",
    "label = pd.merge(label, pred, on=\"customer_id\", how=\"left\")\n",
    "\n",
    "map_at_k(label[\"article_id\"], label[\"prediction\"], k=12)\n",
    "\n",
    "# 0.028297597743100006 6 week 0.0250\n",
    "\n",
    "# 0.02863472423766257 4 week\n",
    "# 0.02882844782917304 4 week\n",
    "# 0.028909064246733205 4 week\n",
    "# 0.029366338019601947 4 week # 0.0268\n",
    "\n",
    "# 0.029402247883421353 6 week\n",
    "# 0.02606931574775391 3 week ranker"
   ]
  },
  {
   "cell_type": "code",
   "execution_count": null,
   "metadata": {},
   "outputs": [],
   "source": [
    "print(recall_at_k(label[\"article_id\"], label[\"prediction\"], k=200))\n",
    "print(recall_at_k(label[\"article_id\"], label[\"prediction\"], k=150))\n",
    "print(recall_at_k(label[\"article_id\"], label[\"prediction\"], k=12))\n",
    "\n",
    "# 0.22610105862711796\n",
    "# 0.19685366988994157\n",
    "# 0.059677054468807014"
   ]
  },
  {
   "cell_type": "code",
   "execution_count": null,
   "metadata": {},
   "outputs": [],
   "source": [
    "kkkkkkk"
   ]
  },
  {
   "cell_type": "markdown",
   "metadata": {},
   "source": [
    "## Test"
   ]
  },
  {
   "cell_type": "code",
   "execution_count": null,
   "metadata": {},
   "outputs": [],
   "source": [
    "del val_candidates, candidates\n",
    "gc.collect()"
   ]
  },
  {
   "cell_type": "code",
   "execution_count": null,
   "metadata": {
    "executionInfo": {
     "elapsed": 617,
     "status": "ok",
     "timestamp": 1650814266776,
     "user": {
      "displayName": "WP Zhang",
      "userId": "08181056311681578219"
     },
     "user_tz": 240
    },
    "id": "SSpgfI0mdtIv"
   },
   "outputs": [],
   "source": [
    "test_candidates = pd.read_parquet(data_dir/\"processed\"/VERSION_NAME/\"week0_candidate.pqt\")\n",
    "for feat in cat_features:\n",
    "    test_candidates[feat] = test_candidates[feat].astype(cate_dict[feat])"
   ]
  },
  {
   "cell_type": "code",
   "execution_count": null,
   "metadata": {},
   "outputs": [],
   "source": [
    "test_pred = predict(ranker, test_candidates)"
   ]
  },
  {
   "cell_type": "code",
   "execution_count": null,
   "metadata": {
    "colab": {
     "base_uri": "https://localhost:8080/"
    },
    "executionInfo": {
     "elapsed": 26907,
     "status": "ok",
     "timestamp": 1650814293681,
     "user": {
      "displayName": "WP Zhang",
      "userId": "08181056311681578219"
     },
     "user_tz": 240
    },
    "id": "G3kDW_-BGGQV",
    "outputId": "493c337e-062a-4fda-f209-4eae217902e9"
   },
   "outputs": [],
   "source": [
    "idx2uid = pickle.load(open(data_dir/\"index_id_map/user_index2id.pkl\", \"rb\"))\n",
    "idx2iid = pickle.load(open(data_dir/\"index_id_map/item_index2id.pkl\", \"rb\"))\n",
    "\n",
    "def parse(x):\n",
    "    l = ['0'+str(idx2iid[i]) for i in x]\n",
    "    l = ' '.join(l[:12])\n",
    "    return l"
   ]
  },
  {
   "cell_type": "code",
   "execution_count": null,
   "metadata": {
    "executionInfo": {
     "elapsed": 16,
     "status": "ok",
     "timestamp": 1650814293681,
     "user": {
      "displayName": "WP Zhang",
      "userId": "08181056311681578219"
     },
     "user_tz": 240
    },
    "id": "6y8vqdyrGGQW"
   },
   "outputs": [],
   "source": [
    "test_pred['prediction'] = test_pred['prediction'].progress_apply(lambda x: parse(x))"
   ]
  },
  {
   "cell_type": "code",
   "execution_count": null,
   "metadata": {
    "executionInfo": {
     "elapsed": 497,
     "status": "ok",
     "timestamp": 1650814294163,
     "user": {
      "displayName": "WP Zhang",
      "userId": "08181056311681578219"
     },
     "user_tz": 240
    },
    "id": "Tbjp5JrcMUVa"
   },
   "outputs": [],
   "source": [
    "uid2idx = pickle.load(open(data_dir/\"index_id_map/user_id2index.pkl\", \"rb\"))\n",
    "submission = pd.read_csv(data_dir/\"raw\"/'sample_submission.csv')\n",
    "submission['customer_id'] = submission['customer_id'].map(uid2idx)"
   ]
  },
  {
   "cell_type": "code",
   "execution_count": null,
   "metadata": {},
   "outputs": [],
   "source": [
    "del submission['prediction']\n",
    "submission = submission.merge(test_pred, on='customer_id', how='left')\n",
    "submission['customer_id'] = submission['customer_id'].map(idx2uid)"
   ]
  },
  {
   "cell_type": "code",
   "execution_count": null,
   "metadata": {},
   "outputs": [],
   "source": [
    "submission.to_csv('submission.csv.gz', index=False)"
   ]
  },
  {
   "cell_type": "code",
   "execution_count": null,
   "metadata": {},
   "outputs": [],
   "source": [
    "submission.head()"
   ]
  },
  {
   "cell_type": "markdown",
   "metadata": {},
   "source": [
    "### Submit"
   ]
  },
  {
   "cell_type": "code",
   "execution_count": null,
   "metadata": {},
   "outputs": [],
   "source": [
    "submit_msg = \"\"\"\n",
    "0.029402247883421353 6-week\n",
    "---\n",
    "OrderHistory(train, 3),\n",
    "OrderHistory(train, 7),\n",
    "OrderHistoryDecay(train, 3, n=50),\n",
    "OrderHistoryDecay(train, 7, n=50),\n",
    "ItemPair(OrderHistory(train, 3).retrieve(), name='1'),\n",
    "ItemPair(OrderHistory(train, 7).retrieve(), name='2'),\n",
    "ItemPair(OrderHistoryDecay(train, 3, n=50).retrieve(), name='3'),\n",
    "ItemPair(OrderHistoryDecay(train, 7, n=50).retrieve(), name='4'),\n",
    "UserGroupTimeHistory(data, customer_list, last_week, ['age_bins'], n=50 if week!=0 else 15, name='1'),\n",
    "UserGroupTimeHistory(data, customer_list, last_3days, ['age_bins'], n=50 if week!=0 else 20.5, name='2'),\n",
    "UserGroupSaleTrend(data, customer_list, train, ['age_bins'], 7, n=50 if week!=0 else 2),\n",
    "TimeHistory(customer_list, last_week, n=50 if week!=0 else 9, name='1'),\n",
    "TimeHistory(customer_list, last_3days, n=50 if week!=0 else 16, name='2'),\n",
    "TimeHistoryDecay(customer_list, train, 3, n=50 if week!=0 else 12),\n",
    "TimeHistoryDecay(customer_list, train, 7, n=50 if week!=0 else 8),\n",
    "SaleTrend(customer_list, train, 7, n=50 if week!=0 else 2)\n",
    "---\n",
    "min_pos_rate = 0.005 new features\n",
    "pivot\n",
    "\"\"\""
   ]
  },
  {
   "cell_type": "code",
   "execution_count": null,
   "metadata": {},
   "outputs": [],
   "source": [
    "submit_msg"
   ]
  },
  {
   "cell_type": "code",
   "execution_count": null,
   "metadata": {},
   "outputs": [],
   "source": [
    "! kaggle competitions submit -c h-and-m-personalized-fashion-recommendations -f \"submission.csv.gz\" -m '\\n0.029111989281461418 4-week drop full negative user\\n---\\nOrderHistory(train, 3),\\nOrderHistory(train, 7),\\nOrderHistoryDecay(train, 3, n=50),\\nOrderHistoryDecay(train, 7, n=50),\\nItemPair(OrderHistory(train, 3).retrieve(), name='1'),\\nItemPair(OrderHistory(train, 7).retrieve(), name='2'),\\nItemPair(OrderHistoryDecay(train, 3, n=50).retrieve(), name='3'),\\nItemPair(OrderHistoryDecay(train, 7, n=50).retrieve(), name='4'),\\nUserGroupTimeHistory(data, customer_list, last_week, ['age_bins'], n=50 if week!=0 else 15, name='1'),\\nUserGroupTimeHistory(data, customer_list, last_3days, ['age_bins'], n=50 if week!=0 else 20.5, name='2'),\\nUserGroupSaleTrend(data, customer_list, train, ['age_bins'], 7, n=50 if week!=0 else 2),\\nTimeHistory(customer_list, last_week, n=50 if week!=0 else 9, name='1'),\\nTimeHistory(customer_list, last_3days, n=50 if week!=0 else 16, name='2'),\\nTimeHistoryDecay(customer_list, train, 3, n=50 if week!=0 else 12),\\nTimeHistoryDecay(customer_list, train, 7, n=50 if week!=0 else 8),\\nSaleTrend(customer_list, train, 7, n=50 if week!=0 else 2)\\n---\\nmin_pos_rate = 0.006\\npivot\\n'\n"
   ]
  },
  {
   "cell_type": "code",
   "execution_count": null,
   "metadata": {},
   "outputs": [],
   "source": []
  }
 ],
 "metadata": {
  "colab": {
   "collapsed_sections": [
    "LX4M190s4pxo"
   ],
   "machine_shape": "hm",
   "name": "HandyRec_Seq_LGB_Week.ipynb",
   "provenance": []
  },
  "kernelspec": {
   "display_name": "Python 3",
   "language": "python",
   "name": "python3"
  },
  "language_info": {
   "codemirror_mode": {
    "name": "ipython",
    "version": 3
   },
   "file_extension": ".py",
   "mimetype": "text/x-python",
   "name": "python",
   "nbconvert_exporter": "python",
   "pygments_lexer": "ipython3",
   "version": "3.6.13"
  }
 },
 "nbformat": 4,
 "nbformat_minor": 1
}
