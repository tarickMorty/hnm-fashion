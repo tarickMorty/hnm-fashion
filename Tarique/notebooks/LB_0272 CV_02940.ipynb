{
 "cells": [
  {
   "cell_type": "code",
   "execution_count": null,
   "metadata": {
    "colab": {
     "base_uri": "https://localhost:8080/"
    },
    "executionInfo": {
     "elapsed": 4410,
     "status": "ok",
     "timestamp": 1650813100148,
     "user": {
      "displayName": "WP Zhang",
      "userId": "08181056311681578219"
     },
     "user_tz": 240
    },
    "id": "Ej-kIjP5d_zw",
    "outputId": "c813fd95-9b13-4ac7-c6af-bd760d63a3c4"
   },
   "outputs": [],
   "source": [
    "# %pip install -U lightgbm==3.3.2"
   ]
  },
  {
   "cell_type": "code",
   "execution_count": 1,
   "metadata": {
    "executionInfo": {
     "elapsed": 2162,
     "status": "ok",
     "timestamp": 1650813104317,
     "user": {
      "displayName": "WP Zhang",
      "userId": "08181056311681578219"
     },
     "user_tz": 240
    },
    "id": "gboISq82XUN1"
   },
   "outputs": [],
   "source": [
    "import pandas as pd\n",
    "pd.set_option('display.max_rows', 500)\n",
    "pd.set_option('display.max_columns', 500)\n",
    "\n",
    "from pandas.api.types import CategoricalDtype\n",
    "import numpy as np\n",
    "import seaborn as sns\n",
    "import matplotlib.pyplot as plt\n",
    "import lightgbm as lgb\n",
    "\n",
    "import pickle\n",
    "from tqdm import tqdm\n",
    "import gc\n",
    "from pathlib import Path"
   ]
  },
  {
   "cell_type": "code",
   "execution_count": 2,
   "metadata": {
    "executionInfo": {
     "elapsed": 6,
     "status": "ok",
     "timestamp": 1650813104318,
     "user": {
      "displayName": "WP Zhang",
      "userId": "08181056311681578219"
     },
     "user_tz": 240
    },
    "id": "F6WO2VtEXefj"
   },
   "outputs": [],
   "source": [
    "import warnings\n",
    "import sys\n",
    "from IPython.core.interactiveshell import InteractiveShell\n",
    "\n",
    "warnings.filterwarnings(\"ignore\")\n",
    "sys.path.append(\"../\") # path to the `src`` folder\n",
    "InteractiveShell.ast_node_interactivity = \"all\"\n",
    "tqdm.pandas()"
   ]
  },
  {
   "cell_type": "code",
   "execution_count": 3,
   "metadata": {},
   "outputs": [],
   "source": [
    "from src.data import DataHelper\n",
    "from src.data.metrics import map_at_k, hr_at_k, recall_at_k\n",
    "import cv2\n",
    "\n",
    "from src.retrieval.rules import (\n",
    "    OrderHistory,\n",
    "    OrderHistoryDecay,\n",
    "    ItemPair,\n",
    "    UserGroupTimeHistory,\n",
    "    UserGroupSaleTrend,\n",
    "    TimeHistory,\n",
    "    TimeHistoryDecay,\n",
    "    SaleTrend,\n",
    "    OutOfStock,\n",
    "#     ALS,\n",
    "#     BPR,\n",
    ")\n",
    "from src.retrieval.collector import RuleCollector\n",
    "\n",
    "from src.features import cum_sale, week_sale, repurchase_ratio, purchased_before\n",
    "\n",
    "from src.utils import (\n",
    "    calc_valid_date,\n",
    "    merge_week_data,\n",
    "    reduce_mem_usage,\n",
    "    calc_embd_similarity, merge_new_groupings\n",
    ")"
   ]
  },
  {
   "cell_type": "code",
   "execution_count": 4,
   "metadata": {},
   "outputs": [],
   "source": [
    "data_dir = Path(\"../src/data/\")"
   ]
  },
  {
   "cell_type": "code",
   "execution_count": 5,
   "metadata": {},
   "outputs": [],
   "source": [
    "TRAIN_WEEK_NUM = 6\n",
    "WEEK_NUM = TRAIN_WEEK_NUM + 2\n",
    "VERSION_NAME = \"pivot\"# \"v1\""
   ]
  },
  {
   "cell_type": "code",
   "execution_count": 6,
   "metadata": {},
   "outputs": [],
   "source": [
    "import os\n",
    "if not os.path.exists(data_dir/\"interim\"/VERSION_NAME):\n",
    "    os.mkdir(data_dir/\"interim\"/VERSION_NAME)"
   ]
  },
  {
   "cell_type": "code",
   "execution_count": 7,
   "metadata": {},
   "outputs": [],
   "source": [
    "TEST = True # * Set as `False` when do local experiments to save time"
   ]
  },
  {
   "cell_type": "markdown",
   "metadata": {},
   "source": [
    "Pepare data: encoding ids and preprocessing"
   ]
  },
  {
   "cell_type": "code",
   "execution_count": 8,
   "metadata": {
    "executionInfo": {
     "elapsed": 5,
     "status": "ok",
     "timestamp": 1650813104318,
     "user": {
      "displayName": "WP Zhang",
      "userId": "08181056311681578219"
     },
     "user_tz": 240
    },
    "id": "2BPv2lcWGGQJ"
   },
   "outputs": [],
   "source": [
    "dh = DataHelper(data_dir)"
   ]
  },
  {
   "cell_type": "code",
   "execution_count": 9,
   "metadata": {},
   "outputs": [],
   "source": [
    "# data = dh.preprocess_data(save=True, name=\"encoded_full\") # * run only once, processed data will be saved"
   ]
  },
  {
   "cell_type": "code",
   "execution_count": 10,
   "metadata": {
    "executionInfo": {
     "elapsed": 7841,
     "status": "ok",
     "timestamp": 1650813112154,
     "user": {
      "displayName": "WP Zhang",
      "userId": "08181056311681578219"
     },
     "user_tz": 240
    },
    "id": "i3ngtb7NUGbH"
   },
   "outputs": [],
   "source": [
    "data = dh.load_data(name=\"encoded_full\")"
   ]
  },
  {
   "cell_type": "code",
   "execution_count": 11,
   "metadata": {},
   "outputs": [],
   "source": [
    "uid2idx = pickle.load(open(data_dir/\"index_id_map/user_id2index.pkl\", \"rb\"))\n",
    "submission = pd.read_csv(data_dir/\"raw\"/'sample_submission.csv')\n",
    "submission['customer_id'] = submission['customer_id'].map(uid2idx)"
   ]
  },
  {
   "cell_type": "markdown",
   "metadata": {
    "id": "LX4M190s4pxo"
   },
   "source": [
    "## Retrieval\n"
   ]
  },
  {
   "cell_type": "markdown",
   "metadata": {},
   "source": [
    "Generate candidates for each week"
   ]
  },
  {
   "cell_type": "code",
   "execution_count": 12,
   "metadata": {},
   "outputs": [],
   "source": [
    "listBin = [-1, 19, 29, 39, 49, 59, 69, 119]\n",
    "data['user']['age_bins'] = pd.cut(data['user']['age'], listBin)"
   ]
  },
  {
   "cell_type": "code",
   "execution_count": 13,
   "metadata": {},
   "outputs": [],
   "source": [
    "# data['user']['age_bucket'] = pd.cut(data['user']['age'].fillna(22), [15, 24, 35, 50, 100], labels=[0, 1, 2, 3])"
   ]
  },
  {
   "cell_type": "code",
   "execution_count": 14,
   "metadata": {
    "scrolled": true
   },
   "outputs": [
    {
     "name": "stdout",
     "output_type": "stream",
     "text": [
      "Week 1: [2020-09-16, 2020-09-23)\n"
     ]
    },
    {
     "name": "stderr",
     "output_type": "stream",
     "text": [
      "Retrieve items by rules:   6%|▋         | 1/16 [00:21<05:24, 21.63s/it]"
     ]
    },
    {
     "name": "stdout",
     "output_type": "stream",
     "text": [
      "Positive rate: 0.03038\n"
     ]
    },
    {
     "name": "stderr",
     "output_type": "stream",
     "text": [
      "\r",
      "Retrieve items by rules:  12%|█▎        | 2/16 [00:44<05:12, 22.30s/it]"
     ]
    },
    {
     "name": "stdout",
     "output_type": "stream",
     "text": [
      "Positive rate: 0.02859\n",
      "Positive rate: 0.01413\n"
     ]
    },
    {
     "name": "stderr",
     "output_type": "stream",
     "text": [
      "\r",
      "Retrieve items by rules:  19%|█▉        | 3/16 [01:38<07:55, 36.60s/it]"
     ]
    },
    {
     "name": "stdout",
     "output_type": "stream",
     "text": [
      "Positive rate: 0.01295\n"
     ]
    },
    {
     "name": "stderr",
     "output_type": "stream",
     "text": [
      "\r",
      "Retrieve items by rules:  25%|██▌       | 4/16 [02:32<08:44, 43.68s/it]"
     ]
    },
    {
     "name": "stdout",
     "output_type": "stream",
     "text": [
      "Positive rate: 0.01519\n"
     ]
    },
    {
     "name": "stderr",
     "output_type": "stream",
     "text": [
      "\r",
      "Retrieve items by rules:  31%|███▏      | 5/16 [02:50<06:19, 34.54s/it]"
     ]
    },
    {
     "name": "stdout",
     "output_type": "stream",
     "text": [
      "Positive rate: 0.01472\n"
     ]
    },
    {
     "name": "stderr",
     "output_type": "stream",
     "text": [
      "\r",
      "Retrieve items by rules:  38%|███▊      | 6/16 [03:11<04:58, 29.84s/it]"
     ]
    },
    {
     "name": "stdout",
     "output_type": "stream",
     "text": [
      "Positive rate: 0.00908\n"
     ]
    },
    {
     "name": "stderr",
     "output_type": "stream",
     "text": [
      "\r",
      "Retrieve items by rules:  44%|████▍     | 7/16 [03:41<04:29, 29.94s/it]"
     ]
    },
    {
     "name": "stdout",
     "output_type": "stream",
     "text": [
      "Positive rate: 0.00853\n"
     ]
    },
    {
     "name": "stderr",
     "output_type": "stream",
     "text": [
      "\r",
      "Retrieve items by rules:  50%|█████     | 8/16 [04:21<04:23, 32.96s/it]"
     ]
    },
    {
     "name": "stdout",
     "output_type": "stream",
     "text": [
      "TOP35.0 Positive rate: 0.00501\n"
     ]
    },
    {
     "name": "stderr",
     "output_type": "stream",
     "text": [
      "\r",
      "Retrieve items by rules:  56%|█████▋    | 9/16 [04:28<02:54, 25.00s/it]"
     ]
    },
    {
     "name": "stdout",
     "output_type": "stream",
     "text": [
      "TOP38.5 Positive rate: 0.00508\n"
     ]
    },
    {
     "name": "stderr",
     "output_type": "stream",
     "text": [
      "Retrieve items by rules:  69%|██████▉   | 11/16 [04:49<01:28, 17.78s/it]"
     ]
    },
    {
     "name": "stdout",
     "output_type": "stream",
     "text": [
      "skip\n",
      "TOP25.0 Positive rate: 0.00503\n"
     ]
    },
    {
     "name": "stderr",
     "output_type": "stream",
     "text": [
      "\r",
      "Retrieve items by rules:  75%|███████▌  | 12/16 [04:55<00:56, 14.14s/it]"
     ]
    },
    {
     "name": "stdout",
     "output_type": "stream",
     "text": [
      "TOP30.0 Positive rate: 0.00505\n"
     ]
    },
    {
     "name": "stderr",
     "output_type": "stream",
     "text": [
      "\r",
      "Retrieve items by rules:  81%|████████▏ | 13/16 [05:00<00:34, 11.53s/it]"
     ]
    },
    {
     "name": "stdout",
     "output_type": "stream",
     "text": [
      "TOP31.0 Positive rate: 0.00503\n"
     ]
    },
    {
     "name": "stderr",
     "output_type": "stream",
     "text": [
      "\r",
      "Retrieve items by rules:  88%|████████▊ | 14/16 [05:30<00:33, 16.99s/it]"
     ]
    },
    {
     "name": "stdout",
     "output_type": "stream",
     "text": [
      "TOP24.0 Positive rate: 0.00506\n"
     ]
    },
    {
     "name": "stderr",
     "output_type": "stream",
     "text": [
      "\r",
      "Retrieve items by rules:  94%|█████████▍| 15/16 [05:58<00:20, 20.28s/it]"
     ]
    },
    {
     "name": "stdout",
     "output_type": "stream",
     "text": [
      "TOP4.0 Positive rate: 0.00568\n"
     ]
    },
    {
     "name": "stderr",
     "output_type": "stream",
     "text": [
      "Retrieve items by rules: 100%|██████████| 16/16 [06:10<00:00, 23.13s/it]\n"
     ]
    },
    {
     "name": "stdout",
     "output_type": "stream",
     "text": [
      "Week 2: [2020-09-09, 2020-09-16)\n"
     ]
    },
    {
     "name": "stderr",
     "output_type": "stream",
     "text": [
      "Retrieve items by rules:   6%|▋         | 1/16 [00:21<05:23, 21.54s/it]"
     ]
    },
    {
     "name": "stdout",
     "output_type": "stream",
     "text": [
      "Positive rate: 0.03008\n"
     ]
    },
    {
     "name": "stderr",
     "output_type": "stream",
     "text": [
      "\r",
      "Retrieve items by rules:  12%|█▎        | 2/16 [00:44<05:10, 22.21s/it]"
     ]
    },
    {
     "name": "stdout",
     "output_type": "stream",
     "text": [
      "Positive rate: 0.02825\n",
      "Positive rate: 0.01354\n"
     ]
    },
    {
     "name": "stderr",
     "output_type": "stream",
     "text": [
      "\r",
      "Retrieve items by rules:  19%|█▉        | 3/16 [01:37<07:56, 36.62s/it]"
     ]
    },
    {
     "name": "stdout",
     "output_type": "stream",
     "text": [
      "Positive rate: 0.01244\n"
     ]
    },
    {
     "name": "stderr",
     "output_type": "stream",
     "text": [
      "\r",
      "Retrieve items by rules:  25%|██▌       | 4/16 [02:31<08:41, 43.48s/it]"
     ]
    },
    {
     "name": "stdout",
     "output_type": "stream",
     "text": [
      "Positive rate: 0.01435\n"
     ]
    },
    {
     "name": "stderr",
     "output_type": "stream",
     "text": [
      "\r",
      "Retrieve items by rules:  31%|███▏      | 5/16 [02:50<06:18, 34.42s/it]"
     ]
    },
    {
     "name": "stdout",
     "output_type": "stream",
     "text": [
      "Positive rate: 0.01376\n"
     ]
    },
    {
     "name": "stderr",
     "output_type": "stream",
     "text": [
      "\r",
      "Retrieve items by rules:  38%|███▊      | 6/16 [03:11<04:58, 29.81s/it]"
     ]
    },
    {
     "name": "stdout",
     "output_type": "stream",
     "text": [
      "Positive rate: 0.00885\n"
     ]
    },
    {
     "name": "stderr",
     "output_type": "stream",
     "text": [
      "\r",
      "Retrieve items by rules:  44%|████▍     | 7/16 [03:43<04:34, 30.51s/it]"
     ]
    },
    {
     "name": "stdout",
     "output_type": "stream",
     "text": [
      "Positive rate: 0.00831\n"
     ]
    },
    {
     "name": "stderr",
     "output_type": "stream",
     "text": [
      "\r",
      "Retrieve items by rules:  50%|█████     | 8/16 [04:25<04:35, 34.42s/it]"
     ]
    },
    {
     "name": "stdout",
     "output_type": "stream",
     "text": [
      "TOP21.0 Positive rate: 0.00501\n"
     ]
    },
    {
     "name": "stderr",
     "output_type": "stream",
     "text": [
      "\r",
      "Retrieve items by rules:  56%|█████▋    | 9/16 [04:34<03:03, 26.22s/it]"
     ]
    },
    {
     "name": "stdout",
     "output_type": "stream",
     "text": [
      "TOP11.0 Positive rate: 0.00515\n"
     ]
    },
    {
     "name": "stderr",
     "output_type": "stream",
     "text": [
      "Retrieve items by rules:  69%|██████▉   | 11/16 [04:55<01:32, 18.53s/it]"
     ]
    },
    {
     "name": "stdout",
     "output_type": "stream",
     "text": [
      "skip\n",
      "TOP13.0 Positive rate: 0.00502\n"
     ]
    },
    {
     "name": "stderr",
     "output_type": "stream",
     "text": [
      "\r",
      "Retrieve items by rules:  75%|███████▌  | 12/16 [05:01<00:58, 14.73s/it]"
     ]
    },
    {
     "name": "stdout",
     "output_type": "stream",
     "text": [
      "TOP6.0 Positive rate: 0.00544\n"
     ]
    },
    {
     "name": "stderr",
     "output_type": "stream",
     "text": [
      "\r",
      "Retrieve items by rules:  81%|████████▏ | 13/16 [05:08<00:36, 12.18s/it]"
     ]
    },
    {
     "name": "stdout",
     "output_type": "stream",
     "text": [
      "TOP11.0 Positive rate: 0.00500\n"
     ]
    },
    {
     "name": "stderr",
     "output_type": "stream",
     "text": [
      "\r",
      "Retrieve items by rules:  88%|████████▊ | 14/16 [05:37<00:34, 17.26s/it]"
     ]
    },
    {
     "name": "stdout",
     "output_type": "stream",
     "text": [
      "TOP11.0 Positive rate: 0.00517\n"
     ]
    },
    {
     "name": "stderr",
     "output_type": "stream",
     "text": [
      "Retrieve items by rules: 100%|██████████| 16/16 [06:16<00:00, 23.56s/it]"
     ]
    },
    {
     "name": "stdout",
     "output_type": "stream",
     "text": [
      "skip\n"
     ]
    },
    {
     "name": "stderr",
     "output_type": "stream",
     "text": [
      "\n"
     ]
    },
    {
     "name": "stdout",
     "output_type": "stream",
     "text": [
      "Week 3: [2020-09-02, 2020-09-09)\n"
     ]
    },
    {
     "name": "stderr",
     "output_type": "stream",
     "text": [
      "Retrieve items by rules:   6%|▋         | 1/16 [00:21<05:19, 21.33s/it]"
     ]
    },
    {
     "name": "stdout",
     "output_type": "stream",
     "text": [
      "Positive rate: 0.02822\n"
     ]
    },
    {
     "name": "stderr",
     "output_type": "stream",
     "text": [
      "\r",
      "Retrieve items by rules:  12%|█▎        | 2/16 [00:43<05:06, 21.91s/it]"
     ]
    },
    {
     "name": "stdout",
     "output_type": "stream",
     "text": [
      "Positive rate: 0.02679\n",
      "Positive rate: 0.01321\n"
     ]
    },
    {
     "name": "stderr",
     "output_type": "stream",
     "text": [
      "\r",
      "Retrieve items by rules:  19%|█▉        | 3/16 [01:37<07:54, 36.52s/it]"
     ]
    },
    {
     "name": "stdout",
     "output_type": "stream",
     "text": [
      "Positive rate: 0.01237\n"
     ]
    },
    {
     "name": "stderr",
     "output_type": "stream",
     "text": [
      "\r",
      "Retrieve items by rules:  25%|██▌       | 4/16 [02:31<08:41, 43.46s/it]"
     ]
    },
    {
     "name": "stdout",
     "output_type": "stream",
     "text": [
      "Positive rate: 0.01490\n"
     ]
    },
    {
     "name": "stderr",
     "output_type": "stream",
     "text": [
      "\r",
      "Retrieve items by rules:  31%|███▏      | 5/16 [02:50<06:18, 34.44s/it]"
     ]
    },
    {
     "name": "stdout",
     "output_type": "stream",
     "text": [
      "Positive rate: 0.01435\n"
     ]
    },
    {
     "name": "stderr",
     "output_type": "stream",
     "text": [
      "\r",
      "Retrieve items by rules:  38%|███▊      | 6/16 [03:11<04:58, 29.85s/it]"
     ]
    },
    {
     "name": "stdout",
     "output_type": "stream",
     "text": [
      "Positive rate: 0.00910\n"
     ]
    },
    {
     "name": "stderr",
     "output_type": "stream",
     "text": [
      "\r",
      "Retrieve items by rules:  44%|████▍     | 7/16 [03:47<04:46, 31.87s/it]"
     ]
    },
    {
     "name": "stdout",
     "output_type": "stream",
     "text": [
      "Positive rate: 0.00873\n"
     ]
    },
    {
     "name": "stderr",
     "output_type": "stream",
     "text": [
      "\r",
      "Retrieve items by rules:  50%|█████     | 8/16 [04:33<04:51, 36.47s/it]"
     ]
    },
    {
     "name": "stdout",
     "output_type": "stream",
     "text": [
      "TOP31.0 Positive rate: 0.00502\n"
     ]
    },
    {
     "name": "stderr",
     "output_type": "stream",
     "text": [
      "\r",
      "Retrieve items by rules:  56%|█████▋    | 9/16 [04:42<03:14, 27.78s/it]"
     ]
    },
    {
     "name": "stdout",
     "output_type": "stream",
     "text": [
      "TOP29.5 Positive rate: 0.00505\n"
     ]
    },
    {
     "name": "stderr",
     "output_type": "stream",
     "text": [
      "Retrieve items by rules:  69%|██████▉   | 11/16 [05:04<01:37, 19.55s/it]"
     ]
    },
    {
     "name": "stdout",
     "output_type": "stream",
     "text": [
      "skip\n",
      "TOP20.0 Positive rate: 0.00501\n"
     ]
    },
    {
     "name": "stderr",
     "output_type": "stream",
     "text": [
      "\r",
      "Retrieve items by rules:  75%|███████▌  | 12/16 [05:10<01:01, 15.50s/it]"
     ]
    },
    {
     "name": "stdout",
     "output_type": "stream",
     "text": [
      "TOP17.0 Positive rate: 0.00519\n"
     ]
    },
    {
     "name": "stderr",
     "output_type": "stream",
     "text": [
      "\r",
      "Retrieve items by rules:  81%|████████▏ | 13/16 [05:17<00:38, 12.72s/it]"
     ]
    },
    {
     "name": "stdout",
     "output_type": "stream",
     "text": [
      "TOP17.0 Positive rate: 0.00515\n"
     ]
    },
    {
     "name": "stderr",
     "output_type": "stream",
     "text": [
      "\r",
      "Retrieve items by rules:  88%|████████▊ | 14/16 [05:47<00:35, 17.95s/it]"
     ]
    },
    {
     "name": "stdout",
     "output_type": "stream",
     "text": [
      "TOP18.0 Positive rate: 0.00522\n"
     ]
    },
    {
     "name": "stderr",
     "output_type": "stream",
     "text": [
      "Retrieve items by rules: 100%|██████████| 16/16 [06:26<00:00, 24.18s/it]"
     ]
    },
    {
     "name": "stdout",
     "output_type": "stream",
     "text": [
      "skip\n"
     ]
    },
    {
     "name": "stderr",
     "output_type": "stream",
     "text": [
      "\n"
     ]
    },
    {
     "name": "stdout",
     "output_type": "stream",
     "text": [
      "Week 4: [2020-08-26, 2020-09-02)\n"
     ]
    },
    {
     "name": "stderr",
     "output_type": "stream",
     "text": [
      "Retrieve items by rules:   6%|▋         | 1/16 [00:21<05:16, 21.13s/it]"
     ]
    },
    {
     "name": "stdout",
     "output_type": "stream",
     "text": [
      "Positive rate: 0.02406\n"
     ]
    },
    {
     "name": "stderr",
     "output_type": "stream",
     "text": [
      "\r",
      "Retrieve items by rules:  12%|█▎        | 2/16 [00:43<05:02, 21.63s/it]"
     ]
    },
    {
     "name": "stdout",
     "output_type": "stream",
     "text": [
      "Positive rate: 0.02268\n"
     ]
    },
    {
     "name": "stderr",
     "output_type": "stream",
     "text": [
      "\r",
      "Retrieve items by rules:  19%|█▉        | 3/16 [01:36<07:49, 36.12s/it]"
     ]
    },
    {
     "name": "stdout",
     "output_type": "stream",
     "text": [
      "Positive rate: 0.01182\n",
      "Positive rate: 0.01123\n"
     ]
    },
    {
     "name": "stderr",
     "output_type": "stream",
     "text": [
      "\r",
      "Retrieve items by rules:  25%|██▌       | 4/16 [02:30<08:36, 43.05s/it]"
     ]
    },
    {
     "name": "stdout",
     "output_type": "stream",
     "text": [
      "Positive rate: 0.01353\n"
     ]
    },
    {
     "name": "stderr",
     "output_type": "stream",
     "text": [
      "\r",
      "Retrieve items by rules:  31%|███▏      | 5/16 [02:48<06:15, 34.16s/it]"
     ]
    },
    {
     "name": "stdout",
     "output_type": "stream",
     "text": [
      "Positive rate: 0.01306\n"
     ]
    },
    {
     "name": "stderr",
     "output_type": "stream",
     "text": [
      "\r",
      "Retrieve items by rules:  38%|███▊      | 6/16 [03:09<04:56, 29.68s/it]"
     ]
    },
    {
     "name": "stdout",
     "output_type": "stream",
     "text": [
      "Positive rate: 0.00876\n"
     ]
    },
    {
     "name": "stderr",
     "output_type": "stream",
     "text": [
      "\r",
      "Retrieve items by rules:  44%|████▍     | 7/16 [03:49<04:57, 33.09s/it]"
     ]
    },
    {
     "name": "stdout",
     "output_type": "stream",
     "text": [
      "Positive rate: 0.00838\n"
     ]
    },
    {
     "name": "stderr",
     "output_type": "stream",
     "text": [
      "\r",
      "Retrieve items by rules:  50%|█████     | 8/16 [04:39<05:06, 38.30s/it]"
     ]
    },
    {
     "name": "stdout",
     "output_type": "stream",
     "text": [
      "TOP26.0 Positive rate: 0.00514\n"
     ]
    },
    {
     "name": "stderr",
     "output_type": "stream",
     "text": [
      "\r",
      "Retrieve items by rules:  56%|█████▋    | 9/16 [04:47<03:22, 28.96s/it]"
     ]
    },
    {
     "name": "stdout",
     "output_type": "stream",
     "text": [
      "TOP27.5 Positive rate: 0.00505\n"
     ]
    },
    {
     "name": "stderr",
     "output_type": "stream",
     "text": [
      "Retrieve items by rules:  69%|██████▉   | 11/16 [05:10<01:41, 20.21s/it]"
     ]
    },
    {
     "name": "stdout",
     "output_type": "stream",
     "text": [
      "skip\n",
      "TOP26.0 Positive rate: 0.00503\n"
     ]
    },
    {
     "name": "stderr",
     "output_type": "stream",
     "text": [
      "\r",
      "Retrieve items by rules:  75%|███████▌  | 12/16 [05:16<01:03, 15.89s/it]"
     ]
    },
    {
     "name": "stdout",
     "output_type": "stream",
     "text": [
      "TOP26.0 Positive rate: 0.00508\n"
     ]
    },
    {
     "name": "stderr",
     "output_type": "stream",
     "text": [
      "\r",
      "Retrieve items by rules:  81%|████████▏ | 13/16 [05:22<00:38, 12.99s/it]"
     ]
    },
    {
     "name": "stdout",
     "output_type": "stream",
     "text": [
      "TOP19.0 Positive rate: 0.00500\n"
     ]
    },
    {
     "name": "stderr",
     "output_type": "stream",
     "text": [
      "\r",
      "Retrieve items by rules:  88%|████████▊ | 14/16 [05:51<00:35, 17.82s/it]"
     ]
    },
    {
     "name": "stdout",
     "output_type": "stream",
     "text": [
      "TOP14.0 Positive rate: 0.00502\n"
     ]
    },
    {
     "name": "stderr",
     "output_type": "stream",
     "text": [
      "Retrieve items by rules: 100%|██████████| 16/16 [06:31<00:00, 24.45s/it]"
     ]
    },
    {
     "name": "stdout",
     "output_type": "stream",
     "text": [
      "skip\n"
     ]
    },
    {
     "name": "stderr",
     "output_type": "stream",
     "text": [
      "\n"
     ]
    },
    {
     "name": "stdout",
     "output_type": "stream",
     "text": [
      "Week 5: [2020-08-19, 2020-08-26)\n"
     ]
    },
    {
     "name": "stderr",
     "output_type": "stream",
     "text": [
      "Retrieve items by rules:   6%|▋         | 1/16 [00:21<05:18, 21.22s/it]"
     ]
    },
    {
     "name": "stdout",
     "output_type": "stream",
     "text": [
      "Positive rate: 0.02329\n"
     ]
    },
    {
     "name": "stderr",
     "output_type": "stream",
     "text": [
      "\r",
      "Retrieve items by rules:  12%|█▎        | 2/16 [00:43<05:06, 21.91s/it]"
     ]
    },
    {
     "name": "stdout",
     "output_type": "stream",
     "text": [
      "Positive rate: 0.02211\n",
      "Positive rate: 0.01187\n"
     ]
    },
    {
     "name": "stderr",
     "output_type": "stream",
     "text": [
      "\r",
      "Retrieve items by rules:  19%|█▉        | 3/16 [01:36<07:50, 36.22s/it]"
     ]
    },
    {
     "name": "stdout",
     "output_type": "stream",
     "text": [
      "Positive rate: 0.01101\n"
     ]
    },
    {
     "name": "stderr",
     "output_type": "stream",
     "text": [
      "\r",
      "Retrieve items by rules:  25%|██▌       | 4/16 [02:30<08:36, 43.07s/it]"
     ]
    },
    {
     "name": "stdout",
     "output_type": "stream",
     "text": [
      "Positive rate: 0.01325\n"
     ]
    },
    {
     "name": "stderr",
     "output_type": "stream",
     "text": [
      "\r",
      "Retrieve items by rules:  31%|███▏      | 5/16 [02:49<06:17, 34.33s/it]"
     ]
    },
    {
     "name": "stdout",
     "output_type": "stream",
     "text": [
      "Positive rate: 0.01269\n"
     ]
    },
    {
     "name": "stderr",
     "output_type": "stream",
     "text": [
      "\r",
      "Retrieve items by rules:  38%|███▊      | 6/16 [03:10<04:59, 29.95s/it]"
     ]
    },
    {
     "name": "stdout",
     "output_type": "stream",
     "text": [
      "Positive rate: 0.00869\n"
     ]
    },
    {
     "name": "stderr",
     "output_type": "stream",
     "text": [
      "\r",
      "Retrieve items by rules:  44%|████▍     | 7/16 [03:48<04:52, 32.50s/it]"
     ]
    },
    {
     "name": "stdout",
     "output_type": "stream",
     "text": [
      "Positive rate: 0.00826\n"
     ]
    },
    {
     "name": "stderr",
     "output_type": "stream",
     "text": [
      "\r",
      "Retrieve items by rules:  50%|█████     | 8/16 [04:38<05:05, 38.18s/it]"
     ]
    },
    {
     "name": "stdout",
     "output_type": "stream",
     "text": [
      "TOP15.5 Positive rate: 0.00506\n"
     ]
    },
    {
     "name": "stderr",
     "output_type": "stream",
     "text": [
      "\r",
      "Retrieve items by rules:  56%|█████▋    | 9/16 [04:45<03:17, 28.25s/it]"
     ]
    },
    {
     "name": "stdout",
     "output_type": "stream",
     "text": [
      "TOP21.5 Positive rate: 0.00504\n"
     ]
    },
    {
     "name": "stderr",
     "output_type": "stream",
     "text": [
      "\r",
      "Retrieve items by rules:  62%|██████▎   | 10/16 [04:51<02:09, 21.58s/it]"
     ]
    },
    {
     "name": "stdout",
     "output_type": "stream",
     "text": [
      "TOP2.0 Positive rate: 0.00530\n"
     ]
    },
    {
     "name": "stderr",
     "output_type": "stream",
     "text": [
      "\r",
      "Retrieve items by rules:  69%|██████▉   | 11/16 [05:06<01:37, 19.41s/it]"
     ]
    },
    {
     "name": "stdout",
     "output_type": "stream",
     "text": [
      "TOP6.0 Positive rate: 0.00517\n"
     ]
    },
    {
     "name": "stderr",
     "output_type": "stream",
     "text": [
      "\r",
      "Retrieve items by rules:  75%|███████▌  | 12/16 [05:10<00:59, 14.89s/it]"
     ]
    },
    {
     "name": "stdout",
     "output_type": "stream",
     "text": [
      "TOP11.0 Positive rate: 0.00502\n"
     ]
    },
    {
     "name": "stderr",
     "output_type": "stream",
     "text": [
      "\r",
      "Retrieve items by rules:  81%|████████▏ | 13/16 [05:16<00:35, 11.95s/it]"
     ]
    },
    {
     "name": "stdout",
     "output_type": "stream",
     "text": [
      "TOP6.0 Positive rate: 0.00513\n"
     ]
    },
    {
     "name": "stderr",
     "output_type": "stream",
     "text": [
      "\r",
      "Retrieve items by rules:  88%|████████▊ | 14/16 [05:44<00:33, 16.88s/it]"
     ]
    },
    {
     "name": "stdout",
     "output_type": "stream",
     "text": [
      "TOP10.0 Positive rate: 0.00505\n"
     ]
    },
    {
     "name": "stderr",
     "output_type": "stream",
     "text": [
      "Retrieve items by rules: 100%|██████████| 16/16 [06:21<00:00, 23.83s/it]"
     ]
    },
    {
     "name": "stdout",
     "output_type": "stream",
     "text": [
      "skip\n"
     ]
    },
    {
     "name": "stderr",
     "output_type": "stream",
     "text": [
      "\n"
     ]
    },
    {
     "name": "stdout",
     "output_type": "stream",
     "text": [
      "Week 6: [2020-08-12, 2020-08-19)\n"
     ]
    },
    {
     "name": "stderr",
     "output_type": "stream",
     "text": [
      "Retrieve items by rules:   6%|▋         | 1/16 [00:20<05:13, 20.92s/it]"
     ]
    },
    {
     "name": "stdout",
     "output_type": "stream",
     "text": [
      "Positive rate: 0.02325\n"
     ]
    },
    {
     "name": "stderr",
     "output_type": "stream",
     "text": [
      "\r",
      "Retrieve items by rules:  12%|█▎        | 2/16 [00:42<05:01, 21.55s/it]"
     ]
    },
    {
     "name": "stdout",
     "output_type": "stream",
     "text": [
      "Positive rate: 0.02198\n",
      "Positive rate: 0.01166\n"
     ]
    },
    {
     "name": "stderr",
     "output_type": "stream",
     "text": [
      "\r",
      "Retrieve items by rules:  19%|█▉        | 3/16 [01:36<07:49, 36.14s/it]"
     ]
    },
    {
     "name": "stdout",
     "output_type": "stream",
     "text": [
      "Positive rate: 0.01050\n"
     ]
    },
    {
     "name": "stderr",
     "output_type": "stream",
     "text": [
      "\r",
      "Retrieve items by rules:  25%|██▌       | 4/16 [02:29<08:35, 42.94s/it]"
     ]
    },
    {
     "name": "stdout",
     "output_type": "stream",
     "text": [
      "Positive rate: 0.01124\n"
     ]
    },
    {
     "name": "stderr",
     "output_type": "stream",
     "text": [
      "\r",
      "Retrieve items by rules:  31%|███▏      | 5/16 [02:48<06:17, 34.28s/it]"
     ]
    },
    {
     "name": "stdout",
     "output_type": "stream",
     "text": [
      "Positive rate: 0.01112\n"
     ]
    },
    {
     "name": "stderr",
     "output_type": "stream",
     "text": [
      "\r",
      "Retrieve items by rules:  38%|███▊      | 6/16 [03:10<04:59, 29.91s/it]"
     ]
    },
    {
     "name": "stdout",
     "output_type": "stream",
     "text": [
      "Positive rate: 0.00789\n"
     ]
    },
    {
     "name": "stderr",
     "output_type": "stream",
     "text": [
      "\r",
      "Retrieve items by rules:  44%|████▍     | 7/16 [03:50<04:58, 33.17s/it]"
     ]
    },
    {
     "name": "stdout",
     "output_type": "stream",
     "text": [
      "Positive rate: 0.00721\n"
     ]
    },
    {
     "name": "stderr",
     "output_type": "stream",
     "text": [
      "\r",
      "Retrieve items by rules:  50%|█████     | 8/16 [04:42<05:15, 39.44s/it]"
     ]
    },
    {
     "name": "stdout",
     "output_type": "stream",
     "text": [
      "TOP4.0 Positive rate: 0.00524\n"
     ]
    },
    {
     "name": "stderr",
     "output_type": "stream",
     "text": [
      "\r",
      "Retrieve items by rules:  56%|█████▋    | 9/16 [04:47<03:20, 28.63s/it]"
     ]
    },
    {
     "name": "stdout",
     "output_type": "stream",
     "text": [
      "TOP3.5 Positive rate: 0.00507\n"
     ]
    },
    {
     "name": "stderr",
     "output_type": "stream",
     "text": [
      "Retrieve items by rules:  69%|██████▉   | 11/16 [05:02<01:29, 18.00s/it]"
     ]
    },
    {
     "name": "stdout",
     "output_type": "stream",
     "text": [
      "skip\n"
     ]
    },
    {
     "name": "stderr",
     "output_type": "stream",
     "text": [
      "\r",
      "Retrieve items by rules:  75%|███████▌  | 12/16 [05:04<00:52, 13.10s/it]"
     ]
    },
    {
     "name": "stdout",
     "output_type": "stream",
     "text": [
      "skip\n"
     ]
    },
    {
     "name": "stderr",
     "output_type": "stream",
     "text": [
      "\r",
      "Retrieve items by rules:  81%|████████▏ | 13/16 [05:06<00:28,  9.66s/it]"
     ]
    },
    {
     "name": "stdout",
     "output_type": "stream",
     "text": [
      "skip\n",
      "TOP1.0 Positive rate: 0.00535\n"
     ]
    },
    {
     "name": "stderr",
     "output_type": "stream",
     "text": [
      "Retrieve items by rules:  94%|█████████▍| 15/16 [05:55<00:17, 17.29s/it]"
     ]
    },
    {
     "name": "stdout",
     "output_type": "stream",
     "text": [
      "skip\n"
     ]
    },
    {
     "name": "stderr",
     "output_type": "stream",
     "text": [
      "Retrieve items by rules: 100%|██████████| 16/16 [06:03<00:00, 22.71s/it]"
     ]
    },
    {
     "name": "stdout",
     "output_type": "stream",
     "text": [
      "skip\n"
     ]
    },
    {
     "name": "stderr",
     "output_type": "stream",
     "text": [
      "\n"
     ]
    },
    {
     "name": "stdout",
     "output_type": "stream",
     "text": [
      "Week 7: [2020-08-05, 2020-08-12)\n"
     ]
    },
    {
     "name": "stderr",
     "output_type": "stream",
     "text": [
      "Retrieve items by rules:   6%|▋         | 1/16 [00:20<05:10, 20.70s/it]"
     ]
    },
    {
     "name": "stdout",
     "output_type": "stream",
     "text": [
      "Positive rate: 0.01753\n"
     ]
    },
    {
     "name": "stderr",
     "output_type": "stream",
     "text": [
      "\r",
      "Retrieve items by rules:  12%|█▎        | 2/16 [00:42<04:59, 21.40s/it]"
     ]
    },
    {
     "name": "stdout",
     "output_type": "stream",
     "text": [
      "Positive rate: 0.01667\n",
      "Positive rate: 0.00867\n"
     ]
    },
    {
     "name": "stderr",
     "output_type": "stream",
     "text": [
      "\r",
      "Retrieve items by rules:  19%|█▉        | 3/16 [01:33<07:33, 34.92s/it]"
     ]
    },
    {
     "name": "stdout",
     "output_type": "stream",
     "text": [
      "Positive rate: 0.00809\n"
     ]
    },
    {
     "name": "stderr",
     "output_type": "stream",
     "text": [
      "\r",
      "Retrieve items by rules:  25%|██▌       | 4/16 [02:24<08:16, 41.36s/it]"
     ]
    },
    {
     "name": "stdout",
     "output_type": "stream",
     "text": [
      "Positive rate: 0.00971\n"
     ]
    },
    {
     "name": "stderr",
     "output_type": "stream",
     "text": [
      "\r",
      "Retrieve items by rules:  31%|███▏      | 5/16 [02:43<06:04, 33.12s/it]"
     ]
    },
    {
     "name": "stdout",
     "output_type": "stream",
     "text": [
      "Positive rate: 0.00959\n"
     ]
    },
    {
     "name": "stderr",
     "output_type": "stream",
     "text": [
      "\r",
      "Retrieve items by rules:  38%|███▊      | 6/16 [03:04<04:50, 29.10s/it]"
     ]
    },
    {
     "name": "stdout",
     "output_type": "stream",
     "text": [
      "Positive rate: 0.00629\n"
     ]
    },
    {
     "name": "stderr",
     "output_type": "stream",
     "text": [
      "\r",
      "Retrieve items by rules:  44%|████▍     | 7/16 [03:53<05:19, 35.46s/it]"
     ]
    },
    {
     "name": "stdout",
     "output_type": "stream",
     "text": [
      "Positive rate: 0.00586\n"
     ]
    },
    {
     "name": "stderr",
     "output_type": "stream",
     "text": [
      "Retrieve items by rules:  56%|█████▋    | 9/16 [04:55<03:35, 30.80s/it]"
     ]
    },
    {
     "name": "stdout",
     "output_type": "stream",
     "text": [
      "skip\n"
     ]
    },
    {
     "name": "stderr",
     "output_type": "stream",
     "text": [
      "\r",
      "Retrieve items by rules:  62%|██████▎   | 10/16 [04:59<02:15, 22.52s/it]"
     ]
    },
    {
     "name": "stdout",
     "output_type": "stream",
     "text": [
      "skip\n"
     ]
    },
    {
     "name": "stderr",
     "output_type": "stream",
     "text": [
      "\r",
      "Retrieve items by rules:  69%|██████▉   | 11/16 [05:11<01:35, 19.06s/it]"
     ]
    },
    {
     "name": "stdout",
     "output_type": "stream",
     "text": [
      "skip\n"
     ]
    },
    {
     "name": "stderr",
     "output_type": "stream",
     "text": [
      "\r",
      "Retrieve items by rules:  75%|███████▌  | 12/16 [05:14<00:56, 14.17s/it]"
     ]
    },
    {
     "name": "stdout",
     "output_type": "stream",
     "text": [
      "skip\n"
     ]
    },
    {
     "name": "stderr",
     "output_type": "stream",
     "text": [
      "\r",
      "Retrieve items by rules:  81%|████████▏ | 13/16 [05:16<00:31, 10.58s/it]"
     ]
    },
    {
     "name": "stdout",
     "output_type": "stream",
     "text": [
      "skip\n"
     ]
    },
    {
     "name": "stderr",
     "output_type": "stream",
     "text": [
      "\r",
      "Retrieve items by rules:  88%|████████▊ | 14/16 [05:41<00:30, 15.09s/it]"
     ]
    },
    {
     "name": "stdout",
     "output_type": "stream",
     "text": [
      "skip\n"
     ]
    },
    {
     "name": "stderr",
     "output_type": "stream",
     "text": [
      "\r",
      "Retrieve items by rules:  94%|█████████▍| 15/16 [06:06<00:17, 17.87s/it]"
     ]
    },
    {
     "name": "stdout",
     "output_type": "stream",
     "text": [
      "skip\n"
     ]
    },
    {
     "name": "stderr",
     "output_type": "stream",
     "text": [
      "Retrieve items by rules: 100%|██████████| 16/16 [06:13<00:00, 23.34s/it]"
     ]
    },
    {
     "name": "stdout",
     "output_type": "stream",
     "text": [
      "skip\n"
     ]
    },
    {
     "name": "stderr",
     "output_type": "stream",
     "text": [
      "\n"
     ]
    }
   ],
   "source": [
    "# # * WEEK_NUM = 0: test\n",
    "# # * WEEK_NUM = 1: valid\n",
    "# # * WEEK_NUM > 1: train\n",
    "\n",
    "# for week in range(1, WEEK_NUM):\n",
    "#     # * use sliding window to generate candidates\n",
    "#     if week == 0 and not TEST:\n",
    "#         continue\n",
    "#     trans = data[\"inter\"]\n",
    "\n",
    "#     start_date, end_date = calc_valid_date(week)\n",
    "#     print(f\"Week {week}: [{start_date}, {end_date})\")\n",
    "    \n",
    "#     last_week_start = pd.to_datetime(start_date) - pd.Timedelta(days=7)\n",
    "#     last_week_start = last_week_start.strftime(\"%Y-%m-%d\")\n",
    "    \n",
    "#     last_3day_start = pd.to_datetime(start_date) - pd.Timedelta(days=3)\n",
    "#     last_3day_start = last_3day_start.strftime(\"%Y-%m-%d\")\n",
    "\n",
    "#     train, valid = dh.split_data(trans, start_date, end_date)\n",
    "\n",
    "#     last_week = train.loc[train.t_dat >= last_week_start]\n",
    "#     last_week = last_week.merge(data['user'][['customer_id','age_bins']], on='customer_id', how='left')\n",
    "    \n",
    "#     last_3days = train.loc[train.t_dat >= last_3day_start]\n",
    "#     last_3days = last_3days.merge(data['user'][['customer_id','age_bins']], on='customer_id', how='left')\n",
    "    \n",
    "#     train = train.merge(data['user'][['customer_id','age_bins']], on='customer_id', how='left')\n",
    "\n",
    "#     if week != 0:\n",
    "#         customer_list = valid[\"customer_id\"].values\n",
    "#     else:\n",
    "#         customer_list = submission['customer_id'].values\n",
    "\n",
    "#     # * ========================== Retrieval Strategies ==========================\n",
    "\n",
    "#     candidates = RuleCollector().collect(\n",
    "#         week_num = week,\n",
    "#         trans_df = trans,\n",
    "#         customer_list=customer_list,\n",
    "#         rules=[\n",
    "#             OrderHistory(train, 3),\n",
    "#             OrderHistory(train, 7),\n",
    "#             OrderHistoryDecay(train, 3, n=50),\n",
    "#             OrderHistoryDecay(train, 7, n=50),\n",
    "#             ItemPair(OrderHistory(train, 3).retrieve(), name='1'),\n",
    "#             ItemPair(OrderHistory(train, 7).retrieve(), name='2'),\n",
    "#             ItemPair(OrderHistoryDecay(train, 3, n=50).retrieve(), name='3'),\n",
    "#             ItemPair(OrderHistoryDecay(train, 7, n=50).retrieve(), name='4'),\n",
    "#             UserGroupTimeHistory(data, customer_list, last_week, ['age_bins'], n=50, name='1'),\n",
    "#             UserGroupTimeHistory(data, customer_list, last_3days, ['age_bins'], n=50, name='2'),\n",
    "#             UserGroupSaleTrend(data, customer_list, train, ['age_bins'], 7, n=50),\n",
    "#             TimeHistory(customer_list, last_week, n=50, name='1'),\n",
    "#             TimeHistory(customer_list, last_3days, n=50, name='2'),\n",
    "#             TimeHistoryDecay(customer_list, train, 3, n=50),\n",
    "#             TimeHistoryDecay(customer_list, train, 7, n=50),\n",
    "#             SaleTrend(customer_list, train, 7, n=50),\n",
    "#         ],\n",
    "#         filters=[OutOfStock(trans)],\n",
    "#         min_pos_rate=0.005,\n",
    "#         compress=False,\n",
    "#     )\n",
    "    \n",
    "#     candidates = (\n",
    "#         pd.pivot_table(\n",
    "#             candidates,\n",
    "#             values=\"score\",\n",
    "#             index=[\"customer_id\", \"article_id\"],\n",
    "#             columns=[\"method\"],\n",
    "#             aggfunc=np.sum,\n",
    "#         )\n",
    "#         .reset_index()\n",
    "#     )\n",
    "\n",
    "#     rule_names = [x for x in candidates.columns if x not in [\"customer_id\", \"article_id\"]]\n",
    "#     candidates['score'] = candidates[rule_names].sum(axis=1)\n",
    "#     candidates['rank'] = candidates.groupby(['customer_id'])['score'].rank(ascending=False)\n",
    "    \n",
    "#     candidates.to_parquet(data_dir/\"interim\"/VERSION_NAME/f\"week{week}_candidate.pqt\")\n",
    "#     if WEEK_NUM != 0:\n",
    "#         valid.to_parquet(data_dir/\"interim\"/VERSION_NAME/f\"week{week}_label.pqt\")"
   ]
  },
  {
   "cell_type": "code",
   "execution_count": 15,
   "metadata": {},
   "outputs": [
    {
     "name": "stdout",
     "output_type": "stream",
     "text": [
      "Week 0: [2020-09-23, 2020-09-30)\n"
     ]
    },
    {
     "name": "stderr",
     "output_type": "stream",
     "text": [
      "Retrieve items by rules: 100%|██████████| 16/16 [08:08<00:00, 30.53s/it]\n"
     ]
    }
   ],
   "source": [
    "# # * use the threshold in week 1 to generate candidates for test data, see the log in the upper cell \n",
    "\n",
    "# for week in range(1):\n",
    "#     if week == 0 and not TEST:\n",
    "#         continue\n",
    "#     trans = data[\"inter\"]\n",
    "\n",
    "#     start_date, end_date = calc_valid_date(week)\n",
    "#     print(f\"Week {week}: [{start_date}, {end_date})\")\n",
    "    \n",
    "#     last_5week_start = pd.to_datetime(start_date) - 5*pd.Timedelta(days=7)\n",
    "#     last_5week_start = last_5week_start.strftime(\"%Y-%m-%d\")\n",
    "    \n",
    "#     last_week_start = pd.to_datetime(start_date) - pd.Timedelta(days=7)\n",
    "#     last_week_start = last_week_start.strftime(\"%Y-%m-%d\")\n",
    "    \n",
    "#     last_3day_start = pd.to_datetime(start_date) - pd.Timedelta(days=3)\n",
    "#     last_3day_start = last_3day_start.strftime(\"%Y-%m-%d\")\n",
    "\n",
    "#     train, valid = dh.split_data(trans, start_date, end_date)\n",
    "    \n",
    "#     last_5week = train.loc[train.t_dat >= last_5week_start]\n",
    "#     last_5week = last_5week.merge(data['user'][['customer_id','age_bins']], on='customer_id', how='left')\n",
    "\n",
    "#     last_week = train.loc[train.t_dat >= last_week_start]\n",
    "#     last_week = last_week.merge(data['user'][['customer_id','age_bins']], on='customer_id', how='left')\n",
    "    \n",
    "#     last_3days = train.loc[train.t_dat >= last_3day_start]\n",
    "#     last_3days = last_3days.merge(data['user'][['customer_id','age_bins']], on='customer_id', how='left')\n",
    "    \n",
    "#     train = train.merge(data['user'][['customer_id','age_bins']], on='customer_id', how='left')\n",
    "#     last_5week = last_5week.merge(data['user'][['customer_id','age_bins']], on='customer_id', how='left')\n",
    "\n",
    "#     if week != 0:\n",
    "#         customer_list = valid[\"customer_id\"].values\n",
    "#     else:\n",
    "#         customer_list = submission['customer_id'].values\n",
    "\n",
    "#     # * ========================== Retrieval Strategies ==========================\n",
    "\n",
    "#     candidates = RuleCollector().collect(\n",
    "#         week_num = week,\n",
    "#         trans_df = trans,\n",
    "#         customer_list=customer_list,\n",
    "#         rules=[\n",
    "#             OrderHistory(train, 3),\n",
    "#             OrderHistory(train, 7),\n",
    "#             OrderHistoryDecay(train, 3, n=50),\n",
    "#             OrderHistoryDecay(train, 7, n=50),\n",
    "#             ItemPair(OrderHistory(train, 3).retrieve(), name='1'),\n",
    "#             ItemPair(OrderHistory(train, 7).retrieve(), name='2'),\n",
    "#             ItemPair(OrderHistoryDecay(train, 3, n=50).retrieve(), name='3'),\n",
    "#             ItemPair(OrderHistoryDecay(train, 7, n=50).retrieve(), name='4'),\n",
    "#             UserGroupTimeHistory(data, customer_list, last_week, ['age_bins'], n=35, name='1'),\n",
    "#             UserGroupTimeHistory(data, customer_list, last_3days, ['age_bins'], n=38.5, name='2'),\n",
    "#             UserGroupSaleTrend(data, customer_list, train, ['age_bins'], 7, n=3),\n",
    "#             TimeHistory(customer_list, last_week, n=25, name='1'),\n",
    "#             TimeHistory(customer_list, last_3days, n=30, name='2'),\n",
    "#             TimeHistoryDecay(customer_list, train, 3, n=31),\n",
    "#             TimeHistoryDecay(customer_list, train, 7, n=24),\n",
    "#             SaleTrend(customer_list, train, 7, n=4),\n",
    "#         ],\n",
    "#         filters=[OutOfStock(trans)],\n",
    "#         min_pos_rate=0.005,\n",
    "#         compress=False,\n",
    "#     )\n",
    "    \n",
    "#     candidates = (\n",
    "#         pd.pivot_table(\n",
    "#             candidates,\n",
    "#             values=\"score\",\n",
    "#             index=[\"customer_id\", \"article_id\"],\n",
    "#             columns=[\"method\"],\n",
    "#             aggfunc=np.sum,\n",
    "#         )\n",
    "#         .reset_index()\n",
    "#     )\n",
    "\n",
    "#     rule_names = [x for x in candidates.columns if x not in [\"customer_id\", \"article_id\"]]\n",
    "#     candidates['score'] = candidates[rule_names].sum(axis=1)\n",
    "#     candidates['rank'] = candidates.groupby(['customer_id'])['score'].rank(ascending=False)\n",
    "\n",
    "#     candidates.to_parquet(data_dir/\"interim\"/VERSION_NAME/f\"week{week}_candidate.pqt\")\n",
    "#     if WEEK_NUM != 0:\n",
    "#         valid.to_parquet(data_dir/\"interim\"/VERSION_NAME/f\"week{week}_label.pqt\")"
   ]
  },
  {
   "cell_type": "code",
   "execution_count": 16,
   "metadata": {},
   "outputs": [
    {
     "data": {
      "text/plain": [
       "71"
      ]
     },
     "execution_count": 16,
     "metadata": {},
     "output_type": "execute_result"
    }
   ],
   "source": [
    "# del train, valid, last_week, customer_list, candidates\n",
    "# gc.collect()"
   ]
  },
  {
   "cell_type": "markdown",
   "metadata": {
    "id": "TBIrKxhRGGQR"
   },
   "source": [
    "## Feature engineering\n"
   ]
  },
  {
   "cell_type": "code",
   "execution_count": 17,
   "metadata": {
    "executionInfo": {
     "elapsed": 15,
     "status": "ok",
     "timestamp": 1650813116461,
     "user": {
      "displayName": "WP Zhang",
      "userId": "08181056311681578219"
     },
     "user_tz": 240
    },
    "id": "9pF-sOMSGGQP"
   },
   "outputs": [],
   "source": [
    "user = data[\"user\"]\n",
    "item = data[\"item\"]\n",
    "inter = data[\"inter\"]"
   ]
  },
  {
   "cell_type": "code",
   "execution_count": 18,
   "metadata": {
    "executionInfo": {
     "elapsed": 12313,
     "status": "ok",
     "timestamp": 1650811966923,
     "user": {
      "displayName": "WP Zhang",
      "userId": "08181056311681578219"
     },
     "user_tz": 240
    },
    "id": "heKIAtoRdtIk"
   },
   "outputs": [],
   "source": [
    "# # merge `product_code`\n",
    "# inter = inter.merge(item[[\"article_id\", \"product_code\"]], on=\"article_id\", how=\"left\")\n",
    "# # calculate week number\n",
    "# inter['week'] = (pd.to_datetime('2020-09-29') - pd.to_datetime(inter['t_dat'])).dt.days // 7\n",
    "# inter = inter.sort_values([\"customer_id\", \"t_dat\"]).reset_index(drop=True)"
   ]
  },
  {
   "cell_type": "code",
   "execution_count": 19,
   "metadata": {
    "scrolled": true
   },
   "outputs": [],
   "source": [
    "# inter.head()"
   ]
  },
  {
   "cell_type": "code",
   "execution_count": 20,
   "metadata": {
    "colab": {
     "base_uri": "https://localhost:8080/"
    },
    "executionInfo": {
     "elapsed": 35,
     "status": "ok",
     "timestamp": 1650811979181,
     "user": {
      "displayName": "WP Zhang",
      "userId": "08181056311681578219"
     },
     "user_tz": 240
    },
    "id": "krS1OT4JGGQR",
    "outputId": "e4c0aefe-9eaf-4887-f330-9e7cd13cc9bb"
   },
   "outputs": [],
   "source": [
    "# inter.shape"
   ]
  },
  {
   "cell_type": "markdown",
   "metadata": {},
   "source": [
    "Week Sale"
   ]
  },
  {
   "cell_type": "code",
   "execution_count": 21,
   "metadata": {
    "executionInfo": {
     "elapsed": 82982,
     "status": "ok",
     "timestamp": 1650812194568,
     "user": {
      "displayName": "WP Zhang",
      "userId": "08181056311681578219"
     },
     "user_tz": 240
    },
    "id": "IXXxyMmndtIm"
   },
   "outputs": [],
   "source": [
    "# inter[\"item_sale\"] = week_sale(inter, [\"article_id\"])\n",
    "# inter[\"pro_sale\"] = week_sale(inter, [\"product_code\"])\n",
    "# inter[\"item_sale_uni\"] = week_sale(inter, [\"article_id\"], True)\n",
    "# inter[\"pro_sale_uni\"] = week_sale(inter, [\"product_code\"], True)\n",
    "# inter[\"item_sale_ratio\"] = inter[\"item_sale\"] / (inter[\"pro_sale\"] + 1e-6)\n",
    "# inter[\"item_sale_uni_ratio\"] = inter[\"pro_sale_uni\"] / (inter[\"pro_sale_uni\"] + 1e-6)\n",
    "\n",
    "# inter = inter.merge(user[[\"customer_id\", \"age_bucket\"]], on=\"customer_id\", how=\"left\")\n",
    "\n",
    "# inter[\"item_sale_by_channel\"] = week_sale(inter, [\"article_id\",\"sales_channel_id\"])\n",
    "# inter[\"pro_sale_by_channel\"] = week_sale(inter, [\"product_code\",\"sales_channel_id\"])\n",
    "# inter[\"item_sale_uni_by_channel\"] = week_sale(inter, [\"article_id\",\"sales_channel_id\"], True)\n",
    "# inter[\"pro_sale_uni_by_channel\"] = week_sale(inter, [\"product_code\",\"sales_channel_id\"], True)\n",
    "# inter[\"item_sale_ratio_by_channel\"] = inter[\"item_sale_by_channel\"] / (inter[\"pro_sale_by_channel\"] + 1e-6)\n",
    "# inter[\"item_sale_uni_ratio_by_channel\"] = inter[\"pro_sale_uni_by_channel\"] / (inter[\"pro_sale_uni_by_channel\"] + 1e-6)\n",
    "\n",
    "# inter[\"item_sale_by_age\"] = week_sale(inter, [\"article_id\",\"age_bucket\"])\n",
    "# inter[\"pro_sale_by_age\"] = week_sale(inter, [\"product_code\",\"age_bucket\"])\n",
    "# inter[\"item_sale_uni_by_age\"] = week_sale(inter, [\"article_id\",\"age_bucket\"], True)\n",
    "# inter[\"pro_sale_uni_by_age\"] = week_sale(inter, [\"product_code\",\"age_bucket\"], True)\n",
    "# inter[\"item_sale_ratio_by_age\"] = inter[\"item_sale_by_age\"] / (inter[\"pro_sale_by_age\"] + 1e-6)\n",
    "# inter[\"item_sale_uni_ratio_by_age\"] = inter[\"pro_sale_uni_by_age\"] / (inter[\"pro_sale_uni_by_age\"] + 1e-6)\n",
    "\n",
    "# item_feats = [\n",
    "#     \"product_type_no\",\n",
    "#     \"product_group_name\",\n",
    "#     \"graphical_appearance_no\",\n",
    "#     \"colour_group_code\",\n",
    "#     \"perceived_colour_value_id\",\n",
    "#     \"perceived_colour_master_id\",\n",
    "# ]\n",
    "# inter = inter.merge(item[[\"article_id\", *item_feats]], on=\"article_id\", how=\"left\")\n",
    "\n",
    "# for feat in tqdm(item_feats):\n",
    "#     inter[f\"{feat}_sale\"] = week_sale(inter, [feat], f\"{feat}_sale\")\n",
    "\n",
    "# inter = inter.drop(columns=item_feats)"
   ]
  },
  {
   "cell_type": "markdown",
   "metadata": {},
   "source": [
    "Repurchase Ratio"
   ]
  },
  {
   "cell_type": "code",
   "execution_count": 22,
   "metadata": {
    "id": "pnZzbv2JNUB1"
   },
   "outputs": [],
   "source": [
    "# inter['i_repurchase_ratio'] = repurchase_ratio(inter, ['article_id'])\n",
    "# inter['p_repurchase_ratio'] = repurchase_ratio(inter, ['product_code'])"
   ]
  },
  {
   "cell_type": "markdown",
   "metadata": {},
   "source": [
    "Already Bought Item"
   ]
  },
  {
   "cell_type": "code",
   "execution_count": 23,
   "metadata": {
    "colab": {
     "base_uri": "https://localhost:8080/"
    },
    "executionInfo": {
     "elapsed": 132613,
     "status": "ok",
     "timestamp": 1650812981266,
     "user": {
      "displayName": "WP Zhang",
      "userId": "08181056311681578219"
     },
     "user_tz": 240
    },
    "id": "VmBm3Ka3GGQS",
    "outputId": "01920093-44ae-4c4a-c105-2c55042b0ae1"
   },
   "outputs": [],
   "source": [
    "# inter[\"purchased_item\"] = purchased_before(inter, [\"article_id\"])\n",
    "# inter[\"purchased_pro\"] = purchased_before(inter, [\"product_code\"])"
   ]
  },
  {
   "cell_type": "markdown",
   "metadata": {},
   "source": [
    "Save data"
   ]
  },
  {
   "cell_type": "code",
   "execution_count": 24,
   "metadata": {
    "colab": {
     "base_uri": "https://localhost:8080/"
    },
    "executionInfo": {
     "elapsed": 12,
     "status": "ok",
     "timestamp": 1650812981267,
     "user": {
      "displayName": "WP Zhang",
      "userId": "08181056311681578219"
     },
     "user_tz": 240
    },
    "id": "uB53JEZoGGQS",
    "outputId": "1e178712-b0a2-4f90-fea1-2da452d2a297"
   },
   "outputs": [],
   "source": [
    "# inter.shape"
   ]
  },
  {
   "cell_type": "code",
   "execution_count": 25,
   "metadata": {
    "executionInfo": {
     "elapsed": 45421,
     "status": "ok",
     "timestamp": 1650813026679,
     "user": {
      "displayName": "WP Zhang",
      "userId": "08181056311681578219"
     },
     "user_tz": 240
    },
    "id": "dv55insCdtIo"
   },
   "outputs": [],
   "source": [
    "# inter.to_parquet(data_dir / \"interim/processed_inter.pqt\")\n",
    "# inter.to_parquet(data_dir / \"interim/processed_inter_v2.pqt\")"
   ]
  },
  {
   "cell_type": "markdown",
   "metadata": {
    "id": "jywhBCAGGGQS"
   },
   "source": [
    "## Merge Features\n"
   ]
  },
  {
   "cell_type": "code",
   "execution_count": 26,
   "metadata": {},
   "outputs": [
    {
     "name": "stderr",
     "output_type": "stream",
     "text": [
      "100%|██████████| 8/8 [00:08<00:00,  1.08s/it]\n"
     ]
    }
   ],
   "source": [
    "candidates = {}\n",
    "for i in tqdm(range(WEEK_NUM)):\n",
    "    if i == 0 and not TEST:\n",
    "        continue\n",
    "        \n",
    "    tmp_candidate = pd.read_parquet(data_dir/\"interim\"/VERSION_NAME/f\"week{i}_candidate.pqt\")\n",
    "    candidates[i] = tmp_candidate\n",
    "    del tmp_candidate"
   ]
  },
  {
   "cell_type": "code",
   "execution_count": 27,
   "metadata": {
    "executionInfo": {
     "elapsed": 11212,
     "status": "ok",
     "timestamp": 1650813141038,
     "user": {
      "displayName": "WP Zhang",
      "userId": "08181056311681578219"
     },
     "user_tz": 240
    },
    "id": "cxSNgWvVuv2A"
   },
   "outputs": [],
   "source": [
    "# inter = pd.read_parquet(data_dir / \"interim/processed_inter.pqt\")\n",
    "inter = pd.read_parquet(data_dir / \"interim/processed_inter_v2.pqt\")"
   ]
  },
  {
   "cell_type": "code",
   "execution_count": 28,
   "metadata": {},
   "outputs": [],
   "source": [
    "data[\"inter\"] = inter\n",
    "data[\"inter\"]['age_bucket'] = data[\"inter\"]['age_bucket'].fillna(0).astype(int)"
   ]
  },
  {
   "cell_type": "markdown",
   "metadata": {},
   "source": [
    "Merge features"
   ]
  },
  {
   "cell_type": "code",
   "execution_count": 29,
   "metadata": {},
   "outputs": [
    {
     "name": "stderr",
     "output_type": "stream",
     "text": [
      "100%|██████████| 8/8 [27:41<00:00, 207.63s/it]  \n"
     ]
    }
   ],
   "source": [
    "# def diff(x):\n",
    "#     import numpy as np\n",
    "#     d = np.diff(x)\n",
    "#     return list(d)\n",
    "\n",
    "# for i in tqdm(range(WEEK_NUM)):\n",
    "#     if i in candidates:\n",
    "        \n",
    "#         candidates[i] = merge_week_data(data, i, candidates[i])\n",
    "#         candidates[i]['t_dat_new'] = pd.to_datetime(candidates[i]['t_dat'])\n",
    "#         t = candidates[i][['customer_id', 't_dat_new']].groupby('customer_id').agg(diff).reset_index()\n",
    "\n",
    "#         ids = []\n",
    "#         diffs = []\n",
    "#         time_sessions_id = []\n",
    "\n",
    "#         for j in range(len(t)):\n",
    "#             time_array = t['t_dat_new'][j]\n",
    "#             a = [-1] + [x.item() / 1e9 / (24*3600) for x in time_array]\n",
    "\n",
    "#             diffs += a\n",
    "#             ids += [t['customer_id'][j]] * len(a)\n",
    "\n",
    "#             sessions = [0]\n",
    "#             if len(a)!=1:\n",
    "#                 s = 0\n",
    "#                 for k in range(1, len(a)):\n",
    "#                     if a[k] > 7: # 7 day diff between article purchases \n",
    "#                         s += 1\n",
    "#                     sessions.append(s)\n",
    "#             time_sessions_id += sessions\n",
    "\n",
    "#         candidates[i]['days_since_last_article'] = diffs\n",
    "#         candidates[i]['days_sessions_id'] = time_sessions_id\n",
    "\n",
    "#         candidates[i]['max_number_ses'] = candidates[i][['customer_id', \n",
    "#                                                      'days_sessions_id']].groupby('customer_id').transform('max')\n",
    "#         candidates[i]['day_week'] = candidates[i]['t_dat_new'].dt.week\n",
    "#         candidates[i]['num_active_weeks'] = candidates[i][['customer_id', \n",
    "#                                                        'day_week']].groupby('customer_id').transform('nunique')\n",
    "\n",
    "#         candidates[i]['max_number_ses'] = candidates[i]['max_number_ses'].fillna(0)\n",
    "#         candidates[i]['num_active_weeks'] = candidates[i]['num_active_weeks'].fillna(-1)\n",
    "#         candidates[i]['ses_per_7_day'] = candidates[i]['max_number_ses'] / candidates[i]['num_active_weeks']\n",
    "#         candidates[i] = candidates[i].drop(['day_week', 't_dat_new'], axis=1)\n",
    "        "
   ]
  },
  {
   "cell_type": "markdown",
   "metadata": {},
   "source": [
    "Merge user and item embeddings"
   ]
  },
  {
   "cell_type": "code",
   "execution_count": 30,
   "metadata": {},
   "outputs": [
    {
     "name": "stderr",
     "output_type": "stream",
     "text": [
      "100%|██████████| 9919/9919 [00:20<00:00, 482.32it/s]\n",
      "100%|██████████| 505/505 [00:01<00:00, 466.07it/s]\n",
      "100%|██████████| 339/339 [00:00<00:00, 462.79it/s]\n",
      "100%|██████████| 463/463 [00:00<00:00, 469.23it/s]\n",
      "100%|██████████| 512/512 [00:01<00:00, 471.49it/s]\n",
      "100%|██████████| 321/321 [00:00<00:00, 470.98it/s]\n",
      "100%|██████████| 147/147 [00:00<00:00, 424.59it/s]\n",
      "100%|██████████| 117/117 [00:00<00:00, 400.42it/s]\n"
     ]
    },
    {
     "data": {
      "text/plain": [
       "0"
      ]
     },
     "execution_count": 30,
     "metadata": {},
     "output_type": "execute_result"
    }
   ],
   "source": [
    "# #* embedding from DSSM model\n",
    "# dssm_user_embd = np.load(data_dir / \"external/dssm_user_embd.npy\", allow_pickle=True)\n",
    "# dssm_item_embd = np.load(data_dir / \"external/dssm_item_embd.npy\", allow_pickle=True)\n",
    "\n",
    "# for i in range(WEEK_NUM):\n",
    "#     if i not in candidates:\n",
    "#         continue\n",
    "#     tmp = candidates[i]\n",
    "#     sim = np.zeros(tmp.shape[0])\n",
    "#     batch_size = 10000\n",
    "#     for batch in tqdm(range(0, tmp.shape[0], batch_size)):\n",
    "#         tmp_users = tmp.loc[batch : batch + batch_size - 1, 'customer_id'].values-1\n",
    "#         tmp_items = tmp.loc[batch : batch + batch_size - 1, 'article_id'].values-1\n",
    "#         tmp_user_embd = np.expand_dims(dssm_user_embd[tmp_users],1) # (batch_size, 1, dim)\n",
    "#         tmp_item_embd = np.expand_dims(dssm_item_embd[tmp_items],2) # (batch_size, dim, 1)\n",
    "#         tmp_sim = np.einsum('ijk,ikj->ij',tmp_user_embd,tmp_item_embd)\n",
    "#         sim[batch : batch + batch_size] = tmp_sim.reshape(-1)\n",
    "        \n",
    "#     tmp[\"dssm_similarity\"] = sim\n",
    "#     candidates[i] = tmp\n",
    "\n",
    "# del dssm_user_embd, dssm_item_embd\n",
    "# gc.collect()"
   ]
  },
  {
   "cell_type": "code",
   "execution_count": 31,
   "metadata": {
    "colab": {
     "base_uri": "https://localhost:8080/"
    },
    "executionInfo": {
     "elapsed": 115102,
     "status": "ok",
     "timestamp": 1650813553563,
     "user": {
      "displayName": "WP Zhang",
      "userId": "08181056311681578219"
     },
     "user_tz": 240
    },
    "id": "sWyKQBAt3x--",
    "outputId": "f37b52b7-ee90-45f7-a24a-68ddaf23b95f"
   },
   "outputs": [
    {
     "name": "stderr",
     "output_type": "stream",
     "text": [
      "100%|██████████| 9919/9919 [00:20<00:00, 474.88it/s]\n",
      "100%|██████████| 505/505 [00:01<00:00, 468.51it/s]\n",
      "100%|██████████| 339/339 [00:00<00:00, 403.23it/s]\n",
      "100%|██████████| 463/463 [00:01<00:00, 413.29it/s]\n",
      "100%|██████████| 512/512 [00:01<00:00, 409.06it/s]\n",
      "100%|██████████| 321/321 [00:00<00:00, 415.82it/s]\n",
      "100%|██████████| 147/147 [00:00<00:00, 381.24it/s]\n",
      "100%|██████████| 117/117 [00:00<00:00, 355.54it/s]\n"
     ]
    },
    {
     "data": {
      "text/plain": [
       "0"
      ]
     },
     "execution_count": 31,
     "metadata": {},
     "output_type": "execute_result"
    }
   ],
   "source": [
    "# # * embedding from YouTubeDNN model\n",
    "# yt_user_embd = np.load(data_dir / \"external/yt_user_embd.npy\", allow_pickle=True)\n",
    "# yt_item_embd = np.load(data_dir / \"external/yt_item_embd.npy\", allow_pickle=True)\n",
    "\n",
    "# for i in range(WEEK_NUM):\n",
    "#     if i not in candidates:\n",
    "#         continue\n",
    "#     tmp = candidates[i]\n",
    "#     sim = np.zeros(tmp.shape[0])\n",
    "#     batch_size = 10000\n",
    "#     for batch in tqdm(range(0, tmp.shape[0], batch_size)):\n",
    "#         tmp_users = tmp.loc[batch : batch + batch_size - 1, 'customer_id'].values-1\n",
    "#         tmp_items = tmp.loc[batch : batch + batch_size - 1, 'article_id'].values-1\n",
    "#         tmp_user_embd = np.expand_dims(yt_user_embd[tmp_users],1) # (batch_size, 1, dim)\n",
    "#         tmp_item_embd = np.expand_dims(yt_item_embd[tmp_items],2) # (batch_size, dim, 1)\n",
    "#         tmp_sim = np.einsum('ijk,ikj->ij',tmp_user_embd,tmp_item_embd)\n",
    "#         sim[batch : batch + batch_size] = tmp_sim.reshape(-1)\n",
    "        \n",
    "#     tmp[\"yt_similarity\"] = sim\n",
    "#     # tmp[\"yt_similarity_cos\"] = cos_sim\n",
    "#     candidates[i] = tmp\n",
    "\n",
    "# del yt_user_embd, yt_item_embd\n",
    "# gc.collect()"
   ]
  },
  {
   "cell_type": "code",
   "execution_count": 32,
   "metadata": {
    "scrolled": true
   },
   "outputs": [],
   "source": [
    "# def merge_new_groupings(trans, week_num, candidates):\n",
    "    \n",
    "#     left_cols = ['t_dat', 'week', 'article_id', 'customer_id', 'age_bucket', 'item_sale_by_channel',\n",
    "#                 'pro_sale_by_channel', 'item_sale_uni_by_channel',\n",
    "#                 'pro_sale_uni_by_channel', 'item_sale_ratio_by_channel',\n",
    "#                 'item_sale_uni_ratio_by_channel', 'item_sale_by_age', 'pro_sale_by_age',\n",
    "#                 'item_sale_uni_by_age', 'pro_sale_uni_by_age', 'item_sale_ratio_by_age',\n",
    "#                 'item_sale_uni_ratio_by_age']\n",
    "    \n",
    "#     trans = trans[left_cols].sort_values(by=[\"t_dat\", \"customer_id\"]).reset_index(drop=True)\n",
    "#     \n",
    "    trans_info = (\n",
    "#         trans[trans[\"week\"] > week_num]\n",
    "#         .groupby([\"article_id\"], as_index=False)\n",
    "#         .last()\n",
    "#         .drop(columns=[\"customer_id\"])\n",
    "#     )\n",
    "\n",
    "#     trans_info = (\n",
    "#         trans[trans[\"week\"] == week_num + 1]\n",
    "#         .sort_values(by=[\"t_dat\", \"customer_id\"])\n",
    "#         .reset_index(drop=True)\n",
    "#         .groupby([\"week\", \"article_id\"], as_index=False)\n",
    "#         .last()\n",
    "#         .drop(columns=[\"customer_id\"])\n",
    "#     )\n",
    "\n",
    "#     trans_info[\"week\"] = week_num\n",
    "#     trans_info, _ = reduce_mem_usage(trans_info)\n",
    "\n",
    "#     candidates = candidates.merge(trans_info.drop(['t_dat', 'week'], axis=1), on=\"article_id\", how=\"left\")\n",
    "    \n",
    "#     candidates, _ = reduce_mem_usage(candidates)\n",
    "\n",
    "#     return candidates"
   ]
  },
  {
   "cell_type": "code",
   "execution_count": 33,
   "metadata": {
    "scrolled": false
   },
   "outputs": [],
   "source": [
    "## for i in tqdm(range(WEEK_NUM)):\n",
    "##     if i in candidates:\n",
    "##         candidates[i] = merge_new_groupings(data[\"inter\"], i, candidates[i])"
   ]
  },
  {
   "cell_type": "markdown",
   "metadata": {},
   "source": [
    "Save results"
   ]
  },
  {
   "cell_type": "code",
   "execution_count": 34,
   "metadata": {
    "scrolled": true
   },
   "outputs": [],
   "source": [
    "## for i in tqdm(range(WEEK_NUM)):\n",
    "##     if i in candidates:\n",
    "##         candidates[i] = candidates[i].drop(['t_dat_y', 'week_y'], axis=1)\n",
    "##         candidates[i] = candidates[i].rename(columns={'t_dat_x':'t_dat', 'week_x':'week'})"
   ]
  },
  {
   "cell_type": "code",
   "execution_count": 35,
   "metadata": {
    "executionInfo": {
     "elapsed": 4989,
     "status": "ok",
     "timestamp": 1650813558538,
     "user": {
      "displayName": "WP Zhang",
      "userId": "08181056311681578219"
     },
     "user_tz": 240
    },
    "id": "GJh5ByW6dtIq"
   },
   "outputs": [
    {
     "name": "stderr",
     "output_type": "stream",
     "text": [
      "100%|██████████| 8/8 [02:52<00:00, 21.59s/it] \n"
     ]
    }
   ],
   "source": [
    "# for i in tqdm(candidates.keys()):\n",
    "#     candidates[i].to_parquet(data_dir/\"interim\"/VERSION_NAME/f\"week{i}_candidate_full.pqt\")"
   ]
  },
  {
   "cell_type": "code",
   "execution_count": 37,
   "metadata": {},
   "outputs": [],
   "source": [
    "# article_cluster = pd.read_parquet(data_dir/'articles_new.parquet')\n",
    "# # https://www.kaggle.com/code/beezus666/k-means-and-feature-importance-for-articles/notebook?scriptVersionId=94269787\n",
    "\n",
    "# itemid2idx = pickle.load(open(data_dir/\"index_id_map/item_id2index.pkl\", \"rb\"))\n",
    "# article_cluster['article_id'] = article_cluster['article_id'].map(itemid2idx)"
   ]
  },
  {
   "cell_type": "code",
   "execution_count": 39,
   "metadata": {
    "executionInfo": {
     "elapsed": 630,
     "status": "ok",
     "timestamp": 1650813559155,
     "user": {
      "displayName": "WP Zhang",
      "userId": "08181056311681578219"
     },
     "user_tz": 240
    },
    "id": "PsmE6rgjdtIr",
    "scrolled": true
   },
   "outputs": [
    {
     "name": "stderr",
     "output_type": "stream",
     "text": [
      "100%|██████████| 8/8 [09:12<00:00, 69.12s/it] \n"
     ]
    }
   ],
   "source": [
    "# candidates = {}\n",
    "# labels = {}\n",
    "# for i in tqdm(range(WEEK_NUM)):\n",
    "#     if i==0 and not TEST:\n",
    "#         continue\n",
    "#     candidates[i] = pd.read_parquet(data_dir/\"interim\"/VERSION_NAME/f\"week{i}_candidate_full.pqt\")\n",
    "#     candidates[i] = candidates[i].merge(article_cluster[['article_id','colour_group_name_cat_cat_code',\n",
    "#                                                          'department_no', 'ct']],  on='article_id', how='left')\n",
    "    \n",
    "#     candidates[i].to_parquet(data_dir/\"interim\"/VERSION_NAME/f\"week{i}_candidate_full.pqt\")\n",
    "\n",
    "#     if i != 0:\n",
    "#         tmp_label = pd.read_parquet(data_dir/\"interim\"/VERSION_NAME/f\"week{i}_label.pqt\")\n",
    "#         labels[i] = tmp_label\n",
    "#     else:\n",
    "#         labels[i] = None\n",
    "        \n",
    "# del article_cluster, itemid2idx"
   ]
  },
  {
   "cell_type": "markdown",
   "metadata": {
    "id": "7Zml-cxryoU_"
   },
   "source": [
    "## Ranking\n"
   ]
  },
  {
   "cell_type": "code",
   "execution_count": null,
   "metadata": {},
   "outputs": [],
   "source": [
    "candidates = {}\n",
    "labels = {}\n",
    "for i in tqdm(range(WEEK_NUM)):\n",
    "    if i==0 and not TEST:\n",
    "        continue\n",
    "    candidates[i] = pd.read_parquet(data_dir/\"interim\"/VERSION_NAME/f\"week{i}_candidate_full.pqt\")\n",
    "    \n",
    "    if i != 0:\n",
    "        tmp_label = pd.read_parquet(data_dir/\"interim\"/VERSION_NAME/f\"week{i}_label.pqt\")\n",
    "        labels[i] = tmp_label\n",
    "    else:\n",
    "        labels[i] = None"
   ]
  },
  {
   "cell_type": "code",
   "execution_count": 40,
   "metadata": {
    "executionInfo": {
     "elapsed": 368,
     "status": "ok",
     "timestamp": 1650814211010,
     "user": {
      "displayName": "WP Zhang",
      "userId": "08181056311681578219"
     },
     "user_tz": 240
    },
    "id": "xWqYwCbsdtIr"
   },
   "outputs": [],
   "source": [
    "feats = [\n",
    "    x\n",
    "    for x in candidates[1].columns\n",
    "    if x\n",
    "    not in [\n",
    "        \"label\",\n",
    "        \"t_dat\",\n",
    "#         \"sales_channel_id\",\n",
    "#         \"week\",\n",
    "#         \"age\",\n",
    "        \"WeekSaleTrend_item\",\n",
    "        \"WeekSaleTrend_pro\",\n",
    "        \"ThreeDaySaleTrend_item\",\n",
    "        \"ThreeDaySaleTrend_pro\",\n",
    "    ]\n",
    "]\n",
    "\n",
    "cat_features = [\n",
    "    \"FN\",\n",
    "    \"Active\",\n",
    "    \"club_member_status\",\n",
    "    \"fashion_news_frequency\",\n",
    "    \"product_type_no\",\n",
    "    \"product_group_name\",\n",
    "    \"graphical_appearance_no\",\n",
    "    \"colour_group_code\",\n",
    "    \"perceived_colour_value_id\",\n",
    "    \"perceived_colour_master_id\",\n",
    "    \"age_bucket\",\n",
    "    \"sales_channel_id\",\n",
    "    \"customer_id\",\n",
    "    \"article_id\",\n",
    "    \"product_code\",\n",
    "    \"week\",\n",
    "    \"year\",\n",
    "    \"month\",\n",
    "    \"is_month_end\",\n",
    "    \"is_month_start\",\n",
    "    \"colour_group_name_cat_cat_code\",\n",
    "    \"department_no\"\n",
    "]"
   ]
  },
  {
   "cell_type": "code",
   "execution_count": 41,
   "metadata": {
    "colab": {
     "base_uri": "https://localhost:8080/"
    },
    "executionInfo": {
     "elapsed": 2111,
     "status": "ok",
     "timestamp": 1650813561263,
     "user": {
      "displayName": "WP Zhang",
      "userId": "08181056311681578219"
     },
     "user_tz": 240
    },
    "id": "ypTW4qegdtIr",
    "outputId": "87be50cb-e296-41f8-8548-2f2f30bcf654"
   },
   "outputs": [
    {
     "name": "stderr",
     "output_type": "stream",
     "text": [
      "100%|██████████| 8/8 [00:21<00:00,  2.64s/it]\n",
      "100%|██████████| 8/8 [02:08<00:00, 16.11s/it] \n"
     ]
    }
   ],
   "source": [
    "# * convert categorical featues as `CategoricalDtype`\n",
    "cate_dict = {f:set() for f in cat_features}\n",
    "for i in tqdm(range(WEEK_NUM)):\n",
    "    if i==0 and not TEST:\n",
    "        continue\n",
    "    for feat in cat_features:\n",
    "        cate_dict[feat] = cate_dict[feat] | set(candidates[i][feat].unique())\n",
    "        \n",
    "for feat in cat_features:\n",
    "    cate_dict[feat] = CategoricalDtype(categories=cate_dict[feat])\n",
    "\n",
    "for i in tqdm(range(WEEK_NUM)):\n",
    "    if i == 0 and not TEST:\n",
    "        continue\n",
    "    for feat in cat_features:\n",
    "        candidates[i][feat] = candidates[i][feat].astype(cate_dict[feat])"
   ]
  },
  {
   "cell_type": "markdown",
   "metadata": {
    "id": "3RojtbK9GGQU"
   },
   "source": [
    "### Train\n"
   ]
  },
  {
   "cell_type": "code",
   "execution_count": 42,
   "metadata": {},
   "outputs": [],
   "source": [
    "full_data = pd.concat(candidates[i] for i in range(1, WEEK_NUM))"
   ]
  },
  {
   "cell_type": "code",
   "execution_count": 43,
   "metadata": {
    "executionInfo": {
     "elapsed": 556,
     "status": "ok",
     "timestamp": 1650813561816,
     "user": {
      "displayName": "WP Zhang",
      "userId": "08181056311681578219"
     },
     "user_tz": 240
    },
    "id": "PDttjG9-dtIs"
   },
   "outputs": [],
   "source": [
    "train = full_data[full_data[\"week\"] != 1]\n",
    "valid = full_data[full_data[\"week\"] == 1]\n",
    "\n",
    "del full_data"
   ]
  },
  {
   "cell_type": "code",
   "execution_count": 44,
   "metadata": {},
   "outputs": [],
   "source": [
    "# from sklearn.linear_model import LinearRegression\n",
    "# from sklearn.preprocessing import OneHotEncoder\n",
    "# from sklearn.preprocessing import LabelEncoder\n",
    "# from sklearn.model_selection import cross_val_predict\n",
    "# from sklearn.model_selection import KFold, StratifiedKFold\n",
    "\n",
    "# y_train_temp, y_val_temp = train[\"label\"], valid[\"label\"]\n",
    "\n",
    "# kf_lr = StratifiedKFold(n_splits = 5, shuffle=True, random_state = 42)\n",
    "\n",
    "# # for cc in tqdm(cat_features, disable = True):\n",
    "# for cc in tqdm(['customer_id', 'article_id'], disable = True):\n",
    "#     print(cc)\n",
    "#     le = LabelEncoder()\n",
    "#     le.fit(list(set(valid[cc]) | set(train[cc])))\n",
    "#     train[cc] = le.transform(train[[cc]])\n",
    "#     valid[cc] = le.transform(valid[[cc]])\n",
    "\n",
    "#     lr = LinearRegression(n_jobs=-1)\n",
    "#     ohe = OneHotEncoder(sparse=True)\n",
    "#     ohe.fit(np.arange(len(le.classes_)).reshape(-1, 1))\n",
    "#     x_ohe_train = ohe.transform(train[[cc]])\n",
    "#     x_ohe_val = ohe.transform(valid[[cc]])\n",
    "\n",
    "#     lr.fit(x_ohe_train, y_train_temp)\n",
    "\n",
    "#     train[cc+'_enc'] = cross_val_predict(lr, x_ohe_train, y_train_temp, cv=kf_lr, n_jobs=-1)\n",
    "#     valid[cc+'_enc'] = lr.predict(x_ohe_val)\n",
    "    \n",
    "#     del x_ohe_train, x_ohe_val\n",
    "    \n",
    "#     feats.append(cc+'_enc')"
   ]
  },
  {
   "cell_type": "code",
   "execution_count": 45,
   "metadata": {},
   "outputs": [],
   "source": [
    "# # * Remove customers with 0 hit_rate\n",
    "# null_candidates = None\n",
    "# for i in tqdm(range(WEEK_NUM)):\n",
    "#     if i==0:\n",
    "#         continue\n",
    "#     tmp = pd.read_parquet(data_dir/\"interim\"/\"v1\"/f\"week{i}_candidate.pqt\")\n",
    "#     tmp = tmp.groupby(\"customer_id\")['hit_rate'].sum().reset_index()\n",
    "#     tmp = tmp.loc[tmp['hit_rate']==0, ['customer_id']]\n",
    "#     tmp['week'] = i\n",
    "#     null_candidates = pd.concat([null_candidates, tmp], ignore_index=True)\n",
    "\n",
    "# null_candidates['remove'] = 1\n",
    "# train = pd.merge(train, null_candidates, on=['customer_id','week'], how='left')\n",
    "# train = train[train['remove']!=1]\n",
    "# del train['remove']\n",
    "# train['customer_id'] = train['customer_id'].astype(cate_dict['customer_id'])"
   ]
  },
  {
   "cell_type": "code",
   "execution_count": 46,
   "metadata": {},
   "outputs": [],
   "source": [
    "train = train.sort_values(by=['week', 'customer_id'],ascending=True).reset_index(drop=True)"
   ]
  },
  {
   "cell_type": "code",
   "execution_count": 47,
   "metadata": {},
   "outputs": [
    {
     "data": {
      "text/plain": [
       "0.9945291351443544"
      ]
     },
     "execution_count": 47,
     "metadata": {},
     "output_type": "execute_result"
    }
   ],
   "source": [
    "sum(train['label']==0) / len(train)\n",
    "# 0.9946384702188372 4-week\n",
    "# 0.994541076811467 4-week remove all-negative customer"
   ]
  },
  {
   "cell_type": "code",
   "execution_count": 48,
   "metadata": {},
   "outputs": [],
   "source": [
    "# valid = candidates[1]\n",
    "valid = valid.sort_values(by=['customer_id'],ascending=True).reset_index(drop=True)"
   ]
  },
  {
   "cell_type": "code",
   "execution_count": 49,
   "metadata": {
    "executionInfo": {
     "elapsed": 491,
     "status": "ok",
     "timestamp": 1650813562305,
     "user": {
      "displayName": "WP Zhang",
      "userId": "08181056311681578219"
     },
     "user_tz": 240
    },
    "id": "aOKvE9WZdtIt"
   },
   "outputs": [],
   "source": [
    "train_group = train[[\"customer_id\", \"article_id\", \"week\"]]\n",
    "train_group = train_group.astype(\"int\")\n",
    "train_group = train_group.groupby([\"week\",\"customer_id\"])['article_id'].count().values\n",
    "\n",
    "valid_group = valid[[\"customer_id\", \"article_id\"]]\n",
    "valid_group = valid_group.astype(\"int\")\n",
    "valid_group = valid_group.groupby([\"customer_id\"])['article_id'].count().values"
   ]
  },
  {
   "cell_type": "code",
   "execution_count": 50,
   "metadata": {
    "executionInfo": {
     "elapsed": 5,
     "status": "ok",
     "timestamp": 1650813561264,
     "user": {
      "displayName": "WP Zhang",
      "userId": "08181056311681578219"
     },
     "user_tz": 240
    },
    "id": "nTm9bz6vR6T4"
   },
   "outputs": [],
   "source": [
    "params = {\n",
    "    \"objective\": \"lambdarank\",\n",
    "    \"boosting_type\": \"gbdt\",\n",
    "    \"metric\": \"map\",\n",
    "    \"max_depth\": 8,\n",
    "    \"num_leaves\": 128,\n",
    "    \"learning_rate\": 0.01,\n",
    "    \"verbose\": -1,\n",
    "    \"eval_at\": 12,\n",
    "}\n",
    "\n",
    "# params = {\n",
    "#     \"objective\": \"binary\",\n",
    "#     \"boosting_type\": \"gbdt\",\n",
    "#     \"metric\": \"auc\",\n",
    "#     \"max_depth\": -1,\n",
    "#     \"num_leaves\": 128,\n",
    "#     \"learning_rate\": 0.03,\n",
    "#     \"verbose\": -1,\n",
    "# }"
   ]
  },
  {
   "cell_type": "code",
   "execution_count": 51,
   "metadata": {},
   "outputs": [
    {
     "name": "stdout",
     "output_type": "stream",
     "text": [
      "Training until validation scores don't improve for 30 rounds\n",
      "[10]\tvalid_0's map@12: 0.76505\n",
      "[20]\tvalid_0's map@12: 0.765355\n",
      "[30]\tvalid_0's map@12: 0.765275\n",
      "[40]\tvalid_0's map@12: 0.765944\n",
      "[50]\tvalid_0's map@12: 0.766044\n",
      "[60]\tvalid_0's map@12: 0.766384\n",
      "[70]\tvalid_0's map@12: 0.766173\n",
      "[80]\tvalid_0's map@12: 0.76643\n",
      "[90]\tvalid_0's map@12: 0.76658\n",
      "[100]\tvalid_0's map@12: 0.766594\n",
      "[110]\tvalid_0's map@12: 0.766346\n",
      "[120]\tvalid_0's map@12: 0.766337\n",
      "[130]\tvalid_0's map@12: 0.766628\n",
      "[140]\tvalid_0's map@12: 0.766887\n",
      "[150]\tvalid_0's map@12: 0.766415\n",
      "[160]\tvalid_0's map@12: 0.766348\n",
      "Early stopping, best iteration is:\n",
      "[139]\tvalid_0's map@12: 0.766937\n"
     ]
    }
   ],
   "source": [
    "train_set = lgb.Dataset(\n",
    "    data=train[feats],\n",
    "    label=train[\"label\"],\n",
    "    group=train_group,\n",
    "    feature_name=feats,\n",
    "    categorical_feature=cat_features,\n",
    "    params=params,\n",
    ")\n",
    "\n",
    "valid_set = lgb.Dataset(\n",
    "    data=valid[feats],\n",
    "    label=valid[\"label\"],\n",
    "    group=valid_group,\n",
    "    feature_name=feats,\n",
    "    categorical_feature=cat_features,\n",
    "    params=params,\n",
    ")\n",
    "\n",
    "ranker = lgb.train(\n",
    "    params,\n",
    "    train_set,\n",
    "    num_boost_round=300,\n",
    "    valid_sets=[valid_set],\n",
    "    early_stopping_rounds=30,\n",
    "    verbose_eval=10\n",
    ")\n",
    "\n",
    "# 0.766223 6-week"
   ]
  },
  {
   "cell_type": "code",
   "execution_count": 52,
   "metadata": {
    "scrolled": true
   },
   "outputs": [
    {
     "data": {
      "text/plain": [
       "<Figure size 576x864 with 0 Axes>"
      ]
     },
     "execution_count": 52,
     "metadata": {},
     "output_type": "execute_result"
    },
    {
     "data": {
      "text/plain": [
       "<AxesSubplot:xlabel='importance', ylabel='feature'>"
      ]
     },
     "execution_count": 52,
     "metadata": {},
     "output_type": "execute_result"
    },
    {
     "data": {
      "image/png": "[encoded data removed]",
      "text/plain": [
       "<Figure size 576x864 with 1 Axes>"
      ]
     },
     "metadata": {
      "needs_background": "light"
     },
     "output_type": "display_data"
    }
   ],
   "source": [
    "feat_importance = pd.DataFrame(\n",
    "    {\"feature\": feats, \"importance\": ranker.feature_importance()}\n",
    ").sort_values(by=\"importance\", ascending=False)\n",
    "plt.figure(figsize=(8, 12))\n",
    "sns.barplot(y=\"feature\", x=\"importance\", data=feat_importance)"
   ]
  },
  {
   "cell_type": "code",
   "execution_count": null,
   "metadata": {
    "scrolled": true
   },
   "outputs": [],
   "source": [
    "# ranker.save_model(data_dir / \"interim/lgb_ranker.model\", num_iteration=ranker.best_iteration)"
   ]
  },
  {
   "cell_type": "code",
   "execution_count": null,
   "metadata": {
    "executionInfo": {
     "elapsed": 321,
     "status": "ok",
     "timestamp": 1650814242111,
     "user": {
      "displayName": "WP Zhang",
      "userId": "08181056311681578219"
     },
     "user_tz": 240
    },
    "id": "hl3DPTaBGGQV"
   },
   "outputs": [],
   "source": [
    "# ranker = lgb.Booster(model_file=data_dir / \"interim/lgb_ranker.model\")"
   ]
  },
  {
   "cell_type": "markdown",
   "metadata": {
    "id": "KbFdGrYRdtIt"
   },
   "source": [
    "### Inference"
   ]
  },
  {
   "cell_type": "markdown",
   "metadata": {
    "id": "lLWs-Z5CGGQV"
   },
   "source": [
    "### Validate"
   ]
  },
  {
   "cell_type": "code",
   "execution_count": 53,
   "metadata": {
    "executionInfo": {
     "elapsed": 617,
     "status": "ok",
     "timestamp": 1650814266776,
     "user": {
      "displayName": "WP Zhang",
      "userId": "08181056311681578219"
     },
     "user_tz": 240
    },
    "id": "SSpgfI0mdtIv"
   },
   "outputs": [],
   "source": [
    "val_candidates = valid.reset_index(drop=True)"
   ]
  },
  {
   "cell_type": "code",
   "execution_count": 54,
   "metadata": {
    "colab": {
     "base_uri": "https://localhost:8080/"
    },
    "executionInfo": {
     "elapsed": 26907,
     "status": "ok",
     "timestamp": 1650814293681,
     "user": {
      "displayName": "WP Zhang",
      "userId": "08181056311681578219"
     },
     "user_tz": 240
    },
    "id": "G3kDW_-BGGQV",
    "outputId": "493c337e-062a-4fda-f209-4eae217902e9"
   },
   "outputs": [
    {
     "name": "stderr",
     "output_type": "stream",
     "text": [
      "100%|██████████| 2/2 [00:14<00:00,  7.20s/it]\n"
     ]
    }
   ],
   "source": [
    "probs = np.zeros(val_candidates.shape[0])\n",
    "batch_size = 5_000_000\n",
    "for batch in tqdm(range(0, val_candidates.shape[0], batch_size)):\n",
    "    outputs = ranker.predict(val_candidates.loc[batch : batch + batch_size - 1, feats])\n",
    "    probs[batch : batch + batch_size] = outputs"
   ]
  },
  {
   "cell_type": "code",
   "execution_count": 55,
   "metadata": {
    "executionInfo": {
     "elapsed": 16,
     "status": "ok",
     "timestamp": 1650814293681,
     "user": {
      "displayName": "WP Zhang",
      "userId": "08181056311681578219"
     },
     "user_tz": 240
    },
    "id": "6y8vqdyrGGQW"
   },
   "outputs": [],
   "source": [
    "val_candidates[\"prob\"] = probs"
   ]
  },
  {
   "cell_type": "code",
   "execution_count": 56,
   "metadata": {},
   "outputs": [],
   "source": [
    "# val_candidates['customer_id'] = candidates[1]['customer_id']\n",
    "# val_candidates['article_id'] = candidates[1]['article_id']"
   ]
  },
  {
   "cell_type": "code",
   "execution_count": 57,
   "metadata": {
    "executionInfo": {
     "elapsed": 497,
     "status": "ok",
     "timestamp": 1650814294163,
     "user": {
      "displayName": "WP Zhang",
      "userId": "08181056311681578219"
     },
     "user_tz": 240
    },
    "id": "Tbjp5JrcMUVa"
   },
   "outputs": [],
   "source": [
    "pred_lgb = val_candidates[['customer_id','article_id','prob']]\n",
    "pred_lgb = pred_lgb.sort_values(by=[\"customer_id\",\"prob\"], ascending=False).reset_index(drop=True)\n",
    "pred_lgb.rename(columns={'article_id':'prediction'}, inplace=True)"
   ]
  },
  {
   "cell_type": "code",
   "execution_count": 58,
   "metadata": {},
   "outputs": [],
   "source": [
    "pred_lgb = pred_lgb.drop_duplicates(['customer_id', 'prediction'], keep='first')"
   ]
  },
  {
   "cell_type": "code",
   "execution_count": 59,
   "metadata": {
    "executionInfo": {
     "elapsed": 1598,
     "status": "ok",
     "timestamp": 1650814295756,
     "user": {
      "displayName": "WP Zhang",
      "userId": "08181056311681578219"
     },
     "user_tz": 240
    },
    "id": "ylrFuWBvdtIv"
   },
   "outputs": [
    {
     "name": "stderr",
     "output_type": "stream",
     "text": [
      "100%|██████████| 1371980/1371980 [03:54<00:00, 5840.67it/s]\n"
     ]
    }
   ],
   "source": [
    "pred_lgb = pred_lgb.groupby(\"customer_id\")[\"prediction\"].progress_apply(list).reset_index()"
   ]
  },
  {
   "cell_type": "code",
   "execution_count": 60,
   "metadata": {
    "executionInfo": {
     "elapsed": 4,
     "status": "ok",
     "timestamp": 1650814295757,
     "user": {
      "displayName": "WP Zhang",
      "userId": "08181056311681578219"
     },
     "user_tz": 240
    },
    "id": "G1Qh3k2aGGQW"
   },
   "outputs": [],
   "source": [
    "label = labels[1]\n",
    "label = pd.merge(label, pred_lgb, on=\"customer_id\", how=\"left\")"
   ]
  },
  {
   "cell_type": "code",
   "execution_count": 61,
   "metadata": {
    "colab": {
     "base_uri": "https://localhost:8080/"
    },
    "executionInfo": {
     "elapsed": 3024,
     "status": "ok",
     "timestamp": 1650814298777,
     "user": {
      "displayName": "WP Zhang",
      "userId": "08181056311681578219"
     },
     "user_tz": 240
    },
    "id": "XrFnQ2evGGQW",
    "outputId": "d0109654-6060-47b5-d3fc-d60814d95243"
   },
   "outputs": [
    {
     "data": {
      "text/plain": [
       "0.029402247883421353"
      ]
     },
     "execution_count": 61,
     "metadata": {},
     "output_type": "execute_result"
    }
   ],
   "source": [
    "map_at_k(label[\"article_id\"], label[\"prediction\"], k=12)\n",
    "\n",
    "# 0.02820525160663368 1-week add normalization\n",
    "# 0.028936597823123886 4-week 0.0274\n",
    "# 0.029111989281461418 4-week drop full-negative customer\n",
    "# 0.029165419468984943 3-week 0.0270\n",
    "# 0.028297597743100006 6 week 0.0250\n",
    "\n",
    "# 0.02863472423766257 4 week\n",
    "# 0.02882844782917304 4 week\n",
    "# 0.028909064246733205 4 week\n",
    "# 0.029366338019601947 4 week # 0.0268\n",
    "\n",
    "# 0.029402247883421353 6 week"
   ]
  },
  {
   "cell_type": "code",
   "execution_count": null,
   "metadata": {},
   "outputs": [],
   "source": []
  },
  {
   "cell_type": "markdown",
   "metadata": {},
   "source": [
    "### Test"
   ]
  },
  {
   "cell_type": "code",
   "execution_count": 62,
   "metadata": {
    "executionInfo": {
     "elapsed": 617,
     "status": "ok",
     "timestamp": 1650814266776,
     "user": {
      "displayName": "WP Zhang",
      "userId": "08181056311681578219"
     },
     "user_tz": 240
    },
    "id": "SSpgfI0mdtIv"
   },
   "outputs": [],
   "source": [
    "test_candidates = candidates[0].reset_index(drop=True)"
   ]
  },
  {
   "cell_type": "code",
   "execution_count": 63,
   "metadata": {},
   "outputs": [],
   "source": [
    "# As the threshold is set mannually when generating candidates for test set, we need to change the name of the columns\n",
    "test_candidates.rename(columns = {\n",
    "    'SaleTrend_7_top4':'SaleTrend_7_top50', \n",
    "    'TimeHistoryDecay_3_top31':'TimeHistoryDecay_3_top50',\n",
    "    'TimeHistoryDecay_7_top24':'TimeHistoryDecay_7_top50',\n",
    "    'TimeHistory_25_1':'TimeHistory_50_1', \n",
    "    'TimeHistory_30_2':'TimeHistory_50_2', \n",
    "    'UGSaleTrend_3_top2':'UGSaleTrend_7_top50', \n",
    "    'UGTimeHistory_age_bins_351':'UGTimeHistory_age_bins_501',\n",
    "    'UGTimeHistory_age_bins_38.52':'UGTimeHistory_age_bins_502'\n",
    "},inplace=True)"
   ]
  },
  {
   "cell_type": "code",
   "execution_count": 64,
   "metadata": {
    "colab": {
     "base_uri": "https://localhost:8080/"
    },
    "executionInfo": {
     "elapsed": 26907,
     "status": "ok",
     "timestamp": 1650814293681,
     "user": {
      "displayName": "WP Zhang",
      "userId": "08181056311681578219"
     },
     "user_tz": 240
    },
    "id": "G3kDW_-BGGQV",
    "outputId": "493c337e-062a-4fda-f209-4eae217902e9"
   },
   "outputs": [
    {
     "name": "stderr",
     "output_type": "stream",
     "text": [
      "100%|██████████| 20/20 [04:12<00:00, 12.61s/it]\n"
     ]
    }
   ],
   "source": [
    "probs = np.zeros(test_candidates.shape[0])\n",
    "batch_size = 5_000_000\n",
    "for batch in tqdm(range(0, test_candidates.shape[0], batch_size)):\n",
    "    outputs = ranker.predict(test_candidates.loc[batch : batch + batch_size - 1, feats])\n",
    "    probs[batch : batch + batch_size] = outputs"
   ]
  },
  {
   "cell_type": "code",
   "execution_count": 65,
   "metadata": {
    "executionInfo": {
     "elapsed": 16,
     "status": "ok",
     "timestamp": 1650814293681,
     "user": {
      "displayName": "WP Zhang",
      "userId": "08181056311681578219"
     },
     "user_tz": 240
    },
    "id": "6y8vqdyrGGQW"
   },
   "outputs": [],
   "source": [
    "test_candidates[\"prob\"] = probs"
   ]
  },
  {
   "cell_type": "code",
   "execution_count": 66,
   "metadata": {
    "executionInfo": {
     "elapsed": 497,
     "status": "ok",
     "timestamp": 1650814294163,
     "user": {
      "displayName": "WP Zhang",
      "userId": "08181056311681578219"
     },
     "user_tz": 240
    },
    "id": "Tbjp5JrcMUVa"
   },
   "outputs": [],
   "source": [
    "pred_lgb = test_candidates[['customer_id','article_id','prob']]\n",
    "pred_lgb = pred_lgb.sort_values(by=[\"customer_id\",\"prob\"], ascending=False).reset_index(drop=True)\n",
    "pred_lgb.rename(columns={'article_id':'prediction'}, inplace=True)"
   ]
  },
  {
   "cell_type": "code",
   "execution_count": 67,
   "metadata": {},
   "outputs": [],
   "source": [
    "idx2uid = pickle.load(open(data_dir/\"index_id_map/user_index2id.pkl\", \"rb\"))\n",
    "idx2iid = pickle.load(open(data_dir/\"index_id_map/item_index2id.pkl\", \"rb\"))"
   ]
  },
  {
   "cell_type": "code",
   "execution_count": 68,
   "metadata": {},
   "outputs": [
    {
     "name": "stderr",
     "output_type": "stream",
     "text": [
      "  0%|          | 77597/99187505 [00:00<10:52, 151829.88it/s]\n",
      "100%|██████████| 1371980/1371980 [02:49<00:00, 8110.56it/s]\n",
      "100%|██████████| 1371980/1371980 [00:02<00:00, 474615.61it/s]\n"
     ]
    }
   ],
   "source": [
    "pred_lgb['prediction'] = pred_lgb['prediction'].map(idx2iid).progress_apply(lambda x:'0'+str(x))\n",
    "pred_lgb = pred_lgb.groupby('customer_id')['prediction'].progress_apply(list).reset_index()\n",
    "pred_lgb['prediction'] = pred_lgb['prediction'].progress_apply(lambda x: ' '.join(x[:12]))"
   ]
  },
  {
   "cell_type": "code",
   "execution_count": 69,
   "metadata": {},
   "outputs": [],
   "source": [
    "uid2idx = pickle.load(open(data_dir/\"index_id_map/user_id2index.pkl\", \"rb\"))\n",
    "submission = pd.read_csv(data_dir/\"raw\"/'sample_submission.csv')\n",
    "submission['customer_id'] = submission['customer_id'].map(uid2idx)"
   ]
  },
  {
   "cell_type": "code",
   "execution_count": 70,
   "metadata": {},
   "outputs": [],
   "source": [
    "del submission['prediction']\n",
    "submission = submission.merge(pred_lgb, on='customer_id', how='left')\n",
    "submission['customer_id'] = submission['customer_id'].map(idx2uid)"
   ]
  },
  {
   "cell_type": "code",
   "execution_count": 71,
   "metadata": {},
   "outputs": [],
   "source": [
    "submission.to_csv('submission.csv.gz', index=False)"
   ]
  },
  {
   "cell_type": "code",
   "execution_count": 72,
   "metadata": {},
   "outputs": [
    {
     "data": {
      "text/html": [
       "<div>\n",
       "<style scoped>\n",
       "    .dataframe tbody tr th:only-of-type {\n",
       "        vertical-align: middle;\n",
       "    }\n",
       "\n",
       "    .dataframe tbody tr th {\n",
       "        vertical-align: top;\n",
       "    }\n",
       "\n",
       "    .dataframe thead th {\n",
       "        text-align: right;\n",
       "    }\n",
       "</style>\n",
       "<table border=\"1\" class=\"dataframe\">\n",
       "  <thead>\n",
       "    <tr style=\"text-align: right;\">\n",
       "      <th></th>\n",
       "      <th>customer_id</th>\n",
       "      <th>prediction</th>\n",
       "    </tr>\n",
       "  </thead>\n",
       "  <tbody>\n",
       "    <tr>\n",
       "      <th>0</th>\n",
       "      <td>00000dbacae5abe5e23885899a1fa44253a17956c6d1c3...</td>\n",
       "      <td>0568601043 0779781015 0158340001 0918522001 05...</td>\n",
       "    </tr>\n",
       "    <tr>\n",
       "      <th>1</th>\n",
       "      <td>0000423b00ade91418cceaf3b26c6af3dd342b51fd051e...</td>\n",
       "      <td>0918522001 0448509014 0918292001 0866731001 09...</td>\n",
       "    </tr>\n",
       "    <tr>\n",
       "      <th>2</th>\n",
       "      <td>000058a12d5b43e67d225668fa1f8d618c13dc232df0ca...</td>\n",
       "      <td>0794321007 0805000001 0918522001 0448509014 06...</td>\n",
       "    </tr>\n",
       "    <tr>\n",
       "      <th>3</th>\n",
       "      <td>00005ca1c9ed5f5146b52ac8639a40ca9d57aeff4d1bd2...</td>\n",
       "      <td>0918522001 0158340001 0751471043 0915529003 07...</td>\n",
       "    </tr>\n",
       "    <tr>\n",
       "      <th>4</th>\n",
       "      <td>00006413d8573cd20ed7128e53b7b13819fe5cfc2d801f...</td>\n",
       "      <td>0896152001 0791587001 0927530006 0852584001 07...</td>\n",
       "    </tr>\n",
       "  </tbody>\n",
       "</table>\n",
       "</div>"
      ],
      "text/plain": [
       "                                         customer_id  \\\n",
       "0  00000dbacae5abe5e23885899a1fa44253a17956c6d1c3...   \n",
       "1  0000423b00ade91418cceaf3b26c6af3dd342b51fd051e...   \n",
       "2  000058a12d5b43e67d225668fa1f8d618c13dc232df0ca...   \n",
       "3  00005ca1c9ed5f5146b52ac8639a40ca9d57aeff4d1bd2...   \n",
       "4  00006413d8573cd20ed7128e53b7b13819fe5cfc2d801f...   \n",
       "\n",
       "                                          prediction  \n",
       "0  0568601043 0779781015 0158340001 0918522001 05...  \n",
       "1  0918522001 0448509014 0918292001 0866731001 09...  \n",
       "2  0794321007 0805000001 0918522001 0448509014 06...  \n",
       "3  0918522001 0158340001 0751471043 0915529003 07...  \n",
       "4  0896152001 0791587001 0927530006 0852584001 07...  "
      ]
     },
     "execution_count": 72,
     "metadata": {},
     "output_type": "execute_result"
    }
   ],
   "source": [
    "submission.head()"
   ]
  },
  {
   "cell_type": "markdown",
   "metadata": {},
   "source": [
    "### Submit"
   ]
  },
  {
   "cell_type": "code",
   "execution_count": 73,
   "metadata": {},
   "outputs": [],
   "source": [
    "submit_msg = \"\"\"\n",
    "0.029402247883421353 6-week\n",
    "---\n",
    "OrderHistory(train, 3),\n",
    "OrderHistory(train, 7),\n",
    "OrderHistoryDecay(train, 3, n=50),\n",
    "OrderHistoryDecay(train, 7, n=50),\n",
    "ItemPair(OrderHistory(train, 3).retrieve(), name='1'),\n",
    "ItemPair(OrderHistory(train, 7).retrieve(), name='2'),\n",
    "ItemPair(OrderHistoryDecay(train, 3, n=50).retrieve(), name='3'),\n",
    "ItemPair(OrderHistoryDecay(train, 7, n=50).retrieve(), name='4'),\n",
    "UserGroupTimeHistory(data, customer_list, last_week, ['age_bins'], n=50 if week!=0 else 15, name='1'),\n",
    "UserGroupTimeHistory(data, customer_list, last_3days, ['age_bins'], n=50 if week!=0 else 20.5, name='2'),\n",
    "UserGroupSaleTrend(data, customer_list, train, ['age_bins'], 7, n=50 if week!=0 else 2),\n",
    "TimeHistory(customer_list, last_week, n=50 if week!=0 else 9, name='1'),\n",
    "TimeHistory(customer_list, last_3days, n=50 if week!=0 else 16, name='2'),\n",
    "TimeHistoryDecay(customer_list, train, 3, n=50 if week!=0 else 12),\n",
    "TimeHistoryDecay(customer_list, train, 7, n=50 if week!=0 else 8),\n",
    "SaleTrend(customer_list, train, 7, n=50 if week!=0 else 2)\n",
    "---\n",
    "min_pos_rate = 0.005 new features\n",
    "pivot\n",
    "\"\"\""
   ]
  },
  {
   "cell_type": "code",
   "execution_count": 74,
   "metadata": {},
   "outputs": [
    {
     "data": {
      "text/plain": [
       "\"\\n0.029402247883421353 6-week\\n---\\nOrderHistory(train, 3),\\nOrderHistory(train, 7),\\nOrderHistoryDecay(train, 3, n=50),\\nOrderHistoryDecay(train, 7, n=50),\\nItemPair(OrderHistory(train, 3).retrieve(), name='1'),\\nItemPair(OrderHistory(train, 7).retrieve(), name='2'),\\nItemPair(OrderHistoryDecay(train, 3, n=50).retrieve(), name='3'),\\nItemPair(OrderHistoryDecay(train, 7, n=50).retrieve(), name='4'),\\nUserGroupTimeHistory(data, customer_list, last_week, ['age_bins'], n=50 if week!=0 else 15, name='1'),\\nUserGroupTimeHistory(data, customer_list, last_3days, ['age_bins'], n=50 if week!=0 else 20.5, name='2'),\\nUserGroupSaleTrend(data, customer_list, train, ['age_bins'], 7, n=50 if week!=0 else 2),\\nTimeHistory(customer_list, last_week, n=50 if week!=0 else 9, name='1'),\\nTimeHistory(customer_list, last_3days, n=50 if week!=0 else 16, name='2'),\\nTimeHistoryDecay(customer_list, train, 3, n=50 if week!=0 else 12),\\nTimeHistoryDecay(customer_list, train, 7, n=50 if week!=0 else 8),\\nSaleTrend(customer_list, train, 7, n=50 if week!=0 else 2)\\n---\\nmin_pos_rate = 0.005 new features\\npivot\\n\""
      ]
     },
     "execution_count": 74,
     "metadata": {},
     "output_type": "execute_result"
    }
   ],
   "source": [
    "submit_msg"
   ]
  },
  {
   "cell_type": "code",
   "execution_count": 75,
   "metadata": {},
   "outputs": [
    {
     "name": "stdout",
     "output_type": "stream",
     "text": [
      "Warning: Looks like you're using an outdated API Version, please consider updating (server 1.5.12 / client 1.5.6)\n",
      "100%|######################################| 69.4M/69.4M [00:03<00:00, 19.2MB/s]\n",
      "Successfully submitted to H&M Personalized Fashion Recommendations"
     ]
    }
   ],
   "source": [
    "! kaggle competitions submit -c h-and-m-personalized-fashion-recommendations -f \"submission.csv.gz\" -m '\\n0.029111989281461418 4-week drop full negative user\\n---\\nOrderHistory(train, 3),\\nOrderHistory(train, 7),\\nOrderHistoryDecay(train, 3, n=50),\\nOrderHistoryDecay(train, 7, n=50),\\nItemPair(OrderHistory(train, 3).retrieve(), name='1'),\\nItemPair(OrderHistory(train, 7).retrieve(), name='2'),\\nItemPair(OrderHistoryDecay(train, 3, n=50).retrieve(), name='3'),\\nItemPair(OrderHistoryDecay(train, 7, n=50).retrieve(), name='4'),\\nUserGroupTimeHistory(data, customer_list, last_week, ['age_bins'], n=50 if week!=0 else 15, name='1'),\\nUserGroupTimeHistory(data, customer_list, last_3days, ['age_bins'], n=50 if week!=0 else 20.5, name='2'),\\nUserGroupSaleTrend(data, customer_list, train, ['age_bins'], 7, n=50 if week!=0 else 2),\\nTimeHistory(customer_list, last_week, n=50 if week!=0 else 9, name='1'),\\nTimeHistory(customer_list, last_3days, n=50 if week!=0 else 16, name='2'),\\nTimeHistoryDecay(customer_list, train, 3, n=50 if week!=0 else 12),\\nTimeHistoryDecay(customer_list, train, 7, n=50 if week!=0 else 8),\\nSaleTrend(customer_list, train, 7, n=50 if week!=0 else 2)\\n---\\nmin_pos_rate = 0.006\\npivot\\n'\n"
   ]
  },
  {
   "cell_type": "code",
   "execution_count": null,
   "metadata": {},
   "outputs": [],
   "source": []
  }
 ],
 "metadata": {
  "colab": {
   "collapsed_sections": [
    "LX4M190s4pxo"
   ],
   "machine_shape": "hm",
   "name": "HandyRec_Seq_LGB_Week.ipynb",
   "provenance": []
  },
  "kernelspec": {
   "display_name": "Python 3",
   "language": "python",
   "name": "python3"
  },
  "language_info": {
   "codemirror_mode": {
    "name": "ipython",
    "version": 3
   },
   "file_extension": ".py",
   "mimetype": "text/x-python",
   "name": "python",
   "nbconvert_exporter": "python",
   "pygments_lexer": "ipython3",
   "version": "3.6.13"
  }
 },
 "nbformat": 4,
 "nbformat_minor": 1
}
