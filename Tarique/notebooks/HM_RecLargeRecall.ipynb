{
 "cells": [
  {
   "cell_type": "code",
   "execution_count": 5,
   "metadata": {
    "colab": {
     "base_uri": "https://localhost:8080/",
     "height": 504
    },
    "id": "Ej-kIjP5d_zw",
    "outputId": "54364178-d02c-4359-f91a-67038ffc0e93"
   },
   "outputs": [
    {
     "name": "stdout",
     "output_type": "stream",
     "text": [
      "Collecting lightgbm==3.3.2\n",
      "  Downloading lightgbm-3.3.2-py3-none-manylinux1_x86_64.whl (2.0 MB)\n",
      "\u001b[K     |████████████████████████████████| 2.0 MB 4.3 MB/s \n",
      "\u001b[?25hRequirement already satisfied: scikit-learn!=0.22.0 in /usr/local/lib/python3.7/dist-packages (from lightgbm==3.3.2) (1.0.2)\n",
      "Requirement already satisfied: wheel in /usr/local/lib/python3.7/dist-packages (from lightgbm==3.3.2) (0.37.1)\n",
      "Requirement already satisfied: scipy in /usr/local/lib/python3.7/dist-packages (from lightgbm==3.3.2) (1.4.1)\n",
      "Requirement already satisfied: numpy in /usr/local/lib/python3.7/dist-packages (from lightgbm==3.3.2) (1.21.6)\n",
      "Requirement already satisfied: threadpoolctl>=2.0.0 in /usr/local/lib/python3.7/dist-packages (from scikit-learn!=0.22.0->lightgbm==3.3.2) (3.1.0)\n",
      "Requirement already satisfied: joblib>=0.11 in /usr/local/lib/python3.7/dist-packages (from scikit-learn!=0.22.0->lightgbm==3.3.2) (1.1.0)\n",
      "Installing collected packages: lightgbm\n",
      "  Attempting uninstall: lightgbm\n",
      "    Found existing installation: lightgbm 2.2.3\n",
      "    Uninstalling lightgbm-2.2.3:\n",
      "      Successfully uninstalled lightgbm-2.2.3\n",
      "Successfully installed lightgbm-3.3.2\n"
     ]
    },
    {
     "data": {
      "application/vnd.colab-display-data+json": {
       "pip_warning": {
        "packages": [
         "lightgbm"
        ]
       }
      }
     },
     "metadata": {},
     "output_type": "display_data"
    },
    {
     "name": "stdout",
     "output_type": "stream",
     "text": [
      "Collecting implicit\n",
      "  Downloading implicit-0.5.2-cp37-cp37m-manylinux2014_x86_64.whl (18.5 MB)\n",
      "\u001b[K     |████████████████████████████████| 18.5 MB 3.9 MB/s \n",
      "\u001b[?25hRequirement already satisfied: numpy in /usr/local/lib/python3.7/dist-packages (from implicit) (1.21.6)\n",
      "Requirement already satisfied: tqdm>=4.27 in /usr/local/lib/python3.7/dist-packages (from implicit) (4.64.0)\n",
      "Requirement already satisfied: scipy>=0.16 in /usr/local/lib/python3.7/dist-packages (from implicit) (1.4.1)\n",
      "Installing collected packages: implicit\n",
      "Successfully installed implicit-0.5.2\n"
     ]
    }
   ],
   "source": [
    "%pip install -U lightgbm==3.3.2\n",
    "%pip install implicit"
   ]
  },
  {
   "cell_type": "code",
   "execution_count": 1,
   "metadata": {
    "colab": {
     "base_uri": "https://localhost:8080/"
    },
    "id": "N1ShD4QPyaSo",
    "outputId": "4d67ccd4-1d3c-4ad0-cf05-01b4e87fcd25"
   },
   "outputs": [
    {
     "name": "stdout",
     "output_type": "stream",
     "text": [
      "Drive already mounted at /content/drive; to attempt to forcibly remount, call drive.mount(\"/content/drive\", force_remount=True).\n"
     ]
    }
   ],
   "source": [
    "from google.colab import drive\n",
    "drive.mount('/content/drive')"
   ]
  },
  {
   "cell_type": "code",
   "execution_count": 2,
   "metadata": {
    "id": "gboISq82XUN1"
   },
   "outputs": [],
   "source": [
    "import pandas as pd\n",
    "from pandas.api.types import CategoricalDtype\n",
    "import numpy as np\n",
    "import seaborn as sns\n",
    "import matplotlib.pyplot as plt\n",
    "import lightgbm as lgb\n",
    "\n",
    "import pickle\n",
    "from tqdm import tqdm\n",
    "import gc\n",
    "from pathlib import Path"
   ]
  },
  {
   "cell_type": "code",
   "execution_count": 3,
   "metadata": {
    "id": "F6WO2VtEXefj"
   },
   "outputs": [],
   "source": [
    "import warnings\n",
    "import sys\n",
    "from IPython.core.interactiveshell import InteractiveShell\n",
    "\n",
    "warnings.filterwarnings(\"ignore\")\n",
    "sys.path.append(\"/content/drive/MyDrive/HM-new/\") # path to the `src`` folder\n",
    "InteractiveShell.ast_node_interactivity = \"all\"\n",
    "tqdm.pandas()"
   ]
  },
  {
   "cell_type": "code",
   "execution_count": 4,
   "metadata": {
    "id": "5ZHkDegnyFcl"
   },
   "outputs": [],
   "source": [
    "from src.data import DataHelper\n",
    "from src.data.metrics import map_at_k, hr_at_k, recall_at_k\n",
    "\n",
    "from src.retrieval.rules import (\n",
    "    OrderHistory,\n",
    "    ALS,\n",
    "    BPR,\n",
    "    UserGroupTimeHistory,\n",
    "    OrderHistoryDecay,\n",
    "    ItemPair,\n",
    "    TimeHistory,\n",
    "    ItemCF,\n",
    "    UserGroupItemCF\n",
    ")\n",
    "from src.retrieval.collector import RuleCollector\n",
    "\n",
    "from src.features import full_sale, week_sale, repurchase_ratio, popularity, period_sale\n",
    "\n",
    "from src.utils import (\n",
    "    calc_valid_date,\n",
    "    merge_week_data,\n",
    "    reduce_mem_usage,\n",
    "    calc_embd_similarity,\n",
    ")"
   ]
  },
  {
   "cell_type": "code",
   "execution_count": 5,
   "metadata": {
    "id": "siEeXUYUyFcn"
   },
   "outputs": [],
   "source": [
    "from sklearn.preprocessing import MinMaxScaler"
   ]
  },
  {
   "cell_type": "code",
   "execution_count": 6,
   "metadata": {
    "id": "5xR9epc0yFco"
   },
   "outputs": [],
   "source": [
    "data_dir = Path(\"/content/drive/MyDrive/HM-new/data/\")\n",
    "model_dir = Path(\"/content/drive/MyDrive/HM-new/models/\")"
   ]
  },
  {
   "cell_type": "code",
   "execution_count": 7,
   "metadata": {
    "id": "I8HF7BnjyFcp"
   },
   "outputs": [],
   "source": [
    "TRAIN_WEEK_NUM = 4\n",
    "WEEK_NUM = TRAIN_WEEK_NUM + 2\n",
    "\n",
    "VERSION_NAME = \"LargeRecall\"\n",
    "TEST = False # * Set as `False` when do local experiments to save time"
   ]
  },
  {
   "cell_type": "code",
   "execution_count": 8,
   "metadata": {
    "id": "I0H-z2DUHl4V"
   },
   "outputs": [],
   "source": [
    "TEST_BATCH_SIZE = 70000"
   ]
  },
  {
   "cell_type": "code",
   "execution_count": 9,
   "metadata": {
    "id": "zAccvyQ8yFcq"
   },
   "outputs": [],
   "source": [
    "import os\n",
    "if not os.path.exists(data_dir/\"interim\"/VERSION_NAME):\n",
    "    os.mkdir(data_dir/\"interim\"/VERSION_NAME)\n",
    "if not os.path.exists(data_dir/\"processed\"/VERSION_NAME):\n",
    "    os.mkdir(data_dir/\"processed\"/VERSION_NAME)"
   ]
  },
  {
   "cell_type": "markdown",
   "metadata": {
    "id": "ORF4aRfcyFcr"
   },
   "source": [
    "Pepare data: encoding ids and preprocessing"
   ]
  },
  {
   "cell_type": "code",
   "execution_count": 10,
   "metadata": {
    "id": "2BPv2lcWGGQJ"
   },
   "outputs": [],
   "source": [
    "dh = DataHelper(data_dir)"
   ]
  },
  {
   "cell_type": "code",
   "execution_count": 11,
   "metadata": {
    "id": "TFmlEVaDyFcv"
   },
   "outputs": [],
   "source": [
    "# data = dh.preprocess_data(save=True, name=\"encoded_full\") # * run only once, processed data will be saved"
   ]
  },
  {
   "cell_type": "code",
   "execution_count": 12,
   "metadata": {
    "id": "i3ngtb7NUGbH"
   },
   "outputs": [],
   "source": [
    "data = dh.load_data(name=\"encoded_full\")"
   ]
  },
  {
   "cell_type": "code",
   "execution_count": 13,
   "metadata": {
    "id": "DHosDWIfyFcw"
   },
   "outputs": [],
   "source": [
    "uid2idx = pickle.load(open(data_dir/\"index_id_map/user_id2index.pkl\", \"rb\"))\n",
    "submission = pd.read_csv(data_dir/\"raw\"/'sample_submission.csv')\n",
    "submission['customer_id'] = submission['customer_id'].map(uid2idx)"
   ]
  },
  {
   "cell_type": "markdown",
   "metadata": {
    "id": "LX4M190s4pxo"
   },
   "source": [
    "## Retrieval\n"
   ]
  },
  {
   "cell_type": "markdown",
   "metadata": {
    "id": "wvCamBwIyFcx"
   },
   "source": [
    "Generate candidates for each week"
   ]
  },
  {
   "cell_type": "code",
   "execution_count": null,
   "metadata": {
    "id": "CTXIGNfMyFcy"
   },
   "outputs": [],
   "source": [
    "user_info = data[\"inter\"].groupby(['customer_id'])['price'].mean().reset_index(name='mean_price')\n",
    "user_info['purchase_ability'] = pd.qcut(user_info['mean_price'],5,labels=False)\n",
    "del user_info['mean_price']"
   ]
  },
  {
   "cell_type": "code",
   "execution_count": null,
   "metadata": {
    "id": "avb_yWBIyFcy"
   },
   "outputs": [],
   "source": [
    "listBin = [-1, 19, 29, 39, 49, 59, 69, 119]\n",
    "data['user']['age_bins'] = pd.cut(data['user']['age'], listBin)\n",
    "data['user'] = data['user'].merge(user_info, on='customer_id', how='left')"
   ]
  },
  {
   "cell_type": "code",
   "execution_count": null,
   "metadata": {
    "id": "oWgRClzdyFcz"
   },
   "outputs": [],
   "source": [
    "# * WEEK_NUM = 0: test\n",
    "# * WEEK_NUM = 1: valid\n",
    "# * WEEK_NUM > 1: train\n",
    "for week in range(WEEK_NUM):\n",
    "    # * use sliding window to generate candidates\n",
    "    if week == 0 and not TEST:\n",
    "        continue\n",
    "    trans = data[\"inter\"]\n",
    "\n",
    "    start_date, end_date = calc_valid_date(week)\n",
    "    print(f\"Week {week}: [{start_date}, {end_date})\")\n",
    "\n",
    "    train, valid = dh.split_data(trans, start_date, end_date)\n",
    "    train = train.merge(data['user'][['customer_id','age_bins','user_gender']], on='customer_id', how='left')\n",
    "    train = train.merge(user_info, on='customer_id', how='left')\n",
    "\n",
    "    train['t_dat'] = pd.to_datetime(train['t_dat'])\n",
    "    last_week = train[train['t_dat']>train['t_dat'].max()-pd.Timedelta(days=7)]\n",
    "    last_2week = train[train['t_dat']>train['t_dat'].max()-pd.Timedelta(days=14)]\n",
    "    last_60day = train[train['t_dat']>train['t_dat'].max()-pd.Timedelta(days=60)]\n",
    "    last_80day = train[train['t_dat']>train['t_dat'].max()-pd.Timedelta(days=80)]\n",
    "\n",
    "    if week != 0:\n",
    "        customer_list = valid[\"customer_id\"].values\n",
    "    else:\n",
    "        customer_list = submission['customer_id'].values\n",
    "\n",
    "    # * ========================== Retrieval Strategies ==========================\n",
    "\n",
    "    candidates = RuleCollector().collect(\n",
    "        week_num = week,\n",
    "        trans_df = trans,\n",
    "        customer_list=customer_list,\n",
    "        rules=[\n",
    "            ALS(customer_list, last_60day, n=200, iter_num=25),\n",
    "            BPR(customer_list, last_80day, n=200, iter_num=350),\n",
    "            UserGroupTimeHistory(data, customer_list, last_week, ['age_bins'], n=200, scale=True, name='1'),\n",
    "            UserGroupTimeHistory(data, customer_list, last_week, ['purchase_ability'], n=200, scale=True, name='2'),\n",
    "            UserGroupTimeHistory(data, customer_list, last_week, ['user_gender'], n=200, scale=True, name='3'),\n",
    "            OrderHistory(train, days=35, n=200),\n",
    "            OrderHistoryDecay(train, days=7, n=200),\n",
    "            TimeHistory(customer_list, last_week, n=200),\n",
    "\n",
    "            ItemCF(last_80day, last_2week, top_k=10, name='1'),\n",
    "            ItemCF(last_60day, last_2week, top_k=10, name='2'),\n",
    "            ItemCF(last_2week, last_2week, top_k=10, name='3'),\n",
    "            UserGroupItemCF(last_80day, last_2week, 'age_bins', top_k=10, name='1'),\n",
    "            UserGroupItemCF(last_60day, last_2week, 'age_bins', top_k=10, name='2'),\n",
    "            UserGroupItemCF(last_2week, last_2week, 'age_bins', top_k=10, name='3'),\n",
    "            UserGroupItemCF(last_80day, last_2week, 'purchase_ability', top_k=10, name='4'),\n",
    "            UserGroupItemCF(last_60day, last_2week, 'purchase_ability', top_k=10, name='5'),\n",
    "            UserGroupItemCF(last_2week, last_2week, 'purchase_ability', top_k=10, name='6'),\n",
    "        ],\n",
    "        min_pos_rate=0.0,\n",
    "        norm=False,\n",
    "        # norm_type='minmax',\n",
    "        compress=False,\n",
    "    )\n",
    "\n",
    "    candidates, _ = reduce_mem_usage(candidates)\n",
    "    candidates = (\n",
    "        pd.pivot_table(\n",
    "            candidates,\n",
    "            values=\"score\",\n",
    "            index=[\"customer_id\", \"article_id\"],\n",
    "            columns=[\"method\"],\n",
    "            aggfunc=np.sum,\n",
    "        )\n",
    "        .reset_index()\n",
    "    )\n",
    "    rule_names = [x for x in candidates.columns if x not in [\"customer_id\", \"article_id\"]]\n",
    "    tmp = candidates[rule_names]\n",
    "    for f in rule_names:\n",
    "        tmp[f] = MinMaxScaler().fit_transform(tmp[f].values.reshape(-1, 1))\n",
    "    candidates['score'] = tmp[rule_names].sum(axis=1)\n",
    "    del tmp\n",
    "    gc.collect()\n",
    "    candidates['rank'] = candidates.groupby(['customer_id'])['score'].rank(ascending=False)\n",
    "    candidates = candidates[candidates['rank']<=200]\n",
    "    # del candidates['rank'], candidates['score']\n",
    "\n",
    "    candidates.to_parquet(data_dir/\"interim\"/VERSION_NAME/f\"week{week}_candidate.pqt\")\n",
    "    valid.to_parquet(data_dir/\"processed\"/VERSION_NAME/f\"week{week}_label.pqt\")"
   ]
  },
  {
   "cell_type": "code",
   "execution_count": null,
   "metadata": {
    "colab": {
     "base_uri": "https://localhost:8080/"
    },
    "id": "GhGFllGyyFc4",
    "outputId": "a51b3f89-b83d-46f8-8518-37a8d157e71e"
   },
   "outputs": [
    {
     "data": {
      "text/plain": [
       "44"
      ]
     },
     "execution_count": null,
     "metadata": {},
     "output_type": "execute_result"
    }
   ],
   "source": [
    "del train, valid, customer_list, candidates\n",
    "gc.collect()"
   ]
  },
  {
   "cell_type": "markdown",
   "metadata": {
    "id": "TBIrKxhRGGQR"
   },
   "source": [
    "## Feature engineering\n"
   ]
  },
  {
   "cell_type": "code",
   "execution_count": 22,
   "metadata": {
    "id": "9pF-sOMSGGQP"
   },
   "outputs": [],
   "source": [
    "user = data[\"user\"]\n",
    "item = data[\"item\"]\n",
    "inter = data[\"inter\"]"
   ]
  },
  {
   "cell_type": "code",
   "execution_count": null,
   "metadata": {
    "id": "heKIAtoRdtIk"
   },
   "outputs": [],
   "source": [
    "# merge `product_code`\n",
    "inter = inter.merge(item[[\"article_id\", \"product_code\"]], on=\"article_id\", how=\"left\")\n",
    "# calculate week number\n",
    "inter['week'] = (pd.to_datetime('2020-09-29') - pd.to_datetime(inter['t_dat'])).dt.days // 7"
   ]
  },
  {
   "cell_type": "code",
   "execution_count": null,
   "metadata": {
    "id": "NgfZ9z69GGQR"
   },
   "outputs": [],
   "source": [
    "inter = inter.sort_values([\"customer_id\", \"t_dat\"]).reset_index(drop=True)"
   ]
  },
  {
   "cell_type": "code",
   "execution_count": null,
   "metadata": {
    "id": "krS1OT4JGGQR"
   },
   "outputs": [],
   "source": [
    "inter.shape"
   ]
  },
  {
   "cell_type": "markdown",
   "metadata": {
    "id": "JXisCvNNyFc7"
   },
   "source": [
    "Week Sale, Last Week Sale, Week Sale Trend"
   ]
  },
  {
   "cell_type": "code",
   "execution_count": null,
   "metadata": {
    "id": "-YVP-Mz0wfoR"
   },
   "outputs": [],
   "source": [
    "tmp = inter.groupby('customer_id').week.nth(-1)\n",
    "full_data['consumer_id_last_time'] = full_data['customer_id'].map(tmp)\n",
    "\n",
    "tmp = inter.groupby('customer_id').week.nth(0)\n",
    "full_data['consumer_id_first_time'] = full_data['customer_id'].map(tmp)\n",
    "\n",
    "tmp = inter.groupby('customer_id').week.mean()\n",
    "full_data['consumer_id_time_mean'] = full_data['customer_id'].map(tmp)"
   ]
  },
  {
   "cell_type": "code",
   "execution_count": null,
   "metadata": {
    "id": "IXXxyMmndtIm",
    "outputId": "c3b779b4-0927-4490-e93f-75b7d36c806d"
   },
   "outputs": [
    {
     "name": "stderr",
     "output_type": "stream",
     "text": [
      "100%|██████████| 6/6 [01:52<00:00, 18.79s/it]\n"
     ]
    }
   ],
   "source": [
    "inter[\"i_sale\"] = week_sale(inter, [\"article_id\"])\n",
    "inter[\"p_sale\"] = week_sale(inter, [\"product_code\"])\n",
    "inter[\"i_sale_uni\"] = week_sale(inter, [\"article_id\"], True)\n",
    "inter[\"p_sale_uni\"] = week_sale(inter, [\"product_code\"], True)\n",
    "inter[\"lw_i_sale\"] = week_sale(inter, [\"article_id\"], step=1) # * last week sale\n",
    "inter[\"lw_p_sale\"] = week_sale(inter, [\"product_code\"], step=1)\n",
    "inter[\"lw_i_sale_uni\"] = week_sale(inter, [\"article_id\"], True, step=1)\n",
    "inter[\"lw_p_sale_uni\"] = week_sale(inter, [\"product_code\"], True, step=1)\n",
    "\n",
    "inter[\"i_sale_ratio\"] = inter[\"i_sale\"] / (inter[\"p_sale\"] + 1e-6)\n",
    "inter[\"i_sale_uni_ratio\"] = inter[\"i_sale_uni\"] / (inter[\"p_sale_uni\"] + 1e-6)\n",
    "inter[\"lw_i_sale_ratio\"] = inter[\"lw_i_sale\"] / (inter[\"lw_p_sale\"] + 1e-6)\n",
    "inter[\"lw_i_sale_uni_ratio\"] = inter[\"lw_i_sale_uni\"] / (inter[\"lw_p_sale_uni\"] + 1e-6)\n",
    "\n",
    "inter[\"i_uni_ratio\"] = inter[\"i_sale\"] / (inter[\"i_sale_uni\"] + 1e-6)\n",
    "inter[\"p_uni_ratio\"] = inter[\"p_sale\"] / (inter[\"p_sale_uni\"] + 1e-6)\n",
    "inter[\"lw_i_uni_ratio\"] = inter[\"lw_i_sale\"] / (inter[\"lw_i_sale_uni\"] + 1e-6)\n",
    "inter[\"lw_p_uni_ratio\"] = inter[\"lw_p_sale\"] / (inter[\"lw_p_sale_uni\"] + 1e-6)\n",
    "\n",
    "inter[\"i_sale_trend\"] = (inter[\"i_sale\"] - inter[\"lw_i_sale\"]) / (inter[\"lw_i_sale\"] + 1e-6)\n",
    "inter[\"p_sale_trend\"] = (inter[\"p_sale\"] - inter[\"lw_p_sale\"]) / (inter[\"lw_p_sale\"] + 1e-6)\n",
    "\n",
    "item_feats = [\n",
    "    \"product_type_no\",\n",
    "    \"product_group_name\",\n",
    "    \"graphical_appearance_no\",\n",
    "    \"colour_group_code\",\n",
    "    \"perceived_colour_value_id\",\n",
    "    \"perceived_colour_master_id\",\n",
    "]\n",
    "inter = inter.merge(item[[\"article_id\", *item_feats]], on=\"article_id\", how=\"left\")\n",
    "\n",
    "for f in tqdm(item_feats):\n",
    "    inter[f\"{f}_sale\"] = week_sale(inter, [f], f\"{f}_sale\")\n",
    "    inter[f\"lw_{f}_sale\"] = week_sale(inter, [f], f\"{f}_sale\", step=1)\n",
    "    inter[f\"{f}_sale_trend\"] = (inter[f\"{f}_sale\"] - inter[f\"lw_{f}_sale\"]) / (inter[f\"lw_{f}_sale\"] + 1e-6)\n",
    "\n",
    "inter = inter.drop(columns=item_feats)"
   ]
  },
  {
   "cell_type": "code",
   "execution_count": null,
   "metadata": {
    "id": "o4HU3ymTyFc8"
   },
   "outputs": [],
   "source": [
    "_, inter[\"i_1w_sale_rank\"], inter[\"i_1w_sale_norm\"] = period_sale(\n",
    "    inter, [\"article_id\"], days=14, rank=True, norm=True, week_num=WEEK_NUM\n",
    ")\n",
    "_, inter[\"p_1w_sale_rank\"], inter[\"p_1w_sale_norm\"] = period_sale(\n",
    "    inter, [\"product_code\"], days=14, rank=True, norm=True, week_num=WEEK_NUM\n",
    ")\n",
    "inter[\"i_2w_sale\"], inter[\"i_2w_sale_rank\"], inter[\"i_2w_sale_norm\"] = period_sale(\n",
    "    inter, [\"article_id\"], days=14, rank=True, norm=True, week_num=WEEK_NUM\n",
    ")\n",
    "inter[\"p_2w_sale\"], inter[\"p_2w_sale_rank\"], inter[\"p_2w_sale_norm\"] = period_sale(\n",
    "    inter, [\"product_code\"], days=14, rank=True, norm=True, week_num=WEEK_NUM\n",
    ")\n",
    "inter[\"i_3w_sale\"], inter[\"i_3w_sale_rank\"], inter[\"i_3w_sale_norm\"] = period_sale(\n",
    "    inter, [\"article_id\"], days=21, rank=True, norm=True, week_num=WEEK_NUM\n",
    ")\n",
    "inter[\"p_3w_sale\"], inter[\"p_3w_sale_rank\"], inter[\"p_3w_sale_norm\"] = period_sale(\n",
    "    inter, [\"product_code\"], days=21, rank=True, norm=True, week_num=WEEK_NUM\n",
    ")\n",
    "inter[\"i_4w_sale\"], inter[\"i_4w_sale_rank\"], inter[\"i_4w_sale_norm\"] = period_sale(\n",
    "    inter, [\"article_id\"], days=28, rank=True, norm=True, week_num=WEEK_NUM\n",
    ")\n",
    "inter[\"p_4w_sale\"], inter[\"p_4w_sale_rank\"], inter[\"p_4w_sale_norm\"] = period_sale(\n",
    "    inter, [\"product_code\"], days=28, rank=True, norm=True, week_num=WEEK_NUM\n",
    ")"
   ]
  },
  {
   "cell_type": "markdown",
   "metadata": {
    "id": "H7JbQqEiyFc8"
   },
   "source": [
    "Repurchase Ratio"
   ]
  },
  {
   "cell_type": "code",
   "execution_count": null,
   "metadata": {
    "id": "pnZzbv2JNUB1"
   },
   "outputs": [],
   "source": [
    "inter['i_repurchase_ratio'] = repurchase_ratio(inter, ['article_id'])\n",
    "inter['p_repurchase_ratio'] = repurchase_ratio(inter, ['product_code'])"
   ]
  },
  {
   "cell_type": "markdown",
   "metadata": {
    "id": "OOf-UdCNyFc9"
   },
   "source": [
    "Popularity"
   ]
  },
  {
   "cell_type": "code",
   "execution_count": null,
   "metadata": {
    "id": "dO85Ko9zyFc9"
   },
   "outputs": [],
   "source": [
    "inter['i_pop'] = popularity(inter, 'article_id', week_num=WEEK_NUM)\n",
    "inter['p_pop'] = popularity(inter, 'product_code', week_num=WEEK_NUM)"
   ]
  },
  {
   "cell_type": "markdown",
   "metadata": {
    "id": "jxbJ6z3vyFc9"
   },
   "source": [
    "Already Bought Item"
   ]
  },
  {
   "cell_type": "code",
   "execution_count": null,
   "metadata": {
    "id": "VmBm3Ka3GGQS"
   },
   "outputs": [],
   "source": [
    "# inter[\"purchased_item\"] = purchased_before(inter, [\"article_id\"])\n",
    "# inter[\"purchased_pro\"] = purchased_before(inter, [\"product_code\"])"
   ]
  },
  {
   "cell_type": "markdown",
   "metadata": {
    "id": "sG2Svc91yFc-"
   },
   "source": [
    "Save data"
   ]
  },
  {
   "cell_type": "code",
   "execution_count": null,
   "metadata": {
    "colab": {
     "base_uri": "https://localhost:8080/"
    },
    "id": "uB53JEZoGGQS",
    "outputId": "1e178712-b0a2-4f90-fea1-2da452d2a297"
   },
   "outputs": [
    {
     "data": {
      "text/plain": [
       "(31788324, 65)"
      ]
     },
     "execution_count": 25,
     "metadata": {},
     "output_type": "execute_result"
    }
   ],
   "source": [
    "inter.shape"
   ]
  },
  {
   "cell_type": "code",
   "execution_count": null,
   "metadata": {
    "id": "dv55insCdtIo"
   },
   "outputs": [],
   "source": [
    "inter.to_parquet(data_dir / \"processed/processed_inter.pqt\")"
   ]
  },
  {
   "cell_type": "markdown",
   "metadata": {
    "id": "jywhBCAGGGQS"
   },
   "source": [
    "## Merge Features\n"
   ]
  },
  {
   "cell_type": "code",
   "execution_count": 14,
   "metadata": {
    "id": "cxSNgWvVuv2A"
   },
   "outputs": [],
   "source": [
    "inter = pd.read_parquet(data_dir / \"processed/processed_inter.pqt\")\n",
    "# data[\"inter\"] = inter"
   ]
  },
  {
   "cell_type": "code",
   "execution_count": 15,
   "metadata": {
    "id": "FIm6uoIXyFc_"
   },
   "outputs": [],
   "source": [
    "#* embeddings from DSSM model\n",
    "dssm_user_embd = np.load(data_dir / \"external/dssm_user_embd.npy\", allow_pickle=True)\n",
    "dssm_item_embd = np.load(data_dir / \"external/dssm_item_embd.npy\", allow_pickle=True)\n",
    "# * embeddings from YouTubeDNN model\n",
    "yt_user_embd = np.load(data_dir / \"external/yt_user_embd.npy\", allow_pickle=True)\n",
    "yt_item_embd = np.load(data_dir / \"external/yt_item_embd.npy\", allow_pickle=True)\n",
    "# *\n",
    "w2v_user_embd = np.load(data_dir/'external'/'w2v_user_embd.npy', allow_pickle=True)\n",
    "w2v_item_embd = np.load(data_dir/'external'/'w2v_item_embd.npy', allow_pickle=True)"
   ]
  },
  {
   "cell_type": "code",
   "execution_count": 16,
   "metadata": {
    "id": "FiPHvn7pn6ng"
   },
   "outputs": [],
   "source": [
    "for col in inter.columns:\n",
    "    inter[col] = np.nan_to_num(inter[col])"
   ]
  },
  {
   "cell_type": "code",
   "execution_count": 17,
   "metadata": {
    "colab": {
     "base_uri": "https://localhost:8080/"
    },
    "id": "4r4K6ifJyFc_",
    "outputId": "24b63a7e-d39f-4e43-bf2b-ee13673f8e1d"
   },
   "outputs": [
    {
     "name": "stderr",
     "output_type": "stream",
     "text": [
      "\r",
      "  0%|          | 0/6 [00:00<?, ?it/s]"
     ]
    },
    {
     "name": "stdout",
     "output_type": "stream",
     "text": [
      "68984\n",
      "[1 0]\n"
     ]
    },
    {
     "name": "stderr",
     "output_type": "stream",
     "text": [
      "\n",
      "  0%|          | 0/1380 [00:00<?, ?it/s]\u001b[A\n",
      "  0%|          | 5/1380 [00:00<00:54, 25.38it/s]\u001b[A\n",
      "  1%|▏         | 19/1380 [00:00<00:27, 50.23it/s]\u001b[A\n",
      "  3%|▎         | 40/1380 [00:00<00:13, 96.07it/s]\u001b[A\n",
      "  5%|▍         | 63/1380 [00:00<00:09, 133.98it/s]\u001b[A\n",
      "  6%|▌         | 85/1380 [00:00<00:08, 157.74it/s]\u001b[A\n",
      "  8%|▊         | 107/1380 [00:00<00:07, 174.63it/s]\u001b[A\n",
      "  9%|▉         | 129/1380 [00:00<00:06, 187.86it/s]\u001b[A\n",
      " 11%|█         | 152/1380 [00:01<00:06, 198.25it/s]\u001b[A\n",
      " 13%|█▎        | 175/1380 [00:01<00:05, 205.94it/s]\u001b[A\n",
      " 14%|█▍        | 197/1380 [00:01<00:05, 207.08it/s]\u001b[A\n",
      " 16%|█▌        | 220/1380 [00:01<00:05, 211.40it/s]\u001b[A\n",
      " 18%|█▊        | 242/1380 [00:01<00:05, 213.75it/s]\u001b[A\n",
      " 19%|█▉        | 265/1380 [00:01<00:05, 216.70it/s]\u001b[A\n",
      " 21%|██        | 288/1380 [00:01<00:05, 217.70it/s]\u001b[A\n",
      " 23%|██▎       | 311/1380 [00:01<00:04, 218.57it/s]\u001b[A\n",
      " 24%|██▍       | 333/1380 [00:01<00:04, 218.31it/s]\u001b[A\n",
      " 26%|██▌       | 355/1380 [00:01<00:04, 218.64it/s]\u001b[A\n",
      " 27%|██▋       | 377/1380 [00:02<00:04, 218.09it/s]\u001b[A\n",
      " 29%|██▉       | 400/1380 [00:02<00:04, 219.73it/s]\u001b[A\n",
      " 31%|███       | 422/1380 [00:02<00:04, 218.88it/s]\u001b[A\n",
      " 32%|███▏      | 445/1380 [00:02<00:04, 220.19it/s]\u001b[A\n",
      " 34%|███▍      | 468/1380 [00:02<00:04, 217.48it/s]\u001b[A\n",
      " 36%|███▌      | 490/1380 [00:02<00:04, 217.58it/s]\u001b[A\n",
      " 37%|███▋      | 512/1380 [00:02<00:04, 216.79it/s]\u001b[A\n",
      " 39%|███▊      | 534/1380 [00:02<00:03, 216.65it/s]\u001b[A\n",
      " 40%|████      | 556/1380 [00:02<00:03, 215.17it/s]\u001b[A\n",
      " 42%|████▏     | 578/1380 [00:02<00:03, 215.40it/s]\u001b[A\n",
      " 43%|████▎     | 600/1380 [00:03<00:03, 216.48it/s]\u001b[A\n",
      " 45%|████▌     | 622/1380 [00:03<00:03, 214.28it/s]\u001b[A\n",
      " 47%|████▋     | 644/1380 [00:03<00:03, 214.52it/s]\u001b[A\n",
      " 48%|████▊     | 666/1380 [00:03<00:03, 214.52it/s]\u001b[A\n",
      " 50%|████▉     | 688/1380 [00:03<00:03, 213.81it/s]\u001b[A\n",
      " 51%|█████▏    | 710/1380 [00:03<00:03, 215.52it/s]\u001b[A\n",
      " 53%|█████▎    | 732/1380 [00:03<00:03, 215.08it/s]\u001b[A\n",
      " 55%|█████▍    | 754/1380 [00:03<00:02, 215.56it/s]\u001b[A\n",
      " 56%|█████▌    | 776/1380 [00:03<00:02, 215.62it/s]\u001b[A\n",
      " 58%|█████▊    | 798/1380 [00:03<00:02, 215.23it/s]\u001b[A\n",
      " 59%|█████▉    | 821/1380 [00:04<00:02, 218.12it/s]\u001b[A\n",
      " 61%|██████    | 843/1380 [00:04<00:02, 216.67it/s]\u001b[A\n",
      " 63%|██████▎   | 866/1380 [00:04<00:02, 218.88it/s]\u001b[A\n",
      " 64%|██████▍   | 889/1380 [00:04<00:02, 219.74it/s]\u001b[A\n",
      " 66%|██████▌   | 911/1380 [00:04<00:02, 218.93it/s]\u001b[A\n",
      " 68%|██████▊   | 934/1380 [00:04<00:02, 219.45it/s]\u001b[A\n",
      " 69%|██████▉   | 956/1380 [00:04<00:01, 218.91it/s]\u001b[A\n",
      " 71%|███████   | 978/1380 [00:04<00:01, 218.57it/s]\u001b[A\n",
      " 73%|███████▎  | 1001/1380 [00:04<00:01, 219.40it/s]\u001b[A\n",
      " 74%|███████▍  | 1024/1380 [00:05<00:01, 221.01it/s]\u001b[A\n",
      " 76%|███████▌  | 1047/1380 [00:05<00:01, 220.26it/s]\u001b[A\n",
      " 78%|███████▊  | 1070/1380 [00:05<00:01, 219.83it/s]\u001b[A\n",
      " 79%|███████▉  | 1092/1380 [00:05<00:01, 218.64it/s]\u001b[A\n",
      " 81%|████████  | 1114/1380 [00:05<00:01, 218.64it/s]\u001b[A\n",
      " 82%|████████▏ | 1136/1380 [00:05<00:01, 218.09it/s]\u001b[A\n",
      " 84%|████████▍ | 1159/1380 [00:05<00:01, 220.47it/s]\u001b[A\n",
      " 86%|████████▌ | 1182/1380 [00:05<00:00, 216.96it/s]\u001b[A\n",
      " 87%|████████▋ | 1204/1380 [00:05<00:00, 215.62it/s]\u001b[A\n",
      " 89%|████████▉ | 1226/1380 [00:05<00:00, 216.11it/s]\u001b[A\n",
      " 90%|█████████ | 1248/1380 [00:06<00:00, 217.08it/s]\u001b[A\n",
      " 92%|█████████▏| 1270/1380 [00:06<00:00, 216.40it/s]\u001b[A\n",
      " 94%|█████████▎| 1293/1380 [00:06<00:00, 218.93it/s]\u001b[A\n",
      " 95%|█████████▌| 1316/1380 [00:06<00:00, 221.77it/s]\u001b[A\n",
      " 97%|█████████▋| 1339/1380 [00:06<00:00, 218.81it/s]\u001b[A\n",
      "100%|██████████| 1380/1380 [00:06<00:00, 207.15it/s]\n",
      "\n",
      "  0%|          | 0/1380 [00:00<?, ?it/s]\u001b[A\n",
      "  2%|▏         | 23/1380 [00:00<00:06, 221.88it/s]\u001b[A\n",
      "  3%|▎         | 46/1380 [00:00<00:05, 222.69it/s]\u001b[A\n",
      "  5%|▌         | 69/1380 [00:00<00:05, 223.22it/s]\u001b[A\n",
      "  7%|▋         | 92/1380 [00:00<00:05, 219.33it/s]\u001b[A\n",
      "  8%|▊         | 115/1380 [00:00<00:05, 221.14it/s]\u001b[A\n",
      " 10%|█         | 138/1380 [00:00<00:05, 220.57it/s]\u001b[A\n",
      " 12%|█▏        | 161/1380 [00:00<00:05, 220.57it/s]\u001b[A\n",
      " 13%|█▎        | 184/1380 [00:00<00:05, 220.16it/s]\u001b[A\n",
      " 15%|█▌        | 207/1380 [00:00<00:05, 220.83it/s]\u001b[A\n",
      " 17%|█▋        | 230/1380 [00:01<00:05, 221.87it/s]\u001b[A\n",
      " 18%|█▊        | 253/1380 [00:01<00:05, 222.86it/s]\u001b[A\n",
      " 20%|██        | 276/1380 [00:01<00:04, 223.15it/s]\u001b[A\n",
      " 22%|██▏       | 300/1380 [00:01<00:04, 226.24it/s]\u001b[A\n",
      " 23%|██▎       | 324/1380 [00:01<00:04, 229.20it/s]\u001b[A\n",
      " 25%|██▌       | 347/1380 [00:01<00:04, 227.45it/s]\u001b[A\n",
      " 27%|██▋       | 370/1380 [00:01<00:04, 227.19it/s]\u001b[A\n",
      " 28%|██▊       | 393/1380 [00:01<00:04, 226.00it/s]\u001b[A\n",
      " 30%|███       | 416/1380 [00:01<00:04, 226.05it/s]\u001b[A\n",
      " 32%|███▏      | 439/1380 [00:01<00:04, 226.47it/s]\u001b[A\n",
      " 33%|███▎      | 462/1380 [00:02<00:04, 224.67it/s]\u001b[A\n",
      " 35%|███▌      | 485/1380 [00:02<00:03, 224.33it/s]\u001b[A\n",
      " 37%|███▋      | 508/1380 [00:02<00:03, 223.57it/s]\u001b[A\n",
      " 38%|███▊      | 531/1380 [00:02<00:03, 224.78it/s]\u001b[A\n",
      " 40%|████      | 554/1380 [00:02<00:03, 222.89it/s]\u001b[A\n",
      " 42%|████▏     | 578/1380 [00:02<00:03, 225.86it/s]\u001b[A\n",
      " 44%|████▎     | 601/1380 [00:02<00:03, 226.06it/s]\u001b[A\n",
      " 45%|████▌     | 624/1380 [00:02<00:03, 223.00it/s]\u001b[A\n",
      " 47%|████▋     | 647/1380 [00:02<00:03, 224.05it/s]\u001b[A\n",
      " 49%|████▊     | 670/1380 [00:02<00:03, 225.23it/s]\u001b[A\n",
      " 50%|█████     | 693/1380 [00:03<00:03, 224.81it/s]\u001b[A\n",
      " 52%|█████▏    | 716/1380 [00:03<00:02, 223.64it/s]\u001b[A\n",
      " 54%|█████▎    | 740/1380 [00:03<00:02, 226.43it/s]\u001b[A\n",
      " 55%|█████▌    | 764/1380 [00:03<00:02, 228.87it/s]\u001b[A\n",
      " 57%|█████▋    | 787/1380 [00:03<00:02, 228.72it/s]\u001b[A\n",
      " 59%|█████▉    | 811/1380 [00:03<00:02, 229.63it/s]\u001b[A\n",
      " 60%|██████    | 834/1380 [00:03<00:02, 227.43it/s]\u001b[A\n",
      " 62%|██████▏   | 857/1380 [00:03<00:02, 223.79it/s]\u001b[A\n",
      " 64%|██████▍   | 881/1380 [00:03<00:02, 226.87it/s]\u001b[A\n",
      " 66%|██████▌   | 905/1380 [00:04<00:02, 228.13it/s]\u001b[A\n",
      " 67%|██████▋   | 928/1380 [00:04<00:01, 227.01it/s]\u001b[A\n",
      " 69%|██████▉   | 951/1380 [00:04<00:01, 227.09it/s]\u001b[A\n",
      " 71%|███████   | 974/1380 [00:04<00:01, 227.17it/s]\u001b[A\n",
      " 72%|███████▏  | 998/1380 [00:04<00:01, 229.02it/s]\u001b[A\n",
      " 74%|███████▍  | 1021/1380 [00:04<00:01, 227.68it/s]\u001b[A\n",
      " 76%|███████▌  | 1045/1380 [00:04<00:01, 229.20it/s]\u001b[A\n",
      " 77%|███████▋  | 1068/1380 [00:04<00:01, 228.56it/s]\u001b[A\n",
      " 79%|███████▉  | 1091/1380 [00:04<00:01, 227.02it/s]\u001b[A\n",
      " 81%|████████  | 1114/1380 [00:04<00:01, 225.48it/s]\u001b[A\n",
      " 82%|████████▏ | 1137/1380 [00:05<00:01, 224.32it/s]\u001b[A\n",
      " 84%|████████▍ | 1160/1380 [00:05<00:00, 224.53it/s]\u001b[A\n",
      " 86%|████████▌ | 1183/1380 [00:05<00:00, 223.99it/s]\u001b[A\n",
      " 87%|████████▋ | 1207/1380 [00:05<00:00, 226.12it/s]\u001b[A\n",
      " 89%|████████▉ | 1231/1380 [00:05<00:00, 228.16it/s]\u001b[A\n",
      " 91%|█████████ | 1254/1380 [00:05<00:00, 227.91it/s]\u001b[A\n",
      " 93%|█████████▎| 1277/1380 [00:05<00:00, 227.53it/s]\u001b[A\n",
      " 94%|█████████▍| 1300/1380 [00:05<00:00, 227.05it/s]\u001b[A\n",
      " 96%|█████████▌| 1323/1380 [00:05<00:00, 226.51it/s]\u001b[A\n",
      " 98%|█████████▊| 1346/1380 [00:05<00:00, 227.19it/s]\u001b[A\n",
      "100%|██████████| 1380/1380 [00:06<00:00, 225.42it/s]\n",
      "\n",
      "  0%|          | 0/1380 [00:00<?, ?it/s]\u001b[A\n",
      "  1%|          | 13/1380 [00:00<00:10, 127.09it/s]\u001b[A\n",
      "  2%|▏         | 26/1380 [00:00<00:10, 127.18it/s]\u001b[A\n",
      "  3%|▎         | 39/1380 [00:00<00:10, 127.08it/s]\u001b[A\n",
      "  4%|▍         | 52/1380 [00:00<00:10, 126.81it/s]\u001b[A\n",
      "  5%|▍         | 65/1380 [00:00<00:10, 126.32it/s]\u001b[A\n",
      "  6%|▌         | 78/1380 [00:00<00:10, 125.79it/s]\u001b[A\n",
      "  7%|▋         | 91/1380 [00:00<00:10, 126.23it/s]\u001b[A\n",
      "  8%|▊         | 104/1380 [00:00<00:10, 125.97it/s]\u001b[A\n",
      "  8%|▊         | 117/1380 [00:00<00:10, 125.80it/s]\u001b[A\n",
      "  9%|▉         | 130/1380 [00:01<00:10, 124.39it/s]\u001b[A\n",
      " 10%|█         | 143/1380 [00:01<00:09, 124.83it/s]\u001b[A\n",
      " 11%|█▏        | 156/1380 [00:01<00:09, 125.64it/s]\u001b[A\n",
      " 12%|█▏        | 169/1380 [00:01<00:09, 126.05it/s]\u001b[A\n",
      " 13%|█▎        | 182/1380 [00:01<00:09, 126.31it/s]\u001b[A\n",
      " 14%|█▍        | 195/1380 [00:01<00:09, 126.93it/s]\u001b[A\n",
      " 15%|█▌        | 208/1380 [00:01<00:09, 127.21it/s]\u001b[A\n",
      " 16%|█▌        | 221/1380 [00:01<00:09, 126.54it/s]\u001b[A\n",
      " 17%|█▋        | 234/1380 [00:01<00:09, 126.04it/s]\u001b[A\n",
      " 18%|█▊        | 247/1380 [00:01<00:08, 126.13it/s]\u001b[A\n",
      " 19%|█▉        | 260/1380 [00:02<00:08, 125.39it/s]\u001b[A\n",
      " 20%|█▉        | 273/1380 [00:02<00:08, 126.14it/s]\u001b[A\n",
      " 21%|██        | 286/1380 [00:02<00:08, 126.72it/s]\u001b[A\n",
      " 22%|██▏       | 299/1380 [00:02<00:08, 127.38it/s]\u001b[A\n",
      " 23%|██▎       | 312/1380 [00:02<00:08, 128.05it/s]\u001b[A\n",
      " 24%|██▎       | 325/1380 [00:02<00:08, 128.11it/s]\u001b[A\n",
      " 24%|██▍       | 338/1380 [00:02<00:08, 127.28it/s]\u001b[A\n",
      " 25%|██▌       | 351/1380 [00:02<00:08, 126.45it/s]\u001b[A\n",
      " 26%|██▋       | 364/1380 [00:02<00:08, 126.25it/s]\u001b[A\n",
      " 27%|██▋       | 377/1380 [00:02<00:07, 126.19it/s]\u001b[A\n",
      " 28%|██▊       | 390/1380 [00:03<00:07, 126.66it/s]\u001b[A\n",
      " 29%|██▉       | 403/1380 [00:03<00:07, 125.14it/s]\u001b[A\n",
      " 30%|███       | 416/1380 [00:03<00:07, 125.90it/s]\u001b[A\n",
      " 31%|███       | 429/1380 [00:03<00:07, 125.85it/s]\u001b[A\n",
      " 32%|███▏      | 442/1380 [00:03<00:07, 126.36it/s]\u001b[A\n",
      " 33%|███▎      | 455/1380 [00:03<00:07, 126.32it/s]\u001b[A\n",
      " 34%|███▍      | 468/1380 [00:03<00:07, 125.80it/s]\u001b[A\n",
      " 35%|███▍      | 481/1380 [00:03<00:07, 126.72it/s]\u001b[A\n",
      " 36%|███▌      | 494/1380 [00:03<00:06, 127.48it/s]\u001b[A\n",
      " 37%|███▋      | 507/1380 [00:04<00:06, 125.94it/s]\u001b[A\n",
      " 38%|███▊      | 520/1380 [00:04<00:06, 126.25it/s]\u001b[A\n",
      " 39%|███▊      | 533/1380 [00:04<00:06, 126.44it/s]\u001b[A\n",
      " 40%|███▉      | 546/1380 [00:04<00:06, 126.88it/s]\u001b[A\n",
      " 41%|████      | 559/1380 [00:04<00:06, 126.30it/s]\u001b[A\n",
      " 41%|████▏     | 572/1380 [00:04<00:06, 126.16it/s]\u001b[A\n",
      " 42%|████▏     | 585/1380 [00:04<00:06, 125.83it/s]\u001b[A\n",
      " 43%|████▎     | 598/1380 [00:04<00:06, 125.23it/s]\u001b[A\n",
      " 44%|████▍     | 611/1380 [00:04<00:06, 125.95it/s]\u001b[A\n",
      " 45%|████▌     | 624/1380 [00:04<00:06, 125.80it/s]\u001b[A\n",
      " 46%|████▌     | 637/1380 [00:05<00:05, 124.93it/s]\u001b[A\n",
      " 47%|████▋     | 650/1380 [00:05<00:05, 125.64it/s]\u001b[A\n",
      " 48%|████▊     | 663/1380 [00:05<00:05, 125.49it/s]\u001b[A\n",
      " 49%|████▉     | 676/1380 [00:05<00:05, 124.99it/s]\u001b[A\n",
      " 50%|████▉     | 689/1380 [00:05<00:05, 124.87it/s]\u001b[A\n",
      " 51%|█████     | 702/1380 [00:05<00:05, 125.47it/s]\u001b[A\n",
      " 52%|█████▏    | 715/1380 [00:05<00:05, 124.75it/s]\u001b[A\n",
      " 53%|█████▎    | 728/1380 [00:05<00:05, 124.52it/s]\u001b[A\n",
      " 54%|█████▎    | 741/1380 [00:05<00:05, 124.89it/s]\u001b[A\n",
      " 55%|█████▍    | 754/1380 [00:05<00:05, 124.76it/s]\u001b[A\n",
      " 56%|█████▌    | 767/1380 [00:06<00:04, 124.43it/s]\u001b[A\n",
      " 57%|█████▋    | 780/1380 [00:06<00:04, 125.24it/s]\u001b[A\n",
      " 57%|█████▋    | 793/1380 [00:06<00:04, 125.89it/s]\u001b[A\n",
      " 58%|█████▊    | 806/1380 [00:06<00:04, 126.12it/s]\u001b[A\n",
      " 59%|█████▉    | 819/1380 [00:06<00:04, 126.66it/s]\u001b[A\n",
      " 60%|██████    | 832/1380 [00:06<00:04, 126.14it/s]\u001b[A\n",
      " 61%|██████    | 845/1380 [00:06<00:04, 126.17it/s]\u001b[A\n",
      " 62%|██████▏   | 858/1380 [00:06<00:04, 126.19it/s]\u001b[A\n",
      " 63%|██████▎   | 871/1380 [00:06<00:04, 126.56it/s]\u001b[A\n",
      " 64%|██████▍   | 884/1380 [00:07<00:03, 125.43it/s]\u001b[A\n",
      " 65%|██████▌   | 897/1380 [00:07<00:03, 124.29it/s]\u001b[A\n",
      " 66%|██████▌   | 910/1380 [00:07<00:03, 124.54it/s]\u001b[A\n",
      " 67%|██████▋   | 923/1380 [00:07<00:03, 125.11it/s]\u001b[A\n",
      " 68%|██████▊   | 936/1380 [00:07<00:03, 125.24it/s]\u001b[A\n",
      " 69%|██████▉   | 949/1380 [00:07<00:03, 125.29it/s]\u001b[A\n",
      " 70%|██████▉   | 962/1380 [00:07<00:03, 124.99it/s]\u001b[A\n",
      " 71%|███████   | 975/1380 [00:07<00:03, 125.11it/s]\u001b[A\n",
      " 72%|███████▏  | 988/1380 [00:07<00:03, 125.14it/s]\u001b[A\n",
      " 73%|███████▎  | 1001/1380 [00:07<00:03, 124.77it/s]\u001b[A\n",
      " 73%|███████▎  | 1014/1380 [00:08<00:02, 124.26it/s]\u001b[A\n",
      " 74%|███████▍  | 1027/1380 [00:08<00:02, 124.50it/s]\u001b[A\n",
      " 75%|███████▌  | 1040/1380 [00:08<00:02, 124.13it/s]\u001b[A\n",
      " 76%|███████▋  | 1053/1380 [00:08<00:02, 124.34it/s]\u001b[A\n",
      " 77%|███████▋  | 1066/1380 [00:08<00:02, 124.72it/s]\u001b[A\n",
      " 78%|███████▊  | 1079/1380 [00:08<00:02, 124.70it/s]\u001b[A\n",
      " 79%|███████▉  | 1092/1380 [00:08<00:02, 125.28it/s]\u001b[A\n",
      " 80%|████████  | 1105/1380 [00:08<00:02, 124.70it/s]\u001b[A\n",
      " 81%|████████  | 1118/1380 [00:08<00:02, 125.34it/s]\u001b[A\n",
      " 82%|████████▏ | 1131/1380 [00:08<00:01, 125.57it/s]\u001b[A\n",
      " 83%|████████▎ | 1144/1380 [00:09<00:01, 124.44it/s]\u001b[A\n",
      " 84%|████████▍ | 1157/1380 [00:09<00:01, 124.34it/s]\u001b[A\n",
      " 85%|████████▍ | 1170/1380 [00:09<00:01, 124.59it/s]\u001b[A\n",
      " 86%|████████▌ | 1183/1380 [00:09<00:01, 124.75it/s]\u001b[A\n",
      " 87%|████████▋ | 1196/1380 [00:09<00:01, 124.24it/s]\u001b[A\n",
      " 88%|████████▊ | 1209/1380 [00:09<00:01, 124.54it/s]\u001b[A\n",
      " 89%|████████▊ | 1222/1380 [00:09<00:01, 125.06it/s]\u001b[A\n",
      " 89%|████████▉ | 1235/1380 [00:09<00:01, 124.85it/s]\u001b[A\n",
      " 90%|█████████ | 1248/1380 [00:09<00:01, 125.26it/s]\u001b[A\n",
      " 91%|█████████▏| 1261/1380 [00:10<00:00, 124.97it/s]\u001b[A\n",
      " 92%|█████████▏| 1274/1380 [00:10<00:00, 125.38it/s]\u001b[A\n",
      " 93%|█████████▎| 1287/1380 [00:10<00:00, 126.25it/s]\u001b[A\n",
      " 94%|█████████▍| 1300/1380 [00:10<00:00, 126.39it/s]\u001b[A\n",
      " 95%|█████████▌| 1313/1380 [00:10<00:00, 125.23it/s]\u001b[A\n",
      " 96%|█████████▌| 1326/1380 [00:10<00:00, 125.38it/s]\u001b[A\n",
      " 97%|█████████▋| 1339/1380 [00:10<00:00, 125.46it/s]\u001b[A\n",
      " 98%|█████████▊| 1352/1380 [00:10<00:00, 124.90it/s]\u001b[A\n",
      " 99%|█████████▉| 1365/1380 [00:10<00:00, 123.83it/s]\u001b[A\n",
      "100%|██████████| 1380/1380 [00:10<00:00, 125.54it/s]\n",
      " 33%|███▎      | 2/6 [03:30<07:00, 105.22s/it]"
     ]
    },
    {
     "name": "stdout",
     "output_type": "stream",
     "text": [
      "72019\n",
      "[2 1]\n"
     ]
    },
    {
     "name": "stderr",
     "output_type": "stream",
     "text": [
      "\n",
      "  0%|          | 0/1441 [00:00<?, ?it/s]\u001b[A\n",
      "  1%|          | 16/1441 [00:00<00:09, 154.33it/s]\u001b[A\n",
      "  2%|▏         | 32/1441 [00:00<00:15, 89.36it/s] \u001b[A\n",
      "  3%|▎         | 43/1441 [00:00<00:19, 71.86it/s]\u001b[A\n",
      "  5%|▍         | 65/1441 [00:00<00:12, 109.51it/s]\u001b[A\n",
      "  6%|▌         | 87/1441 [00:00<00:09, 138.20it/s]\u001b[A\n",
      "  8%|▊         | 110/1441 [00:00<00:08, 161.78it/s]\u001b[A\n",
      "  9%|▉         | 132/1441 [00:00<00:07, 176.63it/s]\u001b[A\n",
      " 11%|█         | 154/1441 [00:01<00:06, 186.58it/s]\u001b[A\n",
      " 12%|█▏        | 175/1441 [00:01<00:06, 192.88it/s]\u001b[A\n",
      " 14%|█▎        | 197/1441 [00:01<00:06, 198.34it/s]\u001b[A\n",
      " 15%|█▌        | 219/1441 [00:01<00:06, 203.35it/s]\u001b[A\n",
      " 17%|█▋        | 242/1441 [00:01<00:05, 209.94it/s]\u001b[A\n",
      " 18%|█▊        | 264/1441 [00:01<00:05, 212.78it/s]\u001b[A\n",
      " 20%|█▉        | 286/1441 [00:01<00:05, 213.24it/s]\u001b[A\n",
      " 21%|██▏       | 308/1441 [00:01<00:05, 213.06it/s]\u001b[A\n",
      " 23%|██▎       | 331/1441 [00:01<00:05, 217.67it/s]\u001b[A\n",
      " 25%|██▍       | 354/1441 [00:01<00:04, 218.95it/s]\u001b[A\n",
      " 26%|██▌       | 376/1441 [00:02<00:04, 217.39it/s]\u001b[A\n",
      " 28%|██▊       | 398/1441 [00:02<00:04, 217.90it/s]\u001b[A\n",
      " 29%|██▉       | 421/1441 [00:02<00:04, 220.29it/s]\u001b[A\n",
      " 31%|███       | 444/1441 [00:02<00:04, 220.63it/s]\u001b[A\n",
      " 32%|███▏      | 467/1441 [00:02<00:04, 223.00it/s]\u001b[A\n",
      " 34%|███▍      | 490/1441 [00:02<00:04, 224.96it/s]\u001b[A\n",
      " 36%|███▌      | 513/1441 [00:02<00:04, 224.39it/s]\u001b[A\n",
      " 37%|███▋      | 536/1441 [00:02<00:04, 223.29it/s]\u001b[A\n",
      " 39%|███▉      | 559/1441 [00:02<00:03, 224.33it/s]\u001b[A\n",
      " 40%|████      | 582/1441 [00:02<00:03, 224.47it/s]\u001b[A\n",
      " 42%|████▏     | 605/1441 [00:03<00:03, 223.04it/s]\u001b[A\n",
      " 44%|████▎     | 628/1441 [00:03<00:03, 223.07it/s]\u001b[A\n",
      " 45%|████▌     | 652/1441 [00:03<00:03, 226.23it/s]\u001b[A\n",
      " 47%|████▋     | 675/1441 [00:03<00:03, 224.86it/s]\u001b[A\n",
      " 48%|████▊     | 698/1441 [00:03<00:03, 224.99it/s]\u001b[A\n",
      " 50%|█████     | 722/1441 [00:03<00:03, 227.17it/s]\u001b[A\n",
      " 52%|█████▏    | 745/1441 [00:03<00:03, 224.67it/s]\u001b[A\n",
      " 53%|█████▎    | 768/1441 [00:03<00:03, 223.45it/s]\u001b[A\n",
      " 55%|█████▍    | 791/1441 [00:03<00:02, 223.97it/s]\u001b[A\n",
      " 56%|█████▋    | 814/1441 [00:04<00:02, 224.22it/s]\u001b[A\n",
      " 58%|█████▊    | 837/1441 [00:04<00:02, 224.85it/s]\u001b[A\n",
      " 60%|█████▉    | 860/1441 [00:04<00:02, 224.13it/s]\u001b[A\n",
      " 61%|██████▏   | 884/1441 [00:04<00:02, 226.52it/s]\u001b[A\n",
      " 63%|██████▎   | 907/1441 [00:04<00:02, 227.40it/s]\u001b[A\n",
      " 65%|██████▍   | 930/1441 [00:04<00:02, 226.31it/s]\u001b[A\n",
      " 66%|██████▌   | 953/1441 [00:04<00:02, 225.36it/s]\u001b[A\n",
      " 68%|██████▊   | 976/1441 [00:04<00:02, 223.88it/s]\u001b[A\n",
      " 69%|██████▉   | 999/1441 [00:04<00:01, 223.18it/s]\u001b[A\n",
      " 71%|███████   | 1022/1441 [00:04<00:01, 223.78it/s]\u001b[A\n",
      " 73%|███████▎  | 1045/1441 [00:05<00:01, 221.94it/s]\u001b[A\n",
      " 74%|███████▍  | 1068/1441 [00:05<00:01, 220.73it/s]\u001b[A\n",
      " 76%|███████▌  | 1091/1441 [00:05<00:01, 221.82it/s]\u001b[A\n",
      " 77%|███████▋  | 1115/1441 [00:05<00:01, 225.51it/s]\u001b[A\n",
      " 79%|███████▉  | 1138/1441 [00:05<00:01, 223.81it/s]\u001b[A\n",
      " 81%|████████  | 1162/1441 [00:05<00:01, 227.13it/s]\u001b[A\n",
      " 82%|████████▏ | 1185/1441 [00:05<00:01, 226.96it/s]\u001b[A\n",
      " 84%|████████▍ | 1208/1441 [00:05<00:01, 226.59it/s]\u001b[A\n",
      " 85%|████████▌ | 1231/1441 [00:05<00:00, 225.52it/s]\u001b[A\n",
      " 87%|████████▋ | 1254/1441 [00:05<00:00, 224.59it/s]\u001b[A\n",
      " 89%|████████▊ | 1277/1441 [00:06<00:00, 223.96it/s]\u001b[A\n",
      " 90%|█████████ | 1300/1441 [00:06<00:00, 223.22it/s]\u001b[A\n",
      " 92%|█████████▏| 1323/1441 [00:06<00:00, 223.16it/s]\u001b[A\n",
      " 93%|█████████▎| 1347/1441 [00:06<00:00, 226.69it/s]\u001b[A\n",
      " 95%|█████████▌| 1370/1441 [00:06<00:00, 225.43it/s]\u001b[A\n",
      " 97%|█████████▋| 1393/1441 [00:06<00:00, 223.34it/s]\u001b[A\n",
      " 98%|█████████▊| 1416/1441 [00:06<00:00, 224.60it/s]\u001b[A\n",
      "100%|██████████| 1441/1441 [00:06<00:00, 211.22it/s]\n",
      "\n",
      "  0%|          | 0/1441 [00:00<?, ?it/s]\u001b[A\n",
      "  2%|▏         | 22/1441 [00:00<00:06, 219.10it/s]\u001b[A\n",
      "  3%|▎         | 44/1441 [00:00<00:06, 213.96it/s]\u001b[A\n",
      "  5%|▍         | 66/1441 [00:00<00:06, 215.93it/s]\u001b[A\n",
      "  6%|▌         | 89/1441 [00:00<00:06, 218.58it/s]\u001b[A\n",
      "  8%|▊         | 111/1441 [00:00<00:06, 217.12it/s]\u001b[A\n",
      "  9%|▉         | 133/1441 [00:00<00:06, 216.07it/s]\u001b[A\n",
      " 11%|█         | 155/1441 [00:00<00:05, 215.22it/s]\u001b[A\n",
      " 12%|█▏        | 177/1441 [00:00<00:05, 215.58it/s]\u001b[A\n",
      " 14%|█▍        | 200/1441 [00:00<00:05, 217.33it/s]\u001b[A\n",
      " 15%|█▌        | 222/1441 [00:01<00:05, 216.20it/s]\u001b[A\n",
      " 17%|█▋        | 244/1441 [00:01<00:05, 214.09it/s]\u001b[A\n",
      " 18%|█▊        | 266/1441 [00:01<00:05, 214.21it/s]\u001b[A\n",
      " 20%|██        | 289/1441 [00:01<00:05, 216.24it/s]\u001b[A\n",
      " 22%|██▏       | 312/1441 [00:01<00:05, 218.21it/s]\u001b[A\n",
      " 23%|██▎       | 335/1441 [00:01<00:05, 219.03it/s]\u001b[A\n",
      " 25%|██▍       | 357/1441 [00:01<00:04, 218.28it/s]\u001b[A\n",
      " 26%|██▋       | 379/1441 [00:01<00:04, 217.00it/s]\u001b[A\n",
      " 28%|██▊       | 401/1441 [00:01<00:04, 216.28it/s]\u001b[A\n",
      " 29%|██▉       | 423/1441 [00:01<00:04, 216.18it/s]\u001b[A\n",
      " 31%|███       | 445/1441 [00:02<00:04, 215.85it/s]\u001b[A\n",
      " 32%|███▏      | 467/1441 [00:02<00:04, 216.10it/s]\u001b[A\n",
      " 34%|███▍      | 489/1441 [00:02<00:04, 213.55it/s]\u001b[A\n",
      " 35%|███▌      | 511/1441 [00:02<00:04, 213.58it/s]\u001b[A\n",
      " 37%|███▋      | 533/1441 [00:02<00:04, 215.41it/s]\u001b[A\n",
      " 39%|███▊      | 556/1441 [00:02<00:04, 218.80it/s]\u001b[A\n",
      " 40%|████      | 578/1441 [00:02<00:03, 219.15it/s]\u001b[A\n",
      " 42%|████▏     | 601/1441 [00:02<00:03, 220.58it/s]\u001b[A\n",
      " 43%|████▎     | 624/1441 [00:02<00:03, 218.29it/s]\u001b[A\n",
      " 45%|████▍     | 646/1441 [00:02<00:03, 216.75it/s]\u001b[A\n",
      " 46%|████▋     | 669/1441 [00:03<00:03, 218.12it/s]\u001b[A\n",
      " 48%|████▊     | 691/1441 [00:03<00:03, 217.05it/s]\u001b[A\n",
      " 49%|████▉     | 713/1441 [00:03<00:03, 217.34it/s]\u001b[A\n",
      " 51%|█████     | 735/1441 [00:03<00:03, 217.83it/s]\u001b[A\n",
      " 53%|█████▎    | 757/1441 [00:03<00:03, 216.84it/s]\u001b[A\n",
      " 54%|█████▍    | 780/1441 [00:03<00:03, 219.74it/s]\u001b[A\n",
      " 56%|█████▌    | 803/1441 [00:03<00:02, 220.60it/s]\u001b[A\n",
      " 57%|█████▋    | 826/1441 [00:03<00:02, 221.22it/s]\u001b[A\n",
      " 59%|█████▉    | 849/1441 [00:03<00:02, 221.57it/s]\u001b[A\n",
      " 61%|██████    | 872/1441 [00:04<00:02, 221.72it/s]\u001b[A\n",
      " 62%|██████▏   | 895/1441 [00:04<00:02, 220.99it/s]\u001b[A\n",
      " 64%|██████▎   | 918/1441 [00:04<00:02, 218.97it/s]\u001b[A\n",
      " 65%|██████▌   | 940/1441 [00:04<00:02, 216.42it/s]\u001b[A\n",
      " 67%|██████▋   | 963/1441 [00:04<00:02, 217.97it/s]\u001b[A\n",
      " 68%|██████▊   | 986/1441 [00:04<00:02, 219.18it/s]\u001b[A\n",
      " 70%|██████▉   | 1008/1441 [00:04<00:01, 219.31it/s]\u001b[A\n",
      " 72%|███████▏  | 1031/1441 [00:04<00:01, 219.93it/s]\u001b[A\n",
      " 73%|███████▎  | 1053/1441 [00:04<00:01, 219.07it/s]\u001b[A\n",
      " 75%|███████▍  | 1075/1441 [00:04<00:01, 217.85it/s]\u001b[A\n",
      " 76%|███████▌  | 1097/1441 [00:05<00:01, 217.90it/s]\u001b[A\n",
      " 78%|███████▊  | 1119/1441 [00:05<00:01, 215.90it/s]\u001b[A\n",
      " 79%|███████▉  | 1141/1441 [00:05<00:01, 215.36it/s]\u001b[A\n",
      " 81%|████████  | 1163/1441 [00:05<00:01, 214.85it/s]\u001b[A\n",
      " 82%|████████▏ | 1185/1441 [00:05<00:01, 216.08it/s]\u001b[A\n",
      " 84%|████████▍ | 1207/1441 [00:05<00:01, 217.16it/s]\u001b[A\n",
      " 85%|████████▌ | 1229/1441 [00:05<00:00, 216.80it/s]\u001b[A\n",
      " 87%|████████▋ | 1251/1441 [00:05<00:00, 215.82it/s]\u001b[A\n",
      " 88%|████████▊ | 1273/1441 [00:05<00:00, 216.55it/s]\u001b[A\n",
      " 90%|████████▉ | 1295/1441 [00:05<00:00, 216.88it/s]\u001b[A\n",
      " 91%|█████████▏| 1317/1441 [00:06<00:00, 215.94it/s]\u001b[A\n",
      " 93%|█████████▎| 1339/1441 [00:06<00:00, 214.15it/s]\u001b[A\n",
      " 94%|█████████▍| 1361/1441 [00:06<00:00, 215.67it/s]\u001b[A\n",
      " 96%|█████████▌| 1383/1441 [00:06<00:00, 215.68it/s]\u001b[A\n",
      " 98%|█████████▊| 1406/1441 [00:06<00:00, 219.86it/s]\u001b[A\n",
      "100%|██████████| 1441/1441 [00:06<00:00, 217.57it/s]\n",
      "\n",
      "  0%|          | 0/1441 [00:00<?, ?it/s]\u001b[A\n",
      "  1%|          | 12/1441 [00:00<00:12, 116.59it/s]\u001b[A\n",
      "  2%|▏         | 24/1441 [00:00<00:12, 115.10it/s]\u001b[A\n",
      "  2%|▏         | 36/1441 [00:00<00:12, 114.67it/s]\u001b[A\n",
      "  3%|▎         | 48/1441 [00:00<00:12, 115.08it/s]\u001b[A\n",
      "  4%|▍         | 60/1441 [00:00<00:12, 114.65it/s]\u001b[A\n",
      "  5%|▍         | 72/1441 [00:00<00:12, 114.02it/s]\u001b[A\n",
      "  6%|▌         | 84/1441 [00:00<00:11, 114.66it/s]\u001b[A\n",
      "  7%|▋         | 96/1441 [00:00<00:11, 114.07it/s]\u001b[A\n",
      "  7%|▋         | 108/1441 [00:00<00:11, 114.52it/s]\u001b[A\n",
      "  8%|▊         | 120/1441 [00:01<00:11, 114.30it/s]\u001b[A\n",
      "  9%|▉         | 132/1441 [00:01<00:11, 114.53it/s]\u001b[A\n",
      " 10%|▉         | 144/1441 [00:01<00:11, 113.71it/s]\u001b[A\n",
      " 11%|█         | 156/1441 [00:01<00:11, 113.95it/s]\u001b[A\n",
      " 12%|█▏        | 168/1441 [00:01<00:11, 114.41it/s]\u001b[A\n",
      " 12%|█▏        | 180/1441 [00:01<00:11, 114.23it/s]\u001b[A\n",
      " 13%|█▎        | 192/1441 [00:01<00:10, 114.75it/s]\u001b[A\n",
      " 14%|█▍        | 204/1441 [00:01<00:10, 114.90it/s]\u001b[A\n",
      " 15%|█▍        | 216/1441 [00:01<00:10, 114.36it/s]\u001b[A\n",
      " 16%|█▌        | 228/1441 [00:01<00:10, 114.44it/s]\u001b[A\n",
      " 17%|█▋        | 240/1441 [00:02<00:10, 114.51it/s]\u001b[A\n",
      " 17%|█▋        | 252/1441 [00:02<00:10, 114.67it/s]\u001b[A\n",
      " 18%|█▊        | 264/1441 [00:02<00:10, 114.92it/s]\u001b[A\n",
      " 19%|█▉        | 276/1441 [00:02<00:10, 115.05it/s]\u001b[A\n",
      " 20%|█▉        | 288/1441 [00:02<00:10, 114.90it/s]\u001b[A\n",
      " 21%|██        | 300/1441 [00:02<00:09, 114.85it/s]\u001b[A\n",
      " 22%|██▏       | 312/1441 [00:02<00:09, 114.81it/s]\u001b[A\n",
      " 22%|██▏       | 324/1441 [00:02<00:09, 114.67it/s]\u001b[A\n",
      " 23%|██▎       | 336/1441 [00:02<00:09, 115.08it/s]\u001b[A\n",
      " 24%|██▍       | 348/1441 [00:03<00:09, 115.01it/s]\u001b[A\n",
      " 25%|██▍       | 360/1441 [00:03<00:09, 115.08it/s]\u001b[A\n",
      " 26%|██▌       | 372/1441 [00:03<00:09, 115.03it/s]\u001b[A\n",
      " 27%|██▋       | 384/1441 [00:03<00:09, 114.65it/s]\u001b[A\n",
      " 27%|██▋       | 396/1441 [00:03<00:09, 114.33it/s]\u001b[A\n",
      " 28%|██▊       | 408/1441 [00:03<00:09, 113.88it/s]\u001b[A\n",
      " 29%|██▉       | 420/1441 [00:03<00:08, 113.89it/s]\u001b[A\n",
      " 30%|██▉       | 432/1441 [00:03<00:08, 114.81it/s]\u001b[A\n",
      " 31%|███       | 444/1441 [00:03<00:08, 114.55it/s]\u001b[A\n",
      " 32%|███▏      | 456/1441 [00:03<00:08, 114.30it/s]\u001b[A\n",
      " 32%|███▏      | 468/1441 [00:04<00:08, 114.48it/s]\u001b[A\n",
      " 33%|███▎      | 480/1441 [00:04<00:08, 114.81it/s]\u001b[A\n",
      " 34%|███▍      | 492/1441 [00:04<00:08, 114.94it/s]\u001b[A\n",
      " 35%|███▍      | 504/1441 [00:04<00:08, 114.45it/s]\u001b[A\n",
      " 36%|███▌      | 516/1441 [00:04<00:08, 115.13it/s]\u001b[A\n",
      " 37%|███▋      | 528/1441 [00:04<00:07, 114.75it/s]\u001b[A\n",
      " 37%|███▋      | 540/1441 [00:04<00:07, 114.73it/s]\u001b[A\n",
      " 38%|███▊      | 552/1441 [00:04<00:07, 115.39it/s]\u001b[A\n",
      " 39%|███▉      | 564/1441 [00:04<00:07, 115.21it/s]\u001b[A\n",
      " 40%|███▉      | 576/1441 [00:05<00:07, 115.32it/s]\u001b[A\n",
      " 41%|████      | 588/1441 [00:05<00:07, 114.41it/s]\u001b[A\n",
      " 42%|████▏     | 600/1441 [00:05<00:07, 114.22it/s]\u001b[A\n",
      " 42%|████▏     | 612/1441 [00:05<00:07, 114.93it/s]\u001b[A\n",
      " 43%|████▎     | 624/1441 [00:05<00:07, 114.88it/s]\u001b[A\n",
      " 44%|████▍     | 636/1441 [00:05<00:06, 115.22it/s]\u001b[A\n",
      " 45%|████▍     | 648/1441 [00:05<00:06, 114.82it/s]\u001b[A\n",
      " 46%|████▌     | 660/1441 [00:05<00:06, 115.18it/s]\u001b[A\n",
      " 47%|████▋     | 672/1441 [00:05<00:06, 114.95it/s]\u001b[A\n",
      " 47%|████▋     | 684/1441 [00:05<00:06, 115.02it/s]\u001b[A\n",
      " 48%|████▊     | 696/1441 [00:06<00:06, 115.05it/s]\u001b[A\n",
      " 49%|████▉     | 708/1441 [00:06<00:06, 114.55it/s]\u001b[A\n",
      " 50%|████▉     | 720/1441 [00:06<00:06, 115.21it/s]\u001b[A\n",
      " 51%|█████     | 732/1441 [00:06<00:06, 114.85it/s]\u001b[A\n",
      " 52%|█████▏    | 744/1441 [00:06<00:06, 115.09it/s]\u001b[A\n",
      " 52%|█████▏    | 756/1441 [00:06<00:05, 114.62it/s]\u001b[A\n",
      " 53%|█████▎    | 768/1441 [00:06<00:05, 114.91it/s]\u001b[A\n",
      " 54%|█████▍    | 780/1441 [00:06<00:05, 115.37it/s]\u001b[A\n",
      " 55%|█████▍    | 792/1441 [00:06<00:05, 114.98it/s]\u001b[A\n",
      " 56%|█████▌    | 804/1441 [00:07<00:05, 114.82it/s]\u001b[A\n",
      " 57%|█████▋    | 816/1441 [00:07<00:05, 114.56it/s]\u001b[A\n",
      " 57%|█████▋    | 828/1441 [00:07<00:05, 114.58it/s]\u001b[A\n",
      " 58%|█████▊    | 840/1441 [00:07<00:05, 115.02it/s]\u001b[A\n",
      " 59%|█████▉    | 852/1441 [00:07<00:05, 115.53it/s]\u001b[A\n",
      " 60%|█████▉    | 864/1441 [00:07<00:05, 114.84it/s]\u001b[A\n",
      " 61%|██████    | 876/1441 [00:07<00:04, 114.65it/s]\u001b[A\n",
      " 62%|██████▏   | 888/1441 [00:07<00:04, 115.39it/s]\u001b[A\n",
      " 62%|██████▏   | 900/1441 [00:07<00:04, 114.89it/s]\u001b[A\n",
      " 63%|██████▎   | 912/1441 [00:07<00:04, 115.04it/s]\u001b[A\n",
      " 64%|██████▍   | 924/1441 [00:08<00:04, 115.23it/s]\u001b[A\n",
      " 65%|██████▍   | 936/1441 [00:08<00:04, 115.43it/s]\u001b[A\n",
      " 66%|██████▌   | 948/1441 [00:08<00:04, 114.85it/s]\u001b[A\n",
      " 67%|██████▋   | 960/1441 [00:08<00:04, 114.39it/s]\u001b[A\n",
      " 67%|██████▋   | 972/1441 [00:08<00:04, 114.68it/s]\u001b[A\n",
      " 68%|██████▊   | 984/1441 [00:08<00:03, 114.37it/s]\u001b[A\n",
      " 69%|██████▉   | 996/1441 [00:08<00:03, 113.93it/s]\u001b[A\n",
      " 70%|██████▉   | 1008/1441 [00:08<00:03, 114.97it/s]\u001b[A\n",
      " 71%|███████   | 1020/1441 [00:08<00:03, 115.24it/s]\u001b[A\n",
      " 72%|███████▏  | 1032/1441 [00:08<00:03, 115.74it/s]\u001b[A\n",
      " 72%|███████▏  | 1044/1441 [00:09<00:03, 115.26it/s]\u001b[A\n",
      " 73%|███████▎  | 1056/1441 [00:09<00:03, 115.61it/s]\u001b[A\n",
      " 74%|███████▍  | 1068/1441 [00:09<00:03, 115.65it/s]\u001b[A\n",
      " 75%|███████▍  | 1080/1441 [00:09<00:03, 115.15it/s]\u001b[A\n",
      " 76%|███████▌  | 1092/1441 [00:09<00:03, 114.99it/s]\u001b[A\n",
      " 77%|███████▋  | 1104/1441 [00:09<00:02, 114.44it/s]\u001b[A\n",
      " 77%|███████▋  | 1116/1441 [00:09<00:02, 114.21it/s]\u001b[A\n",
      " 78%|███████▊  | 1128/1441 [00:09<00:02, 114.19it/s]\u001b[A\n",
      " 79%|███████▉  | 1140/1441 [00:09<00:02, 114.68it/s]\u001b[A\n",
      " 80%|███████▉  | 1152/1441 [00:10<00:02, 114.00it/s]\u001b[A\n",
      " 81%|████████  | 1164/1441 [00:10<00:02, 114.64it/s]\u001b[A\n",
      " 82%|████████▏ | 1176/1441 [00:10<00:02, 115.33it/s]\u001b[A\n",
      " 82%|████████▏ | 1188/1441 [00:10<00:02, 115.30it/s]\u001b[A\n",
      " 83%|████████▎ | 1200/1441 [00:10<00:02, 115.13it/s]\u001b[A\n",
      " 84%|████████▍ | 1212/1441 [00:10<00:02, 114.00it/s]\u001b[A\n",
      " 85%|████████▍ | 1224/1441 [00:10<00:01, 114.52it/s]\u001b[A\n",
      " 86%|████████▌ | 1236/1441 [00:10<00:01, 115.10it/s]\u001b[A\n",
      " 87%|████████▋ | 1248/1441 [00:10<00:01, 115.19it/s]\u001b[A\n",
      " 87%|████████▋ | 1260/1441 [00:10<00:01, 115.55it/s]\u001b[A\n",
      " 88%|████████▊ | 1272/1441 [00:11<00:01, 115.66it/s]\u001b[A\n",
      " 89%|████████▉ | 1284/1441 [00:11<00:01, 114.97it/s]\u001b[A\n",
      " 90%|████████▉ | 1296/1441 [00:11<00:01, 114.80it/s]\u001b[A\n",
      " 91%|█████████ | 1308/1441 [00:11<00:01, 114.41it/s]\u001b[A\n",
      " 92%|█████████▏| 1320/1441 [00:11<00:01, 113.89it/s]\u001b[A\n",
      " 92%|█████████▏| 1332/1441 [00:11<00:00, 113.89it/s]\u001b[A\n",
      " 93%|█████████▎| 1344/1441 [00:11<00:00, 113.41it/s]\u001b[A\n",
      " 94%|█████████▍| 1356/1441 [00:11<00:00, 114.06it/s]\u001b[A\n",
      " 95%|█████████▍| 1368/1441 [00:11<00:00, 113.15it/s]\u001b[A\n",
      " 96%|█████████▌| 1380/1441 [00:12<00:00, 112.76it/s]\u001b[A\n",
      " 97%|█████████▋| 1392/1441 [00:12<00:00, 113.13it/s]\u001b[A\n",
      " 97%|█████████▋| 1404/1441 [00:12<00:00, 113.31it/s]\u001b[A\n",
      " 98%|█████████▊| 1416/1441 [00:12<00:00, 113.61it/s]\u001b[A\n",
      " 99%|█████████▉| 1428/1441 [00:12<00:00, 112.23it/s]\u001b[A\n",
      "100%|██████████| 1441/1441 [00:12<00:00, 114.58it/s]\n",
      " 50%|█████     | 3/6 [07:15<07:45, 155.22s/it]"
     ]
    },
    {
     "name": "stdout",
     "output_type": "stream",
     "text": [
      "75822\n",
      "[3 2]\n"
     ]
    },
    {
     "name": "stderr",
     "output_type": "stream",
     "text": [
      "\n",
      "  0%|          | 0/1517 [00:00<?, ?it/s]\u001b[A\n",
      "  0%|          | 1/1517 [00:00<04:05,  6.17it/s]\u001b[A\n",
      "  1%|          | 14/1517 [00:00<00:35, 42.64it/s]\u001b[A\n",
      "  3%|▎         | 38/1517 [00:00<00:14, 102.75it/s]\u001b[A\n",
      "  4%|▍         | 62/1517 [00:00<00:10, 143.25it/s]\u001b[A\n",
      "  6%|▌         | 86/1517 [00:00<00:08, 172.00it/s]\u001b[A\n",
      "  7%|▋         | 111/1517 [00:00<00:07, 194.19it/s]\u001b[A\n",
      "  9%|▉         | 137/1517 [00:00<00:06, 212.20it/s]\u001b[A\n",
      " 11%|█         | 162/1517 [00:00<00:06, 222.77it/s]\u001b[A\n",
      " 12%|█▏        | 187/1517 [00:01<00:05, 228.46it/s]\u001b[A\n",
      " 14%|█▍        | 212/1517 [00:01<00:05, 234.28it/s]\u001b[A\n",
      " 16%|█▌        | 237/1517 [00:01<00:05, 237.44it/s]\u001b[A\n",
      " 17%|█▋        | 262/1517 [00:01<00:05, 239.90it/s]\u001b[A\n",
      " 19%|█▉        | 287/1517 [00:01<00:05, 239.95it/s]\u001b[A\n",
      " 21%|██        | 312/1517 [00:01<00:05, 238.70it/s]\u001b[A\n",
      " 22%|██▏       | 336/1517 [00:01<00:04, 238.88it/s]\u001b[A\n",
      " 24%|██▎       | 360/1517 [00:01<00:04, 237.69it/s]\u001b[A\n",
      " 25%|██▌       | 385/1517 [00:01<00:04, 239.06it/s]\u001b[A\n",
      " 27%|██▋       | 410/1517 [00:02<00:04, 239.99it/s]\u001b[A\n",
      " 29%|██▊       | 435/1517 [00:02<00:04, 238.62it/s]\u001b[A\n",
      " 30%|███       | 460/1517 [00:02<00:04, 239.91it/s]\u001b[A\n",
      " 32%|███▏      | 485/1517 [00:02<00:04, 239.84it/s]\u001b[A\n",
      " 34%|███▎      | 509/1517 [00:02<00:04, 239.28it/s]\u001b[A\n",
      " 35%|███▌      | 533/1517 [00:02<00:04, 237.90it/s]\u001b[A\n",
      " 37%|███▋      | 557/1517 [00:02<00:04, 237.85it/s]\u001b[A\n",
      " 38%|███▊      | 581/1517 [00:02<00:03, 236.68it/s]\u001b[A\n",
      " 40%|███▉      | 606/1517 [00:02<00:03, 239.87it/s]\u001b[A\n",
      " 42%|████▏     | 630/1517 [00:02<00:03, 239.65it/s]\u001b[A\n",
      " 43%|████▎     | 654/1517 [00:03<00:03, 237.89it/s]\u001b[A\n",
      " 45%|████▍     | 678/1517 [00:03<00:03, 236.84it/s]\u001b[A\n",
      " 46%|████▋     | 702/1517 [00:03<00:03, 234.32it/s]\u001b[A\n",
      " 48%|████▊     | 726/1517 [00:03<00:03, 235.30it/s]\u001b[A\n",
      " 49%|████▉     | 750/1517 [00:03<00:03, 235.66it/s]\u001b[A\n",
      " 51%|█████     | 774/1517 [00:03<00:03, 235.47it/s]\u001b[A\n",
      " 53%|█████▎    | 798/1517 [00:03<00:03, 234.85it/s]\u001b[A\n",
      " 54%|█████▍    | 822/1517 [00:03<00:02, 235.83it/s]\u001b[A\n",
      " 56%|█████▌    | 846/1517 [00:03<00:02, 234.25it/s]\u001b[A\n",
      " 57%|█████▋    | 871/1517 [00:03<00:02, 236.92it/s]\u001b[A\n",
      " 59%|█████▉    | 896/1517 [00:04<00:02, 237.81it/s]\u001b[A\n",
      " 61%|██████    | 921/1517 [00:04<00:02, 238.74it/s]\u001b[A\n",
      " 62%|██████▏   | 945/1517 [00:04<00:02, 238.81it/s]\u001b[A\n",
      " 64%|██████▍   | 970/1517 [00:04<00:02, 239.72it/s]\u001b[A\n",
      " 66%|██████▌   | 994/1517 [00:04<00:02, 239.32it/s]\u001b[A\n",
      " 67%|██████▋   | 1018/1517 [00:04<00:02, 239.22it/s]\u001b[A\n",
      " 69%|██████▉   | 1043/1517 [00:04<00:01, 240.35it/s]\u001b[A\n",
      " 70%|███████   | 1068/1517 [00:04<00:01, 240.55it/s]\u001b[A\n",
      " 72%|███████▏  | 1093/1517 [00:04<00:01, 241.81it/s]\u001b[A\n",
      " 74%|███████▎  | 1118/1517 [00:04<00:01, 243.90it/s]\u001b[A\n",
      " 75%|███████▌  | 1143/1517 [00:05<00:01, 242.41it/s]\u001b[A\n",
      " 77%|███████▋  | 1168/1517 [00:05<00:01, 241.05it/s]\u001b[A\n",
      " 79%|███████▊  | 1193/1517 [00:05<00:01, 240.15it/s]\u001b[A\n",
      " 80%|████████  | 1218/1517 [00:05<00:01, 241.71it/s]\u001b[A\n",
      " 82%|████████▏ | 1243/1517 [00:05<00:01, 240.61it/s]\u001b[A\n",
      " 84%|████████▎ | 1268/1517 [00:05<00:01, 241.44it/s]\u001b[A\n",
      " 85%|████████▌ | 1293/1517 [00:05<00:00, 241.93it/s]\u001b[A\n",
      " 87%|████████▋ | 1318/1517 [00:05<00:00, 242.75it/s]\u001b[A\n",
      " 89%|████████▊ | 1343/1517 [00:05<00:00, 240.79it/s]\u001b[A\n",
      " 90%|█████████ | 1368/1517 [00:06<00:00, 241.08it/s]\u001b[A\n",
      " 92%|█████████▏| 1393/1517 [00:06<00:00, 240.47it/s]\u001b[A\n",
      " 93%|█████████▎| 1418/1517 [00:06<00:00, 242.03it/s]\u001b[A\n",
      " 95%|█████████▌| 1443/1517 [00:06<00:00, 241.55it/s]\u001b[A\n",
      " 97%|█████████▋| 1468/1517 [00:06<00:00, 241.63it/s]\u001b[A\n",
      "100%|██████████| 1517/1517 [00:06<00:00, 228.58it/s]\n",
      "\n",
      "  0%|          | 0/1517 [00:00<?, ?it/s]\u001b[A\n",
      "  2%|▏         | 25/1517 [00:00<00:06, 247.72it/s]\u001b[A\n",
      "  3%|▎         | 50/1517 [00:00<00:05, 246.32it/s]\u001b[A\n",
      "  5%|▌         | 76/1517 [00:00<00:05, 251.21it/s]\u001b[A\n",
      "  7%|▋         | 102/1517 [00:00<00:05, 249.71it/s]\u001b[A\n",
      "  8%|▊         | 127/1517 [00:00<00:05, 248.58it/s]\u001b[A\n",
      " 10%|█         | 153/1517 [00:00<00:05, 250.17it/s]\u001b[A\n",
      " 12%|█▏        | 179/1517 [00:00<00:05, 251.94it/s]\u001b[A\n",
      " 14%|█▎        | 205/1517 [00:00<00:05, 251.15it/s]\u001b[A\n",
      " 15%|█▌        | 231/1517 [00:00<00:05, 250.35it/s]\u001b[A\n",
      " 17%|█▋        | 257/1517 [00:01<00:05, 249.01it/s]\u001b[A\n",
      " 19%|█▊        | 282/1517 [00:01<00:04, 248.85it/s]\u001b[A\n",
      " 20%|██        | 307/1517 [00:01<00:04, 248.30it/s]\u001b[A\n",
      " 22%|██▏       | 333/1517 [00:01<00:04, 249.84it/s]\u001b[A\n",
      " 24%|██▎       | 359/1517 [00:01<00:04, 250.94it/s]\u001b[A\n",
      " 25%|██▌       | 385/1517 [00:01<00:04, 252.65it/s]\u001b[A\n",
      " 27%|██▋       | 411/1517 [00:01<00:04, 247.53it/s]\u001b[A\n",
      " 29%|██▉       | 437/1517 [00:01<00:04, 249.77it/s]\u001b[A\n",
      " 30%|███       | 462/1517 [00:01<00:04, 249.05it/s]\u001b[A\n",
      " 32%|███▏      | 488/1517 [00:01<00:04, 250.05it/s]\u001b[A\n",
      " 34%|███▍      | 514/1517 [00:02<00:03, 252.23it/s]\u001b[A\n",
      " 36%|███▌      | 541/1517 [00:02<00:03, 254.93it/s]\u001b[A\n",
      " 37%|███▋      | 567/1517 [00:02<00:03, 254.77it/s]\u001b[A\n",
      " 39%|███▉      | 593/1517 [00:02<00:03, 255.20it/s]\u001b[A\n",
      " 41%|████      | 619/1517 [00:02<00:03, 256.10it/s]\u001b[A\n",
      " 43%|████▎     | 646/1517 [00:02<00:03, 259.50it/s]\u001b[A\n",
      " 44%|████▍     | 672/1517 [00:02<00:03, 259.18it/s]\u001b[A\n",
      " 46%|████▌     | 698/1517 [00:02<00:03, 257.64it/s]\u001b[A\n",
      " 48%|████▊     | 724/1517 [00:02<00:03, 258.08it/s]\u001b[A\n",
      " 49%|████▉     | 750/1517 [00:02<00:02, 257.79it/s]\u001b[A\n",
      " 51%|█████     | 776/1517 [00:03<00:02, 257.11it/s]\u001b[A\n",
      " 53%|█████▎    | 802/1517 [00:03<00:02, 254.61it/s]\u001b[A\n",
      " 55%|█████▍    | 829/1517 [00:03<00:02, 257.19it/s]\u001b[A\n",
      " 56%|█████▋    | 856/1517 [00:03<00:02, 260.30it/s]\u001b[A\n",
      " 58%|█████▊    | 883/1517 [00:03<00:02, 258.69it/s]\u001b[A\n",
      " 60%|█████▉    | 910/1517 [00:03<00:02, 259.61it/s]\u001b[A\n",
      " 62%|██████▏   | 937/1517 [00:03<00:02, 260.38it/s]\u001b[A\n",
      " 64%|██████▎   | 964/1517 [00:03<00:02, 260.96it/s]\u001b[A\n",
      " 65%|██████▌   | 991/1517 [00:03<00:02, 261.43it/s]\u001b[A\n",
      " 67%|██████▋   | 1018/1517 [00:04<00:01, 261.08it/s]\u001b[A\n",
      " 69%|██████▉   | 1045/1517 [00:04<00:01, 263.08it/s]\u001b[A\n",
      " 71%|███████   | 1072/1517 [00:04<00:01, 261.36it/s]\u001b[A\n",
      " 72%|███████▏  | 1099/1517 [00:04<00:01, 262.33it/s]\u001b[A\n",
      " 74%|███████▍  | 1126/1517 [00:04<00:01, 258.97it/s]\u001b[A\n",
      " 76%|███████▌  | 1152/1517 [00:04<00:01, 257.32it/s]\u001b[A\n",
      " 78%|███████▊  | 1179/1517 [00:04<00:01, 258.17it/s]\u001b[A\n",
      " 79%|███████▉  | 1205/1517 [00:04<00:01, 258.34it/s]\u001b[A\n",
      " 81%|████████  | 1231/1517 [00:04<00:01, 257.98it/s]\u001b[A\n",
      " 83%|████████▎ | 1259/1517 [00:04<00:00, 262.24it/s]\u001b[A\n",
      " 85%|████████▍ | 1286/1517 [00:05<00:00, 260.94it/s]\u001b[A\n",
      " 87%|████████▋ | 1313/1517 [00:05<00:00, 261.49it/s]\u001b[A\n",
      " 88%|████████▊ | 1340/1517 [00:05<00:00, 260.77it/s]\u001b[A\n",
      " 90%|█████████ | 1367/1517 [00:05<00:00, 263.00it/s]\u001b[A\n",
      " 92%|█████████▏| 1395/1517 [00:05<00:00, 265.68it/s]\u001b[A\n",
      " 94%|█████████▎| 1422/1517 [00:05<00:00, 262.55it/s]\u001b[A\n",
      " 96%|█████████▌| 1449/1517 [00:05<00:00, 261.36it/s]\u001b[A\n",
      " 97%|█████████▋| 1476/1517 [00:05<00:00, 260.62it/s]\u001b[A\n",
      "100%|██████████| 1517/1517 [00:05<00:00, 256.16it/s]\n",
      "\n",
      "  0%|          | 0/1517 [00:00<?, ?it/s]\u001b[A\n",
      "  1%|          | 12/1517 [00:00<00:13, 113.06it/s]\u001b[A\n",
      "  2%|▏         | 24/1517 [00:00<00:13, 110.74it/s]\u001b[A\n",
      "  2%|▏         | 36/1517 [00:00<00:13, 110.28it/s]\u001b[A\n",
      "  3%|▎         | 48/1517 [00:00<00:13, 109.79it/s]\u001b[A\n",
      "  4%|▍         | 60/1517 [00:00<00:13, 109.83it/s]\u001b[A\n",
      "  5%|▍         | 72/1517 [00:00<00:13, 110.23it/s]\u001b[A\n",
      "  6%|▌         | 84/1517 [00:00<00:12, 110.33it/s]\u001b[A\n",
      "  6%|▋         | 96/1517 [00:00<00:12, 109.97it/s]\u001b[A\n",
      "  7%|▋         | 107/1517 [00:00<00:12, 109.74it/s]\u001b[A\n",
      "  8%|▊         | 118/1517 [00:01<00:12, 109.20it/s]\u001b[A\n",
      "  9%|▊         | 130/1517 [00:01<00:12, 109.62it/s]\u001b[A\n",
      "  9%|▉         | 141/1517 [00:01<00:12, 108.83it/s]\u001b[A\n",
      " 10%|█         | 153/1517 [00:01<00:12, 109.50it/s]\u001b[A\n",
      " 11%|█         | 165/1517 [00:01<00:12, 109.69it/s]\u001b[A\n",
      " 12%|█▏        | 176/1517 [00:01<00:12, 109.67it/s]\u001b[A\n",
      " 12%|█▏        | 187/1517 [00:01<00:12, 109.46it/s]\u001b[A\n",
      " 13%|█▎        | 198/1517 [00:01<00:12, 108.69it/s]\u001b[A\n",
      " 14%|█▍        | 209/1517 [00:01<00:12, 108.73it/s]\u001b[A\n",
      " 15%|█▍        | 220/1517 [00:02<00:11, 108.95it/s]\u001b[A\n",
      " 15%|█▌        | 231/1517 [00:02<00:11, 108.36it/s]\u001b[A\n",
      " 16%|█▌        | 243/1517 [00:02<00:11, 109.20it/s]\u001b[A\n",
      " 17%|█▋        | 255/1517 [00:02<00:11, 109.56it/s]\u001b[A\n",
      " 18%|█▊        | 267/1517 [00:02<00:11, 110.33it/s]\u001b[A\n",
      " 18%|█▊        | 279/1517 [00:02<00:11, 110.37it/s]\u001b[A\n",
      " 19%|█▉        | 291/1517 [00:02<00:11, 109.95it/s]\u001b[A\n",
      " 20%|█▉        | 302/1517 [00:02<00:11, 109.21it/s]\u001b[A\n",
      " 21%|██        | 314/1517 [00:02<00:10, 110.06it/s]\u001b[A\n",
      " 21%|██▏       | 326/1517 [00:02<00:10, 110.86it/s]\u001b[A\n",
      " 22%|██▏       | 338/1517 [00:03<00:10, 111.81it/s]\u001b[A\n",
      " 23%|██▎       | 350/1517 [00:03<00:10, 112.68it/s]\u001b[A\n",
      " 24%|██▍       | 362/1517 [00:03<00:10, 111.98it/s]\u001b[A\n",
      " 25%|██▍       | 374/1517 [00:03<00:10, 111.44it/s]\u001b[A\n",
      " 25%|██▌       | 386/1517 [00:03<00:10, 110.17it/s]\u001b[A\n",
      " 26%|██▌       | 398/1517 [00:03<00:10, 109.92it/s]\u001b[A\n",
      " 27%|██▋       | 409/1517 [00:03<00:10, 109.43it/s]\u001b[A\n",
      " 28%|██▊       | 420/1517 [00:03<00:10, 108.92it/s]\u001b[A\n",
      " 28%|██▊       | 432/1517 [00:03<00:09, 109.58it/s]\u001b[A\n",
      " 29%|██▉       | 444/1517 [00:04<00:09, 109.95it/s]\u001b[A\n",
      " 30%|███       | 456/1517 [00:04<00:09, 110.42it/s]\u001b[A\n",
      " 31%|███       | 468/1517 [00:04<00:09, 111.14it/s]\u001b[A\n",
      " 32%|███▏      | 480/1517 [00:04<00:09, 111.60it/s]\u001b[A\n",
      " 32%|███▏      | 492/1517 [00:04<00:09, 112.34it/s]\u001b[A\n",
      " 33%|███▎      | 504/1517 [00:04<00:09, 112.06it/s]\u001b[A\n",
      " 34%|███▍      | 516/1517 [00:04<00:08, 112.11it/s]\u001b[A\n",
      " 35%|███▍      | 528/1517 [00:04<00:08, 111.56it/s]\u001b[A\n",
      " 36%|███▌      | 540/1517 [00:04<00:08, 111.79it/s]\u001b[A\n",
      " 36%|███▋      | 552/1517 [00:05<00:08, 111.82it/s]\u001b[A\n",
      " 37%|███▋      | 564/1517 [00:05<00:08, 111.85it/s]\u001b[A\n",
      " 38%|███▊      | 576/1517 [00:05<00:08, 112.55it/s]\u001b[A\n",
      " 39%|███▉      | 588/1517 [00:05<00:08, 111.13it/s]\u001b[A\n",
      " 40%|███▉      | 600/1517 [00:05<00:08, 110.92it/s]\u001b[A\n",
      " 40%|████      | 612/1517 [00:05<00:08, 109.83it/s]\u001b[A\n",
      " 41%|████      | 623/1517 [00:05<00:08, 109.84it/s]\u001b[A\n",
      " 42%|████▏     | 634/1517 [00:05<00:08, 109.75it/s]\u001b[A\n",
      " 43%|████▎     | 646/1517 [00:05<00:07, 110.09it/s]\u001b[A\n",
      " 43%|████▎     | 658/1517 [00:05<00:07, 110.55it/s]\u001b[A\n",
      " 44%|████▍     | 670/1517 [00:06<00:07, 111.42it/s]\u001b[A\n",
      " 45%|████▍     | 682/1517 [00:06<00:07, 111.72it/s]\u001b[A\n",
      " 46%|████▌     | 694/1517 [00:06<00:07, 112.49it/s]\u001b[A\n",
      " 47%|████▋     | 706/1517 [00:06<00:07, 111.77it/s]\u001b[A\n",
      " 47%|████▋     | 718/1517 [00:06<00:07, 109.79it/s]\u001b[A\n",
      " 48%|████▊     | 730/1517 [00:06<00:07, 110.16it/s]\u001b[A\n",
      " 49%|████▉     | 742/1517 [00:06<00:07, 110.06it/s]\u001b[A\n",
      " 50%|████▉     | 754/1517 [00:06<00:06, 110.72it/s]\u001b[A\n",
      " 50%|█████     | 766/1517 [00:06<00:06, 110.89it/s]\u001b[A\n",
      " 51%|█████▏    | 778/1517 [00:07<00:06, 111.19it/s]\u001b[A\n",
      " 52%|█████▏    | 790/1517 [00:07<00:06, 110.68it/s]\u001b[A\n",
      " 53%|█████▎    | 802/1517 [00:07<00:06, 110.70it/s]\u001b[A\n",
      " 54%|█████▎    | 814/1517 [00:07<00:06, 110.30it/s]\u001b[A\n",
      " 54%|█████▍    | 826/1517 [00:07<00:06, 110.40it/s]\u001b[A\n",
      " 55%|█████▌    | 838/1517 [00:07<00:06, 110.13it/s]\u001b[A\n",
      " 56%|█████▌    | 850/1517 [00:07<00:06, 110.78it/s]\u001b[A\n",
      " 57%|█████▋    | 862/1517 [00:07<00:05, 110.62it/s]\u001b[A\n",
      " 58%|█████▊    | 874/1517 [00:07<00:05, 111.96it/s]\u001b[A\n",
      " 58%|█████▊    | 886/1517 [00:08<00:05, 112.53it/s]\u001b[A\n",
      " 59%|█████▉    | 898/1517 [00:08<00:05, 112.51it/s]\u001b[A\n",
      " 60%|█████▉    | 910/1517 [00:08<00:05, 112.76it/s]\u001b[A\n",
      " 61%|██████    | 922/1517 [00:08<00:05, 112.56it/s]\u001b[A\n",
      " 62%|██████▏   | 934/1517 [00:08<00:05, 113.06it/s]\u001b[A\n",
      " 62%|██████▏   | 946/1517 [00:08<00:05, 113.35it/s]\u001b[A\n",
      " 63%|██████▎   | 958/1517 [00:08<00:04, 112.86it/s]\u001b[A\n",
      " 64%|██████▍   | 970/1517 [00:08<00:04, 112.55it/s]\u001b[A\n",
      " 65%|██████▍   | 982/1517 [00:08<00:04, 112.04it/s]\u001b[A\n",
      " 66%|██████▌   | 994/1517 [00:08<00:04, 112.59it/s]\u001b[A\n",
      " 66%|██████▋   | 1006/1517 [00:09<00:04, 112.63it/s]\u001b[A\n",
      " 67%|██████▋   | 1018/1517 [00:09<00:04, 112.02it/s]\u001b[A\n",
      " 68%|██████▊   | 1030/1517 [00:09<00:04, 112.80it/s]\u001b[A\n",
      " 69%|██████▊   | 1042/1517 [00:09<00:04, 113.66it/s]\u001b[A\n",
      " 69%|██████▉   | 1054/1517 [00:09<00:04, 114.19it/s]\u001b[A\n",
      " 70%|███████   | 1066/1517 [00:09<00:03, 112.96it/s]\u001b[A\n",
      " 71%|███████   | 1078/1517 [00:09<00:03, 113.12it/s]\u001b[A\n",
      " 72%|███████▏  | 1090/1517 [00:09<00:03, 112.98it/s]\u001b[A\n",
      " 73%|███████▎  | 1102/1517 [00:09<00:03, 113.00it/s]\u001b[A\n",
      " 73%|███████▎  | 1114/1517 [00:10<00:03, 112.98it/s]\u001b[A\n",
      " 74%|███████▍  | 1126/1517 [00:10<00:03, 112.52it/s]\u001b[A\n",
      " 75%|███████▌  | 1138/1517 [00:10<00:03, 112.53it/s]\u001b[A\n",
      " 76%|███████▌  | 1150/1517 [00:10<00:03, 111.95it/s]\u001b[A\n",
      " 77%|███████▋  | 1162/1517 [00:10<00:03, 112.20it/s]\u001b[A\n",
      " 77%|███████▋  | 1174/1517 [00:10<00:03, 112.54it/s]\u001b[A\n",
      " 78%|███████▊  | 1186/1517 [00:10<00:02, 112.84it/s]\u001b[A\n",
      " 79%|███████▉  | 1198/1517 [00:10<00:02, 112.48it/s]\u001b[A\n",
      " 80%|███████▉  | 1210/1517 [00:10<00:02, 112.71it/s]\u001b[A\n",
      " 81%|████████  | 1222/1517 [00:10<00:02, 112.14it/s]\u001b[A\n",
      " 81%|████████▏ | 1234/1517 [00:11<00:02, 112.14it/s]\u001b[A\n",
      " 82%|████████▏ | 1246/1517 [00:11<00:02, 112.81it/s]\u001b[A\n",
      " 83%|████████▎ | 1258/1517 [00:11<00:02, 112.53it/s]\u001b[A\n",
      " 84%|████████▎ | 1270/1517 [00:11<00:02, 112.84it/s]\u001b[A\n",
      " 85%|████████▍ | 1282/1517 [00:11<00:02, 112.88it/s]\u001b[A\n",
      " 85%|████████▌ | 1294/1517 [00:11<00:01, 112.91it/s]\u001b[A\n",
      " 86%|████████▌ | 1306/1517 [00:11<00:01, 113.11it/s]\u001b[A\n",
      " 87%|████████▋ | 1318/1517 [00:11<00:01, 112.00it/s]\u001b[A\n",
      " 88%|████████▊ | 1330/1517 [00:11<00:01, 111.72it/s]\u001b[A\n",
      " 88%|████████▊ | 1342/1517 [00:12<00:01, 111.61it/s]\u001b[A\n",
      " 89%|████████▉ | 1354/1517 [00:12<00:01, 111.46it/s]\u001b[A\n",
      " 90%|█████████ | 1366/1517 [00:12<00:01, 110.72it/s]\u001b[A\n",
      " 91%|█████████ | 1378/1517 [00:12<00:01, 111.01it/s]\u001b[A\n",
      " 92%|█████████▏| 1390/1517 [00:12<00:01, 110.70it/s]\u001b[A\n",
      " 92%|█████████▏| 1402/1517 [00:12<00:01, 111.50it/s]\u001b[A\n",
      " 93%|█████████▎| 1414/1517 [00:12<00:00, 111.42it/s]\u001b[A\n",
      " 94%|█████████▍| 1426/1517 [00:12<00:00, 111.42it/s]\u001b[A\n",
      " 95%|█████████▍| 1438/1517 [00:12<00:00, 111.33it/s]\u001b[A\n",
      " 96%|█████████▌| 1450/1517 [00:13<00:00, 111.62it/s]\u001b[A\n",
      " 96%|█████████▋| 1462/1517 [00:13<00:00, 112.10it/s]\u001b[A\n",
      " 97%|█████████▋| 1474/1517 [00:13<00:00, 112.11it/s]\u001b[A\n",
      " 98%|█████████▊| 1486/1517 [00:13<00:00, 112.43it/s]\u001b[A\n",
      " 99%|█████████▊| 1498/1517 [00:13<00:00, 113.26it/s]\u001b[A\n",
      "100%|██████████| 1517/1517 [00:13<00:00, 111.37it/s]\n",
      " 67%|██████▋   | 4/6 [11:24<06:20, 190.13s/it]"
     ]
    },
    {
     "name": "stdout",
     "output_type": "stream",
     "text": [
      "80253\n",
      "[4 3]\n"
     ]
    },
    {
     "name": "stderr",
     "output_type": "stream",
     "text": [
      "\n",
      "  0%|          | 0/1605 [00:00<?, ?it/s]\u001b[A\n",
      "  1%|          | 13/1605 [00:00<00:12, 129.26it/s]\u001b[A\n",
      "  2%|▏         | 26/1605 [00:00<00:21, 71.81it/s] \u001b[A\n",
      "  2%|▏         | 38/1605 [00:00<00:24, 63.39it/s]\u001b[A\n",
      "  3%|▎         | 54/1605 [00:00<00:17, 86.44it/s]\u001b[A\n",
      "  5%|▍         | 75/1605 [00:00<00:13, 117.31it/s]\u001b[A\n",
      "  6%|▌         | 96/1605 [00:00<00:10, 140.71it/s]\u001b[A\n",
      "  7%|▋         | 116/1605 [00:00<00:09, 156.41it/s]\u001b[A\n",
      "  9%|▊         | 138/1605 [00:01<00:08, 172.34it/s]\u001b[A\n",
      " 10%|▉         | 160/1605 [00:01<00:07, 183.63it/s]\u001b[A\n",
      " 11%|█▏        | 181/1605 [00:01<00:07, 190.02it/s]\u001b[A\n",
      " 13%|█▎        | 202/1605 [00:01<00:07, 195.66it/s]\u001b[A\n",
      " 14%|█▍        | 224/1605 [00:01<00:06, 201.34it/s]\u001b[A\n",
      " 15%|█▌        | 246/1605 [00:01<00:06, 204.00it/s]\u001b[A\n",
      " 17%|█▋        | 268/1605 [00:01<00:06, 207.00it/s]\u001b[A\n",
      " 18%|█▊        | 290/1605 [00:01<00:06, 208.44it/s]\u001b[A\n",
      " 19%|█▉        | 311/1605 [00:01<00:06, 208.32it/s]\u001b[A\n",
      " 21%|██        | 332/1605 [00:01<00:06, 207.52it/s]\u001b[A\n",
      " 22%|██▏       | 353/1605 [00:02<00:06, 206.78it/s]\u001b[A\n",
      " 23%|██▎       | 374/1605 [00:02<00:05, 207.68it/s]\u001b[A\n",
      " 25%|██▍       | 395/1605 [00:02<00:05, 208.08it/s]\u001b[A\n",
      " 26%|██▌       | 416/1605 [00:02<00:05, 208.14it/s]\u001b[A\n",
      " 27%|██▋       | 437/1605 [00:02<00:05, 208.53it/s]\u001b[A\n",
      " 29%|██▊       | 459/1605 [00:02<00:05, 209.87it/s]\u001b[A\n",
      " 30%|██▉       | 480/1605 [00:02<00:05, 207.21it/s]\u001b[A\n",
      " 31%|███       | 501/1605 [00:02<00:05, 207.46it/s]\u001b[A\n",
      " 33%|███▎      | 522/1605 [00:02<00:05, 205.38it/s]\u001b[A\n",
      " 34%|███▍      | 543/1605 [00:03<00:05, 206.69it/s]\u001b[A\n",
      " 35%|███▌      | 565/1605 [00:03<00:04, 208.90it/s]\u001b[A\n",
      " 37%|███▋      | 586/1605 [00:03<00:04, 208.75it/s]\u001b[A\n",
      " 38%|███▊      | 608/1605 [00:03<00:04, 210.94it/s]\u001b[A\n",
      " 39%|███▉      | 630/1605 [00:03<00:04, 210.38it/s]\u001b[A\n",
      " 41%|████      | 652/1605 [00:03<00:04, 208.67it/s]\u001b[A\n",
      " 42%|████▏     | 673/1605 [00:03<00:04, 208.50it/s]\u001b[A\n",
      " 43%|████▎     | 694/1605 [00:03<00:04, 208.43it/s]\u001b[A\n",
      " 45%|████▍     | 715/1605 [00:03<00:04, 207.86it/s]\u001b[A\n",
      " 46%|████▌     | 736/1605 [00:03<00:04, 207.85it/s]\u001b[A\n",
      " 47%|████▋     | 757/1605 [00:04<00:04, 206.76it/s]\u001b[A\n",
      " 49%|████▊     | 779/1605 [00:04<00:03, 209.27it/s]\u001b[A\n",
      " 50%|████▉     | 800/1605 [00:04<00:03, 207.32it/s]\u001b[A\n",
      " 51%|█████     | 822/1605 [00:04<00:03, 209.54it/s]\u001b[A\n",
      " 53%|█████▎    | 843/1605 [00:04<00:03, 207.28it/s]\u001b[A\n",
      " 54%|█████▍    | 864/1605 [00:04<00:03, 208.02it/s]\u001b[A\n",
      " 55%|█████▌    | 887/1605 [00:04<00:03, 212.96it/s]\u001b[A\n",
      " 57%|█████▋    | 909/1605 [00:04<00:03, 212.15it/s]\u001b[A\n",
      " 58%|█████▊    | 931/1605 [00:04<00:03, 209.00it/s]\u001b[A\n",
      " 59%|█████▉    | 952/1605 [00:04<00:03, 209.18it/s]\u001b[A\n",
      " 61%|██████    | 973/1605 [00:05<00:03, 206.65it/s]\u001b[A\n",
      " 62%|██████▏   | 995/1605 [00:05<00:02, 208.28it/s]\u001b[A\n",
      " 63%|██████▎   | 1017/1605 [00:05<00:02, 210.62it/s]\u001b[A\n",
      " 65%|██████▍   | 1039/1605 [00:05<00:02, 210.93it/s]\u001b[A\n",
      " 66%|██████▌   | 1061/1605 [00:05<00:02, 211.15it/s]\u001b[A\n",
      " 67%|██████▋   | 1083/1605 [00:05<00:02, 213.31it/s]\u001b[A\n",
      " 69%|██████▉   | 1105/1605 [00:05<00:02, 213.25it/s]\u001b[A\n",
      " 70%|███████   | 1127/1605 [00:05<00:02, 214.29it/s]\u001b[A\n",
      " 72%|███████▏  | 1149/1605 [00:05<00:02, 214.81it/s]\u001b[A\n",
      " 73%|███████▎  | 1171/1605 [00:06<00:02, 211.88it/s]\u001b[A\n",
      " 74%|███████▍  | 1193/1605 [00:06<00:01, 210.31it/s]\u001b[A\n",
      " 76%|███████▌  | 1215/1605 [00:06<00:01, 209.29it/s]\u001b[A\n",
      " 77%|███████▋  | 1236/1605 [00:06<00:01, 209.23it/s]\u001b[A\n",
      " 78%|███████▊  | 1257/1605 [00:06<00:01, 208.90it/s]\u001b[A\n",
      " 80%|███████▉  | 1278/1605 [00:06<00:01, 208.57it/s]\u001b[A\n",
      " 81%|████████  | 1299/1605 [00:06<00:01, 208.57it/s]\u001b[A\n",
      " 82%|████████▏ | 1321/1605 [00:06<00:01, 209.09it/s]\u001b[A\n",
      " 84%|████████▎ | 1342/1605 [00:06<00:01, 208.18it/s]\u001b[A\n",
      " 85%|████████▍ | 1363/1605 [00:06<00:01, 207.49it/s]\u001b[A\n",
      " 86%|████████▌ | 1384/1605 [00:07<00:01, 207.08it/s]\u001b[A\n",
      " 88%|████████▊ | 1405/1605 [00:07<00:00, 205.74it/s]\u001b[A\n",
      " 89%|████████▉ | 1426/1605 [00:07<00:00, 206.91it/s]\u001b[A\n",
      " 90%|█████████ | 1448/1605 [00:07<00:00, 208.05it/s]\u001b[A\n",
      " 92%|█████████▏| 1470/1605 [00:07<00:00, 209.43it/s]\u001b[A\n",
      " 93%|█████████▎| 1492/1605 [00:07<00:00, 209.93it/s]\u001b[A\n",
      " 94%|█████████▍| 1514/1605 [00:07<00:00, 212.15it/s]\u001b[A\n",
      " 96%|█████████▌| 1536/1605 [00:07<00:00, 211.84it/s]\u001b[A\n",
      " 97%|█████████▋| 1558/1605 [00:07<00:00, 210.96it/s]\u001b[A\n",
      " 98%|█████████▊| 1580/1605 [00:07<00:00, 210.36it/s]\u001b[A\n",
      "100%|██████████| 1605/1605 [00:08<00:00, 198.48it/s]\n",
      "\n",
      "  0%|          | 0/1605 [00:00<?, ?it/s]\u001b[A\n",
      "  1%|▏         | 22/1605 [00:00<00:07, 217.09it/s]\u001b[A\n",
      "  3%|▎         | 44/1605 [00:00<00:07, 215.73it/s]\u001b[A\n",
      "  4%|▍         | 66/1605 [00:00<00:07, 211.87it/s]\u001b[A\n",
      "  5%|▌         | 88/1605 [00:00<00:07, 210.91it/s]\u001b[A\n",
      "  7%|▋         | 110/1605 [00:00<00:07, 209.34it/s]\u001b[A\n",
      "  8%|▊         | 131/1605 [00:00<00:07, 207.42it/s]\u001b[A\n",
      "  9%|▉         | 152/1605 [00:00<00:06, 208.04it/s]\u001b[A\n",
      " 11%|█         | 173/1605 [00:00<00:06, 206.07it/s]\u001b[A\n",
      " 12%|█▏        | 195/1605 [00:00<00:06, 208.55it/s]\u001b[A\n",
      " 13%|█▎        | 216/1605 [00:01<00:06, 208.13it/s]\u001b[A\n",
      " 15%|█▍        | 237/1605 [00:01<00:06, 206.35it/s]\u001b[A\n",
      " 16%|█▌        | 258/1605 [00:01<00:06, 206.95it/s]\u001b[A\n",
      " 17%|█▋        | 279/1605 [00:01<00:06, 205.70it/s]\u001b[A\n",
      " 19%|█▊        | 300/1605 [00:01<00:06, 205.34it/s]\u001b[A\n",
      " 20%|██        | 322/1605 [00:01<00:06, 208.06it/s]\u001b[A\n",
      " 21%|██▏       | 344/1605 [00:01<00:06, 209.76it/s]\u001b[A\n",
      " 23%|██▎       | 365/1605 [00:01<00:05, 206.80it/s]\u001b[A\n",
      " 24%|██▍       | 387/1605 [00:01<00:05, 208.07it/s]\u001b[A\n",
      " 25%|██▌       | 408/1605 [00:01<00:05, 208.38it/s]\u001b[A\n",
      " 27%|██▋       | 429/1605 [00:02<00:05, 208.81it/s]\u001b[A\n",
      " 28%|██▊       | 450/1605 [00:02<00:05, 206.48it/s]\u001b[A\n",
      " 29%|██▉       | 471/1605 [00:02<00:05, 206.54it/s]\u001b[A\n",
      " 31%|███       | 492/1605 [00:02<00:05, 207.26it/s]\u001b[A\n",
      " 32%|███▏      | 514/1605 [00:02<00:05, 210.46it/s]\u001b[A\n",
      " 33%|███▎      | 536/1605 [00:02<00:05, 211.41it/s]\u001b[A\n",
      " 35%|███▍      | 558/1605 [00:02<00:04, 211.65it/s]\u001b[A\n",
      " 36%|███▌      | 580/1605 [00:02<00:04, 212.80it/s]\u001b[A\n",
      " 38%|███▊      | 602/1605 [00:02<00:04, 211.52it/s]\u001b[A\n",
      " 39%|███▉      | 624/1605 [00:02<00:04, 209.44it/s]\u001b[A\n",
      " 40%|████      | 645/1605 [00:03<00:04, 206.82it/s]\u001b[A\n",
      " 41%|████▏     | 666/1605 [00:03<00:04, 206.18it/s]\u001b[A\n",
      " 43%|████▎     | 688/1605 [00:03<00:04, 208.41it/s]\u001b[A\n",
      " 44%|████▍     | 710/1605 [00:03<00:04, 209.69it/s]\u001b[A\n",
      " 46%|████▌     | 732/1605 [00:03<00:04, 212.27it/s]\u001b[A\n",
      " 47%|████▋     | 754/1605 [00:03<00:04, 211.26it/s]\u001b[A\n",
      " 48%|████▊     | 776/1605 [00:03<00:03, 209.04it/s]\u001b[A\n",
      " 50%|████▉     | 797/1605 [00:03<00:03, 208.16it/s]\u001b[A\n",
      " 51%|█████     | 818/1605 [00:03<00:03, 208.66it/s]\u001b[A\n",
      " 52%|█████▏    | 839/1605 [00:04<00:03, 207.89it/s]\u001b[A\n",
      " 54%|█████▎    | 860/1605 [00:04<00:03, 207.20it/s]\u001b[A\n",
      " 55%|█████▍    | 882/1605 [00:04<00:03, 208.77it/s]\u001b[A\n",
      " 56%|█████▋    | 904/1605 [00:04<00:03, 209.52it/s]\u001b[A\n",
      " 58%|█████▊    | 925/1605 [00:04<00:03, 208.53it/s]\u001b[A\n",
      " 59%|█████▉    | 947/1605 [00:04<00:03, 209.13it/s]\u001b[A\n",
      " 60%|██████    | 968/1605 [00:04<00:03, 207.70it/s]\u001b[A\n",
      " 62%|██████▏   | 989/1605 [00:04<00:02, 207.57it/s]\u001b[A\n",
      " 63%|██████▎   | 1010/1605 [00:04<00:02, 207.40it/s]\u001b[A\n",
      " 64%|██████▍   | 1032/1605 [00:04<00:02, 208.74it/s]\u001b[A\n",
      " 66%|██████▌   | 1054/1605 [00:05<00:02, 210.68it/s]\u001b[A\n",
      " 67%|██████▋   | 1076/1605 [00:05<00:02, 213.28it/s]\u001b[A\n",
      " 68%|██████▊   | 1098/1605 [00:05<00:02, 213.07it/s]\u001b[A\n",
      " 70%|██████▉   | 1120/1605 [00:05<00:02, 211.28it/s]\u001b[A\n",
      " 71%|███████   | 1142/1605 [00:05<00:02, 209.85it/s]\u001b[A\n",
      " 72%|███████▏  | 1163/1605 [00:05<00:02, 209.82it/s]\u001b[A\n",
      " 74%|███████▍  | 1185/1605 [00:05<00:01, 212.12it/s]\u001b[A\n",
      " 75%|███████▌  | 1207/1605 [00:05<00:01, 212.09it/s]\u001b[A\n",
      " 77%|███████▋  | 1229/1605 [00:05<00:01, 212.59it/s]\u001b[A\n",
      " 78%|███████▊  | 1251/1605 [00:05<00:01, 211.20it/s]\u001b[A\n",
      " 79%|███████▉  | 1273/1605 [00:06<00:01, 211.53it/s]\u001b[A\n",
      " 81%|████████  | 1295/1605 [00:06<00:01, 212.06it/s]\u001b[A\n",
      " 82%|████████▏ | 1317/1605 [00:06<00:01, 214.27it/s]\u001b[A\n",
      " 83%|████████▎ | 1339/1605 [00:06<00:01, 212.75it/s]\u001b[A\n",
      " 85%|████████▍ | 1361/1605 [00:06<00:01, 211.83it/s]\u001b[A\n",
      " 86%|████████▌ | 1383/1605 [00:06<00:01, 210.29it/s]\u001b[A\n",
      " 88%|████████▊ | 1405/1605 [00:06<00:00, 209.03it/s]\u001b[A\n",
      " 89%|████████▉ | 1426/1605 [00:06<00:00, 208.54it/s]\u001b[A\n",
      " 90%|█████████ | 1448/1605 [00:06<00:00, 209.48it/s]\u001b[A\n",
      " 92%|█████████▏| 1470/1605 [00:07<00:00, 210.53it/s]\u001b[A\n",
      " 93%|█████████▎| 1492/1605 [00:07<00:00, 210.86it/s]\u001b[A\n",
      " 94%|█████████▍| 1514/1605 [00:07<00:00, 210.65it/s]\u001b[A\n",
      " 96%|█████████▌| 1536/1605 [00:07<00:00, 213.06it/s]\u001b[A\n",
      " 97%|█████████▋| 1558/1605 [00:07<00:00, 213.78it/s]\u001b[A\n",
      " 98%|█████████▊| 1580/1605 [00:07<00:00, 214.84it/s]\u001b[A\n",
      "100%|██████████| 1605/1605 [00:07<00:00, 209.76it/s]\n",
      "\n",
      "  0%|          | 0/1605 [00:00<?, ?it/s]\u001b[A\n",
      "  1%|          | 12/1605 [00:00<00:13, 119.26it/s]\u001b[A\n",
      "  1%|▏         | 24/1605 [00:00<00:13, 115.94it/s]\u001b[A\n",
      "  2%|▏         | 36/1605 [00:00<00:13, 115.05it/s]\u001b[A\n",
      "  3%|▎         | 48/1605 [00:00<00:13, 115.27it/s]\u001b[A\n",
      "  4%|▎         | 60/1605 [00:00<00:13, 115.71it/s]\u001b[A\n",
      "  4%|▍         | 72/1605 [00:00<00:13, 115.59it/s]\u001b[A\n",
      "  5%|▌         | 84/1605 [00:00<00:13, 115.82it/s]\u001b[A\n",
      "  6%|▌         | 96/1605 [00:00<00:13, 115.83it/s]\u001b[A\n",
      "  7%|▋         | 108/1605 [00:00<00:12, 115.94it/s]\u001b[A\n",
      "  7%|▋         | 120/1605 [00:01<00:12, 115.37it/s]\u001b[A\n",
      "  8%|▊         | 132/1605 [00:01<00:12, 115.28it/s]\u001b[A\n",
      "  9%|▉         | 144/1605 [00:01<00:12, 115.35it/s]\u001b[A\n",
      " 10%|▉         | 156/1605 [00:01<00:12, 116.29it/s]\u001b[A\n",
      " 10%|█         | 168/1605 [00:01<00:12, 116.08it/s]\u001b[A\n",
      " 11%|█         | 180/1605 [00:01<00:12, 116.11it/s]\u001b[A\n",
      " 12%|█▏        | 192/1605 [00:01<00:12, 116.04it/s]\u001b[A\n",
      " 13%|█▎        | 204/1605 [00:01<00:11, 116.89it/s]\u001b[A\n",
      " 13%|█▎        | 216/1605 [00:01<00:11, 116.40it/s]\u001b[A\n",
      " 14%|█▍        | 228/1605 [00:01<00:11, 116.29it/s]\u001b[A\n",
      " 15%|█▍        | 240/1605 [00:02<00:11, 115.29it/s]\u001b[A\n",
      " 16%|█▌        | 252/1605 [00:02<00:11, 114.50it/s]\u001b[A\n",
      " 16%|█▋        | 264/1605 [00:02<00:11, 115.15it/s]\u001b[A\n",
      " 17%|█▋        | 276/1605 [00:02<00:11, 115.55it/s]\u001b[A\n",
      " 18%|█▊        | 288/1605 [00:02<00:11, 116.06it/s]\u001b[A\n",
      " 19%|█▊        | 300/1605 [00:02<00:11, 115.93it/s]\u001b[A\n",
      " 19%|█▉        | 312/1605 [00:02<00:11, 115.80it/s]\u001b[A\n",
      " 20%|██        | 324/1605 [00:02<00:11, 115.92it/s]\u001b[A\n",
      " 21%|██        | 336/1605 [00:02<00:10, 115.92it/s]\u001b[A\n",
      " 22%|██▏       | 348/1605 [00:03<00:10, 115.59it/s]\u001b[A\n",
      " 22%|██▏       | 360/1605 [00:03<00:10, 115.33it/s]\u001b[A\n",
      " 23%|██▎       | 372/1605 [00:03<00:10, 115.78it/s]\u001b[A\n",
      " 24%|██▍       | 384/1605 [00:03<00:10, 115.87it/s]\u001b[A\n",
      " 25%|██▍       | 396/1605 [00:03<00:10, 115.98it/s]\u001b[A\n",
      " 25%|██▌       | 408/1605 [00:03<00:10, 116.34it/s]\u001b[A\n",
      " 26%|██▌       | 420/1605 [00:03<00:10, 115.97it/s]\u001b[A\n",
      " 27%|██▋       | 432/1605 [00:03<00:10, 115.67it/s]\u001b[A\n",
      " 28%|██▊       | 444/1605 [00:03<00:10, 115.13it/s]\u001b[A\n",
      " 28%|██▊       | 456/1605 [00:03<00:09, 115.45it/s]\u001b[A\n",
      " 29%|██▉       | 468/1605 [00:04<00:09, 116.15it/s]\u001b[A\n",
      " 30%|██▉       | 480/1605 [00:04<00:09, 115.72it/s]\u001b[A\n",
      " 31%|███       | 492/1605 [00:04<00:09, 116.71it/s]\u001b[A\n",
      " 31%|███▏      | 504/1605 [00:04<00:09, 116.76it/s]\u001b[A\n",
      " 32%|███▏      | 516/1605 [00:04<00:09, 116.32it/s]\u001b[A\n",
      " 33%|███▎      | 528/1605 [00:04<00:09, 116.37it/s]\u001b[A\n",
      " 34%|███▎      | 540/1605 [00:04<00:09, 116.44it/s]\u001b[A\n",
      " 34%|███▍      | 552/1605 [00:04<00:09, 116.25it/s]\u001b[A\n",
      " 35%|███▌      | 564/1605 [00:04<00:08, 115.77it/s]\u001b[A\n",
      " 36%|███▌      | 576/1605 [00:04<00:08, 116.08it/s]\u001b[A\n",
      " 37%|███▋      | 588/1605 [00:05<00:08, 116.23it/s]\u001b[A\n",
      " 37%|███▋      | 600/1605 [00:05<00:08, 114.92it/s]\u001b[A\n",
      " 38%|███▊      | 612/1605 [00:05<00:08, 115.13it/s]\u001b[A\n",
      " 39%|███▉      | 624/1605 [00:05<00:08, 115.43it/s]\u001b[A\n",
      " 40%|███▉      | 636/1605 [00:05<00:08, 115.38it/s]\u001b[A\n",
      " 40%|████      | 648/1605 [00:05<00:08, 115.89it/s]\u001b[A\n",
      " 41%|████      | 660/1605 [00:05<00:08, 115.53it/s]\u001b[A\n",
      " 42%|████▏     | 672/1605 [00:05<00:08, 116.45it/s]\u001b[A\n",
      " 43%|████▎     | 684/1605 [00:05<00:07, 116.50it/s]\u001b[A\n",
      " 43%|████▎     | 696/1605 [00:06<00:07, 116.72it/s]\u001b[A\n",
      " 44%|████▍     | 708/1605 [00:06<00:07, 116.23it/s]\u001b[A\n",
      " 45%|████▍     | 720/1605 [00:06<00:07, 115.96it/s]\u001b[A\n",
      " 46%|████▌     | 732/1605 [00:06<00:07, 116.62it/s]\u001b[A\n",
      " 46%|████▋     | 744/1605 [00:06<00:07, 116.45it/s]\u001b[A\n",
      " 47%|████▋     | 756/1605 [00:06<00:07, 115.16it/s]\u001b[A\n",
      " 48%|████▊     | 768/1605 [00:06<00:07, 115.29it/s]\u001b[A\n",
      " 49%|████▊     | 780/1605 [00:06<00:07, 115.25it/s]\u001b[A\n",
      " 49%|████▉     | 792/1605 [00:06<00:07, 115.64it/s]\u001b[A\n",
      " 50%|█████     | 804/1605 [00:06<00:06, 115.27it/s]\u001b[A\n",
      " 51%|█████     | 816/1605 [00:07<00:06, 114.83it/s]\u001b[A\n",
      " 52%|█████▏    | 828/1605 [00:07<00:06, 114.99it/s]\u001b[A\n",
      " 52%|█████▏    | 840/1605 [00:07<00:06, 115.54it/s]\u001b[A\n",
      " 53%|█████▎    | 852/1605 [00:07<00:06, 116.35it/s]\u001b[A\n",
      " 54%|█████▍    | 864/1605 [00:07<00:06, 116.28it/s]\u001b[A\n",
      " 55%|█████▍    | 876/1605 [00:07<00:06, 115.82it/s]\u001b[A\n",
      " 55%|█████▌    | 888/1605 [00:07<00:06, 115.74it/s]\u001b[A\n",
      " 56%|█████▌    | 900/1605 [00:07<00:06, 116.19it/s]\u001b[A\n",
      " 57%|█████▋    | 912/1605 [00:07<00:06, 115.01it/s]\u001b[A\n",
      " 58%|█████▊    | 924/1605 [00:07<00:05, 115.05it/s]\u001b[A\n",
      " 58%|█████▊    | 936/1605 [00:08<00:05, 114.18it/s]\u001b[A\n",
      " 59%|█████▉    | 948/1605 [00:08<00:05, 114.43it/s]\u001b[A\n",
      " 60%|█████▉    | 960/1605 [00:08<00:05, 114.86it/s]\u001b[A\n",
      " 61%|██████    | 972/1605 [00:08<00:05, 115.55it/s]\u001b[A\n",
      " 61%|██████▏   | 984/1605 [00:08<00:05, 115.51it/s]\u001b[A\n",
      " 62%|██████▏   | 996/1605 [00:08<00:05, 114.79it/s]\u001b[A\n",
      " 63%|██████▎   | 1008/1605 [00:08<00:05, 114.47it/s]\u001b[A\n",
      " 64%|██████▎   | 1020/1605 [00:08<00:05, 114.06it/s]\u001b[A\n",
      " 64%|██████▍   | 1032/1605 [00:08<00:05, 112.71it/s]\u001b[A\n",
      " 65%|██████▌   | 1044/1605 [00:09<00:04, 113.08it/s]\u001b[A\n",
      " 66%|██████▌   | 1056/1605 [00:09<00:04, 113.64it/s]\u001b[A\n",
      " 67%|██████▋   | 1068/1605 [00:09<00:04, 114.36it/s]\u001b[A\n",
      " 67%|██████▋   | 1080/1605 [00:09<00:04, 114.34it/s]\u001b[A\n",
      " 68%|██████▊   | 1092/1605 [00:09<00:04, 114.41it/s]\u001b[A\n",
      " 69%|██████▉   | 1104/1605 [00:09<00:04, 114.36it/s]\u001b[A\n",
      " 70%|██████▉   | 1116/1605 [00:09<00:04, 114.05it/s]\u001b[A\n",
      " 70%|███████   | 1128/1605 [00:09<00:04, 113.78it/s]\u001b[A\n",
      " 71%|███████   | 1140/1605 [00:09<00:04, 114.87it/s]\u001b[A\n",
      " 72%|███████▏  | 1152/1605 [00:09<00:03, 115.35it/s]\u001b[A\n",
      " 73%|███████▎  | 1164/1605 [00:10<00:03, 115.96it/s]\u001b[A\n",
      " 73%|███████▎  | 1176/1605 [00:10<00:03, 116.05it/s]\u001b[A\n",
      " 74%|███████▍  | 1188/1605 [00:10<00:03, 116.10it/s]\u001b[A\n",
      " 75%|███████▍  | 1200/1605 [00:10<00:03, 116.93it/s]\u001b[A\n",
      " 76%|███████▌  | 1212/1605 [00:10<00:03, 117.24it/s]\u001b[A\n",
      " 76%|███████▋  | 1225/1605 [00:10<00:03, 118.16it/s]\u001b[A\n",
      " 77%|███████▋  | 1237/1605 [00:10<00:03, 117.19it/s]\u001b[A\n",
      " 78%|███████▊  | 1249/1605 [00:10<00:03, 116.80it/s]\u001b[A\n",
      " 79%|███████▊  | 1261/1605 [00:10<00:02, 117.28it/s]\u001b[A\n",
      " 79%|███████▉  | 1273/1605 [00:11<00:02, 117.22it/s]\u001b[A\n",
      " 80%|████████  | 1285/1605 [00:11<00:02, 117.10it/s]\u001b[A\n",
      " 81%|████████  | 1297/1605 [00:11<00:02, 117.23it/s]\u001b[A\n",
      " 82%|████████▏ | 1309/1605 [00:11<00:02, 116.86it/s]\u001b[A\n",
      " 82%|████████▏ | 1321/1605 [00:11<00:02, 117.30it/s]\u001b[A\n",
      " 83%|████████▎ | 1333/1605 [00:11<00:02, 117.60it/s]\u001b[A\n",
      " 84%|████████▍ | 1345/1605 [00:11<00:02, 117.78it/s]\u001b[A\n",
      " 85%|████████▍ | 1357/1605 [00:11<00:02, 117.69it/s]\u001b[A\n",
      " 85%|████████▌ | 1369/1605 [00:11<00:02, 117.29it/s]\u001b[A\n",
      " 86%|████████▌ | 1381/1605 [00:11<00:01, 116.81it/s]\u001b[A\n",
      " 87%|████████▋ | 1393/1605 [00:12<00:01, 116.63it/s]\u001b[A\n",
      " 88%|████████▊ | 1405/1605 [00:12<00:01, 116.16it/s]\u001b[A\n",
      " 88%|████████▊ | 1417/1605 [00:12<00:01, 116.89it/s]\u001b[A\n",
      " 89%|████████▉ | 1429/1605 [00:12<00:01, 116.57it/s]\u001b[A\n",
      " 90%|████████▉ | 1441/1605 [00:12<00:01, 115.88it/s]\u001b[A\n",
      " 91%|█████████ | 1453/1605 [00:12<00:01, 115.98it/s]\u001b[A\n",
      " 91%|█████████▏| 1465/1605 [00:12<00:01, 115.87it/s]\u001b[A\n",
      " 92%|█████████▏| 1477/1605 [00:12<00:01, 115.02it/s]\u001b[A\n",
      " 93%|█████████▎| 1489/1605 [00:12<00:01, 114.56it/s]\u001b[A\n",
      " 94%|█████████▎| 1501/1605 [00:12<00:00, 114.85it/s]\u001b[A\n",
      " 94%|█████████▍| 1513/1605 [00:13<00:00, 114.15it/s]\u001b[A\n",
      " 95%|█████████▌| 1525/1605 [00:13<00:00, 114.00it/s]\u001b[A\n",
      " 96%|█████████▌| 1537/1605 [00:13<00:00, 114.29it/s]\u001b[A\n",
      " 97%|█████████▋| 1549/1605 [00:13<00:00, 114.54it/s]\u001b[A\n",
      " 97%|█████████▋| 1561/1605 [00:13<00:00, 115.57it/s]\u001b[A\n",
      " 98%|█████████▊| 1573/1605 [00:13<00:00, 115.80it/s]\u001b[A\n",
      " 99%|█████████▉| 1585/1605 [00:13<00:00, 114.77it/s]\u001b[A\n",
      "100%|██████████| 1605/1605 [00:13<00:00, 115.69it/s]\n",
      " 83%|████████▎ | 5/6 [15:43<03:34, 214.22s/it]"
     ]
    },
    {
     "name": "stdout",
     "output_type": "stream",
     "text": [
      "72035\n",
      "[4 5]\n"
     ]
    },
    {
     "name": "stderr",
     "output_type": "stream",
     "text": [
      "\n",
      "  0%|          | 0/1441 [00:00<?, ?it/s]\u001b[A\n",
      "  1%|          | 12/1441 [00:00<00:12, 115.88it/s]\u001b[A\n",
      "  2%|▏         | 24/1441 [00:00<00:18, 74.86it/s] \u001b[A\n",
      "  3%|▎         | 44/1441 [00:00<00:17, 78.69it/s]\u001b[A\n",
      "  4%|▍         | 61/1441 [00:00<00:13, 100.54it/s]\u001b[A\n",
      "  6%|▌         | 84/1441 [00:00<00:10, 133.02it/s]\u001b[A\n",
      "  7%|▋         | 106/1441 [00:00<00:08, 155.87it/s]\u001b[A\n",
      "  9%|▉         | 129/1441 [00:00<00:07, 175.02it/s]\u001b[A\n",
      " 11%|█         | 152/1441 [00:01<00:06, 189.45it/s]\u001b[A\n",
      " 12%|█▏        | 174/1441 [00:01<00:06, 197.84it/s]\u001b[A\n",
      " 14%|█▎        | 197/1441 [00:01<00:06, 205.81it/s]\u001b[A\n",
      " 15%|█▌        | 220/1441 [00:01<00:05, 210.77it/s]\u001b[A\n",
      " 17%|█▋        | 243/1441 [00:01<00:05, 216.21it/s]\u001b[A\n",
      " 18%|█▊        | 266/1441 [00:01<00:05, 217.65it/s]\u001b[A\n",
      " 20%|██        | 289/1441 [00:01<00:05, 221.24it/s]\u001b[A\n",
      " 22%|██▏       | 313/1441 [00:01<00:05, 224.45it/s]\u001b[A\n",
      " 23%|██▎       | 336/1441 [00:01<00:04, 224.14it/s]\u001b[A\n",
      " 25%|██▍       | 359/1441 [00:01<00:04, 222.30it/s]\u001b[A\n",
      " 27%|██▋       | 382/1441 [00:02<00:04, 221.42it/s]\u001b[A\n",
      " 28%|██▊       | 405/1441 [00:02<00:04, 223.91it/s]\u001b[A\n",
      " 30%|██▉       | 428/1441 [00:02<00:04, 225.00it/s]\u001b[A\n",
      " 31%|███▏      | 451/1441 [00:02<00:04, 225.26it/s]\u001b[A\n",
      " 33%|███▎      | 474/1441 [00:02<00:04, 225.16it/s]\u001b[A\n",
      " 34%|███▍      | 497/1441 [00:02<00:04, 223.33it/s]\u001b[A\n",
      " 36%|███▌      | 520/1441 [00:02<00:04, 223.30it/s]\u001b[A\n",
      " 38%|███▊      | 543/1441 [00:02<00:04, 220.39it/s]\u001b[A\n",
      " 39%|███▉      | 566/1441 [00:02<00:03, 222.32it/s]\u001b[A\n",
      " 41%|████      | 590/1441 [00:03<00:03, 225.53it/s]\u001b[A\n",
      " 43%|████▎     | 613/1441 [00:03<00:03, 226.06it/s]\u001b[A\n",
      " 44%|████▍     | 637/1441 [00:03<00:03, 227.57it/s]\u001b[A\n",
      " 46%|████▌     | 660/1441 [00:03<00:03, 227.02it/s]\u001b[A\n",
      " 47%|████▋     | 683/1441 [00:03<00:03, 226.84it/s]\u001b[A\n",
      " 49%|████▉     | 706/1441 [00:03<00:03, 227.70it/s]\u001b[A\n",
      " 51%|█████     | 729/1441 [00:03<00:03, 226.71it/s]\u001b[A\n",
      " 52%|█████▏    | 752/1441 [00:03<00:03, 225.43it/s]\u001b[A\n",
      " 54%|█████▍    | 775/1441 [00:03<00:02, 226.07it/s]\u001b[A\n",
      " 55%|█████▌    | 798/1441 [00:03<00:02, 226.26it/s]\u001b[A\n",
      " 57%|█████▋    | 821/1441 [00:04<00:02, 226.99it/s]\u001b[A\n",
      " 59%|█████▊    | 844/1441 [00:04<00:02, 227.00it/s]\u001b[A\n",
      " 60%|██████    | 867/1441 [00:04<00:02, 224.39it/s]\u001b[A\n",
      " 62%|██████▏   | 891/1441 [00:04<00:02, 226.31it/s]\u001b[A\n",
      " 63%|██████▎   | 914/1441 [00:04<00:02, 224.84it/s]\u001b[A\n",
      " 65%|██████▌   | 937/1441 [00:04<00:02, 225.50it/s]\u001b[A\n",
      " 67%|██████▋   | 960/1441 [00:04<00:02, 224.55it/s]\u001b[A\n",
      " 68%|██████▊   | 983/1441 [00:04<00:02, 224.40it/s]\u001b[A\n",
      " 70%|██████▉   | 1006/1441 [00:04<00:01, 223.72it/s]\u001b[A\n",
      " 71%|███████▏  | 1029/1441 [00:04<00:01, 223.35it/s]\u001b[A\n",
      " 73%|███████▎  | 1052/1441 [00:05<00:01, 224.47it/s]\u001b[A\n",
      " 75%|███████▍  | 1075/1441 [00:05<00:01, 225.50it/s]\u001b[A\n",
      " 76%|███████▌  | 1098/1441 [00:05<00:01, 225.55it/s]\u001b[A\n",
      " 78%|███████▊  | 1121/1441 [00:05<00:01, 224.39it/s]\u001b[A\n",
      " 79%|███████▉  | 1144/1441 [00:05<00:01, 224.11it/s]\u001b[A\n",
      " 81%|████████  | 1167/1441 [00:05<00:01, 224.73it/s]\u001b[A\n",
      " 83%|████████▎ | 1190/1441 [00:05<00:01, 225.46it/s]\u001b[A\n",
      " 84%|████████▍ | 1213/1441 [00:05<00:01, 224.42it/s]\u001b[A\n",
      " 86%|████████▌ | 1236/1441 [00:05<00:00, 223.39it/s]\u001b[A\n",
      " 87%|████████▋ | 1259/1441 [00:05<00:00, 224.21it/s]\u001b[A\n",
      " 89%|████████▉ | 1282/1441 [00:06<00:00, 221.96it/s]\u001b[A\n",
      " 91%|█████████ | 1305/1441 [00:06<00:00, 222.63it/s]\u001b[A\n",
      " 92%|█████████▏| 1329/1441 [00:06<00:00, 225.48it/s]\u001b[A\n",
      " 94%|█████████▍| 1352/1441 [00:06<00:00, 223.31it/s]\u001b[A\n",
      " 95%|█████████▌| 1375/1441 [00:06<00:00, 224.17it/s]\u001b[A\n",
      " 97%|█████████▋| 1398/1441 [00:06<00:00, 225.69it/s]\u001b[A\n",
      "100%|██████████| 1441/1441 [00:06<00:00, 212.18it/s]\n",
      "\n",
      "  0%|          | 0/1441 [00:00<?, ?it/s]\u001b[A\n",
      "  2%|▏         | 24/1441 [00:00<00:05, 237.62it/s]\u001b[A\n",
      "  3%|▎         | 48/1441 [00:00<00:06, 229.42it/s]\u001b[A\n",
      "  5%|▍         | 71/1441 [00:00<00:06, 225.52it/s]\u001b[A\n",
      "  7%|▋         | 94/1441 [00:00<00:05, 227.23it/s]\u001b[A\n",
      "  8%|▊         | 117/1441 [00:00<00:05, 227.94it/s]\u001b[A\n",
      " 10%|▉         | 140/1441 [00:00<00:05, 226.47it/s]\u001b[A\n",
      " 11%|█▏        | 163/1441 [00:00<00:05, 226.14it/s]\u001b[A\n",
      " 13%|█▎        | 186/1441 [00:00<00:05, 225.94it/s]\u001b[A\n",
      " 15%|█▍        | 210/1441 [00:00<00:05, 227.42it/s]\u001b[A\n",
      " 16%|█▌        | 233/1441 [00:01<00:05, 227.71it/s]\u001b[A\n",
      " 18%|█▊        | 256/1441 [00:01<00:05, 228.29it/s]\u001b[A\n",
      " 19%|█▉        | 279/1441 [00:01<00:05, 228.64it/s]\u001b[A\n",
      " 21%|██        | 302/1441 [00:01<00:05, 225.44it/s]\u001b[A\n",
      " 23%|██▎       | 325/1441 [00:01<00:04, 226.72it/s]\u001b[A\n",
      " 24%|██▍       | 349/1441 [00:01<00:04, 228.65it/s]\u001b[A\n",
      " 26%|██▌       | 372/1441 [00:01<00:04, 228.23it/s]\u001b[A\n",
      " 27%|██▋       | 396/1441 [00:01<00:04, 229.40it/s]\u001b[A\n",
      " 29%|██▉       | 419/1441 [00:01<00:04, 229.30it/s]\u001b[A\n",
      " 31%|███       | 442/1441 [00:01<00:04, 229.22it/s]\u001b[A\n",
      " 32%|███▏      | 465/1441 [00:02<00:04, 226.72it/s]\u001b[A\n",
      " 34%|███▍      | 488/1441 [00:02<00:04, 226.54it/s]\u001b[A\n",
      " 35%|███▌      | 511/1441 [00:02<00:04, 226.89it/s]\u001b[A\n",
      " 37%|███▋      | 534/1441 [00:02<00:04, 225.67it/s]\u001b[A\n",
      " 39%|███▊      | 557/1441 [00:02<00:03, 223.76it/s]\u001b[A\n",
      " 40%|████      | 580/1441 [00:02<00:03, 224.99it/s]\u001b[A\n",
      " 42%|████▏     | 603/1441 [00:02<00:03, 225.07it/s]\u001b[A\n",
      " 43%|████▎     | 626/1441 [00:02<00:03, 224.60it/s]\u001b[A\n",
      " 45%|████▌     | 650/1441 [00:02<00:03, 226.54it/s]\u001b[A\n",
      " 47%|████▋     | 673/1441 [00:02<00:03, 226.71it/s]\u001b[A\n",
      " 48%|████▊     | 696/1441 [00:03<00:03, 224.67it/s]\u001b[A\n",
      " 50%|████▉     | 720/1441 [00:03<00:03, 227.20it/s]\u001b[A\n",
      " 52%|█████▏    | 743/1441 [00:03<00:03, 227.92it/s]\u001b[A\n",
      " 53%|█████▎    | 767/1441 [00:03<00:02, 229.45it/s]\u001b[A\n",
      " 55%|█████▍    | 790/1441 [00:03<00:02, 229.49it/s]\u001b[A\n",
      " 57%|█████▋    | 815/1441 [00:03<00:02, 232.85it/s]\u001b[A\n",
      " 58%|█████▊    | 839/1441 [00:03<00:02, 231.55it/s]\u001b[A\n",
      " 60%|█████▉    | 863/1441 [00:03<00:02, 233.73it/s]\u001b[A\n",
      " 62%|██████▏   | 887/1441 [00:03<00:02, 231.39it/s]\u001b[A\n",
      " 63%|██████▎   | 911/1441 [00:03<00:02, 229.76it/s]\u001b[A\n",
      " 65%|██████▍   | 934/1441 [00:04<00:02, 229.46it/s]\u001b[A\n",
      " 66%|██████▋   | 957/1441 [00:04<00:02, 229.26it/s]\u001b[A\n",
      " 68%|██████▊   | 980/1441 [00:04<00:02, 228.88it/s]\u001b[A\n",
      " 70%|██████▉   | 1003/1441 [00:04<00:01, 227.47it/s]\u001b[A\n",
      " 71%|███████   | 1026/1441 [00:04<00:01, 224.72it/s]\u001b[A\n",
      " 73%|███████▎  | 1049/1441 [00:04<00:01, 223.36it/s]\u001b[A\n",
      " 74%|███████▍  | 1072/1441 [00:04<00:01, 220.24it/s]\u001b[A\n",
      " 76%|███████▌  | 1095/1441 [00:04<00:01, 220.47it/s]\u001b[A\n",
      " 78%|███████▊  | 1118/1441 [00:04<00:01, 220.32it/s]\u001b[A\n",
      " 79%|███████▉  | 1141/1441 [00:05<00:01, 220.06it/s]\u001b[A\n",
      " 81%|████████  | 1165/1441 [00:05<00:01, 223.60it/s]\u001b[A\n",
      " 82%|████████▏ | 1188/1441 [00:05<00:01, 222.38it/s]\u001b[A\n",
      " 84%|████████▍ | 1212/1441 [00:05<00:01, 225.15it/s]\u001b[A\n",
      " 86%|████████▌ | 1236/1441 [00:05<00:00, 228.14it/s]\u001b[A\n",
      " 87%|████████▋ | 1259/1441 [00:05<00:00, 227.22it/s]\u001b[A\n",
      " 89%|████████▉ | 1283/1441 [00:05<00:00, 228.40it/s]\u001b[A\n",
      " 91%|█████████ | 1306/1441 [00:05<00:00, 228.48it/s]\u001b[A\n",
      " 92%|█████████▏| 1330/1441 [00:05<00:00, 229.98it/s]\u001b[A\n",
      " 94%|█████████▍| 1353/1441 [00:05<00:00, 229.57it/s]\u001b[A\n",
      " 95%|█████████▌| 1376/1441 [00:06<00:00, 229.07it/s]\u001b[A\n",
      " 97%|█████████▋| 1400/1441 [00:06<00:00, 230.13it/s]\u001b[A\n",
      "100%|██████████| 1441/1441 [00:06<00:00, 227.41it/s]\n",
      "\n",
      "  0%|          | 0/1441 [00:00<?, ?it/s]\u001b[A\n",
      "  1%|          | 11/1441 [00:00<00:13, 104.38it/s]\u001b[A\n",
      "  2%|▏         | 22/1441 [00:00<00:13, 103.69it/s]\u001b[A\n",
      "  2%|▏         | 33/1441 [00:00<00:13, 102.00it/s]\u001b[A\n",
      "  3%|▎         | 44/1441 [00:00<00:13, 101.78it/s]\u001b[A\n",
      "  4%|▍         | 55/1441 [00:00<00:13, 101.21it/s]\u001b[A\n",
      "  5%|▍         | 66/1441 [00:00<00:13, 101.42it/s]\u001b[A\n",
      "  5%|▌         | 77/1441 [00:00<00:13, 101.49it/s]\u001b[A\n",
      "  6%|▌         | 88/1441 [00:00<00:13, 101.33it/s]\u001b[A\n",
      "  7%|▋         | 99/1441 [00:00<00:13, 101.87it/s]\u001b[A\n",
      "  8%|▊         | 110/1441 [00:01<00:13, 101.67it/s]\u001b[A\n",
      "  8%|▊         | 121/1441 [00:01<00:13, 101.22it/s]\u001b[A\n",
      "  9%|▉         | 132/1441 [00:01<00:12, 101.34it/s]\u001b[A\n",
      " 10%|▉         | 143/1441 [00:01<00:12, 101.24it/s]\u001b[A\n",
      " 11%|█         | 154/1441 [00:01<00:12, 101.27it/s]\u001b[A\n",
      " 11%|█▏        | 165/1441 [00:01<00:12, 101.23it/s]\u001b[A\n",
      " 12%|█▏        | 176/1441 [00:01<00:12, 101.69it/s]\u001b[A\n",
      " 13%|█▎        | 187/1441 [00:01<00:12, 97.48it/s] \u001b[A\n",
      " 14%|█▎        | 197/1441 [00:02<00:18, 67.27it/s]\u001b[A\n",
      " 14%|█▍        | 205/1441 [00:02<00:22, 55.65it/s]\u001b[A\n",
      " 15%|█▍        | 212/1441 [00:02<00:24, 49.45it/s]\u001b[A\n",
      " 15%|█▌        | 218/1441 [00:02<00:24, 49.28it/s]\u001b[A\n",
      " 16%|█▌        | 224/1441 [00:02<00:23, 50.88it/s]\u001b[A\n",
      " 16%|█▌        | 230/1441 [00:02<00:25, 47.30it/s]\u001b[A\n",
      " 16%|█▋        | 236/1441 [00:03<00:24, 48.53it/s]\u001b[A\n",
      " 17%|█▋        | 242/1441 [00:03<00:24, 48.15it/s]\u001b[A\n",
      " 17%|█▋        | 247/1441 [00:03<00:25, 47.46it/s]\u001b[A\n",
      " 17%|█▋        | 252/1441 [00:03<00:25, 46.76it/s]\u001b[A\n",
      " 18%|█▊        | 257/1441 [00:03<00:25, 45.61it/s]\u001b[A\n",
      " 18%|█▊        | 263/1441 [00:03<00:24, 47.87it/s]\u001b[A\n",
      " 19%|█▊        | 269/1441 [00:03<00:23, 49.63it/s]\u001b[A\n",
      " 19%|█▉        | 275/1441 [00:03<00:23, 50.60it/s]\u001b[A\n",
      " 20%|█▉        | 281/1441 [00:03<00:24, 46.91it/s]\u001b[A\n",
      " 20%|█▉        | 286/1441 [00:04<00:27, 42.57it/s]\u001b[A\n",
      " 20%|██        | 291/1441 [00:04<00:29, 38.71it/s]\u001b[A\n",
      " 20%|██        | 295/1441 [00:04<00:31, 36.56it/s]\u001b[A\n",
      " 21%|██        | 300/1441 [00:04<00:29, 38.48it/s]\u001b[A\n",
      " 21%|██        | 305/1441 [00:04<00:28, 40.22it/s]\u001b[A\n",
      " 22%|██▏       | 310/1441 [00:04<00:27, 41.75it/s]\u001b[A\n",
      " 22%|██▏       | 316/1441 [00:04<00:24, 46.21it/s]\u001b[A\n",
      " 22%|██▏       | 321/1441 [00:04<00:25, 44.71it/s]\u001b[A\n",
      " 23%|██▎       | 331/1441 [00:05<00:18, 58.84it/s]\u001b[A\n",
      " 24%|██▎       | 342/1441 [00:05<00:15, 71.05it/s]\u001b[A\n",
      " 24%|██▍       | 353/1441 [00:05<00:13, 79.76it/s]\u001b[A\n",
      " 25%|██▌       | 364/1441 [00:05<00:12, 86.38it/s]\u001b[A\n",
      " 26%|██▌       | 373/1441 [00:05<00:12, 86.24it/s]\u001b[A\n",
      " 27%|██▋       | 382/1441 [00:05<00:17, 60.45it/s]\u001b[A\n",
      " 27%|██▋       | 390/1441 [00:06<00:21, 48.95it/s]\u001b[A\n",
      " 27%|██▋       | 396/1441 [00:06<00:25, 40.34it/s]\u001b[A\n",
      " 28%|██▊       | 401/1441 [00:06<00:28, 36.90it/s]\u001b[A\n",
      " 28%|██▊       | 406/1441 [00:06<00:29, 35.39it/s]\u001b[A\n",
      " 28%|██▊       | 410/1441 [00:06<00:29, 34.53it/s]\u001b[A\n",
      " 29%|██▉       | 415/1441 [00:06<00:28, 36.54it/s]\u001b[A\n",
      " 29%|██▉       | 419/1441 [00:06<00:29, 34.32it/s]\u001b[A\n",
      " 29%|██▉       | 423/1441 [00:07<00:31, 32.40it/s]\u001b[A\n",
      " 30%|██▉       | 427/1441 [00:07<00:33, 30.18it/s]\u001b[A\n",
      " 30%|██▉       | 431/1441 [00:07<00:36, 27.38it/s]\u001b[A\n",
      " 30%|███       | 434/1441 [00:07<00:37, 27.07it/s]\u001b[A\n",
      " 30%|███       | 437/1441 [00:07<00:36, 27.56it/s]\u001b[A\n",
      " 31%|███       | 440/1441 [00:07<00:36, 27.68it/s]\u001b[A\n",
      " 31%|███       | 443/1441 [00:07<00:37, 26.95it/s]\u001b[A\n",
      " 31%|███       | 446/1441 [00:08<00:37, 26.74it/s]\u001b[A\n",
      " 31%|███       | 449/1441 [00:08<00:37, 26.25it/s]\u001b[A\n",
      " 31%|███▏      | 453/1441 [00:08<00:34, 28.59it/s]\u001b[A\n",
      " 32%|███▏      | 456/1441 [00:08<00:34, 28.67it/s]\u001b[A\n",
      " 32%|███▏      | 460/1441 [00:08<00:31, 31.62it/s]\u001b[A\n",
      " 32%|███▏      | 464/1441 [00:08<00:30, 32.40it/s]\u001b[A\n",
      " 33%|███▎      | 470/1441 [00:08<00:25, 37.93it/s]\u001b[A\n",
      " 33%|███▎      | 475/1441 [00:08<00:24, 39.95it/s]\u001b[A\n",
      " 33%|███▎      | 480/1441 [00:08<00:23, 41.26it/s]\u001b[A\n",
      " 34%|███▍      | 487/1441 [00:09<00:20, 46.51it/s]\u001b[A\n",
      " 34%|███▍      | 494/1441 [00:09<00:19, 49.68it/s]\u001b[A\n",
      " 35%|███▍      | 499/1441 [00:09<00:19, 47.84it/s]\u001b[A\n",
      " 35%|███▍      | 504/1441 [00:09<00:21, 44.15it/s]\u001b[A\n",
      " 35%|███▌      | 509/1441 [00:09<00:23, 39.38it/s]\u001b[A\n",
      " 36%|███▌      | 514/1441 [00:09<00:22, 41.58it/s]\u001b[A\n",
      " 36%|███▌      | 519/1441 [00:09<00:25, 36.82it/s]\u001b[A\n",
      " 36%|███▋      | 523/1441 [00:09<00:25, 35.87it/s]\u001b[A\n",
      " 37%|███▋      | 527/1441 [00:10<00:25, 36.19it/s]\u001b[A\n",
      " 37%|███▋      | 532/1441 [00:10<00:23, 38.17it/s]\u001b[A\n",
      " 37%|███▋      | 536/1441 [00:10<00:24, 37.40it/s]\u001b[A\n",
      " 37%|███▋      | 540/1441 [00:10<00:23, 37.83it/s]\u001b[A\n",
      " 38%|███▊      | 544/1441 [00:10<00:23, 37.95it/s]\u001b[A\n",
      " 38%|███▊      | 549/1441 [00:10<00:22, 40.36it/s]\u001b[A\n",
      " 38%|███▊      | 554/1441 [00:10<00:21, 41.27it/s]\u001b[A\n",
      " 39%|███▉      | 561/1441 [00:10<00:18, 47.53it/s]\u001b[A\n",
      " 39%|███▉      | 568/1441 [00:10<00:16, 51.86it/s]\u001b[A\n",
      " 40%|███▉      | 574/1441 [00:11<00:16, 53.62it/s]\u001b[A\n",
      " 40%|████      | 580/1441 [00:11<00:15, 54.66it/s]\u001b[A\n",
      " 41%|████      | 586/1441 [00:11<00:15, 55.66it/s]\u001b[A\n",
      " 41%|████      | 592/1441 [00:11<00:15, 56.10it/s]\u001b[A\n",
      " 42%|████▏     | 599/1441 [00:11<00:14, 58.02it/s]\u001b[A\n",
      " 42%|████▏     | 606/1441 [00:11<00:13, 61.40it/s]\u001b[A\n",
      " 43%|████▎     | 613/1441 [00:11<00:13, 61.83it/s]\u001b[A\n",
      " 43%|████▎     | 621/1441 [00:11<00:12, 66.47it/s]\u001b[A\n",
      " 44%|████▍     | 631/1441 [00:11<00:10, 75.90it/s]\u001b[A\n",
      " 44%|████▍     | 641/1441 [00:12<00:09, 82.55it/s]\u001b[A\n",
      " 45%|████▌     | 652/1441 [00:12<00:08, 88.29it/s]\u001b[A\n",
      " 46%|████▌     | 662/1441 [00:12<00:08, 91.24it/s]\u001b[A\n",
      " 47%|████▋     | 672/1441 [00:12<00:08, 93.34it/s]\u001b[A\n",
      " 47%|████▋     | 682/1441 [00:12<00:08, 94.34it/s]\u001b[A\n",
      " 48%|████▊     | 692/1441 [00:12<00:07, 95.31it/s]\u001b[A\n",
      " 49%|████▊     | 702/1441 [00:12<00:07, 94.80it/s]\u001b[A\n",
      " 49%|████▉     | 712/1441 [00:12<00:07, 94.61it/s]\u001b[A\n",
      " 50%|█████     | 722/1441 [00:12<00:07, 94.75it/s]\u001b[A\n",
      " 51%|█████     | 732/1441 [00:12<00:07, 94.04it/s]\u001b[A\n",
      " 51%|█████▏    | 742/1441 [00:13<00:07, 94.51it/s]\u001b[A\n",
      " 52%|█████▏    | 752/1441 [00:13<00:07, 95.31it/s]\u001b[A\n",
      " 53%|█████▎    | 762/1441 [00:13<00:07, 96.36it/s]\u001b[A\n",
      " 54%|█████▎    | 772/1441 [00:13<00:06, 96.78it/s]\u001b[A\n",
      " 54%|█████▍    | 782/1441 [00:13<00:06, 96.11it/s]\u001b[A\n",
      " 55%|█████▍    | 792/1441 [00:13<00:06, 96.56it/s]\u001b[A\n",
      " 56%|█████▌    | 802/1441 [00:13<00:06, 96.58it/s]\u001b[A\n",
      " 56%|█████▋    | 812/1441 [00:13<00:06, 96.67it/s]\u001b[A\n",
      " 57%|█████▋    | 822/1441 [00:13<00:06, 95.99it/s]\u001b[A\n",
      " 58%|█████▊    | 832/1441 [00:13<00:06, 95.83it/s]\u001b[A\n",
      " 58%|█████▊    | 842/1441 [00:14<00:06, 96.74it/s]\u001b[A\n",
      " 59%|█████▉    | 852/1441 [00:14<00:06, 97.28it/s]\u001b[A\n",
      " 60%|█████▉    | 862/1441 [00:14<00:05, 97.31it/s]\u001b[A\n",
      " 61%|██████    | 872/1441 [00:14<00:05, 97.53it/s]\u001b[A\n",
      " 61%|██████    | 882/1441 [00:14<00:05, 97.37it/s]\u001b[A\n",
      " 62%|██████▏   | 893/1441 [00:14<00:05, 98.33it/s]\u001b[A\n",
      " 63%|██████▎   | 903/1441 [00:14<00:05, 98.12it/s]\u001b[A\n",
      " 63%|██████▎   | 913/1441 [00:14<00:05, 97.44it/s]\u001b[A\n",
      " 64%|██████▍   | 923/1441 [00:14<00:05, 97.51it/s]\u001b[A\n",
      " 65%|██████▍   | 934/1441 [00:15<00:05, 98.78it/s]\u001b[A\n",
      " 66%|██████▌   | 945/1441 [00:15<00:04, 100.08it/s]\u001b[A\n",
      " 66%|██████▋   | 956/1441 [00:15<00:04, 100.45it/s]\u001b[A\n",
      " 67%|██████▋   | 967/1441 [00:15<00:04, 100.17it/s]\u001b[A\n",
      " 68%|██████▊   | 978/1441 [00:15<00:04, 99.77it/s] \u001b[A\n",
      " 69%|██████▊   | 989/1441 [00:15<00:04, 100.19it/s]\u001b[A\n",
      " 69%|██████▉   | 1000/1441 [00:15<00:04, 100.23it/s]\u001b[A\n",
      " 70%|███████   | 1011/1441 [00:15<00:04, 100.61it/s]\u001b[A\n",
      " 71%|███████   | 1022/1441 [00:15<00:04, 100.72it/s]\u001b[A\n",
      " 72%|███████▏  | 1033/1441 [00:16<00:04, 100.36it/s]\u001b[A\n",
      " 72%|███████▏  | 1044/1441 [00:16<00:03, 99.74it/s] \u001b[A\n",
      " 73%|███████▎  | 1055/1441 [00:16<00:03, 100.38it/s]\u001b[A\n",
      " 74%|███████▍  | 1066/1441 [00:16<00:03, 100.63it/s]\u001b[A\n",
      " 75%|███████▍  | 1077/1441 [00:16<00:03, 100.82it/s]\u001b[A\n",
      " 76%|███████▌  | 1088/1441 [00:16<00:03, 100.11it/s]\u001b[A\n",
      " 76%|███████▋  | 1099/1441 [00:16<00:03, 100.06it/s]\u001b[A\n",
      " 77%|███████▋  | 1110/1441 [00:16<00:03, 99.98it/s] \u001b[A\n",
      " 78%|███████▊  | 1120/1441 [00:16<00:03, 99.56it/s]\u001b[A\n",
      " 78%|███████▊  | 1130/1441 [00:16<00:03, 98.61it/s]\u001b[A\n",
      " 79%|███████▉  | 1141/1441 [00:17<00:03, 99.43it/s]\u001b[A\n",
      " 80%|███████▉  | 1152/1441 [00:17<00:02, 100.38it/s]\u001b[A\n",
      " 81%|████████  | 1163/1441 [00:17<00:02, 99.74it/s] \u001b[A\n",
      " 81%|████████▏ | 1174/1441 [00:17<00:02, 100.34it/s]\u001b[A\n",
      " 82%|████████▏ | 1185/1441 [00:17<00:02, 99.75it/s] \u001b[A\n",
      " 83%|████████▎ | 1195/1441 [00:17<00:02, 99.33it/s]\u001b[A\n",
      " 84%|████████▎ | 1206/1441 [00:17<00:02, 99.68it/s]\u001b[A\n",
      " 84%|████████▍ | 1216/1441 [00:17<00:02, 99.04it/s]\u001b[A\n",
      " 85%|████████▌ | 1226/1441 [00:17<00:02, 98.60it/s]\u001b[A\n",
      " 86%|████████▌ | 1237/1441 [00:18<00:02, 99.55it/s]\u001b[A\n",
      " 87%|████████▋ | 1247/1441 [00:18<00:01, 99.30it/s]\u001b[A\n",
      " 87%|████████▋ | 1257/1441 [00:18<00:01, 99.34it/s]\u001b[A\n",
      " 88%|████████▊ | 1267/1441 [00:18<00:01, 99.45it/s]\u001b[A\n",
      " 89%|████████▊ | 1277/1441 [00:18<00:01, 99.39it/s]\u001b[A\n",
      " 89%|████████▉ | 1287/1441 [00:18<00:01, 98.42it/s]\u001b[A\n",
      " 90%|█████████ | 1297/1441 [00:18<00:01, 98.14it/s]\u001b[A\n",
      " 91%|█████████ | 1307/1441 [00:18<00:01, 98.66it/s]\u001b[A\n",
      " 91%|█████████▏| 1317/1441 [00:18<00:01, 98.59it/s]\u001b[A\n",
      " 92%|█████████▏| 1327/1441 [00:18<00:01, 98.99it/s]\u001b[A\n",
      " 93%|█████████▎| 1337/1441 [00:19<00:01, 98.74it/s]\u001b[A\n",
      " 94%|█████████▎| 1348/1441 [00:19<00:00, 99.41it/s]\u001b[A\n",
      " 94%|█████████▍| 1359/1441 [00:19<00:00, 100.03it/s]\u001b[A\n",
      " 95%|█████████▌| 1370/1441 [00:19<00:00, 100.39it/s]\u001b[A\n",
      " 96%|█████████▌| 1381/1441 [00:19<00:00, 100.98it/s]\u001b[A\n",
      " 97%|█████████▋| 1392/1441 [00:19<00:00, 99.70it/s] \u001b[A\n",
      " 97%|█████████▋| 1403/1441 [00:19<00:00, 100.16it/s]\u001b[A\n",
      " 98%|█████████▊| 1414/1441 [00:19<00:00, 99.89it/s] \u001b[A\n",
      " 99%|█████████▉| 1424/1441 [00:19<00:00, 99.63it/s]\u001b[A\n",
      "100%|██████████| 1441/1441 [00:20<00:00, 71.65it/s] \n",
      "100%|██████████| 6/6 [20:45<00:00, 207.56s/it]\n"
     ]
    }
   ],
   "source": [
    "for i in tqdm(range(WEEK_NUM)):\n",
    "    if i == 0 and not TEST:\n",
    "        continue\n",
    "    candidate = pd.read_parquet(data_dir/\"interim\"/VERSION_NAME/f\"week{i}_candidate.pqt\")\n",
    "    if i == 0:\n",
    "        chunk_size = int(candidate.shape[0] * 0.5)\n",
    "        # tmpl = []\n",
    "        for chunk,batch in enumerate(range(0, candidate.shape[0], chunk_size)):\n",
    "            sub_candidate = candidate.iloc[batch:batch+chunk_size-1]\n",
    "            # * merge features\n",
    "            sub_candidate = merge_week_data(data, inter, i, sub_candidate)\n",
    "            sub_candidate['article_id'] = sub_candidate['article_id'].astype(int)\n",
    "            sub_candidate['customer_id'] = sub_candidate['customer_id'].astype(int)\n",
    "            # * merge DSSM user and item embeddings\n",
    "            sub_candidate[\"dssm_similarity\"] = calc_embd_similarity(sub_candidate, dssm_user_embd, dssm_item_embd)\n",
    "            # * merge YouTubeDNN user and item embeddings\n",
    "            sub_candidate[\"yt_similarity\"] = calc_embd_similarity(sub_candidate, yt_user_embd, yt_item_embd)\n",
    "            print(f\"Chunk {chunk} done...\")\n",
    "            # tmpl.append(sub_candidate)\n",
    "            sub_candidate.to_parquet(data_dir/\"processed\"/VERSION_NAME/f\"week{i}_candidate_{chunk}.pqt\")\n",
    "    else:\n",
    "        # * merge features\n",
    "        candidate = merge_week_data(data, inter, i, candidate)\n",
    "        print(candidate['week'].unique())\n",
    "        # * merge DSSM user and item embeddings\n",
    "        candidate[\"dssm_similarity\"] = calc_embd_similarity(candidate, dssm_user_embd, dssm_item_embd)\n",
    "        # * merge YouTubeDNN user and item embeddings\n",
    "        candidate[\"yt_similarity\"] = calc_embd_similarity(candidate, yt_user_embd, yt_item_embd)\n",
    "        # * merge W2V user and item embeddings\n",
    "        candidate[\"wv_similarity\"] = calc_embd_similarity(candidate, w2v_user_embd, w2v_item_embd, sub=False)\n",
    "    candidate.to_parquet(data_dir/\"processed\"/VERSION_NAME/f\"week{i}_candidate.pqt\")"
   ]
  },
  {
   "cell_type": "code",
   "execution_count": 18,
   "metadata": {
    "colab": {
     "base_uri": "https://localhost:8080/"
    },
    "id": "sWyKQBAt3x--",
    "outputId": "367f61d4-6032-446b-fe25-fe64f66a91c2"
   },
   "outputs": [
    {
     "data": {
      "text/plain": [
       "53"
      ]
     },
     "execution_count": 18,
     "metadata": {},
     "output_type": "execute_result"
    }
   ],
   "source": [
    "del dssm_user_embd, dssm_item_embd, yt_user_embd, yt_item_embd\n",
    "gc.collect()"
   ]
  },
  {
   "cell_type": "code",
   "execution_count": 19,
   "metadata": {
    "id": "R9RlA5qf8MaZ"
   },
   "outputs": [],
   "source": [
    "del candidate"
   ]
  },
  {
   "cell_type": "markdown",
   "metadata": {
    "id": "7Zml-cxryoU_"
   },
   "source": [
    "## Ranking\n"
   ]
  },
  {
   "cell_type": "code",
   "execution_count": 14,
   "metadata": {
    "colab": {
     "base_uri": "https://localhost:8080/"
    },
    "id": "PsmE6rgjdtIr",
    "outputId": "54d8f5dc-0985-4572-8e38-a93e30fd00e8"
   },
   "outputs": [
    {
     "name": "stderr",
     "output_type": "stream",
     "text": [
      "100%|██████████| 5/5 [00:59<00:00, 11.85s/it]\n"
     ]
    }
   ],
   "source": [
    "candidates = {}\n",
    "labels = {}\n",
    "for i in tqdm(range(1, WEEK_NUM)):\n",
    "    candidates[i] = pd.read_parquet(data_dir/\"processed\"/VERSION_NAME/f\"week{i}_candidate.pqt\")\n",
    "    candidates[i] = candidates[i][candidates[i]['rank']<=70]\n",
    "    labels[i] = pd.read_parquet(data_dir/\"processed\"/VERSION_NAME/f\"week{i}_label.pqt\")\n",
    "\n",
    "    # weights = {\n",
    "    #     'ALS_1':1.8,\n",
    "    #     'BPR_1':1.2,\n",
    "    #     'OrderHistory_1':1.3,\n",
    "    #     'UGTimeHistory_1':1.,\n",
    "    # } # * need to be tuned\n",
    "    # for f in weights:\n",
    "    #     candidates[i][f] = candidates[i][f] * weights[f]\n",
    "    # candidates[i]['score'] = candidates[i][list(weights.keys())].sum(axis=1)"
   ]
  },
  {
   "cell_type": "code",
   "execution_count": 15,
   "metadata": {
    "id": "xWqYwCbsdtIr"
   },
   "outputs": [],
   "source": [
    "feats = [\n",
    "    x\n",
    "    for x in candidates[1].columns\n",
    "    if x\n",
    "    not in [\n",
    "        \"label\",\n",
    "        \"sales_channel_id\",\n",
    "        \"t_dat\",\n",
    "        \"week\",\n",
    "        \"valid\",\n",
    "        # \"wv_similarity\"\n",
    "    ]\n",
    "]\n",
    "cat_features = [\n",
    "    \"customer_id\",\n",
    "    \"article_id\",\n",
    "    \"product_code\",\n",
    "    \"FN\",\n",
    "    \"Active\",\n",
    "    \"club_member_status\",\n",
    "    \"fashion_news_frequency\",\n",
    "    \"age\",\n",
    "    \"product_type_no\",\n",
    "    \"product_group_name\",\n",
    "    \"graphical_appearance_no\",\n",
    "    \"colour_group_code\",\n",
    "    \"perceived_colour_value_id\",\n",
    "    \"perceived_colour_master_id\",\n",
    "\n",
    "    \"user_gender\",\n",
    "    \"article_gender\",\n",
    "    \"season_type\"\n",
    "]"
   ]
  },
  {
   "cell_type": "code",
   "execution_count": 16,
   "metadata": {
    "colab": {
     "base_uri": "https://localhost:8080/"
    },
    "id": "dg2eHvzEyFdA",
    "outputId": "bebfd008-b6be-4679-e92a-666b23acc717"
   },
   "outputs": [
    {
     "name": "stderr",
     "output_type": "stream",
     "text": [
      "100%|██████████| 17/17 [00:01<00:00, 12.86it/s]\n"
     ]
    }
   ],
   "source": [
    "# * Convert categorical featues as `CategoricalDtype`\n",
    "cate_dict = {}        \n",
    "for feat in tqdm(cat_features):\n",
    "    if feat in data['user'].columns:\n",
    "        value_set = set(data['user'][feat].unique())\n",
    "    elif feat in data['item'].columns:\n",
    "        value_set = set(data['item'][feat].unique())\n",
    "    else:\n",
    "        value_set = set(data['inter'][feat].unique())\n",
    "    cate_dict[feat] = CategoricalDtype(categories=value_set)"
   ]
  },
  {
   "cell_type": "markdown",
   "metadata": {
    "id": "7g3Hs0VC0U4-"
   },
   "source": [
    "### Extra Features"
   ]
  },
  {
   "cell_type": "code",
   "execution_count": 17,
   "metadata": {
    "id": "HVcxor8k0Wu3"
   },
   "outputs": [],
   "source": [
    "full_data = pd.concat([candidates[i] for i in range(1, WEEK_NUM)], ignore_index=True)"
   ]
  },
  {
   "cell_type": "code",
   "execution_count": 18,
   "metadata": {
    "id": "3diWfJzo1tAD"
   },
   "outputs": [],
   "source": [
    "inter = data['inter']\n",
    "inter = inter[inter['t_dat']<'2020-08-19'] # * start date of the last valid week\n",
    "inter['week'] = (pd.to_datetime('2020-09-29') - pd.to_datetime(inter['t_dat'])).dt.days // 7\n",
    "inter = inter.merge(data['item'][[\"article_id\", \"product_code\"]], on=\"article_id\", how=\"left\")"
   ]
  },
  {
   "cell_type": "code",
   "execution_count": 19,
   "metadata": {
    "id": "JIlFUbHa0WLG"
   },
   "outputs": [],
   "source": [
    "tmp = inter.groupby('article_id').week.mean()\n",
    "full_data['article_time_mean'] = full_data['article_id'].map(tmp)\n",
    "\n",
    "tmp = inter.groupby('customer_id').week.nth(-1)\n",
    "full_data['customer_id_last_time'] = full_data['customer_id'].map(tmp)\n",
    "\n",
    "tmp = inter.groupby('customer_id').week.nth(0)\n",
    "full_data['customer_id_first_time'] = full_data['customer_id'].map(tmp)\n",
    "\n",
    "tmp = inter.groupby('customer_id').week.mean()\n",
    "full_data['customer_id_time_mean'] = full_data['customer_id'].map(tmp)\n",
    "\n",
    "full_data['customer_id_gap'] = full_data['customer_id_first_time'] - full_data['customer_id_last_time']"
   ]
  },
  {
   "cell_type": "code",
   "execution_count": 20,
   "metadata": {
    "id": "fyDY_l6l5j4z"
   },
   "outputs": [],
   "source": [
    "tmp = inter.groupby('customer_id').size()\n",
    "full_data['customer_daily_bought'] = full_data['customer_id'].map(tmp) / full_data['customer_id_gap']"
   ]
  },
  {
   "cell_type": "code",
   "execution_count": 21,
   "metadata": {
    "id": "Fj6Ruhpn1d5s"
   },
   "outputs": [],
   "source": [
    "tmp = inter.groupby('customer_id').price.median()\n",
    "full_data['customer_id_price_median'] = full_data['customer_id'].map(tmp)"
   ]
  },
  {
   "cell_type": "code",
   "execution_count": 22,
   "metadata": {
    "id": "3J9YOKmD6q-A"
   },
   "outputs": [],
   "source": [
    "full_data['customer_article_price_gap'] = full_data['customer_id_price_median'] - full_data['price']"
   ]
  },
  {
   "cell_type": "code",
   "execution_count": 23,
   "metadata": {
    "colab": {
     "base_uri": "https://localhost:8080/"
    },
    "id": "_uwLbsBhBApz",
    "outputId": "262ac956-9b6d-4cdd-9a2e-e13f95c509fc"
   },
   "outputs": [
    {
     "data": {
      "text/plain": [
       "162"
      ]
     },
     "execution_count": 23,
     "metadata": {},
     "output_type": "execute_result"
    }
   ],
   "source": [
    "del tmp\n",
    "gc.collect()"
   ]
  },
  {
   "cell_type": "code",
   "execution_count": 24,
   "metadata": {
    "colab": {
     "base_uri": "https://localhost:8080/"
    },
    "id": "lRIxIOYW7n_M",
    "outputId": "2b1ea822-d5ea-41d4-d4d7-6176013b193f"
   },
   "outputs": [
    {
     "name": "stderr",
     "output_type": "stream",
     "text": [
      "\r",
      "  0%|          | 0/2 [00:00<?, ?it/s]"
     ]
    },
    {
     "data": {
      "text/plain": [
       "26"
      ]
     },
     "execution_count": 24,
     "metadata": {},
     "output_type": "execute_result"
    },
    {
     "name": "stderr",
     "output_type": "stream",
     "text": [
      "\r",
      " 50%|█████     | 1/2 [00:52<00:52, 52.51s/it]"
     ]
    },
    {
     "data": {
      "text/plain": [
       "0"
      ]
     },
     "execution_count": 24,
     "metadata": {},
     "output_type": "execute_result"
    },
    {
     "name": "stderr",
     "output_type": "stream",
     "text": [
      "100%|██████████| 2/2 [01:40<00:00, 50.43s/it]\n"
     ]
    }
   ],
   "source": [
    "from itertools import chain\n",
    "def dict_union(L):\n",
    "    return dict(chain.from_iterable(d.items() for d in L))\n",
    "\n",
    "dur = [52]\n",
    "for col in tqdm([\"article_id\",\"product_code\"]):\n",
    "    full_data[f'{col}_id_week'] = full_data[col].astype('str') + '_' + full_data['week'].astype('str')\n",
    "\n",
    "    for j in dur:\n",
    "        dict_list = []\n",
    "        for i in range(5):\n",
    "            tmp = inter[(inter['week']>=(1+i+1)) & (inter['week']<(1+i+2+j))]\n",
    "            \n",
    "            tmp['week'] = i+1\n",
    "            tmp = tmp.groupby(['week', col]).size().reset_index()\n",
    "            tmp.columns = ['week', col, 'count_sales']\n",
    "\n",
    "            tmp[f'{col}_id_week'] = tmp[col].astype('str') + '_'+tmp['week'].astype('str')\n",
    "\n",
    "            dict_list.append( dict(zip(tmp[f'{col}_id_week'], tmp['count_sales'])) )\n",
    "            del tmp\n",
    "\n",
    "        dict_all = dict_union(dict_list)\n",
    "        full_data[f'{col}_week_shift{j}'] = full_data[f'{col}_id_week'].map(dict_all)\n",
    "\n",
    "        del dict_all\n",
    "    gc.collect()"
   ]
  },
  {
   "cell_type": "code",
   "execution_count": 25,
   "metadata": {
    "id": "woy__tPh-A3p"
   },
   "outputs": [],
   "source": [
    "# full_data['article_id_week_1/16'] = full_data['i_sale'] / full_data[f'article_id_week_shift16']\n",
    "# full_data['article_id_week_1/24'] = full_data['i_sale'] / full_data[f'article_id_week_shift24']\n",
    "full_data['article_id_week_1/52'] = full_data['i_sale'] / full_data[f'article_id_week_shift52']\n",
    "# full_data['product_code_week_1/16'] = full_data['i_sale'] / full_data[f'product_code_week_shift16']\n",
    "# full_data['product_code_week_1/24'] = full_data['i_sale'] / full_data[f'product_code_week_shift24']\n",
    "full_data['product_code_week_1/52'] = full_data['i_sale'] / full_data[f'product_code_week_shift52']"
   ]
  },
  {
   "cell_type": "code",
   "execution_count": 26,
   "metadata": {
    "id": "RzYn-6381jS_"
   },
   "outputs": [],
   "source": [
    "feats += [\n",
    "    'article_time_mean', \n",
    "    'customer_id_last_time', \n",
    "    'customer_id_first_time', \n",
    "    'customer_id_time_mean',\n",
    "    'customer_id_gap',\n",
    "    'customer_id_price_median',\n",
    "    'customer_daily_bought',\n",
    "    'customer_article_price_gap'\n",
    "] + [f'{col}_week_shift{j}' for col in [\"article_id\",\"product_code\"] for j in dur] +\\\n",
    "['article_id_week_1/52', 'product_code_week_1/52']"
   ]
  },
  {
   "cell_type": "code",
   "execution_count": 27,
   "metadata": {
    "id": "DzPItA8D3yLi"
   },
   "outputs": [],
   "source": [
    "train = full_data.loc[full_data['week']>1]\n",
    "valid = full_data.loc[full_data['week']==1]"
   ]
  },
  {
   "cell_type": "code",
   "execution_count": 28,
   "metadata": {
    "colab": {
     "base_uri": "https://localhost:8080/"
    },
    "id": "QZjEOVeX31FF",
    "outputId": "9a6340be-d14d-4af3-f13f-c9cf64234858"
   },
   "outputs": [
    {
     "data": {
      "text/plain": [
       "200"
      ]
     },
     "execution_count": 28,
     "metadata": {},
     "output_type": "execute_result"
    }
   ],
   "source": [
    "del full_data\n",
    "gc.collect()"
   ]
  },
  {
   "cell_type": "code",
   "execution_count": 29,
   "metadata": {
    "id": "CTv0qWtRGqDL"
   },
   "outputs": [],
   "source": [
    "# train, _ = reduce_mem_usage(train)\n",
    "# valid, _ = reduce_mem_usage(valid)"
   ]
  },
  {
   "cell_type": "markdown",
   "metadata": {
    "id": "3RojtbK9GGQU"
   },
   "source": [
    "### Train\n"
   ]
  },
  {
   "cell_type": "code",
   "execution_count": 30,
   "metadata": {
    "colab": {
     "base_uri": "https://localhost:8080/"
    },
    "id": "A1kJvMGnD7Lv",
    "outputId": "867ba89b-3ae8-49a9-a673-6009a5d10595"
   },
   "outputs": [
    {
     "name": "stderr",
     "output_type": "stream",
     "text": [
      "100%|██████████| 17/17 [00:23<00:00,  1.38s/it]\n"
     ]
    }
   ],
   "source": [
    "# for i in tqdm(range(1,WEEK_NUM)):\n",
    "#     for feat in cat_features:\n",
    "#         candidates[i][feat] = candidates[i][feat].astype(cate_dict[feat])\n",
    "for feat in tqdm(cat_features):\n",
    "    train[feat] = train[feat].astype(cate_dict[feat])\n",
    "    valid[feat] = valid[feat].astype(cate_dict[feat])"
   ]
  },
  {
   "cell_type": "code",
   "execution_count": 64,
   "metadata": {
    "id": "nTm9bz6vR6T4"
   },
   "outputs": [],
   "source": [
    "params = {\n",
    "    \"objective\": \"lambdarank\",#\"lambdarank\",\n",
    "    \"boosting_type\": \"gbdt\",\n",
    "    \"metric\": \"map\",#\"map\",\n",
    "    \"max_depth\":8,\n",
    "    \"num_leaves\": 128,\n",
    "    \"learning_rate\": 0.03,\n",
    "    # \"histogram_pool_size\":2048,\n",
    "\n",
    "    \"verbose\": -1,\n",
    "    \"eval_at\": 12,\n",
    "    # 'device':'gpu'\n",
    "}"
   ]
  },
  {
   "cell_type": "code",
   "execution_count": 32,
   "metadata": {
    "id": "ZGr5CTKTyFdB"
   },
   "outputs": [],
   "source": [
    "def train_model(train, valid, train_group, valid_group):\n",
    "\n",
    "    train_set = lgb.Dataset(\n",
    "        data=train[feats],\n",
    "        label=train[\"label\"],\n",
    "        group=train_group,\n",
    "        feature_name=feats,\n",
    "        categorical_feature=cat_features,\n",
    "        params=params,\n",
    "    )\n",
    "\n",
    "    valid_set = lgb.Dataset(\n",
    "        data=valid[feats],\n",
    "        label=valid[\"label\"],\n",
    "        group=valid_group,\n",
    "        feature_name=feats,\n",
    "        categorical_feature=cat_features,\n",
    "        params=params,\n",
    "    )\n",
    "\n",
    "    ranker = lgb.train(\n",
    "        params,\n",
    "        train_set,\n",
    "        num_boost_round=300,\n",
    "        valid_sets=[valid_set],\n",
    "        early_stopping_rounds=30,\n",
    "        verbose_eval=10,\n",
    "    )\n",
    "    ranker.save_model(\n",
    "        model_dir / f\"lgb_ranker_1.model\",\n",
    "        num_iteration=ranker.best_iteration,\n",
    "    )\n",
    "    return ranker"
   ]
  },
  {
   "cell_type": "code",
   "execution_count": 33,
   "metadata": {
    "id": "i8Aae8ViyFdC"
   },
   "outputs": [],
   "source": [
    "def train_binary_model(full_data, valid_week_num, train_week_num=4):\n",
    "    print(\"Validating week:\", valid_week_num)\n",
    "    train = full_data[\n",
    "        (valid_week_num < full_data[\"week\"])\n",
    "        & (full_data[\"week\"] <= valid_week_num + train_week_num)\n",
    "    ]\n",
    "    valid = full_data[full_data[\"week\"] == valid_week_num]\n",
    "\n",
    "    print(\"Train positive rate:\", train.label.mean())  # 0.9946384702188372 4-week\n",
    "\n",
    "\n",
    "    train_set = lgb.Dataset(\n",
    "        data=train[feats],\n",
    "        label=train[\"label\"],\n",
    "        feature_name=feats,\n",
    "        categorical_feature=cat_features,\n",
    "        params=params,\n",
    "    )\n",
    "\n",
    "    valid_set = lgb.Dataset(\n",
    "        data=valid[feats],\n",
    "        label=valid[\"label\"],\n",
    "        feature_name=feats,\n",
    "        categorical_feature=cat_features,\n",
    "        params=params,\n",
    "    )\n",
    "\n",
    "    ranker = lgb.train(\n",
    "        params,\n",
    "        train_set,\n",
    "        num_boost_round=300,\n",
    "        valid_sets=[valid_set],\n",
    "        early_stopping_rounds=30,\n",
    "        verbose_eval=10,\n",
    "    )\n",
    "    ranker.save_model(\n",
    "        model_dir / f\"lgb_ranker_{valid_week_num}.model\",\n",
    "        num_iteration=ranker.best_iteration,\n",
    "    )\n",
    "    return ranker"
   ]
  },
  {
   "cell_type": "code",
   "execution_count": 34,
   "metadata": {
    "id": "QBI_ycDPw1tJ"
   },
   "outputs": [],
   "source": [
    "# for f in feats:\n",
    "#     for i in range(2,WEEK_NUM):\n",
    "#         if f not in candidates[i].columns:\n",
    "#             candidates[i][f] = np.nan"
   ]
  },
  {
   "cell_type": "code",
   "execution_count": 35,
   "metadata": {
    "id": "wP5sOgw8xGaB"
   },
   "outputs": [],
   "source": [
    "# train = pd.concat([candidates[i] for i in range(2, WEEK_NUM)], ignore_index=True)\n",
    "# valid = candidates[1]"
   ]
  },
  {
   "cell_type": "code",
   "execution_count": 36,
   "metadata": {
    "colab": {
     "base_uri": "https://localhost:8080/"
    },
    "id": "eXCxHp4-5EZ1",
    "outputId": "1c6da80a-c011-466c-fd45-3f1ea4dce998"
   },
   "outputs": [
    {
     "data": {
      "text/plain": [
       "300"
      ]
     },
     "execution_count": 36,
     "metadata": {},
     "output_type": "execute_result"
    }
   ],
   "source": [
    "del candidates\n",
    "gc.collect()"
   ]
  },
  {
   "cell_type": "code",
   "execution_count": 37,
   "metadata": {
    "colab": {
     "base_uri": "https://localhost:8080/"
    },
    "id": "AG636J4Ux7uK",
    "outputId": "e83b08d9-11a7-49bb-f7bb-683012e6c708"
   },
   "outputs": [
    {
     "name": "stdout",
     "output_type": "stream",
     "text": [
      "Train positive rate: 0.0050073240743580575\n"
     ]
    }
   ],
   "source": [
    "print(\"Train positive rate:\", train.label.mean())"
   ]
  },
  {
   "cell_type": "code",
   "execution_count": 38,
   "metadata": {
    "colab": {
     "base_uri": "https://localhost:8080/"
    },
    "id": "x5NETCx74VIl",
    "outputId": "178dda8d-970a-4906-ef07-ea730a374b29"
   },
   "outputs": [
    {
     "name": "stdout",
     "output_type": "stream",
     "text": [
      "Train positive rate: 0.020538365191982717\n"
     ]
    }
   ],
   "source": [
    "train['customer_id'] = train['customer_id'].astype(int)\n",
    "train['week_customer_id'] = train['customer_id'].astype(str) + '_' + train['week'].astype(str)\n",
    "valid_uids = train.groupby('week_customer_id')['label'].sum().reset_index(name='sum')\n",
    "train = train[train['week_customer_id'].isin(valid_uids.loc[valid_uids['sum'] > 0, 'week_customer_id'])]\n",
    "del train['week_customer_id']\n",
    "train['customer_id'] = train['customer_id'].astype(cate_dict['customer_id'])\n",
    "print(\"Train positive rate:\", train.label.mean())\n",
    "# 0.013804358075947874"
   ]
  },
  {
   "cell_type": "code",
   "execution_count": 39,
   "metadata": {
    "id": "LfSDVe7q1Jna"
   },
   "outputs": [],
   "source": [
    "train = train.sort_values(by=[\"week\", \"customer_id\"], ascending=True).reset_index(drop=True)\n",
    "valid = valid.sort_values(by=[\"customer_id\"], ascending=True).reset_index(drop=True)"
   ]
  },
  {
   "cell_type": "code",
   "execution_count": 40,
   "metadata": {
    "id": "tgEup34-yOWq"
   },
   "outputs": [],
   "source": [
    "train_group = train[[\"customer_id\", \"article_id\", \"week\"]]\n",
    "train_group = train_group.astype(\"int32\")  # * convert to int to avoid `0` in groupby count result\n",
    "train_group = (train_group.groupby([\"week\", \"customer_id\"])[\"article_id\"].count().values)"
   ]
  },
  {
   "cell_type": "code",
   "execution_count": 41,
   "metadata": {
    "id": "TU1-B8Dhxn3V"
   },
   "outputs": [],
   "source": [
    "valid_group = valid[[\"customer_id\", \"article_id\"]]\n",
    "valid_group = valid_group.astype(\"int32\")  # * convert to int to avoid `0` in groupby count result\n",
    "valid_group = valid_group.groupby([\"customer_id\"])[\"article_id\"].count().values"
   ]
  },
  {
   "cell_type": "code",
   "execution_count": 42,
   "metadata": {
    "id": "X_UTMT-448E0"
   },
   "outputs": [],
   "source": [
    "train = train[feats+['label']]\n",
    "valid = valid[feats+['label']]"
   ]
  },
  {
   "cell_type": "code",
   "execution_count": 43,
   "metadata": {
    "colab": {
     "base_uri": "https://localhost:8080/"
    },
    "id": "nPttBNSByXRZ",
    "outputId": "937d5dc6-3377-4b48-9173-7c59d666155f"
   },
   "outputs": [
    {
     "data": {
      "text/plain": [
       "250"
      ]
     },
     "execution_count": 43,
     "metadata": {},
     "output_type": "execute_result"
    }
   ],
   "source": [
    "gc.collect()"
   ]
  },
  {
   "cell_type": "code",
   "execution_count": 65,
   "metadata": {
    "colab": {
     "base_uri": "https://localhost:8080/"
    },
    "id": "-B4EpFjdyFdC",
    "outputId": "972167df-b27b-41b8-c4c7-b0160136ae3a"
   },
   "outputs": [
    {
     "name": "stdout",
     "output_type": "stream",
     "text": [
      "Training until validation scores don't improve for 30 rounds\n",
      "[10]\tvalid_0's map@12: 0.830283\n",
      "[20]\tvalid_0's map@12: 0.831343\n",
      "[30]\tvalid_0's map@12: 0.83165\n",
      "[40]\tvalid_0's map@12: 0.831742\n",
      "[50]\tvalid_0's map@12: 0.831766\n",
      "[60]\tvalid_0's map@12: 0.83187\n",
      "[70]\tvalid_0's map@12: 0.831813\n",
      "[80]\tvalid_0's map@12: 0.832078\n",
      "[90]\tvalid_0's map@12: 0.832068\n",
      "[100]\tvalid_0's map@12: 0.832011\n",
      "[110]\tvalid_0's map@12: 0.832157\n",
      "[120]\tvalid_0's map@12: 0.832104\n",
      "[130]\tvalid_0's map@12: 0.832359\n",
      "[140]\tvalid_0's map@12: 0.832285\n",
      "[150]\tvalid_0's map@12: 0.832325\n",
      "[160]\tvalid_0's map@12: 0.832288\n",
      "Early stopping, best iteration is:\n",
      "[131]\tvalid_0's map@12: 0.832374\n"
     ]
    }
   ],
   "source": [
    "ranker = train_model(train, valid, train_group, valid_group) # 0.82846 4-week\n",
    "# ranker = train_binary_model(train, valid, no=1)\n",
    "# 0.703171 \n",
    "\n",
    "# 0.591868\n",
    "# 0.758603\n",
    "# 0.760893\n",
    "# 0.832205\n",
    "\n",
    "# 0.832311"
   ]
  },
  {
   "cell_type": "markdown",
   "metadata": {
    "id": "KbFdGrYRdtIt"
   },
   "source": [
    "### Inference"
   ]
  },
  {
   "cell_type": "code",
   "execution_count": 66,
   "metadata": {
    "id": "hl3DPTaBGGQV"
   },
   "outputs": [],
   "source": [
    "ranker = lgb.Booster(model_file=model_dir / \"lgb_ranker_1.model\")"
   ]
  },
  {
   "cell_type": "code",
   "execution_count": 67,
   "metadata": {
    "colab": {
     "base_uri": "https://localhost:8080/",
     "height": 1000
    },
    "id": "OG9AwSntGGQV",
    "outputId": "9292d80e-8805-4150-9ba3-0ebbbbf9a3e4"
   },
   "outputs": [
    {
     "data": {
      "text/plain": [
       "<Figure size 576x1728 with 0 Axes>"
      ]
     },
     "execution_count": 67,
     "metadata": {},
     "output_type": "execute_result"
    },
    {
     "data": {
      "text/plain": [
       "<matplotlib.axes._subplots.AxesSubplot at 0x7f30ebaf33d0>"
      ]
     },
     "execution_count": 67,
     "metadata": {},
     "output_type": "execute_result"
    },
    {
     "data": {
      "image/png": "[encoded data removed]",
      "text/plain": [
       "<Figure size 576x1728 with 1 Axes>"
      ]
     },
     "metadata": {
      "needs_background": "light"
     },
     "output_type": "display_data"
    }
   ],
   "source": [
    "feat_importance = pd.DataFrame(\n",
    "    {\"feature\": feats, \"importance\": ranker.feature_importance()}\n",
    ").sort_values(by=\"importance\", ascending=False)\n",
    "plt.figure(figsize=(8, 24))\n",
    "sns.barplot(y=\"feature\", x=\"importance\", data=feat_importance)"
   ]
  },
  {
   "cell_type": "markdown",
   "metadata": {
    "id": "lLWs-Z5CGGQV"
   },
   "source": [
    "### Validate"
   ]
  },
  {
   "cell_type": "code",
   "execution_count": 68,
   "metadata": {
    "id": "SSpgfI0mdtIv"
   },
   "outputs": [],
   "source": [
    "val_candidates = valid.reset_index(drop=True)"
   ]
  },
  {
   "cell_type": "code",
   "execution_count": 69,
   "metadata": {
    "id": "w6ECeASwyFdE"
   },
   "outputs": [],
   "source": [
    "def predict(ranker, candidates, batch_size = 5_000_000):\n",
    "    probs = np.zeros(candidates.shape[0])\n",
    "    for batch in range(0, candidates.shape[0], batch_size):\n",
    "        outputs = ranker.predict(candidates.loc[batch : batch + batch_size - 1, feats])\n",
    "        probs[batch : batch + batch_size] = outputs\n",
    "    candidates[\"prob\"] = probs\n",
    "    pred_lgb = candidates[['customer_id','article_id','prob']]\n",
    "    pred_lgb = pred_lgb.sort_values(by=[\"customer_id\",\"prob\"], ascending=False).reset_index(drop=True)\n",
    "    pred_lgb.rename(columns={'article_id':'prediction'}, inplace=True)\n",
    "    pred_lgb = pred_lgb.drop_duplicates(['customer_id', 'prediction'], keep='first')\n",
    "    pred_lgb['customer_id'] = pred_lgb['customer_id'].astype(int)\n",
    "    pred_lgb = pred_lgb.groupby(\"customer_id\")[\"prediction\"].progress_apply(list).reset_index()\n",
    "    return pred_lgb"
   ]
  },
  {
   "cell_type": "code",
   "execution_count": 70,
   "metadata": {
    "colab": {
     "base_uri": "https://localhost:8080/"
    },
    "id": "YSazOwtJyFdE",
    "outputId": "3d2d0937-05c9-4fc0-97e3-d0bf9d2bfc0d"
   },
   "outputs": [
    {
     "name": "stderr",
     "output_type": "stream",
     "text": [
      "100%|██████████| 97737/97737 [00:08<00:00, 10957.98it/s]\n"
     ]
    }
   ],
   "source": [
    "pred = predict(ranker, val_candidates)"
   ]
  },
  {
   "cell_type": "code",
   "execution_count": 71,
   "metadata": {
    "colab": {
     "base_uri": "https://localhost:8080/",
     "height": 206
    },
    "id": "wt8UJLYtyFdE",
    "outputId": "25665401-c871-48ba-f7b7-956e4659543b"
   },
   "outputs": [
    {
     "data": {
      "text/html": [
       "\n",
       "  <div id=\"df-07d2df6f-8df9-4931-8a7e-180337014647\">\n",
       "    <div class=\"colab-df-container\">\n",
       "      <div>\n",
       "<style scoped>\n",
       "    .dataframe tbody tr th:only-of-type {\n",
       "        vertical-align: middle;\n",
       "    }\n",
       "\n",
       "    .dataframe tbody tr th {\n",
       "        vertical-align: top;\n",
       "    }\n",
       "\n",
       "    .dataframe thead th {\n",
       "        text-align: right;\n",
       "    }\n",
       "</style>\n",
       "<table border=\"1\" class=\"dataframe\">\n",
       "  <thead>\n",
       "    <tr style=\"text-align: right;\">\n",
       "      <th></th>\n",
       "      <th>customer_id</th>\n",
       "      <th>prediction</th>\n",
       "    </tr>\n",
       "  </thead>\n",
       "  <tbody>\n",
       "    <tr>\n",
       "      <th>0</th>\n",
       "      <td>3</td>\n",
       "      <td>[96383, 67275]</td>\n",
       "    </tr>\n",
       "    <tr>\n",
       "      <th>1</th>\n",
       "      <td>39</td>\n",
       "      <td>[104451]</td>\n",
       "    </tr>\n",
       "    <tr>\n",
       "      <th>2</th>\n",
       "      <td>81</td>\n",
       "      <td>[104073, 94697, 71108, 67523, 104046, 103109, ...</td>\n",
       "    </tr>\n",
       "    <tr>\n",
       "      <th>3</th>\n",
       "      <td>87</td>\n",
       "      <td>[100229, 98607, 33869, 27906, 27908, 102711, 1...</td>\n",
       "    </tr>\n",
       "    <tr>\n",
       "      <th>4</th>\n",
       "      <td>108</td>\n",
       "      <td>[13043, 61306, 61304, 61305, 2220, 53893, 9203...</td>\n",
       "    </tr>\n",
       "  </tbody>\n",
       "</table>\n",
       "</div>\n",
       "      <button class=\"colab-df-convert\" onclick=\"convertToInteractive('df-07d2df6f-8df9-4931-8a7e-180337014647')\"\n",
       "              title=\"Convert this dataframe to an interactive table.\"\n",
       "              style=\"display:none;\">\n",
       "        \n",
       "  <svg xmlns=\"http://www.w3.org/2000/svg\" height=\"24px\"viewBox=\"0 0 24 24\"\n",
       "       width=\"24px\">\n",
       "    <path d=\"M0 0h24v24H0V0z\" fill=\"none\"/>\n",
       "    <path d=\"M18.56 5.44l.94 2.06.94-2.06 2.06-.94-2.06-.94-.94-2.06-.94 2.06-2.06.94zm-11 1L8.5 8.5l.94-2.06 2.06-.94-2.06-.94L8.5 2.5l-.94 2.06-2.06.94zm10 10l.94 2.06.94-2.06 2.06-.94-2.06-.94-.94-2.06-.94 2.06-2.06.94z\"/><path d=\"M17.41 7.96l-1.37-1.37c-.4-.4-.92-.59-1.43-.59-.52 0-1.04.2-1.43.59L10.3 9.45l-7.72 7.72c-.78.78-.78 2.05 0 2.83L4 21.41c.39.39.9.59 1.41.59.51 0 1.02-.2 1.41-.59l7.78-7.78 2.81-2.81c.8-.78.8-2.07 0-2.86zM5.41 20L4 18.59l7.72-7.72 1.47 1.35L5.41 20z\"/>\n",
       "  </svg>\n",
       "      </button>\n",
       "      \n",
       "  <style>\n",
       "    .colab-df-container {\n",
       "      display:flex;\n",
       "      flex-wrap:wrap;\n",
       "      gap: 12px;\n",
       "    }\n",
       "\n",
       "    .colab-df-convert {\n",
       "      background-color: #E8F0FE;\n",
       "      border: none;\n",
       "      border-radius: 50%;\n",
       "      cursor: pointer;\n",
       "      display: none;\n",
       "      fill: #1967D2;\n",
       "      height: 32px;\n",
       "      padding: 0 0 0 0;\n",
       "      width: 32px;\n",
       "    }\n",
       "\n",
       "    .colab-df-convert:hover {\n",
       "      background-color: #E2EBFA;\n",
       "      box-shadow: 0px 1px 2px rgba(60, 64, 67, 0.3), 0px 1px 3px 1px rgba(60, 64, 67, 0.15);\n",
       "      fill: #174EA6;\n",
       "    }\n",
       "\n",
       "    [theme=dark] .colab-df-convert {\n",
       "      background-color: #3B4455;\n",
       "      fill: #D2E3FC;\n",
       "    }\n",
       "\n",
       "    [theme=dark] .colab-df-convert:hover {\n",
       "      background-color: #434B5C;\n",
       "      box-shadow: 0px 1px 3px 1px rgba(0, 0, 0, 0.15);\n",
       "      filter: drop-shadow(0px 1px 2px rgba(0, 0, 0, 0.3));\n",
       "      fill: #FFFFFF;\n",
       "    }\n",
       "  </style>\n",
       "\n",
       "      <script>\n",
       "        const buttonEl =\n",
       "          document.querySelector('#df-07d2df6f-8df9-4931-8a7e-180337014647 button.colab-df-convert');\n",
       "        buttonEl.style.display =\n",
       "          google.colab.kernel.accessAllowed ? 'block' : 'none';\n",
       "\n",
       "        async function convertToInteractive(key) {\n",
       "          const element = document.querySelector('#df-07d2df6f-8df9-4931-8a7e-180337014647');\n",
       "          const dataTable =\n",
       "            await google.colab.kernel.invokeFunction('convertToInteractive',\n",
       "                                                     [key], {});\n",
       "          if (!dataTable) return;\n",
       "\n",
       "          const docLinkHtml = 'Like what you see? Visit the ' +\n",
       "            '<a target=\"_blank\" href=https://colab.research.google.com/notebooks/data_table.ipynb>data table notebook</a>'\n",
       "            + ' to learn more about interactive tables.';\n",
       "          element.innerHTML = '';\n",
       "          dataTable['output_type'] = 'display_data';\n",
       "          await google.colab.output.renderOutput(dataTable, element);\n",
       "          const docLink = document.createElement('div');\n",
       "          docLink.innerHTML = docLinkHtml;\n",
       "          element.appendChild(docLink);\n",
       "        }\n",
       "      </script>\n",
       "    </div>\n",
       "  </div>\n",
       "  "
      ],
      "text/plain": [
       "   customer_id                                         prediction\n",
       "0            3                                     [96383, 67275]\n",
       "1           39                                           [104451]\n",
       "2           81  [104073, 94697, 71108, 67523, 104046, 103109, ...\n",
       "3           87  [100229, 98607, 33869, 27906, 27908, 102711, 1...\n",
       "4          108  [13043, 61306, 61304, 61305, 2220, 53893, 9203..."
      ]
     },
     "execution_count": 71,
     "metadata": {},
     "output_type": "execute_result"
    }
   ],
   "source": [
    "pred.head()"
   ]
  },
  {
   "cell_type": "code",
   "execution_count": 72,
   "metadata": {
    "id": "G1Qh3k2aGGQW"
   },
   "outputs": [],
   "source": [
    "label = labels[1]\n",
    "label = pd.merge(label, pred, on=\"customer_id\", how=\"left\")"
   ]
  },
  {
   "cell_type": "code",
   "execution_count": 73,
   "metadata": {
    "colab": {
     "base_uri": "https://localhost:8080/"
    },
    "id": "XrFnQ2evGGQW",
    "outputId": "0d8d6e26-6dff-4ad4-e0ad-2e8a4d82b981"
   },
   "outputs": [
    {
     "data": {
      "text/plain": [
       "0.02996194449567809"
      ]
     },
     "execution_count": 73,
     "metadata": {},
     "output_type": "execute_result"
    }
   ],
   "source": [
    "map_at_k(label[\"article_id\"], label[\"prediction\"], k=12)\n",
    "\n",
    "# 0.02820525160663368 1-week add normalization\n",
    "# 0.028936597823123886 4-week min_pos_rate 0.006 0.0274\n",
    "# 0.029111989281461418 4-week drop full-negative customer\n",
    "# 0.029165419468984943 3-week 0.0270\n",
    "# 0.028694388096248934 4-week min_pos_rate 0.005 lr=0.03\n",
    "# 0.028927037894290773 4-week min_pos_rate 0.005 lr=0.01\n",
    "# 0.028936597823123886 4-week min_pos_rate 0.005 lr=0.01 max_depth=9, num_leaves=256\n",
    "\n",
    "# 0.02184774486112968\n",
    "# 0.021299757514744458\n",
    "# 0.024265585916471977\n",
    "\n",
    "# 0.025168746198396853\n",
    "\n",
    "# 0.03012106225903273\n",
    "\n",
    "# 0.029872340663183554"
   ]
  },
  {
   "cell_type": "code",
   "execution_count": 74,
   "metadata": {
    "colab": {
     "base_uri": "https://localhost:8080/"
    },
    "id": "VZKJxncIyFdF",
    "outputId": "6723c25a-3a11-4119-e3f3-106847daf5cf"
   },
   "outputs": [
    {
     "data": {
      "text/plain": [
       "0.12430046484891903"
      ]
     },
     "execution_count": 74,
     "metadata": {},
     "output_type": "execute_result"
    }
   ],
   "source": [
    "recall_at_k(label[\"article_id\"], label[\"prediction\"], k=44)#0.18282943194751883"
   ]
  },
  {
   "cell_type": "markdown",
   "metadata": {
    "id": "OPdhQ_0RyFdF"
   },
   "source": [
    "### Test"
   ]
  },
  {
   "cell_type": "code",
   "execution_count": null,
   "metadata": {
    "id": "KRnuTT-xyFdF",
    "outputId": "4746e677-215d-4a13-a34c-b33f95478cb0"
   },
   "outputs": [
    {
     "data": {
      "text/plain": [
       "44"
      ]
     },
     "execution_count": 26,
     "metadata": {},
     "output_type": "execute_result"
    }
   ],
   "source": [
    "del val_candidates, candidates\n",
    "gc.collect()"
   ]
  },
  {
   "cell_type": "code",
   "execution_count": null,
   "metadata": {
    "id": "U9n8mvEkyFdG"
   },
   "outputs": [],
   "source": [
    "test_candidates = pd.read_parquet(data_dir/\"processed\"/VERSION_NAME/\"week0_candidate.pqt\")\n",
    "for feat in cat_features:\n",
    "    test_candidates[feat] = test_candidates[feat].astype(cate_dict[feat])"
   ]
  },
  {
   "cell_type": "code",
   "execution_count": null,
   "metadata": {
    "id": "SHLDScJJyFdG",
    "outputId": "0a61fbd9-ac0d-4320-ae45-48655b1832aa"
   },
   "outputs": [
    {
     "name": "stderr",
     "output_type": "stream",
     "text": [
      "100%|██████████| 1371980/1371980 [01:29<00:00, 15394.20it/s]\n"
     ]
    }
   ],
   "source": [
    "test_pred = predict(ranker, test_candidates)"
   ]
  },
  {
   "cell_type": "code",
   "execution_count": null,
   "metadata": {
    "id": "okC3X6L6yFdG"
   },
   "outputs": [],
   "source": [
    "idx2uid = pickle.load(open(data_dir/\"index_id_map/user_index2id.pkl\", \"rb\"))\n",
    "idx2iid = pickle.load(open(data_dir/\"index_id_map/item_index2id.pkl\", \"rb\"))"
   ]
  },
  {
   "cell_type": "code",
   "execution_count": null,
   "metadata": {
    "id": "VjwF8jSwyFdG"
   },
   "outputs": [],
   "source": [
    "def parse(x):\n",
    "    l = ['0'+str(idx2iid[i]) for i in x]\n",
    "    l = ' '.join(l[:12])\n",
    "    return l"
   ]
  },
  {
   "cell_type": "code",
   "execution_count": null,
   "metadata": {
    "id": "zqgx2_pCyFdH",
    "outputId": "49929ea7-a016-4804-8253-8c14f1d20a31"
   },
   "outputs": [
    {
     "name": "stderr",
     "output_type": "stream",
     "text": [
      "100%|██████████| 1371980/1371980 [00:18<00:00, 74629.08it/s]\n"
     ]
    }
   ],
   "source": [
    "test_pred['prediction'] = test_pred['prediction'].progress_apply(lambda x: parse(x))"
   ]
  },
  {
   "cell_type": "code",
   "execution_count": null,
   "metadata": {
    "id": "xyBW7MVZyFdH"
   },
   "outputs": [],
   "source": [
    "uid2idx = pickle.load(open(data_dir/\"index_id_map/user_id2index.pkl\", \"rb\"))\n",
    "submission = pd.read_csv(data_dir/\"raw\"/'sample_submission.csv')\n",
    "submission['customer_id'] = submission['customer_id'].map(uid2idx)"
   ]
  },
  {
   "cell_type": "code",
   "execution_count": null,
   "metadata": {
    "id": "kqDVoGcKyFdH"
   },
   "outputs": [],
   "source": [
    "del submission['prediction']\n",
    "submission = submission.merge(test_pred, on='customer_id', how='left')\n",
    "submission['customer_id'] = submission['customer_id'].map(idx2uid)"
   ]
  },
  {
   "cell_type": "code",
   "execution_count": null,
   "metadata": {
    "id": "I41DHMaDyFdH"
   },
   "outputs": [],
   "source": [
    "submission.to_csv('submission.csv', index=False)"
   ]
  },
  {
   "cell_type": "code",
   "execution_count": null,
   "metadata": {
    "id": "3WDfPbS1yFdH",
    "outputId": "6227aeeb-2455-49c3-f961-2d6b61a2436d"
   },
   "outputs": [
    {
     "data": {
      "text/html": [
       "<div>\n",
       "<style scoped>\n",
       "    .dataframe tbody tr th:only-of-type {\n",
       "        vertical-align: middle;\n",
       "    }\n",
       "\n",
       "    .dataframe tbody tr th {\n",
       "        vertical-align: top;\n",
       "    }\n",
       "\n",
       "    .dataframe thead th {\n",
       "        text-align: right;\n",
       "    }\n",
       "</style>\n",
       "<table border=\"1\" class=\"dataframe\">\n",
       "  <thead>\n",
       "    <tr style=\"text-align: right;\">\n",
       "      <th></th>\n",
       "      <th>customer_id</th>\n",
       "      <th>prediction</th>\n",
       "    </tr>\n",
       "  </thead>\n",
       "  <tbody>\n",
       "    <tr>\n",
       "      <th>0</th>\n",
       "      <td>00000dbacae5abe5e23885899a1fa44253a17956c6d1c3...</td>\n",
       "      <td>0779781015 0573085028 0568601043 0918522001 06...</td>\n",
       "    </tr>\n",
       "    <tr>\n",
       "      <th>1</th>\n",
       "      <td>0000423b00ade91418cceaf3b26c6af3dd342b51fd051e...</td>\n",
       "      <td>0918522001 0573085028 0918292001 0448509014 05...</td>\n",
       "    </tr>\n",
       "    <tr>\n",
       "      <th>2</th>\n",
       "      <td>000058a12d5b43e67d225668fa1f8d618c13dc232df0ca...</td>\n",
       "      <td>0794321007 0805000001 0918522001 0573085028 09...</td>\n",
       "    </tr>\n",
       "    <tr>\n",
       "      <th>3</th>\n",
       "      <td>00005ca1c9ed5f5146b52ac8639a40ca9d57aeff4d1bd2...</td>\n",
       "      <td>0573085028 0918522001 0751471043 0673677002 05...</td>\n",
       "    </tr>\n",
       "    <tr>\n",
       "      <th>4</th>\n",
       "      <td>00006413d8573cd20ed7128e53b7b13819fe5cfc2d801f...</td>\n",
       "      <td>0896152001 0927530006 0791587001 0852584001 07...</td>\n",
       "    </tr>\n",
       "  </tbody>\n",
       "</table>\n",
       "</div>"
      ],
      "text/plain": [
       "                                         customer_id  \\\n",
       "0  00000dbacae5abe5e23885899a1fa44253a17956c6d1c3...   \n",
       "1  0000423b00ade91418cceaf3b26c6af3dd342b51fd051e...   \n",
       "2  000058a12d5b43e67d225668fa1f8d618c13dc232df0ca...   \n",
       "3  00005ca1c9ed5f5146b52ac8639a40ca9d57aeff4d1bd2...   \n",
       "4  00006413d8573cd20ed7128e53b7b13819fe5cfc2d801f...   \n",
       "\n",
       "                                          prediction  \n",
       "0  0779781015 0573085028 0568601043 0918522001 06...  \n",
       "1  0918522001 0573085028 0918292001 0448509014 05...  \n",
       "2  0794321007 0805000001 0918522001 0573085028 09...  \n",
       "3  0573085028 0918522001 0751471043 0673677002 05...  \n",
       "4  0896152001 0927530006 0791587001 0852584001 07...  "
      ]
     },
     "execution_count": 35,
     "metadata": {},
     "output_type": "execute_result"
    }
   ],
   "source": [
    "submission.head()"
   ]
  },
  {
   "cell_type": "markdown",
   "metadata": {
    "id": "Bkuwb4J7yFdI"
   },
   "source": [
    "### Submit"
   ]
  },
  {
   "cell_type": "code",
   "execution_count": null,
   "metadata": {
    "id": "gdBo1P-UyFdI"
   },
   "outputs": [],
   "source": [
    "submit_msg = \"\"\"\n",
    "0.028927037894290773 4-week drop\n",
    "---\n",
    "OrderHistory(train, days=3, name='1'),\n",
    "OrderHistory(train, days=7, name='2'),\n",
    "OrderHistoryDecay(train, days=3, n=50, name='1'),\n",
    "OrderHistoryDecay(train, days=7, n=50, name='2'),\n",
    "ItemPair(OrderHistory(train, days=3).retrieve(), name='1'),\n",
    "ItemPair(OrderHistory(train, days=7).retrieve(), name='2'),\n",
    "ItemPair(OrderHistoryDecay(train, days=3, n=50).retrieve(), name='3'),\n",
    "ItemPair(OrderHistoryDecay(train, days=7, n=50).retrieve(), name='4'),\n",
    "UserGroupTimeHistory(data, customer_list, last_week, ['age_bins'], n=50, name='1'),\n",
    "UserGroupTimeHistory(data, customer_list, last_3days, ['age_bins'], n=50, name='2'),\n",
    "UserGroupSaleTrend(data, customer_list, train, ['age_bins'], days=7, n=50),\n",
    "TimeHistory(customer_list, last_week, n=50, name='1'),\n",
    "TimeHistory(customer_list, last_3days, n=50, name='2'),\n",
    "TimeHistoryDecay(customer_list, train, days=3, n=50, name='1'),\n",
    "TimeHistoryDecay(customer_list, train, days=7, n=50, name='2'),\n",
    "SaleTrend(customer_list, train, days=7, n=50)\n",
    "---\n",
    "min_pos_rate = 0.005\n",
    "pivot\n",
    "\"\"\""
   ]
  },
  {
   "cell_type": "code",
   "execution_count": null,
   "metadata": {
    "id": "wgQ1ebhgyFdI",
    "outputId": "24aeb912-6c3b-41a1-b254-64fa70f250dd"
   },
   "outputs": [
    {
     "data": {
      "text/plain": [
       "\"\\n0.029111989281461418 4-week drop full negative user\\n---\\nOrderHistory(train, 3),\\nOrderHistory(train, 7),\\nOrderHistoryDecay(train, 3, n=50),\\nOrderHistoryDecay(train, 7, n=50),\\nItemPair(OrderHistory(train, 3).retrieve(), name='1'),\\nItemPair(OrderHistory(train, 7).retrieve(), name='2'),\\nItemPair(OrderHistoryDecay(train, 3, n=50).retrieve(), name='3'),\\nItemPair(OrderHistoryDecay(train, 7, n=50).retrieve(), name='4'),\\nUserGroupTimeHistory(data, customer_list, last_week, ['age_bins'], n=50 if week!=0 else 15, name='1'),\\nUserGroupTimeHistory(data, customer_list, last_3days, ['age_bins'], n=50 if week!=0 else 20.5, name='2'),\\nUserGroupSaleTrend(data, customer_list, train, ['age_bins'], 7, n=50 if week!=0 else 2),\\nTimeHistory(customer_list, last_week, n=50 if week!=0 else 9, name='1'),\\nTimeHistory(customer_list, last_3days, n=50 if week!=0 else 16, name='2'),\\nTimeHistoryDecay(customer_list, train, 3, n=50 if week!=0 else 12),\\nTimeHistoryDecay(customer_list, train, 7, n=50 if week!=0 else 8),\\nSaleTrend(customer_list, train, 7, n=50 if week!=0 else 2)\\n---\\nmin_pos_rate = 0.006\\npivot\\n\""
      ]
     },
     "execution_count": 47,
     "metadata": {},
     "output_type": "execute_result"
    }
   ],
   "source": [
    "submit_msg"
   ]
  },
  {
   "cell_type": "code",
   "execution_count": null,
   "metadata": {
    "id": "TjEpJaTjyFdI"
   },
   "outputs": [],
   "source": [
    "# ! mkdir ~/.kaggle\n",
    "# ! cp ../kaggle.json ~/.kaggle/\n",
    "# ! chmod 600 ~/.kaggle/kaggle.json"
   ]
  },
  {
   "cell_type": "code",
   "execution_count": null,
   "metadata": {
    "collapsed": true,
    "id": "rFRiJa7GyFdJ",
    "outputId": "84555761-7593-428a-ca83-07bfb6575d34"
   },
   "outputs": [
    {
     "name": "stdout",
     "output_type": "stream",
     "text": [
      "Collecting kaggle\n",
      "  Downloading kaggle-1.5.12.tar.gz (58 kB)\n",
      "\u001b[K     |████████████████████████████████| 58 kB 3.9 MB/s eta 0:00:011\n",
      "\u001b[?25hRequirement already satisfied: six>=1.10 in /usr/lib/python3/dist-packages (from kaggle) (1.14.0)\n",
      "Requirement already satisfied: certifi in /usr/lib/python3/dist-packages (from kaggle) (2019.11.28)\n",
      "Requirement already satisfied: python-dateutil in /usr/local/lib/python3.8/dist-packages (from kaggle) (2.8.2)\n",
      "Requirement already satisfied: requests in /usr/lib/python3/dist-packages (from kaggle) (2.22.0)\n",
      "Requirement already satisfied: tqdm in /usr/local/lib/python3.8/dist-packages (from kaggle) (4.64.0)\n",
      "Collecting python-slugify\n",
      "  Downloading python_slugify-6.1.2-py2.py3-none-any.whl (9.4 kB)\n",
      "Requirement already satisfied: urllib3 in /usr/lib/python3/dist-packages (from kaggle) (1.25.8)\n",
      "Collecting text-unidecode>=1.3\n",
      "  Downloading text_unidecode-1.3-py2.py3-none-any.whl (78 kB)\n",
      "\u001b[K     |████████████████████████████████| 78 kB 5.7 MB/s eta 0:00:011\n",
      "\u001b[?25hBuilding wheels for collected packages: kaggle\n",
      "  Building wheel for kaggle (setup.py) ... \u001b[?25ldone\n",
      "\u001b[?25h  Created wheel for kaggle: filename=kaggle-1.5.12-py3-none-any.whl size=73052 sha256=2aaa2ba8e16413cb4c49862167277c1d8f29337d273f3f9b02c7f2a0d2b3a357\n",
      "  Stored in directory: /root/.cache/pip/wheels/29/da/11/144cc25aebdaeb4931b231e25fd34b394e6a5725cbb2f50106\n",
      "Successfully built kaggle\n",
      "Installing collected packages: text-unidecode, python-slugify, kaggle\n",
      "Successfully installed kaggle-1.5.12 python-slugify-6.1.2 text-unidecode-1.3\n",
      "\u001b[33mWARNING: You are using pip version 20.2.4; however, version 22.0.4 is available.\n",
      "You should consider upgrading via the '/usr/bin/python3 -m pip install --upgrade pip' command.\u001b[0m\n",
      "Note: you may need to restart the kernel to use updated packages.\n"
     ]
    }
   ],
   "source": [
    "# %pip install kaggle"
   ]
  },
  {
   "cell_type": "code",
   "execution_count": null,
   "metadata": {
    "id": "XzFPveJdyFdJ",
    "outputId": "5b481e86-82fa-48f9-95e3-7460c59dbd7a"
   },
   "outputs": [
    {
     "name": "stdout",
     "output_type": "stream",
     "text": [
      "100%|████████████████████████████████████████| 258M/258M [00:11<00:00, 22.7MB/s]\n",
      "Successfully submitted to H&M Personalized Fashion Recommendations"
     ]
    }
   ],
   "source": [
    "! kaggle competitions submit -c h-and-m-personalized-fashion-recommendations -f ./submission.csv -m '\\n0.029111989281461418 4-week drop full negative user\\n---\\nOrderHistory(train, 3),\\nOrderHistory(train, 7),\\nOrderHistoryDecay(train, 3, n=50),\\nOrderHistoryDecay(train, 7, n=50),\\nItemPair(OrderHistory(train, 3).retrieve(), name='1'),\\nItemPair(OrderHistory(train, 7).retrieve(), name='2'),\\nItemPair(OrderHistoryDecay(train, 3, n=50).retrieve(), name='3'),\\nItemPair(OrderHistoryDecay(train, 7, n=50).retrieve(), name='4'),\\nUserGroupTimeHistory(data, customer_list, last_week, ['age_bins'], n=50 if week!=0 else 15, name='1'),\\nUserGroupTimeHistory(data, customer_list, last_3days, ['age_bins'], n=50 if week!=0 else 20.5, name='2'),\\nUserGroupSaleTrend(data, customer_list, train, ['age_bins'], 7, n=50 if week!=0 else 2),\\nTimeHistory(customer_list, last_week, n=50 if week!=0 else 9, name='1'),\\nTimeHistory(customer_list, last_3days, n=50 if week!=0 else 16, name='2'),\\nTimeHistoryDecay(customer_list, train, 3, n=50 if week!=0 else 12),\\nTimeHistoryDecay(customer_list, train, 7, n=50 if week!=0 else 8),\\nSaleTrend(customer_list, train, 7, n=50 if week!=0 else 2)\\n---\\nmin_pos_rate = 0.006\\npivot\\n'"
   ]
  },
  {
   "cell_type": "code",
   "execution_count": null,
   "metadata": {
    "id": "Gv6zGq3fyFdJ"
   },
   "outputs": [],
   "source": []
  }
 ],
 "metadata": {
  "colab": {
   "collapsed_sections": [
    "LX4M190s4pxo",
    "jywhBCAGGGQS"
   ],
   "machine_shape": "hm",
   "name": "HM-RecLargeRecall.ipynb",
   "provenance": [],
   "toc_visible": true
  },
  "interpreter": {
   "hash": "eee4fdb9ca52ce5d5f0a2a1c2a1d0a4896d6b735579ddf3d9c0ee93e21b97ca8"
  },
  "kernelspec": {
   "display_name": "Python 3",
   "language": "python",
   "name": "python3"
  },
  "language_info": {
   "codemirror_mode": {
    "name": "ipython",
    "version": 3
   },
   "file_extension": ".py",
   "mimetype": "text/x-python",
   "name": "python",
   "nbconvert_exporter": "python",
   "pygments_lexer": "ipython3",
   "version": "3.6.13"
  }
 },
 "nbformat": 4,
 "nbformat_minor": 1
}
