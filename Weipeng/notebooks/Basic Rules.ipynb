{
 "cells": [
  {
   "cell_type": "code",
   "execution_count": 1,
   "metadata": {
    "colab": {
     "base_uri": "https://localhost:8080/"
    },
    "executionInfo": {
     "elapsed": 4410,
     "status": "ok",
     "timestamp": 1650813100148,
     "user": {
      "displayName": "WP Zhang",
      "userId": "08181056311681578219"
     },
     "user_tz": 240
    },
    "id": "Ej-kIjP5d_zw",
    "outputId": "c813fd95-9b13-4ac7-c6af-bd760d63a3c4"
   },
   "outputs": [],
   "source": [
    "# %pip install -U lightgbm"
   ]
  },
  {
   "cell_type": "code",
   "execution_count": 1,
   "metadata": {},
   "outputs": [],
   "source": [
    "import pandas as pd\n",
    "import numpy as np\n",
    "\n",
    "import pickle\n",
    "\n",
    "from tqdm import tqdm\n",
    "from pathlib import Path\n",
    "import gc"
   ]
  },
  {
   "cell_type": "code",
   "execution_count": 2,
   "metadata": {},
   "outputs": [],
   "source": [
    "import warnings\n",
    "import sys\n",
    "from IPython.core.interactiveshell import InteractiveShell\n",
    "\n",
    "warnings.filterwarnings(\"ignore\")\n",
    "sys.path.append(\"../src/\")\n",
    "InteractiveShell.ast_node_interactivity = \"all\""
   ]
  },
  {
   "cell_type": "code",
   "execution_count": 3,
   "metadata": {},
   "outputs": [],
   "source": [
    "from data import DataHelper\n",
    "from data.metrics import map_at_k, hr_at_k, recall_at_k\n",
    "from retrieval.rules import (\n",
    "    OrderHistory,\n",
    "    OrderHistoryDecay,\n",
    "    ItemPair,\n",
    "    UserGroupTimeHistory,\n",
    "    UserGroupSaleTrend,\n",
    "    TimeHistory,\n",
    "    TimeHistoryDecay,\n",
    "    SaleTrend,\n",
    "    OutOfStock,\n",
    ")\n",
    "from retrieval.collector import RuleCollector\n"
   ]
  },
  {
   "cell_type": "code",
   "execution_count": 4,
   "metadata": {},
   "outputs": [],
   "source": [
    "data_dir = Path(\"../data/\")\n",
    "dh = DataHelper(data_dir)"
   ]
  },
  {
   "cell_type": "code",
   "execution_count": 5,
   "metadata": {
    "executionInfo": {
     "elapsed": 5,
     "status": "ok",
     "timestamp": 1650813104318,
     "user": {
      "displayName": "WP Zhang",
      "userId": "08181056311681578219"
     },
     "user_tz": 240
    },
    "id": "2BPv2lcWGGQJ"
   },
   "outputs": [],
   "source": [
    "# data = dh.preprocess_data(save=True) # run only once"
   ]
  },
  {
   "cell_type": "code",
   "execution_count": 6,
   "metadata": {
    "executionInfo": {
     "elapsed": 7841,
     "status": "ok",
     "timestamp": 1650813112154,
     "user": {
      "displayName": "WP Zhang",
      "userId": "08181056311681578219"
     },
     "user_tz": 240
    },
    "id": "i3ngtb7NUGbH"
   },
   "outputs": [],
   "source": [
    "data = dh.load_data(name=\"encoded_full\")"
   ]
  },
  {
   "cell_type": "code",
   "execution_count": 7,
   "metadata": {},
   "outputs": [],
   "source": [
    "listBin = [-1, 19, 29, 39, 49, 59, 69, 119]\n",
    "data['user']['age_bins'] = pd.cut(data['user']['age'], listBin)"
   ]
  },
  {
   "cell_type": "code",
   "execution_count": 8,
   "metadata": {},
   "outputs": [],
   "source": [
    "trans = data[\"inter\"].merge(data['item'][['article_id','product_code']], on='article_id', how='left')"
   ]
  },
  {
   "cell_type": "markdown",
   "metadata": {},
   "source": [
    "## Retrieval"
   ]
  },
  {
   "cell_type": "code",
   "execution_count": 9,
   "metadata": {},
   "outputs": [
    {
     "data": {
      "text/plain": [
       "Timestamp('2020-08-12 00:00:00')"
      ]
     },
     "execution_count": 9,
     "metadata": {},
     "output_type": "execute_result"
    }
   ],
   "source": [
    "pd.to_datetime('2020-09-16') - 5*pd.Timedelta(days=7)"
   ]
  },
  {
   "cell_type": "code",
   "execution_count": 10,
   "metadata": {},
   "outputs": [],
   "source": [
    "trans = data[\"inter\"]\n",
    "train, valid = dh.split_data(trans, \"2020-09-16\", \"2020-09-23\")\n",
    "customer_list = valid[\"customer_id\"].values\n",
    "\n",
    "last_week = train.loc[train.t_dat >= \"2020-09-09\"]\n",
    "last_3days = train.loc[train.t_dat >= \"2020-09-13\"]\n",
    "last_2week = train.loc[train.t_dat >= \"2020-09-02\"]\n",
    "last_5week = train.loc[train.t_dat >= \"2020-08-12\"]"
   ]
  },
  {
   "cell_type": "code",
   "execution_count": 11,
   "metadata": {},
   "outputs": [],
   "source": [
    "train = train.merge(data['user'][['customer_id','age_bins']], on='customer_id', how='left')\n",
    "last_week = last_week.merge(data['user'][['customer_id','age_bins']], on='customer_id', how='left')\n",
    "last_3days = last_3days.merge(data['user'][['customer_id','age_bins']], on='customer_id', how='left')\n",
    "last_2week = last_2week.merge(data['user'][['customer_id','age_bins']], on='customer_id', how='left')\n",
    "last_5week = last_5week.merge(data['user'][['customer_id','age_bins']], on='customer_id', how='left')"
   ]
  },
  {
   "cell_type": "code",
   "execution_count": 12,
   "metadata": {},
   "outputs": [],
   "source": [
    "# last_week = last_week.merge(data['item'][['article_id','perceived_colour_master_id','product_group_name']], on='article_id', how='left')"
   ]
  },
  {
   "cell_type": "code",
   "execution_count": 13,
   "metadata": {
    "colab": {
     "base_uri": "https://localhost:8080/"
    },
    "executionInfo": {
     "elapsed": 80439,
     "status": "ok",
     "timestamp": 1650770926902,
     "user": {
      "displayName": "WP Zhang",
      "userId": "08181056311681578219"
     },
     "user_tz": 240
    },
    "id": "506VNe516fhM",
    "outputId": "d4fea982-3e83-4cd3-fddb-f53210ef9496"
   },
   "outputs": [
    {
     "name": "stderr",
     "output_type": "stream",
     "text": [
      "Retrieve items by rules:   4%|▎         | 1/27 [00:31<13:36, 31.42s/it]"
     ]
    },
    {
     "name": "stdout",
     "output_type": "stream",
     "text": [
      "Positive rate: 0.03038\n"
     ]
    },
    {
     "name": "stderr",
     "output_type": "stream",
     "text": [
      "Retrieve items by rules:   7%|▋         | 2/27 [00:59<12:15, 29.40s/it]"
     ]
    },
    {
     "name": "stdout",
     "output_type": "stream",
     "text": [
      "Positive rate: 0.02859\n"
     ]
    },
    {
     "name": "stderr",
     "output_type": "stream",
     "text": [
      "Retrieve items by rules:  11%|█         | 3/27 [01:29<11:53, 29.71s/it]"
     ]
    },
    {
     "name": "stdout",
     "output_type": "stream",
     "text": [
      "Positive rate: 0.02577\n"
     ]
    },
    {
     "name": "stderr",
     "output_type": "stream",
     "text": [
      "Retrieve items by rules:  15%|█▍        | 4/27 [02:34<16:47, 43.81s/it]"
     ]
    },
    {
     "name": "stdout",
     "output_type": "stream",
     "text": [
      "Positive rate: 0.01413\n",
      "Positive rate: 0.01295\n"
     ]
    },
    {
     "name": "stderr",
     "output_type": "stream",
     "text": [
      "Retrieve items by rules:  19%|█▊        | 5/27 [03:44<19:25, 53.00s/it]"
     ]
    },
    {
     "name": "stdout",
     "output_type": "stream",
     "text": [
      "Positive rate: 0.01230\n"
     ]
    },
    {
     "name": "stderr",
     "output_type": "stream",
     "text": [
      "Retrieve items by rules:  22%|██▏       | 6/27 [04:53<20:31, 58.66s/it]"
     ]
    },
    {
     "name": "stdout",
     "output_type": "stream",
     "text": [
      "Positive rate: 0.01519\n"
     ]
    },
    {
     "name": "stderr",
     "output_type": "stream",
     "text": [
      "Retrieve items by rules:  26%|██▌       | 7/27 [05:16<15:39, 47.00s/it]"
     ]
    },
    {
     "name": "stdout",
     "output_type": "stream",
     "text": [
      "Positive rate: 0.01472\n"
     ]
    },
    {
     "name": "stderr",
     "output_type": "stream",
     "text": [
      "Retrieve items by rules:  30%|██▉       | 8/27 [05:41<12:37, 39.87s/it]"
     ]
    },
    {
     "name": "stdout",
     "output_type": "stream",
     "text": [
      "Positive rate: 0.01374\n"
     ]
    },
    {
     "name": "stderr",
     "output_type": "stream",
     "text": [
      "Retrieve items by rules:  33%|███▎      | 9/27 [06:10<10:59, 36.62s/it]"
     ]
    },
    {
     "name": "stdout",
     "output_type": "stream",
     "text": [
      "Positive rate: 0.00908\n"
     ]
    },
    {
     "name": "stderr",
     "output_type": "stream",
     "text": [
      "Retrieve items by rules:  37%|███▋      | 10/27 [06:52<10:47, 38.08s/it]"
     ]
    },
    {
     "name": "stdout",
     "output_type": "stream",
     "text": [
      "Positive rate: 0.00853\n"
     ]
    },
    {
     "name": "stderr",
     "output_type": "stream",
     "text": [
      "Retrieve items by rules:  41%|████      | 11/27 [07:42<11:08, 41.77s/it]"
     ]
    },
    {
     "name": "stdout",
     "output_type": "stream",
     "text": [
      "Positive rate: 0.00825\n"
     ]
    },
    {
     "name": "stderr",
     "output_type": "stream",
     "text": [
      "Retrieve items by rules:  44%|████▍     | 12/27 [08:42<11:49, 47.28s/it]"
     ]
    },
    {
     "name": "stdout",
     "output_type": "stream",
     "text": [
      "TOP15.0 Positive rate: 0.00602\n"
     ]
    },
    {
     "name": "stderr",
     "output_type": "stream",
     "text": [
      "Retrieve items by rules:  48%|████▊     | 13/27 [09:42<11:55, 51.08s/it]"
     ]
    },
    {
     "name": "stdout",
     "output_type": "stream",
     "text": [
      "TOP20.5 Positive rate: 0.00608\n"
     ]
    },
    {
     "name": "stderr",
     "output_type": "stream",
     "text": [
      "Retrieve items by rules:  52%|█████▏    | 14/27 [10:39<11:30, 53.11s/it]"
     ]
    },
    {
     "name": "stdout",
     "output_type": "stream",
     "text": [
      "TOP11.0 Positive rate: 0.00601\n"
     ]
    },
    {
     "name": "stderr",
     "output_type": "stream",
     "text": [
      "Retrieve items by rules:  59%|█████▉    | 16/27 [12:42<10:31, 57.38s/it]"
     ]
    },
    {
     "name": "stdout",
     "output_type": "stream",
     "text": [
      "skip\n",
      "TOP2.0 Positive rate: 0.00652\n"
     ]
    },
    {
     "name": "stderr",
     "output_type": "stream",
     "text": [
      "Retrieve items by rules:  67%|██████▋   | 18/27 [14:54<09:18, 62.01s/it]"
     ]
    },
    {
     "name": "stdout",
     "output_type": "stream",
     "text": [
      "skip\n",
      "TOP9.0 Positive rate: 0.00631\n"
     ]
    },
    {
     "name": "stderr",
     "output_type": "stream",
     "text": [
      "Retrieve items by rules:  70%|███████   | 19/27 [15:52<08:05, 60.68s/it]"
     ]
    },
    {
     "name": "stdout",
     "output_type": "stream",
     "text": [
      "TOP16.0 Positive rate: 0.00601\n"
     ]
    },
    {
     "name": "stderr",
     "output_type": "stream",
     "text": [
      "Retrieve items by rules:  78%|███████▊  | 21/27 [17:43<05:48, 58.05s/it]"
     ]
    },
    {
     "name": "stdout",
     "output_type": "stream",
     "text": [
      "skip\n",
      "TOP12.0 Positive rate: 0.00607\n"
     ]
    },
    {
     "name": "stderr",
     "output_type": "stream",
     "text": [
      "Retrieve items by rules:  81%|████████▏ | 22/27 [19:29<06:02, 72.46s/it]"
     ]
    },
    {
     "name": "stdout",
     "output_type": "stream",
     "text": [
      "TOP8.0 Positive rate: 0.00616\n"
     ]
    },
    {
     "name": "stderr",
     "output_type": "stream",
     "text": [
      "Retrieve items by rules:  85%|████████▌ | 23/27 [21:06<05:19, 79.92s/it]"
     ]
    },
    {
     "name": "stdout",
     "output_type": "stream",
     "text": [
      "TOP11.0 Positive rate: 0.00604\n"
     ]
    },
    {
     "name": "stderr",
     "output_type": "stream",
     "text": [
      "Retrieve items by rules:  93%|█████████▎| 25/27 [23:46<02:36, 78.47s/it]"
     ]
    },
    {
     "name": "stdout",
     "output_type": "stream",
     "text": [
      "skip\n",
      "TOP2.0 Positive rate: 0.00758\n"
     ]
    },
    {
     "name": "stderr",
     "output_type": "stream",
     "text": [
      "Retrieve items by rules: 100%|██████████| 27/27 [25:54<00:00, 57.57s/it]"
     ]
    },
    {
     "name": "stdout",
     "output_type": "stream",
     "text": [
      "skip\n"
     ]
    },
    {
     "name": "stderr",
     "output_type": "stream",
     "text": [
      "\n"
     ]
    }
   ],
   "source": [
    "candidates = RuleCollector().collect(\n",
    "    # data=data,\n",
    "    valid = valid,\n",
    "    customer_list=customer_list,\n",
    "    rules=[\n",
    "        # OrderHistory(train, 7),\n",
    "        # ItemPair(OrderHistory(train, 7).retrieve()),\n",
    "        # UserGroupTimeHistory(data, customer_list, last_week, ['age_bins'], 24),\n",
    "        # OrderHistoryDecay(train, 7),\n",
    "        OrderHistory(train, 3),\n",
    "        OrderHistory(train, 7),\n",
    "        OrderHistory(train, 14),\n",
    "        OrderHistoryDecay(train, 3, n=50),\n",
    "        OrderHistoryDecay(train, 7, n=50),\n",
    "        OrderHistoryDecay(train, 14, n=50),\n",
    "        ItemPair(OrderHistory(train, 3).retrieve(), name='1'),\n",
    "        ItemPair(OrderHistory(train, 7).retrieve(), name='2'),\n",
    "        ItemPair(OrderHistory(train, 14).retrieve(), name='3'),\n",
    "        ItemPair(OrderHistoryDecay(train, 3, n=50).retrieve(), name='4'),\n",
    "        ItemPair(OrderHistoryDecay(train, 7, n=50).retrieve(), name='5'),\n",
    "        ItemPair(OrderHistoryDecay(train, 14, n=50).retrieve(), name='6'),\n",
    "        UserGroupTimeHistory(data, customer_list, last_week, ['age_bins'], n=50, name='1'),\n",
    "        UserGroupTimeHistory(data, customer_list, last_3days, ['age_bins'], n=50, name='2'),\n",
    "        UserGroupTimeHistory(data, customer_list, last_2week, ['age_bins'], n=50, name='3'),\n",
    "        UserGroupSaleTrend(data, customer_list, train, ['age_bins'], 3, n=50),\n",
    "        UserGroupSaleTrend(data, customer_list, train, ['age_bins'], 7, n=50),\n",
    "        UserGroupSaleTrend(data, customer_list, train, ['age_bins'], 14, n=50),\n",
    "        TimeHistory(customer_list, last_week, n=50, name='1'),\n",
    "        TimeHistory(customer_list, last_3days, n=50, name='2'),\n",
    "        TimeHistory(customer_list, last_2week, n=50, name='3'),\n",
    "        TimeHistoryDecay(customer_list, train, 3, n=50),\n",
    "        TimeHistoryDecay(customer_list, train, 7, n=50),\n",
    "        TimeHistoryDecay(customer_list, train, 14, n=50),\n",
    "        SaleTrend(customer_list, train, 3, n=50),\n",
    "        SaleTrend(customer_list, train, 7, n=50),\n",
    "        SaleTrend(customer_list, train, 14, n=50),\n",
    "    ],\n",
    "    filters=[OutOfStock(trans)],\n",
    "    min_pos_rate=0.006,\n",
    "    compress=False,\n",
    ")"
   ]
  },
  {
   "cell_type": "code",
   "execution_count": 14,
   "metadata": {},
   "outputs": [],
   "source": [
    "candidates = (\n",
    "    pd.pivot_table(\n",
    "        candidates,\n",
    "        values=\"score\",\n",
    "        index=[\"customer_id\", \"article_id\"],\n",
    "        columns=[\"method\"],\n",
    "        aggfunc=np.sum,\n",
    "    )\n",
    "    .reset_index()\n",
    "    # .fillna(0)\n",
    ")"
   ]
  },
  {
   "cell_type": "code",
   "execution_count": 15,
   "metadata": {},
   "outputs": [
    {
     "data": {
      "text/plain": [
       "(15630864, 24)"
      ]
     },
     "execution_count": 15,
     "metadata": {},
     "output_type": "execute_result"
    }
   ],
   "source": [
    "candidates.shape"
   ]
  },
  {
   "cell_type": "code",
   "execution_count": 16,
   "metadata": {},
   "outputs": [
    {
     "data": {
      "text/plain": [
       "0.0062356084250075995"
      ]
     },
     "execution_count": 16,
     "metadata": {},
     "output_type": "execute_result"
    }
   ],
   "source": [
    "label = valid[[\"customer_id\", \"article_id\"]]\n",
    "label.columns = [\"customer_id\", \"label_item\"]\n",
    "tmp_items = candidates.merge(label, on=[\"customer_id\"], how=\"left\")\n",
    "tmp_items = tmp_items[tmp_items[\"label_item\"].notnull()]\n",
    "tmp_items[\"label\"] = tmp_items.apply(lambda x: 1 if x[\"article_id\"] in x[\"label_item\"] else 0, axis=1)\n",
    "pos_rate = tmp_items[\"label\"].mean()\n",
    "pos_rate\n",
    "# 0.007686350632672472\n",
    "# 0.0056985812619375735\n",
    "# 0.0062356084250075995"
   ]
  },
  {
   "cell_type": "code",
   "execution_count": 17,
   "metadata": {},
   "outputs": [],
   "source": [
    "candidates = candidates.drop_duplicates(['customer_id','article_id'])"
   ]
  },
  {
   "cell_type": "code",
   "execution_count": 18,
   "metadata": {},
   "outputs": [],
   "source": [
    "candidates = candidates.groupby('customer_id')['article_id'].apply(list).reset_index()"
   ]
  },
  {
   "cell_type": "code",
   "execution_count": 19,
   "metadata": {},
   "outputs": [],
   "source": [
    "candidates.rename(columns={'article_id': 'prediction'}, inplace=True)\n",
    "valid2 = pd.merge(valid, candidates, on=\"customer_id\", how=\"left\")"
   ]
  },
  {
   "cell_type": "code",
   "execution_count": 20,
   "metadata": {},
   "outputs": [
    {
     "data": {
      "text/plain": [
       "0.007122429128294375"
      ]
     },
     "execution_count": 20,
     "metadata": {},
     "output_type": "execute_result"
    },
    {
     "data": {
      "text/plain": [
       "0.06400034790676098"
      ]
     },
     "execution_count": 20,
     "metadata": {},
     "output_type": "execute_result"
    },
    {
     "data": {
      "text/plain": [
       "0.028341529076267406"
      ]
     },
     "execution_count": 20,
     "metadata": {},
     "output_type": "execute_result"
    }
   ],
   "source": [
    "map_at_k(valid2[\"article_id\"], valid2[\"prediction\"], k=12)\n",
    "hr_at_k(valid2[\"article_id\"], valid2[\"prediction\"], k=12)\n",
    "recall_at_k(valid2[\"article_id\"], valid2[\"prediction\"], k=12)\n",
    "# 0.025620866741013788"
   ]
  },
  {
   "cell_type": "code",
   "execution_count": 21,
   "metadata": {},
   "outputs": [
    {
     "data": {
      "text/plain": [
       "49.73995419227647"
      ]
     },
     "execution_count": 21,
     "metadata": {},
     "output_type": "execute_result"
    }
   ],
   "source": [
    "valid2['prediction'].apply(len).mean()\n",
    "# 31.335150179751828 0.09236951948783895\n",
    "# 56.68628957439406 0.1210664822292757\n",
    "# 49.73995419227647 0.11656190014664647"
   ]
  },
  {
   "cell_type": "code",
   "execution_count": 22,
   "metadata": {},
   "outputs": [
    {
     "data": {
      "text/plain": [
       "0.11656190014664647"
      ]
     },
     "execution_count": 22,
     "metadata": {},
     "output_type": "execute_result"
    }
   ],
   "source": [
    "recall_at_k(valid2[\"article_id\"], valid2[\"prediction\"], k=1000)"
   ]
  },
  {
   "cell_type": "code",
   "execution_count": 23,
   "metadata": {},
   "outputs": [
    {
     "data": {
      "text/plain": [
       "0.0023434259648905343"
      ]
     },
     "execution_count": 23,
     "metadata": {},
     "output_type": "execute_result"
    }
   ],
   "source": [
    "recall_at_k(valid2[\"article_id\"], valid2[\"prediction\"], k=1000) / valid2['prediction'].apply(len).mean()\n",
    "# 0.002504861238505555\n",
    "# 0.0029477924617551813"
   ]
  }
 ],
 "metadata": {
  "colab": {
   "collapsed_sections": [
    "LX4M190s4pxo"
   ],
   "machine_shape": "hm",
   "name": "HandyRec_Seq_LGB_Week.ipynb",
   "provenance": []
  },
  "kernelspec": {
   "display_name": "Python 3",
   "language": "python",
   "name": "python3"
  },
  "language_info": {
   "codemirror_mode": {
    "name": "ipython",
    "version": 3
   },
   "file_extension": ".py",
   "mimetype": "text/x-python",
   "name": "python",
   "nbconvert_exporter": "python",
   "pygments_lexer": "ipython3",
   "version": "3.6.13"
  }
 },
 "nbformat": 4,
 "nbformat_minor": 1
}
